{
 "cells": [
  {
   "cell_type": "code",
   "execution_count": 1,
   "metadata": {},
   "outputs": [
    {
     "name": "stderr",
     "output_type": "stream",
     "text": [
      "\n",
      "Attaching package: ‘httr’\n",
      "\n",
      "The following object is masked from ‘package:caret’:\n",
      "\n",
      "    progress\n",
      "\n"
     ]
    }
   ],
   "source": [
    "\n",
    "library(caret, quiet=TRUE);\n",
    "library(base64enc)\n",
    "library(httr)\n"
   ]
  },
  {
   "cell_type": "markdown",
   "metadata": {},
   "source": [
    "# Build a Model"
   ]
  },
  {
   "cell_type": "code",
   "execution_count": 5,
   "metadata": {},
   "outputs": [],
   "source": [
    "\n",
    "## binary classification in iris dataset:\n",
    "    \n",
    "num_class <- 3\n",
    "lb <- as.numeric(iris$Species) - 1\n",
    "\n",
    "iris$Species2 = as.factor(sapply(iris$Species , function(x) if( x == 'setosa') 'yes' else 'no'))\n",
    "dataset = as.matrix(iris[, 1:4])\n",
    "    \n",
    "create_model  =  function() {\n",
    "\n",
    "    set.seed(1960)\n",
    "    formula <- as.formula(Species2 ~ Sepal.Length + Sepal.Width + Petal.Length + Petal.Width)\n",
    "    model <- train(formula, iris, method = \"glmnet\", trace=FALSE)\n",
    "    return(model)\n",
    "}"
   ]
  },
  {
   "cell_type": "code",
   "execution_count": 6,
   "metadata": {},
   "outputs": [
    {
     "data": {
      "text/html": [
       "<table>\n",
       "<thead><tr><th scope=col>Sepal.Length</th><th scope=col>Sepal.Width</th><th scope=col>Petal.Length</th><th scope=col>Petal.Width</th><th scope=col>Species</th><th scope=col>Species2</th></tr></thead>\n",
       "<tbody>\n",
       "\t<tr><td>5.1   </td><td>3.5   </td><td>1.4   </td><td>0.2   </td><td>setosa</td><td>yes   </td></tr>\n",
       "\t<tr><td>4.9   </td><td>3.0   </td><td>1.4   </td><td>0.2   </td><td>setosa</td><td>yes   </td></tr>\n",
       "\t<tr><td>4.7   </td><td>3.2   </td><td>1.3   </td><td>0.2   </td><td>setosa</td><td>yes   </td></tr>\n",
       "\t<tr><td>4.6   </td><td>3.1   </td><td>1.5   </td><td>0.2   </td><td>setosa</td><td>yes   </td></tr>\n",
       "\t<tr><td>5.0   </td><td>3.6   </td><td>1.4   </td><td>0.2   </td><td>setosa</td><td>yes   </td></tr>\n",
       "\t<tr><td>5.4   </td><td>3.9   </td><td>1.7   </td><td>0.4   </td><td>setosa</td><td>yes   </td></tr>\n",
       "</tbody>\n",
       "</table>\n"
      ],
      "text/latex": [
       "\\begin{tabular}{r|llllll}\n",
       " Sepal.Length & Sepal.Width & Petal.Length & Petal.Width & Species & Species2\\\\\n",
       "\\hline\n",
       "\t 5.1    & 3.5    & 1.4    & 0.2    & setosa & yes   \\\\\n",
       "\t 4.9    & 3.0    & 1.4    & 0.2    & setosa & yes   \\\\\n",
       "\t 4.7    & 3.2    & 1.3    & 0.2    & setosa & yes   \\\\\n",
       "\t 4.6    & 3.1    & 1.5    & 0.2    & setosa & yes   \\\\\n",
       "\t 5.0    & 3.6    & 1.4    & 0.2    & setosa & yes   \\\\\n",
       "\t 5.4    & 3.9    & 1.7    & 0.4    & setosa & yes   \\\\\n",
       "\\end{tabular}\n"
      ],
      "text/markdown": [
       "\n",
       "Sepal.Length | Sepal.Width | Petal.Length | Petal.Width | Species | Species2 | \n",
       "|---|---|---|---|---|---|\n",
       "| 5.1    | 3.5    | 1.4    | 0.2    | setosa | yes    | \n",
       "| 4.9    | 3.0    | 1.4    | 0.2    | setosa | yes    | \n",
       "| 4.7    | 3.2    | 1.3    | 0.2    | setosa | yes    | \n",
       "| 4.6    | 3.1    | 1.5    | 0.2    | setosa | yes    | \n",
       "| 5.0    | 3.6    | 1.4    | 0.2    | setosa | yes    | \n",
       "| 5.4    | 3.9    | 1.7    | 0.4    | setosa | yes    | \n",
       "\n",
       "\n"
      ],
      "text/plain": [
       "  Sepal.Length Sepal.Width Petal.Length Petal.Width Species Species2\n",
       "1 5.1          3.5         1.4          0.2         setosa  yes     \n",
       "2 4.9          3.0         1.4          0.2         setosa  yes     \n",
       "3 4.7          3.2         1.3          0.2         setosa  yes     \n",
       "4 4.6          3.1         1.5          0.2         setosa  yes     \n",
       "5 5.0          3.6         1.4          0.2         setosa  yes     \n",
       "6 5.4          3.9         1.7          0.4         setosa  yes     "
      ]
     },
     "metadata": {},
     "output_type": "display_data"
    }
   ],
   "source": [
    "head(iris)"
   ]
  },
  {
   "cell_type": "code",
   "execution_count": 7,
   "metadata": {},
   "outputs": [
    {
     "name": "stderr",
     "output_type": "stream",
     "text": [
      "Warning message:\n",
      "“model fit failed for Resample01: alpha=0.10, lambda=0.087 Error in (function (x, y, family = c(\"gaussian\", \"binomial\", \"poisson\",  : \n",
      "  unused argument (trace = FALSE)\n",
      "”Warning message:\n",
      "“model fit failed for Resample01: alpha=0.55, lambda=0.087 Error in (function (x, y, family = c(\"gaussian\", \"binomial\", \"poisson\",  : \n",
      "  unused argument (trace = FALSE)\n",
      "”Warning message:\n",
      "“model fit failed for Resample01: alpha=1.00, lambda=0.087 Error in (function (x, y, family = c(\"gaussian\", \"binomial\", \"poisson\",  : \n",
      "  unused argument (trace = FALSE)\n",
      "”Warning message:\n",
      "“model fit failed for Resample02: alpha=0.10, lambda=0.087 Error in (function (x, y, family = c(\"gaussian\", \"binomial\", \"poisson\",  : \n",
      "  unused argument (trace = FALSE)\n",
      "”Warning message:\n",
      "“model fit failed for Resample02: alpha=0.55, lambda=0.087 Error in (function (x, y, family = c(\"gaussian\", \"binomial\", \"poisson\",  : \n",
      "  unused argument (trace = FALSE)\n",
      "”Warning message:\n",
      "“model fit failed for Resample02: alpha=1.00, lambda=0.087 Error in (function (x, y, family = c(\"gaussian\", \"binomial\", \"poisson\",  : \n",
      "  unused argument (trace = FALSE)\n",
      "”Warning message:\n",
      "“model fit failed for Resample03: alpha=0.10, lambda=0.087 Error in (function (x, y, family = c(\"gaussian\", \"binomial\", \"poisson\",  : \n",
      "  unused argument (trace = FALSE)\n",
      "”Warning message:\n",
      "“model fit failed for Resample03: alpha=0.55, lambda=0.087 Error in (function (x, y, family = c(\"gaussian\", \"binomial\", \"poisson\",  : \n",
      "  unused argument (trace = FALSE)\n",
      "”Warning message:\n",
      "“model fit failed for Resample03: alpha=1.00, lambda=0.087 Error in (function (x, y, family = c(\"gaussian\", \"binomial\", \"poisson\",  : \n",
      "  unused argument (trace = FALSE)\n",
      "”Warning message:\n",
      "“model fit failed for Resample04: alpha=0.10, lambda=0.087 Error in (function (x, y, family = c(\"gaussian\", \"binomial\", \"poisson\",  : \n",
      "  unused argument (trace = FALSE)\n",
      "”Warning message:\n",
      "“model fit failed for Resample04: alpha=0.55, lambda=0.087 Error in (function (x, y, family = c(\"gaussian\", \"binomial\", \"poisson\",  : \n",
      "  unused argument (trace = FALSE)\n",
      "”Warning message:\n",
      "“model fit failed for Resample04: alpha=1.00, lambda=0.087 Error in (function (x, y, family = c(\"gaussian\", \"binomial\", \"poisson\",  : \n",
      "  unused argument (trace = FALSE)\n",
      "”Warning message:\n",
      "“model fit failed for Resample05: alpha=0.10, lambda=0.087 Error in (function (x, y, family = c(\"gaussian\", \"binomial\", \"poisson\",  : \n",
      "  unused argument (trace = FALSE)\n",
      "”Warning message:\n",
      "“model fit failed for Resample05: alpha=0.55, lambda=0.087 Error in (function (x, y, family = c(\"gaussian\", \"binomial\", \"poisson\",  : \n",
      "  unused argument (trace = FALSE)\n",
      "”Warning message:\n",
      "“model fit failed for Resample05: alpha=1.00, lambda=0.087 Error in (function (x, y, family = c(\"gaussian\", \"binomial\", \"poisson\",  : \n",
      "  unused argument (trace = FALSE)\n",
      "”Warning message:\n",
      "“model fit failed for Resample06: alpha=0.10, lambda=0.087 Error in (function (x, y, family = c(\"gaussian\", \"binomial\", \"poisson\",  : \n",
      "  unused argument (trace = FALSE)\n",
      "”Warning message:\n",
      "“model fit failed for Resample06: alpha=0.55, lambda=0.087 Error in (function (x, y, family = c(\"gaussian\", \"binomial\", \"poisson\",  : \n",
      "  unused argument (trace = FALSE)\n",
      "”Warning message:\n",
      "“model fit failed for Resample06: alpha=1.00, lambda=0.087 Error in (function (x, y, family = c(\"gaussian\", \"binomial\", \"poisson\",  : \n",
      "  unused argument (trace = FALSE)\n",
      "”Warning message:\n",
      "“model fit failed for Resample07: alpha=0.10, lambda=0.087 Error in (function (x, y, family = c(\"gaussian\", \"binomial\", \"poisson\",  : \n",
      "  unused argument (trace = FALSE)\n",
      "”Warning message:\n",
      "“model fit failed for Resample07: alpha=0.55, lambda=0.087 Error in (function (x, y, family = c(\"gaussian\", \"binomial\", \"poisson\",  : \n",
      "  unused argument (trace = FALSE)\n",
      "”Warning message:\n",
      "“model fit failed for Resample07: alpha=1.00, lambda=0.087 Error in (function (x, y, family = c(\"gaussian\", \"binomial\", \"poisson\",  : \n",
      "  unused argument (trace = FALSE)\n",
      "”Warning message:\n",
      "“model fit failed for Resample08: alpha=0.10, lambda=0.087 Error in (function (x, y, family = c(\"gaussian\", \"binomial\", \"poisson\",  : \n",
      "  unused argument (trace = FALSE)\n",
      "”Warning message:\n",
      "“model fit failed for Resample08: alpha=0.55, lambda=0.087 Error in (function (x, y, family = c(\"gaussian\", \"binomial\", \"poisson\",  : \n",
      "  unused argument (trace = FALSE)\n",
      "”Warning message:\n",
      "“model fit failed for Resample08: alpha=1.00, lambda=0.087 Error in (function (x, y, family = c(\"gaussian\", \"binomial\", \"poisson\",  : \n",
      "  unused argument (trace = FALSE)\n",
      "”Warning message:\n",
      "“model fit failed for Resample09: alpha=0.10, lambda=0.087 Error in (function (x, y, family = c(\"gaussian\", \"binomial\", \"poisson\",  : \n",
      "  unused argument (trace = FALSE)\n",
      "”Warning message:\n",
      "“model fit failed for Resample09: alpha=0.55, lambda=0.087 Error in (function (x, y, family = c(\"gaussian\", \"binomial\", \"poisson\",  : \n",
      "  unused argument (trace = FALSE)\n",
      "”Warning message:\n",
      "“model fit failed for Resample09: alpha=1.00, lambda=0.087 Error in (function (x, y, family = c(\"gaussian\", \"binomial\", \"poisson\",  : \n",
      "  unused argument (trace = FALSE)\n",
      "”Warning message:\n",
      "“model fit failed for Resample10: alpha=0.10, lambda=0.087 Error in (function (x, y, family = c(\"gaussian\", \"binomial\", \"poisson\",  : \n",
      "  unused argument (trace = FALSE)\n",
      "”Warning message:\n",
      "“model fit failed for Resample10: alpha=0.55, lambda=0.087 Error in (function (x, y, family = c(\"gaussian\", \"binomial\", \"poisson\",  : \n",
      "  unused argument (trace = FALSE)\n",
      "”Warning message:\n",
      "“model fit failed for Resample10: alpha=1.00, lambda=0.087 Error in (function (x, y, family = c(\"gaussian\", \"binomial\", \"poisson\",  : \n",
      "  unused argument (trace = FALSE)\n",
      "”Warning message:\n",
      "“model fit failed for Resample11: alpha=0.10, lambda=0.087 Error in (function (x, y, family = c(\"gaussian\", \"binomial\", \"poisson\",  : \n",
      "  unused argument (trace = FALSE)\n",
      "”Warning message:\n",
      "“model fit failed for Resample11: alpha=0.55, lambda=0.087 Error in (function (x, y, family = c(\"gaussian\", \"binomial\", \"poisson\",  : \n",
      "  unused argument (trace = FALSE)\n",
      "”Warning message:\n",
      "“model fit failed for Resample11: alpha=1.00, lambda=0.087 Error in (function (x, y, family = c(\"gaussian\", \"binomial\", \"poisson\",  : \n",
      "  unused argument (trace = FALSE)\n",
      "”Warning message:\n",
      "“model fit failed for Resample12: alpha=0.10, lambda=0.087 Error in (function (x, y, family = c(\"gaussian\", \"binomial\", \"poisson\",  : \n",
      "  unused argument (trace = FALSE)\n",
      "”Warning message:\n",
      "“model fit failed for Resample12: alpha=0.55, lambda=0.087 Error in (function (x, y, family = c(\"gaussian\", \"binomial\", \"poisson\",  : \n",
      "  unused argument (trace = FALSE)\n",
      "”Warning message:\n",
      "“model fit failed for Resample12: alpha=1.00, lambda=0.087 Error in (function (x, y, family = c(\"gaussian\", \"binomial\", \"poisson\",  : \n",
      "  unused argument (trace = FALSE)\n",
      "”Warning message:\n",
      "“model fit failed for Resample13: alpha=0.10, lambda=0.087 Error in (function (x, y, family = c(\"gaussian\", \"binomial\", \"poisson\",  : \n",
      "  unused argument (trace = FALSE)\n",
      "”Warning message:\n",
      "“model fit failed for Resample13: alpha=0.55, lambda=0.087 Error in (function (x, y, family = c(\"gaussian\", \"binomial\", \"poisson\",  : \n",
      "  unused argument (trace = FALSE)\n",
      "”Warning message:\n",
      "“model fit failed for Resample13: alpha=1.00, lambda=0.087 Error in (function (x, y, family = c(\"gaussian\", \"binomial\", \"poisson\",  : \n",
      "  unused argument (trace = FALSE)\n",
      "”Warning message:\n",
      "“model fit failed for Resample14: alpha=0.10, lambda=0.087 Error in (function (x, y, family = c(\"gaussian\", \"binomial\", \"poisson\",  : \n",
      "  unused argument (trace = FALSE)\n",
      "”Warning message:\n",
      "“model fit failed for Resample14: alpha=0.55, lambda=0.087 Error in (function (x, y, family = c(\"gaussian\", \"binomial\", \"poisson\",  : \n",
      "  unused argument (trace = FALSE)\n",
      "”Warning message:\n",
      "“model fit failed for Resample14: alpha=1.00, lambda=0.087 Error in (function (x, y, family = c(\"gaussian\", \"binomial\", \"poisson\",  : \n",
      "  unused argument (trace = FALSE)\n",
      "”Warning message:\n",
      "“model fit failed for Resample15: alpha=0.10, lambda=0.087 Error in (function (x, y, family = c(\"gaussian\", \"binomial\", \"poisson\",  : \n",
      "  unused argument (trace = FALSE)\n",
      "”Warning message:\n",
      "“model fit failed for Resample15: alpha=0.55, lambda=0.087 Error in (function (x, y, family = c(\"gaussian\", \"binomial\", \"poisson\",  : \n",
      "  unused argument (trace = FALSE)\n"
     ]
    },
    {
     "name": "stderr",
     "output_type": "stream",
     "text": [
      "”Warning message:\n",
      "“model fit failed for Resample15: alpha=1.00, lambda=0.087 Error in (function (x, y, family = c(\"gaussian\", \"binomial\", \"poisson\",  : \n",
      "  unused argument (trace = FALSE)\n",
      "”Warning message:\n",
      "“model fit failed for Resample16: alpha=0.10, lambda=0.087 Error in (function (x, y, family = c(\"gaussian\", \"binomial\", \"poisson\",  : \n",
      "  unused argument (trace = FALSE)\n",
      "”Warning message:\n",
      "“model fit failed for Resample16: alpha=0.55, lambda=0.087 Error in (function (x, y, family = c(\"gaussian\", \"binomial\", \"poisson\",  : \n",
      "  unused argument (trace = FALSE)\n",
      "”Warning message:\n",
      "“model fit failed for Resample16: alpha=1.00, lambda=0.087 Error in (function (x, y, family = c(\"gaussian\", \"binomial\", \"poisson\",  : \n",
      "  unused argument (trace = FALSE)\n",
      "”Warning message:\n",
      "“model fit failed for Resample17: alpha=0.10, lambda=0.087 Error in (function (x, y, family = c(\"gaussian\", \"binomial\", \"poisson\",  : \n",
      "  unused argument (trace = FALSE)\n",
      "”Warning message:\n",
      "“model fit failed for Resample17: alpha=0.55, lambda=0.087 Error in (function (x, y, family = c(\"gaussian\", \"binomial\", \"poisson\",  : \n",
      "  unused argument (trace = FALSE)\n",
      "”Warning message:\n",
      "“model fit failed for Resample17: alpha=1.00, lambda=0.087 Error in (function (x, y, family = c(\"gaussian\", \"binomial\", \"poisson\",  : \n",
      "  unused argument (trace = FALSE)\n",
      "”Warning message:\n",
      "“model fit failed for Resample18: alpha=0.10, lambda=0.087 Error in (function (x, y, family = c(\"gaussian\", \"binomial\", \"poisson\",  : \n",
      "  unused argument (trace = FALSE)\n",
      "”Warning message:\n",
      "“model fit failed for Resample18: alpha=0.55, lambda=0.087 Error in (function (x, y, family = c(\"gaussian\", \"binomial\", \"poisson\",  : \n",
      "  unused argument (trace = FALSE)\n",
      "”Warning message:\n",
      "“model fit failed for Resample18: alpha=1.00, lambda=0.087 Error in (function (x, y, family = c(\"gaussian\", \"binomial\", \"poisson\",  : \n",
      "  unused argument (trace = FALSE)\n",
      "”Warning message:\n",
      "“model fit failed for Resample19: alpha=0.10, lambda=0.087 Error in (function (x, y, family = c(\"gaussian\", \"binomial\", \"poisson\",  : \n",
      "  unused argument (trace = FALSE)\n",
      "”Warning message:\n",
      "“model fit failed for Resample19: alpha=0.55, lambda=0.087 Error in (function (x, y, family = c(\"gaussian\", \"binomial\", \"poisson\",  : \n",
      "  unused argument (trace = FALSE)\n",
      "”Warning message:\n",
      "“model fit failed for Resample19: alpha=1.00, lambda=0.087 Error in (function (x, y, family = c(\"gaussian\", \"binomial\", \"poisson\",  : \n",
      "  unused argument (trace = FALSE)\n",
      "”Warning message:\n",
      "“model fit failed for Resample20: alpha=0.10, lambda=0.087 Error in (function (x, y, family = c(\"gaussian\", \"binomial\", \"poisson\",  : \n",
      "  unused argument (trace = FALSE)\n",
      "”Warning message:\n",
      "“model fit failed for Resample20: alpha=0.55, lambda=0.087 Error in (function (x, y, family = c(\"gaussian\", \"binomial\", \"poisson\",  : \n",
      "  unused argument (trace = FALSE)\n",
      "”Warning message:\n",
      "“model fit failed for Resample20: alpha=1.00, lambda=0.087 Error in (function (x, y, family = c(\"gaussian\", \"binomial\", \"poisson\",  : \n",
      "  unused argument (trace = FALSE)\n",
      "”Warning message:\n",
      "“model fit failed for Resample21: alpha=0.10, lambda=0.087 Error in (function (x, y, family = c(\"gaussian\", \"binomial\", \"poisson\",  : \n",
      "  unused argument (trace = FALSE)\n",
      "”Warning message:\n",
      "“model fit failed for Resample21: alpha=0.55, lambda=0.087 Error in (function (x, y, family = c(\"gaussian\", \"binomial\", \"poisson\",  : \n",
      "  unused argument (trace = FALSE)\n",
      "”Warning message:\n",
      "“model fit failed for Resample21: alpha=1.00, lambda=0.087 Error in (function (x, y, family = c(\"gaussian\", \"binomial\", \"poisson\",  : \n",
      "  unused argument (trace = FALSE)\n",
      "”Warning message:\n",
      "“model fit failed for Resample22: alpha=0.10, lambda=0.087 Error in (function (x, y, family = c(\"gaussian\", \"binomial\", \"poisson\",  : \n",
      "  unused argument (trace = FALSE)\n",
      "”Warning message:\n",
      "“model fit failed for Resample22: alpha=0.55, lambda=0.087 Error in (function (x, y, family = c(\"gaussian\", \"binomial\", \"poisson\",  : \n",
      "  unused argument (trace = FALSE)\n",
      "”Warning message:\n",
      "“model fit failed for Resample22: alpha=1.00, lambda=0.087 Error in (function (x, y, family = c(\"gaussian\", \"binomial\", \"poisson\",  : \n",
      "  unused argument (trace = FALSE)\n",
      "”Warning message:\n",
      "“model fit failed for Resample23: alpha=0.10, lambda=0.087 Error in (function (x, y, family = c(\"gaussian\", \"binomial\", \"poisson\",  : \n",
      "  unused argument (trace = FALSE)\n",
      "”Warning message:\n",
      "“model fit failed for Resample23: alpha=0.55, lambda=0.087 Error in (function (x, y, family = c(\"gaussian\", \"binomial\", \"poisson\",  : \n",
      "  unused argument (trace = FALSE)\n",
      "”Warning message:\n",
      "“model fit failed for Resample23: alpha=1.00, lambda=0.087 Error in (function (x, y, family = c(\"gaussian\", \"binomial\", \"poisson\",  : \n",
      "  unused argument (trace = FALSE)\n",
      "”Warning message:\n",
      "“model fit failed for Resample24: alpha=0.10, lambda=0.087 Error in (function (x, y, family = c(\"gaussian\", \"binomial\", \"poisson\",  : \n",
      "  unused argument (trace = FALSE)\n",
      "”Warning message:\n",
      "“model fit failed for Resample24: alpha=0.55, lambda=0.087 Error in (function (x, y, family = c(\"gaussian\", \"binomial\", \"poisson\",  : \n",
      "  unused argument (trace = FALSE)\n",
      "”Warning message:\n",
      "“model fit failed for Resample24: alpha=1.00, lambda=0.087 Error in (function (x, y, family = c(\"gaussian\", \"binomial\", \"poisson\",  : \n",
      "  unused argument (trace = FALSE)\n",
      "”Warning message:\n",
      "“model fit failed for Resample25: alpha=0.10, lambda=0.087 Error in (function (x, y, family = c(\"gaussian\", \"binomial\", \"poisson\",  : \n",
      "  unused argument (trace = FALSE)\n",
      "”Warning message:\n",
      "“model fit failed for Resample25: alpha=0.55, lambda=0.087 Error in (function (x, y, family = c(\"gaussian\", \"binomial\", \"poisson\",  : \n",
      "  unused argument (trace = FALSE)\n",
      "”Warning message:\n",
      "“model fit failed for Resample25: alpha=1.00, lambda=0.087 Error in (function (x, y, family = c(\"gaussian\", \"binomial\", \"poisson\",  : \n",
      "  unused argument (trace = FALSE)\n",
      "”Warning message in nominalTrainWorkflow(x = x, y = y, wts = weights, info = trainInfo, :\n",
      "“There were missing values in resampled performance measures.”"
     ]
    },
    {
     "name": "stdout",
     "output_type": "stream",
     "text": [
      "Something is wrong; all the Accuracy metric values are missing:\n",
      "    Accuracy       Kappa    \n",
      " Min.   : NA   Min.   : NA  \n",
      " 1st Qu.: NA   1st Qu.: NA  \n",
      " Median : NA   Median : NA  \n",
      " Mean   :NaN   Mean   :NaN  \n",
      " 3rd Qu.: NA   3rd Qu.: NA  \n",
      " Max.   : NA   Max.   : NA  \n",
      " NA's   :9     NA's   :9    \n"
     ]
    },
    {
     "ename": "ERROR",
     "evalue": "Error: Stopping\n",
     "output_type": "error",
     "traceback": [
      "Error: Stopping\nTraceback:\n",
      "1. create_model()",
      "2. train(formula, iris, method = \"glmnet\", trace = FALSE)   # at line 14 of file <text>",
      "3. train.formula(formula, iris, method = \"glmnet\", trace = FALSE)",
      "4. train(x, y, weights = w, ...)",
      "5. train.default(x, y, weights = w, ...)",
      "6. stop(\"Stopping\", call. = FALSE)"
     ]
    }
   ],
   "source": [
    "# dataset\n",
    "model = create_model()\n",
    "# cat(model$feature_names)\n",
    "# plot(model)\n"
   ]
  },
  {
   "cell_type": "code",
   "execution_count": null,
   "metadata": {},
   "outputs": [],
   "source": [
    "pred <- predict(model, dataset , type=\"prob\")\n",
    "pred_labels <- predict(model, dataset , type=\"raw\")\n",
    "error_rate = sum(pred_labels != iris$Species2)/length(pred_labels)\n",
    "error_rate"
   ]
  },
  {
   "cell_type": "markdown",
   "metadata": {},
   "source": [
    "# SQL Code Generation"
   ]
  },
  {
   "cell_type": "code",
   "execution_count": null,
   "metadata": {},
   "outputs": [],
   "source": [
    "\n",
    "test_ws_sql_gen = function(mod) {\n",
    "    WS_URL = \"https://sklearn2sql.herokuapp.com/model\"\n",
    "    WS_URL = \"http://localhost:1888/model\"\n",
    "    model_serialized <- serialize(mod, NULL)\n",
    "    b64_data = base64encode(model_serialized)\n",
    "    data = list(Name = \"xgboost_test_model\", SerializedModel = b64_data , SQLDialect = \"postgresql\" , Mode=\"xgboost+r\")\n",
    "    r = POST(WS_URL, body = data, encode = \"json\", verbose())\n",
    "    # print(r)\n",
    "    content = content(r)\n",
    "    # print(content)\n",
    "    lSQL = content$model$SQLGenrationResult[[1]]$SQL # content[\"model\"][\"SQLGenrationResult\"][0][\"SQL\"]\n",
    "    return(lSQL);\n",
    "}"
   ]
  },
  {
   "cell_type": "code",
   "execution_count": null,
   "metadata": {},
   "outputs": [],
   "source": [
    "# labels(model$finalModel)"
   ]
  },
  {
   "cell_type": "code",
   "execution_count": null,
   "metadata": {
    "scrolled": false
   },
   "outputs": [],
   "source": [
    "lModelSQL = test_ws_sql_gen(model)\n",
    "cat(lModelSQL)"
   ]
  },
  {
   "cell_type": "markdown",
   "metadata": {},
   "source": [
    "# Execute the SQL Code"
   ]
  },
  {
   "cell_type": "code",
   "execution_count": null,
   "metadata": {},
   "outputs": [],
   "source": [
    "library(RODBC)\n",
    "conn = odbcConnect(\"pgsql\", uid=\"db\", pwd=\"db\", case=\"nochange\")\n",
    "odbcSetAutoCommit(conn , autoCommit = TRUE)"
   ]
  },
  {
   "cell_type": "code",
   "execution_count": null,
   "metadata": {
    "scrolled": true
   },
   "outputs": [],
   "source": [
    "df_sql = as.data.frame(dataset)\n",
    "names(df_sql) = sprintf(\"Feature_%d\",0:(ncol(df_sql)-1))\n",
    "df_sql$KEY = seq.int(nrow(dataset))\n",
    "\n",
    "sqlDrop(conn , \"INPUT_DATA\" , errors = FALSE)\n",
    "sqlSave(conn, df_sql, tablename = \"INPUT_DATA\", verbose = FALSE)\n",
    "\n",
    "head(df_sql)"
   ]
  },
  {
   "cell_type": "code",
   "execution_count": null,
   "metadata": {},
   "outputs": [],
   "source": [
    "# colnames(df_sql)\n",
    "# odbcGetInfo(conn)\n",
    "# sqlTables(conn)"
   ]
  },
  {
   "cell_type": "code",
   "execution_count": null,
   "metadata": {},
   "outputs": [],
   "source": [
    "df_sql_out = sqlQuery(conn, lModelSQL)\n",
    "head(df_sql_out)"
   ]
  },
  {
   "cell_type": "code",
   "execution_count": null,
   "metadata": {},
   "outputs": [],
   "source": [
    "# colnames(df1)"
   ]
  },
  {
   "cell_type": "markdown",
   "metadata": {},
   "source": [
    "# R XGBoost Output"
   ]
  },
  {
   "cell_type": "code",
   "execution_count": null,
   "metadata": {},
   "outputs": [],
   "source": [
    "pred  =  predict(model, as.matrix(dataset), type = \"prob\")\n",
    "# pred <- matrix(pred , ncol=3, byrow=TRUE)\n",
    "# p0 = 1 - pred\n",
    "df_r_out = data.frame(pred)\n",
    "names(df_r_out) = sprintf(\"Proba_%s\",model$levels)\n",
    "\n",
    "df_r_out$KEY = seq.int(nrow(dataset))\n",
    "df_r_out$Score_no  =  NA\n",
    "df_r_out$Score_yes  =  NA\n",
    "df_r_out$LogProba_no  =  log(df_r_out$Proba_no)\n",
    "df_r_out$LogProba_yes  =  log(df_r_out$Proba_yes)\n",
    "df_r_out$Decision =   predict(model, as.matrix(dataset), type = \"raw\")\n",
    "df_r_out$DecisionProba =  apply(pred, 1, function(x) max(x))\n",
    "head(df_r_out)\n"
   ]
  },
  {
   "cell_type": "code",
   "execution_count": null,
   "metadata": {},
   "outputs": [],
   "source": [
    "# df_r_out"
   ]
  },
  {
   "cell_type": "markdown",
   "metadata": {},
   "source": [
    "# Compare R and SQL output"
   ]
  },
  {
   "cell_type": "code",
   "execution_count": null,
   "metadata": {},
   "outputs": [],
   "source": [
    "df_merge = merge(x = df_r_out, y = df_sql_out, by = \"KEY\", all = TRUE, , suffixes = c(\"_1\",\"_2\"))\n",
    "head(df_merge)"
   ]
  },
  {
   "cell_type": "code",
   "execution_count": null,
   "metadata": {},
   "outputs": [],
   "source": []
  },
  {
   "cell_type": "code",
   "execution_count": null,
   "metadata": {},
   "outputs": [],
   "source": [
    "diffs_df = df_merge[df_merge$Decision_1 != df_merge$Decision_2,]\n",
    "head(diffs_df)"
   ]
  },
  {
   "cell_type": "code",
   "execution_count": null,
   "metadata": {},
   "outputs": [],
   "source": [
    "stopifnot(nrow(diffs_df) == 0)"
   ]
  },
  {
   "cell_type": "code",
   "execution_count": null,
   "metadata": {},
   "outputs": [],
   "source": []
  },
  {
   "cell_type": "code",
   "execution_count": null,
   "metadata": {},
   "outputs": [],
   "source": [
    "summary(df_sql_out)"
   ]
  },
  {
   "cell_type": "code",
   "execution_count": null,
   "metadata": {},
   "outputs": [],
   "source": [
    "summary(df_r_out)"
   ]
  },
  {
   "cell_type": "code",
   "execution_count": null,
   "metadata": {},
   "outputs": [],
   "source": []
  }
 ],
 "metadata": {
  "kernelspec": {
   "display_name": "R",
   "language": "R",
   "name": "ir"
  },
  "language_info": {
   "codemirror_mode": "r",
   "file_extension": ".r",
   "mimetype": "text/x-r-source",
   "name": "R",
   "pygments_lexer": "r",
   "version": "3.5.1"
  }
 },
 "nbformat": 4,
 "nbformat_minor": 2
}
