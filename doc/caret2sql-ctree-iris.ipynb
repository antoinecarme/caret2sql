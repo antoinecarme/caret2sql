{
 "cells": [
  {
   "cell_type": "code",
   "execution_count": 1,
   "metadata": {},
   "outputs": [
    {
     "name": "stderr",
     "output_type": "stream",
     "text": [
      "\n",
      "Attaching package: ‘httr’\n",
      "\n",
      "The following object is masked from ‘package:caret’:\n",
      "\n",
      "    progress\n",
      "\n"
     ]
    }
   ],
   "source": [
    "library(caret, quiet=TRUE);\n",
    "library(base64enc)\n",
    "library(httr, quiet=TRUE)\n"
   ]
  },
  {
   "cell_type": "markdown",
   "metadata": {},
   "source": [
    "# Build a Model"
   ]
  },
  {
   "cell_type": "code",
   "execution_count": 2,
   "metadata": {},
   "outputs": [],
   "source": [
    "set.seed(1960)\n",
    "\n",
    "create_model  =  function() {\n",
    "\n",
    "    model  <- train(Species ~ ., data = iris, method = \"ctree\")\n",
    "    \n",
    "    return(model)\n",
    "}"
   ]
  },
  {
   "cell_type": "code",
   "execution_count": 3,
   "metadata": {},
   "outputs": [],
   "source": [
    "# dataset\n",
    "model = create_model()"
   ]
  },
  {
   "cell_type": "code",
   "execution_count": 4,
   "metadata": {},
   "outputs": [
    {
     "data": {
      "text/html": [
       "0.04"
      ],
      "text/latex": [
       "0.04"
      ],
      "text/markdown": [
       "0.04"
      ],
      "text/plain": [
       "[1] 0.04"
      ]
     },
     "metadata": {},
     "output_type": "display_data"
    }
   ],
   "source": [
    "# pred <- predict(model, as.matrix(iris[, -5]) , type=\"prob\")\n",
    "pred_labels <- predict(model, as.matrix(iris[, -5]) , type=\"raw\")\n",
    "sum(pred_labels != iris$Species)/length(pred_labels)\n"
   ]
  },
  {
   "cell_type": "code",
   "execution_count": null,
   "metadata": {},
   "outputs": [],
   "source": []
  },
  {
   "cell_type": "markdown",
   "metadata": {},
   "source": [
    "# SQL Code Generation"
   ]
  },
  {
   "cell_type": "code",
   "execution_count": 5,
   "metadata": {},
   "outputs": [],
   "source": [
    "\n",
    "test_ws_sql_gen = function(mod) {\n",
    "    WS_URL = \"https://sklearn2sql.herokuapp.com/model\"\n",
    "    WS_URL = \"http://localhost:1888/model\"\n",
    "    model_serialized <- serialize(mod, NULL)\n",
    "    b64_data = base64encode(model_serialized)\n",
    "    data = list(Name = \"caret_rpart_test_model\", SerializedModel = b64_data , SQLDialect = \"postgresql\" , Mode=\"caret\")\n",
    "    r = POST(WS_URL, body = data, encode = \"json\")\n",
    "    # print(r)\n",
    "    content = content(r)\n",
    "    # print(content)\n",
    "    lSQL = content$model$SQLGenrationResult[[1]]$SQL # content[\"model\"][\"SQLGenrationResult\"][0][\"SQL\"]\n",
    "    return(lSQL);\n",
    "}"
   ]
  },
  {
   "cell_type": "code",
   "execution_count": 6,
   "metadata": {},
   "outputs": [],
   "source": [
    "lModelSQL = test_ws_sql_gen(model)"
   ]
  },
  {
   "cell_type": "code",
   "execution_count": 7,
   "metadata": {
    "scrolled": false
   },
   "outputs": [
    {
     "name": "stdout",
     "output_type": "stream",
     "text": [
      "WITH \"DT_node_lookup\" AS \n",
      "(SELECT \"ADS\".\"KEY\" AS \"KEY\", CASE WHEN (\"ADS\".\"Feature_2\" <= 1.9) THEN 2 ELSE CASE WHEN (\"ADS\".\"Feature_3\" <= 1.7) THEN CASE WHEN (\"ADS\".\"Feature_2\" <= 4.8) THEN CASE WHEN (\"ADS\".\"Feature_3\" <= 1.4) THEN 6 ELSE 7 END ELSE 8 END ELSE CASE WHEN (\"ADS\".\"Feature_2\" <= 5.0) THEN 10 ELSE 11 END END END AS node_id_2 \n",
      "FROM \"INPUT_DATA\" AS \"ADS\"), \n",
      "\"DT_node_data\" AS \n",
      "(SELECT \"Values\".nid AS nid, \"Values\".\"P_setosa\" AS \"P_setosa\", \"Values\".\"P_versicolor\" AS \"P_versicolor\", \"Values\".\"P_virginica\" AS \"P_virginica\", \"Values\".\"D\" AS \"D\", \"Values\".\"DP\" AS \"DP\" \n",
      "FROM (SELECT 2 AS nid, 1.0 AS \"P_setosa\", 0.0 AS \"P_versicolor\", 0.0 AS \"P_virginica\", 'setosa' AS \"D\", 1.0 AS \"DP\" UNION ALL SELECT 6 AS nid, 0.0 AS \"P_setosa\", 1.0 AS \"P_versicolor\", 0.0 AS \"P_virginica\", 'versicolor' AS \"D\", 1.0 AS \"DP\" UNION ALL SELECT 7 AS nid, 0.0 AS \"P_setosa\", 0.9090909090909091 AS \"P_versicolor\", 0.09090909090909091 AS \"P_virginica\", 'versicolor' AS \"D\", 0.9090909090909091 AS \"DP\" UNION ALL SELECT 8 AS nid, 0.0 AS \"P_setosa\", 0.5 AS \"P_versicolor\", 0.5 AS \"P_virginica\", 'versicolor' AS \"D\", 0.5 AS \"DP\" UNION ALL SELECT 10 AS nid, 0.0 AS \"P_setosa\", 0.125 AS \"P_versicolor\", 0.875 AS \"P_virginica\", 'virginica' AS \"D\", 0.875 AS \"DP\" UNION ALL SELECT 11 AS nid, 0.0 AS \"P_setosa\", 0.0 AS \"P_versicolor\", 1.0 AS \"P_virginica\", 'virginica' AS \"D\", 1.0 AS \"DP\") AS \"Values\"), \n",
      "\"DT_Output\" AS \n",
      "(SELECT \"DT_node_lookup\".\"KEY\" AS \"KEY\", \"DT_node_lookup\".node_id_2 AS node_id_2, \"DT_node_data\".nid AS nid, \"DT_node_data\".\"P_setosa\" AS \"P_setosa\", \"DT_node_data\".\"P_versicolor\" AS \"P_versicolor\", \"DT_node_data\".\"P_virginica\" AS \"P_virginica\", \"DT_node_data\".\"D\" AS \"D\", \"DT_node_data\".\"DP\" AS \"DP\" \n",
      "FROM \"DT_node_lookup\" LEFT OUTER JOIN \"DT_node_data\" ON \"DT_node_lookup\".node_id_2 = \"DT_node_data\".nid)\n",
      " SELECT \"DT_Output\".\"KEY\" AS \"KEY\", CAST(NULL AS FLOAT) AS \"Score_setosa\", CAST(NULL AS FLOAT) AS \"Score_versicolor\", CAST(NULL AS FLOAT) AS \"Score_virginica\", \"DT_Output\".\"P_setosa\" AS \"Proba_setosa\", \"DT_Output\".\"P_versicolor\" AS \"Proba_versicolor\", \"DT_Output\".\"P_virginica\" AS \"Proba_virginica\", CASE WHEN (\"DT_Output\".\"P_setosa\" IS NULL OR \"DT_Output\".\"P_setosa\" > 0.0) THEN ln(\"DT_Output\".\"P_setosa\") ELSE -1.79769313486231e+308 END AS \"LogProba_setosa\", CASE WHEN (\"DT_Output\".\"P_versicolor\" IS NULL OR \"DT_Output\".\"P_versicolor\" > 0.0) THEN ln(\"DT_Output\".\"P_versicolor\") ELSE -1.79769313486231e+308 END AS \"LogProba_versicolor\", CASE WHEN (\"DT_Output\".\"P_virginica\" IS NULL OR \"DT_Output\".\"P_virginica\" > 0.0) THEN ln(\"DT_Output\".\"P_virginica\") ELSE -1.79769313486231e+308 END AS \"LogProba_virginica\", \"DT_Output\".\"D\" AS \"Decision\", \"DT_Output\".\"DP\" AS \"DecisionProba\" \n",
      "FROM \"DT_Output\""
     ]
    }
   ],
   "source": [
    "cat(lModelSQL)\n"
   ]
  },
  {
   "cell_type": "markdown",
   "metadata": {},
   "source": [
    "# Execute the SQL Code"
   ]
  },
  {
   "cell_type": "code",
   "execution_count": 8,
   "metadata": {},
   "outputs": [
    {
     "data": {
      "text/html": [
       "0"
      ],
      "text/latex": [
       "0"
      ],
      "text/markdown": [
       "0"
      ],
      "text/plain": [
       "[1] 0"
      ]
     },
     "metadata": {},
     "output_type": "display_data"
    }
   ],
   "source": [
    "library(RODBC)\n",
    "conn = odbcConnect(\"pgsql\", uid=\"db\", pwd=\"db\", case=\"nochange\")\n",
    "odbcSetAutoCommit(conn , autoCommit = TRUE)"
   ]
  },
  {
   "cell_type": "code",
   "execution_count": 9,
   "metadata": {
    "scrolled": true
   },
   "outputs": [
    {
     "data": {
      "text/html": [
       "<table>\n",
       "<thead><tr><th scope=col>Feature_0</th><th scope=col>Feature_1</th><th scope=col>Feature_2</th><th scope=col>Feature_3</th><th scope=col>KEY</th></tr></thead>\n",
       "<tbody>\n",
       "\t<tr><td>5.1</td><td>3.5</td><td>1.4</td><td>0.2</td><td>1  </td></tr>\n",
       "\t<tr><td>4.9</td><td>3.0</td><td>1.4</td><td>0.2</td><td>2  </td></tr>\n",
       "\t<tr><td>4.7</td><td>3.2</td><td>1.3</td><td>0.2</td><td>3  </td></tr>\n",
       "\t<tr><td>4.6</td><td>3.1</td><td>1.5</td><td>0.2</td><td>4  </td></tr>\n",
       "\t<tr><td>5.0</td><td>3.6</td><td>1.4</td><td>0.2</td><td>5  </td></tr>\n",
       "\t<tr><td>5.4</td><td>3.9</td><td>1.7</td><td>0.4</td><td>6  </td></tr>\n",
       "</tbody>\n",
       "</table>\n"
      ],
      "text/latex": [
       "\\begin{tabular}{r|lllll}\n",
       " Feature\\_0 & Feature\\_1 & Feature\\_2 & Feature\\_3 & KEY\\\\\n",
       "\\hline\n",
       "\t 5.1 & 3.5 & 1.4 & 0.2 & 1  \\\\\n",
       "\t 4.9 & 3.0 & 1.4 & 0.2 & 2  \\\\\n",
       "\t 4.7 & 3.2 & 1.3 & 0.2 & 3  \\\\\n",
       "\t 4.6 & 3.1 & 1.5 & 0.2 & 4  \\\\\n",
       "\t 5.0 & 3.6 & 1.4 & 0.2 & 5  \\\\\n",
       "\t 5.4 & 3.9 & 1.7 & 0.4 & 6  \\\\\n",
       "\\end{tabular}\n"
      ],
      "text/markdown": [
       "\n",
       "Feature_0 | Feature_1 | Feature_2 | Feature_3 | KEY | \n",
       "|---|---|---|---|---|---|\n",
       "| 5.1 | 3.5 | 1.4 | 0.2 | 1   | \n",
       "| 4.9 | 3.0 | 1.4 | 0.2 | 2   | \n",
       "| 4.7 | 3.2 | 1.3 | 0.2 | 3   | \n",
       "| 4.6 | 3.1 | 1.5 | 0.2 | 4   | \n",
       "| 5.0 | 3.6 | 1.4 | 0.2 | 5   | \n",
       "| 5.4 | 3.9 | 1.7 | 0.4 | 6   | \n",
       "\n",
       "\n"
      ],
      "text/plain": [
       "  Feature_0 Feature_1 Feature_2 Feature_3 KEY\n",
       "1 5.1       3.5       1.4       0.2       1  \n",
       "2 4.9       3.0       1.4       0.2       2  \n",
       "3 4.7       3.2       1.3       0.2       3  \n",
       "4 4.6       3.1       1.5       0.2       4  \n",
       "5 5.0       3.6       1.4       0.2       5  \n",
       "6 5.4       3.9       1.7       0.4       6  "
      ]
     },
     "metadata": {},
     "output_type": "display_data"
    }
   ],
   "source": [
    "dataset = iris[,-5]\n",
    "\n",
    "df_sql = as.data.frame(dataset)\n",
    "names(df_sql) = sprintf(\"Feature_%d\",0:(ncol(df_sql)-1))\n",
    "df_sql$KEY = seq.int(nrow(dataset))\n",
    "\n",
    "sqlDrop(conn , \"INPUT_DATA\" , errors = FALSE)\n",
    "sqlSave(conn, df_sql, tablename = \"INPUT_DATA\", verbose = FALSE)\n",
    "\n",
    "head(df_sql)"
   ]
  },
  {
   "cell_type": "code",
   "execution_count": 10,
   "metadata": {},
   "outputs": [],
   "source": [
    "# colnames(df_sql)\n",
    "# odbcGetInfo(conn)\n",
    "# sqlTables(conn)"
   ]
  },
  {
   "cell_type": "code",
   "execution_count": 11,
   "metadata": {},
   "outputs": [
    {
     "data": {
      "text/html": [
       "<table>\n",
       "<thead><tr><th scope=col>KEY</th><th scope=col>Score_setosa</th><th scope=col>Score_versicolor</th><th scope=col>Score_virginica</th><th scope=col>Proba_setosa</th><th scope=col>Proba_versicolor</th><th scope=col>Proba_virginica</th><th scope=col>LogProba_setosa</th><th scope=col>LogProba_versicolor</th><th scope=col>LogProba_virginica</th><th scope=col>Decision</th><th scope=col>DecisionProba</th></tr></thead>\n",
       "<tbody>\n",
       "\t<tr><td>1             </td><td>NA            </td><td>NA            </td><td>NA            </td><td>1             </td><td>0             </td><td>0             </td><td>0             </td><td>-1.797693e+307</td><td>-1.797693e+307</td><td>setosa        </td><td>1             </td></tr>\n",
       "\t<tr><td>2             </td><td>NA            </td><td>NA            </td><td>NA            </td><td>1             </td><td>0             </td><td>0             </td><td>0             </td><td>-1.797693e+307</td><td>-1.797693e+307</td><td>setosa        </td><td>1             </td></tr>\n",
       "\t<tr><td>3             </td><td>NA            </td><td>NA            </td><td>NA            </td><td>1             </td><td>0             </td><td>0             </td><td>0             </td><td>-1.797693e+307</td><td>-1.797693e+307</td><td>setosa        </td><td>1             </td></tr>\n",
       "\t<tr><td>4             </td><td>NA            </td><td>NA            </td><td>NA            </td><td>1             </td><td>0             </td><td>0             </td><td>0             </td><td>-1.797693e+307</td><td>-1.797693e+307</td><td>setosa        </td><td>1             </td></tr>\n",
       "\t<tr><td>5             </td><td>NA            </td><td>NA            </td><td>NA            </td><td>1             </td><td>0             </td><td>0             </td><td>0             </td><td>-1.797693e+307</td><td>-1.797693e+307</td><td>setosa        </td><td>1             </td></tr>\n",
       "\t<tr><td>6             </td><td>NA            </td><td>NA            </td><td>NA            </td><td>1             </td><td>0             </td><td>0             </td><td>0             </td><td>-1.797693e+307</td><td>-1.797693e+307</td><td>setosa        </td><td>1             </td></tr>\n",
       "</tbody>\n",
       "</table>\n"
      ],
      "text/latex": [
       "\\begin{tabular}{r|llllllllllll}\n",
       " KEY & Score\\_setosa & Score\\_versicolor & Score\\_virginica & Proba\\_setosa & Proba\\_versicolor & Proba\\_virginica & LogProba\\_setosa & LogProba\\_versicolor & LogProba\\_virginica & Decision & DecisionProba\\\\\n",
       "\\hline\n",
       "\t 1              & NA             & NA             & NA             & 1              & 0              & 0              & 0              & -1.797693e+307 & -1.797693e+307 & setosa         & 1             \\\\\n",
       "\t 2              & NA             & NA             & NA             & 1              & 0              & 0              & 0              & -1.797693e+307 & -1.797693e+307 & setosa         & 1             \\\\\n",
       "\t 3              & NA             & NA             & NA             & 1              & 0              & 0              & 0              & -1.797693e+307 & -1.797693e+307 & setosa         & 1             \\\\\n",
       "\t 4              & NA             & NA             & NA             & 1              & 0              & 0              & 0              & -1.797693e+307 & -1.797693e+307 & setosa         & 1             \\\\\n",
       "\t 5              & NA             & NA             & NA             & 1              & 0              & 0              & 0              & -1.797693e+307 & -1.797693e+307 & setosa         & 1             \\\\\n",
       "\t 6              & NA             & NA             & NA             & 1              & 0              & 0              & 0              & -1.797693e+307 & -1.797693e+307 & setosa         & 1             \\\\\n",
       "\\end{tabular}\n"
      ],
      "text/markdown": [
       "\n",
       "KEY | Score_setosa | Score_versicolor | Score_virginica | Proba_setosa | Proba_versicolor | Proba_virginica | LogProba_setosa | LogProba_versicolor | LogProba_virginica | Decision | DecisionProba | \n",
       "|---|---|---|---|---|---|\n",
       "| 1              | NA             | NA             | NA             | 1              | 0              | 0              | 0              | -1.797693e+307 | -1.797693e+307 | setosa         | 1              | \n",
       "| 2              | NA             | NA             | NA             | 1              | 0              | 0              | 0              | -1.797693e+307 | -1.797693e+307 | setosa         | 1              | \n",
       "| 3              | NA             | NA             | NA             | 1              | 0              | 0              | 0              | -1.797693e+307 | -1.797693e+307 | setosa         | 1              | \n",
       "| 4              | NA             | NA             | NA             | 1              | 0              | 0              | 0              | -1.797693e+307 | -1.797693e+307 | setosa         | 1              | \n",
       "| 5              | NA             | NA             | NA             | 1              | 0              | 0              | 0              | -1.797693e+307 | -1.797693e+307 | setosa         | 1              | \n",
       "| 6              | NA             | NA             | NA             | 1              | 0              | 0              | 0              | -1.797693e+307 | -1.797693e+307 | setosa         | 1              | \n",
       "\n",
       "\n"
      ],
      "text/plain": [
       "  KEY Score_setosa Score_versicolor Score_virginica Proba_setosa\n",
       "1 1   NA           NA               NA              1           \n",
       "2 2   NA           NA               NA              1           \n",
       "3 3   NA           NA               NA              1           \n",
       "4 4   NA           NA               NA              1           \n",
       "5 5   NA           NA               NA              1           \n",
       "6 6   NA           NA               NA              1           \n",
       "  Proba_versicolor Proba_virginica LogProba_setosa LogProba_versicolor\n",
       "1 0                0               0               -1.797693e+307     \n",
       "2 0                0               0               -1.797693e+307     \n",
       "3 0                0               0               -1.797693e+307     \n",
       "4 0                0               0               -1.797693e+307     \n",
       "5 0                0               0               -1.797693e+307     \n",
       "6 0                0               0               -1.797693e+307     \n",
       "  LogProba_virginica Decision DecisionProba\n",
       "1 -1.797693e+307     setosa   1            \n",
       "2 -1.797693e+307     setosa   1            \n",
       "3 -1.797693e+307     setosa   1            \n",
       "4 -1.797693e+307     setosa   1            \n",
       "5 -1.797693e+307     setosa   1            \n",
       "6 -1.797693e+307     setosa   1            "
      ]
     },
     "metadata": {},
     "output_type": "display_data"
    }
   ],
   "source": [
    "df_sql_out = sqlQuery(conn, lModelSQL)\n",
    "head(df_sql_out)"
   ]
  },
  {
   "cell_type": "markdown",
   "metadata": {},
   "source": [
    "# R Caret Rpart Output"
   ]
  },
  {
   "cell_type": "code",
   "execution_count": 12,
   "metadata": {},
   "outputs": [
    {
     "data": {
      "text/html": [
       "<table>\n",
       "<thead><tr><th scope=col>KEY</th><th scope=col>Score_setosa</th><th scope=col>Score_versicolor</th><th scope=col>Score_virginica</th><th scope=col>Proba_setosa</th><th scope=col>Proba_versicolor</th><th scope=col>Proba_virginica</th><th scope=col>LogProba_setosa</th><th scope=col>LogProba_versicolor</th><th scope=col>LogProba_virginica</th><th scope=col>Decision</th><th scope=col>DecisionProba</th></tr></thead>\n",
       "<tbody>\n",
       "\t<tr><td>1     </td><td>NA    </td><td>NA    </td><td>NA    </td><td>NA    </td><td>NA    </td><td>NA    </td><td>NA    </td><td>NA    </td><td>NA    </td><td>setosa</td><td>NA    </td></tr>\n",
       "\t<tr><td>2     </td><td>NA    </td><td>NA    </td><td>NA    </td><td>NA    </td><td>NA    </td><td>NA    </td><td>NA    </td><td>NA    </td><td>NA    </td><td>setosa</td><td>NA    </td></tr>\n",
       "\t<tr><td>3     </td><td>NA    </td><td>NA    </td><td>NA    </td><td>NA    </td><td>NA    </td><td>NA    </td><td>NA    </td><td>NA    </td><td>NA    </td><td>setosa</td><td>NA    </td></tr>\n",
       "\t<tr><td>4     </td><td>NA    </td><td>NA    </td><td>NA    </td><td>NA    </td><td>NA    </td><td>NA    </td><td>NA    </td><td>NA    </td><td>NA    </td><td>setosa</td><td>NA    </td></tr>\n",
       "\t<tr><td>5     </td><td>NA    </td><td>NA    </td><td>NA    </td><td>NA    </td><td>NA    </td><td>NA    </td><td>NA    </td><td>NA    </td><td>NA    </td><td>setosa</td><td>NA    </td></tr>\n",
       "\t<tr><td>6     </td><td>NA    </td><td>NA    </td><td>NA    </td><td>NA    </td><td>NA    </td><td>NA    </td><td>NA    </td><td>NA    </td><td>NA    </td><td>setosa</td><td>NA    </td></tr>\n",
       "</tbody>\n",
       "</table>\n"
      ],
      "text/latex": [
       "\\begin{tabular}{r|llllllllllll}\n",
       " KEY & Score\\_setosa & Score\\_versicolor & Score\\_virginica & Proba\\_setosa & Proba\\_versicolor & Proba\\_virginica & LogProba\\_setosa & LogProba\\_versicolor & LogProba\\_virginica & Decision & DecisionProba\\\\\n",
       "\\hline\n",
       "\t 1      & NA     & NA     & NA     & NA     & NA     & NA     & NA     & NA     & NA     & setosa & NA    \\\\\n",
       "\t 2      & NA     & NA     & NA     & NA     & NA     & NA     & NA     & NA     & NA     & setosa & NA    \\\\\n",
       "\t 3      & NA     & NA     & NA     & NA     & NA     & NA     & NA     & NA     & NA     & setosa & NA    \\\\\n",
       "\t 4      & NA     & NA     & NA     & NA     & NA     & NA     & NA     & NA     & NA     & setosa & NA    \\\\\n",
       "\t 5      & NA     & NA     & NA     & NA     & NA     & NA     & NA     & NA     & NA     & setosa & NA    \\\\\n",
       "\t 6      & NA     & NA     & NA     & NA     & NA     & NA     & NA     & NA     & NA     & setosa & NA    \\\\\n",
       "\\end{tabular}\n"
      ],
      "text/markdown": [
       "\n",
       "KEY | Score_setosa | Score_versicolor | Score_virginica | Proba_setosa | Proba_versicolor | Proba_virginica | LogProba_setosa | LogProba_versicolor | LogProba_virginica | Decision | DecisionProba | \n",
       "|---|---|---|---|---|---|\n",
       "| 1      | NA     | NA     | NA     | NA     | NA     | NA     | NA     | NA     | NA     | setosa | NA     | \n",
       "| 2      | NA     | NA     | NA     | NA     | NA     | NA     | NA     | NA     | NA     | setosa | NA     | \n",
       "| 3      | NA     | NA     | NA     | NA     | NA     | NA     | NA     | NA     | NA     | setosa | NA     | \n",
       "| 4      | NA     | NA     | NA     | NA     | NA     | NA     | NA     | NA     | NA     | setosa | NA     | \n",
       "| 5      | NA     | NA     | NA     | NA     | NA     | NA     | NA     | NA     | NA     | setosa | NA     | \n",
       "| 6      | NA     | NA     | NA     | NA     | NA     | NA     | NA     | NA     | NA     | setosa | NA     | \n",
       "\n",
       "\n"
      ],
      "text/plain": [
       "  KEY Score_setosa Score_versicolor Score_virginica Proba_setosa\n",
       "1 1   NA           NA               NA              NA          \n",
       "2 2   NA           NA               NA              NA          \n",
       "3 3   NA           NA               NA              NA          \n",
       "4 4   NA           NA               NA              NA          \n",
       "5 5   NA           NA               NA              NA          \n",
       "6 6   NA           NA               NA              NA          \n",
       "  Proba_versicolor Proba_virginica LogProba_setosa LogProba_versicolor\n",
       "1 NA               NA              NA              NA                 \n",
       "2 NA               NA              NA              NA                 \n",
       "3 NA               NA              NA              NA                 \n",
       "4 NA               NA              NA              NA                 \n",
       "5 NA               NA              NA              NA                 \n",
       "6 NA               NA              NA              NA                 \n",
       "  LogProba_virginica Decision DecisionProba\n",
       "1 NA                 setosa   NA           \n",
       "2 NA                 setosa   NA           \n",
       "3 NA                 setosa   NA           \n",
       "4 NA                 setosa   NA           \n",
       "5 NA                 setosa   NA           \n",
       "6 NA                 setosa   NA           "
      ]
     },
     "metadata": {},
     "output_type": "display_data"
    }
   ],
   "source": [
    "# pred_proba  =  predict(model, as.matrix(iris[,-5]), type = \"prob\")\n",
    "df_r_out = data.frame(seq.int(nrow(dataset))) # (pred_proba)\n",
    "names(df_r_out) = c(\"KEY\") # sprintf(\"Proba_%s\",model$levels)\n",
    "\n",
    "df_r_out$KEY = seq.int(nrow(dataset))\n",
    "df_r_out$Score_setosa  =  NA\n",
    "df_r_out$Score_versicolor  =  NA\n",
    "df_r_out$Score_virginica  =  NA\n",
    "df_r_out$Proba_setosa  =  NA\n",
    "df_r_out$Proba_versicolor  =  NA\n",
    "df_r_out$Proba_virginica  =  NA\n",
    "df_r_out$LogProba_setosa  =  log(df_r_out$Proba_setosa)\n",
    "df_r_out$LogProba_versicolor =  log(df_r_out$Proba_versicolor)\n",
    "df_r_out$LogProba_virginica  =  log(df_r_out$Proba_virginica)\n",
    "df_r_out$Decision =   predict(model, as.matrix(iris[,-5]), type = \"raw\")\n",
    "df_r_out$DecisionProba =  NA\n",
    "head(df_r_out)\n",
    "\n"
   ]
  },
  {
   "cell_type": "markdown",
   "metadata": {},
   "source": [
    "# Compare R and SQL output"
   ]
  },
  {
   "cell_type": "code",
   "execution_count": 13,
   "metadata": {},
   "outputs": [
    {
     "data": {
      "text/html": [
       "<table>\n",
       "<thead><tr><th scope=col>KEY</th><th scope=col>Score_setosa_1</th><th scope=col>Score_versicolor_1</th><th scope=col>Score_virginica_1</th><th scope=col>Proba_setosa_1</th><th scope=col>Proba_versicolor_1</th><th scope=col>Proba_virginica_1</th><th scope=col>LogProba_setosa_1</th><th scope=col>LogProba_versicolor_1</th><th scope=col>LogProba_virginica_1</th><th scope=col>⋯</th><th scope=col>Score_versicolor_2</th><th scope=col>Score_virginica_2</th><th scope=col>Proba_setosa_2</th><th scope=col>Proba_versicolor_2</th><th scope=col>Proba_virginica_2</th><th scope=col>LogProba_setosa_2</th><th scope=col>LogProba_versicolor_2</th><th scope=col>LogProba_virginica_2</th><th scope=col>Decision_2</th><th scope=col>DecisionProba_2</th></tr></thead>\n",
       "<tbody>\n",
       "\t<tr><td>1             </td><td>NA            </td><td>NA            </td><td>NA            </td><td>NA            </td><td>NA            </td><td>NA            </td><td>NA            </td><td>NA            </td><td>NA            </td><td>⋯             </td><td>NA            </td><td>NA            </td><td>1             </td><td>0             </td><td>0             </td><td>0             </td><td>-1.797693e+307</td><td>-1.797693e+307</td><td>setosa        </td><td>1             </td></tr>\n",
       "\t<tr><td>2             </td><td>NA            </td><td>NA            </td><td>NA            </td><td>NA            </td><td>NA            </td><td>NA            </td><td>NA            </td><td>NA            </td><td>NA            </td><td>⋯             </td><td>NA            </td><td>NA            </td><td>1             </td><td>0             </td><td>0             </td><td>0             </td><td>-1.797693e+307</td><td>-1.797693e+307</td><td>setosa        </td><td>1             </td></tr>\n",
       "\t<tr><td>3             </td><td>NA            </td><td>NA            </td><td>NA            </td><td>NA            </td><td>NA            </td><td>NA            </td><td>NA            </td><td>NA            </td><td>NA            </td><td>⋯             </td><td>NA            </td><td>NA            </td><td>1             </td><td>0             </td><td>0             </td><td>0             </td><td>-1.797693e+307</td><td>-1.797693e+307</td><td>setosa        </td><td>1             </td></tr>\n",
       "\t<tr><td>4             </td><td>NA            </td><td>NA            </td><td>NA            </td><td>NA            </td><td>NA            </td><td>NA            </td><td>NA            </td><td>NA            </td><td>NA            </td><td>⋯             </td><td>NA            </td><td>NA            </td><td>1             </td><td>0             </td><td>0             </td><td>0             </td><td>-1.797693e+307</td><td>-1.797693e+307</td><td>setosa        </td><td>1             </td></tr>\n",
       "\t<tr><td>5             </td><td>NA            </td><td>NA            </td><td>NA            </td><td>NA            </td><td>NA            </td><td>NA            </td><td>NA            </td><td>NA            </td><td>NA            </td><td>⋯             </td><td>NA            </td><td>NA            </td><td>1             </td><td>0             </td><td>0             </td><td>0             </td><td>-1.797693e+307</td><td>-1.797693e+307</td><td>setosa        </td><td>1             </td></tr>\n",
       "\t<tr><td>6             </td><td>NA            </td><td>NA            </td><td>NA            </td><td>NA            </td><td>NA            </td><td>NA            </td><td>NA            </td><td>NA            </td><td>NA            </td><td>⋯             </td><td>NA            </td><td>NA            </td><td>1             </td><td>0             </td><td>0             </td><td>0             </td><td>-1.797693e+307</td><td>-1.797693e+307</td><td>setosa        </td><td>1             </td></tr>\n",
       "</tbody>\n",
       "</table>\n"
      ],
      "text/latex": [
       "\\begin{tabular}{r|lllllllllllllllllllllll}\n",
       " KEY & Score\\_setosa\\_1 & Score\\_versicolor\\_1 & Score\\_virginica\\_1 & Proba\\_setosa\\_1 & Proba\\_versicolor\\_1 & Proba\\_virginica\\_1 & LogProba\\_setosa\\_1 & LogProba\\_versicolor\\_1 & LogProba\\_virginica\\_1 & ⋯ & Score\\_versicolor\\_2 & Score\\_virginica\\_2 & Proba\\_setosa\\_2 & Proba\\_versicolor\\_2 & Proba\\_virginica\\_2 & LogProba\\_setosa\\_2 & LogProba\\_versicolor\\_2 & LogProba\\_virginica\\_2 & Decision\\_2 & DecisionProba\\_2\\\\\n",
       "\\hline\n",
       "\t 1              & NA             & NA             & NA             & NA             & NA             & NA             & NA             & NA             & NA             & ⋯              & NA             & NA             & 1              & 0              & 0              & 0              & -1.797693e+307 & -1.797693e+307 & setosa         & 1             \\\\\n",
       "\t 2              & NA             & NA             & NA             & NA             & NA             & NA             & NA             & NA             & NA             & ⋯              & NA             & NA             & 1              & 0              & 0              & 0              & -1.797693e+307 & -1.797693e+307 & setosa         & 1             \\\\\n",
       "\t 3              & NA             & NA             & NA             & NA             & NA             & NA             & NA             & NA             & NA             & ⋯              & NA             & NA             & 1              & 0              & 0              & 0              & -1.797693e+307 & -1.797693e+307 & setosa         & 1             \\\\\n",
       "\t 4              & NA             & NA             & NA             & NA             & NA             & NA             & NA             & NA             & NA             & ⋯              & NA             & NA             & 1              & 0              & 0              & 0              & -1.797693e+307 & -1.797693e+307 & setosa         & 1             \\\\\n",
       "\t 5              & NA             & NA             & NA             & NA             & NA             & NA             & NA             & NA             & NA             & ⋯              & NA             & NA             & 1              & 0              & 0              & 0              & -1.797693e+307 & -1.797693e+307 & setosa         & 1             \\\\\n",
       "\t 6              & NA             & NA             & NA             & NA             & NA             & NA             & NA             & NA             & NA             & ⋯              & NA             & NA             & 1              & 0              & 0              & 0              & -1.797693e+307 & -1.797693e+307 & setosa         & 1             \\\\\n",
       "\\end{tabular}\n"
      ],
      "text/markdown": [
       "\n",
       "KEY | Score_setosa_1 | Score_versicolor_1 | Score_virginica_1 | Proba_setosa_1 | Proba_versicolor_1 | Proba_virginica_1 | LogProba_setosa_1 | LogProba_versicolor_1 | LogProba_virginica_1 | ⋯ | Score_versicolor_2 | Score_virginica_2 | Proba_setosa_2 | Proba_versicolor_2 | Proba_virginica_2 | LogProba_setosa_2 | LogProba_versicolor_2 | LogProba_virginica_2 | Decision_2 | DecisionProba_2 | \n",
       "|---|---|---|---|---|---|\n",
       "| 1              | NA             | NA             | NA             | NA             | NA             | NA             | NA             | NA             | NA             | ⋯              | NA             | NA             | 1              | 0              | 0              | 0              | -1.797693e+307 | -1.797693e+307 | setosa         | 1              | \n",
       "| 2              | NA             | NA             | NA             | NA             | NA             | NA             | NA             | NA             | NA             | ⋯              | NA             | NA             | 1              | 0              | 0              | 0              | -1.797693e+307 | -1.797693e+307 | setosa         | 1              | \n",
       "| 3              | NA             | NA             | NA             | NA             | NA             | NA             | NA             | NA             | NA             | ⋯              | NA             | NA             | 1              | 0              | 0              | 0              | -1.797693e+307 | -1.797693e+307 | setosa         | 1              | \n",
       "| 4              | NA             | NA             | NA             | NA             | NA             | NA             | NA             | NA             | NA             | ⋯              | NA             | NA             | 1              | 0              | 0              | 0              | -1.797693e+307 | -1.797693e+307 | setosa         | 1              | \n",
       "| 5              | NA             | NA             | NA             | NA             | NA             | NA             | NA             | NA             | NA             | ⋯              | NA             | NA             | 1              | 0              | 0              | 0              | -1.797693e+307 | -1.797693e+307 | setosa         | 1              | \n",
       "| 6              | NA             | NA             | NA             | NA             | NA             | NA             | NA             | NA             | NA             | ⋯              | NA             | NA             | 1              | 0              | 0              | 0              | -1.797693e+307 | -1.797693e+307 | setosa         | 1              | \n",
       "\n",
       "\n"
      ],
      "text/plain": [
       "  KEY Score_setosa_1 Score_versicolor_1 Score_virginica_1 Proba_setosa_1\n",
       "1 1   NA             NA                 NA                NA            \n",
       "2 2   NA             NA                 NA                NA            \n",
       "3 3   NA             NA                 NA                NA            \n",
       "4 4   NA             NA                 NA                NA            \n",
       "5 5   NA             NA                 NA                NA            \n",
       "6 6   NA             NA                 NA                NA            \n",
       "  Proba_versicolor_1 Proba_virginica_1 LogProba_setosa_1 LogProba_versicolor_1\n",
       "1 NA                 NA                NA                NA                   \n",
       "2 NA                 NA                NA                NA                   \n",
       "3 NA                 NA                NA                NA                   \n",
       "4 NA                 NA                NA                NA                   \n",
       "5 NA                 NA                NA                NA                   \n",
       "6 NA                 NA                NA                NA                   \n",
       "  LogProba_virginica_1 ⋯ Score_versicolor_2 Score_virginica_2 Proba_setosa_2\n",
       "1 NA                   ⋯ NA                 NA                1             \n",
       "2 NA                   ⋯ NA                 NA                1             \n",
       "3 NA                   ⋯ NA                 NA                1             \n",
       "4 NA                   ⋯ NA                 NA                1             \n",
       "5 NA                   ⋯ NA                 NA                1             \n",
       "6 NA                   ⋯ NA                 NA                1             \n",
       "  Proba_versicolor_2 Proba_virginica_2 LogProba_setosa_2 LogProba_versicolor_2\n",
       "1 0                  0                 0                 -1.797693e+307       \n",
       "2 0                  0                 0                 -1.797693e+307       \n",
       "3 0                  0                 0                 -1.797693e+307       \n",
       "4 0                  0                 0                 -1.797693e+307       \n",
       "5 0                  0                 0                 -1.797693e+307       \n",
       "6 0                  0                 0                 -1.797693e+307       \n",
       "  LogProba_virginica_2 Decision_2 DecisionProba_2\n",
       "1 -1.797693e+307       setosa     1              \n",
       "2 -1.797693e+307       setosa     1              \n",
       "3 -1.797693e+307       setosa     1              \n",
       "4 -1.797693e+307       setosa     1              \n",
       "5 -1.797693e+307       setosa     1              \n",
       "6 -1.797693e+307       setosa     1              "
      ]
     },
     "metadata": {},
     "output_type": "display_data"
    }
   ],
   "source": [
    "df_merge = merge(x = df_r_out, y = df_sql_out, by = \"KEY\", all = TRUE, , suffixes = c(\"_1\",\"_2\"))\n",
    "head(df_merge)"
   ]
  },
  {
   "cell_type": "code",
   "execution_count": null,
   "metadata": {},
   "outputs": [],
   "source": []
  },
  {
   "cell_type": "code",
   "execution_count": 14,
   "metadata": {},
   "outputs": [
    {
     "name": "stderr",
     "output_type": "stream",
     "text": [
      "Warning message in cbind(parts$left, ellip_h, parts$right, deparse.level = 0L):\n",
      "“number of rows of result is not a multiple of vector length (arg 2)”Warning message in cbind(parts$left, ellip_h, parts$right, deparse.level = 0L):\n",
      "“number of rows of result is not a multiple of vector length (arg 2)”Warning message in cbind(parts$left, ellip_h, parts$right, deparse.level = 0L):\n",
      "“number of rows of result is not a multiple of vector length (arg 2)”Warning message in cbind(parts$left, ellip_h, parts$right, deparse.level = 0L):\n",
      "“number of rows of result is not a multiple of vector length (arg 2)”"
     ]
    },
    {
     "data": {
      "text/html": [
       "<table>\n",
       "<thead><tr><th scope=col>KEY</th><th scope=col>Score_setosa_1</th><th scope=col>Score_versicolor_1</th><th scope=col>Score_virginica_1</th><th scope=col>Proba_setosa_1</th><th scope=col>Proba_versicolor_1</th><th scope=col>Proba_virginica_1</th><th scope=col>LogProba_setosa_1</th><th scope=col>LogProba_versicolor_1</th><th scope=col>LogProba_virginica_1</th><th scope=col>⋯</th><th scope=col>Score_versicolor_2</th><th scope=col>Score_virginica_2</th><th scope=col>Proba_setosa_2</th><th scope=col>Proba_versicolor_2</th><th scope=col>Proba_virginica_2</th><th scope=col>LogProba_setosa_2</th><th scope=col>LogProba_versicolor_2</th><th scope=col>LogProba_virginica_2</th><th scope=col>Decision_2</th><th scope=col>DecisionProba_2</th></tr></thead>\n",
       "<tbody>\n",
       "</tbody>\n",
       "</table>\n"
      ],
      "text/latex": [
       "\\begin{tabular}{r|lllllllllllllllllllllll}\n",
       " KEY & Score\\_setosa\\_1 & Score\\_versicolor\\_1 & Score\\_virginica\\_1 & Proba\\_setosa\\_1 & Proba\\_versicolor\\_1 & Proba\\_virginica\\_1 & LogProba\\_setosa\\_1 & LogProba\\_versicolor\\_1 & LogProba\\_virginica\\_1 & ⋯ & Score\\_versicolor\\_2 & Score\\_virginica\\_2 & Proba\\_setosa\\_2 & Proba\\_versicolor\\_2 & Proba\\_virginica\\_2 & LogProba\\_setosa\\_2 & LogProba\\_versicolor\\_2 & LogProba\\_virginica\\_2 & Decision\\_2 & DecisionProba\\_2\\\\\n",
       "\\hline\n",
       "\\end{tabular}\n"
      ],
      "text/markdown": [
       "\n",
       "KEY | Score_setosa_1 | Score_versicolor_1 | Score_virginica_1 | Proba_setosa_1 | Proba_versicolor_1 | Proba_virginica_1 | LogProba_setosa_1 | LogProba_versicolor_1 | LogProba_virginica_1 | ⋯ | Score_versicolor_2 | Score_virginica_2 | Proba_setosa_2 | Proba_versicolor_2 | Proba_virginica_2 | LogProba_setosa_2 | LogProba_versicolor_2 | LogProba_virginica_2 | Decision_2 | DecisionProba_2 | \n",
       "||\n",
       "\n",
       "\n"
      ],
      "text/plain": [
       "     KEY Score_setosa_1 Score_versicolor_1 Score_virginica_1 Proba_setosa_1\n",
       "     Proba_versicolor_1 Proba_virginica_1 LogProba_setosa_1\n",
       "     LogProba_versicolor_1 LogProba_virginica_1 ⋯ Score_versicolor_2\n",
       "     Score_virginica_2 Proba_setosa_2 Proba_versicolor_2 Proba_virginica_2\n",
       "     LogProba_setosa_2 LogProba_versicolor_2 LogProba_virginica_2 Decision_2\n",
       "     DecisionProba_2"
      ]
     },
     "metadata": {},
     "output_type": "display_data"
    }
   ],
   "source": [
    "diffs_df = df_merge[df_merge$Decision_1 != df_merge$Decision_2,]\n",
    "head(diffs_df)"
   ]
  },
  {
   "cell_type": "code",
   "execution_count": 15,
   "metadata": {},
   "outputs": [],
   "source": [
    "stopifnot(nrow(diffs_df) == 0)"
   ]
  },
  {
   "cell_type": "code",
   "execution_count": 16,
   "metadata": {},
   "outputs": [
    {
     "data": {
      "text/plain": [
       "      KEY         Score_setosa   Score_versicolor Score_virginica\n",
       " Min.   :  1.00   Mode:logical   Mode:logical     Mode:logical   \n",
       " 1st Qu.: 38.25   NA's:150       NA's:150         NA's:150       \n",
       " Median : 75.50                                                  \n",
       " Mean   : 75.50                                                  \n",
       " 3rd Qu.:112.75                                                  \n",
       " Max.   :150.00                                                  \n",
       "                                                                 \n",
       " Proba_setosa   Proba_versicolor Proba_virginica LogProba_setosa\n",
       " Mode:logical   Mode:logical     Mode:logical    Min.   : NA    \n",
       " NA's:150       NA's:150         NA's:150        1st Qu.: NA    \n",
       "                                                 Median : NA    \n",
       "                                                 Mean   :NaN    \n",
       "                                                 3rd Qu.: NA    \n",
       "                                                 Max.   : NA    \n",
       "                                                 NA's   :150    \n",
       " LogProba_versicolor LogProba_virginica       Decision  DecisionProba \n",
       " Min.   : NA         Min.   : NA        setosa    :50   Mode:logical  \n",
       " 1st Qu.: NA         1st Qu.: NA        versicolor:54   NA's:150      \n",
       " Median : NA         Median : NA        virginica :46                 \n",
       " Mean   :NaN         Mean   :NaN                                      \n",
       " 3rd Qu.: NA         3rd Qu.: NA                                      \n",
       " Max.   : NA         Max.   : NA                                      \n",
       " NA's   :150         NA's   :150                                      "
      ]
     },
     "metadata": {},
     "output_type": "display_data"
    }
   ],
   "source": [
    "summary(df_r_out)"
   ]
  },
  {
   "cell_type": "code",
   "execution_count": 17,
   "metadata": {},
   "outputs": [
    {
     "data": {
      "text/plain": [
       "      KEY         Score_setosa   Score_versicolor Score_virginica\n",
       " Min.   :  1.00   Mode:logical   Mode:logical     Mode:logical   \n",
       " 1st Qu.: 38.25   NA's:150       NA's:150         NA's:150       \n",
       " Median : 75.50                                                  \n",
       " Mean   : 75.50                                                  \n",
       " 3rd Qu.:112.75                                                  \n",
       " Max.   :150.00                                                  \n",
       "  Proba_setosa    Proba_versicolor Proba_virginica  LogProba_setosa      \n",
       " Min.   :0.0000   Min.   :0.0000   Min.   :0.0000   Min.   :-1.798e+307  \n",
       " 1st Qu.:0.0000   1st Qu.:0.0000   1st Qu.:0.0000   1st Qu.:-1.798e+307  \n",
       " Median :0.0000   Median :0.0000   Median :0.0000   Median :-1.798e+307  \n",
       " Mean   :0.3333   Mean   :0.3333   Mean   :0.3333   Mean   :-1.198e+307  \n",
       " 3rd Qu.:1.0000   3rd Qu.:0.9091   3rd Qu.:0.9688   3rd Qu.:  0.000e+00  \n",
       " Max.   :1.0000   Max.   :1.0000   Max.   :1.0000   Max.   :  0.000e+00  \n",
       " LogProba_versicolor   LogProba_virginica          Decision  DecisionProba \n",
       " Min.   :-1.798e+307   Min.   :-1.798e+307   setosa    :50   Min.   :0.50  \n",
       " 1st Qu.:-1.798e+307   1st Qu.:-1.798e+307   versicolor:54   1st Qu.:1.00  \n",
       " Median :-1.798e+307   Median :-1.798e+307   virginica :46   Median :1.00  \n",
       " Mean   :-1.055e+307   Mean   :-1.019e+307                   Mean   :0.96  \n",
       " 3rd Qu.:  0.000e+00   3rd Qu.:  0.000e+00                   3rd Qu.:1.00  \n",
       " Max.   :  0.000e+00   Max.   :  0.000e+00                   Max.   :1.00  "
      ]
     },
     "metadata": {},
     "output_type": "display_data"
    }
   ],
   "source": [
    "summary(df_sql_out)"
   ]
  },
  {
   "cell_type": "code",
   "execution_count": null,
   "metadata": {},
   "outputs": [],
   "source": []
  }
 ],
 "metadata": {
  "kernelspec": {
   "display_name": "R",
   "language": "R",
   "name": "ir"
  },
  "language_info": {
   "codemirror_mode": "r",
   "file_extension": ".r",
   "mimetype": "text/x-r-source",
   "name": "R",
   "pygments_lexer": "r",
   "version": "3.5.1"
  }
 },
 "nbformat": 4,
 "nbformat_minor": 2
}
