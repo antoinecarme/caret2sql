{
 "cells": [
  {
   "cell_type": "code",
   "execution_count": 1,
   "metadata": {},
   "outputs": [
    {
     "name": "stderr",
     "output_type": "stream",
     "text": [
      "\n",
      "Attaching package: ‘httr’\n",
      "\n",
      "The following object is masked from ‘package:caret’:\n",
      "\n",
      "    progress\n",
      "\n"
     ]
    }
   ],
   "source": [
    "library(caret, quiet = TRUE)\n",
    "library(base64enc)\n",
    "library(httr, quiet = TRUE)\n",
    "\n",
    "library(mlbench)"
   ]
  },
  {
   "cell_type": "markdown",
   "metadata": {},
   "source": [
    "# Build a Model"
   ]
  },
  {
   "cell_type": "code",
   "execution_count": 2,
   "metadata": {},
   "outputs": [],
   "source": [
    "\n",
    "## multiclass classification in iris dataset:\n",
    "\n",
    "data(BostonHousing)\n",
    "BostonHousing$chas = as.numeric(BostonHousing$chas)\n",
    "\n",
    "set.seed(1960)\n",
    "\n",
    "dataset = BostonHousing[, -14] \n",
    "\n",
    "create_model  =  function() {\n",
    "\n",
    "    model <- train(medv ~ ., data = BostonHousing, method = \"nnet\", linout=1, trace=FALSE)    \n",
    "\n",
    "    return(model)\n",
    "}\n"
   ]
  },
  {
   "cell_type": "code",
   "execution_count": 3,
   "metadata": {},
   "outputs": [
    {
     "name": "stderr",
     "output_type": "stream",
     "text": [
      "Warning message in nominalTrainWorkflow(x = x, y = y, wts = weights, info = trainInfo, :\n",
      "“There were missing values in resampled performance measures.”"
     ]
    }
   ],
   "source": [
    "model = create_model()\n",
    "# cat(model$feature_names)\n",
    "# print(model)"
   ]
  },
  {
   "cell_type": "code",
   "execution_count": 4,
   "metadata": {},
   "outputs": [
    {
     "data": {
      "text/plain": [
       "      medv          Estimator.V1          Error.V1      \n",
       " Min.   : 5.00   Min.   :19.29224   Min.   :-16.907756  \n",
       " 1st Qu.:17.02   1st Qu.:19.29224   1st Qu.: -3.507756  \n",
       " Median :21.20   Median :19.29224   Median : -0.065547  \n",
       " Mean   :22.53   Mean   :22.77502   Mean   :  0.242214  \n",
       " 3rd Qu.:25.00   3rd Qu.:19.29251   3rd Qu.:  4.792244  \n",
       " Max.   :50.00   Max.   :35.07666   Max.   : 14.855700  "
      ]
     },
     "metadata": {},
     "output_type": "display_data"
    },
    {
     "data": {
      "text/html": [
       "0.277936970501926"
      ],
      "text/latex": [
       "0.277936970501926"
      ],
      "text/markdown": [
       "0.277936970501926"
      ],
      "text/plain": [
       "[1] 0.277937"
      ]
     },
     "metadata": {},
     "output_type": "display_data"
    }
   ],
   "source": [
    "pred_labels <- predict(model, BostonHousing[, -14] , type=\"raw\")\n",
    "df = data.frame(BostonHousing[,14])\n",
    "names(df) = c(\"medv\")\n",
    "df$Estimator = pred_labels\n",
    "df$Error = df$Estimator - df$medv\n",
    "MAPE = mean(abs(df$Error / df$medv))\n",
    "summary(df)\n",
    "MAPE"
   ]
  },
  {
   "cell_type": "markdown",
   "metadata": {},
   "source": [
    "# SQL Code Generation"
   ]
  },
  {
   "cell_type": "code",
   "execution_count": 5,
   "metadata": {},
   "outputs": [],
   "source": [
    "\n",
    "test_ws_sql_gen = function(mod) {\n",
    "    WS_URL = \"https://sklearn2sql.herokuapp.com/model\"\n",
    "    WS_URL = \"http://localhost:1888/model\"\n",
    "    model_serialized <- serialize(mod, NULL)\n",
    "    b64_data = base64encode(model_serialized)\n",
    "    data = list(Name = \"xgboost_test_model\", SerializedModel = b64_data , SQLDialect = \"postgresql\" , Mode=\"caret\")\n",
    "    r = POST(WS_URL, body = data, encode = \"json\")\n",
    "    # print(r)\n",
    "    content = content(r)\n",
    "    # print(content)\n",
    "    lSQL = content$model$SQLGenrationResult[[1]]$SQL # content[\"model\"][\"SQLGenrationResult\"][0][\"SQL\"]\n",
    "    return(lSQL);\n",
    "}"
   ]
  },
  {
   "cell_type": "code",
   "execution_count": 6,
   "metadata": {
    "scrolled": false
   },
   "outputs": [
    {
     "name": "stdout",
     "output_type": "stream",
     "text": [
      "WITH \"IL\" AS \n",
      "(SELECT \"ADS\".\"KEY\" AS \"KEY\", CAST(\"ADS\".\"Feature_0\" AS FLOAT) AS \"Feature_0\", CAST(\"ADS\".\"Feature_1\" AS FLOAT) AS \"Feature_1\", CAST(\"ADS\".\"Feature_2\" AS FLOAT) AS \"Feature_2\", CAST(\"ADS\".\"Feature_3\" AS FLOAT) AS \"Feature_3\", CAST(\"ADS\".\"Feature_4\" AS FLOAT) AS \"Feature_4\", CAST(\"ADS\".\"Feature_5\" AS FLOAT) AS \"Feature_5\", CAST(\"ADS\".\"Feature_6\" AS FLOAT) AS \"Feature_6\", CAST(\"ADS\".\"Feature_7\" AS FLOAT) AS \"Feature_7\", CAST(\"ADS\".\"Feature_8\" AS FLOAT) AS \"Feature_8\", CAST(\"ADS\".\"Feature_9\" AS FLOAT) AS \"Feature_9\", CAST(\"ADS\".\"Feature_10\" AS FLOAT) AS \"Feature_10\", CAST(\"ADS\".\"Feature_11\" AS FLOAT) AS \"Feature_11\", CAST(\"ADS\".\"Feature_12\" AS FLOAT) AS \"Feature_12\" \n",
      "FROM \"INPUT_DATA\" AS \"ADS\"), \n",
      "\"HL_BA_1\" AS \n",
      "(SELECT \"IL\".\"KEY\" AS \"KEY\", 0.7397418 * \"IL\".\"Feature_0\" + 0.9450092 * \"IL\".\"Feature_1\" + 1.466952 * \"IL\".\"Feature_2\" + 2.892708 * \"IL\".\"Feature_3\" + -0.3298537 * \"IL\".\"Feature_4\" + 10.14366 * \"IL\".\"Feature_5\" + 0.3438722 * \"IL\".\"Feature_6\" + -11.1901 * \"IL\".\"Feature_7\" + 4.551695 * \"IL\".\"Feature_8\" + -0.1631227 * \"IL\".\"Feature_9\" + -0.7130957 * \"IL\".\"Feature_10\" + 0.1925663 * \"IL\".\"Feature_11\" + -15.06671 * \"IL\".\"Feature_12\" + 0.4812252 AS \"NEUR_1_1\" \n",
      "FROM \"IL\"), \n",
      "\"HL_1_logistic\" AS \n",
      "(SELECT \"HL_BA_1\".\"KEY\" AS \"KEY\", 1.0 / (1.0 + exp(least(greatest(-100.0, -\"HL_BA_1\".\"NEUR_1_1\"), 100.0))) AS \"NEUR_1_1\" \n",
      "FROM \"HL_BA_1\"), \n",
      "\"HL_1_logistic_1\" AS \n",
      "(SELECT \"HL_1_logistic\".\"KEY\" AS \"KEY\", \"HL_1_logistic\".\"NEUR_1_1\" AS \"NEUR_1_1\" \n",
      "FROM \"HL_1_logistic\"), \n",
      "\"OL_BA\" AS \n",
      "(SELECT \"HL_1_logistic_1\".\"KEY\" AS \"KEY\", 15.78442 * \"HL_1_logistic_1\".\"NEUR_1_1\" + 19.29224 AS \"NEUR_2_1\" \n",
      "FROM \"HL_1_logistic_1\"), \n",
      "\"OL_identity\" AS \n",
      "(SELECT \"OL_BA\".\"KEY\" AS \"KEY\", \"OL_BA\".\"NEUR_2_1\" AS \"NEUR_2_1\" \n",
      "FROM \"OL_BA\"), \n",
      "\"OL_identity_1\" AS \n",
      "(SELECT \"OL_identity\".\"KEY\" AS \"KEY\", \"OL_identity\".\"NEUR_2_1\" AS \"NEUR_2_1\" \n",
      "FROM \"OL_identity\")\n",
      " SELECT \"OL_identity_1\".\"KEY\" AS \"KEY\", \"OL_identity_1\".\"NEUR_2_1\" AS \"Estimator\" \n",
      "FROM \"OL_identity_1\""
     ]
    }
   ],
   "source": [
    "lModelSQL = test_ws_sql_gen(model)\n",
    "cat(lModelSQL)\n"
   ]
  },
  {
   "cell_type": "code",
   "execution_count": null,
   "metadata": {},
   "outputs": [],
   "source": []
  },
  {
   "cell_type": "markdown",
   "metadata": {},
   "source": [
    "# Execute the SQL Code"
   ]
  },
  {
   "cell_type": "code",
   "execution_count": 7,
   "metadata": {},
   "outputs": [
    {
     "data": {
      "text/html": [
       "0"
      ],
      "text/latex": [
       "0"
      ],
      "text/markdown": [
       "0"
      ],
      "text/plain": [
       "[1] 0"
      ]
     },
     "metadata": {},
     "output_type": "display_data"
    }
   ],
   "source": [
    "library(RODBC)\n",
    "conn = odbcConnect(\"pgsql\", uid=\"db\", pwd=\"db\", case=\"nochange\")\n",
    "odbcSetAutoCommit(conn , autoCommit = TRUE)"
   ]
  },
  {
   "cell_type": "code",
   "execution_count": 8,
   "metadata": {
    "scrolled": true
   },
   "outputs": [],
   "source": [
    "df_sql = dataset\n",
    "names(df_sql) = sprintf(\"Feature_%d\",0:(ncol(df_sql)-1))\n",
    "df_sql$KEY = seq.int(nrow(dataset))\n",
    "\n",
    "sqlDrop(conn , \"INPUT_DATA\" , errors = FALSE)\n",
    "sqlSave(conn, df_sql, tablename = \"INPUT_DATA\", verbose = FALSE)\n",
    "\n",
    "# df_sql"
   ]
  },
  {
   "cell_type": "code",
   "execution_count": 9,
   "metadata": {},
   "outputs": [
    {
     "data": {
      "text/html": [
       "<ol class=list-inline>\n",
       "\t<li>'Feature_0'</li>\n",
       "\t<li>'Feature_1'</li>\n",
       "\t<li>'Feature_2'</li>\n",
       "\t<li>'Feature_3'</li>\n",
       "\t<li>'Feature_4'</li>\n",
       "\t<li>'Feature_5'</li>\n",
       "\t<li>'Feature_6'</li>\n",
       "\t<li>'Feature_7'</li>\n",
       "\t<li>'Feature_8'</li>\n",
       "\t<li>'Feature_9'</li>\n",
       "\t<li>'Feature_10'</li>\n",
       "\t<li>'Feature_11'</li>\n",
       "\t<li>'Feature_12'</li>\n",
       "\t<li>'KEY'</li>\n",
       "</ol>\n"
      ],
      "text/latex": [
       "\\begin{enumerate*}\n",
       "\\item 'Feature\\_0'\n",
       "\\item 'Feature\\_1'\n",
       "\\item 'Feature\\_2'\n",
       "\\item 'Feature\\_3'\n",
       "\\item 'Feature\\_4'\n",
       "\\item 'Feature\\_5'\n",
       "\\item 'Feature\\_6'\n",
       "\\item 'Feature\\_7'\n",
       "\\item 'Feature\\_8'\n",
       "\\item 'Feature\\_9'\n",
       "\\item 'Feature\\_10'\n",
       "\\item 'Feature\\_11'\n",
       "\\item 'Feature\\_12'\n",
       "\\item 'KEY'\n",
       "\\end{enumerate*}\n"
      ],
      "text/markdown": [
       "1. 'Feature_0'\n",
       "2. 'Feature_1'\n",
       "3. 'Feature_2'\n",
       "4. 'Feature_3'\n",
       "5. 'Feature_4'\n",
       "6. 'Feature_5'\n",
       "7. 'Feature_6'\n",
       "8. 'Feature_7'\n",
       "9. 'Feature_8'\n",
       "10. 'Feature_9'\n",
       "11. 'Feature_10'\n",
       "12. 'Feature_11'\n",
       "13. 'Feature_12'\n",
       "14. 'KEY'\n",
       "\n",
       "\n"
      ],
      "text/plain": [
       " [1] \"Feature_0\"  \"Feature_1\"  \"Feature_2\"  \"Feature_3\"  \"Feature_4\" \n",
       " [6] \"Feature_5\"  \"Feature_6\"  \"Feature_7\"  \"Feature_8\"  \"Feature_9\" \n",
       "[11] \"Feature_10\" \"Feature_11\" \"Feature_12\" \"KEY\"       "
      ]
     },
     "metadata": {},
     "output_type": "display_data"
    }
   ],
   "source": [
    "colnames(df_sql)\n",
    "# odbcGetInfo(conn)\n",
    "# sqlTables(conn)"
   ]
  },
  {
   "cell_type": "code",
   "execution_count": 10,
   "metadata": {},
   "outputs": [
    {
     "data": {
      "text/html": [
       "<table>\n",
       "<thead><tr><th scope=col>KEY</th><th scope=col>Estimator</th></tr></thead>\n",
       "<tbody>\n",
       "\t<tr><td>1       </td><td>35.07664</td></tr>\n",
       "\t<tr><td>2       </td><td>19.29224</td></tr>\n",
       "\t<tr><td>3       </td><td>35.07666</td></tr>\n",
       "\t<tr><td>4       </td><td>35.07666</td></tr>\n",
       "\t<tr><td>5       </td><td>19.29296</td></tr>\n",
       "\t<tr><td>6       </td><td>19.29225</td></tr>\n",
       "</tbody>\n",
       "</table>\n"
      ],
      "text/latex": [
       "\\begin{tabular}{r|ll}\n",
       " KEY & Estimator\\\\\n",
       "\\hline\n",
       "\t 1        & 35.07664\\\\\n",
       "\t 2        & 19.29224\\\\\n",
       "\t 3        & 35.07666\\\\\n",
       "\t 4        & 35.07666\\\\\n",
       "\t 5        & 19.29296\\\\\n",
       "\t 6        & 19.29225\\\\\n",
       "\\end{tabular}\n"
      ],
      "text/markdown": [
       "\n",
       "KEY | Estimator | \n",
       "|---|---|---|---|---|---|\n",
       "| 1        | 35.07664 | \n",
       "| 2        | 19.29224 | \n",
       "| 3        | 35.07666 | \n",
       "| 4        | 35.07666 | \n",
       "| 5        | 19.29296 | \n",
       "| 6        | 19.29225 | \n",
       "\n",
       "\n"
      ],
      "text/plain": [
       "  KEY Estimator\n",
       "1 1   35.07664 \n",
       "2 2   19.29224 \n",
       "3 3   35.07666 \n",
       "4 4   35.07666 \n",
       "5 5   19.29296 \n",
       "6 6   19.29225 "
      ]
     },
     "metadata": {},
     "output_type": "display_data"
    }
   ],
   "source": [
    "df_sql_out = sqlQuery(conn, lModelSQL)\n",
    "head(df_sql_out[order(df_sql_out$KEY),])"
   ]
  },
  {
   "cell_type": "code",
   "execution_count": 11,
   "metadata": {},
   "outputs": [],
   "source": [
    "# df_sql_out"
   ]
  },
  {
   "cell_type": "markdown",
   "metadata": {},
   "source": [
    "# R NNET Output"
   ]
  },
  {
   "cell_type": "code",
   "execution_count": 12,
   "metadata": {},
   "outputs": [
    {
     "data": {
      "text/html": [
       "<table>\n",
       "<thead><tr><th scope=col>Estimator</th><th scope=col>KEY</th></tr></thead>\n",
       "<tbody>\n",
       "\t<tr><td>35.07664</td><td>1       </td></tr>\n",
       "\t<tr><td>19.29224</td><td>2       </td></tr>\n",
       "\t<tr><td>35.07666</td><td>3       </td></tr>\n",
       "\t<tr><td>35.07666</td><td>4       </td></tr>\n",
       "\t<tr><td>19.29296</td><td>5       </td></tr>\n",
       "\t<tr><td>19.29225</td><td>6       </td></tr>\n",
       "</tbody>\n",
       "</table>\n"
      ],
      "text/latex": [
       "\\begin{tabular}{r|ll}\n",
       " Estimator & KEY\\\\\n",
       "\\hline\n",
       "\t 35.07664 & 1       \\\\\n",
       "\t 19.29224 & 2       \\\\\n",
       "\t 35.07666 & 3       \\\\\n",
       "\t 35.07666 & 4       \\\\\n",
       "\t 19.29296 & 5       \\\\\n",
       "\t 19.29225 & 6       \\\\\n",
       "\\end{tabular}\n"
      ],
      "text/markdown": [
       "\n",
       "Estimator | KEY | \n",
       "|---|---|---|---|---|---|\n",
       "| 35.07664 | 1        | \n",
       "| 19.29224 | 2        | \n",
       "| 35.07666 | 3        | \n",
       "| 35.07666 | 4        | \n",
       "| 19.29296 | 5        | \n",
       "| 19.29225 | 6        | \n",
       "\n",
       "\n"
      ],
      "text/plain": [
       "  Estimator KEY\n",
       "1 35.07664  1  \n",
       "2 19.29224  2  \n",
       "3 35.07666  3  \n",
       "4 35.07666  4  \n",
       "5 19.29296  5  \n",
       "6 19.29225  6  "
      ]
     },
     "metadata": {},
     "output_type": "display_data"
    }
   ],
   "source": [
    "estimator  =  predict(model, dataset, type = \"raw\")\n",
    "df_r_out = data.frame(estimator)\n",
    "names(df_r_out) = c(\"Estimator\")\n",
    "\n",
    "df_r_out$KEY = seq.int(nrow(dataset))\n",
    "head(df_r_out)\n"
   ]
  },
  {
   "cell_type": "markdown",
   "metadata": {},
   "source": [
    "# Compare R and SQL output"
   ]
  },
  {
   "cell_type": "code",
   "execution_count": 13,
   "metadata": {},
   "outputs": [
    {
     "data": {
      "text/html": [
       "<table>\n",
       "<thead><tr><th scope=col>KEY</th><th scope=col>Estimator_1</th><th scope=col>Estimator_2</th></tr></thead>\n",
       "<tbody>\n",
       "\t<tr><td>1       </td><td>35.07664</td><td>35.07664</td></tr>\n",
       "\t<tr><td>2       </td><td>19.29224</td><td>19.29224</td></tr>\n",
       "\t<tr><td>3       </td><td>35.07666</td><td>35.07666</td></tr>\n",
       "\t<tr><td>4       </td><td>35.07666</td><td>35.07666</td></tr>\n",
       "\t<tr><td>5       </td><td>19.29296</td><td>19.29296</td></tr>\n",
       "\t<tr><td>6       </td><td>19.29225</td><td>19.29225</td></tr>\n",
       "</tbody>\n",
       "</table>\n"
      ],
      "text/latex": [
       "\\begin{tabular}{r|lll}\n",
       " KEY & Estimator\\_1 & Estimator\\_2\\\\\n",
       "\\hline\n",
       "\t 1        & 35.07664 & 35.07664\\\\\n",
       "\t 2        & 19.29224 & 19.29224\\\\\n",
       "\t 3        & 35.07666 & 35.07666\\\\\n",
       "\t 4        & 35.07666 & 35.07666\\\\\n",
       "\t 5        & 19.29296 & 19.29296\\\\\n",
       "\t 6        & 19.29225 & 19.29225\\\\\n",
       "\\end{tabular}\n"
      ],
      "text/markdown": [
       "\n",
       "KEY | Estimator_1 | Estimator_2 | \n",
       "|---|---|---|---|---|---|\n",
       "| 1        | 35.07664 | 35.07664 | \n",
       "| 2        | 19.29224 | 19.29224 | \n",
       "| 3        | 35.07666 | 35.07666 | \n",
       "| 4        | 35.07666 | 35.07666 | \n",
       "| 5        | 19.29296 | 19.29296 | \n",
       "| 6        | 19.29225 | 19.29225 | \n",
       "\n",
       "\n"
      ],
      "text/plain": [
       "  KEY Estimator_1 Estimator_2\n",
       "1 1   35.07664    35.07664   \n",
       "2 2   19.29224    19.29224   \n",
       "3 3   35.07666    35.07666   \n",
       "4 4   35.07666    35.07666   \n",
       "5 5   19.29296    19.29296   \n",
       "6 6   19.29225    19.29225   "
      ]
     },
     "metadata": {},
     "output_type": "display_data"
    }
   ],
   "source": [
    "df_merge = merge(x = df_r_out, y = df_sql_out, by = \"KEY\", all = TRUE, , suffixes = c(\"_1\",\"_2\"))\n",
    "head(df_merge)"
   ]
  },
  {
   "cell_type": "code",
   "execution_count": 14,
   "metadata": {},
   "outputs": [
    {
     "data": {
      "text/html": [
       "<table>\n",
       "<thead><tr><th scope=col>KEY</th><th scope=col>Estimator_1</th><th scope=col>Estimator_2</th><th scope=col>Error</th><th scope=col>AbsError</th></tr></thead>\n",
       "<tbody>\n",
       "\t<tr><td>1           </td><td>35.07664    </td><td>35.07664    </td><td>9.442187e-07</td><td>9.442187e-07</td></tr>\n",
       "\t<tr><td>2           </td><td>19.29224    </td><td>19.29224    </td><td>4.175340e-06</td><td>4.175340e-06</td></tr>\n",
       "\t<tr><td>3           </td><td>35.07666    </td><td>35.07666    </td><td>9.446836e-07</td><td>9.446836e-07</td></tr>\n",
       "\t<tr><td>4           </td><td>35.07666    </td><td>35.07666    </td><td>9.542851e-07</td><td>9.542851e-07</td></tr>\n",
       "\t<tr><td>5           </td><td>19.29296    </td><td>19.29296    </td><td>4.179421e-06</td><td>4.179421e-06</td></tr>\n",
       "\t<tr><td>6           </td><td>19.29225    </td><td>19.29225    </td><td>4.175385e-06</td><td>4.175385e-06</td></tr>\n",
       "</tbody>\n",
       "</table>\n"
      ],
      "text/latex": [
       "\\begin{tabular}{r|lllll}\n",
       " KEY & Estimator\\_1 & Estimator\\_2 & Error & AbsError\\\\\n",
       "\\hline\n",
       "\t 1            & 35.07664     & 35.07664     & 9.442187e-07 & 9.442187e-07\\\\\n",
       "\t 2            & 19.29224     & 19.29224     & 4.175340e-06 & 4.175340e-06\\\\\n",
       "\t 3            & 35.07666     & 35.07666     & 9.446836e-07 & 9.446836e-07\\\\\n",
       "\t 4            & 35.07666     & 35.07666     & 9.542851e-07 & 9.542851e-07\\\\\n",
       "\t 5            & 19.29296     & 19.29296     & 4.179421e-06 & 4.179421e-06\\\\\n",
       "\t 6            & 19.29225     & 19.29225     & 4.175385e-06 & 4.175385e-06\\\\\n",
       "\\end{tabular}\n"
      ],
      "text/markdown": [
       "\n",
       "KEY | Estimator_1 | Estimator_2 | Error | AbsError | \n",
       "|---|---|---|---|---|---|\n",
       "| 1            | 35.07664     | 35.07664     | 9.442187e-07 | 9.442187e-07 | \n",
       "| 2            | 19.29224     | 19.29224     | 4.175340e-06 | 4.175340e-06 | \n",
       "| 3            | 35.07666     | 35.07666     | 9.446836e-07 | 9.446836e-07 | \n",
       "| 4            | 35.07666     | 35.07666     | 9.542851e-07 | 9.542851e-07 | \n",
       "| 5            | 19.29296     | 19.29296     | 4.179421e-06 | 4.179421e-06 | \n",
       "| 6            | 19.29225     | 19.29225     | 4.175385e-06 | 4.175385e-06 | \n",
       "\n",
       "\n"
      ],
      "text/plain": [
       "  KEY Estimator_1 Estimator_2 Error        AbsError    \n",
       "1 1   35.07664    35.07664    9.442187e-07 9.442187e-07\n",
       "2 2   19.29224    19.29224    4.175340e-06 4.175340e-06\n",
       "3 3   35.07666    35.07666    9.446836e-07 9.446836e-07\n",
       "4 4   35.07666    35.07666    9.542851e-07 9.542851e-07\n",
       "5 5   19.29296    19.29296    4.179421e-06 4.179421e-06\n",
       "6 6   19.29225    19.29225    4.175385e-06 4.175385e-06"
      ]
     },
     "metadata": {},
     "output_type": "display_data"
    }
   ],
   "source": [
    "df_merge$Error = df_merge$Estimator_1 - df_merge$Estimator_2\n",
    "df_merge$AbsError = abs(df_merge$Error)\n",
    "head(df_merge)\n"
   ]
  },
  {
   "cell_type": "code",
   "execution_count": 15,
   "metadata": {},
   "outputs": [
    {
     "data": {
      "text/html": [
       "<table>\n",
       "<thead><tr><th scope=col>KEY</th><th scope=col>Estimator_1</th><th scope=col>Estimator_2</th><th scope=col>Error</th><th scope=col>AbsError</th></tr></thead>\n",
       "<tbody>\n",
       "</tbody>\n",
       "</table>\n"
      ],
      "text/latex": [
       "\\begin{tabular}{r|lllll}\n",
       " KEY & Estimator\\_1 & Estimator\\_2 & Error & AbsError\\\\\n",
       "\\hline\n",
       "\\end{tabular}\n"
      ],
      "text/markdown": [
       "\n",
       "KEY | Estimator_1 | Estimator_2 | Error | AbsError | \n",
       "||\n",
       "\n",
       "\n"
      ],
      "text/plain": [
       "     KEY Estimator_1 Estimator_2 Error AbsError"
      ]
     },
     "metadata": {},
     "output_type": "display_data"
    }
   ],
   "source": [
    "df_merge_largest_errors = df_merge[df_merge$AbsError > 0.0001,]\n",
    "df_merge_largest_errors"
   ]
  },
  {
   "cell_type": "code",
   "execution_count": 16,
   "metadata": {},
   "outputs": [],
   "source": [
    "stopifnot(nrow(df_merge_largest_errors) == 0)"
   ]
  },
  {
   "cell_type": "code",
   "execution_count": null,
   "metadata": {},
   "outputs": [],
   "source": []
  },
  {
   "cell_type": "code",
   "execution_count": 17,
   "metadata": {},
   "outputs": [
    {
     "data": {
      "text/plain": [
       "      KEY          Estimator    \n",
       " Min.   :  1.0   Min.   :19.29  \n",
       " 1st Qu.:127.2   1st Qu.:19.29  \n",
       " Median :253.5   Median :19.29  \n",
       " Mean   :253.5   Mean   :22.78  \n",
       " 3rd Qu.:379.8   3rd Qu.:19.29  \n",
       " Max.   :506.0   Max.   :35.08  "
      ]
     },
     "metadata": {},
     "output_type": "display_data"
    }
   ],
   "source": [
    "summary(df_sql_out)"
   ]
  },
  {
   "cell_type": "code",
   "execution_count": 18,
   "metadata": {},
   "outputs": [
    {
     "data": {
      "text/plain": [
       "   Estimator          KEY       \n",
       " Min.   :19.29   Min.   :  1.0  \n",
       " 1st Qu.:19.29   1st Qu.:127.2  \n",
       " Median :19.29   Median :253.5  \n",
       " Mean   :22.78   Mean   :253.5  \n",
       " 3rd Qu.:19.29   3rd Qu.:379.8  \n",
       " Max.   :35.08   Max.   :506.0  "
      ]
     },
     "metadata": {},
     "output_type": "display_data"
    }
   ],
   "source": [
    "summary(df_r_out)"
   ]
  },
  {
   "cell_type": "code",
   "execution_count": 19,
   "metadata": {},
   "outputs": [
    {
     "data": {
      "text/plain": [
       "      KEY         Estimator_1     Estimator_2        Error          \n",
       " Min.   :  1.0   Min.   :19.29   Min.   :19.29   Min.   :8.789e-07  \n",
       " 1st Qu.:127.2   1st Qu.:19.29   1st Qu.:19.29   1st Qu.:4.174e-06  \n",
       " Median :253.5   Median :19.29   Median :19.29   Median :4.175e-06  \n",
       " Mean   :253.5   Mean   :22.78   Mean   :22.78   Mean   :4.098e-06  \n",
       " 3rd Qu.:379.8   3rd Qu.:19.29   3rd Qu.:19.29   3rd Qu.:4.175e-06  \n",
       " Max.   :506.0   Max.   :35.08   Max.   :35.08   Max.   :8.059e-05  \n",
       "    AbsError        \n",
       " Min.   :8.789e-07  \n",
       " 1st Qu.:4.174e-06  \n",
       " Median :4.175e-06  \n",
       " Mean   :4.098e-06  \n",
       " 3rd Qu.:4.175e-06  \n",
       " Max.   :8.059e-05  "
      ]
     },
     "metadata": {},
     "output_type": "display_data"
    }
   ],
   "source": [
    "summary(df_merge)"
   ]
  },
  {
   "cell_type": "code",
   "execution_count": null,
   "metadata": {},
   "outputs": [],
   "source": []
  }
 ],
 "metadata": {
  "kernelspec": {
   "display_name": "R",
   "language": "R",
   "name": "ir"
  },
  "language_info": {
   "codemirror_mode": "r",
   "file_extension": ".r",
   "mimetype": "text/x-r-source",
   "name": "R",
   "pygments_lexer": "r",
   "version": "3.5.1"
  }
 },
 "nbformat": 4,
 "nbformat_minor": 2
}
