{
 "cells": [
  {
   "cell_type": "code",
   "execution_count": 1,
   "metadata": {},
   "outputs": [
    {
     "name": "stderr",
     "output_type": "stream",
     "text": [
      "\n",
      "Attaching package: ‘httr’\n",
      "\n",
      "The following object is masked from ‘package:caret’:\n",
      "\n",
      "    progress\n",
      "\n"
     ]
    }
   ],
   "source": [
    "library(caret, quiet = TRUE)\n",
    "library(base64enc)\n",
    "library(httr, quiet = TRUE)\n",
    "\n",
    "library(mlbench)"
   ]
  },
  {
   "cell_type": "markdown",
   "metadata": {},
   "source": [
    "# Build a Model"
   ]
  },
  {
   "cell_type": "code",
   "execution_count": 2,
   "metadata": {},
   "outputs": [],
   "source": [
    "\n",
    "## multiclass classification in iris dataset:\n",
    "\n",
    "data(BostonHousing)\n",
    "BostonHousing$chas = as.numeric(BostonHousing$chas)\n",
    "\n",
    "set.seed(1960)\n",
    "\n",
    "dataset = BostonHousing[, -14] \n",
    "\n",
    "create_model  =  function() {\n",
    "\n",
    "    model <- train(medv ~ ., data = BostonHousing, method = \"glmnet\")    \n",
    "\n",
    "    return(model)\n",
    "}\n"
   ]
  },
  {
   "cell_type": "code",
   "execution_count": 3,
   "metadata": {},
   "outputs": [],
   "source": [
    "model = create_model()\n",
    "# cat(model$feature_names)\n",
    "# print(model)"
   ]
  },
  {
   "cell_type": "code",
   "execution_count": 4,
   "metadata": {},
   "outputs": [
    {
     "data": {
      "text/plain": [
       "      medv         Estimator          Error         \n",
       " Min.   : 5.00   Min.   :-4.209   Min.   :-26.3365  \n",
       " 1st Qu.:17.02   1st Qu.:17.490   1st Qu.: -1.7354  \n",
       " Median :21.20   Median :22.167   Median :  0.5003  \n",
       " Mean   :22.53   Mean   :22.533   Mean   :  0.0000  \n",
       " 3rd Qu.:25.00   3rd Qu.:27.423   3rd Qu.:  2.7089  \n",
       " Max.   :50.00   Max.   :44.596   Max.   : 15.6200  "
      ]
     },
     "metadata": {},
     "output_type": "display_data"
    },
    {
     "data": {
      "text/html": [
       "0.16389293440734"
      ],
      "text/latex": [
       "0.16389293440734"
      ],
      "text/markdown": [
       "0.16389293440734"
      ],
      "text/plain": [
       "[1] 0.1638929"
      ]
     },
     "metadata": {},
     "output_type": "display_data"
    }
   ],
   "source": [
    "pred_labels <- predict(model, BostonHousing[, -14] , type=\"raw\")\n",
    "df = data.frame(BostonHousing[,14])\n",
    "names(df) = c(\"medv\")\n",
    "df$Estimator = pred_labels\n",
    "df$Error = df$Estimator - df$medv\n",
    "MAPE = mean(abs(df$Error / df$medv))\n",
    "summary(df)\n",
    "MAPE"
   ]
  },
  {
   "cell_type": "markdown",
   "metadata": {},
   "source": [
    "# SQL Code Generation"
   ]
  },
  {
   "cell_type": "code",
   "execution_count": 5,
   "metadata": {},
   "outputs": [],
   "source": [
    "\n",
    "test_ws_sql_gen = function(mod) {\n",
    "    WS_URL = \"https://sklearn2sql.herokuapp.com/model\"\n",
    "    WS_URL = \"http://localhost:1888/model\"\n",
    "    model_serialized <- serialize(mod, NULL)\n",
    "    b64_data = base64encode(model_serialized)\n",
    "    data = list(Name = \"xgboost_test_model\", SerializedModel = b64_data , SQLDialect = \"postgresql\" , Mode=\"caret\")\n",
    "    r = POST(WS_URL, body = data, encode = \"json\")\n",
    "    # print(r)\n",
    "    content = content(r)\n",
    "    # print(content)\n",
    "    lSQL = content$model$SQLGenrationResult[[1]]$SQL # content[\"model\"][\"SQLGenrationResult\"][0][\"SQL\"]\n",
    "    return(lSQL);\n",
    "}"
   ]
  },
  {
   "cell_type": "code",
   "execution_count": 6,
   "metadata": {
    "scrolled": false
   },
   "outputs": [
    {
     "name": "stdout",
     "output_type": "stream",
     "text": [
      "WITH linear_input AS \n",
      "(SELECT \"ADS\".\"KEY\" AS \"KEY\", CAST(\"ADS\".\"Feature_0\" AS FLOAT) AS \"Feature_0\", CAST(\"ADS\".\"Feature_1\" AS FLOAT) AS \"Feature_1\", CAST(\"ADS\".\"Feature_2\" AS FLOAT) AS \"Feature_2\", CAST(\"ADS\".\"Feature_3\" AS FLOAT) AS \"Feature_3\", CAST(\"ADS\".\"Feature_4\" AS FLOAT) AS \"Feature_4\", CAST(\"ADS\".\"Feature_5\" AS FLOAT) AS \"Feature_5\", CAST(\"ADS\".\"Feature_6\" AS FLOAT) AS \"Feature_6\", CAST(\"ADS\".\"Feature_7\" AS FLOAT) AS \"Feature_7\", CAST(\"ADS\".\"Feature_8\" AS FLOAT) AS \"Feature_8\", CAST(\"ADS\".\"Feature_9\" AS FLOAT) AS \"Feature_9\", CAST(\"ADS\".\"Feature_10\" AS FLOAT) AS \"Feature_10\", CAST(\"ADS\".\"Feature_11\" AS FLOAT) AS \"Feature_11\", CAST(\"ADS\".\"Feature_12\" AS FLOAT) AS \"Feature_12\" \n",
      "FROM \"INPUT_DATA\" AS \"ADS\"), \n",
      "linear_model_cte AS \n",
      "(SELECT linear_input.\"KEY\" AS \"KEY\", -0.1060050798535143 * linear_input.\"Feature_0\" + 0.04509271581120177 * linear_input.\"Feature_1\" + 0.01233872269065821 * linear_input.\"Feature_2\" + 2.707062364632181 * linear_input.\"Feature_3\" + -17.2938063905899 * linear_input.\"Feature_4\" + 3.829805818035792 * linear_input.\"Feature_5\" + 2.656525994287689e-05 * linear_input.\"Feature_6\" + -1.457050151936766 * linear_input.\"Feature_7\" + 0.2900699502482731 * linear_input.\"Feature_8\" + -0.01154282111478712 * linear_input.\"Feature_9\" + -0.9452088031532744 * linear_input.\"Feature_10\" + 0.009275663182372659 * linear_input.\"Feature_11\" + -0.5220655244267159 * linear_input.\"Feature_12\" + 33.10720813439595 AS \"Estimator\" \n",
      "FROM linear_input)\n",
      " SELECT linear_model_cte.\"KEY\" AS \"KEY\", linear_model_cte.\"Estimator\" AS \"Estimator\" \n",
      "FROM linear_model_cte"
     ]
    }
   ],
   "source": [
    "lModelSQL = test_ws_sql_gen(model)\n",
    "cat(lModelSQL)\n"
   ]
  },
  {
   "cell_type": "code",
   "execution_count": null,
   "metadata": {},
   "outputs": [],
   "source": []
  },
  {
   "cell_type": "markdown",
   "metadata": {},
   "source": [
    "# Execute the SQL Code"
   ]
  },
  {
   "cell_type": "code",
   "execution_count": 7,
   "metadata": {},
   "outputs": [
    {
     "data": {
      "text/html": [
       "0"
      ],
      "text/latex": [
       "0"
      ],
      "text/markdown": [
       "0"
      ],
      "text/plain": [
       "[1] 0"
      ]
     },
     "metadata": {},
     "output_type": "display_data"
    }
   ],
   "source": [
    "library(RODBC)\n",
    "conn = odbcConnect(\"pgsql\", uid=\"db\", pwd=\"db\", case=\"nochange\")\n",
    "odbcSetAutoCommit(conn , autoCommit = TRUE)"
   ]
  },
  {
   "cell_type": "code",
   "execution_count": 8,
   "metadata": {
    "scrolled": true
   },
   "outputs": [],
   "source": [
    "df_sql = dataset\n",
    "names(df_sql) = sprintf(\"Feature_%d\",0:(ncol(df_sql)-1))\n",
    "df_sql$KEY = seq.int(nrow(dataset))\n",
    "\n",
    "sqlDrop(conn , \"INPUT_DATA\" , errors = FALSE)\n",
    "sqlSave(conn, df_sql, tablename = \"INPUT_DATA\", verbose = FALSE)\n",
    "\n",
    "# df_sql"
   ]
  },
  {
   "cell_type": "code",
   "execution_count": 9,
   "metadata": {},
   "outputs": [
    {
     "data": {
      "text/html": [
       "<ol class=list-inline>\n",
       "\t<li>'Feature_0'</li>\n",
       "\t<li>'Feature_1'</li>\n",
       "\t<li>'Feature_2'</li>\n",
       "\t<li>'Feature_3'</li>\n",
       "\t<li>'Feature_4'</li>\n",
       "\t<li>'Feature_5'</li>\n",
       "\t<li>'Feature_6'</li>\n",
       "\t<li>'Feature_7'</li>\n",
       "\t<li>'Feature_8'</li>\n",
       "\t<li>'Feature_9'</li>\n",
       "\t<li>'Feature_10'</li>\n",
       "\t<li>'Feature_11'</li>\n",
       "\t<li>'Feature_12'</li>\n",
       "\t<li>'KEY'</li>\n",
       "</ol>\n"
      ],
      "text/latex": [
       "\\begin{enumerate*}\n",
       "\\item 'Feature\\_0'\n",
       "\\item 'Feature\\_1'\n",
       "\\item 'Feature\\_2'\n",
       "\\item 'Feature\\_3'\n",
       "\\item 'Feature\\_4'\n",
       "\\item 'Feature\\_5'\n",
       "\\item 'Feature\\_6'\n",
       "\\item 'Feature\\_7'\n",
       "\\item 'Feature\\_8'\n",
       "\\item 'Feature\\_9'\n",
       "\\item 'Feature\\_10'\n",
       "\\item 'Feature\\_11'\n",
       "\\item 'Feature\\_12'\n",
       "\\item 'KEY'\n",
       "\\end{enumerate*}\n"
      ],
      "text/markdown": [
       "1. 'Feature_0'\n",
       "2. 'Feature_1'\n",
       "3. 'Feature_2'\n",
       "4. 'Feature_3'\n",
       "5. 'Feature_4'\n",
       "6. 'Feature_5'\n",
       "7. 'Feature_6'\n",
       "8. 'Feature_7'\n",
       "9. 'Feature_8'\n",
       "10. 'Feature_9'\n",
       "11. 'Feature_10'\n",
       "12. 'Feature_11'\n",
       "13. 'Feature_12'\n",
       "14. 'KEY'\n",
       "\n",
       "\n"
      ],
      "text/plain": [
       " [1] \"Feature_0\"  \"Feature_1\"  \"Feature_2\"  \"Feature_3\"  \"Feature_4\" \n",
       " [6] \"Feature_5\"  \"Feature_6\"  \"Feature_7\"  \"Feature_8\"  \"Feature_9\" \n",
       "[11] \"Feature_10\" \"Feature_11\" \"Feature_12\" \"KEY\"       "
      ]
     },
     "metadata": {},
     "output_type": "display_data"
    }
   ],
   "source": [
    "colnames(df_sql)\n",
    "# odbcGetInfo(conn)\n",
    "# sqlTables(conn)"
   ]
  },
  {
   "cell_type": "code",
   "execution_count": 10,
   "metadata": {},
   "outputs": [
    {
     "data": {
      "text/html": [
       "<table>\n",
       "<thead><tr><th scope=col>KEY</th><th scope=col>Estimator</th></tr></thead>\n",
       "<tbody>\n",
       "\t<tr><td>1       </td><td>30.06640</td></tr>\n",
       "\t<tr><td>2       </td><td>25.01567</td></tr>\n",
       "\t<tr><td>3       </td><td>30.57118</td></tr>\n",
       "\t<tr><td>4       </td><td>28.64432</td></tr>\n",
       "\t<tr><td>5       </td><td>27.98462</td></tr>\n",
       "\t<tr><td>6       </td><td>25.27978</td></tr>\n",
       "</tbody>\n",
       "</table>\n"
      ],
      "text/latex": [
       "\\begin{tabular}{r|ll}\n",
       " KEY & Estimator\\\\\n",
       "\\hline\n",
       "\t 1        & 30.06640\\\\\n",
       "\t 2        & 25.01567\\\\\n",
       "\t 3        & 30.57118\\\\\n",
       "\t 4        & 28.64432\\\\\n",
       "\t 5        & 27.98462\\\\\n",
       "\t 6        & 25.27978\\\\\n",
       "\\end{tabular}\n"
      ],
      "text/markdown": [
       "\n",
       "KEY | Estimator | \n",
       "|---|---|---|---|---|---|\n",
       "| 1        | 30.06640 | \n",
       "| 2        | 25.01567 | \n",
       "| 3        | 30.57118 | \n",
       "| 4        | 28.64432 | \n",
       "| 5        | 27.98462 | \n",
       "| 6        | 25.27978 | \n",
       "\n",
       "\n"
      ],
      "text/plain": [
       "  KEY Estimator\n",
       "1 1   30.06640 \n",
       "2 2   25.01567 \n",
       "3 3   30.57118 \n",
       "4 4   28.64432 \n",
       "5 5   27.98462 \n",
       "6 6   25.27978 "
      ]
     },
     "metadata": {},
     "output_type": "display_data"
    }
   ],
   "source": [
    "df_sql_out = sqlQuery(conn, lModelSQL)\n",
    "head(df_sql_out[order(df_sql_out$KEY),])"
   ]
  },
  {
   "cell_type": "code",
   "execution_count": 11,
   "metadata": {},
   "outputs": [],
   "source": [
    "# df_sql_out"
   ]
  },
  {
   "cell_type": "markdown",
   "metadata": {},
   "source": [
    "# R GLM Output"
   ]
  },
  {
   "cell_type": "code",
   "execution_count": 12,
   "metadata": {},
   "outputs": [
    {
     "data": {
      "text/html": [
       "<table>\n",
       "<thead><tr><th scope=col>Estimator</th><th scope=col>KEY</th></tr></thead>\n",
       "<tbody>\n",
       "\t<tr><td>30.06640</td><td>1       </td></tr>\n",
       "\t<tr><td>25.01567</td><td>2       </td></tr>\n",
       "\t<tr><td>30.57118</td><td>3       </td></tr>\n",
       "\t<tr><td>28.64432</td><td>4       </td></tr>\n",
       "\t<tr><td>27.98462</td><td>5       </td></tr>\n",
       "\t<tr><td>25.27978</td><td>6       </td></tr>\n",
       "</tbody>\n",
       "</table>\n"
      ],
      "text/latex": [
       "\\begin{tabular}{r|ll}\n",
       " Estimator & KEY\\\\\n",
       "\\hline\n",
       "\t 30.06640 & 1       \\\\\n",
       "\t 25.01567 & 2       \\\\\n",
       "\t 30.57118 & 3       \\\\\n",
       "\t 28.64432 & 4       \\\\\n",
       "\t 27.98462 & 5       \\\\\n",
       "\t 25.27978 & 6       \\\\\n",
       "\\end{tabular}\n"
      ],
      "text/markdown": [
       "\n",
       "Estimator | KEY | \n",
       "|---|---|---|---|---|---|\n",
       "| 30.06640 | 1        | \n",
       "| 25.01567 | 2        | \n",
       "| 30.57118 | 3        | \n",
       "| 28.64432 | 4        | \n",
       "| 27.98462 | 5        | \n",
       "| 25.27978 | 6        | \n",
       "\n",
       "\n"
      ],
      "text/plain": [
       "  Estimator KEY\n",
       "1 30.06640  1  \n",
       "2 25.01567  2  \n",
       "3 30.57118  3  \n",
       "4 28.64432  4  \n",
       "5 27.98462  5  \n",
       "6 25.27978  6  "
      ]
     },
     "metadata": {},
     "output_type": "display_data"
    }
   ],
   "source": [
    "estimator  =  predict(model, dataset, type = \"raw\")\n",
    "df_r_out = data.frame(estimator)\n",
    "names(df_r_out) = c(\"Estimator\")\n",
    "\n",
    "df_r_out$KEY = seq.int(nrow(dataset))\n",
    "head(df_r_out)\n"
   ]
  },
  {
   "cell_type": "markdown",
   "metadata": {},
   "source": [
    "# Compare R and SQL output"
   ]
  },
  {
   "cell_type": "code",
   "execution_count": 13,
   "metadata": {},
   "outputs": [
    {
     "data": {
      "text/html": [
       "<table>\n",
       "<thead><tr><th scope=col>KEY</th><th scope=col>Estimator_1</th><th scope=col>Estimator_2</th></tr></thead>\n",
       "<tbody>\n",
       "\t<tr><td>1       </td><td>30.06640</td><td>30.06640</td></tr>\n",
       "\t<tr><td>2       </td><td>25.01567</td><td>25.01567</td></tr>\n",
       "\t<tr><td>3       </td><td>30.57118</td><td>30.57118</td></tr>\n",
       "\t<tr><td>4       </td><td>28.64432</td><td>28.64432</td></tr>\n",
       "\t<tr><td>5       </td><td>27.98462</td><td>27.98462</td></tr>\n",
       "\t<tr><td>6       </td><td>25.27978</td><td>25.27978</td></tr>\n",
       "</tbody>\n",
       "</table>\n"
      ],
      "text/latex": [
       "\\begin{tabular}{r|lll}\n",
       " KEY & Estimator\\_1 & Estimator\\_2\\\\\n",
       "\\hline\n",
       "\t 1        & 30.06640 & 30.06640\\\\\n",
       "\t 2        & 25.01567 & 25.01567\\\\\n",
       "\t 3        & 30.57118 & 30.57118\\\\\n",
       "\t 4        & 28.64432 & 28.64432\\\\\n",
       "\t 5        & 27.98462 & 27.98462\\\\\n",
       "\t 6        & 25.27978 & 25.27978\\\\\n",
       "\\end{tabular}\n"
      ],
      "text/markdown": [
       "\n",
       "KEY | Estimator_1 | Estimator_2 | \n",
       "|---|---|---|---|---|---|\n",
       "| 1        | 30.06640 | 30.06640 | \n",
       "| 2        | 25.01567 | 25.01567 | \n",
       "| 3        | 30.57118 | 30.57118 | \n",
       "| 4        | 28.64432 | 28.64432 | \n",
       "| 5        | 27.98462 | 27.98462 | \n",
       "| 6        | 25.27978 | 25.27978 | \n",
       "\n",
       "\n"
      ],
      "text/plain": [
       "  KEY Estimator_1 Estimator_2\n",
       "1 1   30.06640    30.06640   \n",
       "2 2   25.01567    25.01567   \n",
       "3 3   30.57118    30.57118   \n",
       "4 4   28.64432    28.64432   \n",
       "5 5   27.98462    27.98462   \n",
       "6 6   25.27978    25.27978   "
      ]
     },
     "metadata": {},
     "output_type": "display_data"
    }
   ],
   "source": [
    "df_merge = merge(x = df_r_out, y = df_sql_out, by = \"KEY\", all = TRUE, , suffixes = c(\"_1\",\"_2\"))\n",
    "head(df_merge)"
   ]
  },
  {
   "cell_type": "code",
   "execution_count": 14,
   "metadata": {},
   "outputs": [
    {
     "data": {
      "text/html": [
       "<table>\n",
       "<thead><tr><th scope=col>KEY</th><th scope=col>Estimator_1</th><th scope=col>Estimator_2</th><th scope=col>Error</th><th scope=col>AbsError</th></tr></thead>\n",
       "<tbody>\n",
       "\t<tr><td>1            </td><td>30.06640     </td><td>30.06640     </td><td> 1.421085e-14</td><td>1.421085e-14 </td></tr>\n",
       "\t<tr><td>2            </td><td>25.01567     </td><td>25.01567     </td><td>-7.105427e-15</td><td>7.105427e-15 </td></tr>\n",
       "\t<tr><td>3            </td><td>30.57118     </td><td>30.57118     </td><td> 3.552714e-15</td><td>3.552714e-15 </td></tr>\n",
       "\t<tr><td>4            </td><td>28.64432     </td><td>28.64432     </td><td> 0.000000e+00</td><td>0.000000e+00 </td></tr>\n",
       "\t<tr><td>5            </td><td>27.98462     </td><td>27.98462     </td><td> 3.552714e-15</td><td>3.552714e-15 </td></tr>\n",
       "\t<tr><td>6            </td><td>25.27978     </td><td>25.27978     </td><td> 3.552714e-15</td><td>3.552714e-15 </td></tr>\n",
       "</tbody>\n",
       "</table>\n"
      ],
      "text/latex": [
       "\\begin{tabular}{r|lllll}\n",
       " KEY & Estimator\\_1 & Estimator\\_2 & Error & AbsError\\\\\n",
       "\\hline\n",
       "\t 1             & 30.06640      & 30.06640      &  1.421085e-14 & 1.421085e-14 \\\\\n",
       "\t 2             & 25.01567      & 25.01567      & -7.105427e-15 & 7.105427e-15 \\\\\n",
       "\t 3             & 30.57118      & 30.57118      &  3.552714e-15 & 3.552714e-15 \\\\\n",
       "\t 4             & 28.64432      & 28.64432      &  0.000000e+00 & 0.000000e+00 \\\\\n",
       "\t 5             & 27.98462      & 27.98462      &  3.552714e-15 & 3.552714e-15 \\\\\n",
       "\t 6             & 25.27978      & 25.27978      &  3.552714e-15 & 3.552714e-15 \\\\\n",
       "\\end{tabular}\n"
      ],
      "text/markdown": [
       "\n",
       "KEY | Estimator_1 | Estimator_2 | Error | AbsError | \n",
       "|---|---|---|---|---|---|\n",
       "| 1             | 30.06640      | 30.06640      |  1.421085e-14 | 1.421085e-14  | \n",
       "| 2             | 25.01567      | 25.01567      | -7.105427e-15 | 7.105427e-15  | \n",
       "| 3             | 30.57118      | 30.57118      |  3.552714e-15 | 3.552714e-15  | \n",
       "| 4             | 28.64432      | 28.64432      |  0.000000e+00 | 0.000000e+00  | \n",
       "| 5             | 27.98462      | 27.98462      |  3.552714e-15 | 3.552714e-15  | \n",
       "| 6             | 25.27978      | 25.27978      |  3.552714e-15 | 3.552714e-15  | \n",
       "\n",
       "\n"
      ],
      "text/plain": [
       "  KEY Estimator_1 Estimator_2 Error         AbsError    \n",
       "1 1   30.06640    30.06640     1.421085e-14 1.421085e-14\n",
       "2 2   25.01567    25.01567    -7.105427e-15 7.105427e-15\n",
       "3 3   30.57118    30.57118     3.552714e-15 3.552714e-15\n",
       "4 4   28.64432    28.64432     0.000000e+00 0.000000e+00\n",
       "5 5   27.98462    27.98462     3.552714e-15 3.552714e-15\n",
       "6 6   25.27978    25.27978     3.552714e-15 3.552714e-15"
      ]
     },
     "metadata": {},
     "output_type": "display_data"
    }
   ],
   "source": [
    "df_merge$Error = df_merge$Estimator_1 - df_merge$Estimator_2\n",
    "df_merge$AbsError = abs(df_merge$Error)\n",
    "head(df_merge)\n"
   ]
  },
  {
   "cell_type": "code",
   "execution_count": 15,
   "metadata": {},
   "outputs": [
    {
     "data": {
      "text/html": [
       "<table>\n",
       "<thead><tr><th scope=col>KEY</th><th scope=col>Estimator_1</th><th scope=col>Estimator_2</th><th scope=col>Error</th><th scope=col>AbsError</th></tr></thead>\n",
       "<tbody>\n",
       "</tbody>\n",
       "</table>\n"
      ],
      "text/latex": [
       "\\begin{tabular}{r|lllll}\n",
       " KEY & Estimator\\_1 & Estimator\\_2 & Error & AbsError\\\\\n",
       "\\hline\n",
       "\\end{tabular}\n"
      ],
      "text/markdown": [
       "\n",
       "KEY | Estimator_1 | Estimator_2 | Error | AbsError | \n",
       "||\n",
       "\n",
       "\n"
      ],
      "text/plain": [
       "     KEY Estimator_1 Estimator_2 Error AbsError"
      ]
     },
     "metadata": {},
     "output_type": "display_data"
    }
   ],
   "source": [
    "df_merge_largest_errors = df_merge[df_merge$AbsError > 0.0001,]\n",
    "df_merge_largest_errors"
   ]
  },
  {
   "cell_type": "code",
   "execution_count": 16,
   "metadata": {},
   "outputs": [],
   "source": [
    "stopifnot(nrow(df_merge_largest_errors) == 0)"
   ]
  },
  {
   "cell_type": "code",
   "execution_count": null,
   "metadata": {},
   "outputs": [],
   "source": []
  },
  {
   "cell_type": "code",
   "execution_count": 17,
   "metadata": {},
   "outputs": [
    {
     "data": {
      "text/plain": [
       "      KEY          Estimator     \n",
       " Min.   :  1.0   Min.   :-4.209  \n",
       " 1st Qu.:127.2   1st Qu.:17.490  \n",
       " Median :253.5   Median :22.167  \n",
       " Mean   :253.5   Mean   :22.533  \n",
       " 3rd Qu.:379.8   3rd Qu.:27.423  \n",
       " Max.   :506.0   Max.   :44.596  "
      ]
     },
     "metadata": {},
     "output_type": "display_data"
    }
   ],
   "source": [
    "summary(df_sql_out)"
   ]
  },
  {
   "cell_type": "code",
   "execution_count": 18,
   "metadata": {},
   "outputs": [
    {
     "data": {
      "text/plain": [
       "   Estimator           KEY       \n",
       " Min.   :-4.209   Min.   :  1.0  \n",
       " 1st Qu.:17.490   1st Qu.:127.2  \n",
       " Median :22.167   Median :253.5  \n",
       " Mean   :22.533   Mean   :253.5  \n",
       " 3rd Qu.:27.423   3rd Qu.:379.8  \n",
       " Max.   :44.596   Max.   :506.0  "
      ]
     },
     "metadata": {},
     "output_type": "display_data"
    }
   ],
   "source": [
    "summary(df_r_out)"
   ]
  },
  {
   "cell_type": "code",
   "execution_count": 19,
   "metadata": {},
   "outputs": [
    {
     "data": {
      "text/plain": [
       "      KEY         Estimator_1      Estimator_2         Error           \n",
       " Min.   :  1.0   Min.   :-4.209   Min.   :-4.209   Min.   :-1.776e-14  \n",
       " 1st Qu.:127.2   1st Qu.:17.490   1st Qu.:17.490   1st Qu.: 0.000e+00  \n",
       " Median :253.5   Median :22.167   Median :22.167   Median : 3.553e-15  \n",
       " Mean   :253.5   Mean   :22.533   Mean   :22.533   Mean   : 4.483e-15  \n",
       " 3rd Qu.:379.8   3rd Qu.:27.423   3rd Qu.:27.423   3rd Qu.: 8.882e-15  \n",
       " Max.   :506.0   Max.   :44.596   Max.   :44.596   Max.   : 2.132e-14  \n",
       "    AbsError        \n",
       " Min.   :0.000e+00  \n",
       " 1st Qu.:3.553e-15  \n",
       " Median :7.105e-15  \n",
       " Mean   :6.575e-15  \n",
       " 3rd Qu.:1.066e-14  \n",
       " Max.   :2.132e-14  "
      ]
     },
     "metadata": {},
     "output_type": "display_data"
    }
   ],
   "source": [
    "summary(df_merge)"
   ]
  },
  {
   "cell_type": "code",
   "execution_count": null,
   "metadata": {},
   "outputs": [],
   "source": []
  }
 ],
 "metadata": {
  "kernelspec": {
   "display_name": "R",
   "language": "R",
   "name": "ir"
  },
  "language_info": {
   "codemirror_mode": "r",
   "file_extension": ".r",
   "mimetype": "text/x-r-source",
   "name": "R",
   "pygments_lexer": "r",
   "version": "3.5.1"
  }
 },
 "nbformat": 4,
 "nbformat_minor": 2
}
