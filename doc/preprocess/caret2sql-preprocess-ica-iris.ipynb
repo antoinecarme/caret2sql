{
 "cells": [
  {
   "cell_type": "code",
   "execution_count": 1,
   "metadata": {},
   "outputs": [
    {
     "name": "stderr",
     "output_type": "stream",
     "text": [
      "\n",
      "Attaching package: ‘httr’\n",
      "\n",
      "The following object is masked from ‘package:caret’:\n",
      "\n",
      "    progress\n",
      "\n"
     ]
    }
   ],
   "source": [
    "library(caret, quiet=TRUE);\n",
    "library(base64enc)\n",
    "library(httr, quiet=TRUE)\n"
   ]
  },
  {
   "cell_type": "markdown",
   "metadata": {},
   "source": [
    "# Build a Model"
   ]
  },
  {
   "cell_type": "code",
   "execution_count": 2,
   "metadata": {},
   "outputs": [],
   "source": [
    "set.seed(1960)\n",
    "\n",
    "create_model  =  function() {\n",
    "\n",
    "    model  <- preProcess(iris[, -5], method = c(\"ica\"), n.comp=3)\n",
    "    \n",
    "    return(model)\n",
    "}"
   ]
  },
  {
   "cell_type": "code",
   "execution_count": 3,
   "metadata": {},
   "outputs": [],
   "source": [
    "# dataset\n",
    "model = create_model()"
   ]
  },
  {
   "cell_type": "code",
   "execution_count": 4,
   "metadata": {},
   "outputs": [
    {
     "data": {
      "text/html": [
       "<table>\n",
       "<thead><tr><th scope=col>ICA1</th><th scope=col>ICA2</th><th scope=col>ICA3</th></tr></thead>\n",
       "<tbody>\n",
       "\t<tr><td>-0.1747727812</td><td> 0.4577064   </td><td>-1.371333    </td></tr>\n",
       "\t<tr><td>-0.2411582808</td><td>-0.7820956   </td><td>-1.298537    </td></tr>\n",
       "\t<tr><td> 0.4278364609</td><td>-0.3034750   </td><td>-1.334651    </td></tr>\n",
       "\t<tr><td> 0.5890002061</td><td>-0.5442090   </td><td>-1.271123    </td></tr>\n",
       "\t<tr><td> 0.1680286252</td><td> 0.6994855   </td><td>-1.377995    </td></tr>\n",
       "\t<tr><td> 0.0005664192</td><td> 1.5671793   </td><td>-1.204708    </td></tr>\n",
       "</tbody>\n",
       "</table>\n"
      ],
      "text/latex": [
       "\\begin{tabular}{lll}\n",
       " ICA1 & ICA2 & ICA3\\\\\n",
       "\\hline\n",
       "\t -0.1747727812 &  0.4577064    & -1.371333    \\\\\n",
       "\t -0.2411582808 & -0.7820956    & -1.298537    \\\\\n",
       "\t  0.4278364609 & -0.3034750    & -1.334651    \\\\\n",
       "\t  0.5890002061 & -0.5442090    & -1.271123    \\\\\n",
       "\t  0.1680286252 &  0.6994855    & -1.377995    \\\\\n",
       "\t  0.0005664192 &  1.5671793    & -1.204708    \\\\\n",
       "\\end{tabular}\n"
      ],
      "text/markdown": [
       "\n",
       "ICA1 | ICA2 | ICA3 | \n",
       "|---|---|---|---|---|---|\n",
       "| -0.1747727812 |  0.4577064    | -1.371333     | \n",
       "| -0.2411582808 | -0.7820956    | -1.298537     | \n",
       "|  0.4278364609 | -0.3034750    | -1.334651     | \n",
       "|  0.5890002061 | -0.5442090    | -1.271123     | \n",
       "|  0.1680286252 |  0.6994855    | -1.377995     | \n",
       "|  0.0005664192 |  1.5671793    | -1.204708     | \n",
       "\n",
       "\n"
      ],
      "text/plain": [
       "     ICA1          ICA2       ICA3     \n",
       "[1,] -0.1747727812  0.4577064 -1.371333\n",
       "[2,] -0.2411582808 -0.7820956 -1.298537\n",
       "[3,]  0.4278364609 -0.3034750 -1.334651\n",
       "[4,]  0.5890002061 -0.5442090 -1.271123\n",
       "[5,]  0.1680286252  0.6994855 -1.377995\n",
       "[6,]  0.0005664192  1.5671793 -1.204708"
      ]
     },
     "metadata": {},
     "output_type": "display_data"
    }
   ],
   "source": [
    "pred <- predict(model, as.matrix(iris[, -5]))\n",
    "head(pred)"
   ]
  },
  {
   "cell_type": "code",
   "execution_count": 5,
   "metadata": {
    "scrolled": true
   },
   "outputs": [
    {
     "name": "stdout",
     "output_type": "stream",
     "text": [
      "Created from 150 samples and 4 variables\n",
      "\n",
      "Pre-processing:\n",
      "  - centered (4)\n",
      "  - independent component signal extraction (4)\n",
      "  - ignored (0)\n",
      "  - scaled (4)\n",
      "\n",
      "ICA used 3 components\n"
     ]
    }
   ],
   "source": [
    "print(model)"
   ]
  },
  {
   "cell_type": "markdown",
   "metadata": {},
   "source": [
    "# SQL Code Generation"
   ]
  },
  {
   "cell_type": "code",
   "execution_count": 6,
   "metadata": {},
   "outputs": [],
   "source": [
    "\n",
    "test_ws_sql_gen = function(mod) {\n",
    "    WS_URL = \"https://sklearn2sql.herokuapp.com/model\"\n",
    "    WS_URL = \"http://localhost:1888/model\"\n",
    "    model_serialized <- serialize(mod, NULL)\n",
    "    b64_data = base64encode(model_serialized)\n",
    "    data = list(Name = \"caret_rpart_test_model\", SerializedModel = b64_data , SQLDialect = \"postgresql\" , Mode=\"caret\")\n",
    "    r = POST(WS_URL, body = data, encode = \"json\")\n",
    "    # print(r)\n",
    "    content = content(r)\n",
    "    # print(content)\n",
    "    lSQL = content$model$SQLGenrationResult[[1]]$SQL # content[\"model\"][\"SQLGenrationResult\"][0][\"SQL\"]\n",
    "    return(lSQL);\n",
    "}"
   ]
  },
  {
   "cell_type": "code",
   "execution_count": 7,
   "metadata": {},
   "outputs": [],
   "source": [
    "lModelSQL = test_ws_sql_gen(model)"
   ]
  },
  {
   "cell_type": "code",
   "execution_count": 8,
   "metadata": {
    "scrolled": false
   },
   "outputs": [
    {
     "name": "stdout",
     "output_type": "stream",
     "text": [
      "WITH \"CenteredDataForFastICA\" AS \n",
      "(SELECT \"ADS\".\"KEY\" AS \"KEY\", (CAST(\"ADS\".\"Feature_0\" AS FLOAT) - 5.843333333333334) / 0.8280661279778629 AS \"Feature_0\", (CAST(\"ADS\".\"Feature_1\" AS FLOAT) - 3.0573333333333332) / 0.4358662849366982 AS \"Feature_1\", (CAST(\"ADS\".\"Feature_2\" AS FLOAT) - 3.758) / 1.7652982332594664 AS \"Feature_2\", (CAST(\"ADS\".\"Feature_3\" AS FLOAT) - 1.199333333333333) / 0.7622376689603465 AS \"Feature_3\" \n",
      "FROM \"INPUT_DATA\" AS \"ADS\")\n",
      " SELECT \"CenteredDataForFastICA\".\"KEY\" AS \"KEY\", \"CenteredDataForFastICA\".\"Feature_0\" * -1.949056546891722 + \"CenteredDataForFastICA\".\"Feature_1\" * 0.4682376457435837 + \"CenteredDataForFastICA\".\"Feature_2\" * 0.2931819865144707 + \"CenteredDataForFastICA\".\"Feature_3\" * 1.531834338344022 AS fastica_1, \"CenteredDataForFastICA\".\"Feature_0\" * 0.0365604526892373 + \"CenteredDataForFastICA\".\"Feature_1\" * 1.0730780418911068 + \"CenteredDataForFastICA\".\"Feature_2\" * 0.08716578444820255 + \"CenteredDataForFastICA\".\"Feature_3\" * 0.3683016112665801 AS fastica_2, \"CenteredDataForFastICA\".\"Feature_0\" * -0.04671476919094586 + \"CenteredDataForFastICA\".\"Feature_1\" * -0.053623755918206915 + \"CenteredDataForFastICA\".\"Feature_2\" * 0.4023388691658695 + \"CenteredDataForFastICA\".\"Feature_3\" * 0.6265066028349806 AS fastica_3 \n",
      "FROM \"CenteredDataForFastICA\""
     ]
    }
   ],
   "source": [
    "cat(lModelSQL)\n"
   ]
  },
  {
   "cell_type": "markdown",
   "metadata": {},
   "source": [
    "# Execute the SQL Code"
   ]
  },
  {
   "cell_type": "code",
   "execution_count": 9,
   "metadata": {},
   "outputs": [
    {
     "data": {
      "text/html": [
       "0"
      ],
      "text/latex": [
       "0"
      ],
      "text/markdown": [
       "0"
      ],
      "text/plain": [
       "[1] 0"
      ]
     },
     "metadata": {},
     "output_type": "display_data"
    }
   ],
   "source": [
    "library(RODBC)\n",
    "conn = odbcConnect(\"pgsql\", uid=\"db\", pwd=\"db\", case=\"nochange\")\n",
    "odbcSetAutoCommit(conn , autoCommit = TRUE)"
   ]
  },
  {
   "cell_type": "code",
   "execution_count": 10,
   "metadata": {
    "scrolled": true
   },
   "outputs": [
    {
     "data": {
      "text/html": [
       "<table>\n",
       "<thead><tr><th scope=col>Feature_0</th><th scope=col>Feature_1</th><th scope=col>Feature_2</th><th scope=col>Feature_3</th><th scope=col>KEY</th></tr></thead>\n",
       "<tbody>\n",
       "\t<tr><td>5.1</td><td>3.5</td><td>1.4</td><td>0.2</td><td>1  </td></tr>\n",
       "\t<tr><td>4.9</td><td>3.0</td><td>1.4</td><td>0.2</td><td>2  </td></tr>\n",
       "\t<tr><td>4.7</td><td>3.2</td><td>1.3</td><td>0.2</td><td>3  </td></tr>\n",
       "\t<tr><td>4.6</td><td>3.1</td><td>1.5</td><td>0.2</td><td>4  </td></tr>\n",
       "\t<tr><td>5.0</td><td>3.6</td><td>1.4</td><td>0.2</td><td>5  </td></tr>\n",
       "\t<tr><td>5.4</td><td>3.9</td><td>1.7</td><td>0.4</td><td>6  </td></tr>\n",
       "</tbody>\n",
       "</table>\n"
      ],
      "text/latex": [
       "\\begin{tabular}{r|lllll}\n",
       " Feature\\_0 & Feature\\_1 & Feature\\_2 & Feature\\_3 & KEY\\\\\n",
       "\\hline\n",
       "\t 5.1 & 3.5 & 1.4 & 0.2 & 1  \\\\\n",
       "\t 4.9 & 3.0 & 1.4 & 0.2 & 2  \\\\\n",
       "\t 4.7 & 3.2 & 1.3 & 0.2 & 3  \\\\\n",
       "\t 4.6 & 3.1 & 1.5 & 0.2 & 4  \\\\\n",
       "\t 5.0 & 3.6 & 1.4 & 0.2 & 5  \\\\\n",
       "\t 5.4 & 3.9 & 1.7 & 0.4 & 6  \\\\\n",
       "\\end{tabular}\n"
      ],
      "text/markdown": [
       "\n",
       "Feature_0 | Feature_1 | Feature_2 | Feature_3 | KEY | \n",
       "|---|---|---|---|---|---|\n",
       "| 5.1 | 3.5 | 1.4 | 0.2 | 1   | \n",
       "| 4.9 | 3.0 | 1.4 | 0.2 | 2   | \n",
       "| 4.7 | 3.2 | 1.3 | 0.2 | 3   | \n",
       "| 4.6 | 3.1 | 1.5 | 0.2 | 4   | \n",
       "| 5.0 | 3.6 | 1.4 | 0.2 | 5   | \n",
       "| 5.4 | 3.9 | 1.7 | 0.4 | 6   | \n",
       "\n",
       "\n"
      ],
      "text/plain": [
       "  Feature_0 Feature_1 Feature_2 Feature_3 KEY\n",
       "1 5.1       3.5       1.4       0.2       1  \n",
       "2 4.9       3.0       1.4       0.2       2  \n",
       "3 4.7       3.2       1.3       0.2       3  \n",
       "4 4.6       3.1       1.5       0.2       4  \n",
       "5 5.0       3.6       1.4       0.2       5  \n",
       "6 5.4       3.9       1.7       0.4       6  "
      ]
     },
     "metadata": {},
     "output_type": "display_data"
    }
   ],
   "source": [
    "dataset = iris[,-5]\n",
    "\n",
    "df_sql = as.data.frame(dataset)\n",
    "names(df_sql) = sprintf(\"Feature_%d\",0:(ncol(df_sql)-1))\n",
    "df_sql$KEY = seq.int(nrow(dataset))\n",
    "\n",
    "sqlDrop(conn , \"INPUT_DATA\" , errors = FALSE)\n",
    "sqlSave(conn, df_sql, tablename = \"INPUT_DATA\", verbose = FALSE)\n",
    "\n",
    "head(df_sql)"
   ]
  },
  {
   "cell_type": "code",
   "execution_count": 11,
   "metadata": {},
   "outputs": [],
   "source": [
    "# colnames(df_sql)\n",
    "# odbcGetInfo(conn)\n",
    "# sqlTables(conn)"
   ]
  },
  {
   "cell_type": "code",
   "execution_count": 12,
   "metadata": {},
   "outputs": [
    {
     "data": {
      "text/html": [
       "<table>\n",
       "<thead><tr><th scope=col>KEY</th><th scope=col>fastica_1</th><th scope=col>fastica_2</th><th scope=col>fastica_3</th></tr></thead>\n",
       "<tbody>\n",
       "\t<tr><td>1            </td><td>-0.1747727812</td><td> 0.4577064   </td><td>-1.371333    </td></tr>\n",
       "\t<tr><td>2            </td><td>-0.2411582808</td><td>-0.7820956   </td><td>-1.298537    </td></tr>\n",
       "\t<tr><td>3            </td><td> 0.4278364609</td><td>-0.3034750   </td><td>-1.334651    </td></tr>\n",
       "\t<tr><td>4            </td><td> 0.5890002061</td><td>-0.5442090   </td><td>-1.271123    </td></tr>\n",
       "\t<tr><td>5            </td><td> 0.1680286252</td><td> 0.6994855   </td><td>-1.377995    </td></tr>\n",
       "\t<tr><td>6            </td><td> 0.0005664192</td><td> 1.5671793   </td><td>-1.204708    </td></tr>\n",
       "</tbody>\n",
       "</table>\n"
      ],
      "text/latex": [
       "\\begin{tabular}{r|llll}\n",
       " KEY & fastica\\_1 & fastica\\_2 & fastica\\_3\\\\\n",
       "\\hline\n",
       "\t 1             & -0.1747727812 &  0.4577064    & -1.371333    \\\\\n",
       "\t 2             & -0.2411582808 & -0.7820956    & -1.298537    \\\\\n",
       "\t 3             &  0.4278364609 & -0.3034750    & -1.334651    \\\\\n",
       "\t 4             &  0.5890002061 & -0.5442090    & -1.271123    \\\\\n",
       "\t 5             &  0.1680286252 &  0.6994855    & -1.377995    \\\\\n",
       "\t 6             &  0.0005664192 &  1.5671793    & -1.204708    \\\\\n",
       "\\end{tabular}\n"
      ],
      "text/markdown": [
       "\n",
       "KEY | fastica_1 | fastica_2 | fastica_3 | \n",
       "|---|---|---|---|---|---|\n",
       "| 1             | -0.1747727812 |  0.4577064    | -1.371333     | \n",
       "| 2             | -0.2411582808 | -0.7820956    | -1.298537     | \n",
       "| 3             |  0.4278364609 | -0.3034750    | -1.334651     | \n",
       "| 4             |  0.5890002061 | -0.5442090    | -1.271123     | \n",
       "| 5             |  0.1680286252 |  0.6994855    | -1.377995     | \n",
       "| 6             |  0.0005664192 |  1.5671793    | -1.204708     | \n",
       "\n",
       "\n"
      ],
      "text/plain": [
       "  KEY fastica_1     fastica_2  fastica_3\n",
       "1 1   -0.1747727812  0.4577064 -1.371333\n",
       "2 2   -0.2411582808 -0.7820956 -1.298537\n",
       "3 3    0.4278364609 -0.3034750 -1.334651\n",
       "4 4    0.5890002061 -0.5442090 -1.271123\n",
       "5 5    0.1680286252  0.6994855 -1.377995\n",
       "6 6    0.0005664192  1.5671793 -1.204708"
      ]
     },
     "metadata": {},
     "output_type": "display_data"
    }
   ],
   "source": [
    "df_sql_out = sqlQuery(conn, lModelSQL)\n",
    "head(df_sql_out)"
   ]
  },
  {
   "cell_type": "markdown",
   "metadata": {},
   "source": [
    "# R Caret Rpart Output"
   ]
  },
  {
   "cell_type": "code",
   "execution_count": 13,
   "metadata": {},
   "outputs": [
    {
     "data": {
      "text/html": [
       "<table>\n",
       "<thead><tr><th scope=col>Feature_0</th><th scope=col>Feature_1</th><th scope=col>Feature_2</th><th scope=col>KEY</th></tr></thead>\n",
       "<tbody>\n",
       "\t<tr><td>-0.1747727812</td><td> 0.4577064   </td><td>-1.371333    </td><td>1            </td></tr>\n",
       "\t<tr><td>-0.2411582808</td><td>-0.7820956   </td><td>-1.298537    </td><td>2            </td></tr>\n",
       "\t<tr><td> 0.4278364609</td><td>-0.3034750   </td><td>-1.334651    </td><td>3            </td></tr>\n",
       "\t<tr><td> 0.5890002061</td><td>-0.5442090   </td><td>-1.271123    </td><td>4            </td></tr>\n",
       "\t<tr><td> 0.1680286252</td><td> 0.6994855   </td><td>-1.377995    </td><td>5            </td></tr>\n",
       "\t<tr><td> 0.0005664192</td><td> 1.5671793   </td><td>-1.204708    </td><td>6            </td></tr>\n",
       "</tbody>\n",
       "</table>\n"
      ],
      "text/latex": [
       "\\begin{tabular}{r|llll}\n",
       " Feature\\_0 & Feature\\_1 & Feature\\_2 & KEY\\\\\n",
       "\\hline\n",
       "\t -0.1747727812 &  0.4577064    & -1.371333     & 1            \\\\\n",
       "\t -0.2411582808 & -0.7820956    & -1.298537     & 2            \\\\\n",
       "\t  0.4278364609 & -0.3034750    & -1.334651     & 3            \\\\\n",
       "\t  0.5890002061 & -0.5442090    & -1.271123     & 4            \\\\\n",
       "\t  0.1680286252 &  0.6994855    & -1.377995     & 5            \\\\\n",
       "\t  0.0005664192 &  1.5671793    & -1.204708     & 6            \\\\\n",
       "\\end{tabular}\n"
      ],
      "text/markdown": [
       "\n",
       "Feature_0 | Feature_1 | Feature_2 | KEY | \n",
       "|---|---|---|---|---|---|\n",
       "| -0.1747727812 |  0.4577064    | -1.371333     | 1             | \n",
       "| -0.2411582808 | -0.7820956    | -1.298537     | 2             | \n",
       "|  0.4278364609 | -0.3034750    | -1.334651     | 3             | \n",
       "|  0.5890002061 | -0.5442090    | -1.271123     | 4             | \n",
       "|  0.1680286252 |  0.6994855    | -1.377995     | 5             | \n",
       "|  0.0005664192 |  1.5671793    | -1.204708     | 6             | \n",
       "\n",
       "\n"
      ],
      "text/plain": [
       "  Feature_0     Feature_1  Feature_2 KEY\n",
       "1 -0.1747727812  0.4577064 -1.371333 1  \n",
       "2 -0.2411582808 -0.7820956 -1.298537 2  \n",
       "3  0.4278364609 -0.3034750 -1.334651 3  \n",
       "4  0.5890002061 -0.5442090 -1.271123 4  \n",
       "5  0.1680286252  0.6994855 -1.377995 5  \n",
       "6  0.0005664192  1.5671793 -1.204708 6  "
      ]
     },
     "metadata": {},
     "output_type": "display_data"
    }
   ],
   "source": [
    "preprocessed  =  predict(model, iris[,-5])\n",
    "df_r_out = data.frame(preprocessed)\n",
    "names(df_r_out) = sprintf(\"Feature_%d\",0:(ncol(df_r_out) - 1))\n",
    "\n",
    "df_r_out$KEY = seq.int(nrow(dataset))\n",
    "\n",
    "head(df_r_out)"
   ]
  },
  {
   "cell_type": "markdown",
   "metadata": {},
   "source": [
    "# Compare R and SQL output"
   ]
  },
  {
   "cell_type": "code",
   "execution_count": 14,
   "metadata": {},
   "outputs": [
    {
     "data": {
      "text/html": [
       "<table>\n",
       "<thead><tr><th scope=col>KEY</th><th scope=col>Feature_0</th><th scope=col>Feature_1</th><th scope=col>Feature_2</th><th scope=col>fastica_1</th><th scope=col>fastica_2</th><th scope=col>fastica_3</th></tr></thead>\n",
       "<tbody>\n",
       "\t<tr><td>1            </td><td>-0.1747727812</td><td> 0.4577064   </td><td>-1.371333    </td><td>-0.1747727812</td><td> 0.4577064   </td><td>-1.371333    </td></tr>\n",
       "\t<tr><td>2            </td><td>-0.2411582808</td><td>-0.7820956   </td><td>-1.298537    </td><td>-0.2411582808</td><td>-0.7820956   </td><td>-1.298537    </td></tr>\n",
       "\t<tr><td>3            </td><td> 0.4278364609</td><td>-0.3034750   </td><td>-1.334651    </td><td> 0.4278364609</td><td>-0.3034750   </td><td>-1.334651    </td></tr>\n",
       "\t<tr><td>4            </td><td> 0.5890002061</td><td>-0.5442090   </td><td>-1.271123    </td><td> 0.5890002061</td><td>-0.5442090   </td><td>-1.271123    </td></tr>\n",
       "\t<tr><td>5            </td><td> 0.1680286252</td><td> 0.6994855   </td><td>-1.377995    </td><td> 0.1680286252</td><td> 0.6994855   </td><td>-1.377995    </td></tr>\n",
       "\t<tr><td>6            </td><td> 0.0005664192</td><td> 1.5671793   </td><td>-1.204708    </td><td> 0.0005664192</td><td> 1.5671793   </td><td>-1.204708    </td></tr>\n",
       "</tbody>\n",
       "</table>\n"
      ],
      "text/latex": [
       "\\begin{tabular}{r|lllllll}\n",
       " KEY & Feature\\_0 & Feature\\_1 & Feature\\_2 & fastica\\_1 & fastica\\_2 & fastica\\_3\\\\\n",
       "\\hline\n",
       "\t 1             & -0.1747727812 &  0.4577064    & -1.371333     & -0.1747727812 &  0.4577064    & -1.371333    \\\\\n",
       "\t 2             & -0.2411582808 & -0.7820956    & -1.298537     & -0.2411582808 & -0.7820956    & -1.298537    \\\\\n",
       "\t 3             &  0.4278364609 & -0.3034750    & -1.334651     &  0.4278364609 & -0.3034750    & -1.334651    \\\\\n",
       "\t 4             &  0.5890002061 & -0.5442090    & -1.271123     &  0.5890002061 & -0.5442090    & -1.271123    \\\\\n",
       "\t 5             &  0.1680286252 &  0.6994855    & -1.377995     &  0.1680286252 &  0.6994855    & -1.377995    \\\\\n",
       "\t 6             &  0.0005664192 &  1.5671793    & -1.204708     &  0.0005664192 &  1.5671793    & -1.204708    \\\\\n",
       "\\end{tabular}\n"
      ],
      "text/markdown": [
       "\n",
       "KEY | Feature_0 | Feature_1 | Feature_2 | fastica_1 | fastica_2 | fastica_3 | \n",
       "|---|---|---|---|---|---|\n",
       "| 1             | -0.1747727812 |  0.4577064    | -1.371333     | -0.1747727812 |  0.4577064    | -1.371333     | \n",
       "| 2             | -0.2411582808 | -0.7820956    | -1.298537     | -0.2411582808 | -0.7820956    | -1.298537     | \n",
       "| 3             |  0.4278364609 | -0.3034750    | -1.334651     |  0.4278364609 | -0.3034750    | -1.334651     | \n",
       "| 4             |  0.5890002061 | -0.5442090    | -1.271123     |  0.5890002061 | -0.5442090    | -1.271123     | \n",
       "| 5             |  0.1680286252 |  0.6994855    | -1.377995     |  0.1680286252 |  0.6994855    | -1.377995     | \n",
       "| 6             |  0.0005664192 |  1.5671793    | -1.204708     |  0.0005664192 |  1.5671793    | -1.204708     | \n",
       "\n",
       "\n"
      ],
      "text/plain": [
       "  KEY Feature_0     Feature_1  Feature_2 fastica_1     fastica_2  fastica_3\n",
       "1 1   -0.1747727812  0.4577064 -1.371333 -0.1747727812  0.4577064 -1.371333\n",
       "2 2   -0.2411582808 -0.7820956 -1.298537 -0.2411582808 -0.7820956 -1.298537\n",
       "3 3    0.4278364609 -0.3034750 -1.334651  0.4278364609 -0.3034750 -1.334651\n",
       "4 4    0.5890002061 -0.5442090 -1.271123  0.5890002061 -0.5442090 -1.271123\n",
       "5 5    0.1680286252  0.6994855 -1.377995  0.1680286252  0.6994855 -1.377995\n",
       "6 6    0.0005664192  1.5671793 -1.204708  0.0005664192  1.5671793 -1.204708"
      ]
     },
     "metadata": {},
     "output_type": "display_data"
    }
   ],
   "source": [
    "df_merge = merge(x = df_r_out, y = df_sql_out, by = \"KEY\", all = TRUE, , suffixes = c(\"_1\",\"_2\"))\n",
    "head(df_merge)"
   ]
  },
  {
   "cell_type": "code",
   "execution_count": null,
   "metadata": {},
   "outputs": [],
   "source": []
  },
  {
   "cell_type": "code",
   "execution_count": 15,
   "metadata": {},
   "outputs": [
    {
     "data": {
      "text/html": [
       "<table>\n",
       "<thead><tr><th scope=col>KEY</th><th scope=col>Feature_0</th><th scope=col>Feature_1</th><th scope=col>Feature_2</th><th scope=col>fastica_1</th><th scope=col>fastica_2</th><th scope=col>fastica_3</th></tr></thead>\n",
       "<tbody>\n",
       "</tbody>\n",
       "</table>\n"
      ],
      "text/latex": [
       "\\begin{tabular}{r|lllllll}\n",
       " KEY & Feature\\_0 & Feature\\_1 & Feature\\_2 & fastica\\_1 & fastica\\_2 & fastica\\_3\\\\\n",
       "\\hline\n",
       "\\end{tabular}\n"
      ],
      "text/markdown": [
       "\n",
       "KEY | Feature_0 | Feature_1 | Feature_2 | fastica_1 | fastica_2 | fastica_3 | \n",
       "||\n",
       "\n",
       "\n"
      ],
      "text/plain": [
       "     KEY Feature_0 Feature_1 Feature_2 fastica_1 fastica_2 fastica_3"
      ]
     },
     "metadata": {},
     "output_type": "display_data"
    }
   ],
   "source": [
    "diffs_df = df_merge[df_merge$Decision_1 != df_merge$Decision_2,]\n",
    "head(diffs_df)"
   ]
  },
  {
   "cell_type": "code",
   "execution_count": 16,
   "metadata": {},
   "outputs": [],
   "source": [
    "stopifnot(nrow(diffs_df) == 0)"
   ]
  },
  {
   "cell_type": "code",
   "execution_count": null,
   "metadata": {},
   "outputs": [],
   "source": []
  },
  {
   "cell_type": "code",
   "execution_count": 17,
   "metadata": {},
   "outputs": [
    {
     "data": {
      "text/plain": [
       "      KEY           fastica_1         fastica_2          fastica_3      \n",
       " Min.   :  1.00   Min.   :-2.5489   Min.   :-2.74938   Min.   :-1.5179  \n",
       " 1st Qu.: 38.25   1st Qu.:-0.5225   1st Qu.:-0.57116   1st Qu.:-1.2585  \n",
       " Median : 75.50   Median : 0.1338   Median : 0.01746   Median : 0.2509  \n",
       " Mean   : 75.50   Mean   : 0.0000   Mean   : 0.00000   Mean   : 0.0000  \n",
       " 3rd Qu.:112.75   3rd Qu.: 0.5237   3rd Qu.: 0.55474   3rd Qu.: 0.8915  \n",
       " Max.   :150.00   Max.   : 2.7510   Max.   : 2.80152   Max.   : 1.5723  "
      ]
     },
     "metadata": {},
     "output_type": "display_data"
    }
   ],
   "source": [
    "summary(df_sql_out)"
   ]
  },
  {
   "cell_type": "code",
   "execution_count": 18,
   "metadata": {},
   "outputs": [
    {
     "data": {
      "text/plain": [
       "   Feature_0         Feature_1          Feature_2            KEY        \n",
       " Min.   :-2.5489   Min.   :-2.74938   Min.   :-1.5179   Min.   :  1.00  \n",
       " 1st Qu.:-0.5225   1st Qu.:-0.57116   1st Qu.:-1.2585   1st Qu.: 38.25  \n",
       " Median : 0.1338   Median : 0.01746   Median : 0.2509   Median : 75.50  \n",
       " Mean   : 0.0000   Mean   : 0.00000   Mean   : 0.0000   Mean   : 75.50  \n",
       " 3rd Qu.: 0.5237   3rd Qu.: 0.55474   3rd Qu.: 0.8915   3rd Qu.:112.75  \n",
       " Max.   : 2.7510   Max.   : 2.80152   Max.   : 1.5723   Max.   :150.00  "
      ]
     },
     "metadata": {},
     "output_type": "display_data"
    }
   ],
   "source": [
    "summary(df_r_out)"
   ]
  },
  {
   "cell_type": "code",
   "execution_count": null,
   "metadata": {},
   "outputs": [],
   "source": []
  }
 ],
 "metadata": {
  "kernelspec": {
   "display_name": "R",
   "language": "R",
   "name": "ir"
  },
  "language_info": {
   "codemirror_mode": "r",
   "file_extension": ".r",
   "mimetype": "text/x-r-source",
   "name": "R",
   "pygments_lexer": "r",
   "version": "3.5.1"
  }
 },
 "nbformat": 4,
 "nbformat_minor": 2
}
