{
 "cells": [
  {
   "cell_type": "code",
   "execution_count": 1,
   "metadata": {},
   "outputs": [
    {
     "name": "stderr",
     "output_type": "stream",
     "text": [
      "\n",
      "Attaching package: ‘httr’\n",
      "\n",
      "The following object is masked from ‘package:caret’:\n",
      "\n",
      "    progress\n",
      "\n"
     ]
    }
   ],
   "source": [
    "library(caret, quiet=TRUE);\n",
    "library(base64enc)\n",
    "library(httr, quiet=TRUE)\n"
   ]
  },
  {
   "cell_type": "markdown",
   "metadata": {},
   "source": [
    "# Build a Model"
   ]
  },
  {
   "cell_type": "code",
   "execution_count": 2,
   "metadata": {},
   "outputs": [],
   "source": [
    "set.seed(1960)\n",
    "\n",
    "create_model  =  function() {\n",
    "\n",
    "    model  <- preProcess(iris[, -5], method = c(\"pca\"))\n",
    "    \n",
    "    return(model)\n",
    "}"
   ]
  },
  {
   "cell_type": "code",
   "execution_count": 3,
   "metadata": {},
   "outputs": [],
   "source": [
    "# dataset\n",
    "model = create_model()"
   ]
  },
  {
   "cell_type": "code",
   "execution_count": 4,
   "metadata": {},
   "outputs": [
    {
     "data": {
      "text/html": [
       "<table>\n",
       "<thead><tr><th scope=col>PC1</th><th scope=col>PC2</th></tr></thead>\n",
       "<tbody>\n",
       "\t<tr><td>-2.257141 </td><td>-0.4784238</td></tr>\n",
       "\t<tr><td>-2.074013 </td><td> 0.6718827</td></tr>\n",
       "\t<tr><td>-2.356335 </td><td> 0.3407664</td></tr>\n",
       "\t<tr><td>-2.291707 </td><td> 0.5953999</td></tr>\n",
       "\t<tr><td>-2.381863 </td><td>-0.6446757</td></tr>\n",
       "\t<tr><td>-2.068701 </td><td>-1.4842053</td></tr>\n",
       "</tbody>\n",
       "</table>\n"
      ],
      "text/latex": [
       "\\begin{tabular}{ll}\n",
       " PC1 & PC2\\\\\n",
       "\\hline\n",
       "\t -2.257141  & -0.4784238\\\\\n",
       "\t -2.074013  &  0.6718827\\\\\n",
       "\t -2.356335  &  0.3407664\\\\\n",
       "\t -2.291707  &  0.5953999\\\\\n",
       "\t -2.381863  & -0.6446757\\\\\n",
       "\t -2.068701  & -1.4842053\\\\\n",
       "\\end{tabular}\n"
      ],
      "text/markdown": [
       "\n",
       "PC1 | PC2 | \n",
       "|---|---|---|---|---|---|\n",
       "| -2.257141  | -0.4784238 | \n",
       "| -2.074013  |  0.6718827 | \n",
       "| -2.356335  |  0.3407664 | \n",
       "| -2.291707  |  0.5953999 | \n",
       "| -2.381863  | -0.6446757 | \n",
       "| -2.068701  | -1.4842053 | \n",
       "\n",
       "\n"
      ],
      "text/plain": [
       "     PC1       PC2       \n",
       "[1,] -2.257141 -0.4784238\n",
       "[2,] -2.074013  0.6718827\n",
       "[3,] -2.356335  0.3407664\n",
       "[4,] -2.291707  0.5953999\n",
       "[5,] -2.381863 -0.6446757\n",
       "[6,] -2.068701 -1.4842053"
      ]
     },
     "metadata": {},
     "output_type": "display_data"
    }
   ],
   "source": [
    "pred <- predict(model, as.matrix(iris[, -5]))\n",
    "head(pred)"
   ]
  },
  {
   "cell_type": "markdown",
   "metadata": {},
   "source": [
    "# SQL Code Generation"
   ]
  },
  {
   "cell_type": "code",
   "execution_count": 9,
   "metadata": {},
   "outputs": [],
   "source": [
    "\n",
    "test_ws_sql_gen = function(mod) {\n",
    "    WS_URL = \"https://sklearn2sql.herokuapp.com/model\"\n",
    "    WS_URL = \"http://localhost:1888/model\"\n",
    "    model_serialized <- serialize(mod, NULL)\n",
    "    b64_data = base64encode(model_serialized)\n",
    "    data = list(Name = \"caret_rpart_test_model\", SerializedModel = b64_data , SQLDialect = \"postgresql\" , Mode=\"caret\")\n",
    "    r = POST(WS_URL, body = data, encode = \"json\")\n",
    "    # print(r)\n",
    "    content = content(r)\n",
    "    # print(content)\n",
    "    lSQL = content$model$SQLGenrationResult[[1]]$SQL # content[\"model\"][\"SQLGenrationResult\"][0][\"SQL\"]\n",
    "    return(lSQL);\n",
    "}"
   ]
  },
  {
   "cell_type": "code",
   "execution_count": 10,
   "metadata": {},
   "outputs": [],
   "source": [
    "lModelSQL = test_ws_sql_gen(model)"
   ]
  },
  {
   "cell_type": "code",
   "execution_count": 11,
   "metadata": {
    "scrolled": false
   },
   "outputs": [
    {
     "name": "stdout",
     "output_type": "stream",
     "text": [
      "WITH \"CenteredDataForPCA\" AS \n",
      "(SELECT \"ADS\".\"KEY\" AS \"KEY\", (CAST(\"ADS\".\"Feature_0\" AS FLOAT) - 5.843333333333334) / 0.8280661279778629 AS \"Feature_0\", (CAST(\"ADS\".\"Feature_1\" AS FLOAT) - 3.0573333333333332) / 0.4358662849366982 AS \"Feature_1\", (CAST(\"ADS\".\"Feature_2\" AS FLOAT) - 3.758) / 1.7652982332594664 AS \"Feature_2\", (CAST(\"ADS\".\"Feature_3\" AS FLOAT) - 1.199333333333333) / 0.7622376689603465 AS \"Feature_3\" \n",
      "FROM \"INPUT_DATA\" AS \"ADS\")\n",
      " SELECT \"CenteredDataForPCA\".\"KEY\" AS \"KEY\", \"CenteredDataForPCA\".\"Feature_0\" * 0.5210659146701195 + \"CenteredDataForPCA\".\"Feature_1\" * -0.2693474425059429 + \"CenteredDataForPCA\".\"Feature_2\" * 0.5804130957962945 + \"CenteredDataForPCA\".\"Feature_3\" * 0.5648565357793613 AS pca_1, \"CenteredDataForPCA\".\"Feature_0\" * -0.3774176155645673 + \"CenteredDataForPCA\".\"Feature_1\" * -0.9232956595407152 + \"CenteredDataForPCA\".\"Feature_2\" * -0.024491609085586008 + \"CenteredDataForPCA\".\"Feature_3\" * -0.06694198696805842 AS pca_2 \n",
      "FROM \"CenteredDataForPCA\""
     ]
    }
   ],
   "source": [
    "cat(lModelSQL)\n"
   ]
  },
  {
   "cell_type": "markdown",
   "metadata": {},
   "source": [
    "# Execute the SQL Code"
   ]
  },
  {
   "cell_type": "code",
   "execution_count": 12,
   "metadata": {},
   "outputs": [
    {
     "data": {
      "text/html": [
       "0"
      ],
      "text/latex": [
       "0"
      ],
      "text/markdown": [
       "0"
      ],
      "text/plain": [
       "[1] 0"
      ]
     },
     "metadata": {},
     "output_type": "display_data"
    }
   ],
   "source": [
    "library(RODBC)\n",
    "conn = odbcConnect(\"pgsql\", uid=\"db\", pwd=\"db\", case=\"nochange\")\n",
    "odbcSetAutoCommit(conn , autoCommit = TRUE)"
   ]
  },
  {
   "cell_type": "code",
   "execution_count": 13,
   "metadata": {
    "scrolled": true
   },
   "outputs": [
    {
     "data": {
      "text/html": [
       "<table>\n",
       "<thead><tr><th scope=col>Feature_0</th><th scope=col>Feature_1</th><th scope=col>Feature_2</th><th scope=col>Feature_3</th><th scope=col>KEY</th></tr></thead>\n",
       "<tbody>\n",
       "\t<tr><td>5.1</td><td>3.5</td><td>1.4</td><td>0.2</td><td>1  </td></tr>\n",
       "\t<tr><td>4.9</td><td>3.0</td><td>1.4</td><td>0.2</td><td>2  </td></tr>\n",
       "\t<tr><td>4.7</td><td>3.2</td><td>1.3</td><td>0.2</td><td>3  </td></tr>\n",
       "\t<tr><td>4.6</td><td>3.1</td><td>1.5</td><td>0.2</td><td>4  </td></tr>\n",
       "\t<tr><td>5.0</td><td>3.6</td><td>1.4</td><td>0.2</td><td>5  </td></tr>\n",
       "\t<tr><td>5.4</td><td>3.9</td><td>1.7</td><td>0.4</td><td>6  </td></tr>\n",
       "</tbody>\n",
       "</table>\n"
      ],
      "text/latex": [
       "\\begin{tabular}{r|lllll}\n",
       " Feature\\_0 & Feature\\_1 & Feature\\_2 & Feature\\_3 & KEY\\\\\n",
       "\\hline\n",
       "\t 5.1 & 3.5 & 1.4 & 0.2 & 1  \\\\\n",
       "\t 4.9 & 3.0 & 1.4 & 0.2 & 2  \\\\\n",
       "\t 4.7 & 3.2 & 1.3 & 0.2 & 3  \\\\\n",
       "\t 4.6 & 3.1 & 1.5 & 0.2 & 4  \\\\\n",
       "\t 5.0 & 3.6 & 1.4 & 0.2 & 5  \\\\\n",
       "\t 5.4 & 3.9 & 1.7 & 0.4 & 6  \\\\\n",
       "\\end{tabular}\n"
      ],
      "text/markdown": [
       "\n",
       "Feature_0 | Feature_1 | Feature_2 | Feature_3 | KEY | \n",
       "|---|---|---|---|---|---|\n",
       "| 5.1 | 3.5 | 1.4 | 0.2 | 1   | \n",
       "| 4.9 | 3.0 | 1.4 | 0.2 | 2   | \n",
       "| 4.7 | 3.2 | 1.3 | 0.2 | 3   | \n",
       "| 4.6 | 3.1 | 1.5 | 0.2 | 4   | \n",
       "| 5.0 | 3.6 | 1.4 | 0.2 | 5   | \n",
       "| 5.4 | 3.9 | 1.7 | 0.4 | 6   | \n",
       "\n",
       "\n"
      ],
      "text/plain": [
       "  Feature_0 Feature_1 Feature_2 Feature_3 KEY\n",
       "1 5.1       3.5       1.4       0.2       1  \n",
       "2 4.9       3.0       1.4       0.2       2  \n",
       "3 4.7       3.2       1.3       0.2       3  \n",
       "4 4.6       3.1       1.5       0.2       4  \n",
       "5 5.0       3.6       1.4       0.2       5  \n",
       "6 5.4       3.9       1.7       0.4       6  "
      ]
     },
     "metadata": {},
     "output_type": "display_data"
    }
   ],
   "source": [
    "dataset = iris[,-5]\n",
    "\n",
    "df_sql = as.data.frame(dataset)\n",
    "names(df_sql) = sprintf(\"Feature_%d\",0:(ncol(df_sql)-1))\n",
    "df_sql$KEY = seq.int(nrow(dataset))\n",
    "\n",
    "sqlDrop(conn , \"INPUT_DATA\" , errors = FALSE)\n",
    "sqlSave(conn, df_sql, tablename = \"INPUT_DATA\", verbose = FALSE)\n",
    "\n",
    "head(df_sql)"
   ]
  },
  {
   "cell_type": "code",
   "execution_count": 14,
   "metadata": {},
   "outputs": [],
   "source": [
    "# colnames(df_sql)\n",
    "# odbcGetInfo(conn)\n",
    "# sqlTables(conn)"
   ]
  },
  {
   "cell_type": "code",
   "execution_count": 15,
   "metadata": {},
   "outputs": [
    {
     "data": {
      "text/html": [
       "<table>\n",
       "<thead><tr><th scope=col>KEY</th><th scope=col>pca_1</th><th scope=col>pca_2</th></tr></thead>\n",
       "<tbody>\n",
       "\t<tr><td>1         </td><td>-2.257141 </td><td>-0.4784238</td></tr>\n",
       "\t<tr><td>2         </td><td>-2.074013 </td><td> 0.6718827</td></tr>\n",
       "\t<tr><td>3         </td><td>-2.356335 </td><td> 0.3407664</td></tr>\n",
       "\t<tr><td>4         </td><td>-2.291707 </td><td> 0.5953999</td></tr>\n",
       "\t<tr><td>5         </td><td>-2.381863 </td><td>-0.6446757</td></tr>\n",
       "\t<tr><td>6         </td><td>-2.068701 </td><td>-1.4842053</td></tr>\n",
       "</tbody>\n",
       "</table>\n"
      ],
      "text/latex": [
       "\\begin{tabular}{r|lll}\n",
       " KEY & pca\\_1 & pca\\_2\\\\\n",
       "\\hline\n",
       "\t 1          & -2.257141  & -0.4784238\\\\\n",
       "\t 2          & -2.074013  &  0.6718827\\\\\n",
       "\t 3          & -2.356335  &  0.3407664\\\\\n",
       "\t 4          & -2.291707  &  0.5953999\\\\\n",
       "\t 5          & -2.381863  & -0.6446757\\\\\n",
       "\t 6          & -2.068701  & -1.4842053\\\\\n",
       "\\end{tabular}\n"
      ],
      "text/markdown": [
       "\n",
       "KEY | pca_1 | pca_2 | \n",
       "|---|---|---|---|---|---|\n",
       "| 1          | -2.257141  | -0.4784238 | \n",
       "| 2          | -2.074013  |  0.6718827 | \n",
       "| 3          | -2.356335  |  0.3407664 | \n",
       "| 4          | -2.291707  |  0.5953999 | \n",
       "| 5          | -2.381863  | -0.6446757 | \n",
       "| 6          | -2.068701  | -1.4842053 | \n",
       "\n",
       "\n"
      ],
      "text/plain": [
       "  KEY pca_1     pca_2     \n",
       "1 1   -2.257141 -0.4784238\n",
       "2 2   -2.074013  0.6718827\n",
       "3 3   -2.356335  0.3407664\n",
       "4 4   -2.291707  0.5953999\n",
       "5 5   -2.381863 -0.6446757\n",
       "6 6   -2.068701 -1.4842053"
      ]
     },
     "metadata": {},
     "output_type": "display_data"
    }
   ],
   "source": [
    "df_sql_out = sqlQuery(conn, lModelSQL)\n",
    "head(df_sql_out)"
   ]
  },
  {
   "cell_type": "markdown",
   "metadata": {},
   "source": [
    "# R Caret Rpart Output"
   ]
  },
  {
   "cell_type": "code",
   "execution_count": 16,
   "metadata": {},
   "outputs": [
    {
     "data": {
      "text/html": [
       "<table>\n",
       "<thead><tr><th scope=col>pca_1</th><th scope=col>pca_2</th><th scope=col>KEY</th></tr></thead>\n",
       "<tbody>\n",
       "\t<tr><td>-2.257141 </td><td>-0.4784238</td><td>1         </td></tr>\n",
       "\t<tr><td>-2.074013 </td><td> 0.6718827</td><td>2         </td></tr>\n",
       "\t<tr><td>-2.356335 </td><td> 0.3407664</td><td>3         </td></tr>\n",
       "\t<tr><td>-2.291707 </td><td> 0.5953999</td><td>4         </td></tr>\n",
       "\t<tr><td>-2.381863 </td><td>-0.6446757</td><td>5         </td></tr>\n",
       "\t<tr><td>-2.068701 </td><td>-1.4842053</td><td>6         </td></tr>\n",
       "</tbody>\n",
       "</table>\n"
      ],
      "text/latex": [
       "\\begin{tabular}{r|lll}\n",
       " pca\\_1 & pca\\_2 & KEY\\\\\n",
       "\\hline\n",
       "\t -2.257141  & -0.4784238 & 1         \\\\\n",
       "\t -2.074013  &  0.6718827 & 2         \\\\\n",
       "\t -2.356335  &  0.3407664 & 3         \\\\\n",
       "\t -2.291707  &  0.5953999 & 4         \\\\\n",
       "\t -2.381863  & -0.6446757 & 5         \\\\\n",
       "\t -2.068701  & -1.4842053 & 6         \\\\\n",
       "\\end{tabular}\n"
      ],
      "text/markdown": [
       "\n",
       "pca_1 | pca_2 | KEY | \n",
       "|---|---|---|---|---|---|\n",
       "| -2.257141  | -0.4784238 | 1          | \n",
       "| -2.074013  |  0.6718827 | 2          | \n",
       "| -2.356335  |  0.3407664 | 3          | \n",
       "| -2.291707  |  0.5953999 | 4          | \n",
       "| -2.381863  | -0.6446757 | 5          | \n",
       "| -2.068701  | -1.4842053 | 6          | \n",
       "\n",
       "\n"
      ],
      "text/plain": [
       "  pca_1     pca_2      KEY\n",
       "1 -2.257141 -0.4784238 1  \n",
       "2 -2.074013  0.6718827 2  \n",
       "3 -2.356335  0.3407664 3  \n",
       "4 -2.291707  0.5953999 4  \n",
       "5 -2.381863 -0.6446757 5  \n",
       "6 -2.068701 -1.4842053 6  "
      ]
     },
     "metadata": {},
     "output_type": "display_data"
    }
   ],
   "source": [
    "preprocessed  =  predict(model, iris[,-5])\n",
    "df_r_out = data.frame(preprocessed)\n",
    "names(df_r_out) = sprintf(\"pca_%d\",1:ncol(df_r_out))\n",
    "\n",
    "df_r_out$KEY = seq.int(nrow(dataset))\n",
    "\n",
    "head(df_r_out)"
   ]
  },
  {
   "cell_type": "markdown",
   "metadata": {},
   "source": [
    "# Compare R and SQL output"
   ]
  },
  {
   "cell_type": "code",
   "execution_count": 17,
   "metadata": {},
   "outputs": [
    {
     "data": {
      "text/html": [
       "<table>\n",
       "<thead><tr><th scope=col>KEY</th><th scope=col>pca_1_R</th><th scope=col>pca_2_R</th><th scope=col>pca_1_SQL</th><th scope=col>pca_2_SQL</th></tr></thead>\n",
       "<tbody>\n",
       "\t<tr><td>1         </td><td>-2.257141 </td><td>-0.4784238</td><td>-2.257141 </td><td>-0.4784238</td></tr>\n",
       "\t<tr><td>2         </td><td>-2.074013 </td><td> 0.6718827</td><td>-2.074013 </td><td> 0.6718827</td></tr>\n",
       "\t<tr><td>3         </td><td>-2.356335 </td><td> 0.3407664</td><td>-2.356335 </td><td> 0.3407664</td></tr>\n",
       "\t<tr><td>4         </td><td>-2.291707 </td><td> 0.5953999</td><td>-2.291707 </td><td> 0.5953999</td></tr>\n",
       "\t<tr><td>5         </td><td>-2.381863 </td><td>-0.6446757</td><td>-2.381863 </td><td>-0.6446757</td></tr>\n",
       "\t<tr><td>6         </td><td>-2.068701 </td><td>-1.4842053</td><td>-2.068701 </td><td>-1.4842053</td></tr>\n",
       "</tbody>\n",
       "</table>\n"
      ],
      "text/latex": [
       "\\begin{tabular}{r|lllll}\n",
       " KEY & pca\\_1\\_R & pca\\_2\\_R & pca\\_1\\_SQL & pca\\_2\\_SQL\\\\\n",
       "\\hline\n",
       "\t 1          & -2.257141  & -0.4784238 & -2.257141  & -0.4784238\\\\\n",
       "\t 2          & -2.074013  &  0.6718827 & -2.074013  &  0.6718827\\\\\n",
       "\t 3          & -2.356335  &  0.3407664 & -2.356335  &  0.3407664\\\\\n",
       "\t 4          & -2.291707  &  0.5953999 & -2.291707  &  0.5953999\\\\\n",
       "\t 5          & -2.381863  & -0.6446757 & -2.381863  & -0.6446757\\\\\n",
       "\t 6          & -2.068701  & -1.4842053 & -2.068701  & -1.4842053\\\\\n",
       "\\end{tabular}\n"
      ],
      "text/markdown": [
       "\n",
       "KEY | pca_1_R | pca_2_R | pca_1_SQL | pca_2_SQL | \n",
       "|---|---|---|---|---|---|\n",
       "| 1          | -2.257141  | -0.4784238 | -2.257141  | -0.4784238 | \n",
       "| 2          | -2.074013  |  0.6718827 | -2.074013  |  0.6718827 | \n",
       "| 3          | -2.356335  |  0.3407664 | -2.356335  |  0.3407664 | \n",
       "| 4          | -2.291707  |  0.5953999 | -2.291707  |  0.5953999 | \n",
       "| 5          | -2.381863  | -0.6446757 | -2.381863  | -0.6446757 | \n",
       "| 6          | -2.068701  | -1.4842053 | -2.068701  | -1.4842053 | \n",
       "\n",
       "\n"
      ],
      "text/plain": [
       "  KEY pca_1_R   pca_2_R    pca_1_SQL pca_2_SQL \n",
       "1 1   -2.257141 -0.4784238 -2.257141 -0.4784238\n",
       "2 2   -2.074013  0.6718827 -2.074013  0.6718827\n",
       "3 3   -2.356335  0.3407664 -2.356335  0.3407664\n",
       "4 4   -2.291707  0.5953999 -2.291707  0.5953999\n",
       "5 5   -2.381863 -0.6446757 -2.381863 -0.6446757\n",
       "6 6   -2.068701 -1.4842053 -2.068701 -1.4842053"
      ]
     },
     "metadata": {},
     "output_type": "display_data"
    }
   ],
   "source": [
    "df_merge = merge(x = df_r_out, y = df_sql_out, by = \"KEY\", all = TRUE, , suffixes = c(\"_R\",\"_SQL\"))\n",
    "head(df_merge)"
   ]
  },
  {
   "cell_type": "code",
   "execution_count": 18,
   "metadata": {},
   "outputs": [
    {
     "data": {
      "text/html": [
       "<table>\n",
       "<thead><tr><th scope=col>KEY</th><th scope=col>pca_1_R</th><th scope=col>pca_2_R</th><th scope=col>pca_1_SQL</th><th scope=col>pca_2_SQL</th><th scope=col>Error1</th><th scope=col>Error2</th><th scope=col>AbsError</th></tr></thead>\n",
       "<tbody>\n",
       "\t<tr><td>1            </td><td>-2.257141    </td><td>-0.4784238   </td><td>-2.257141    </td><td>-0.4784238   </td><td> 0.000000e+00</td><td>1.110223e-16 </td><td>1.110223e-16 </td></tr>\n",
       "\t<tr><td>2            </td><td>-2.074013    </td><td> 0.6718827   </td><td>-2.074013    </td><td> 0.6718827   </td><td>-4.440892e-16</td><td>0.000000e+00 </td><td>4.440892e-16 </td></tr>\n",
       "\t<tr><td>3            </td><td>-2.356335    </td><td> 0.3407664   </td><td>-2.356335    </td><td> 0.3407664   </td><td>-4.440892e-16</td><td>5.551115e-17 </td><td>4.996004e-16 </td></tr>\n",
       "\t<tr><td>4            </td><td>-2.291707    </td><td> 0.5953999   </td><td>-2.291707    </td><td> 0.5953999   </td><td> 0.000000e+00</td><td>0.000000e+00 </td><td>0.000000e+00 </td></tr>\n",
       "\t<tr><td>5            </td><td>-2.381863    </td><td>-0.6446757   </td><td>-2.381863    </td><td>-0.6446757   </td><td> 0.000000e+00</td><td>1.110223e-16 </td><td>1.110223e-16 </td></tr>\n",
       "\t<tr><td>6            </td><td>-2.068701    </td><td>-1.4842053   </td><td>-2.068701    </td><td>-1.4842053   </td><td>-4.440892e-16</td><td>2.220446e-16 </td><td>6.661338e-16 </td></tr>\n",
       "</tbody>\n",
       "</table>\n"
      ],
      "text/latex": [
       "\\begin{tabular}{r|llllllll}\n",
       " KEY & pca\\_1\\_R & pca\\_2\\_R & pca\\_1\\_SQL & pca\\_2\\_SQL & Error1 & Error2 & AbsError\\\\\n",
       "\\hline\n",
       "\t 1             & -2.257141     & -0.4784238    & -2.257141     & -0.4784238    &  0.000000e+00 & 1.110223e-16  & 1.110223e-16 \\\\\n",
       "\t 2             & -2.074013     &  0.6718827    & -2.074013     &  0.6718827    & -4.440892e-16 & 0.000000e+00  & 4.440892e-16 \\\\\n",
       "\t 3             & -2.356335     &  0.3407664    & -2.356335     &  0.3407664    & -4.440892e-16 & 5.551115e-17  & 4.996004e-16 \\\\\n",
       "\t 4             & -2.291707     &  0.5953999    & -2.291707     &  0.5953999    &  0.000000e+00 & 0.000000e+00  & 0.000000e+00 \\\\\n",
       "\t 5             & -2.381863     & -0.6446757    & -2.381863     & -0.6446757    &  0.000000e+00 & 1.110223e-16  & 1.110223e-16 \\\\\n",
       "\t 6             & -2.068701     & -1.4842053    & -2.068701     & -1.4842053    & -4.440892e-16 & 2.220446e-16  & 6.661338e-16 \\\\\n",
       "\\end{tabular}\n"
      ],
      "text/markdown": [
       "\n",
       "KEY | pca_1_R | pca_2_R | pca_1_SQL | pca_2_SQL | Error1 | Error2 | AbsError | \n",
       "|---|---|---|---|---|---|\n",
       "| 1             | -2.257141     | -0.4784238    | -2.257141     | -0.4784238    |  0.000000e+00 | 1.110223e-16  | 1.110223e-16  | \n",
       "| 2             | -2.074013     |  0.6718827    | -2.074013     |  0.6718827    | -4.440892e-16 | 0.000000e+00  | 4.440892e-16  | \n",
       "| 3             | -2.356335     |  0.3407664    | -2.356335     |  0.3407664    | -4.440892e-16 | 5.551115e-17  | 4.996004e-16  | \n",
       "| 4             | -2.291707     |  0.5953999    | -2.291707     |  0.5953999    |  0.000000e+00 | 0.000000e+00  | 0.000000e+00  | \n",
       "| 5             | -2.381863     | -0.6446757    | -2.381863     | -0.6446757    |  0.000000e+00 | 1.110223e-16  | 1.110223e-16  | \n",
       "| 6             | -2.068701     | -1.4842053    | -2.068701     | -1.4842053    | -4.440892e-16 | 2.220446e-16  | 6.661338e-16  | \n",
       "\n",
       "\n"
      ],
      "text/plain": [
       "  KEY pca_1_R   pca_2_R    pca_1_SQL pca_2_SQL  Error1        Error2      \n",
       "1 1   -2.257141 -0.4784238 -2.257141 -0.4784238  0.000000e+00 1.110223e-16\n",
       "2 2   -2.074013  0.6718827 -2.074013  0.6718827 -4.440892e-16 0.000000e+00\n",
       "3 3   -2.356335  0.3407664 -2.356335  0.3407664 -4.440892e-16 5.551115e-17\n",
       "4 4   -2.291707  0.5953999 -2.291707  0.5953999  0.000000e+00 0.000000e+00\n",
       "5 5   -2.381863 -0.6446757 -2.381863 -0.6446757  0.000000e+00 1.110223e-16\n",
       "6 6   -2.068701 -1.4842053 -2.068701 -1.4842053 -4.440892e-16 2.220446e-16\n",
       "  AbsError    \n",
       "1 1.110223e-16\n",
       "2 4.440892e-16\n",
       "3 4.996004e-16\n",
       "4 0.000000e+00\n",
       "5 1.110223e-16\n",
       "6 6.661338e-16"
      ]
     },
     "metadata": {},
     "output_type": "display_data"
    }
   ],
   "source": [
    "df_merge$Error1 = df_merge$pca_1_R - df_merge$pca_1_SQL\n",
    "df_merge$Error2 = df_merge$pca_2_R - df_merge$pca_2_SQL\n",
    "df_merge$AbsError = abs(df_merge$Error1) + abs(df_merge$Error2)\n",
    "head(df_merge)"
   ]
  },
  {
   "cell_type": "code",
   "execution_count": 19,
   "metadata": {},
   "outputs": [
    {
     "data": {
      "text/html": [
       "<table>\n",
       "<thead><tr><th scope=col>KEY</th><th scope=col>pca_1_R</th><th scope=col>pca_2_R</th><th scope=col>pca_1_SQL</th><th scope=col>pca_2_SQL</th><th scope=col>Error1</th><th scope=col>Error2</th><th scope=col>AbsError</th></tr></thead>\n",
       "<tbody>\n",
       "</tbody>\n",
       "</table>\n"
      ],
      "text/latex": [
       "\\begin{tabular}{r|llllllll}\n",
       " KEY & pca\\_1\\_R & pca\\_2\\_R & pca\\_1\\_SQL & pca\\_2\\_SQL & Error1 & Error2 & AbsError\\\\\n",
       "\\hline\n",
       "\\end{tabular}\n"
      ],
      "text/markdown": [
       "\n",
       "KEY | pca_1_R | pca_2_R | pca_1_SQL | pca_2_SQL | Error1 | Error2 | AbsError | \n",
       "||\n",
       "\n",
       "\n"
      ],
      "text/plain": [
       "     KEY pca_1_R pca_2_R pca_1_SQL pca_2_SQL Error1 Error2 AbsError"
      ]
     },
     "metadata": {},
     "output_type": "display_data"
    }
   ],
   "source": [
    "diffs_df = df_merge[df_merge$AbsError > 0.00001,]\n",
    "head(diffs_df)"
   ]
  },
  {
   "cell_type": "code",
   "execution_count": 20,
   "metadata": {},
   "outputs": [],
   "source": [
    "stopifnot(nrow(diffs_df) == 0)"
   ]
  },
  {
   "cell_type": "code",
   "execution_count": null,
   "metadata": {},
   "outputs": [],
   "source": []
  },
  {
   "cell_type": "code",
   "execution_count": 21,
   "metadata": {},
   "outputs": [
    {
     "data": {
      "text/plain": [
       "      KEY             pca_1             pca_2         \n",
       " Min.   :  1.00   Min.   :-2.7651   Min.   :-2.67732  \n",
       " 1st Qu.: 38.25   1st Qu.:-2.0957   1st Qu.:-0.59205  \n",
       " Median : 75.50   Median : 0.4169   Median :-0.01744  \n",
       " Mean   : 75.50   Mean   : 0.0000   Mean   : 0.00000  \n",
       " 3rd Qu.:112.75   3rd Qu.: 1.3385   3rd Qu.: 0.59649  \n",
       " Max.   :150.00   Max.   : 3.2996   Max.   : 2.64521  "
      ]
     },
     "metadata": {},
     "output_type": "display_data"
    }
   ],
   "source": [
    "summary(df_sql_out)"
   ]
  },
  {
   "cell_type": "code",
   "execution_count": 22,
   "metadata": {},
   "outputs": [
    {
     "data": {
      "text/plain": [
       "     pca_1             pca_2               KEY        \n",
       " Min.   :-2.7651   Min.   :-2.67732   Min.   :  1.00  \n",
       " 1st Qu.:-2.0957   1st Qu.:-0.59205   1st Qu.: 38.25  \n",
       " Median : 0.4169   Median :-0.01744   Median : 75.50  \n",
       " Mean   : 0.0000   Mean   : 0.00000   Mean   : 75.50  \n",
       " 3rd Qu.: 1.3385   3rd Qu.: 0.59649   3rd Qu.:112.75  \n",
       " Max.   : 3.2996   Max.   : 2.64521   Max.   :150.00  "
      ]
     },
     "metadata": {},
     "output_type": "display_data"
    }
   ],
   "source": [
    "summary(df_r_out)"
   ]
  },
  {
   "cell_type": "code",
   "execution_count": null,
   "metadata": {},
   "outputs": [],
   "source": []
  }
 ],
 "metadata": {
  "kernelspec": {
   "display_name": "R",
   "language": "R",
   "name": "ir"
  },
  "language_info": {
   "codemirror_mode": "r",
   "file_extension": ".r",
   "mimetype": "text/x-r-source",
   "name": "R",
   "pygments_lexer": "r",
   "version": "3.5.1"
  }
 },
 "nbformat": 4,
 "nbformat_minor": 2
}
