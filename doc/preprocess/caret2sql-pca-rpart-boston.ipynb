{
 "cells": [
  {
   "cell_type": "code",
   "execution_count": 1,
   "metadata": {},
   "outputs": [
    {
     "name": "stderr",
     "output_type": "stream",
     "text": [
      "\n",
      "Attaching package: ‘httr’\n",
      "\n",
      "The following object is masked from ‘package:caret’:\n",
      "\n",
      "    progress\n",
      "\n"
     ]
    }
   ],
   "source": [
    "library(caret, quiet = TRUE)\n",
    "library(base64enc)\n",
    "library(httr, quiet = TRUE)\n",
    "\n",
    "library(mlbench)"
   ]
  },
  {
   "cell_type": "markdown",
   "metadata": {},
   "source": [
    "# Build a Model"
   ]
  },
  {
   "cell_type": "code",
   "execution_count": 2,
   "metadata": {},
   "outputs": [],
   "source": [
    "\n",
    "\n",
    "data(BostonHousing)\n",
    "BostonHousing$chas = as.numeric(BostonHousing$chas)\n",
    "\n",
    "set.seed(1960)\n",
    "\n",
    "dataset = BostonHousing[, -14] \n",
    "\n",
    "create_model  =  function() {\n",
    "\n",
    "    model <- train(medv ~ ., data = BostonHousing, method = \"rpart\", preProcess=c(\"pca\"))    \n",
    "\n",
    "    return(model)\n",
    "}\n"
   ]
  },
  {
   "cell_type": "code",
   "execution_count": 3,
   "metadata": {},
   "outputs": [
    {
     "name": "stderr",
     "output_type": "stream",
     "text": [
      "Warning message in nominalTrainWorkflow(x = x, y = y, wts = weights, info = trainInfo, :\n",
      "“There were missing values in resampled performance measures.”"
     ]
    }
   ],
   "source": [
    "model = create_model()\n",
    "# cat(model$feature_names)\n",
    "# print(model)"
   ]
  },
  {
   "cell_type": "code",
   "execution_count": 4,
   "metadata": {},
   "outputs": [
    {
     "data": {
      "text/plain": [
       "      medv         Estimator         Error         \n",
       " Min.   : 5.00   Min.   :17.17   Min.   :-32.8329  \n",
       " 1st Qu.:17.02   1st Qu.:17.17   1st Qu.: -2.5208  \n",
       " Median :21.20   Median :23.07   Median :  0.6734  \n",
       " Mean   :22.53   Mean   :22.53   Mean   :  0.0000  \n",
       " 3rd Qu.:25.00   3rd Qu.:23.07   3rd Qu.:  3.7671  \n",
       " Max.   :50.00   Max.   :36.22   Max.   : 13.7157  "
      ]
     },
     "metadata": {},
     "output_type": "display_data"
    },
    {
     "data": {
      "text/html": [
       "0.235851234791377"
      ],
      "text/latex": [
       "0.235851234791377"
      ],
      "text/markdown": [
       "0.235851234791377"
      ],
      "text/plain": [
       "[1] 0.2358512"
      ]
     },
     "metadata": {},
     "output_type": "display_data"
    }
   ],
   "source": [
    "pred_labels <- predict(model, BostonHousing[, -14] , type=\"raw\")\n",
    "df = data.frame(BostonHousing[,14])\n",
    "names(df) = c(\"medv\")\n",
    "df$Estimator = pred_labels\n",
    "df$Error = df$Estimator - df$medv\n",
    "MAPE = mean(abs(df$Error / df$medv))\n",
    "summary(df)\n",
    "MAPE"
   ]
  },
  {
   "cell_type": "markdown",
   "metadata": {},
   "source": [
    "# SQL Code Generation"
   ]
  },
  {
   "cell_type": "code",
   "execution_count": 5,
   "metadata": {},
   "outputs": [],
   "source": [
    "\n",
    "test_ws_sql_gen = function(mod) {\n",
    "    WS_URL = \"https://sklearn2sql.herokuapp.com/model\"\n",
    "    WS_URL = \"http://localhost:1888/model\"\n",
    "    model_serialized <- serialize(mod, NULL)\n",
    "    b64_data = base64encode(model_serialized)\n",
    "    data = list(Name = \"xgboost_test_model\", SerializedModel = b64_data , SQLDialect = \"postgresql\" , Mode=\"caret\")\n",
    "    r = POST(WS_URL, body = data, encode = \"json\")\n",
    "    # print(r)\n",
    "    content = content(r)\n",
    "    # print(content)\n",
    "    lSQL = content$model$SQLGenrationResult[[1]]$SQL # content[\"model\"][\"SQLGenrationResult\"][0][\"SQL\"]\n",
    "    return(lSQL);\n",
    "}"
   ]
  },
  {
   "cell_type": "code",
   "execution_count": 6,
   "metadata": {
    "scrolled": false
   },
   "outputs": [
    {
     "name": "stdout",
     "output_type": "stream",
     "text": [
      "WITH \"CenteredDataForPCA\" AS \n",
      "(SELECT \"ADS\".\"KEY\" AS \"KEY\", (CAST(\"ADS\".\"Feature_0\" AS FLOAT) - 3.6135235573122526) / 8.60154510533249 AS \"Feature_0\", (CAST(\"ADS\".\"Feature_1\" AS FLOAT) - 11.363636363636365) / 23.322452994515135 AS \"Feature_1\", (CAST(\"ADS\".\"Feature_2\" AS FLOAT) - 11.13677865612648) / 6.860352940897585 AS \"Feature_2\", (CAST(\"ADS\".\"Feature_3\" AS FLOAT) - 1.0691699604743083) / 0.2539940413404104 AS \"Feature_3\", (CAST(\"ADS\".\"Feature_4\" AS FLOAT) - 0.5546950592885376) / 0.115877675667556 AS \"Feature_4\", (CAST(\"ADS\".\"Feature_5\" AS FLOAT) - 6.284634387351779) / 0.7026171434153233 AS \"Feature_5\", (CAST(\"ADS\".\"Feature_6\" AS FLOAT) - 68.57490118577077) / 28.148861406903617 AS \"Feature_6\", (CAST(\"ADS\".\"Feature_7\" AS FLOAT) - 3.7950426877470353) / 2.105710126627611 AS \"Feature_7\", (CAST(\"ADS\".\"Feature_8\" AS FLOAT) - 9.549407114624506) / 8.707259384239368 AS \"Feature_8\", (CAST(\"ADS\".\"Feature_9\" AS FLOAT) - 408.2371541501977) / 168.537116054959 AS \"Feature_9\", (CAST(\"ADS\".\"Feature_10\" AS FLOAT) - 18.455533596837945) / 2.1649455237144406 AS \"Feature_10\", (CAST(\"ADS\".\"Feature_11\" AS FLOAT) - 356.6740316205533) / 91.29486438415783 AS \"Feature_11\", (CAST(\"ADS\".\"Feature_12\" AS FLOAT) - 12.653063241106722) / 7.141061511348569 AS \"Feature_12\" \n",
      "FROM \"INPUT_DATA\" AS \"ADS\"), \n",
      "\"ADS_car_1_OUT\" AS \n",
      "(SELECT \"CenteredDataForPCA\".\"KEY\" AS \"KEY\", \"CenteredDataForPCA\".\"Feature_0\" * 0.2509513970070941 + \"CenteredDataForPCA\".\"Feature_1\" * -0.25631454103240026 + \"CenteredDataForPCA\".\"Feature_2\" * 0.346672065283974 + \"CenteredDataForPCA\".\"Feature_3\" * 0.00504243430350005 + \"CenteredDataForPCA\".\"Feature_4\" * 0.3428523131455746 + \"CenteredDataForPCA\".\"Feature_5\" * -0.18924256979446785 + \"CenteredDataForPCA\".\"Feature_6\" * 0.3136705960990012 + \"CenteredDataForPCA\".\"Feature_7\" * -0.3215438656900491 + \"CenteredDataForPCA\".\"Feature_8\" * 0.3197927677268653 + \"CenteredDataForPCA\".\"Feature_9\" * 0.33846914672407835 + \"CenteredDataForPCA\".\"Feature_10\" * 0.20494225789379752 + \"CenteredDataForPCA\".\"Feature_11\" * -0.2029726115487236 + \"CenteredDataForPCA\".\"Feature_12\" * 0.3097598399532092 AS caret_preprocess_output_2, \"CenteredDataForPCA\".\"Feature_0\" * -0.31525236789261285 + \"CenteredDataForPCA\".\"Feature_1\" * -0.3233129049478517 + \"CenteredDataForPCA\".\"Feature_2\" * 0.11249290840362802 + \"CenteredDataForPCA\".\"Feature_3\" * 0.4548291358125582 + \"CenteredDataForPCA\".\"Feature_4\" * 0.21911553071380926 + \"CenteredDataForPCA\".\"Feature_5\" * 0.14933154130986415 + \"CenteredDataForPCA\".\"Feature_6\" * 0.31197777808858984 + \"CenteredDataForPCA\".\"Feature_7\" * -0.3490700044535904 + \"CenteredDataForPCA\".\"Feature_8\" * -0.2715209369150067 + \"CenteredDataForPCA\".\"Feature_9\" * -0.2394536451210735 + \"CenteredDataForPCA\".\"Feature_10\" * -0.30589695426565683 + \"CenteredDataForPCA\".\"Feature_11\" * 0.2385594434622721 + \"CenteredDataForPCA\".\"Feature_12\" * -0.07432202707053859 AS caret_preprocess_output_3, \"CenteredDataForPCA\".\"Feature_0\" * 0.2465664916015588 + \"CenteredDataForPCA\".\"Feature_1\" * 0.29585781573137704 + \"CenteredDataForPCA\".\"Feature_2\" * -0.01594591523872142 + \"CenteredDataForPCA\".\"Feature_3\" * 0.28978081523708604 + \"CenteredDataForPCA\".\"Feature_4\" * 0.1209641083447827 + \"CenteredDataForPCA\".\"Feature_5\" * 0.5939611667512528 + \"CenteredDataForPCA\".\"Feature_6\" * -0.0176748092866678 + \"CenteredDataForPCA\".\"Feature_7\" * -0.04973627273186505 + \"CenteredDataForPCA\".\"Feature_8\" * 0.2872548345188948 + \"CenteredDataForPCA\".\"Feature_9\" * 0.2207444705668772 + \"CenteredDataForPCA\".\"Feature_10\" * -0.3234462722818899 + \"CenteredDataForPCA\".\"Feature_11\" * -0.3001459005984176 + \"CenteredDataForPCA\".\"Feature_12\" * -0.2670002476282283 AS caret_preprocess_output_4, \"CenteredDataForPCA\".\"Feature_0\" * -0.06177070730244386 + \"CenteredDataForPCA\".\"Feature_1\" * -0.12871159098547744 + \"CenteredDataForPCA\".\"Feature_2\" * -0.017145713978118718 + \"CenteredDataForPCA\".\"Feature_3\" * -0.8159413638305808 + \"CenteredDataForPCA\".\"Feature_4\" * 0.12822613989456658 + \"CenteredDataForPCA\".\"Feature_5\" * 0.2805918381718397 + \"CenteredDataForPCA\".\"Feature_6\" * 0.1752060327559884 + \"CenteredDataForPCA\".\"Feature_7\" * -0.21543585408874694 + \"CenteredDataForPCA\".\"Feature_8\" * -0.13234995822046305 + \"CenteredDataForPCA\".\"Feature_9\" * -0.1033350921020925 + \"CenteredDataForPCA\".\"Feature_10\" * -0.28262197561387253 + \"CenteredDataForPCA\".\"Feature_11\" * -0.16849849675485046 + \"CenteredDataForPCA\".\"Feature_12\" * -0.06941441058327473 AS caret_preprocess_output_5, \"CenteredDataForPCA\".\"Feature_0\" * 0.08215691888385966 + \"CenteredDataForPCA\".\"Feature_1\" * 0.320616986590648 + \"CenteredDataForPCA\".\"Feature_2\" * -0.0078111936968958545 + \"CenteredDataForPCA\".\"Feature_3\" * 0.08653094482623847 + \"CenteredDataForPCA\".\"Feature_4\" * 0.13685355684243689 + \"CenteredDataForPCA\".\"Feature_5\" * -0.42344719520817437 + \"CenteredDataForPCA\".\"Feature_6\" * 0.01669084721623361 + \"CenteredDataForPCA\".\"Feature_7\" * 0.09859224710067309 + \"CenteredDataForPCA\".\"Feature_8\" * -0.20413162056772288 + \"CenteredDataForPCA\".\"Feature_9\" * -0.13046056517005236 + \"CenteredDataForPCA\".\"Feature_10\" * -0.5840022319155256 + \"CenteredDataForPCA\".\"Feature_11\" * -0.3456069474449004 + \"CenteredDataForPCA\".\"Feature_12\" * 0.39456112850318564 AS caret_preprocess_output_6, \"CenteredDataForPCA\".\"Feature_0\" * -0.2196596119916216 + \"CenteredDataForPCA\".\"Feature_1\" * -0.32338810230257803 + \"CenteredDataForPCA\".\"Feature_2\" * -0.07613789853124872 + \"CenteredDataForPCA\".\"Feature_3\" * 0.16749014135038012 + \"CenteredDataForPCA\".\"Feature_4\" * -0.15298267012251374 + \"CenteredDataForPCA\".\"Feature_5\" * 0.05926707386605683 + \"CenteredDataForPCA\".\"Feature_6\" * -0.07170914451657844 + \"CenteredDataForPCA\".\"Feature_7\" * 0.02343872338534381 + \"CenteredDataForPCA\".\"Feature_8\" * -0.14319401187015138 + \"CenteredDataForPCA\".\"Feature_9\" * -0.19293428207664656 + \"CenteredDataForPCA\".\"Feature_10\" * 0.2731532998292745 + \"CenteredDataForPCA\".\"Feature_11\" * -0.8034545367136144 + \"CenteredDataForPCA\".\"Feature_12\" * -0.053215829727622434 AS caret_preprocess_output_7, \"CenteredDataForPCA\".\"Feature_0\" * 0.7776072067450954 + \"CenteredDataForPCA\".\"Feature_1\" * -0.2749962801922408 + \"CenteredDataForPCA\".\"Feature_2\" * -0.3395764543084556 + \"CenteredDataForPCA\".\"Feature_3\" * 0.07413620811204719 + \"CenteredDataForPCA\".\"Feature_4\" * -0.1996348401087879 + \"CenteredDataForPCA\".\"Feature_5\" * 0.06393992432284622 + \"CenteredDataForPCA\".\"Feature_6\" * 0.1160107134488674 + \"CenteredDataForPCA\".\"Feature_7\" * -0.10390043998563353 + \"CenteredDataForPCA\".\"Feature_8\" * -0.13794254628014904 + \"CenteredDataForPCA\".\"Feature_9\" * -0.3148868347926666 + \"CenteredDataForPCA\".\"Feature_10\" * 0.002323869265375702 + \"CenteredDataForPCA\".\"Feature_11\" * 0.07029475884624245 + \"CenteredDataForPCA\".\"Feature_12\" * 0.0870111691863693 AS caret_preprocess_output_8, \"CenteredDataForPCA\".\"Feature_0\" * -0.15335047663641807 + \"CenteredDataForPCA\".\"Feature_1\" * 0.4026803090893618 + \"CenteredDataForPCA\".\"Feature_2\" * -0.1739317157305119 + \"CenteredDataForPCA\".\"Feature_3\" * 0.02466214767995399 + \"CenteredDataForPCA\".\"Feature_4\" * -0.08012056035960702 + \"CenteredDataForPCA\".\"Feature_5\" * 0.3267522588744157 + \"CenteredDataForPCA\".\"Feature_6\" * 0.6008229171124247 + \"CenteredDataForPCA\".\"Feature_7\" * 0.12181198210837367 + \"CenteredDataForPCA\".\"Feature_8\" * -0.08035831055459822 + \"CenteredDataForPCA\".\"Feature_9\" * -0.08277434696301456 + \"CenteredDataForPCA\".\"Feature_10\" * 0.31788420162160136 + \"CenteredDataForPCA\".\"Feature_11\" * 0.004922914852933655 + \"CenteredDataForPCA\".\"Feature_12\" * 0.42435292601302005 AS caret_preprocess_output_9, \"CenteredDataForPCA\".\"Feature_0\" * 0.26039028404780634 + \"CenteredDataForPCA\".\"Feature_1\" * 0.35813748602707574 + \"CenteredDataForPCA\".\"Feature_2\" * 0.6444161549324688 + \"CenteredDataForPCA\".\"Feature_3\" * -0.01372777159025782 + \"CenteredDataForPCA\".\"Feature_4\" * -0.01852201242956769 + \"CenteredDataForPCA\".\"Feature_5\" * 0.04789803527115062 + \"CenteredDataForPCA\".\"Feature_6\" * -0.067562182108849 + \"CenteredDataForPCA\".\"Feature_7\" * -0.1532912448609238 + \"CenteredDataForPCA\".\"Feature_8\" * -0.4708906692227936 + \"CenteredDataForPCA\".\"Feature_9\" * -0.17656339103436086 + \"CenteredDataForPCA\".\"Feature_10\" * 0.2544283603125748 + \"CenteredDataForPCA\".\"Feature_11\" * -0.044898023687983214 + \"CenteredDataForPCA\".\"Feature_12\" * -0.1952213902682112 AS caret_preprocess_output_10 \n",
      "FROM \"CenteredDataForPCA\"), \n",
      "\"DT_node_lookup\" AS \n",
      "(SELECT \"ADS_car_1_OUT\".\"KEY\" AS \"KEY\", CASE WHEN (\"ADS_car_1_OUT\".caret_preprocess_output_2 >= -0.16012621231664964) THEN 2 ELSE CASE WHEN (\"ADS_car_1_OUT\".caret_preprocess_output_4 < 0.5331400541022757) THEN 6 ELSE 7 END END AS node_id_2 \n",
      "FROM \"ADS_car_1_OUT\"), \n",
      "\"DT_node_data\" AS \n",
      "(SELECT \"Values\".nid AS nid, \"Values\".\"E\" AS \"E\" \n",
      "FROM (SELECT 2 AS nid, 17.167099567099573 AS \"E\" UNION ALL SELECT 6 AS nid, 23.07343749999998 AS \"E\" UNION ALL SELECT 7 AS nid, 36.2156626506024 AS \"E\") AS \"Values\"), \n",
      "\"DT_Output\" AS \n",
      "(SELECT \"DT_node_lookup\".\"KEY\" AS \"KEY\", \"DT_node_lookup\".node_id_2 AS node_id_2, \"DT_node_data\".nid AS nid, \"DT_node_data\".\"E\" AS \"E\" \n",
      "FROM \"DT_node_lookup\" LEFT OUTER JOIN \"DT_node_data\" ON \"DT_node_lookup\".node_id_2 = \"DT_node_data\".nid)\n",
      " SELECT \"DT_Output\".\"KEY\" AS \"KEY\", \"DT_Output\".\"E\" AS \"Estimator\" \n",
      "FROM \"DT_Output\""
     ]
    }
   ],
   "source": [
    "lModelSQL = test_ws_sql_gen(model)\n",
    "cat(lModelSQL)\n"
   ]
  },
  {
   "cell_type": "code",
   "execution_count": null,
   "metadata": {},
   "outputs": [],
   "source": []
  },
  {
   "cell_type": "markdown",
   "metadata": {},
   "source": [
    "# Execute the SQL Code"
   ]
  },
  {
   "cell_type": "code",
   "execution_count": 7,
   "metadata": {},
   "outputs": [
    {
     "data": {
      "text/html": [
       "0"
      ],
      "text/latex": [
       "0"
      ],
      "text/markdown": [
       "0"
      ],
      "text/plain": [
       "[1] 0"
      ]
     },
     "metadata": {},
     "output_type": "display_data"
    }
   ],
   "source": [
    "library(RODBC)\n",
    "conn = odbcConnect(\"pgsql\", uid=\"db\", pwd=\"db\", case=\"nochange\")\n",
    "odbcSetAutoCommit(conn , autoCommit = TRUE)"
   ]
  },
  {
   "cell_type": "code",
   "execution_count": 8,
   "metadata": {
    "scrolled": true
   },
   "outputs": [],
   "source": [
    "df_sql = dataset\n",
    "names(df_sql) = sprintf(\"Feature_%d\",0:(ncol(df_sql)-1))\n",
    "df_sql$KEY = seq.int(nrow(dataset))\n",
    "\n",
    "sqlDrop(conn , \"INPUT_DATA\" , errors = FALSE)\n",
    "sqlSave(conn, df_sql, tablename = \"INPUT_DATA\", verbose = FALSE)\n",
    "\n",
    "# df_sql"
   ]
  },
  {
   "cell_type": "code",
   "execution_count": 9,
   "metadata": {},
   "outputs": [
    {
     "data": {
      "text/html": [
       "<ol class=list-inline>\n",
       "\t<li>'Feature_0'</li>\n",
       "\t<li>'Feature_1'</li>\n",
       "\t<li>'Feature_2'</li>\n",
       "\t<li>'Feature_3'</li>\n",
       "\t<li>'Feature_4'</li>\n",
       "\t<li>'Feature_5'</li>\n",
       "\t<li>'Feature_6'</li>\n",
       "\t<li>'Feature_7'</li>\n",
       "\t<li>'Feature_8'</li>\n",
       "\t<li>'Feature_9'</li>\n",
       "\t<li>'Feature_10'</li>\n",
       "\t<li>'Feature_11'</li>\n",
       "\t<li>'Feature_12'</li>\n",
       "\t<li>'KEY'</li>\n",
       "</ol>\n"
      ],
      "text/latex": [
       "\\begin{enumerate*}\n",
       "\\item 'Feature\\_0'\n",
       "\\item 'Feature\\_1'\n",
       "\\item 'Feature\\_2'\n",
       "\\item 'Feature\\_3'\n",
       "\\item 'Feature\\_4'\n",
       "\\item 'Feature\\_5'\n",
       "\\item 'Feature\\_6'\n",
       "\\item 'Feature\\_7'\n",
       "\\item 'Feature\\_8'\n",
       "\\item 'Feature\\_9'\n",
       "\\item 'Feature\\_10'\n",
       "\\item 'Feature\\_11'\n",
       "\\item 'Feature\\_12'\n",
       "\\item 'KEY'\n",
       "\\end{enumerate*}\n"
      ],
      "text/markdown": [
       "1. 'Feature_0'\n",
       "2. 'Feature_1'\n",
       "3. 'Feature_2'\n",
       "4. 'Feature_3'\n",
       "5. 'Feature_4'\n",
       "6. 'Feature_5'\n",
       "7. 'Feature_6'\n",
       "8. 'Feature_7'\n",
       "9. 'Feature_8'\n",
       "10. 'Feature_9'\n",
       "11. 'Feature_10'\n",
       "12. 'Feature_11'\n",
       "13. 'Feature_12'\n",
       "14. 'KEY'\n",
       "\n",
       "\n"
      ],
      "text/plain": [
       " [1] \"Feature_0\"  \"Feature_1\"  \"Feature_2\"  \"Feature_3\"  \"Feature_4\" \n",
       " [6] \"Feature_5\"  \"Feature_6\"  \"Feature_7\"  \"Feature_8\"  \"Feature_9\" \n",
       "[11] \"Feature_10\" \"Feature_11\" \"Feature_12\" \"KEY\"       "
      ]
     },
     "metadata": {},
     "output_type": "display_data"
    }
   ],
   "source": [
    "colnames(df_sql)\n",
    "# odbcGetInfo(conn)\n",
    "# sqlTables(conn)"
   ]
  },
  {
   "cell_type": "code",
   "execution_count": 10,
   "metadata": {},
   "outputs": [
    {
     "data": {
      "text/html": [
       "<table>\n",
       "<thead><tr><th scope=col>KEY</th><th scope=col>Estimator</th></tr></thead>\n",
       "<tbody>\n",
       "\t<tr><td>1       </td><td>23.07344</td></tr>\n",
       "\t<tr><td>2       </td><td>23.07344</td></tr>\n",
       "\t<tr><td>3       </td><td>23.07344</td></tr>\n",
       "\t<tr><td>4       </td><td>23.07344</td></tr>\n",
       "\t<tr><td>5       </td><td>23.07344</td></tr>\n",
       "\t<tr><td>6       </td><td>23.07344</td></tr>\n",
       "</tbody>\n",
       "</table>\n"
      ],
      "text/latex": [
       "\\begin{tabular}{r|ll}\n",
       " KEY & Estimator\\\\\n",
       "\\hline\n",
       "\t 1        & 23.07344\\\\\n",
       "\t 2        & 23.07344\\\\\n",
       "\t 3        & 23.07344\\\\\n",
       "\t 4        & 23.07344\\\\\n",
       "\t 5        & 23.07344\\\\\n",
       "\t 6        & 23.07344\\\\\n",
       "\\end{tabular}\n"
      ],
      "text/markdown": [
       "\n",
       "KEY | Estimator | \n",
       "|---|---|---|---|---|---|\n",
       "| 1        | 23.07344 | \n",
       "| 2        | 23.07344 | \n",
       "| 3        | 23.07344 | \n",
       "| 4        | 23.07344 | \n",
       "| 5        | 23.07344 | \n",
       "| 6        | 23.07344 | \n",
       "\n",
       "\n"
      ],
      "text/plain": [
       "  KEY Estimator\n",
       "1 1   23.07344 \n",
       "2 2   23.07344 \n",
       "3 3   23.07344 \n",
       "4 4   23.07344 \n",
       "5 5   23.07344 \n",
       "6 6   23.07344 "
      ]
     },
     "metadata": {},
     "output_type": "display_data"
    }
   ],
   "source": [
    "df_sql_out = sqlQuery(conn, lModelSQL)\n",
    "head(df_sql_out[order(df_sql_out$KEY),])"
   ]
  },
  {
   "cell_type": "code",
   "execution_count": 11,
   "metadata": {},
   "outputs": [],
   "source": [
    "# df_sql_out"
   ]
  },
  {
   "cell_type": "markdown",
   "metadata": {},
   "source": [
    "# R RPART Output"
   ]
  },
  {
   "cell_type": "code",
   "execution_count": 12,
   "metadata": {},
   "outputs": [
    {
     "data": {
      "text/html": [
       "<table>\n",
       "<thead><tr><th scope=col>Estimator</th><th scope=col>KEY</th></tr></thead>\n",
       "<tbody>\n",
       "\t<tr><td>23.07344</td><td>1       </td></tr>\n",
       "\t<tr><td>23.07344</td><td>2       </td></tr>\n",
       "\t<tr><td>23.07344</td><td>3       </td></tr>\n",
       "\t<tr><td>23.07344</td><td>4       </td></tr>\n",
       "\t<tr><td>23.07344</td><td>5       </td></tr>\n",
       "\t<tr><td>23.07344</td><td>6       </td></tr>\n",
       "</tbody>\n",
       "</table>\n"
      ],
      "text/latex": [
       "\\begin{tabular}{r|ll}\n",
       " Estimator & KEY\\\\\n",
       "\\hline\n",
       "\t 23.07344 & 1       \\\\\n",
       "\t 23.07344 & 2       \\\\\n",
       "\t 23.07344 & 3       \\\\\n",
       "\t 23.07344 & 4       \\\\\n",
       "\t 23.07344 & 5       \\\\\n",
       "\t 23.07344 & 6       \\\\\n",
       "\\end{tabular}\n"
      ],
      "text/markdown": [
       "\n",
       "Estimator | KEY | \n",
       "|---|---|---|---|---|---|\n",
       "| 23.07344 | 1        | \n",
       "| 23.07344 | 2        | \n",
       "| 23.07344 | 3        | \n",
       "| 23.07344 | 4        | \n",
       "| 23.07344 | 5        | \n",
       "| 23.07344 | 6        | \n",
       "\n",
       "\n"
      ],
      "text/plain": [
       "  Estimator KEY\n",
       "1 23.07344  1  \n",
       "2 23.07344  2  \n",
       "3 23.07344  3  \n",
       "4 23.07344  4  \n",
       "5 23.07344  5  \n",
       "6 23.07344  6  "
      ]
     },
     "metadata": {},
     "output_type": "display_data"
    }
   ],
   "source": [
    "estimator  =  predict(model, dataset, type = \"raw\")\n",
    "df_r_out = data.frame(estimator)\n",
    "names(df_r_out) = c(\"Estimator\")\n",
    "\n",
    "df_r_out$KEY = seq.int(nrow(dataset))\n",
    "head(df_r_out)\n"
   ]
  },
  {
   "cell_type": "markdown",
   "metadata": {},
   "source": [
    "# Compare R and SQL output"
   ]
  },
  {
   "cell_type": "code",
   "execution_count": 13,
   "metadata": {},
   "outputs": [
    {
     "data": {
      "text/html": [
       "<table>\n",
       "<thead><tr><th scope=col>KEY</th><th scope=col>Estimator_1</th><th scope=col>Estimator_2</th></tr></thead>\n",
       "<tbody>\n",
       "\t<tr><td>1       </td><td>23.07344</td><td>23.07344</td></tr>\n",
       "\t<tr><td>2       </td><td>23.07344</td><td>23.07344</td></tr>\n",
       "\t<tr><td>3       </td><td>23.07344</td><td>23.07344</td></tr>\n",
       "\t<tr><td>4       </td><td>23.07344</td><td>23.07344</td></tr>\n",
       "\t<tr><td>5       </td><td>23.07344</td><td>23.07344</td></tr>\n",
       "\t<tr><td>6       </td><td>23.07344</td><td>23.07344</td></tr>\n",
       "</tbody>\n",
       "</table>\n"
      ],
      "text/latex": [
       "\\begin{tabular}{r|lll}\n",
       " KEY & Estimator\\_1 & Estimator\\_2\\\\\n",
       "\\hline\n",
       "\t 1        & 23.07344 & 23.07344\\\\\n",
       "\t 2        & 23.07344 & 23.07344\\\\\n",
       "\t 3        & 23.07344 & 23.07344\\\\\n",
       "\t 4        & 23.07344 & 23.07344\\\\\n",
       "\t 5        & 23.07344 & 23.07344\\\\\n",
       "\t 6        & 23.07344 & 23.07344\\\\\n",
       "\\end{tabular}\n"
      ],
      "text/markdown": [
       "\n",
       "KEY | Estimator_1 | Estimator_2 | \n",
       "|---|---|---|---|---|---|\n",
       "| 1        | 23.07344 | 23.07344 | \n",
       "| 2        | 23.07344 | 23.07344 | \n",
       "| 3        | 23.07344 | 23.07344 | \n",
       "| 4        | 23.07344 | 23.07344 | \n",
       "| 5        | 23.07344 | 23.07344 | \n",
       "| 6        | 23.07344 | 23.07344 | \n",
       "\n",
       "\n"
      ],
      "text/plain": [
       "  KEY Estimator_1 Estimator_2\n",
       "1 1   23.07344    23.07344   \n",
       "2 2   23.07344    23.07344   \n",
       "3 3   23.07344    23.07344   \n",
       "4 4   23.07344    23.07344   \n",
       "5 5   23.07344    23.07344   \n",
       "6 6   23.07344    23.07344   "
      ]
     },
     "metadata": {},
     "output_type": "display_data"
    }
   ],
   "source": [
    "df_merge = merge(x = df_r_out, y = df_sql_out, by = \"KEY\", all = TRUE, , suffixes = c(\"_1\",\"_2\"))\n",
    "head(df_merge)"
   ]
  },
  {
   "cell_type": "code",
   "execution_count": 14,
   "metadata": {},
   "outputs": [
    {
     "data": {
      "text/html": [
       "<table>\n",
       "<thead><tr><th scope=col>KEY</th><th scope=col>Estimator_1</th><th scope=col>Estimator_2</th><th scope=col>Error</th><th scope=col>AbsError</th></tr></thead>\n",
       "<tbody>\n",
       "\t<tr><td>1           </td><td>23.07344    </td><td>23.07344    </td><td>3.552714e-15</td><td>3.552714e-15</td></tr>\n",
       "\t<tr><td>2           </td><td>23.07344    </td><td>23.07344    </td><td>3.552714e-15</td><td>3.552714e-15</td></tr>\n",
       "\t<tr><td>3           </td><td>23.07344    </td><td>23.07344    </td><td>3.552714e-15</td><td>3.552714e-15</td></tr>\n",
       "\t<tr><td>4           </td><td>23.07344    </td><td>23.07344    </td><td>3.552714e-15</td><td>3.552714e-15</td></tr>\n",
       "\t<tr><td>5           </td><td>23.07344    </td><td>23.07344    </td><td>3.552714e-15</td><td>3.552714e-15</td></tr>\n",
       "\t<tr><td>6           </td><td>23.07344    </td><td>23.07344    </td><td>3.552714e-15</td><td>3.552714e-15</td></tr>\n",
       "</tbody>\n",
       "</table>\n"
      ],
      "text/latex": [
       "\\begin{tabular}{r|lllll}\n",
       " KEY & Estimator\\_1 & Estimator\\_2 & Error & AbsError\\\\\n",
       "\\hline\n",
       "\t 1            & 23.07344     & 23.07344     & 3.552714e-15 & 3.552714e-15\\\\\n",
       "\t 2            & 23.07344     & 23.07344     & 3.552714e-15 & 3.552714e-15\\\\\n",
       "\t 3            & 23.07344     & 23.07344     & 3.552714e-15 & 3.552714e-15\\\\\n",
       "\t 4            & 23.07344     & 23.07344     & 3.552714e-15 & 3.552714e-15\\\\\n",
       "\t 5            & 23.07344     & 23.07344     & 3.552714e-15 & 3.552714e-15\\\\\n",
       "\t 6            & 23.07344     & 23.07344     & 3.552714e-15 & 3.552714e-15\\\\\n",
       "\\end{tabular}\n"
      ],
      "text/markdown": [
       "\n",
       "KEY | Estimator_1 | Estimator_2 | Error | AbsError | \n",
       "|---|---|---|---|---|---|\n",
       "| 1            | 23.07344     | 23.07344     | 3.552714e-15 | 3.552714e-15 | \n",
       "| 2            | 23.07344     | 23.07344     | 3.552714e-15 | 3.552714e-15 | \n",
       "| 3            | 23.07344     | 23.07344     | 3.552714e-15 | 3.552714e-15 | \n",
       "| 4            | 23.07344     | 23.07344     | 3.552714e-15 | 3.552714e-15 | \n",
       "| 5            | 23.07344     | 23.07344     | 3.552714e-15 | 3.552714e-15 | \n",
       "| 6            | 23.07344     | 23.07344     | 3.552714e-15 | 3.552714e-15 | \n",
       "\n",
       "\n"
      ],
      "text/plain": [
       "  KEY Estimator_1 Estimator_2 Error        AbsError    \n",
       "1 1   23.07344    23.07344    3.552714e-15 3.552714e-15\n",
       "2 2   23.07344    23.07344    3.552714e-15 3.552714e-15\n",
       "3 3   23.07344    23.07344    3.552714e-15 3.552714e-15\n",
       "4 4   23.07344    23.07344    3.552714e-15 3.552714e-15\n",
       "5 5   23.07344    23.07344    3.552714e-15 3.552714e-15\n",
       "6 6   23.07344    23.07344    3.552714e-15 3.552714e-15"
      ]
     },
     "metadata": {},
     "output_type": "display_data"
    }
   ],
   "source": [
    "df_merge$Error = df_merge$Estimator_1 - df_merge$Estimator_2\n",
    "df_merge$AbsError = abs(df_merge$Error)\n",
    "head(df_merge)\n"
   ]
  },
  {
   "cell_type": "code",
   "execution_count": 15,
   "metadata": {},
   "outputs": [
    {
     "data": {
      "text/html": [
       "<table>\n",
       "<thead><tr><th scope=col>KEY</th><th scope=col>Estimator_1</th><th scope=col>Estimator_2</th><th scope=col>Error</th><th scope=col>AbsError</th></tr></thead>\n",
       "<tbody>\n",
       "</tbody>\n",
       "</table>\n"
      ],
      "text/latex": [
       "\\begin{tabular}{r|lllll}\n",
       " KEY & Estimator\\_1 & Estimator\\_2 & Error & AbsError\\\\\n",
       "\\hline\n",
       "\\end{tabular}\n"
      ],
      "text/markdown": [
       "\n",
       "KEY | Estimator_1 | Estimator_2 | Error | AbsError | \n",
       "||\n",
       "\n",
       "\n"
      ],
      "text/plain": [
       "     KEY Estimator_1 Estimator_2 Error AbsError"
      ]
     },
     "metadata": {},
     "output_type": "display_data"
    }
   ],
   "source": [
    "df_merge_largest_errors = df_merge[df_merge$AbsError > 0.0001,]\n",
    "df_merge_largest_errors"
   ]
  },
  {
   "cell_type": "code",
   "execution_count": 16,
   "metadata": {},
   "outputs": [],
   "source": [
    "stopifnot(nrow(df_merge_largest_errors) == 0)"
   ]
  },
  {
   "cell_type": "code",
   "execution_count": null,
   "metadata": {},
   "outputs": [],
   "source": []
  },
  {
   "cell_type": "code",
   "execution_count": 17,
   "metadata": {},
   "outputs": [
    {
     "data": {
      "text/plain": [
       "      KEY          Estimator    \n",
       " Min.   :  1.0   Min.   :17.17  \n",
       " 1st Qu.:127.2   1st Qu.:17.17  \n",
       " Median :253.5   Median :23.07  \n",
       " Mean   :253.5   Mean   :22.53  \n",
       " 3rd Qu.:379.8   3rd Qu.:23.07  \n",
       " Max.   :506.0   Max.   :36.22  "
      ]
     },
     "metadata": {},
     "output_type": "display_data"
    }
   ],
   "source": [
    "summary(df_sql_out)"
   ]
  },
  {
   "cell_type": "code",
   "execution_count": 18,
   "metadata": {},
   "outputs": [
    {
     "data": {
      "text/plain": [
       "   Estimator          KEY       \n",
       " Min.   :17.17   Min.   :  1.0  \n",
       " 1st Qu.:17.17   1st Qu.:127.2  \n",
       " Median :23.07   Median :253.5  \n",
       " Mean   :22.53   Mean   :253.5  \n",
       " 3rd Qu.:23.07   3rd Qu.:379.8  \n",
       " Max.   :36.22   Max.   :506.0  "
      ]
     },
     "metadata": {},
     "output_type": "display_data"
    }
   ],
   "source": [
    "summary(df_r_out)"
   ]
  },
  {
   "cell_type": "code",
   "execution_count": 19,
   "metadata": {},
   "outputs": [
    {
     "data": {
      "text/plain": [
       "      KEY         Estimator_1     Estimator_2        Error           \n",
       " Min.   :  1.0   Min.   :17.17   Min.   :17.17   Min.   :-7.105e-15  \n",
       " 1st Qu.:127.2   1st Qu.:17.17   1st Qu.:17.17   1st Qu.:-7.105e-15  \n",
       " Median :253.5   Median :23.07   Median :23.07   Median : 3.553e-15  \n",
       " Mean   :253.5   Mean   :22.53   Mean   :22.53   Mean   :-7.302e-16  \n",
       " 3rd Qu.:379.8   3rd Qu.:23.07   3rd Qu.:23.07   3rd Qu.: 3.553e-15  \n",
       " Max.   :506.0   Max.   :36.22   Max.   :36.22   Max.   : 7.105e-15  \n",
       "    AbsError        \n",
       " Min.   :3.553e-15  \n",
       " 1st Qu.:3.553e-15  \n",
       " Median :7.105e-15  \n",
       " Mean   :5.757e-15  \n",
       " 3rd Qu.:7.105e-15  \n",
       " Max.   :7.105e-15  "
      ]
     },
     "metadata": {},
     "output_type": "display_data"
    }
   ],
   "source": [
    "summary(df_merge)"
   ]
  },
  {
   "cell_type": "code",
   "execution_count": null,
   "metadata": {},
   "outputs": [],
   "source": []
  }
 ],
 "metadata": {
  "kernelspec": {
   "display_name": "R",
   "language": "R",
   "name": "ir"
  },
  "language_info": {
   "codemirror_mode": "r",
   "file_extension": ".r",
   "mimetype": "text/x-r-source",
   "name": "R",
   "pygments_lexer": "r",
   "version": "3.5.1"
  }
 },
 "nbformat": 4,
 "nbformat_minor": 2
}
