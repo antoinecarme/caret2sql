{
 "cells": [
  {
   "cell_type": "code",
   "execution_count": 1,
   "metadata": {},
   "outputs": [
    {
     "name": "stderr",
     "output_type": "stream",
     "text": [
      "\n",
      "Attaching package: ‘httr’\n",
      "\n",
      "The following object is masked from ‘package:caret’:\n",
      "\n",
      "    progress\n",
      "\n"
     ]
    }
   ],
   "source": [
    "library(caret, quiet = TRUE)\n",
    "library(base64enc)\n",
    "library(httr, quiet = TRUE)\n",
    "\n",
    "library(mlbench)"
   ]
  },
  {
   "cell_type": "markdown",
   "metadata": {},
   "source": [
    "# Build a Model"
   ]
  },
  {
   "cell_type": "code",
   "execution_count": 2,
   "metadata": {},
   "outputs": [],
   "source": [
    "\n",
    "# a character vector specifying the type of processing. \n",
    "# Possible values are \n",
    "# \"BoxCox\", \"YeoJohnson\", \"expoTrans\", \"center\", \"scale\", \"range\", \n",
    "# \"knnImpute\", \"bagImpute\", \"medianImpute\", \"pca\", \"ica\", \"spatialSign\", \n",
    "# \"corr\", \"zv\", \"nzv\", and \"conditionalX\"\n",
    "\n",
    "data(BostonHousing)\n",
    "BostonHousing$chas = as.numeric(BostonHousing$chas)\n",
    "\n",
    "set.seed(1960)\n",
    "\n",
    "dataset = BostonHousing[, -14] \n",
    "\n",
    "create_model  =  function() {\n",
    "\n",
    "    model <- train(medv ~ ., data = BostonHousing, method = \"rpart\", preProcess=c(\"spatialSign\"))    \n",
    "\n",
    "    return(model)\n",
    "}\n"
   ]
  },
  {
   "cell_type": "code",
   "execution_count": 3,
   "metadata": {},
   "outputs": [
    {
     "name": "stderr",
     "output_type": "stream",
     "text": [
      "Warning message in nominalTrainWorkflow(x = x, y = y, wts = weights, info = trainInfo, :\n",
      "“There were missing values in resampled performance measures.”"
     ]
    }
   ],
   "source": [
    "model = create_model()\n",
    "# cat(model$feature_names)\n",
    "# print(model)"
   ]
  },
  {
   "cell_type": "code",
   "execution_count": 4,
   "metadata": {},
   "outputs": [
    {
     "data": {
      "text/plain": [
       "      medv         Estimator         Error         \n",
       " Min.   : 5.00   Min.   :14.98   Min.   :-27.2152  \n",
       " 1st Qu.:17.02   1st Qu.:14.98   1st Qu.: -2.2186  \n",
       " Median :21.20   Median :22.78   Median :  0.5848  \n",
       " Mean   :22.53   Mean   :22.53   Mean   :  0.0000  \n",
       " 3rd Qu.:25.00   3rd Qu.:22.78   3rd Qu.:  3.1814  \n",
       " Max.   :50.00   Max.   :34.58   Max.   : 19.5777  "
      ]
     },
     "metadata": {},
     "output_type": "display_data"
    },
    {
     "data": {
      "text/html": [
       "0.212446474474449"
      ],
      "text/latex": [
       "0.212446474474449"
      ],
      "text/markdown": [
       "0.212446474474449"
      ],
      "text/plain": [
       "[1] 0.2124465"
      ]
     },
     "metadata": {},
     "output_type": "display_data"
    }
   ],
   "source": [
    "pred_labels <- predict(model, BostonHousing[, -14] , type=\"raw\")\n",
    "df = data.frame(BostonHousing[,14])\n",
    "names(df) = c(\"medv\")\n",
    "df$Estimator = pred_labels\n",
    "df$Error = df$Estimator - df$medv\n",
    "MAPE = mean(abs(df$Error / df$medv))\n",
    "summary(df)\n",
    "MAPE"
   ]
  },
  {
   "cell_type": "markdown",
   "metadata": {},
   "source": [
    "# SQL Code Generation"
   ]
  },
  {
   "cell_type": "code",
   "execution_count": 5,
   "metadata": {},
   "outputs": [],
   "source": [
    "\n",
    "test_ws_sql_gen = function(mod) {\n",
    "    WS_URL = \"https://sklearn2sql.herokuapp.com/model\"\n",
    "    WS_URL = \"http://localhost:1888/model\"\n",
    "    model_serialized <- serialize(mod, NULL)\n",
    "    b64_data = base64encode(model_serialized)\n",
    "    data = list(Name = \"xgboost_test_model\", SerializedModel = b64_data , SQLDialect = \"postgresql\" , Mode=\"caret\")\n",
    "    r = POST(WS_URL, body = data, encode = \"json\")\n",
    "    # print(r)\n",
    "    content = content(r)\n",
    "    # print(content)\n",
    "    lSQL = content$model$SQLGenrationResult[[1]]$SQL # content[\"model\"][\"SQLGenrationResult\"][0][\"SQL\"]\n",
    "    return(lSQL);\n",
    "}"
   ]
  },
  {
   "cell_type": "code",
   "execution_count": 6,
   "metadata": {
    "scrolled": false
   },
   "outputs": [
    {
     "name": "stdout",
     "output_type": "stream",
     "text": [
      "WITH \"ADS_sca_1_OUT\" AS \n",
      "(SELECT \"ADS\".\"KEY\" AS \"KEY\", (CAST(\"ADS\".\"Feature_0\" AS FLOAT) - 3.6135235573122526) / 8.60154510533249 AS \"Feature_0\", (CAST(\"ADS\".\"Feature_1\" AS FLOAT) - 11.363636363636365) / 23.322452994515135 AS \"Feature_1\", (CAST(\"ADS\".\"Feature_2\" AS FLOAT) - 11.13677865612648) / 6.860352940897585 AS \"Feature_2\", (CAST(\"ADS\".\"Feature_3\" AS FLOAT) - 1.0691699604743083) / 0.2539940413404104 AS \"Feature_3\", (CAST(\"ADS\".\"Feature_4\" AS FLOAT) - 0.5546950592885376) / 0.115877675667556 AS \"Feature_4\", (CAST(\"ADS\".\"Feature_5\" AS FLOAT) - 6.284634387351779) / 0.7026171434153233 AS \"Feature_5\", (CAST(\"ADS\".\"Feature_6\" AS FLOAT) - 68.57490118577077) / 28.148861406903617 AS \"Feature_6\", (CAST(\"ADS\".\"Feature_7\" AS FLOAT) - 3.7950426877470353) / 2.105710126627611 AS \"Feature_7\", (CAST(\"ADS\".\"Feature_8\" AS FLOAT) - 9.549407114624506) / 8.707259384239368 AS \"Feature_8\", (CAST(\"ADS\".\"Feature_9\" AS FLOAT) - 408.2371541501977) / 168.537116054959 AS \"Feature_9\", (CAST(\"ADS\".\"Feature_10\" AS FLOAT) - 18.455533596837945) / 2.1649455237144406 AS \"Feature_10\", (CAST(\"ADS\".\"Feature_11\" AS FLOAT) - 356.6740316205533) / 91.29486438415783 AS \"Feature_11\", (CAST(\"ADS\".\"Feature_12\" AS FLOAT) - 12.653063241106722) / 7.141061511348569 AS \"Feature_12\" \n",
      "FROM \"INPUT_DATA\" AS \"ADS\"), \n",
      "normalization_cte AS \n",
      "(SELECT \"ADS_sca_1_OUT\".\"KEY\" AS \"KEY\", \"ADS_sca_1_OUT\".\"Feature_0\" AS \"Feature_0\", \"ADS_sca_1_OUT\".\"Feature_1\" AS \"Feature_1\", \"ADS_sca_1_OUT\".\"Feature_2\" AS \"Feature_2\", \"ADS_sca_1_OUT\".\"Feature_3\" AS \"Feature_3\", \"ADS_sca_1_OUT\".\"Feature_4\" AS \"Feature_4\", \"ADS_sca_1_OUT\".\"Feature_5\" AS \"Feature_5\", \"ADS_sca_1_OUT\".\"Feature_6\" AS \"Feature_6\", \"ADS_sca_1_OUT\".\"Feature_7\" AS \"Feature_7\", \"ADS_sca_1_OUT\".\"Feature_8\" AS \"Feature_8\", \"ADS_sca_1_OUT\".\"Feature_9\" AS \"Feature_9\", \"ADS_sca_1_OUT\".\"Feature_10\" AS \"Feature_10\", \"ADS_sca_1_OUT\".\"Feature_11\" AS \"Feature_11\", \"ADS_sca_1_OUT\".\"Feature_12\" AS \"Feature_12\", sqrt(\"ADS_sca_1_OUT\".\"Feature_0\" * \"ADS_sca_1_OUT\".\"Feature_0\" + \"ADS_sca_1_OUT\".\"Feature_1\" * \"ADS_sca_1_OUT\".\"Feature_1\" + \"ADS_sca_1_OUT\".\"Feature_2\" * \"ADS_sca_1_OUT\".\"Feature_2\" + \"ADS_sca_1_OUT\".\"Feature_3\" * \"ADS_sca_1_OUT\".\"Feature_3\" + \"ADS_sca_1_OUT\".\"Feature_4\" * \"ADS_sca_1_OUT\".\"Feature_4\" + \"ADS_sca_1_OUT\".\"Feature_5\" * \"ADS_sca_1_OUT\".\"Feature_5\" + \"ADS_sca_1_OUT\".\"Feature_6\" * \"ADS_sca_1_OUT\".\"Feature_6\" + \"ADS_sca_1_OUT\".\"Feature_7\" * \"ADS_sca_1_OUT\".\"Feature_7\" + \"ADS_sca_1_OUT\".\"Feature_8\" * \"ADS_sca_1_OUT\".\"Feature_8\" + \"ADS_sca_1_OUT\".\"Feature_9\" * \"ADS_sca_1_OUT\".\"Feature_9\" + \"ADS_sca_1_OUT\".\"Feature_10\" * \"ADS_sca_1_OUT\".\"Feature_10\" + \"ADS_sca_1_OUT\".\"Feature_11\" * \"ADS_sca_1_OUT\".\"Feature_11\" + \"ADS_sca_1_OUT\".\"Feature_12\" * \"ADS_sca_1_OUT\".\"Feature_12\") + 1e-14 AS \"Norm\" \n",
      "FROM \"ADS_sca_1_OUT\"), \n",
      "\"ADS_pre_1_OUT\" AS \n",
      "(SELECT normalization_cte.\"KEY\" AS \"KEY\", normalization_cte.\"Feature_0\" / normalization_cte.\"Norm\" AS crim, normalization_cte.\"Feature_1\" / normalization_cte.\"Norm\" AS zn, normalization_cte.\"Feature_2\" / normalization_cte.\"Norm\" AS indus, normalization_cte.\"Feature_3\" / normalization_cte.\"Norm\" AS chas, normalization_cte.\"Feature_4\" / normalization_cte.\"Norm\" AS nox, normalization_cte.\"Feature_5\" / normalization_cte.\"Norm\" AS rm, normalization_cte.\"Feature_6\" / normalization_cte.\"Norm\" AS age, normalization_cte.\"Feature_7\" / normalization_cte.\"Norm\" AS dis, normalization_cte.\"Feature_8\" / normalization_cte.\"Norm\" AS rad, normalization_cte.\"Feature_9\" / normalization_cte.\"Norm\" AS tax, normalization_cte.\"Feature_10\" / normalization_cte.\"Norm\" AS ptratio, normalization_cte.\"Feature_11\" / normalization_cte.\"Norm\" AS b, normalization_cte.\"Feature_12\" / normalization_cte.\"Norm\" AS lstat \n",
      "FROM normalization_cte), \n",
      "\"DT_node_lookup\" AS \n",
      "(SELECT \"ADS_pre_1_OUT\".\"KEY\" AS \"KEY\", CASE WHEN (\"ADS_pre_1_OUT\".rm < 0.20034126097913402) THEN CASE WHEN (\"ADS_pre_1_OUT\".lstat >= 0.08741730662346356) THEN 4 ELSE 5 END ELSE 3 END AS node_id_2 \n",
      "FROM \"ADS_pre_1_OUT\"), \n",
      "\"DT_node_data\" AS \n",
      "(SELECT \"Values\".nid AS nid, \"Values\".\"E\" AS \"E\" \n",
      "FROM (SELECT 3 AS nid, 34.577669902912625 AS \"E\" UNION ALL SELECT 4 AS nid, 14.98139534883721 AS \"E\" UNION ALL SELECT 5 AS nid, 22.78484848484849 AS \"E\") AS \"Values\"), \n",
      "\"DT_Output\" AS \n",
      "(SELECT \"DT_node_lookup\".\"KEY\" AS \"KEY\", \"DT_node_lookup\".node_id_2 AS node_id_2, \"DT_node_data\".nid AS nid, \"DT_node_data\".\"E\" AS \"E\" \n",
      "FROM \"DT_node_lookup\" LEFT OUTER JOIN \"DT_node_data\" ON \"DT_node_lookup\".node_id_2 = \"DT_node_data\".nid)\n",
      " SELECT \"DT_Output\".\"KEY\" AS \"KEY\", \"DT_Output\".\"E\" AS \"Estimator\" \n",
      "FROM \"DT_Output\""
     ]
    }
   ],
   "source": [
    "lModelSQL = test_ws_sql_gen(model)\n",
    "cat(lModelSQL)\n"
   ]
  },
  {
   "cell_type": "code",
   "execution_count": null,
   "metadata": {},
   "outputs": [],
   "source": []
  },
  {
   "cell_type": "markdown",
   "metadata": {},
   "source": [
    "# Execute the SQL Code"
   ]
  },
  {
   "cell_type": "code",
   "execution_count": 7,
   "metadata": {},
   "outputs": [
    {
     "data": {
      "text/html": [
       "0"
      ],
      "text/latex": [
       "0"
      ],
      "text/markdown": [
       "0"
      ],
      "text/plain": [
       "[1] 0"
      ]
     },
     "metadata": {},
     "output_type": "display_data"
    }
   ],
   "source": [
    "library(RODBC)\n",
    "conn = odbcConnect(\"pgsql\", uid=\"db\", pwd=\"db\", case=\"nochange\")\n",
    "odbcSetAutoCommit(conn , autoCommit = TRUE)"
   ]
  },
  {
   "cell_type": "code",
   "execution_count": 8,
   "metadata": {
    "scrolled": true
   },
   "outputs": [],
   "source": [
    "df_sql = dataset\n",
    "names(df_sql) = sprintf(\"Feature_%d\",0:(ncol(df_sql)-1))\n",
    "df_sql$KEY = seq.int(nrow(dataset))\n",
    "\n",
    "sqlDrop(conn , \"INPUT_DATA\" , errors = FALSE)\n",
    "sqlSave(conn, df_sql, tablename = \"INPUT_DATA\", verbose = FALSE)\n",
    "\n",
    "# df_sql"
   ]
  },
  {
   "cell_type": "code",
   "execution_count": 9,
   "metadata": {},
   "outputs": [
    {
     "data": {
      "text/html": [
       "<ol class=list-inline>\n",
       "\t<li>'Feature_0'</li>\n",
       "\t<li>'Feature_1'</li>\n",
       "\t<li>'Feature_2'</li>\n",
       "\t<li>'Feature_3'</li>\n",
       "\t<li>'Feature_4'</li>\n",
       "\t<li>'Feature_5'</li>\n",
       "\t<li>'Feature_6'</li>\n",
       "\t<li>'Feature_7'</li>\n",
       "\t<li>'Feature_8'</li>\n",
       "\t<li>'Feature_9'</li>\n",
       "\t<li>'Feature_10'</li>\n",
       "\t<li>'Feature_11'</li>\n",
       "\t<li>'Feature_12'</li>\n",
       "\t<li>'KEY'</li>\n",
       "</ol>\n"
      ],
      "text/latex": [
       "\\begin{enumerate*}\n",
       "\\item 'Feature\\_0'\n",
       "\\item 'Feature\\_1'\n",
       "\\item 'Feature\\_2'\n",
       "\\item 'Feature\\_3'\n",
       "\\item 'Feature\\_4'\n",
       "\\item 'Feature\\_5'\n",
       "\\item 'Feature\\_6'\n",
       "\\item 'Feature\\_7'\n",
       "\\item 'Feature\\_8'\n",
       "\\item 'Feature\\_9'\n",
       "\\item 'Feature\\_10'\n",
       "\\item 'Feature\\_11'\n",
       "\\item 'Feature\\_12'\n",
       "\\item 'KEY'\n",
       "\\end{enumerate*}\n"
      ],
      "text/markdown": [
       "1. 'Feature_0'\n",
       "2. 'Feature_1'\n",
       "3. 'Feature_2'\n",
       "4. 'Feature_3'\n",
       "5. 'Feature_4'\n",
       "6. 'Feature_5'\n",
       "7. 'Feature_6'\n",
       "8. 'Feature_7'\n",
       "9. 'Feature_8'\n",
       "10. 'Feature_9'\n",
       "11. 'Feature_10'\n",
       "12. 'Feature_11'\n",
       "13. 'Feature_12'\n",
       "14. 'KEY'\n",
       "\n",
       "\n"
      ],
      "text/plain": [
       " [1] \"Feature_0\"  \"Feature_1\"  \"Feature_2\"  \"Feature_3\"  \"Feature_4\" \n",
       " [6] \"Feature_5\"  \"Feature_6\"  \"Feature_7\"  \"Feature_8\"  \"Feature_9\" \n",
       "[11] \"Feature_10\" \"Feature_11\" \"Feature_12\" \"KEY\"       "
      ]
     },
     "metadata": {},
     "output_type": "display_data"
    }
   ],
   "source": [
    "colnames(df_sql)\n",
    "# odbcGetInfo(conn)\n",
    "# sqlTables(conn)"
   ]
  },
  {
   "cell_type": "code",
   "execution_count": 10,
   "metadata": {},
   "outputs": [
    {
     "data": {
      "text/html": [
       "<table>\n",
       "<thead><tr><th scope=col>KEY</th><th scope=col>Estimator</th></tr></thead>\n",
       "<tbody>\n",
       "\t<tr><td>1       </td><td>22.78485</td></tr>\n",
       "\t<tr><td>2       </td><td>22.78485</td></tr>\n",
       "\t<tr><td>3       </td><td>34.57767</td></tr>\n",
       "\t<tr><td>4       </td><td>34.57767</td></tr>\n",
       "\t<tr><td>5       </td><td>34.57767</td></tr>\n",
       "\t<tr><td>6       </td><td>22.78485</td></tr>\n",
       "</tbody>\n",
       "</table>\n"
      ],
      "text/latex": [
       "\\begin{tabular}{r|ll}\n",
       " KEY & Estimator\\\\\n",
       "\\hline\n",
       "\t 1        & 22.78485\\\\\n",
       "\t 2        & 22.78485\\\\\n",
       "\t 3        & 34.57767\\\\\n",
       "\t 4        & 34.57767\\\\\n",
       "\t 5        & 34.57767\\\\\n",
       "\t 6        & 22.78485\\\\\n",
       "\\end{tabular}\n"
      ],
      "text/markdown": [
       "\n",
       "KEY | Estimator | \n",
       "|---|---|---|---|---|---|\n",
       "| 1        | 22.78485 | \n",
       "| 2        | 22.78485 | \n",
       "| 3        | 34.57767 | \n",
       "| 4        | 34.57767 | \n",
       "| 5        | 34.57767 | \n",
       "| 6        | 22.78485 | \n",
       "\n",
       "\n"
      ],
      "text/plain": [
       "  KEY Estimator\n",
       "1 1   22.78485 \n",
       "2 2   22.78485 \n",
       "3 3   34.57767 \n",
       "4 4   34.57767 \n",
       "5 5   34.57767 \n",
       "6 6   22.78485 "
      ]
     },
     "metadata": {},
     "output_type": "display_data"
    }
   ],
   "source": [
    "df_sql_out = sqlQuery(conn, lModelSQL)\n",
    "head(df_sql_out[order(df_sql_out$KEY),])"
   ]
  },
  {
   "cell_type": "code",
   "execution_count": 11,
   "metadata": {},
   "outputs": [],
   "source": [
    "# df_sql_out"
   ]
  },
  {
   "cell_type": "markdown",
   "metadata": {},
   "source": [
    "# R RPART Output"
   ]
  },
  {
   "cell_type": "code",
   "execution_count": 12,
   "metadata": {},
   "outputs": [
    {
     "data": {
      "text/html": [
       "<table>\n",
       "<thead><tr><th scope=col>Estimator</th><th scope=col>KEY</th></tr></thead>\n",
       "<tbody>\n",
       "\t<tr><td>22.78485</td><td>1       </td></tr>\n",
       "\t<tr><td>22.78485</td><td>2       </td></tr>\n",
       "\t<tr><td>34.57767</td><td>3       </td></tr>\n",
       "\t<tr><td>34.57767</td><td>4       </td></tr>\n",
       "\t<tr><td>34.57767</td><td>5       </td></tr>\n",
       "\t<tr><td>22.78485</td><td>6       </td></tr>\n",
       "</tbody>\n",
       "</table>\n"
      ],
      "text/latex": [
       "\\begin{tabular}{r|ll}\n",
       " Estimator & KEY\\\\\n",
       "\\hline\n",
       "\t 22.78485 & 1       \\\\\n",
       "\t 22.78485 & 2       \\\\\n",
       "\t 34.57767 & 3       \\\\\n",
       "\t 34.57767 & 4       \\\\\n",
       "\t 34.57767 & 5       \\\\\n",
       "\t 22.78485 & 6       \\\\\n",
       "\\end{tabular}\n"
      ],
      "text/markdown": [
       "\n",
       "Estimator | KEY | \n",
       "|---|---|---|---|---|---|\n",
       "| 22.78485 | 1        | \n",
       "| 22.78485 | 2        | \n",
       "| 34.57767 | 3        | \n",
       "| 34.57767 | 4        | \n",
       "| 34.57767 | 5        | \n",
       "| 22.78485 | 6        | \n",
       "\n",
       "\n"
      ],
      "text/plain": [
       "  Estimator KEY\n",
       "1 22.78485  1  \n",
       "2 22.78485  2  \n",
       "3 34.57767  3  \n",
       "4 34.57767  4  \n",
       "5 34.57767  5  \n",
       "6 22.78485  6  "
      ]
     },
     "metadata": {},
     "output_type": "display_data"
    }
   ],
   "source": [
    "estimator  =  predict(model, dataset, type = \"raw\")\n",
    "df_r_out = data.frame(estimator)\n",
    "names(df_r_out) = c(\"Estimator\")\n",
    "\n",
    "df_r_out$KEY = seq.int(nrow(dataset))\n",
    "head(df_r_out)\n"
   ]
  },
  {
   "cell_type": "markdown",
   "metadata": {},
   "source": [
    "# Compare R and SQL output"
   ]
  },
  {
   "cell_type": "code",
   "execution_count": 13,
   "metadata": {},
   "outputs": [
    {
     "data": {
      "text/html": [
       "<table>\n",
       "<thead><tr><th scope=col>KEY</th><th scope=col>Estimator_1</th><th scope=col>Estimator_2</th></tr></thead>\n",
       "<tbody>\n",
       "\t<tr><td>1       </td><td>22.78485</td><td>22.78485</td></tr>\n",
       "\t<tr><td>2       </td><td>22.78485</td><td>22.78485</td></tr>\n",
       "\t<tr><td>3       </td><td>34.57767</td><td>34.57767</td></tr>\n",
       "\t<tr><td>4       </td><td>34.57767</td><td>34.57767</td></tr>\n",
       "\t<tr><td>5       </td><td>34.57767</td><td>34.57767</td></tr>\n",
       "\t<tr><td>6       </td><td>22.78485</td><td>22.78485</td></tr>\n",
       "</tbody>\n",
       "</table>\n"
      ],
      "text/latex": [
       "\\begin{tabular}{r|lll}\n",
       " KEY & Estimator\\_1 & Estimator\\_2\\\\\n",
       "\\hline\n",
       "\t 1        & 22.78485 & 22.78485\\\\\n",
       "\t 2        & 22.78485 & 22.78485\\\\\n",
       "\t 3        & 34.57767 & 34.57767\\\\\n",
       "\t 4        & 34.57767 & 34.57767\\\\\n",
       "\t 5        & 34.57767 & 34.57767\\\\\n",
       "\t 6        & 22.78485 & 22.78485\\\\\n",
       "\\end{tabular}\n"
      ],
      "text/markdown": [
       "\n",
       "KEY | Estimator_1 | Estimator_2 | \n",
       "|---|---|---|---|---|---|\n",
       "| 1        | 22.78485 | 22.78485 | \n",
       "| 2        | 22.78485 | 22.78485 | \n",
       "| 3        | 34.57767 | 34.57767 | \n",
       "| 4        | 34.57767 | 34.57767 | \n",
       "| 5        | 34.57767 | 34.57767 | \n",
       "| 6        | 22.78485 | 22.78485 | \n",
       "\n",
       "\n"
      ],
      "text/plain": [
       "  KEY Estimator_1 Estimator_2\n",
       "1 1   22.78485    22.78485   \n",
       "2 2   22.78485    22.78485   \n",
       "3 3   34.57767    34.57767   \n",
       "4 4   34.57767    34.57767   \n",
       "5 5   34.57767    34.57767   \n",
       "6 6   22.78485    22.78485   "
      ]
     },
     "metadata": {},
     "output_type": "display_data"
    }
   ],
   "source": [
    "df_merge = merge(x = df_r_out, y = df_sql_out, by = \"KEY\", all = TRUE, , suffixes = c(\"_1\",\"_2\"))\n",
    "head(df_merge)"
   ]
  },
  {
   "cell_type": "code",
   "execution_count": 14,
   "metadata": {},
   "outputs": [
    {
     "data": {
      "text/html": [
       "<table>\n",
       "<thead><tr><th scope=col>KEY</th><th scope=col>Estimator_1</th><th scope=col>Estimator_2</th><th scope=col>Error</th><th scope=col>AbsError</th></tr></thead>\n",
       "<tbody>\n",
       "\t<tr><td>1       </td><td>22.78485</td><td>22.78485</td><td>0       </td><td>0       </td></tr>\n",
       "\t<tr><td>2       </td><td>22.78485</td><td>22.78485</td><td>0       </td><td>0       </td></tr>\n",
       "\t<tr><td>3       </td><td>34.57767</td><td>34.57767</td><td>0       </td><td>0       </td></tr>\n",
       "\t<tr><td>4       </td><td>34.57767</td><td>34.57767</td><td>0       </td><td>0       </td></tr>\n",
       "\t<tr><td>5       </td><td>34.57767</td><td>34.57767</td><td>0       </td><td>0       </td></tr>\n",
       "\t<tr><td>6       </td><td>22.78485</td><td>22.78485</td><td>0       </td><td>0       </td></tr>\n",
       "</tbody>\n",
       "</table>\n"
      ],
      "text/latex": [
       "\\begin{tabular}{r|lllll}\n",
       " KEY & Estimator\\_1 & Estimator\\_2 & Error & AbsError\\\\\n",
       "\\hline\n",
       "\t 1        & 22.78485 & 22.78485 & 0        & 0       \\\\\n",
       "\t 2        & 22.78485 & 22.78485 & 0        & 0       \\\\\n",
       "\t 3        & 34.57767 & 34.57767 & 0        & 0       \\\\\n",
       "\t 4        & 34.57767 & 34.57767 & 0        & 0       \\\\\n",
       "\t 5        & 34.57767 & 34.57767 & 0        & 0       \\\\\n",
       "\t 6        & 22.78485 & 22.78485 & 0        & 0       \\\\\n",
       "\\end{tabular}\n"
      ],
      "text/markdown": [
       "\n",
       "KEY | Estimator_1 | Estimator_2 | Error | AbsError | \n",
       "|---|---|---|---|---|---|\n",
       "| 1        | 22.78485 | 22.78485 | 0        | 0        | \n",
       "| 2        | 22.78485 | 22.78485 | 0        | 0        | \n",
       "| 3        | 34.57767 | 34.57767 | 0        | 0        | \n",
       "| 4        | 34.57767 | 34.57767 | 0        | 0        | \n",
       "| 5        | 34.57767 | 34.57767 | 0        | 0        | \n",
       "| 6        | 22.78485 | 22.78485 | 0        | 0        | \n",
       "\n",
       "\n"
      ],
      "text/plain": [
       "  KEY Estimator_1 Estimator_2 Error AbsError\n",
       "1 1   22.78485    22.78485    0     0       \n",
       "2 2   22.78485    22.78485    0     0       \n",
       "3 3   34.57767    34.57767    0     0       \n",
       "4 4   34.57767    34.57767    0     0       \n",
       "5 5   34.57767    34.57767    0     0       \n",
       "6 6   22.78485    22.78485    0     0       "
      ]
     },
     "metadata": {},
     "output_type": "display_data"
    }
   ],
   "source": [
    "df_merge$Error = df_merge$Estimator_1 - df_merge$Estimator_2\n",
    "df_merge$AbsError = abs(df_merge$Error)\n",
    "head(df_merge)\n"
   ]
  },
  {
   "cell_type": "code",
   "execution_count": 15,
   "metadata": {},
   "outputs": [
    {
     "data": {
      "text/html": [
       "<table>\n",
       "<thead><tr><th scope=col>KEY</th><th scope=col>Estimator_1</th><th scope=col>Estimator_2</th><th scope=col>Error</th><th scope=col>AbsError</th></tr></thead>\n",
       "<tbody>\n",
       "</tbody>\n",
       "</table>\n"
      ],
      "text/latex": [
       "\\begin{tabular}{r|lllll}\n",
       " KEY & Estimator\\_1 & Estimator\\_2 & Error & AbsError\\\\\n",
       "\\hline\n",
       "\\end{tabular}\n"
      ],
      "text/markdown": [
       "\n",
       "KEY | Estimator_1 | Estimator_2 | Error | AbsError | \n",
       "||\n",
       "\n",
       "\n"
      ],
      "text/plain": [
       "     KEY Estimator_1 Estimator_2 Error AbsError"
      ]
     },
     "metadata": {},
     "output_type": "display_data"
    }
   ],
   "source": [
    "df_merge_largest_errors = df_merge[df_merge$AbsError > 0.0001,]\n",
    "df_merge_largest_errors"
   ]
  },
  {
   "cell_type": "code",
   "execution_count": 16,
   "metadata": {},
   "outputs": [],
   "source": [
    "stopifnot(nrow(df_merge_largest_errors) == 0)"
   ]
  },
  {
   "cell_type": "code",
   "execution_count": null,
   "metadata": {},
   "outputs": [],
   "source": []
  },
  {
   "cell_type": "code",
   "execution_count": 17,
   "metadata": {},
   "outputs": [
    {
     "data": {
      "text/plain": [
       "      KEY          Estimator    \n",
       " Min.   :  1.0   Min.   :14.98  \n",
       " 1st Qu.:127.2   1st Qu.:14.98  \n",
       " Median :253.5   Median :22.78  \n",
       " Mean   :253.5   Mean   :22.53  \n",
       " 3rd Qu.:379.8   3rd Qu.:22.78  \n",
       " Max.   :506.0   Max.   :34.58  "
      ]
     },
     "metadata": {},
     "output_type": "display_data"
    }
   ],
   "source": [
    "summary(df_sql_out)"
   ]
  },
  {
   "cell_type": "code",
   "execution_count": 18,
   "metadata": {},
   "outputs": [
    {
     "data": {
      "text/plain": [
       "   Estimator          KEY       \n",
       " Min.   :14.98   Min.   :  1.0  \n",
       " 1st Qu.:14.98   1st Qu.:127.2  \n",
       " Median :22.78   Median :253.5  \n",
       " Mean   :22.53   Mean   :253.5  \n",
       " 3rd Qu.:22.78   3rd Qu.:379.8  \n",
       " Max.   :34.58   Max.   :506.0  "
      ]
     },
     "metadata": {},
     "output_type": "display_data"
    }
   ],
   "source": [
    "summary(df_r_out)"
   ]
  },
  {
   "cell_type": "code",
   "execution_count": 19,
   "metadata": {},
   "outputs": [
    {
     "data": {
      "text/plain": [
       "      KEY         Estimator_1     Estimator_2        Error           \n",
       " Min.   :  1.0   Min.   :14.98   Min.   :14.98   Min.   :-5.329e-15  \n",
       " 1st Qu.:127.2   1st Qu.:14.98   1st Qu.:14.98   1st Qu.:-5.329e-15  \n",
       " Median :253.5   Median :22.78   Median :22.78   Median : 0.000e+00  \n",
       " Mean   :253.5   Mean   :22.53   Mean   :22.53   Mean   :-1.811e-15  \n",
       " 3rd Qu.:379.8   3rd Qu.:22.78   3rd Qu.:22.78   3rd Qu.: 0.000e+00  \n",
       " Max.   :506.0   Max.   :34.58   Max.   :34.58   Max.   : 0.000e+00  \n",
       "    AbsError        \n",
       " Min.   :0.000e+00  \n",
       " 1st Qu.:0.000e+00  \n",
       " Median :0.000e+00  \n",
       " Mean   :1.811e-15  \n",
       " 3rd Qu.:5.329e-15  \n",
       " Max.   :5.329e-15  "
      ]
     },
     "metadata": {},
     "output_type": "display_data"
    }
   ],
   "source": [
    "summary(df_merge)"
   ]
  },
  {
   "cell_type": "code",
   "execution_count": 20,
   "metadata": {},
   "outputs": [
    {
     "data": {
      "text/plain": [
       "n= 506 \n",
       "\n",
       "node), split, n, deviance, yval\n",
       "      * denotes terminal node\n",
       "\n",
       "1) root 506 42716.300 22.53281  \n",
       "  2) rm< 0.2003413 403 15822.440 19.45434  \n",
       "    4) lstat>=0.08741731 172  3296.440 14.98140 *\n",
       "    5) lstat< 0.08741731 231  6522.437 22.78485 *\n",
       "  3) rm>=0.2003413 103  8131.539 34.57767 *"
      ]
     },
     "metadata": {},
     "output_type": "display_data"
    }
   ],
   "source": [
    "model$finalModel"
   ]
  },
  {
   "cell_type": "code",
   "execution_count": 21,
   "metadata": {},
   "outputs": [],
   "source": [
    "prep = model$preProcess"
   ]
  },
  {
   "cell_type": "code",
   "execution_count": 22,
   "metadata": {},
   "outputs": [
    {
     "ename": "ERROR",
     "evalue": "Error in t.default(prep$ranges): argument is not a matrix\n",
     "output_type": "error",
     "traceback": [
      "Error in t.default(prep$ranges): argument is not a matrix\nTraceback:\n",
      "1. data.frame(t(prep$ranges))",
      "2. t(prep$ranges)",
      "3. t.default(prep$ranges)"
     ]
    }
   ],
   "source": [
    "data.frame(t(prep$ranges))"
   ]
  },
  {
   "cell_type": "code",
   "execution_count": null,
   "metadata": {},
   "outputs": [],
   "source": [
    "colnames(prep$ranges)"
   ]
  },
  {
   "cell_type": "code",
   "execution_count": null,
   "metadata": {},
   "outputs": [],
   "source": [
    "prep$method$range"
   ]
  },
  {
   "cell_type": "code",
   "execution_count": null,
   "metadata": {},
   "outputs": [],
   "source": []
  }
 ],
 "metadata": {
  "kernelspec": {
   "display_name": "R",
   "language": "R",
   "name": "ir"
  },
  "language_info": {
   "codemirror_mode": "r",
   "file_extension": ".r",
   "mimetype": "text/x-r-source",
   "name": "R",
   "pygments_lexer": "r",
   "version": "3.5.2"
  }
 },
 "nbformat": 4,
 "nbformat_minor": 2
}
