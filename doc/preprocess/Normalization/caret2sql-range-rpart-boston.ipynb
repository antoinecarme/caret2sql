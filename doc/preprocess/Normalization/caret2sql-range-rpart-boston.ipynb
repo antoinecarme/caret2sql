{
 "cells": [
  {
   "cell_type": "code",
   "execution_count": 1,
   "metadata": {},
   "outputs": [
    {
     "name": "stderr",
     "output_type": "stream",
     "text": [
      "\n",
      "Attaching package: ‘httr’\n",
      "\n",
      "The following object is masked from ‘package:caret’:\n",
      "\n",
      "    progress\n",
      "\n"
     ]
    }
   ],
   "source": [
    "library(caret, quiet = TRUE)\n",
    "library(base64enc)\n",
    "library(httr, quiet = TRUE)\n",
    "\n",
    "library(mlbench)"
   ]
  },
  {
   "cell_type": "markdown",
   "metadata": {},
   "source": [
    "# Build a Model"
   ]
  },
  {
   "cell_type": "code",
   "execution_count": 2,
   "metadata": {},
   "outputs": [],
   "source": [
    "\n",
    "# a character vector specifying the type of processing. \n",
    "# Possible values are \n",
    "# \"BoxCox\", \"YeoJohnson\", \"expoTrans\", \"center\", \"scale\", \"range\", \n",
    "# \"knnImpute\", \"bagImpute\", \"medianImpute\", \"pca\", \"ica\", \"spatialSign\", \n",
    "# \"corr\", \"zv\", \"nzv\", and \"conditionalX\"\n",
    "\n",
    "data(BostonHousing)\n",
    "BostonHousing$chas = as.numeric(BostonHousing$chas)\n",
    "\n",
    "set.seed(1960)\n",
    "\n",
    "dataset = BostonHousing[, -14] \n",
    "\n",
    "create_model  =  function() {\n",
    "\n",
    "    model <- train(medv ~ ., data = BostonHousing, method = \"rpart\", preProcess=c(\"range\"))    \n",
    "\n",
    "    return(model)\n",
    "}\n"
   ]
  },
  {
   "cell_type": "code",
   "execution_count": 3,
   "metadata": {},
   "outputs": [
    {
     "name": "stderr",
     "output_type": "stream",
     "text": [
      "Warning message in nominalTrainWorkflow(x = x, y = y, wts = weights, info = trainInfo, :\n",
      "“There were missing values in resampled performance measures.”"
     ]
    }
   ],
   "source": [
    "model = create_model()\n",
    "# cat(model$feature_names)\n",
    "# print(model)"
   ]
  },
  {
   "cell_type": "code",
   "execution_count": 4,
   "metadata": {},
   "outputs": [
    {
     "data": {
      "text/plain": [
       "      medv         Estimator         Error         \n",
       " Min.   : 5.00   Min.   :14.96   Min.   :-26.6502  \n",
       " 1st Qu.:17.02   1st Qu.:14.96   1st Qu.: -2.6985  \n",
       " Median :21.20   Median :23.35   Median :  0.6529  \n",
       " Mean   :22.53   Mean   :22.53   Mean   :  0.0000  \n",
       " 3rd Qu.:25.00   3rd Qu.:23.35   3rd Qu.:  3.1560  \n",
       " Max.   :50.00   Max.   :37.24   Max.   : 26.8382  "
      ]
     },
     "metadata": {},
     "output_type": "display_data"
    },
    {
     "data": {
      "text/html": [
       "0.206379789856096"
      ],
      "text/latex": [
       "0.206379789856096"
      ],
      "text/markdown": [
       "0.206379789856096"
      ],
      "text/plain": [
       "[1] 0.2063798"
      ]
     },
     "metadata": {},
     "output_type": "display_data"
    }
   ],
   "source": [
    "pred_labels <- predict(model, BostonHousing[, -14] , type=\"raw\")\n",
    "df = data.frame(BostonHousing[,14])\n",
    "names(df) = c(\"medv\")\n",
    "df$Estimator = pred_labels\n",
    "df$Error = df$Estimator - df$medv\n",
    "MAPE = mean(abs(df$Error / df$medv))\n",
    "summary(df)\n",
    "MAPE"
   ]
  },
  {
   "cell_type": "markdown",
   "metadata": {},
   "source": [
    "# SQL Code Generation"
   ]
  },
  {
   "cell_type": "code",
   "execution_count": 5,
   "metadata": {},
   "outputs": [],
   "source": [
    "\n",
    "test_ws_sql_gen = function(mod) {\n",
    "    WS_URL = \"https://sklearn2sql.herokuapp.com/model\"\n",
    "    WS_URL = \"http://localhost:1888/model\"\n",
    "    model_serialized <- serialize(mod, NULL)\n",
    "    b64_data = base64encode(model_serialized)\n",
    "    data = list(Name = \"xgboost_test_model\", SerializedModel = b64_data , SQLDialect = \"postgresql\" , Mode=\"caret\")\n",
    "    r = POST(WS_URL, body = data, encode = \"json\")\n",
    "    # print(r)\n",
    "    content = content(r)\n",
    "    # print(content)\n",
    "    lSQL = content$model$SQLGenrationResult[[1]]$SQL # content[\"model\"][\"SQLGenrationResult\"][0][\"SQL\"]\n",
    "    return(lSQL);\n",
    "}"
   ]
  },
  {
   "cell_type": "code",
   "execution_count": 6,
   "metadata": {
    "scrolled": false
   },
   "outputs": [
    {
     "name": "stdout",
     "output_type": "stream",
     "text": [
      "WITH \"ADS_pre_1_OUT\" AS \n",
      "(SELECT \"ADS\".\"KEY\" AS \"KEY\", CAST(\"ADS\".\"Feature_0\" AS FLOAT) * 0.01123975889368402 + -7.1035276208083e-05 AS crim, CAST(\"ADS\".\"Feature_1\" AS FLOAT) * 0.01 + -0.0 AS zn, CAST(\"ADS\".\"Feature_2\" AS FLOAT) * 0.036656891495601175 + -0.016862170087976542 AS indus, CAST(\"ADS\".\"Feature_3\" AS FLOAT) * 1.0 + -1.0 AS chas, CAST(\"ADS\".\"Feature_4\" AS FLOAT) * 2.05761316872428 + -0.7921810699588477 AS nox, CAST(\"ADS\".\"Feature_5\" AS FLOAT) * 0.19160758766047137 + -0.6823146196589386 AS rm, CAST(\"ADS\".\"Feature_6\" AS FLOAT) * 0.010298661174047374 + -0.029866117404737384 AS age, CAST(\"ADS\".\"Feature_7\" AS FLOAT) * 0.09093471796597223 + -0.10271985741436222 AS dis, CAST(\"ADS\".\"Feature_8\" AS FLOAT) * 0.043478260869565216 + -0.043478260869565216 AS rad, CAST(\"ADS\".\"Feature_9\" AS FLOAT) * 0.0019083969465648854 + -0.3568702290076336 AS tax, CAST(\"ADS\".\"Feature_10\" AS FLOAT) * 0.10638297872340426 + -1.3404255319148937 AS ptratio, CAST(\"ADS\".\"Feature_11\" AS FLOAT) * 0.0025215593322910888 + -0.0008068989863331484 AS b, CAST(\"ADS\".\"Feature_12\" AS FLOAT) * 0.02759381898454746 + -0.0477373068432671 AS lstat \n",
      "FROM \"INPUT_DATA\" AS \"ADS\"), \n",
      "\"DT_node_lookup\" AS \n",
      "(SELECT \"ADS_pre_1_OUT\".\"KEY\" AS \"KEY\", CASE WHEN (\"ADS_pre_1_OUT\".rm < 0.6476336462923933) THEN CASE WHEN (\"ADS_pre_1_OUT\".lstat >= 0.3496136865342163) THEN 4 ELSE 5 END ELSE 3 END AS node_id_2 \n",
      "FROM \"ADS_pre_1_OUT\"), \n",
      "\"DT_node_data\" AS \n",
      "(SELECT \"Values\".nid AS nid, \"Values\".\"E\" AS \"E\" \n",
      "FROM (SELECT 3 AS nid, 37.23815789473685 AS \"E\" UNION ALL SELECT 4 AS nid, 14.956 AS \"E\" UNION ALL SELECT 5 AS nid, 23.349803921568643 AS \"E\") AS \"Values\"), \n",
      "\"DT_Output\" AS \n",
      "(SELECT \"DT_node_lookup\".\"KEY\" AS \"KEY\", \"DT_node_lookup\".node_id_2 AS node_id_2, \"DT_node_data\".nid AS nid, \"DT_node_data\".\"E\" AS \"E\" \n",
      "FROM \"DT_node_lookup\" LEFT OUTER JOIN \"DT_node_data\" ON \"DT_node_lookup\".node_id_2 = \"DT_node_data\".nid)\n",
      " SELECT \"DT_Output\".\"KEY\" AS \"KEY\", \"DT_Output\".\"E\" AS \"Estimator\" \n",
      "FROM \"DT_Output\""
     ]
    }
   ],
   "source": [
    "lModelSQL = test_ws_sql_gen(model)\n",
    "cat(lModelSQL)\n"
   ]
  },
  {
   "cell_type": "code",
   "execution_count": null,
   "metadata": {},
   "outputs": [],
   "source": []
  },
  {
   "cell_type": "markdown",
   "metadata": {},
   "source": [
    "# Execute the SQL Code"
   ]
  },
  {
   "cell_type": "code",
   "execution_count": 7,
   "metadata": {},
   "outputs": [
    {
     "data": {
      "text/html": [
       "0"
      ],
      "text/latex": [
       "0"
      ],
      "text/markdown": [
       "0"
      ],
      "text/plain": [
       "[1] 0"
      ]
     },
     "metadata": {},
     "output_type": "display_data"
    }
   ],
   "source": [
    "library(RODBC)\n",
    "conn = odbcConnect(\"pgsql\", uid=\"db\", pwd=\"db\", case=\"nochange\")\n",
    "odbcSetAutoCommit(conn , autoCommit = TRUE)"
   ]
  },
  {
   "cell_type": "code",
   "execution_count": 8,
   "metadata": {
    "scrolled": true
   },
   "outputs": [],
   "source": [
    "df_sql = dataset\n",
    "names(df_sql) = sprintf(\"Feature_%d\",0:(ncol(df_sql)-1))\n",
    "df_sql$KEY = seq.int(nrow(dataset))\n",
    "\n",
    "sqlDrop(conn , \"INPUT_DATA\" , errors = FALSE)\n",
    "sqlSave(conn, df_sql, tablename = \"INPUT_DATA\", verbose = FALSE)\n",
    "\n",
    "# df_sql"
   ]
  },
  {
   "cell_type": "code",
   "execution_count": 9,
   "metadata": {},
   "outputs": [
    {
     "data": {
      "text/html": [
       "<ol class=list-inline>\n",
       "\t<li>'Feature_0'</li>\n",
       "\t<li>'Feature_1'</li>\n",
       "\t<li>'Feature_2'</li>\n",
       "\t<li>'Feature_3'</li>\n",
       "\t<li>'Feature_4'</li>\n",
       "\t<li>'Feature_5'</li>\n",
       "\t<li>'Feature_6'</li>\n",
       "\t<li>'Feature_7'</li>\n",
       "\t<li>'Feature_8'</li>\n",
       "\t<li>'Feature_9'</li>\n",
       "\t<li>'Feature_10'</li>\n",
       "\t<li>'Feature_11'</li>\n",
       "\t<li>'Feature_12'</li>\n",
       "\t<li>'KEY'</li>\n",
       "</ol>\n"
      ],
      "text/latex": [
       "\\begin{enumerate*}\n",
       "\\item 'Feature\\_0'\n",
       "\\item 'Feature\\_1'\n",
       "\\item 'Feature\\_2'\n",
       "\\item 'Feature\\_3'\n",
       "\\item 'Feature\\_4'\n",
       "\\item 'Feature\\_5'\n",
       "\\item 'Feature\\_6'\n",
       "\\item 'Feature\\_7'\n",
       "\\item 'Feature\\_8'\n",
       "\\item 'Feature\\_9'\n",
       "\\item 'Feature\\_10'\n",
       "\\item 'Feature\\_11'\n",
       "\\item 'Feature\\_12'\n",
       "\\item 'KEY'\n",
       "\\end{enumerate*}\n"
      ],
      "text/markdown": [
       "1. 'Feature_0'\n",
       "2. 'Feature_1'\n",
       "3. 'Feature_2'\n",
       "4. 'Feature_3'\n",
       "5. 'Feature_4'\n",
       "6. 'Feature_5'\n",
       "7. 'Feature_6'\n",
       "8. 'Feature_7'\n",
       "9. 'Feature_8'\n",
       "10. 'Feature_9'\n",
       "11. 'Feature_10'\n",
       "12. 'Feature_11'\n",
       "13. 'Feature_12'\n",
       "14. 'KEY'\n",
       "\n",
       "\n"
      ],
      "text/plain": [
       " [1] \"Feature_0\"  \"Feature_1\"  \"Feature_2\"  \"Feature_3\"  \"Feature_4\" \n",
       " [6] \"Feature_5\"  \"Feature_6\"  \"Feature_7\"  \"Feature_8\"  \"Feature_9\" \n",
       "[11] \"Feature_10\" \"Feature_11\" \"Feature_12\" \"KEY\"       "
      ]
     },
     "metadata": {},
     "output_type": "display_data"
    }
   ],
   "source": [
    "colnames(df_sql)\n",
    "# odbcGetInfo(conn)\n",
    "# sqlTables(conn)"
   ]
  },
  {
   "cell_type": "code",
   "execution_count": 10,
   "metadata": {},
   "outputs": [
    {
     "data": {
      "text/html": [
       "<table>\n",
       "<thead><tr><th scope=col>KEY</th><th scope=col>Estimator</th></tr></thead>\n",
       "<tbody>\n",
       "\t<tr><td>1       </td><td>23.34980</td></tr>\n",
       "\t<tr><td>2       </td><td>23.34980</td></tr>\n",
       "\t<tr><td>3       </td><td>37.23816</td></tr>\n",
       "\t<tr><td>4       </td><td>37.23816</td></tr>\n",
       "\t<tr><td>5       </td><td>37.23816</td></tr>\n",
       "\t<tr><td>6       </td><td>23.34980</td></tr>\n",
       "</tbody>\n",
       "</table>\n"
      ],
      "text/latex": [
       "\\begin{tabular}{r|ll}\n",
       " KEY & Estimator\\\\\n",
       "\\hline\n",
       "\t 1        & 23.34980\\\\\n",
       "\t 2        & 23.34980\\\\\n",
       "\t 3        & 37.23816\\\\\n",
       "\t 4        & 37.23816\\\\\n",
       "\t 5        & 37.23816\\\\\n",
       "\t 6        & 23.34980\\\\\n",
       "\\end{tabular}\n"
      ],
      "text/markdown": [
       "\n",
       "KEY | Estimator | \n",
       "|---|---|---|---|---|---|\n",
       "| 1        | 23.34980 | \n",
       "| 2        | 23.34980 | \n",
       "| 3        | 37.23816 | \n",
       "| 4        | 37.23816 | \n",
       "| 5        | 37.23816 | \n",
       "| 6        | 23.34980 | \n",
       "\n",
       "\n"
      ],
      "text/plain": [
       "  KEY Estimator\n",
       "1 1   23.34980 \n",
       "2 2   23.34980 \n",
       "3 3   37.23816 \n",
       "4 4   37.23816 \n",
       "5 5   37.23816 \n",
       "6 6   23.34980 "
      ]
     },
     "metadata": {},
     "output_type": "display_data"
    }
   ],
   "source": [
    "df_sql_out = sqlQuery(conn, lModelSQL)\n",
    "head(df_sql_out[order(df_sql_out$KEY),])"
   ]
  },
  {
   "cell_type": "code",
   "execution_count": 11,
   "metadata": {},
   "outputs": [],
   "source": [
    "# df_sql_out"
   ]
  },
  {
   "cell_type": "markdown",
   "metadata": {},
   "source": [
    "# R RPART Output"
   ]
  },
  {
   "cell_type": "code",
   "execution_count": 12,
   "metadata": {},
   "outputs": [
    {
     "data": {
      "text/html": [
       "<table>\n",
       "<thead><tr><th scope=col>Estimator</th><th scope=col>KEY</th></tr></thead>\n",
       "<tbody>\n",
       "\t<tr><td>23.34980</td><td>1       </td></tr>\n",
       "\t<tr><td>23.34980</td><td>2       </td></tr>\n",
       "\t<tr><td>37.23816</td><td>3       </td></tr>\n",
       "\t<tr><td>37.23816</td><td>4       </td></tr>\n",
       "\t<tr><td>37.23816</td><td>5       </td></tr>\n",
       "\t<tr><td>23.34980</td><td>6       </td></tr>\n",
       "</tbody>\n",
       "</table>\n"
      ],
      "text/latex": [
       "\\begin{tabular}{r|ll}\n",
       " Estimator & KEY\\\\\n",
       "\\hline\n",
       "\t 23.34980 & 1       \\\\\n",
       "\t 23.34980 & 2       \\\\\n",
       "\t 37.23816 & 3       \\\\\n",
       "\t 37.23816 & 4       \\\\\n",
       "\t 37.23816 & 5       \\\\\n",
       "\t 23.34980 & 6       \\\\\n",
       "\\end{tabular}\n"
      ],
      "text/markdown": [
       "\n",
       "Estimator | KEY | \n",
       "|---|---|---|---|---|---|\n",
       "| 23.34980 | 1        | \n",
       "| 23.34980 | 2        | \n",
       "| 37.23816 | 3        | \n",
       "| 37.23816 | 4        | \n",
       "| 37.23816 | 5        | \n",
       "| 23.34980 | 6        | \n",
       "\n",
       "\n"
      ],
      "text/plain": [
       "  Estimator KEY\n",
       "1 23.34980  1  \n",
       "2 23.34980  2  \n",
       "3 37.23816  3  \n",
       "4 37.23816  4  \n",
       "5 37.23816  5  \n",
       "6 23.34980  6  "
      ]
     },
     "metadata": {},
     "output_type": "display_data"
    }
   ],
   "source": [
    "estimator  =  predict(model, dataset, type = \"raw\")\n",
    "df_r_out = data.frame(estimator)\n",
    "names(df_r_out) = c(\"Estimator\")\n",
    "\n",
    "df_r_out$KEY = seq.int(nrow(dataset))\n",
    "head(df_r_out)\n"
   ]
  },
  {
   "cell_type": "markdown",
   "metadata": {},
   "source": [
    "# Compare R and SQL output"
   ]
  },
  {
   "cell_type": "code",
   "execution_count": 13,
   "metadata": {},
   "outputs": [
    {
     "data": {
      "text/html": [
       "<table>\n",
       "<thead><tr><th scope=col>KEY</th><th scope=col>Estimator_1</th><th scope=col>Estimator_2</th></tr></thead>\n",
       "<tbody>\n",
       "\t<tr><td>1       </td><td>23.34980</td><td>23.34980</td></tr>\n",
       "\t<tr><td>2       </td><td>23.34980</td><td>23.34980</td></tr>\n",
       "\t<tr><td>3       </td><td>37.23816</td><td>37.23816</td></tr>\n",
       "\t<tr><td>4       </td><td>37.23816</td><td>37.23816</td></tr>\n",
       "\t<tr><td>5       </td><td>37.23816</td><td>37.23816</td></tr>\n",
       "\t<tr><td>6       </td><td>23.34980</td><td>23.34980</td></tr>\n",
       "</tbody>\n",
       "</table>\n"
      ],
      "text/latex": [
       "\\begin{tabular}{r|lll}\n",
       " KEY & Estimator\\_1 & Estimator\\_2\\\\\n",
       "\\hline\n",
       "\t 1        & 23.34980 & 23.34980\\\\\n",
       "\t 2        & 23.34980 & 23.34980\\\\\n",
       "\t 3        & 37.23816 & 37.23816\\\\\n",
       "\t 4        & 37.23816 & 37.23816\\\\\n",
       "\t 5        & 37.23816 & 37.23816\\\\\n",
       "\t 6        & 23.34980 & 23.34980\\\\\n",
       "\\end{tabular}\n"
      ],
      "text/markdown": [
       "\n",
       "KEY | Estimator_1 | Estimator_2 | \n",
       "|---|---|---|---|---|---|\n",
       "| 1        | 23.34980 | 23.34980 | \n",
       "| 2        | 23.34980 | 23.34980 | \n",
       "| 3        | 37.23816 | 37.23816 | \n",
       "| 4        | 37.23816 | 37.23816 | \n",
       "| 5        | 37.23816 | 37.23816 | \n",
       "| 6        | 23.34980 | 23.34980 | \n",
       "\n",
       "\n"
      ],
      "text/plain": [
       "  KEY Estimator_1 Estimator_2\n",
       "1 1   23.34980    23.34980   \n",
       "2 2   23.34980    23.34980   \n",
       "3 3   37.23816    37.23816   \n",
       "4 4   37.23816    37.23816   \n",
       "5 5   37.23816    37.23816   \n",
       "6 6   23.34980    23.34980   "
      ]
     },
     "metadata": {},
     "output_type": "display_data"
    }
   ],
   "source": [
    "df_merge = merge(x = df_r_out, y = df_sql_out, by = \"KEY\", all = TRUE, , suffixes = c(\"_1\",\"_2\"))\n",
    "head(df_merge)"
   ]
  },
  {
   "cell_type": "code",
   "execution_count": 14,
   "metadata": {},
   "outputs": [
    {
     "data": {
      "text/html": [
       "<table>\n",
       "<thead><tr><th scope=col>KEY</th><th scope=col>Estimator_1</th><th scope=col>Estimator_2</th><th scope=col>Error</th><th scope=col>AbsError</th></tr></thead>\n",
       "<tbody>\n",
       "\t<tr><td>1            </td><td>23.34980     </td><td>23.34980     </td><td>-7.105427e-15</td><td>7.105427e-15 </td></tr>\n",
       "\t<tr><td>2            </td><td>23.34980     </td><td>23.34980     </td><td>-7.105427e-15</td><td>7.105427e-15 </td></tr>\n",
       "\t<tr><td>3            </td><td>37.23816     </td><td>37.23816     </td><td> 0.000000e+00</td><td>0.000000e+00 </td></tr>\n",
       "\t<tr><td>4            </td><td>37.23816     </td><td>37.23816     </td><td> 0.000000e+00</td><td>0.000000e+00 </td></tr>\n",
       "\t<tr><td>5            </td><td>37.23816     </td><td>37.23816     </td><td> 0.000000e+00</td><td>0.000000e+00 </td></tr>\n",
       "\t<tr><td>6            </td><td>23.34980     </td><td>23.34980     </td><td>-7.105427e-15</td><td>7.105427e-15 </td></tr>\n",
       "</tbody>\n",
       "</table>\n"
      ],
      "text/latex": [
       "\\begin{tabular}{r|lllll}\n",
       " KEY & Estimator\\_1 & Estimator\\_2 & Error & AbsError\\\\\n",
       "\\hline\n",
       "\t 1             & 23.34980      & 23.34980      & -7.105427e-15 & 7.105427e-15 \\\\\n",
       "\t 2             & 23.34980      & 23.34980      & -7.105427e-15 & 7.105427e-15 \\\\\n",
       "\t 3             & 37.23816      & 37.23816      &  0.000000e+00 & 0.000000e+00 \\\\\n",
       "\t 4             & 37.23816      & 37.23816      &  0.000000e+00 & 0.000000e+00 \\\\\n",
       "\t 5             & 37.23816      & 37.23816      &  0.000000e+00 & 0.000000e+00 \\\\\n",
       "\t 6             & 23.34980      & 23.34980      & -7.105427e-15 & 7.105427e-15 \\\\\n",
       "\\end{tabular}\n"
      ],
      "text/markdown": [
       "\n",
       "KEY | Estimator_1 | Estimator_2 | Error | AbsError | \n",
       "|---|---|---|---|---|---|\n",
       "| 1             | 23.34980      | 23.34980      | -7.105427e-15 | 7.105427e-15  | \n",
       "| 2             | 23.34980      | 23.34980      | -7.105427e-15 | 7.105427e-15  | \n",
       "| 3             | 37.23816      | 37.23816      |  0.000000e+00 | 0.000000e+00  | \n",
       "| 4             | 37.23816      | 37.23816      |  0.000000e+00 | 0.000000e+00  | \n",
       "| 5             | 37.23816      | 37.23816      |  0.000000e+00 | 0.000000e+00  | \n",
       "| 6             | 23.34980      | 23.34980      | -7.105427e-15 | 7.105427e-15  | \n",
       "\n",
       "\n"
      ],
      "text/plain": [
       "  KEY Estimator_1 Estimator_2 Error         AbsError    \n",
       "1 1   23.34980    23.34980    -7.105427e-15 7.105427e-15\n",
       "2 2   23.34980    23.34980    -7.105427e-15 7.105427e-15\n",
       "3 3   37.23816    37.23816     0.000000e+00 0.000000e+00\n",
       "4 4   37.23816    37.23816     0.000000e+00 0.000000e+00\n",
       "5 5   37.23816    37.23816     0.000000e+00 0.000000e+00\n",
       "6 6   23.34980    23.34980    -7.105427e-15 7.105427e-15"
      ]
     },
     "metadata": {},
     "output_type": "display_data"
    }
   ],
   "source": [
    "df_merge$Error = df_merge$Estimator_1 - df_merge$Estimator_2\n",
    "df_merge$AbsError = abs(df_merge$Error)\n",
    "head(df_merge)\n"
   ]
  },
  {
   "cell_type": "code",
   "execution_count": 15,
   "metadata": {},
   "outputs": [
    {
     "data": {
      "text/html": [
       "<table>\n",
       "<thead><tr><th scope=col>KEY</th><th scope=col>Estimator_1</th><th scope=col>Estimator_2</th><th scope=col>Error</th><th scope=col>AbsError</th></tr></thead>\n",
       "<tbody>\n",
       "</tbody>\n",
       "</table>\n"
      ],
      "text/latex": [
       "\\begin{tabular}{r|lllll}\n",
       " KEY & Estimator\\_1 & Estimator\\_2 & Error & AbsError\\\\\n",
       "\\hline\n",
       "\\end{tabular}\n"
      ],
      "text/markdown": [
       "\n",
       "KEY | Estimator_1 | Estimator_2 | Error | AbsError | \n",
       "||\n",
       "\n",
       "\n"
      ],
      "text/plain": [
       "     KEY Estimator_1 Estimator_2 Error AbsError"
      ]
     },
     "metadata": {},
     "output_type": "display_data"
    }
   ],
   "source": [
    "df_merge_largest_errors = df_merge[df_merge$AbsError > 0.0001,]\n",
    "df_merge_largest_errors"
   ]
  },
  {
   "cell_type": "code",
   "execution_count": 16,
   "metadata": {},
   "outputs": [],
   "source": [
    "stopifnot(nrow(df_merge_largest_errors) == 0)"
   ]
  },
  {
   "cell_type": "code",
   "execution_count": null,
   "metadata": {},
   "outputs": [],
   "source": []
  },
  {
   "cell_type": "code",
   "execution_count": 17,
   "metadata": {},
   "outputs": [
    {
     "data": {
      "text/plain": [
       "      KEY          Estimator    \n",
       " Min.   :  1.0   Min.   :14.96  \n",
       " 1st Qu.:127.2   1st Qu.:14.96  \n",
       " Median :253.5   Median :23.35  \n",
       " Mean   :253.5   Mean   :22.53  \n",
       " 3rd Qu.:379.8   3rd Qu.:23.35  \n",
       " Max.   :506.0   Max.   :37.24  "
      ]
     },
     "metadata": {},
     "output_type": "display_data"
    }
   ],
   "source": [
    "summary(df_sql_out)"
   ]
  },
  {
   "cell_type": "code",
   "execution_count": 18,
   "metadata": {},
   "outputs": [
    {
     "data": {
      "text/plain": [
       "   Estimator          KEY       \n",
       " Min.   :14.96   Min.   :  1.0  \n",
       " 1st Qu.:14.96   1st Qu.:127.2  \n",
       " Median :23.35   Median :253.5  \n",
       " Mean   :22.53   Mean   :253.5  \n",
       " 3rd Qu.:23.35   3rd Qu.:379.8  \n",
       " Max.   :37.24   Max.   :506.0  "
      ]
     },
     "metadata": {},
     "output_type": "display_data"
    }
   ],
   "source": [
    "summary(df_r_out)"
   ]
  },
  {
   "cell_type": "code",
   "execution_count": 19,
   "metadata": {},
   "outputs": [
    {
     "data": {
      "text/plain": [
       "      KEY         Estimator_1     Estimator_2        Error           \n",
       " Min.   :  1.0   Min.   :14.96   Min.   :14.96   Min.   :-7.105e-15  \n",
       " 1st Qu.:127.2   1st Qu.:14.96   1st Qu.:14.96   1st Qu.:-7.105e-15  \n",
       " Median :253.5   Median :23.35   Median :23.35   Median :-7.105e-15  \n",
       " Mean   :253.5   Mean   :22.53   Mean   :22.53   Mean   :-4.195e-15  \n",
       " 3rd Qu.:379.8   3rd Qu.:23.35   3rd Qu.:23.35   3rd Qu.:-1.776e-15  \n",
       " Max.   :506.0   Max.   :37.24   Max.   :37.24   Max.   : 0.000e+00  \n",
       "    AbsError        \n",
       " Min.   :0.000e+00  \n",
       " 1st Qu.:1.776e-15  \n",
       " Median :7.105e-15  \n",
       " Mean   :4.195e-15  \n",
       " 3rd Qu.:7.105e-15  \n",
       " Max.   :7.105e-15  "
      ]
     },
     "metadata": {},
     "output_type": "display_data"
    }
   ],
   "source": [
    "summary(df_merge)"
   ]
  },
  {
   "cell_type": "code",
   "execution_count": 20,
   "metadata": {},
   "outputs": [
    {
     "data": {
      "text/plain": [
       "n= 506 \n",
       "\n",
       "node), split, n, deviance, yval\n",
       "      * denotes terminal node\n",
       "\n",
       "1) root 506 42716.300 22.53281  \n",
       "  2) rm< 0.6476336 430 17317.320 19.93372  \n",
       "    4) lstat>=0.3496137 175  3373.251 14.95600 *\n",
       "    5) lstat< 0.3496137 255  6632.217 23.34980 *\n",
       "  3) rm>=0.6476336 76  6059.419 37.23816 *"
      ]
     },
     "metadata": {},
     "output_type": "display_data"
    }
   ],
   "source": [
    "model$finalModel"
   ]
  },
  {
   "cell_type": "code",
   "execution_count": 21,
   "metadata": {},
   "outputs": [],
   "source": [
    "prep = model$preProcess"
   ]
  },
  {
   "cell_type": "code",
   "execution_count": 22,
   "metadata": {},
   "outputs": [
    {
     "data": {
      "text/html": [
       "<table>\n",
       "<thead><tr><th></th><th scope=col>X1</th><th scope=col>X2</th></tr></thead>\n",
       "<tbody>\n",
       "\t<tr><th scope=row>crim</th><td>  0.00632</td><td> 88.9762 </td></tr>\n",
       "\t<tr><th scope=row>zn</th><td>  0.00000</td><td>100.0000 </td></tr>\n",
       "\t<tr><th scope=row>indus</th><td>  0.46000</td><td> 27.7400 </td></tr>\n",
       "\t<tr><th scope=row>chas</th><td>  1.00000</td><td>  2.0000 </td></tr>\n",
       "\t<tr><th scope=row>nox</th><td>  0.38500</td><td>  0.8710 </td></tr>\n",
       "\t<tr><th scope=row>rm</th><td>  3.56100</td><td>  8.7800 </td></tr>\n",
       "\t<tr><th scope=row>age</th><td>  2.90000</td><td>100.0000 </td></tr>\n",
       "\t<tr><th scope=row>dis</th><td>  1.12960</td><td> 12.1265 </td></tr>\n",
       "\t<tr><th scope=row>rad</th><td>  1.00000</td><td> 24.0000 </td></tr>\n",
       "\t<tr><th scope=row>tax</th><td>187.00000</td><td>711.0000 </td></tr>\n",
       "\t<tr><th scope=row>ptratio</th><td> 12.60000</td><td> 22.0000 </td></tr>\n",
       "\t<tr><th scope=row>b</th><td>  0.32000</td><td>396.9000 </td></tr>\n",
       "\t<tr><th scope=row>lstat</th><td>  1.73000</td><td> 37.9700 </td></tr>\n",
       "</tbody>\n",
       "</table>\n"
      ],
      "text/latex": [
       "\\begin{tabular}{r|ll}\n",
       "  & X1 & X2\\\\\n",
       "\\hline\n",
       "\tcrim &   0.00632 &  88.9762 \\\\\n",
       "\tzn &   0.00000 & 100.0000 \\\\\n",
       "\tindus &   0.46000 &  27.7400 \\\\\n",
       "\tchas &   1.00000 &   2.0000 \\\\\n",
       "\tnox &   0.38500 &   0.8710 \\\\\n",
       "\trm &   3.56100 &   8.7800 \\\\\n",
       "\tage &   2.90000 & 100.0000 \\\\\n",
       "\tdis &   1.12960 &  12.1265 \\\\\n",
       "\trad &   1.00000 &  24.0000 \\\\\n",
       "\ttax & 187.00000 & 711.0000 \\\\\n",
       "\tptratio &  12.60000 &  22.0000 \\\\\n",
       "\tb &   0.32000 & 396.9000 \\\\\n",
       "\tlstat &   1.73000 &  37.9700 \\\\\n",
       "\\end{tabular}\n"
      ],
      "text/markdown": [
       "\n",
       "| <!--/--> | X1 | X2 | \n",
       "|---|---|---|---|---|---|---|---|---|---|---|---|---|\n",
       "| crim |   0.00632 |  88.9762  | \n",
       "| zn |   0.00000 | 100.0000  | \n",
       "| indus |   0.46000 |  27.7400  | \n",
       "| chas |   1.00000 |   2.0000  | \n",
       "| nox |   0.38500 |   0.8710  | \n",
       "| rm |   3.56100 |   8.7800  | \n",
       "| age |   2.90000 | 100.0000  | \n",
       "| dis |   1.12960 |  12.1265  | \n",
       "| rad |   1.00000 |  24.0000  | \n",
       "| tax | 187.00000 | 711.0000  | \n",
       "| ptratio |  12.60000 |  22.0000  | \n",
       "| b |   0.32000 | 396.9000  | \n",
       "| lstat |   1.73000 |  37.9700  | \n",
       "\n",
       "\n"
      ],
      "text/plain": [
       "        X1        X2      \n",
       "crim      0.00632  88.9762\n",
       "zn        0.00000 100.0000\n",
       "indus     0.46000  27.7400\n",
       "chas      1.00000   2.0000\n",
       "nox       0.38500   0.8710\n",
       "rm        3.56100   8.7800\n",
       "age       2.90000 100.0000\n",
       "dis       1.12960  12.1265\n",
       "rad       1.00000  24.0000\n",
       "tax     187.00000 711.0000\n",
       "ptratio  12.60000  22.0000\n",
       "b         0.32000 396.9000\n",
       "lstat     1.73000  37.9700"
      ]
     },
     "metadata": {},
     "output_type": "display_data"
    }
   ],
   "source": [
    "data.frame(t(prep$ranges))"
   ]
  },
  {
   "cell_type": "code",
   "execution_count": 23,
   "metadata": {},
   "outputs": [
    {
     "data": {
      "text/html": [
       "<ol class=list-inline>\n",
       "\t<li>'crim'</li>\n",
       "\t<li>'zn'</li>\n",
       "\t<li>'indus'</li>\n",
       "\t<li>'chas'</li>\n",
       "\t<li>'nox'</li>\n",
       "\t<li>'rm'</li>\n",
       "\t<li>'age'</li>\n",
       "\t<li>'dis'</li>\n",
       "\t<li>'rad'</li>\n",
       "\t<li>'tax'</li>\n",
       "\t<li>'ptratio'</li>\n",
       "\t<li>'b'</li>\n",
       "\t<li>'lstat'</li>\n",
       "</ol>\n"
      ],
      "text/latex": [
       "\\begin{enumerate*}\n",
       "\\item 'crim'\n",
       "\\item 'zn'\n",
       "\\item 'indus'\n",
       "\\item 'chas'\n",
       "\\item 'nox'\n",
       "\\item 'rm'\n",
       "\\item 'age'\n",
       "\\item 'dis'\n",
       "\\item 'rad'\n",
       "\\item 'tax'\n",
       "\\item 'ptratio'\n",
       "\\item 'b'\n",
       "\\item 'lstat'\n",
       "\\end{enumerate*}\n"
      ],
      "text/markdown": [
       "1. 'crim'\n",
       "2. 'zn'\n",
       "3. 'indus'\n",
       "4. 'chas'\n",
       "5. 'nox'\n",
       "6. 'rm'\n",
       "7. 'age'\n",
       "8. 'dis'\n",
       "9. 'rad'\n",
       "10. 'tax'\n",
       "11. 'ptratio'\n",
       "12. 'b'\n",
       "13. 'lstat'\n",
       "\n",
       "\n"
      ],
      "text/plain": [
       " [1] \"crim\"    \"zn\"      \"indus\"   \"chas\"    \"nox\"     \"rm\"      \"age\"    \n",
       " [8] \"dis\"     \"rad\"     \"tax\"     \"ptratio\" \"b\"       \"lstat\"  "
      ]
     },
     "metadata": {},
     "output_type": "display_data"
    }
   ],
   "source": [
    "colnames(prep$ranges)"
   ]
  },
  {
   "cell_type": "code",
   "execution_count": 24,
   "metadata": {},
   "outputs": [
    {
     "data": {
      "text/html": [
       "<ol class=list-inline>\n",
       "\t<li>'crim'</li>\n",
       "\t<li>'zn'</li>\n",
       "\t<li>'indus'</li>\n",
       "\t<li>'chas'</li>\n",
       "\t<li>'nox'</li>\n",
       "\t<li>'rm'</li>\n",
       "\t<li>'age'</li>\n",
       "\t<li>'dis'</li>\n",
       "\t<li>'rad'</li>\n",
       "\t<li>'tax'</li>\n",
       "\t<li>'ptratio'</li>\n",
       "\t<li>'b'</li>\n",
       "\t<li>'lstat'</li>\n",
       "</ol>\n"
      ],
      "text/latex": [
       "\\begin{enumerate*}\n",
       "\\item 'crim'\n",
       "\\item 'zn'\n",
       "\\item 'indus'\n",
       "\\item 'chas'\n",
       "\\item 'nox'\n",
       "\\item 'rm'\n",
       "\\item 'age'\n",
       "\\item 'dis'\n",
       "\\item 'rad'\n",
       "\\item 'tax'\n",
       "\\item 'ptratio'\n",
       "\\item 'b'\n",
       "\\item 'lstat'\n",
       "\\end{enumerate*}\n"
      ],
      "text/markdown": [
       "1. 'crim'\n",
       "2. 'zn'\n",
       "3. 'indus'\n",
       "4. 'chas'\n",
       "5. 'nox'\n",
       "6. 'rm'\n",
       "7. 'age'\n",
       "8. 'dis'\n",
       "9. 'rad'\n",
       "10. 'tax'\n",
       "11. 'ptratio'\n",
       "12. 'b'\n",
       "13. 'lstat'\n",
       "\n",
       "\n"
      ],
      "text/plain": [
       " [1] \"crim\"    \"zn\"      \"indus\"   \"chas\"    \"nox\"     \"rm\"      \"age\"    \n",
       " [8] \"dis\"     \"rad\"     \"tax\"     \"ptratio\" \"b\"       \"lstat\"  "
      ]
     },
     "metadata": {},
     "output_type": "display_data"
    }
   ],
   "source": [
    "prep$method$range"
   ]
  },
  {
   "cell_type": "code",
   "execution_count": null,
   "metadata": {},
   "outputs": [],
   "source": []
  }
 ],
 "metadata": {
  "kernelspec": {
   "display_name": "R",
   "language": "R",
   "name": "ir"
  },
  "language_info": {
   "codemirror_mode": "r",
   "file_extension": ".r",
   "mimetype": "text/x-r-source",
   "name": "R",
   "pygments_lexer": "r",
   "version": "3.5.2"
  }
 },
 "nbformat": 4,
 "nbformat_minor": 2
}
