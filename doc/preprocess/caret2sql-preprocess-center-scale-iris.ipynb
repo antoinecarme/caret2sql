{
 "cells": [
  {
   "cell_type": "code",
   "execution_count": 1,
   "metadata": {},
   "outputs": [
    {
     "name": "stderr",
     "output_type": "stream",
     "text": [
      "\n",
      "Attaching package: ‘httr’\n",
      "\n",
      "The following object is masked from ‘package:caret’:\n",
      "\n",
      "    progress\n",
      "\n"
     ]
    }
   ],
   "source": [
    "library(caret, quiet=TRUE);\n",
    "library(base64enc)\n",
    "library(httr, quiet=TRUE)\n"
   ]
  },
  {
   "cell_type": "markdown",
   "metadata": {},
   "source": [
    "# Build a Model"
   ]
  },
  {
   "cell_type": "code",
   "execution_count": 2,
   "metadata": {},
   "outputs": [],
   "source": [
    "set.seed(1960)\n",
    "\n",
    "create_model  =  function() {\n",
    "\n",
    "    model  <- preProcess(iris[, -5], method = c(\"center\", \"scale\"))\n",
    "    \n",
    "    return(model)\n",
    "}"
   ]
  },
  {
   "cell_type": "code",
   "execution_count": 3,
   "metadata": {},
   "outputs": [],
   "source": [
    "# dataset\n",
    "model = create_model()"
   ]
  },
  {
   "cell_type": "code",
   "execution_count": 4,
   "metadata": {},
   "outputs": [
    {
     "data": {
      "text/html": [
       "<table>\n",
       "<thead><tr><th scope=col>Sepal.Length</th><th scope=col>Sepal.Width</th><th scope=col>Petal.Length</th><th scope=col>Petal.Width</th></tr></thead>\n",
       "<tbody>\n",
       "\t<tr><td>-0.8976739 </td><td> 1.01560199</td><td>-1.335752  </td><td>-1.311052  </td></tr>\n",
       "\t<tr><td>-1.1392005 </td><td>-0.13153881</td><td>-1.335752  </td><td>-1.311052  </td></tr>\n",
       "\t<tr><td>-1.3807271 </td><td> 0.32731751</td><td>-1.392399  </td><td>-1.311052  </td></tr>\n",
       "\t<tr><td>-1.5014904 </td><td> 0.09788935</td><td>-1.279104  </td><td>-1.311052  </td></tr>\n",
       "\t<tr><td>-1.0184372 </td><td> 1.24503015</td><td>-1.335752  </td><td>-1.311052  </td></tr>\n",
       "\t<tr><td>-0.5353840 </td><td> 1.93331463</td><td>-1.165809  </td><td>-1.048667  </td></tr>\n",
       "</tbody>\n",
       "</table>\n"
      ],
      "text/latex": [
       "\\begin{tabular}{llll}\n",
       " Sepal.Length & Sepal.Width & Petal.Length & Petal.Width\\\\\n",
       "\\hline\n",
       "\t -0.8976739  &  1.01560199 & -1.335752   & -1.311052  \\\\\n",
       "\t -1.1392005  & -0.13153881 & -1.335752   & -1.311052  \\\\\n",
       "\t -1.3807271  &  0.32731751 & -1.392399   & -1.311052  \\\\\n",
       "\t -1.5014904  &  0.09788935 & -1.279104   & -1.311052  \\\\\n",
       "\t -1.0184372  &  1.24503015 & -1.335752   & -1.311052  \\\\\n",
       "\t -0.5353840  &  1.93331463 & -1.165809   & -1.048667  \\\\\n",
       "\\end{tabular}\n"
      ],
      "text/markdown": [
       "\n",
       "Sepal.Length | Sepal.Width | Petal.Length | Petal.Width | \n",
       "|---|---|---|---|---|---|\n",
       "| -0.8976739  |  1.01560199 | -1.335752   | -1.311052   | \n",
       "| -1.1392005  | -0.13153881 | -1.335752   | -1.311052   | \n",
       "| -1.3807271  |  0.32731751 | -1.392399   | -1.311052   | \n",
       "| -1.5014904  |  0.09788935 | -1.279104   | -1.311052   | \n",
       "| -1.0184372  |  1.24503015 | -1.335752   | -1.311052   | \n",
       "| -0.5353840  |  1.93331463 | -1.165809   | -1.048667   | \n",
       "\n",
       "\n"
      ],
      "text/plain": [
       "     Sepal.Length Sepal.Width Petal.Length Petal.Width\n",
       "[1,] -0.8976739    1.01560199 -1.335752    -1.311052  \n",
       "[2,] -1.1392005   -0.13153881 -1.335752    -1.311052  \n",
       "[3,] -1.3807271    0.32731751 -1.392399    -1.311052  \n",
       "[4,] -1.5014904    0.09788935 -1.279104    -1.311052  \n",
       "[5,] -1.0184372    1.24503015 -1.335752    -1.311052  \n",
       "[6,] -0.5353840    1.93331463 -1.165809    -1.048667  "
      ]
     },
     "metadata": {},
     "output_type": "display_data"
    }
   ],
   "source": [
    "pred <- predict(model, as.matrix(iris[, -5]))\n",
    "head(pred)"
   ]
  },
  {
   "cell_type": "code",
   "execution_count": 5,
   "metadata": {},
   "outputs": [
    {
     "name": "stdout",
     "output_type": "stream",
     "text": [
      "Created from 150 samples and 4 variables\n",
      "\n",
      "Pre-processing:\n",
      "  - centered (4)\n",
      "  - ignored (0)\n",
      "  - scaled (4)\n",
      "\n"
     ]
    }
   ],
   "source": [
    "print(model)"
   ]
  },
  {
   "cell_type": "code",
   "execution_count": 6,
   "metadata": {},
   "outputs": [
    {
     "data": {
      "text/html": [
       "<table>\n",
       "<tbody>\n",
       "\t<tr><th scope=row>Sepal.Length</th><td>5.843333 </td><td>0.8280661</td></tr>\n",
       "\t<tr><th scope=row>Sepal.Width</th><td>3.057333 </td><td>0.4358663</td></tr>\n",
       "\t<tr><th scope=row>Petal.Length</th><td>3.758000 </td><td>1.7652982</td></tr>\n",
       "\t<tr><th scope=row>Petal.Width</th><td>1.199333 </td><td>0.7622377</td></tr>\n",
       "</tbody>\n",
       "</table>\n"
      ],
      "text/latex": [
       "\\begin{tabular}{r|ll}\n",
       "\tSepal.Length & 5.843333  & 0.8280661\\\\\n",
       "\tSepal.Width & 3.057333  & 0.4358663\\\\\n",
       "\tPetal.Length & 3.758000  & 1.7652982\\\\\n",
       "\tPetal.Width & 1.199333  & 0.7622377\\\\\n",
       "\\end{tabular}\n"
      ],
      "text/markdown": [
       "\n",
       "| Sepal.Length | 5.843333  | 0.8280661 | \n",
       "| Sepal.Width | 3.057333  | 0.4358663 | \n",
       "| Petal.Length | 3.758000  | 1.7652982 | \n",
       "| Petal.Width | 1.199333  | 0.7622377 | \n",
       "\n",
       "\n"
      ],
      "text/plain": [
       "             [,1]     [,2]     \n",
       "Sepal.Length 5.843333 0.8280661\n",
       "Sepal.Width  3.057333 0.4358663\n",
       "Petal.Length 3.758000 1.7652982\n",
       "Petal.Width  1.199333 0.7622377"
      ]
     },
     "metadata": {},
     "output_type": "display_data"
    }
   ],
   "source": [
    "cbind(model$mean , model$std)"
   ]
  },
  {
   "cell_type": "code",
   "execution_count": 7,
   "metadata": {},
   "outputs": [
    {
     "data": {
      "text/html": [
       "<dl>\n",
       "\t<dt>$center</dt>\n",
       "\t\t<dd><ol class=list-inline>\n",
       "\t<li>'Sepal.Length'</li>\n",
       "\t<li>'Sepal.Width'</li>\n",
       "\t<li>'Petal.Length'</li>\n",
       "\t<li>'Petal.Width'</li>\n",
       "</ol>\n",
       "</dd>\n",
       "\t<dt>$scale</dt>\n",
       "\t\t<dd><ol class=list-inline>\n",
       "\t<li>'Sepal.Length'</li>\n",
       "\t<li>'Sepal.Width'</li>\n",
       "\t<li>'Petal.Length'</li>\n",
       "\t<li>'Petal.Width'</li>\n",
       "</ol>\n",
       "</dd>\n",
       "\t<dt>$ignore</dt>\n",
       "\t\t<dd></dd>\n",
       "</dl>\n"
      ],
      "text/latex": [
       "\\begin{description}\n",
       "\\item[\\$center] \\begin{enumerate*}\n",
       "\\item 'Sepal.Length'\n",
       "\\item 'Sepal.Width'\n",
       "\\item 'Petal.Length'\n",
       "\\item 'Petal.Width'\n",
       "\\end{enumerate*}\n",
       "\n",
       "\\item[\\$scale] \\begin{enumerate*}\n",
       "\\item 'Sepal.Length'\n",
       "\\item 'Sepal.Width'\n",
       "\\item 'Petal.Length'\n",
       "\\item 'Petal.Width'\n",
       "\\end{enumerate*}\n",
       "\n",
       "\\item[\\$ignore] \n",
       "\\end{description}\n"
      ],
      "text/markdown": [
       "$center\n",
       ":   1. 'Sepal.Length'\n",
       "2. 'Sepal.Width'\n",
       "3. 'Petal.Length'\n",
       "4. 'Petal.Width'\n",
       "\n",
       "\n",
       "\n",
       "$scale\n",
       ":   1. 'Sepal.Length'\n",
       "2. 'Sepal.Width'\n",
       "3. 'Petal.Length'\n",
       "4. 'Petal.Width'\n",
       "\n",
       "\n",
       "\n",
       "$ignore\n",
       ":   \n",
       "\n",
       "\n"
      ],
      "text/plain": [
       "$center\n",
       "[1] \"Sepal.Length\" \"Sepal.Width\"  \"Petal.Length\" \"Petal.Width\" \n",
       "\n",
       "$scale\n",
       "[1] \"Sepal.Length\" \"Sepal.Width\"  \"Petal.Length\" \"Petal.Width\" \n",
       "\n",
       "$ignore\n",
       "character(0)\n"
      ]
     },
     "metadata": {},
     "output_type": "display_data"
    }
   ],
   "source": [
    "model$method"
   ]
  },
  {
   "cell_type": "markdown",
   "metadata": {},
   "source": [
    "# SQL Code Generation"
   ]
  },
  {
   "cell_type": "code",
   "execution_count": 8,
   "metadata": {},
   "outputs": [],
   "source": [
    "\n",
    "test_ws_sql_gen = function(mod) {\n",
    "    WS_URL = \"https://sklearn2sql.herokuapp.com/model\"\n",
    "    WS_URL = \"http://localhost:1888/model\"\n",
    "    model_serialized <- serialize(mod, NULL)\n",
    "    b64_data = base64encode(model_serialized)\n",
    "    data = list(Name = \"caret_rpart_test_model\", SerializedModel = b64_data , SQLDialect = \"postgresql\" , Mode=\"caret\")\n",
    "    r = POST(WS_URL, body = data, encode = \"json\")\n",
    "    # print(r)\n",
    "    content = content(r)\n",
    "    # print(content)\n",
    "    lSQL = content$model$SQLGenrationResult[[1]]$SQL # content[\"model\"][\"SQLGenrationResult\"][0][\"SQL\"]\n",
    "    return(lSQL);\n",
    "}"
   ]
  },
  {
   "cell_type": "code",
   "execution_count": 9,
   "metadata": {},
   "outputs": [],
   "source": [
    "lModelSQL = test_ws_sql_gen(model)"
   ]
  },
  {
   "cell_type": "code",
   "execution_count": 10,
   "metadata": {
    "scrolled": false
   },
   "outputs": [
    {
     "name": "stdout",
     "output_type": "stream",
     "text": [
      "SELECT \"ADS\".\"KEY\" AS \"KEY\", (CAST(\"ADS\".\"Feature_0\" AS FLOAT) - 5.843333333333334) / 0.8280661279778629 AS \"Feature_0\", (CAST(\"ADS\".\"Feature_1\" AS FLOAT) - 3.0573333333333332) / 0.4358662849366982 AS \"Feature_1\", (CAST(\"ADS\".\"Feature_2\" AS FLOAT) - 3.758) / 1.7652982332594664 AS \"Feature_2\", (CAST(\"ADS\".\"Feature_3\" AS FLOAT) - 1.199333333333333) / 0.7622376689603465 AS \"Feature_3\" \n",
      "FROM \"INPUT_DATA\" AS \"ADS\""
     ]
    }
   ],
   "source": [
    "cat(lModelSQL)\n"
   ]
  },
  {
   "cell_type": "markdown",
   "metadata": {},
   "source": [
    "# Execute the SQL Code"
   ]
  },
  {
   "cell_type": "code",
   "execution_count": 11,
   "metadata": {},
   "outputs": [
    {
     "data": {
      "text/html": [
       "0"
      ],
      "text/latex": [
       "0"
      ],
      "text/markdown": [
       "0"
      ],
      "text/plain": [
       "[1] 0"
      ]
     },
     "metadata": {},
     "output_type": "display_data"
    }
   ],
   "source": [
    "library(RODBC)\n",
    "conn = odbcConnect(\"pgsql\", uid=\"db\", pwd=\"db\", case=\"nochange\")\n",
    "odbcSetAutoCommit(conn , autoCommit = TRUE)"
   ]
  },
  {
   "cell_type": "code",
   "execution_count": 12,
   "metadata": {
    "scrolled": true
   },
   "outputs": [
    {
     "data": {
      "text/html": [
       "<table>\n",
       "<thead><tr><th scope=col>Feature_0</th><th scope=col>Feature_1</th><th scope=col>Feature_2</th><th scope=col>Feature_3</th><th scope=col>KEY</th></tr></thead>\n",
       "<tbody>\n",
       "\t<tr><td>5.1</td><td>3.5</td><td>1.4</td><td>0.2</td><td>1  </td></tr>\n",
       "\t<tr><td>4.9</td><td>3.0</td><td>1.4</td><td>0.2</td><td>2  </td></tr>\n",
       "\t<tr><td>4.7</td><td>3.2</td><td>1.3</td><td>0.2</td><td>3  </td></tr>\n",
       "\t<tr><td>4.6</td><td>3.1</td><td>1.5</td><td>0.2</td><td>4  </td></tr>\n",
       "\t<tr><td>5.0</td><td>3.6</td><td>1.4</td><td>0.2</td><td>5  </td></tr>\n",
       "\t<tr><td>5.4</td><td>3.9</td><td>1.7</td><td>0.4</td><td>6  </td></tr>\n",
       "</tbody>\n",
       "</table>\n"
      ],
      "text/latex": [
       "\\begin{tabular}{r|lllll}\n",
       " Feature\\_0 & Feature\\_1 & Feature\\_2 & Feature\\_3 & KEY\\\\\n",
       "\\hline\n",
       "\t 5.1 & 3.5 & 1.4 & 0.2 & 1  \\\\\n",
       "\t 4.9 & 3.0 & 1.4 & 0.2 & 2  \\\\\n",
       "\t 4.7 & 3.2 & 1.3 & 0.2 & 3  \\\\\n",
       "\t 4.6 & 3.1 & 1.5 & 0.2 & 4  \\\\\n",
       "\t 5.0 & 3.6 & 1.4 & 0.2 & 5  \\\\\n",
       "\t 5.4 & 3.9 & 1.7 & 0.4 & 6  \\\\\n",
       "\\end{tabular}\n"
      ],
      "text/markdown": [
       "\n",
       "Feature_0 | Feature_1 | Feature_2 | Feature_3 | KEY | \n",
       "|---|---|---|---|---|---|\n",
       "| 5.1 | 3.5 | 1.4 | 0.2 | 1   | \n",
       "| 4.9 | 3.0 | 1.4 | 0.2 | 2   | \n",
       "| 4.7 | 3.2 | 1.3 | 0.2 | 3   | \n",
       "| 4.6 | 3.1 | 1.5 | 0.2 | 4   | \n",
       "| 5.0 | 3.6 | 1.4 | 0.2 | 5   | \n",
       "| 5.4 | 3.9 | 1.7 | 0.4 | 6   | \n",
       "\n",
       "\n"
      ],
      "text/plain": [
       "  Feature_0 Feature_1 Feature_2 Feature_3 KEY\n",
       "1 5.1       3.5       1.4       0.2       1  \n",
       "2 4.9       3.0       1.4       0.2       2  \n",
       "3 4.7       3.2       1.3       0.2       3  \n",
       "4 4.6       3.1       1.5       0.2       4  \n",
       "5 5.0       3.6       1.4       0.2       5  \n",
       "6 5.4       3.9       1.7       0.4       6  "
      ]
     },
     "metadata": {},
     "output_type": "display_data"
    }
   ],
   "source": [
    "dataset = iris[,-5]\n",
    "\n",
    "df_sql = as.data.frame(dataset)\n",
    "names(df_sql) = sprintf(\"Feature_%d\",0:(ncol(df_sql)-1))\n",
    "df_sql$KEY = seq.int(nrow(dataset))\n",
    "\n",
    "sqlDrop(conn , \"INPUT_DATA\" , errors = FALSE)\n",
    "sqlSave(conn, df_sql, tablename = \"INPUT_DATA\", verbose = FALSE)\n",
    "\n",
    "head(df_sql)"
   ]
  },
  {
   "cell_type": "code",
   "execution_count": 13,
   "metadata": {},
   "outputs": [],
   "source": [
    "# colnames(df_sql)\n",
    "# odbcGetInfo(conn)\n",
    "# sqlTables(conn)"
   ]
  },
  {
   "cell_type": "code",
   "execution_count": 14,
   "metadata": {},
   "outputs": [
    {
     "data": {
      "text/html": [
       "<table>\n",
       "<thead><tr><th scope=col>KEY</th><th scope=col>Feature_0</th><th scope=col>Feature_1</th><th scope=col>Feature_2</th><th scope=col>Feature_3</th></tr></thead>\n",
       "<tbody>\n",
       "\t<tr><td>1          </td><td>-0.8976739 </td><td> 1.01560199</td><td>-1.335752  </td><td>-1.311052  </td></tr>\n",
       "\t<tr><td>2          </td><td>-1.1392005 </td><td>-0.13153881</td><td>-1.335752  </td><td>-1.311052  </td></tr>\n",
       "\t<tr><td>3          </td><td>-1.3807271 </td><td> 0.32731751</td><td>-1.392399  </td><td>-1.311052  </td></tr>\n",
       "\t<tr><td>4          </td><td>-1.5014904 </td><td> 0.09788935</td><td>-1.279104  </td><td>-1.311052  </td></tr>\n",
       "\t<tr><td>5          </td><td>-1.0184372 </td><td> 1.24503015</td><td>-1.335752  </td><td>-1.311052  </td></tr>\n",
       "\t<tr><td>6          </td><td>-0.5353840 </td><td> 1.93331463</td><td>-1.165809  </td><td>-1.048667  </td></tr>\n",
       "</tbody>\n",
       "</table>\n"
      ],
      "text/latex": [
       "\\begin{tabular}{r|lllll}\n",
       " KEY & Feature\\_0 & Feature\\_1 & Feature\\_2 & Feature\\_3\\\\\n",
       "\\hline\n",
       "\t 1           & -0.8976739  &  1.01560199 & -1.335752   & -1.311052  \\\\\n",
       "\t 2           & -1.1392005  & -0.13153881 & -1.335752   & -1.311052  \\\\\n",
       "\t 3           & -1.3807271  &  0.32731751 & -1.392399   & -1.311052  \\\\\n",
       "\t 4           & -1.5014904  &  0.09788935 & -1.279104   & -1.311052  \\\\\n",
       "\t 5           & -1.0184372  &  1.24503015 & -1.335752   & -1.311052  \\\\\n",
       "\t 6           & -0.5353840  &  1.93331463 & -1.165809   & -1.048667  \\\\\n",
       "\\end{tabular}\n"
      ],
      "text/markdown": [
       "\n",
       "KEY | Feature_0 | Feature_1 | Feature_2 | Feature_3 | \n",
       "|---|---|---|---|---|---|\n",
       "| 1           | -0.8976739  |  1.01560199 | -1.335752   | -1.311052   | \n",
       "| 2           | -1.1392005  | -0.13153881 | -1.335752   | -1.311052   | \n",
       "| 3           | -1.3807271  |  0.32731751 | -1.392399   | -1.311052   | \n",
       "| 4           | -1.5014904  |  0.09788935 | -1.279104   | -1.311052   | \n",
       "| 5           | -1.0184372  |  1.24503015 | -1.335752   | -1.311052   | \n",
       "| 6           | -0.5353840  |  1.93331463 | -1.165809   | -1.048667   | \n",
       "\n",
       "\n"
      ],
      "text/plain": [
       "  KEY Feature_0  Feature_1   Feature_2 Feature_3\n",
       "1 1   -0.8976739  1.01560199 -1.335752 -1.311052\n",
       "2 2   -1.1392005 -0.13153881 -1.335752 -1.311052\n",
       "3 3   -1.3807271  0.32731751 -1.392399 -1.311052\n",
       "4 4   -1.5014904  0.09788935 -1.279104 -1.311052\n",
       "5 5   -1.0184372  1.24503015 -1.335752 -1.311052\n",
       "6 6   -0.5353840  1.93331463 -1.165809 -1.048667"
      ]
     },
     "metadata": {},
     "output_type": "display_data"
    }
   ],
   "source": [
    "df_sql_out = sqlQuery(conn, lModelSQL)\n",
    "head(df_sql_out)"
   ]
  },
  {
   "cell_type": "markdown",
   "metadata": {},
   "source": [
    "# R Preprocess Output"
   ]
  },
  {
   "cell_type": "code",
   "execution_count": 15,
   "metadata": {},
   "outputs": [
    {
     "data": {
      "text/html": [
       "<table>\n",
       "<thead><tr><th scope=col>Feature_0</th><th scope=col>Feature_1</th><th scope=col>Feature_2</th><th scope=col>Feature_3</th><th scope=col>KEY</th></tr></thead>\n",
       "<tbody>\n",
       "\t<tr><td>-0.8976739 </td><td> 1.01560199</td><td>-1.335752  </td><td>-1.311052  </td><td>1          </td></tr>\n",
       "\t<tr><td>-1.1392005 </td><td>-0.13153881</td><td>-1.335752  </td><td>-1.311052  </td><td>2          </td></tr>\n",
       "\t<tr><td>-1.3807271 </td><td> 0.32731751</td><td>-1.392399  </td><td>-1.311052  </td><td>3          </td></tr>\n",
       "\t<tr><td>-1.5014904 </td><td> 0.09788935</td><td>-1.279104  </td><td>-1.311052  </td><td>4          </td></tr>\n",
       "\t<tr><td>-1.0184372 </td><td> 1.24503015</td><td>-1.335752  </td><td>-1.311052  </td><td>5          </td></tr>\n",
       "\t<tr><td>-0.5353840 </td><td> 1.93331463</td><td>-1.165809  </td><td>-1.048667  </td><td>6          </td></tr>\n",
       "</tbody>\n",
       "</table>\n"
      ],
      "text/latex": [
       "\\begin{tabular}{r|lllll}\n",
       " Feature\\_0 & Feature\\_1 & Feature\\_2 & Feature\\_3 & KEY\\\\\n",
       "\\hline\n",
       "\t -0.8976739  &  1.01560199 & -1.335752   & -1.311052   & 1          \\\\\n",
       "\t -1.1392005  & -0.13153881 & -1.335752   & -1.311052   & 2          \\\\\n",
       "\t -1.3807271  &  0.32731751 & -1.392399   & -1.311052   & 3          \\\\\n",
       "\t -1.5014904  &  0.09788935 & -1.279104   & -1.311052   & 4          \\\\\n",
       "\t -1.0184372  &  1.24503015 & -1.335752   & -1.311052   & 5          \\\\\n",
       "\t -0.5353840  &  1.93331463 & -1.165809   & -1.048667   & 6          \\\\\n",
       "\\end{tabular}\n"
      ],
      "text/markdown": [
       "\n",
       "Feature_0 | Feature_1 | Feature_2 | Feature_3 | KEY | \n",
       "|---|---|---|---|---|---|\n",
       "| -0.8976739  |  1.01560199 | -1.335752   | -1.311052   | 1           | \n",
       "| -1.1392005  | -0.13153881 | -1.335752   | -1.311052   | 2           | \n",
       "| -1.3807271  |  0.32731751 | -1.392399   | -1.311052   | 3           | \n",
       "| -1.5014904  |  0.09788935 | -1.279104   | -1.311052   | 4           | \n",
       "| -1.0184372  |  1.24503015 | -1.335752   | -1.311052   | 5           | \n",
       "| -0.5353840  |  1.93331463 | -1.165809   | -1.048667   | 6           | \n",
       "\n",
       "\n"
      ],
      "text/plain": [
       "  Feature_0  Feature_1   Feature_2 Feature_3 KEY\n",
       "1 -0.8976739  1.01560199 -1.335752 -1.311052 1  \n",
       "2 -1.1392005 -0.13153881 -1.335752 -1.311052 2  \n",
       "3 -1.3807271  0.32731751 -1.392399 -1.311052 3  \n",
       "4 -1.5014904  0.09788935 -1.279104 -1.311052 4  \n",
       "5 -1.0184372  1.24503015 -1.335752 -1.311052 5  \n",
       "6 -0.5353840  1.93331463 -1.165809 -1.048667 6  "
      ]
     },
     "metadata": {},
     "output_type": "display_data"
    }
   ],
   "source": [
    "preprocessed  =  predict(model, iris[,-5])\n",
    "df_r_out = data.frame(preprocessed)\n",
    "names(df_r_out) = sprintf(\"Feature_%d\",0:(ncol(df_r_out) - 1))\n",
    "\n",
    "df_r_out$KEY = seq.int(nrow(dataset))\n",
    "\n",
    "head(df_r_out)\n",
    "\n"
   ]
  },
  {
   "cell_type": "markdown",
   "metadata": {},
   "source": [
    "# Compare R and SQL output"
   ]
  },
  {
   "cell_type": "code",
   "execution_count": 21,
   "metadata": {},
   "outputs": [
    {
     "data": {
      "text/html": [
       "<table>\n",
       "<thead><tr><th scope=col>KEY</th><th scope=col>Feature_0_R</th><th scope=col>Feature_1_R</th><th scope=col>Feature_2_R</th><th scope=col>Feature_3_R</th><th scope=col>Feature_0_SQL</th><th scope=col>Feature_1_SQL</th><th scope=col>Feature_2_SQL</th><th scope=col>Feature_3_SQL</th></tr></thead>\n",
       "<tbody>\n",
       "\t<tr><td>1          </td><td>-0.8976739 </td><td> 1.01560199</td><td>-1.335752  </td><td>-1.311052  </td><td>-0.8976739 </td><td> 1.01560199</td><td>-1.335752  </td><td>-1.311052  </td></tr>\n",
       "\t<tr><td>2          </td><td>-1.1392005 </td><td>-0.13153881</td><td>-1.335752  </td><td>-1.311052  </td><td>-1.1392005 </td><td>-0.13153881</td><td>-1.335752  </td><td>-1.311052  </td></tr>\n",
       "\t<tr><td>3          </td><td>-1.3807271 </td><td> 0.32731751</td><td>-1.392399  </td><td>-1.311052  </td><td>-1.3807271 </td><td> 0.32731751</td><td>-1.392399  </td><td>-1.311052  </td></tr>\n",
       "\t<tr><td>4          </td><td>-1.5014904 </td><td> 0.09788935</td><td>-1.279104  </td><td>-1.311052  </td><td>-1.5014904 </td><td> 0.09788935</td><td>-1.279104  </td><td>-1.311052  </td></tr>\n",
       "\t<tr><td>5          </td><td>-1.0184372 </td><td> 1.24503015</td><td>-1.335752  </td><td>-1.311052  </td><td>-1.0184372 </td><td> 1.24503015</td><td>-1.335752  </td><td>-1.311052  </td></tr>\n",
       "\t<tr><td>6          </td><td>-0.5353840 </td><td> 1.93331463</td><td>-1.165809  </td><td>-1.048667  </td><td>-0.5353840 </td><td> 1.93331463</td><td>-1.165809  </td><td>-1.048667  </td></tr>\n",
       "</tbody>\n",
       "</table>\n"
      ],
      "text/latex": [
       "\\begin{tabular}{r|lllllllll}\n",
       " KEY & Feature\\_0\\_R & Feature\\_1\\_R & Feature\\_2\\_R & Feature\\_3\\_R & Feature\\_0\\_SQL & Feature\\_1\\_SQL & Feature\\_2\\_SQL & Feature\\_3\\_SQL\\\\\n",
       "\\hline\n",
       "\t 1           & -0.8976739  &  1.01560199 & -1.335752   & -1.311052   & -0.8976739  &  1.01560199 & -1.335752   & -1.311052  \\\\\n",
       "\t 2           & -1.1392005  & -0.13153881 & -1.335752   & -1.311052   & -1.1392005  & -0.13153881 & -1.335752   & -1.311052  \\\\\n",
       "\t 3           & -1.3807271  &  0.32731751 & -1.392399   & -1.311052   & -1.3807271  &  0.32731751 & -1.392399   & -1.311052  \\\\\n",
       "\t 4           & -1.5014904  &  0.09788935 & -1.279104   & -1.311052   & -1.5014904  &  0.09788935 & -1.279104   & -1.311052  \\\\\n",
       "\t 5           & -1.0184372  &  1.24503015 & -1.335752   & -1.311052   & -1.0184372  &  1.24503015 & -1.335752   & -1.311052  \\\\\n",
       "\t 6           & -0.5353840  &  1.93331463 & -1.165809   & -1.048667   & -0.5353840  &  1.93331463 & -1.165809   & -1.048667  \\\\\n",
       "\\end{tabular}\n"
      ],
      "text/markdown": [
       "\n",
       "KEY | Feature_0_R | Feature_1_R | Feature_2_R | Feature_3_R | Feature_0_SQL | Feature_1_SQL | Feature_2_SQL | Feature_3_SQL | \n",
       "|---|---|---|---|---|---|\n",
       "| 1           | -0.8976739  |  1.01560199 | -1.335752   | -1.311052   | -0.8976739  |  1.01560199 | -1.335752   | -1.311052   | \n",
       "| 2           | -1.1392005  | -0.13153881 | -1.335752   | -1.311052   | -1.1392005  | -0.13153881 | -1.335752   | -1.311052   | \n",
       "| 3           | -1.3807271  |  0.32731751 | -1.392399   | -1.311052   | -1.3807271  |  0.32731751 | -1.392399   | -1.311052   | \n",
       "| 4           | -1.5014904  |  0.09788935 | -1.279104   | -1.311052   | -1.5014904  |  0.09788935 | -1.279104   | -1.311052   | \n",
       "| 5           | -1.0184372  |  1.24503015 | -1.335752   | -1.311052   | -1.0184372  |  1.24503015 | -1.335752   | -1.311052   | \n",
       "| 6           | -0.5353840  |  1.93331463 | -1.165809   | -1.048667   | -0.5353840  |  1.93331463 | -1.165809   | -1.048667   | \n",
       "\n",
       "\n"
      ],
      "text/plain": [
       "  KEY Feature_0_R Feature_1_R Feature_2_R Feature_3_R Feature_0_SQL\n",
       "1 1   -0.8976739   1.01560199 -1.335752   -1.311052   -0.8976739   \n",
       "2 2   -1.1392005  -0.13153881 -1.335752   -1.311052   -1.1392005   \n",
       "3 3   -1.3807271   0.32731751 -1.392399   -1.311052   -1.3807271   \n",
       "4 4   -1.5014904   0.09788935 -1.279104   -1.311052   -1.5014904   \n",
       "5 5   -1.0184372   1.24503015 -1.335752   -1.311052   -1.0184372   \n",
       "6 6   -0.5353840   1.93331463 -1.165809   -1.048667   -0.5353840   \n",
       "  Feature_1_SQL Feature_2_SQL Feature_3_SQL\n",
       "1  1.01560199   -1.335752     -1.311052    \n",
       "2 -0.13153881   -1.335752     -1.311052    \n",
       "3  0.32731751   -1.392399     -1.311052    \n",
       "4  0.09788935   -1.279104     -1.311052    \n",
       "5  1.24503015   -1.335752     -1.311052    \n",
       "6  1.93331463   -1.165809     -1.048667    "
      ]
     },
     "metadata": {},
     "output_type": "display_data"
    }
   ],
   "source": [
    "df_merge = merge(x = df_r_out, y = df_sql_out, by = \"KEY\", all = TRUE, , suffixes = c(\"_R\",\"_SQL\"))\n",
    "head(df_merge)"
   ]
  },
  {
   "cell_type": "code",
   "execution_count": null,
   "metadata": {},
   "outputs": [],
   "source": []
  },
  {
   "cell_type": "code",
   "execution_count": 22,
   "metadata": {},
   "outputs": [
    {
     "data": {
      "text/html": [
       "<table>\n",
       "<thead><tr><th scope=col>KEY</th><th scope=col>Feature_0_R</th><th scope=col>Feature_1_R</th><th scope=col>Feature_2_R</th><th scope=col>Feature_3_R</th><th scope=col>Feature_0_SQL</th><th scope=col>Feature_1_SQL</th><th scope=col>Feature_2_SQL</th><th scope=col>Feature_3_SQL</th></tr></thead>\n",
       "<tbody>\n",
       "</tbody>\n",
       "</table>\n"
      ],
      "text/latex": [
       "\\begin{tabular}{r|lllllllll}\n",
       " KEY & Feature\\_0\\_R & Feature\\_1\\_R & Feature\\_2\\_R & Feature\\_3\\_R & Feature\\_0\\_SQL & Feature\\_1\\_SQL & Feature\\_2\\_SQL & Feature\\_3\\_SQL\\\\\n",
       "\\hline\n",
       "\\end{tabular}\n"
      ],
      "text/markdown": [
       "\n",
       "KEY | Feature_0_R | Feature_1_R | Feature_2_R | Feature_3_R | Feature_0_SQL | Feature_1_SQL | Feature_2_SQL | Feature_3_SQL | \n",
       "||\n",
       "\n",
       "\n"
      ],
      "text/plain": [
       "     KEY Feature_0_R Feature_1_R Feature_2_R Feature_3_R Feature_0_SQL\n",
       "     Feature_1_SQL Feature_2_SQL Feature_3_SQL"
      ]
     },
     "metadata": {},
     "output_type": "display_data"
    }
   ],
   "source": [
    "diffs_df = df_merge[df_merge$Feature_1_R != df_merge$Feature_1_SQL,]\n",
    "head(diffs_df)"
   ]
  },
  {
   "cell_type": "code",
   "execution_count": 18,
   "metadata": {},
   "outputs": [],
   "source": [
    "stopifnot(nrow(diffs_df) == 0)"
   ]
  },
  {
   "cell_type": "code",
   "execution_count": null,
   "metadata": {},
   "outputs": [],
   "source": []
  },
  {
   "cell_type": "code",
   "execution_count": 19,
   "metadata": {},
   "outputs": [
    {
     "data": {
      "text/plain": [
       "      KEY           Feature_0          Feature_1         Feature_2      \n",
       " Min.   :  1.00   Min.   :-1.86378   Min.   :-2.4258   Min.   :-1.5623  \n",
       " 1st Qu.: 38.25   1st Qu.:-0.89767   1st Qu.:-0.5904   1st Qu.:-1.2225  \n",
       " Median : 75.50   Median :-0.05233   Median :-0.1315   Median : 0.3354  \n",
       " Mean   : 75.50   Mean   : 0.00000   Mean   : 0.0000   Mean   : 0.0000  \n",
       " 3rd Qu.:112.75   3rd Qu.: 0.67225   3rd Qu.: 0.5567   3rd Qu.: 0.7602  \n",
       " Max.   :150.00   Max.   : 2.48370   Max.   : 3.0805   Max.   : 1.7799  \n",
       "   Feature_3      \n",
       " Min.   :-1.4422  \n",
       " 1st Qu.:-1.1799  \n",
       " Median : 0.1321  \n",
       " Mean   : 0.0000  \n",
       " 3rd Qu.: 0.7880  \n",
       " Max.   : 1.7064  "
      ]
     },
     "metadata": {},
     "output_type": "display_data"
    }
   ],
   "source": [
    "summary(df_sql_out)"
   ]
  },
  {
   "cell_type": "code",
   "execution_count": 20,
   "metadata": {},
   "outputs": [
    {
     "data": {
      "text/plain": [
       "   Feature_0          Feature_1         Feature_2         Feature_3      \n",
       " Min.   :-1.86378   Min.   :-2.4258   Min.   :-1.5623   Min.   :-1.4422  \n",
       " 1st Qu.:-0.89767   1st Qu.:-0.5904   1st Qu.:-1.2225   1st Qu.:-1.1799  \n",
       " Median :-0.05233   Median :-0.1315   Median : 0.3354   Median : 0.1321  \n",
       " Mean   : 0.00000   Mean   : 0.0000   Mean   : 0.0000   Mean   : 0.0000  \n",
       " 3rd Qu.: 0.67225   3rd Qu.: 0.5567   3rd Qu.: 0.7602   3rd Qu.: 0.7880  \n",
       " Max.   : 2.48370   Max.   : 3.0805   Max.   : 1.7799   Max.   : 1.7064  \n",
       "      KEY        \n",
       " Min.   :  1.00  \n",
       " 1st Qu.: 38.25  \n",
       " Median : 75.50  \n",
       " Mean   : 75.50  \n",
       " 3rd Qu.:112.75  \n",
       " Max.   :150.00  "
      ]
     },
     "metadata": {},
     "output_type": "display_data"
    }
   ],
   "source": [
    "summary(df_r_out)"
   ]
  },
  {
   "cell_type": "code",
   "execution_count": null,
   "metadata": {},
   "outputs": [],
   "source": []
  }
 ],
 "metadata": {
  "kernelspec": {
   "display_name": "R",
   "language": "R",
   "name": "ir"
  },
  "language_info": {
   "codemirror_mode": "r",
   "file_extension": ".r",
   "mimetype": "text/x-r-source",
   "name": "R",
   "pygments_lexer": "r",
   "version": "3.5.1"
  }
 },
 "nbformat": 4,
 "nbformat_minor": 2
}
