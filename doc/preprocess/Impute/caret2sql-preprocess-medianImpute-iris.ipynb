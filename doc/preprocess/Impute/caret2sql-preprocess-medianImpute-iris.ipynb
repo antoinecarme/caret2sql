{
 "cells": [
  {
   "cell_type": "code",
   "execution_count": 1,
   "metadata": {},
   "outputs": [
    {
     "name": "stderr",
     "output_type": "stream",
     "text": [
      "\n",
      "Attaching package: ‘httr’\n",
      "\n",
      "The following object is masked from ‘package:caret’:\n",
      "\n",
      "    progress\n",
      "\n"
     ]
    }
   ],
   "source": [
    "library(caret, quiet=TRUE);\n",
    "library(base64enc)\n",
    "library(httr, quiet=TRUE)\n"
   ]
  },
  {
   "cell_type": "markdown",
   "metadata": {},
   "source": [
    "# Build a Model"
   ]
  },
  {
   "cell_type": "code",
   "execution_count": 2,
   "metadata": {},
   "outputs": [],
   "source": [
    "set.seed(1960)\n",
    "\n",
    "iris$Sepal.Length <- ifelse(iris$Sepal.Length > 5.3, NA, iris$Sepal.Length)\n",
    "\n",
    "create_model  =  function() {\n",
    "\n",
    "    model  <- preProcess(iris[, -5], method = c(\"medianImpute\"))\n",
    "    \n",
    "    return(model)\n",
    "}"
   ]
  },
  {
   "cell_type": "code",
   "execution_count": 3,
   "metadata": {},
   "outputs": [],
   "source": [
    "# dataset\n",
    "model = create_model()"
   ]
  },
  {
   "cell_type": "code",
   "execution_count": 4,
   "metadata": {},
   "outputs": [
    {
     "data": {
      "text/html": [
       "<table>\n",
       "<thead><tr><th scope=col>Sepal.Length</th><th scope=col>Sepal.Width</th><th scope=col>Petal.Length</th><th scope=col>Petal.Width</th></tr></thead>\n",
       "<tbody>\n",
       "\t<tr><td>5.1</td><td>3.5</td><td>1.4</td><td>0.2</td></tr>\n",
       "\t<tr><td>4.9</td><td>3.0</td><td>1.4</td><td>0.2</td></tr>\n",
       "\t<tr><td>4.7</td><td>3.2</td><td>1.3</td><td>0.2</td></tr>\n",
       "\t<tr><td>4.6</td><td>3.1</td><td>1.5</td><td>0.2</td></tr>\n",
       "\t<tr><td>5.0</td><td>3.6</td><td>1.4</td><td>0.2</td></tr>\n",
       "\t<tr><td>5.0</td><td>3.9</td><td>1.7</td><td>0.4</td></tr>\n",
       "</tbody>\n",
       "</table>\n"
      ],
      "text/latex": [
       "\\begin{tabular}{llll}\n",
       " Sepal.Length & Sepal.Width & Petal.Length & Petal.Width\\\\\n",
       "\\hline\n",
       "\t 5.1 & 3.5 & 1.4 & 0.2\\\\\n",
       "\t 4.9 & 3.0 & 1.4 & 0.2\\\\\n",
       "\t 4.7 & 3.2 & 1.3 & 0.2\\\\\n",
       "\t 4.6 & 3.1 & 1.5 & 0.2\\\\\n",
       "\t 5.0 & 3.6 & 1.4 & 0.2\\\\\n",
       "\t 5.0 & 3.9 & 1.7 & 0.4\\\\\n",
       "\\end{tabular}\n"
      ],
      "text/markdown": [
       "\n",
       "Sepal.Length | Sepal.Width | Petal.Length | Petal.Width | \n",
       "|---|---|---|---|---|---|\n",
       "| 5.1 | 3.5 | 1.4 | 0.2 | \n",
       "| 4.9 | 3.0 | 1.4 | 0.2 | \n",
       "| 4.7 | 3.2 | 1.3 | 0.2 | \n",
       "| 4.6 | 3.1 | 1.5 | 0.2 | \n",
       "| 5.0 | 3.6 | 1.4 | 0.2 | \n",
       "| 5.0 | 3.9 | 1.7 | 0.4 | \n",
       "\n",
       "\n"
      ],
      "text/plain": [
       "     Sepal.Length Sepal.Width Petal.Length Petal.Width\n",
       "[1,] 5.1          3.5         1.4          0.2        \n",
       "[2,] 4.9          3.0         1.4          0.2        \n",
       "[3,] 4.7          3.2         1.3          0.2        \n",
       "[4,] 4.6          3.1         1.5          0.2        \n",
       "[5,] 5.0          3.6         1.4          0.2        \n",
       "[6,] 5.0          3.9         1.7          0.4        "
      ]
     },
     "metadata": {},
     "output_type": "display_data"
    }
   ],
   "source": [
    "pred <- predict(model, as.matrix(iris[, -5]))\n",
    "head(pred)"
   ]
  },
  {
   "cell_type": "code",
   "execution_count": 5,
   "metadata": {},
   "outputs": [
    {
     "name": "stdout",
     "output_type": "stream",
     "text": [
      "Created from 46 samples and 4 variables\n",
      "\n",
      "Pre-processing:\n",
      "  - ignored (0)\n",
      "  - median imputation (4)\n",
      "\n"
     ]
    }
   ],
   "source": [
    "print(model)"
   ]
  },
  {
   "cell_type": "code",
   "execution_count": 6,
   "metadata": {},
   "outputs": [
    {
     "data": {
      "text/html": [
       "<table>\n",
       "<tbody>\n",
       "\t<tr><th scope=row>Sepal.Length</th><td>5.00</td></tr>\n",
       "\t<tr><th scope=row>Sepal.Width</th><td>3.00</td></tr>\n",
       "\t<tr><th scope=row>Petal.Length</th><td>4.35</td></tr>\n",
       "\t<tr><th scope=row>Petal.Width</th><td>1.30</td></tr>\n",
       "</tbody>\n",
       "</table>\n"
      ],
      "text/latex": [
       "\\begin{tabular}{r|l}\n",
       "\tSepal.Length & 5.00\\\\\n",
       "\tSepal.Width & 3.00\\\\\n",
       "\tPetal.Length & 4.35\\\\\n",
       "\tPetal.Width & 1.30\\\\\n",
       "\\end{tabular}\n"
      ],
      "text/markdown": [
       "\n",
       "| Sepal.Length | 5.00 | \n",
       "| Sepal.Width | 3.00 | \n",
       "| Petal.Length | 4.35 | \n",
       "| Petal.Width | 1.30 | \n",
       "\n",
       "\n"
      ],
      "text/plain": [
       "             [,1]\n",
       "Sepal.Length 5.00\n",
       "Sepal.Width  3.00\n",
       "Petal.Length 4.35\n",
       "Petal.Width  1.30"
      ]
     },
     "metadata": {},
     "output_type": "display_data"
    }
   ],
   "source": [
    "cbind(model$median)"
   ]
  },
  {
   "cell_type": "code",
   "execution_count": 7,
   "metadata": {},
   "outputs": [
    {
     "data": {
      "text/html": [
       "<dl>\n",
       "\t<dt>$medianImpute</dt>\n",
       "\t\t<dd><ol class=list-inline>\n",
       "\t<li>'Sepal.Length'</li>\n",
       "\t<li>'Sepal.Width'</li>\n",
       "\t<li>'Petal.Length'</li>\n",
       "\t<li>'Petal.Width'</li>\n",
       "</ol>\n",
       "</dd>\n",
       "\t<dt>$ignore</dt>\n",
       "\t\t<dd></dd>\n",
       "</dl>\n"
      ],
      "text/latex": [
       "\\begin{description}\n",
       "\\item[\\$medianImpute] \\begin{enumerate*}\n",
       "\\item 'Sepal.Length'\n",
       "\\item 'Sepal.Width'\n",
       "\\item 'Petal.Length'\n",
       "\\item 'Petal.Width'\n",
       "\\end{enumerate*}\n",
       "\n",
       "\\item[\\$ignore] \n",
       "\\end{description}\n"
      ],
      "text/markdown": [
       "$medianImpute\n",
       ":   1. 'Sepal.Length'\n",
       "2. 'Sepal.Width'\n",
       "3. 'Petal.Length'\n",
       "4. 'Petal.Width'\n",
       "\n",
       "\n",
       "\n",
       "$ignore\n",
       ":   \n",
       "\n",
       "\n"
      ],
      "text/plain": [
       "$medianImpute\n",
       "[1] \"Sepal.Length\" \"Sepal.Width\"  \"Petal.Length\" \"Petal.Width\" \n",
       "\n",
       "$ignore\n",
       "character(0)\n"
      ]
     },
     "metadata": {},
     "output_type": "display_data"
    }
   ],
   "source": [
    "model$method"
   ]
  },
  {
   "cell_type": "markdown",
   "metadata": {},
   "source": [
    "# SQL Code Generation"
   ]
  },
  {
   "cell_type": "code",
   "execution_count": 8,
   "metadata": {},
   "outputs": [],
   "source": [
    "\n",
    "test_ws_sql_gen = function(mod) {\n",
    "    WS_URL = \"https://sklearn2sql.herokuapp.com/model\"\n",
    "    WS_URL = \"http://localhost:1888/model\"\n",
    "    model_serialized <- serialize(mod, NULL)\n",
    "    b64_data = base64encode(model_serialized)\n",
    "    data = list(Name = \"caret_rpart_test_model\", SerializedModel = b64_data , SQLDialect = \"postgresql\" , Mode=\"caret\")\n",
    "    r = POST(WS_URL, body = data, encode = \"json\")\n",
    "    # print(r)\n",
    "    content = content(r)\n",
    "    # print(content)\n",
    "    lSQL = content$model$SQLGenrationResult[[1]]$SQL # content[\"model\"][\"SQLGenrationResult\"][0][\"SQL\"]\n",
    "    return(lSQL);\n",
    "}"
   ]
  },
  {
   "cell_type": "code",
   "execution_count": 9,
   "metadata": {},
   "outputs": [],
   "source": [
    "lModelSQL = test_ws_sql_gen(model)"
   ]
  },
  {
   "cell_type": "code",
   "execution_count": 10,
   "metadata": {
    "scrolled": false
   },
   "outputs": [
    {
     "name": "stdout",
     "output_type": "stream",
     "text": [
      "SELECT \"ADS\".\"KEY\" AS \"KEY\", CASE WHEN (\"ADS\".\"Feature_0\" IS NULL) THEN 1.3 ELSE \"ADS\".\"Feature_0\" END AS \"Feature_0\", CASE WHEN (\"ADS\".\"Feature_1\" IS NULL) THEN 5.0 ELSE \"ADS\".\"Feature_1\" END AS \"Feature_1\", CASE WHEN (\"ADS\".\"Feature_2\" IS NULL) THEN 4.35 ELSE \"ADS\".\"Feature_2\" END AS \"Feature_2\", CASE WHEN (\"ADS\".\"Feature_3\" IS NULL) THEN 3.0 ELSE \"ADS\".\"Feature_3\" END AS \"Feature_3\" \n",
      "FROM \"INPUT_DATA\" AS \"ADS\""
     ]
    }
   ],
   "source": [
    "cat(lModelSQL)\n"
   ]
  },
  {
   "cell_type": "markdown",
   "metadata": {},
   "source": [
    "# Execute the SQL Code"
   ]
  },
  {
   "cell_type": "code",
   "execution_count": 11,
   "metadata": {},
   "outputs": [
    {
     "data": {
      "text/html": [
       "0"
      ],
      "text/latex": [
       "0"
      ],
      "text/markdown": [
       "0"
      ],
      "text/plain": [
       "[1] 0"
      ]
     },
     "metadata": {},
     "output_type": "display_data"
    }
   ],
   "source": [
    "library(RODBC)\n",
    "conn = odbcConnect(\"pgsql\", uid=\"db\", pwd=\"db\", case=\"nochange\")\n",
    "odbcSetAutoCommit(conn , autoCommit = TRUE)"
   ]
  },
  {
   "cell_type": "code",
   "execution_count": 12,
   "metadata": {
    "scrolled": true
   },
   "outputs": [
    {
     "data": {
      "text/html": [
       "<table>\n",
       "<thead><tr><th scope=col>Feature_0</th><th scope=col>Feature_1</th><th scope=col>Feature_2</th><th scope=col>Feature_3</th><th scope=col>KEY</th></tr></thead>\n",
       "<tbody>\n",
       "\t<tr><td>5.1</td><td>3.5</td><td>1.4</td><td>0.2</td><td>1  </td></tr>\n",
       "\t<tr><td>4.9</td><td>3.0</td><td>1.4</td><td>0.2</td><td>2  </td></tr>\n",
       "\t<tr><td>4.7</td><td>3.2</td><td>1.3</td><td>0.2</td><td>3  </td></tr>\n",
       "\t<tr><td>4.6</td><td>3.1</td><td>1.5</td><td>0.2</td><td>4  </td></tr>\n",
       "\t<tr><td>5.0</td><td>3.6</td><td>1.4</td><td>0.2</td><td>5  </td></tr>\n",
       "\t<tr><td> NA</td><td>3.9</td><td>1.7</td><td>0.4</td><td>6  </td></tr>\n",
       "</tbody>\n",
       "</table>\n"
      ],
      "text/latex": [
       "\\begin{tabular}{r|lllll}\n",
       " Feature\\_0 & Feature\\_1 & Feature\\_2 & Feature\\_3 & KEY\\\\\n",
       "\\hline\n",
       "\t 5.1 & 3.5 & 1.4 & 0.2 & 1  \\\\\n",
       "\t 4.9 & 3.0 & 1.4 & 0.2 & 2  \\\\\n",
       "\t 4.7 & 3.2 & 1.3 & 0.2 & 3  \\\\\n",
       "\t 4.6 & 3.1 & 1.5 & 0.2 & 4  \\\\\n",
       "\t 5.0 & 3.6 & 1.4 & 0.2 & 5  \\\\\n",
       "\t  NA & 3.9 & 1.7 & 0.4 & 6  \\\\\n",
       "\\end{tabular}\n"
      ],
      "text/markdown": [
       "\n",
       "Feature_0 | Feature_1 | Feature_2 | Feature_3 | KEY | \n",
       "|---|---|---|---|---|---|\n",
       "| 5.1 | 3.5 | 1.4 | 0.2 | 1   | \n",
       "| 4.9 | 3.0 | 1.4 | 0.2 | 2   | \n",
       "| 4.7 | 3.2 | 1.3 | 0.2 | 3   | \n",
       "| 4.6 | 3.1 | 1.5 | 0.2 | 4   | \n",
       "| 5.0 | 3.6 | 1.4 | 0.2 | 5   | \n",
       "|  NA | 3.9 | 1.7 | 0.4 | 6   | \n",
       "\n",
       "\n"
      ],
      "text/plain": [
       "  Feature_0 Feature_1 Feature_2 Feature_3 KEY\n",
       "1 5.1       3.5       1.4       0.2       1  \n",
       "2 4.9       3.0       1.4       0.2       2  \n",
       "3 4.7       3.2       1.3       0.2       3  \n",
       "4 4.6       3.1       1.5       0.2       4  \n",
       "5 5.0       3.6       1.4       0.2       5  \n",
       "6  NA       3.9       1.7       0.4       6  "
      ]
     },
     "metadata": {},
     "output_type": "display_data"
    }
   ],
   "source": [
    "dataset = iris[,-5]\n",
    "\n",
    "df_sql = as.data.frame(dataset)\n",
    "names(df_sql) = sprintf(\"Feature_%d\",0:(ncol(df_sql)-1))\n",
    "df_sql$KEY = seq.int(nrow(dataset))\n",
    "\n",
    "sqlDrop(conn , \"INPUT_DATA\" , errors = FALSE)\n",
    "sqlSave(conn, df_sql, tablename = \"INPUT_DATA\", verbose = FALSE)\n",
    "\n",
    "head(df_sql)"
   ]
  },
  {
   "cell_type": "code",
   "execution_count": 13,
   "metadata": {},
   "outputs": [],
   "source": [
    "# colnames(df_sql)\n",
    "# odbcGetInfo(conn)\n",
    "# sqlTables(conn)"
   ]
  },
  {
   "cell_type": "code",
   "execution_count": 14,
   "metadata": {},
   "outputs": [
    {
     "data": {
      "text/html": [
       "<table>\n",
       "<thead><tr><th scope=col>KEY</th><th scope=col>Feature_0</th><th scope=col>Feature_1</th><th scope=col>Feature_2</th><th scope=col>Feature_3</th></tr></thead>\n",
       "<tbody>\n",
       "\t<tr><td>1  </td><td>5.1</td><td>3.5</td><td>1.4</td><td>0.2</td></tr>\n",
       "\t<tr><td>2  </td><td>4.9</td><td>3.0</td><td>1.4</td><td>0.2</td></tr>\n",
       "\t<tr><td>3  </td><td>4.7</td><td>3.2</td><td>1.3</td><td>0.2</td></tr>\n",
       "\t<tr><td>4  </td><td>4.6</td><td>3.1</td><td>1.5</td><td>0.2</td></tr>\n",
       "\t<tr><td>5  </td><td>5.0</td><td>3.6</td><td>1.4</td><td>0.2</td></tr>\n",
       "\t<tr><td>6  </td><td>1.3</td><td>3.9</td><td>1.7</td><td>0.4</td></tr>\n",
       "</tbody>\n",
       "</table>\n"
      ],
      "text/latex": [
       "\\begin{tabular}{r|lllll}\n",
       " KEY & Feature\\_0 & Feature\\_1 & Feature\\_2 & Feature\\_3\\\\\n",
       "\\hline\n",
       "\t 1   & 5.1 & 3.5 & 1.4 & 0.2\\\\\n",
       "\t 2   & 4.9 & 3.0 & 1.4 & 0.2\\\\\n",
       "\t 3   & 4.7 & 3.2 & 1.3 & 0.2\\\\\n",
       "\t 4   & 4.6 & 3.1 & 1.5 & 0.2\\\\\n",
       "\t 5   & 5.0 & 3.6 & 1.4 & 0.2\\\\\n",
       "\t 6   & 1.3 & 3.9 & 1.7 & 0.4\\\\\n",
       "\\end{tabular}\n"
      ],
      "text/markdown": [
       "\n",
       "KEY | Feature_0 | Feature_1 | Feature_2 | Feature_3 | \n",
       "|---|---|---|---|---|---|\n",
       "| 1   | 5.1 | 3.5 | 1.4 | 0.2 | \n",
       "| 2   | 4.9 | 3.0 | 1.4 | 0.2 | \n",
       "| 3   | 4.7 | 3.2 | 1.3 | 0.2 | \n",
       "| 4   | 4.6 | 3.1 | 1.5 | 0.2 | \n",
       "| 5   | 5.0 | 3.6 | 1.4 | 0.2 | \n",
       "| 6   | 1.3 | 3.9 | 1.7 | 0.4 | \n",
       "\n",
       "\n"
      ],
      "text/plain": [
       "  KEY Feature_0 Feature_1 Feature_2 Feature_3\n",
       "1 1   5.1       3.5       1.4       0.2      \n",
       "2 2   4.9       3.0       1.4       0.2      \n",
       "3 3   4.7       3.2       1.3       0.2      \n",
       "4 4   4.6       3.1       1.5       0.2      \n",
       "5 5   5.0       3.6       1.4       0.2      \n",
       "6 6   1.3       3.9       1.7       0.4      "
      ]
     },
     "metadata": {},
     "output_type": "display_data"
    }
   ],
   "source": [
    "df_sql_out = sqlQuery(conn, lModelSQL)\n",
    "head(df_sql_out)"
   ]
  },
  {
   "cell_type": "markdown",
   "metadata": {},
   "source": [
    "# R Preprocess Output"
   ]
  },
  {
   "cell_type": "code",
   "execution_count": 15,
   "metadata": {},
   "outputs": [
    {
     "data": {
      "text/html": [
       "<table>\n",
       "<thead><tr><th scope=col>Feature_0</th><th scope=col>Feature_1</th><th scope=col>Feature_2</th><th scope=col>Feature_3</th><th scope=col>KEY</th></tr></thead>\n",
       "<tbody>\n",
       "\t<tr><td>5.1</td><td>3.5</td><td>1.4</td><td>0.2</td><td>1  </td></tr>\n",
       "\t<tr><td>4.9</td><td>3.0</td><td>1.4</td><td>0.2</td><td>2  </td></tr>\n",
       "\t<tr><td>4.7</td><td>3.2</td><td>1.3</td><td>0.2</td><td>3  </td></tr>\n",
       "\t<tr><td>4.6</td><td>3.1</td><td>1.5</td><td>0.2</td><td>4  </td></tr>\n",
       "\t<tr><td>5.0</td><td>3.6</td><td>1.4</td><td>0.2</td><td>5  </td></tr>\n",
       "\t<tr><td>5.0</td><td>3.9</td><td>1.7</td><td>0.4</td><td>6  </td></tr>\n",
       "</tbody>\n",
       "</table>\n"
      ],
      "text/latex": [
       "\\begin{tabular}{r|lllll}\n",
       " Feature\\_0 & Feature\\_1 & Feature\\_2 & Feature\\_3 & KEY\\\\\n",
       "\\hline\n",
       "\t 5.1 & 3.5 & 1.4 & 0.2 & 1  \\\\\n",
       "\t 4.9 & 3.0 & 1.4 & 0.2 & 2  \\\\\n",
       "\t 4.7 & 3.2 & 1.3 & 0.2 & 3  \\\\\n",
       "\t 4.6 & 3.1 & 1.5 & 0.2 & 4  \\\\\n",
       "\t 5.0 & 3.6 & 1.4 & 0.2 & 5  \\\\\n",
       "\t 5.0 & 3.9 & 1.7 & 0.4 & 6  \\\\\n",
       "\\end{tabular}\n"
      ],
      "text/markdown": [
       "\n",
       "Feature_0 | Feature_1 | Feature_2 | Feature_3 | KEY | \n",
       "|---|---|---|---|---|---|\n",
       "| 5.1 | 3.5 | 1.4 | 0.2 | 1   | \n",
       "| 4.9 | 3.0 | 1.4 | 0.2 | 2   | \n",
       "| 4.7 | 3.2 | 1.3 | 0.2 | 3   | \n",
       "| 4.6 | 3.1 | 1.5 | 0.2 | 4   | \n",
       "| 5.0 | 3.6 | 1.4 | 0.2 | 5   | \n",
       "| 5.0 | 3.9 | 1.7 | 0.4 | 6   | \n",
       "\n",
       "\n"
      ],
      "text/plain": [
       "  Feature_0 Feature_1 Feature_2 Feature_3 KEY\n",
       "1 5.1       3.5       1.4       0.2       1  \n",
       "2 4.9       3.0       1.4       0.2       2  \n",
       "3 4.7       3.2       1.3       0.2       3  \n",
       "4 4.6       3.1       1.5       0.2       4  \n",
       "5 5.0       3.6       1.4       0.2       5  \n",
       "6 5.0       3.9       1.7       0.4       6  "
      ]
     },
     "metadata": {},
     "output_type": "display_data"
    }
   ],
   "source": [
    "preprocessed  =  predict(model, iris[,-5])\n",
    "df_r_out = data.frame(preprocessed)\n",
    "names(df_r_out) = sprintf(\"Feature_%d\",0:(ncol(df_r_out) - 1))\n",
    "\n",
    "df_r_out$KEY = seq.int(nrow(dataset))\n",
    "\n",
    "head(df_r_out)\n",
    "\n"
   ]
  },
  {
   "cell_type": "markdown",
   "metadata": {},
   "source": [
    "# Compare R and SQL output"
   ]
  },
  {
   "cell_type": "code",
   "execution_count": 16,
   "metadata": {},
   "outputs": [
    {
     "data": {
      "text/html": [
       "<table>\n",
       "<thead><tr><th scope=col>KEY</th><th scope=col>Feature_0_R</th><th scope=col>Feature_1_R</th><th scope=col>Feature_2_R</th><th scope=col>Feature_3_R</th><th scope=col>Feature_0_SQL</th><th scope=col>Feature_1_SQL</th><th scope=col>Feature_2_SQL</th><th scope=col>Feature_3_SQL</th></tr></thead>\n",
       "<tbody>\n",
       "\t<tr><td>1  </td><td>5.1</td><td>3.5</td><td>1.4</td><td>0.2</td><td>5.1</td><td>3.5</td><td>1.4</td><td>0.2</td></tr>\n",
       "\t<tr><td>2  </td><td>4.9</td><td>3.0</td><td>1.4</td><td>0.2</td><td>4.9</td><td>3.0</td><td>1.4</td><td>0.2</td></tr>\n",
       "\t<tr><td>3  </td><td>4.7</td><td>3.2</td><td>1.3</td><td>0.2</td><td>4.7</td><td>3.2</td><td>1.3</td><td>0.2</td></tr>\n",
       "\t<tr><td>4  </td><td>4.6</td><td>3.1</td><td>1.5</td><td>0.2</td><td>4.6</td><td>3.1</td><td>1.5</td><td>0.2</td></tr>\n",
       "\t<tr><td>5  </td><td>5.0</td><td>3.6</td><td>1.4</td><td>0.2</td><td>5.0</td><td>3.6</td><td>1.4</td><td>0.2</td></tr>\n",
       "\t<tr><td>6  </td><td>5.0</td><td>3.9</td><td>1.7</td><td>0.4</td><td>1.3</td><td>3.9</td><td>1.7</td><td>0.4</td></tr>\n",
       "</tbody>\n",
       "</table>\n"
      ],
      "text/latex": [
       "\\begin{tabular}{r|lllllllll}\n",
       " KEY & Feature\\_0\\_R & Feature\\_1\\_R & Feature\\_2\\_R & Feature\\_3\\_R & Feature\\_0\\_SQL & Feature\\_1\\_SQL & Feature\\_2\\_SQL & Feature\\_3\\_SQL\\\\\n",
       "\\hline\n",
       "\t 1   & 5.1 & 3.5 & 1.4 & 0.2 & 5.1 & 3.5 & 1.4 & 0.2\\\\\n",
       "\t 2   & 4.9 & 3.0 & 1.4 & 0.2 & 4.9 & 3.0 & 1.4 & 0.2\\\\\n",
       "\t 3   & 4.7 & 3.2 & 1.3 & 0.2 & 4.7 & 3.2 & 1.3 & 0.2\\\\\n",
       "\t 4   & 4.6 & 3.1 & 1.5 & 0.2 & 4.6 & 3.1 & 1.5 & 0.2\\\\\n",
       "\t 5   & 5.0 & 3.6 & 1.4 & 0.2 & 5.0 & 3.6 & 1.4 & 0.2\\\\\n",
       "\t 6   & 5.0 & 3.9 & 1.7 & 0.4 & 1.3 & 3.9 & 1.7 & 0.4\\\\\n",
       "\\end{tabular}\n"
      ],
      "text/markdown": [
       "\n",
       "KEY | Feature_0_R | Feature_1_R | Feature_2_R | Feature_3_R | Feature_0_SQL | Feature_1_SQL | Feature_2_SQL | Feature_3_SQL | \n",
       "|---|---|---|---|---|---|\n",
       "| 1   | 5.1 | 3.5 | 1.4 | 0.2 | 5.1 | 3.5 | 1.4 | 0.2 | \n",
       "| 2   | 4.9 | 3.0 | 1.4 | 0.2 | 4.9 | 3.0 | 1.4 | 0.2 | \n",
       "| 3   | 4.7 | 3.2 | 1.3 | 0.2 | 4.7 | 3.2 | 1.3 | 0.2 | \n",
       "| 4   | 4.6 | 3.1 | 1.5 | 0.2 | 4.6 | 3.1 | 1.5 | 0.2 | \n",
       "| 5   | 5.0 | 3.6 | 1.4 | 0.2 | 5.0 | 3.6 | 1.4 | 0.2 | \n",
       "| 6   | 5.0 | 3.9 | 1.7 | 0.4 | 1.3 | 3.9 | 1.7 | 0.4 | \n",
       "\n",
       "\n"
      ],
      "text/plain": [
       "  KEY Feature_0_R Feature_1_R Feature_2_R Feature_3_R Feature_0_SQL\n",
       "1 1   5.1         3.5         1.4         0.2         5.1          \n",
       "2 2   4.9         3.0         1.4         0.2         4.9          \n",
       "3 3   4.7         3.2         1.3         0.2         4.7          \n",
       "4 4   4.6         3.1         1.5         0.2         4.6          \n",
       "5 5   5.0         3.6         1.4         0.2         5.0          \n",
       "6 6   5.0         3.9         1.7         0.4         1.3          \n",
       "  Feature_1_SQL Feature_2_SQL Feature_3_SQL\n",
       "1 3.5           1.4           0.2          \n",
       "2 3.0           1.4           0.2          \n",
       "3 3.2           1.3           0.2          \n",
       "4 3.1           1.5           0.2          \n",
       "5 3.6           1.4           0.2          \n",
       "6 3.9           1.7           0.4          "
      ]
     },
     "metadata": {},
     "output_type": "display_data"
    }
   ],
   "source": [
    "df_merge = merge(x = df_r_out, y = df_sql_out, by = \"KEY\", all = TRUE, , suffixes = c(\"_R\",\"_SQL\"))\n",
    "head(df_merge)"
   ]
  },
  {
   "cell_type": "code",
   "execution_count": null,
   "metadata": {},
   "outputs": [],
   "source": []
  },
  {
   "cell_type": "code",
   "execution_count": 17,
   "metadata": {},
   "outputs": [
    {
     "data": {
      "text/html": [
       "<table>\n",
       "<thead><tr><th scope=col>KEY</th><th scope=col>Feature_0_R</th><th scope=col>Feature_1_R</th><th scope=col>Feature_2_R</th><th scope=col>Feature_3_R</th><th scope=col>Feature_0_SQL</th><th scope=col>Feature_1_SQL</th><th scope=col>Feature_2_SQL</th><th scope=col>Feature_3_SQL</th></tr></thead>\n",
       "<tbody>\n",
       "</tbody>\n",
       "</table>\n"
      ],
      "text/latex": [
       "\\begin{tabular}{r|lllllllll}\n",
       " KEY & Feature\\_0\\_R & Feature\\_1\\_R & Feature\\_2\\_R & Feature\\_3\\_R & Feature\\_0\\_SQL & Feature\\_1\\_SQL & Feature\\_2\\_SQL & Feature\\_3\\_SQL\\\\\n",
       "\\hline\n",
       "\\end{tabular}\n"
      ],
      "text/markdown": [
       "\n",
       "KEY | Feature_0_R | Feature_1_R | Feature_2_R | Feature_3_R | Feature_0_SQL | Feature_1_SQL | Feature_2_SQL | Feature_3_SQL | \n",
       "||\n",
       "\n",
       "\n"
      ],
      "text/plain": [
       "     KEY Feature_0_R Feature_1_R Feature_2_R Feature_3_R Feature_0_SQL\n",
       "     Feature_1_SQL Feature_2_SQL Feature_3_SQL"
      ]
     },
     "metadata": {},
     "output_type": "display_data"
    }
   ],
   "source": [
    "diffs_df = df_merge[df_merge$Feature_1_R != df_merge$Feature_1_SQL,]\n",
    "head(diffs_df)"
   ]
  },
  {
   "cell_type": "code",
   "execution_count": 18,
   "metadata": {},
   "outputs": [],
   "source": [
    "stopifnot(nrow(diffs_df) == 0)"
   ]
  },
  {
   "cell_type": "code",
   "execution_count": null,
   "metadata": {},
   "outputs": [],
   "source": []
  },
  {
   "cell_type": "code",
   "execution_count": 19,
   "metadata": {},
   "outputs": [
    {
     "data": {
      "text/plain": [
       "      KEY           Feature_0       Feature_1       Feature_2    \n",
       " Min.   :  1.00   Min.   :1.300   Min.   :2.000   Min.   :1.000  \n",
       " 1st Qu.: 38.25   1st Qu.:1.300   1st Qu.:2.800   1st Qu.:1.600  \n",
       " Median : 75.50   Median :1.300   Median :3.000   Median :4.350  \n",
       " Mean   : 75.50   Mean   :2.403   Mean   :3.057   Mean   :3.758  \n",
       " 3rd Qu.:112.75   3rd Qu.:4.600   3rd Qu.:3.300   3rd Qu.:5.100  \n",
       " Max.   :150.00   Max.   :5.300   Max.   :4.400   Max.   :6.900  \n",
       "   Feature_3    \n",
       " Min.   :0.100  \n",
       " 1st Qu.:0.300  \n",
       " Median :1.300  \n",
       " Mean   :1.199  \n",
       " 3rd Qu.:1.800  \n",
       " Max.   :2.500  "
      ]
     },
     "metadata": {},
     "output_type": "display_data"
    }
   ],
   "source": [
    "summary(df_sql_out)"
   ]
  },
  {
   "cell_type": "code",
   "execution_count": 20,
   "metadata": {},
   "outputs": [
    {
     "data": {
      "text/plain": [
       "   Feature_0       Feature_1       Feature_2       Feature_3    \n",
       " Min.   :4.300   Min.   :2.000   Min.   :1.000   Min.   :0.100  \n",
       " 1st Qu.:5.000   1st Qu.:2.800   1st Qu.:1.600   1st Qu.:0.300  \n",
       " Median :5.000   Median :3.000   Median :4.350   Median :1.300  \n",
       " Mean   :4.968   Mean   :3.057   Mean   :3.758   Mean   :1.199  \n",
       " 3rd Qu.:5.000   3rd Qu.:3.300   3rd Qu.:5.100   3rd Qu.:1.800  \n",
       " Max.   :5.300   Max.   :4.400   Max.   :6.900   Max.   :2.500  \n",
       "      KEY        \n",
       " Min.   :  1.00  \n",
       " 1st Qu.: 38.25  \n",
       " Median : 75.50  \n",
       " Mean   : 75.50  \n",
       " 3rd Qu.:112.75  \n",
       " Max.   :150.00  "
      ]
     },
     "metadata": {},
     "output_type": "display_data"
    }
   ],
   "source": [
    "summary(df_r_out)"
   ]
  },
  {
   "cell_type": "code",
   "execution_count": 21,
   "metadata": {},
   "outputs": [],
   "source": [
    "prep = model"
   ]
  },
  {
   "cell_type": "code",
   "execution_count": 22,
   "metadata": {},
   "outputs": [
    {
     "data": {
      "text/plain": [
       "Created from 46 samples and 4 variables\n",
       "\n",
       "Pre-processing:\n",
       "  - ignored (0)\n",
       "  - median imputation (4)\n"
      ]
     },
     "metadata": {},
     "output_type": "display_data"
    }
   ],
   "source": [
    "prep"
   ]
  },
  {
   "cell_type": "code",
   "execution_count": 23,
   "metadata": {},
   "outputs": [
    {
     "data": {
      "text/html": [
       "<ol class=list-inline>\n",
       "\t<li>46</li>\n",
       "\t<li>4</li>\n",
       "</ol>\n"
      ],
      "text/latex": [
       "\\begin{enumerate*}\n",
       "\\item 46\n",
       "\\item 4\n",
       "\\end{enumerate*}\n"
      ],
      "text/markdown": [
       "1. 46\n",
       "2. 4\n",
       "\n",
       "\n"
      ],
      "text/plain": [
       "[1] 46  4"
      ]
     },
     "metadata": {},
     "output_type": "display_data"
    }
   ],
   "source": [
    "prep$dim"
   ]
  },
  {
   "cell_type": "code",
   "execution_count": 24,
   "metadata": {},
   "outputs": [
    {
     "data": {
      "text/html": [
       "<dl class=dl-horizontal>\n",
       "\t<dt>Sepal.Length</dt>\n",
       "\t\t<dd>5</dd>\n",
       "\t<dt>Sepal.Width</dt>\n",
       "\t\t<dd>3</dd>\n",
       "\t<dt>Petal.Length</dt>\n",
       "\t\t<dd>4.35</dd>\n",
       "\t<dt>Petal.Width</dt>\n",
       "\t\t<dd>1.3</dd>\n",
       "</dl>\n"
      ],
      "text/latex": [
       "\\begin{description*}\n",
       "\\item[Sepal.Length] 5\n",
       "\\item[Sepal.Width] 3\n",
       "\\item[Petal.Length] 4.35\n",
       "\\item[Petal.Width] 1.3\n",
       "\\end{description*}\n"
      ],
      "text/markdown": [
       "Sepal.Length\n",
       ":   5Sepal.Width\n",
       ":   3Petal.Length\n",
       ":   4.35Petal.Width\n",
       ":   1.3\n",
       "\n"
      ],
      "text/plain": [
       "Sepal.Length  Sepal.Width Petal.Length  Petal.Width \n",
       "        5.00         3.00         4.35         1.30 "
      ]
     },
     "metadata": {},
     "output_type": "display_data"
    }
   ],
   "source": [
    "prep$median"
   ]
  },
  {
   "cell_type": "code",
   "execution_count": 25,
   "metadata": {},
   "outputs": [
    {
     "data": {
      "text/html": [
       "<dl>\n",
       "\t<dt>$names</dt>\n",
       "\t\t<dd><ol class=list-inline>\n",
       "\t<li>'dim'</li>\n",
       "\t<li>'bc'</li>\n",
       "\t<li>'yj'</li>\n",
       "\t<li>'et'</li>\n",
       "\t<li>'invHyperbolicSine'</li>\n",
       "\t<li>'mean'</li>\n",
       "\t<li>'std'</li>\n",
       "\t<li>'ranges'</li>\n",
       "\t<li>'rotation'</li>\n",
       "\t<li>'method'</li>\n",
       "\t<li>'thresh'</li>\n",
       "\t<li>'pcaComp'</li>\n",
       "\t<li>'numComp'</li>\n",
       "\t<li>'ica'</li>\n",
       "\t<li>'wildcards'</li>\n",
       "\t<li>'k'</li>\n",
       "\t<li>'knnSummary'</li>\n",
       "\t<li>'bagImp'</li>\n",
       "\t<li>'median'</li>\n",
       "\t<li>'data'</li>\n",
       "\t<li>'rangeBounds'</li>\n",
       "</ol>\n",
       "</dd>\n",
       "\t<dt>$class</dt>\n",
       "\t\t<dd>'preProcess'</dd>\n",
       "</dl>\n"
      ],
      "text/latex": [
       "\\begin{description}\n",
       "\\item[\\$names] \\begin{enumerate*}\n",
       "\\item 'dim'\n",
       "\\item 'bc'\n",
       "\\item 'yj'\n",
       "\\item 'et'\n",
       "\\item 'invHyperbolicSine'\n",
       "\\item 'mean'\n",
       "\\item 'std'\n",
       "\\item 'ranges'\n",
       "\\item 'rotation'\n",
       "\\item 'method'\n",
       "\\item 'thresh'\n",
       "\\item 'pcaComp'\n",
       "\\item 'numComp'\n",
       "\\item 'ica'\n",
       "\\item 'wildcards'\n",
       "\\item 'k'\n",
       "\\item 'knnSummary'\n",
       "\\item 'bagImp'\n",
       "\\item 'median'\n",
       "\\item 'data'\n",
       "\\item 'rangeBounds'\n",
       "\\end{enumerate*}\n",
       "\n",
       "\\item[\\$class] 'preProcess'\n",
       "\\end{description}\n"
      ],
      "text/markdown": [
       "$names\n",
       ":   1. 'dim'\n",
       "2. 'bc'\n",
       "3. 'yj'\n",
       "4. 'et'\n",
       "5. 'invHyperbolicSine'\n",
       "6. 'mean'\n",
       "7. 'std'\n",
       "8. 'ranges'\n",
       "9. 'rotation'\n",
       "10. 'method'\n",
       "11. 'thresh'\n",
       "12. 'pcaComp'\n",
       "13. 'numComp'\n",
       "14. 'ica'\n",
       "15. 'wildcards'\n",
       "16. 'k'\n",
       "17. 'knnSummary'\n",
       "18. 'bagImp'\n",
       "19. 'median'\n",
       "20. 'data'\n",
       "21. 'rangeBounds'\n",
       "\n",
       "\n",
       "\n",
       "$class\n",
       ":   'preProcess'\n",
       "\n",
       "\n"
      ],
      "text/plain": [
       "$names\n",
       " [1] \"dim\"               \"bc\"                \"yj\"               \n",
       " [4] \"et\"                \"invHyperbolicSine\" \"mean\"             \n",
       " [7] \"std\"               \"ranges\"            \"rotation\"         \n",
       "[10] \"method\"            \"thresh\"            \"pcaComp\"          \n",
       "[13] \"numComp\"           \"ica\"               \"wildcards\"        \n",
       "[16] \"k\"                 \"knnSummary\"        \"bagImp\"           \n",
       "[19] \"median\"            \"data\"              \"rangeBounds\"      \n",
       "\n",
       "$class\n",
       "[1] \"preProcess\"\n"
      ]
     },
     "metadata": {},
     "output_type": "display_data"
    }
   ],
   "source": [
    "attributes(prep)"
   ]
  },
  {
   "cell_type": "code",
   "execution_count": 26,
   "metadata": {},
   "outputs": [
    {
     "data": {
      "text/html": [
       "<ol class=list-inline>\n",
       "\t<li>'Sepal.Length'</li>\n",
       "\t<li>'Sepal.Width'</li>\n",
       "\t<li>'Petal.Length'</li>\n",
       "\t<li>'Petal.Width'</li>\n",
       "</ol>\n"
      ],
      "text/latex": [
       "\\begin{enumerate*}\n",
       "\\item 'Sepal.Length'\n",
       "\\item 'Sepal.Width'\n",
       "\\item 'Petal.Length'\n",
       "\\item 'Petal.Width'\n",
       "\\end{enumerate*}\n"
      ],
      "text/markdown": [
       "1. 'Sepal.Length'\n",
       "2. 'Sepal.Width'\n",
       "3. 'Petal.Length'\n",
       "4. 'Petal.Width'\n",
       "\n",
       "\n"
      ],
      "text/plain": [
       "[1] \"Sepal.Length\" \"Sepal.Width\"  \"Petal.Length\" \"Petal.Width\" "
      ]
     },
     "metadata": {},
     "output_type": "display_data"
    }
   ],
   "source": [
    "prep$method$medianImpute"
   ]
  },
  {
   "cell_type": "code",
   "execution_count": null,
   "metadata": {},
   "outputs": [],
   "source": []
  }
 ],
 "metadata": {
  "kernelspec": {
   "display_name": "R",
   "language": "R",
   "name": "ir"
  },
  "language_info": {
   "codemirror_mode": "r",
   "file_extension": ".r",
   "mimetype": "text/x-r-source",
   "name": "R",
   "pygments_lexer": "r",
   "version": "3.5.2"
  }
 },
 "nbformat": 4,
 "nbformat_minor": 2
}
