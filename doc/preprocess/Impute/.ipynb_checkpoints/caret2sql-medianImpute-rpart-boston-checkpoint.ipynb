{
 "cells": [
  {
   "cell_type": "code",
   "execution_count": 1,
   "metadata": {},
   "outputs": [
    {
     "name": "stderr",
     "output_type": "stream",
     "text": [
      "\n",
      "Attaching package: ‘httr’\n",
      "\n",
      "The following object is masked from ‘package:caret’:\n",
      "\n",
      "    progress\n",
      "\n"
     ]
    }
   ],
   "source": [
    "library(caret, quiet = TRUE)\n",
    "library(base64enc)\n",
    "library(httr, quiet = TRUE)\n",
    "\n",
    "library(mlbench)"
   ]
  },
  {
   "cell_type": "markdown",
   "metadata": {},
   "source": [
    "# Build a Model"
   ]
  },
  {
   "cell_type": "code",
   "execution_count": 2,
   "metadata": {},
   "outputs": [],
   "source": [
    "\n",
    "# a character vector specifying the type of processing. \n",
    "# Possible values are \n",
    "# \"BoxCox\", \"YeoJohnson\", \"expoTrans\", \"center\", \"scale\", \"range\", \n",
    "# \"knnImpute\", \"bagImpute\", \"medianImpute\", \"pca\", \"ica\", \"spatialSign\", \n",
    "# \"corr\", \"zv\", \"nzv\", and \"conditionalX\"\n",
    "\n",
    "data(BostonHousing)\n",
    "BostonHousing$chas = as.numeric(BostonHousing$chas)\n",
    "\n",
    "set.seed(1960)\n",
    "\n",
    "BostonHousing$crim <- ifelse(BostonHousing$crim > 0.5, NA, BostonHousing$crim)\n",
    "BostonHousing$age <- ifelse(BostonHousing$age > 93, NA, BostonHousing$age)\n",
    "dataset = BostonHousing[, -14] \n",
    "\n",
    "create_model  =  function() {\n",
    "\n",
    "    model <- train(medv ~ ., data = BostonHousing, method = \"rpart\", \n",
    "                   na.action = na.pass,\n",
    "                   preProcess=c(\"medianImpute\"))    \n",
    "\n",
    "    return(model)\n",
    "}\n"
   ]
  },
  {
   "cell_type": "code",
   "execution_count": 3,
   "metadata": {},
   "outputs": [
    {
     "data": {
      "text/plain": [
       "      crim               zn             indus            chas      \n",
       " Min.   :0.00632   Min.   :  0.00   Min.   : 0.46   Min.   :1.000  \n",
       " 1st Qu.:0.04992   1st Qu.:  0.00   1st Qu.: 5.19   1st Qu.:1.000  \n",
       " Median :0.09338   Median :  0.00   Median : 9.69   Median :1.000  \n",
       " Mean   :0.13063   Mean   : 11.36   Mean   :11.14   Mean   :1.069  \n",
       " 3rd Qu.:0.17714   3rd Qu.: 12.50   3rd Qu.:18.10   3rd Qu.:1.000  \n",
       " Max.   :0.49298   Max.   :100.00   Max.   :27.74   Max.   :2.000  \n",
       " NA's   :212                                                       \n",
       "      nox               rm             age             dis        \n",
       " Min.   :0.3850   Min.   :3.561   Min.   : 2.90   Min.   : 1.130  \n",
       " 1st Qu.:0.4490   1st Qu.:5.886   1st Qu.:35.85   1st Qu.: 2.100  \n",
       " Median :0.5380   Median :6.208   Median :59.70   Median : 3.207  \n",
       " Mean   :0.5547   Mean   :6.285   Mean   :57.74   Mean   : 3.795  \n",
       " 3rd Qu.:0.6240   3rd Qu.:6.623   3rd Qu.:82.53   3rd Qu.: 5.188  \n",
       " Max.   :0.8710   Max.   :8.780   Max.   :93.00   Max.   :12.127  \n",
       "                                  NA's   :138                     \n",
       "      rad              tax           ptratio            b         \n",
       " Min.   : 1.000   Min.   :187.0   Min.   :12.60   Min.   :  0.32  \n",
       " 1st Qu.: 4.000   1st Qu.:279.0   1st Qu.:17.40   1st Qu.:375.38  \n",
       " Median : 5.000   Median :330.0   Median :19.05   Median :391.44  \n",
       " Mean   : 9.549   Mean   :408.2   Mean   :18.46   Mean   :356.67  \n",
       " 3rd Qu.:24.000   3rd Qu.:666.0   3rd Qu.:20.20   3rd Qu.:396.23  \n",
       " Max.   :24.000   Max.   :711.0   Max.   :22.00   Max.   :396.90  \n",
       "                                                                  \n",
       "     lstat            medv      \n",
       " Min.   : 1.73   Min.   : 5.00  \n",
       " 1st Qu.: 6.95   1st Qu.:17.02  \n",
       " Median :11.36   Median :21.20  \n",
       " Mean   :12.65   Mean   :22.53  \n",
       " 3rd Qu.:16.95   3rd Qu.:25.00  \n",
       " Max.   :37.97   Max.   :50.00  \n",
       "                                "
      ]
     },
     "metadata": {},
     "output_type": "display_data"
    }
   ],
   "source": [
    "summary(BostonHousing)"
   ]
  },
  {
   "cell_type": "code",
   "execution_count": 4,
   "metadata": {},
   "outputs": [
    {
     "name": "stderr",
     "output_type": "stream",
     "text": [
      "Warning message in nominalTrainWorkflow(x = x, y = y, wts = weights, info = trainInfo, :\n",
      "“There were missing values in resampled performance measures.”"
     ]
    }
   ],
   "source": [
    "model = create_model()\n",
    "# cat(model$feature_names)\n",
    "# print(model)"
   ]
  },
  {
   "cell_type": "code",
   "execution_count": 5,
   "metadata": {},
   "outputs": [
    {
     "data": {
      "text/plain": [
       "      medv         Estimator         Error         \n",
       " Min.   : 5.00   Min.   :14.96   Min.   :-26.6502  \n",
       " 1st Qu.:17.02   1st Qu.:14.96   1st Qu.: -2.6985  \n",
       " Median :21.20   Median :23.35   Median :  0.6529  \n",
       " Mean   :22.53   Mean   :22.53   Mean   :  0.0000  \n",
       " 3rd Qu.:25.00   3rd Qu.:23.35   3rd Qu.:  3.1560  \n",
       " Max.   :50.00   Max.   :37.24   Max.   : 26.8382  "
      ]
     },
     "metadata": {},
     "output_type": "display_data"
    },
    {
     "data": {
      "text/html": [
       "0.206379789856096"
      ],
      "text/latex": [
       "0.206379789856096"
      ],
      "text/markdown": [
       "0.206379789856096"
      ],
      "text/plain": [
       "[1] 0.2063798"
      ]
     },
     "metadata": {},
     "output_type": "display_data"
    }
   ],
   "source": [
    "pred_labels <- predict(model, BostonHousing[, -14] , type=\"raw\", na.action = na.pass)\n",
    "df = data.frame(BostonHousing[,14])\n",
    "names(df) = c(\"medv\")\n",
    "df$Estimator = pred_labels\n",
    "df$Error = df$Estimator - df$medv\n",
    "MAPE = mean(abs(df$Error / df$medv))\n",
    "summary(df)\n",
    "MAPE"
   ]
  },
  {
   "cell_type": "markdown",
   "metadata": {},
   "source": [
    "# SQL Code Generation"
   ]
  },
  {
   "cell_type": "code",
   "execution_count": 6,
   "metadata": {},
   "outputs": [],
   "source": [
    "\n",
    "test_ws_sql_gen = function(mod) {\n",
    "    WS_URL = \"https://sklearn2sql.herokuapp.com/model\"\n",
    "    WS_URL = \"http://localhost:1888/model\"\n",
    "    model_serialized <- serialize(mod, NULL)\n",
    "    b64_data = base64encode(model_serialized)\n",
    "    data = list(Name = \"xgboost_test_model\", SerializedModel = b64_data , SQLDialect = \"postgresql\" , Mode=\"caret\")\n",
    "    r = POST(WS_URL, body = data, encode = \"json\")\n",
    "    # print(r)\n",
    "    content = content(r)\n",
    "    # print(content)\n",
    "    lSQL = content$model$SQLGenrationResult[[1]]$SQL # content[\"model\"][\"SQLGenrationResult\"][0][\"SQL\"]\n",
    "    return(lSQL);\n",
    "}"
   ]
  },
  {
   "cell_type": "code",
   "execution_count": 7,
   "metadata": {
    "scrolled": false
   },
   "outputs": [
    {
     "name": "stdout",
     "output_type": "stream",
     "text": [
      "WITH \"ADS_pre_1_OUT\" AS \n",
      "(SELECT \"ADS\".\"KEY\" AS \"KEY\", CASE WHEN (\"ADS\".\"Feature_0\" IS NULL) THEN 0.093385 ELSE \"ADS\".\"Feature_0\" END AS crim, CASE WHEN (\"ADS\".\"Feature_1\" IS NULL) THEN 0.0 ELSE \"ADS\".\"Feature_1\" END AS zn, CASE WHEN (\"ADS\".\"Feature_2\" IS NULL) THEN 9.69 ELSE \"ADS\".\"Feature_2\" END AS indus, CASE WHEN (\"ADS\".\"Feature_3\" IS NULL) THEN 1.0 ELSE \"ADS\".\"Feature_3\" END AS chas, CASE WHEN (\"ADS\".\"Feature_4\" IS NULL) THEN 0.538 ELSE \"ADS\".\"Feature_4\" END AS nox, CASE WHEN (\"ADS\".\"Feature_5\" IS NULL) THEN 6.2085 ELSE \"ADS\".\"Feature_5\" END AS rm, CASE WHEN (\"ADS\".\"Feature_6\" IS NULL) THEN 59.7 ELSE \"ADS\".\"Feature_6\" END AS age, CASE WHEN (\"ADS\".\"Feature_7\" IS NULL) THEN 3.20745 ELSE \"ADS\".\"Feature_7\" END AS dis, CASE WHEN (\"ADS\".\"Feature_8\" IS NULL) THEN 5.0 ELSE \"ADS\".\"Feature_8\" END AS rad, CASE WHEN (\"ADS\".\"Feature_9\" IS NULL) THEN 330.0 ELSE \"ADS\".\"Feature_9\" END AS tax, CASE WHEN (\"ADS\".\"Feature_10\" IS NULL) THEN 19.05 ELSE \"ADS\".\"Feature_10\" END AS ptratio, CASE WHEN (\"ADS\".\"Feature_11\" IS NULL) THEN 391.44 ELSE \"ADS\".\"Feature_11\" END AS b, CASE WHEN (\"ADS\".\"Feature_12\" IS NULL) THEN 11.36 ELSE \"ADS\".\"Feature_12\" END AS lstat \n",
      "FROM \"INPUT_DATA\" AS \"ADS\"), \n",
      "\"DT_node_lookup\" AS \n",
      "(SELECT \"ADS_pre_1_OUT\".\"KEY\" AS \"KEY\", CASE WHEN (\"ADS_pre_1_OUT\".rm < 6.941) THEN CASE WHEN (\"ADS_pre_1_OUT\".lstat >= 14.399999999999997) THEN 4 ELSE 5 END ELSE 3 END AS node_id_2 \n",
      "FROM \"ADS_pre_1_OUT\"), \n",
      "\"DT_node_data\" AS \n",
      "(SELECT \"Values\".nid AS nid, \"Values\".\"E\" AS \"E\" \n",
      "FROM (SELECT 3 AS nid, 37.238157894736844 AS \"E\" UNION ALL SELECT 4 AS nid, 14.956 AS \"E\" UNION ALL SELECT 5 AS nid, 23.34980392156863 AS \"E\") AS \"Values\"), \n",
      "\"DT_Output\" AS \n",
      "(SELECT \"DT_node_lookup\".\"KEY\" AS \"KEY\", \"DT_node_lookup\".node_id_2 AS node_id_2, \"DT_node_data\".nid AS nid, \"DT_node_data\".\"E\" AS \"E\" \n",
      "FROM \"DT_node_lookup\" LEFT OUTER JOIN \"DT_node_data\" ON \"DT_node_lookup\".node_id_2 = \"DT_node_data\".nid)\n",
      " SELECT \"DT_Output\".\"KEY\" AS \"KEY\", \"DT_Output\".\"E\" AS \"Estimator\" \n",
      "FROM \"DT_Output\""
     ]
    }
   ],
   "source": [
    "lModelSQL = test_ws_sql_gen(model)\n",
    "cat(lModelSQL)\n"
   ]
  },
  {
   "cell_type": "code",
   "execution_count": null,
   "metadata": {},
   "outputs": [],
   "source": []
  },
  {
   "cell_type": "markdown",
   "metadata": {},
   "source": [
    "# Execute the SQL Code"
   ]
  },
  {
   "cell_type": "code",
   "execution_count": 8,
   "metadata": {},
   "outputs": [
    {
     "data": {
      "text/html": [
       "0"
      ],
      "text/latex": [
       "0"
      ],
      "text/markdown": [
       "0"
      ],
      "text/plain": [
       "[1] 0"
      ]
     },
     "metadata": {},
     "output_type": "display_data"
    }
   ],
   "source": [
    "library(RODBC)\n",
    "conn = odbcConnect(\"pgsql\", uid=\"db\", pwd=\"db\", case=\"nochange\")\n",
    "odbcSetAutoCommit(conn , autoCommit = TRUE)"
   ]
  },
  {
   "cell_type": "code",
   "execution_count": 9,
   "metadata": {
    "scrolled": true
   },
   "outputs": [],
   "source": [
    "df_sql = dataset\n",
    "names(df_sql) = sprintf(\"Feature_%d\",0:(ncol(df_sql)-1))\n",
    "df_sql$KEY = seq.int(nrow(dataset))\n",
    "\n",
    "sqlDrop(conn , \"INPUT_DATA\" , errors = FALSE)\n",
    "sqlSave(conn, df_sql, tablename = \"INPUT_DATA\", verbose = FALSE)\n",
    "\n",
    "# df_sql"
   ]
  },
  {
   "cell_type": "code",
   "execution_count": 10,
   "metadata": {},
   "outputs": [
    {
     "data": {
      "text/html": [
       "<ol class=list-inline>\n",
       "\t<li>'Feature_0'</li>\n",
       "\t<li>'Feature_1'</li>\n",
       "\t<li>'Feature_2'</li>\n",
       "\t<li>'Feature_3'</li>\n",
       "\t<li>'Feature_4'</li>\n",
       "\t<li>'Feature_5'</li>\n",
       "\t<li>'Feature_6'</li>\n",
       "\t<li>'Feature_7'</li>\n",
       "\t<li>'Feature_8'</li>\n",
       "\t<li>'Feature_9'</li>\n",
       "\t<li>'Feature_10'</li>\n",
       "\t<li>'Feature_11'</li>\n",
       "\t<li>'Feature_12'</li>\n",
       "\t<li>'KEY'</li>\n",
       "</ol>\n"
      ],
      "text/latex": [
       "\\begin{enumerate*}\n",
       "\\item 'Feature\\_0'\n",
       "\\item 'Feature\\_1'\n",
       "\\item 'Feature\\_2'\n",
       "\\item 'Feature\\_3'\n",
       "\\item 'Feature\\_4'\n",
       "\\item 'Feature\\_5'\n",
       "\\item 'Feature\\_6'\n",
       "\\item 'Feature\\_7'\n",
       "\\item 'Feature\\_8'\n",
       "\\item 'Feature\\_9'\n",
       "\\item 'Feature\\_10'\n",
       "\\item 'Feature\\_11'\n",
       "\\item 'Feature\\_12'\n",
       "\\item 'KEY'\n",
       "\\end{enumerate*}\n"
      ],
      "text/markdown": [
       "1. 'Feature_0'\n",
       "2. 'Feature_1'\n",
       "3. 'Feature_2'\n",
       "4. 'Feature_3'\n",
       "5. 'Feature_4'\n",
       "6. 'Feature_5'\n",
       "7. 'Feature_6'\n",
       "8. 'Feature_7'\n",
       "9. 'Feature_8'\n",
       "10. 'Feature_9'\n",
       "11. 'Feature_10'\n",
       "12. 'Feature_11'\n",
       "13. 'Feature_12'\n",
       "14. 'KEY'\n",
       "\n",
       "\n"
      ],
      "text/plain": [
       " [1] \"Feature_0\"  \"Feature_1\"  \"Feature_2\"  \"Feature_3\"  \"Feature_4\" \n",
       " [6] \"Feature_5\"  \"Feature_6\"  \"Feature_7\"  \"Feature_8\"  \"Feature_9\" \n",
       "[11] \"Feature_10\" \"Feature_11\" \"Feature_12\" \"KEY\"       "
      ]
     },
     "metadata": {},
     "output_type": "display_data"
    }
   ],
   "source": [
    "colnames(df_sql)\n",
    "# odbcGetInfo(conn)\n",
    "# sqlTables(conn)"
   ]
  },
  {
   "cell_type": "code",
   "execution_count": 11,
   "metadata": {},
   "outputs": [
    {
     "data": {
      "text/html": [
       "<table>\n",
       "<thead><tr><th scope=col>KEY</th><th scope=col>Estimator</th></tr></thead>\n",
       "<tbody>\n",
       "\t<tr><td>1       </td><td>23.34980</td></tr>\n",
       "\t<tr><td>2       </td><td>23.34980</td></tr>\n",
       "\t<tr><td>3       </td><td>37.23816</td></tr>\n",
       "\t<tr><td>4       </td><td>37.23816</td></tr>\n",
       "\t<tr><td>5       </td><td>37.23816</td></tr>\n",
       "\t<tr><td>6       </td><td>23.34980</td></tr>\n",
       "</tbody>\n",
       "</table>\n"
      ],
      "text/latex": [
       "\\begin{tabular}{r|ll}\n",
       " KEY & Estimator\\\\\n",
       "\\hline\n",
       "\t 1        & 23.34980\\\\\n",
       "\t 2        & 23.34980\\\\\n",
       "\t 3        & 37.23816\\\\\n",
       "\t 4        & 37.23816\\\\\n",
       "\t 5        & 37.23816\\\\\n",
       "\t 6        & 23.34980\\\\\n",
       "\\end{tabular}\n"
      ],
      "text/markdown": [
       "\n",
       "KEY | Estimator | \n",
       "|---|---|---|---|---|---|\n",
       "| 1        | 23.34980 | \n",
       "| 2        | 23.34980 | \n",
       "| 3        | 37.23816 | \n",
       "| 4        | 37.23816 | \n",
       "| 5        | 37.23816 | \n",
       "| 6        | 23.34980 | \n",
       "\n",
       "\n"
      ],
      "text/plain": [
       "  KEY Estimator\n",
       "1 1   23.34980 \n",
       "2 2   23.34980 \n",
       "3 3   37.23816 \n",
       "4 4   37.23816 \n",
       "5 5   37.23816 \n",
       "6 6   23.34980 "
      ]
     },
     "metadata": {},
     "output_type": "display_data"
    }
   ],
   "source": [
    "df_sql_out = sqlQuery(conn, lModelSQL)\n",
    "head(df_sql_out[order(df_sql_out$KEY),])"
   ]
  },
  {
   "cell_type": "code",
   "execution_count": 12,
   "metadata": {},
   "outputs": [],
   "source": [
    "#df_sql_out"
   ]
  },
  {
   "cell_type": "markdown",
   "metadata": {},
   "source": [
    "# R RPART Output"
   ]
  },
  {
   "cell_type": "code",
   "execution_count": 13,
   "metadata": {},
   "outputs": [
    {
     "data": {
      "text/html": [
       "<table>\n",
       "<thead><tr><th scope=col>Estimator</th><th scope=col>KEY</th></tr></thead>\n",
       "<tbody>\n",
       "\t<tr><td>23.34980</td><td>1       </td></tr>\n",
       "\t<tr><td>23.34980</td><td>2       </td></tr>\n",
       "\t<tr><td>37.23816</td><td>3       </td></tr>\n",
       "\t<tr><td>37.23816</td><td>4       </td></tr>\n",
       "\t<tr><td>37.23816</td><td>5       </td></tr>\n",
       "\t<tr><td>23.34980</td><td>6       </td></tr>\n",
       "</tbody>\n",
       "</table>\n"
      ],
      "text/latex": [
       "\\begin{tabular}{r|ll}\n",
       " Estimator & KEY\\\\\n",
       "\\hline\n",
       "\t 23.34980 & 1       \\\\\n",
       "\t 23.34980 & 2       \\\\\n",
       "\t 37.23816 & 3       \\\\\n",
       "\t 37.23816 & 4       \\\\\n",
       "\t 37.23816 & 5       \\\\\n",
       "\t 23.34980 & 6       \\\\\n",
       "\\end{tabular}\n"
      ],
      "text/markdown": [
       "\n",
       "Estimator | KEY | \n",
       "|---|---|---|---|---|---|\n",
       "| 23.34980 | 1        | \n",
       "| 23.34980 | 2        | \n",
       "| 37.23816 | 3        | \n",
       "| 37.23816 | 4        | \n",
       "| 37.23816 | 5        | \n",
       "| 23.34980 | 6        | \n",
       "\n",
       "\n"
      ],
      "text/plain": [
       "  Estimator KEY\n",
       "1 23.34980  1  \n",
       "2 23.34980  2  \n",
       "3 37.23816  3  \n",
       "4 37.23816  4  \n",
       "5 37.23816  5  \n",
       "6 23.34980  6  "
      ]
     },
     "metadata": {},
     "output_type": "display_data"
    }
   ],
   "source": [
    "estimator  =  predict(model, dataset, type = \"raw\", na.action = na.pass)\n",
    "df_r_out = data.frame(estimator)\n",
    "names(df_r_out) = c(\"Estimator\")\n",
    "\n",
    "df_r_out$KEY = seq.int(nrow(dataset))\n",
    "head(df_r_out)\n"
   ]
  },
  {
   "cell_type": "markdown",
   "metadata": {},
   "source": [
    "# Compare R and SQL output"
   ]
  },
  {
   "cell_type": "code",
   "execution_count": 14,
   "metadata": {},
   "outputs": [
    {
     "data": {
      "text/html": [
       "<table>\n",
       "<thead><tr><th scope=col>KEY</th><th scope=col>Estimator_1</th><th scope=col>Estimator_2</th></tr></thead>\n",
       "<tbody>\n",
       "\t<tr><td>1       </td><td>23.34980</td><td>23.34980</td></tr>\n",
       "\t<tr><td>2       </td><td>23.34980</td><td>23.34980</td></tr>\n",
       "\t<tr><td>3       </td><td>37.23816</td><td>37.23816</td></tr>\n",
       "\t<tr><td>4       </td><td>37.23816</td><td>37.23816</td></tr>\n",
       "\t<tr><td>5       </td><td>37.23816</td><td>37.23816</td></tr>\n",
       "\t<tr><td>6       </td><td>23.34980</td><td>23.34980</td></tr>\n",
       "</tbody>\n",
       "</table>\n"
      ],
      "text/latex": [
       "\\begin{tabular}{r|lll}\n",
       " KEY & Estimator\\_1 & Estimator\\_2\\\\\n",
       "\\hline\n",
       "\t 1        & 23.34980 & 23.34980\\\\\n",
       "\t 2        & 23.34980 & 23.34980\\\\\n",
       "\t 3        & 37.23816 & 37.23816\\\\\n",
       "\t 4        & 37.23816 & 37.23816\\\\\n",
       "\t 5        & 37.23816 & 37.23816\\\\\n",
       "\t 6        & 23.34980 & 23.34980\\\\\n",
       "\\end{tabular}\n"
      ],
      "text/markdown": [
       "\n",
       "KEY | Estimator_1 | Estimator_2 | \n",
       "|---|---|---|---|---|---|\n",
       "| 1        | 23.34980 | 23.34980 | \n",
       "| 2        | 23.34980 | 23.34980 | \n",
       "| 3        | 37.23816 | 37.23816 | \n",
       "| 4        | 37.23816 | 37.23816 | \n",
       "| 5        | 37.23816 | 37.23816 | \n",
       "| 6        | 23.34980 | 23.34980 | \n",
       "\n",
       "\n"
      ],
      "text/plain": [
       "  KEY Estimator_1 Estimator_2\n",
       "1 1   23.34980    23.34980   \n",
       "2 2   23.34980    23.34980   \n",
       "3 3   37.23816    37.23816   \n",
       "4 4   37.23816    37.23816   \n",
       "5 5   37.23816    37.23816   \n",
       "6 6   23.34980    23.34980   "
      ]
     },
     "metadata": {},
     "output_type": "display_data"
    }
   ],
   "source": [
    "df_merge = merge(x = df_r_out, y = df_sql_out, by = \"KEY\", all = TRUE, , suffixes = c(\"_1\",\"_2\"))\n",
    "head(df_merge)"
   ]
  },
  {
   "cell_type": "code",
   "execution_count": 15,
   "metadata": {},
   "outputs": [
    {
     "data": {
      "text/html": [
       "<table>\n",
       "<thead><tr><th scope=col>KEY</th><th scope=col>Estimator_1</th><th scope=col>Estimator_2</th><th scope=col>Error</th><th scope=col>AbsError</th></tr></thead>\n",
       "<tbody>\n",
       "\t<tr><td>1            </td><td>23.34980     </td><td>23.34980     </td><td> 0.000000e+00</td><td>0.000000e+00 </td></tr>\n",
       "\t<tr><td>2            </td><td>23.34980     </td><td>23.34980     </td><td> 0.000000e+00</td><td>0.000000e+00 </td></tr>\n",
       "\t<tr><td>3            </td><td>37.23816     </td><td>37.23816     </td><td>-7.105427e-15</td><td>7.105427e-15 </td></tr>\n",
       "\t<tr><td>4            </td><td>37.23816     </td><td>37.23816     </td><td>-7.105427e-15</td><td>7.105427e-15 </td></tr>\n",
       "\t<tr><td>5            </td><td>37.23816     </td><td>37.23816     </td><td>-7.105427e-15</td><td>7.105427e-15 </td></tr>\n",
       "\t<tr><td>6            </td><td>23.34980     </td><td>23.34980     </td><td> 0.000000e+00</td><td>0.000000e+00 </td></tr>\n",
       "</tbody>\n",
       "</table>\n"
      ],
      "text/latex": [
       "\\begin{tabular}{r|lllll}\n",
       " KEY & Estimator\\_1 & Estimator\\_2 & Error & AbsError\\\\\n",
       "\\hline\n",
       "\t 1             & 23.34980      & 23.34980      &  0.000000e+00 & 0.000000e+00 \\\\\n",
       "\t 2             & 23.34980      & 23.34980      &  0.000000e+00 & 0.000000e+00 \\\\\n",
       "\t 3             & 37.23816      & 37.23816      & -7.105427e-15 & 7.105427e-15 \\\\\n",
       "\t 4             & 37.23816      & 37.23816      & -7.105427e-15 & 7.105427e-15 \\\\\n",
       "\t 5             & 37.23816      & 37.23816      & -7.105427e-15 & 7.105427e-15 \\\\\n",
       "\t 6             & 23.34980      & 23.34980      &  0.000000e+00 & 0.000000e+00 \\\\\n",
       "\\end{tabular}\n"
      ],
      "text/markdown": [
       "\n",
       "KEY | Estimator_1 | Estimator_2 | Error | AbsError | \n",
       "|---|---|---|---|---|---|\n",
       "| 1             | 23.34980      | 23.34980      |  0.000000e+00 | 0.000000e+00  | \n",
       "| 2             | 23.34980      | 23.34980      |  0.000000e+00 | 0.000000e+00  | \n",
       "| 3             | 37.23816      | 37.23816      | -7.105427e-15 | 7.105427e-15  | \n",
       "| 4             | 37.23816      | 37.23816      | -7.105427e-15 | 7.105427e-15  | \n",
       "| 5             | 37.23816      | 37.23816      | -7.105427e-15 | 7.105427e-15  | \n",
       "| 6             | 23.34980      | 23.34980      |  0.000000e+00 | 0.000000e+00  | \n",
       "\n",
       "\n"
      ],
      "text/plain": [
       "  KEY Estimator_1 Estimator_2 Error         AbsError    \n",
       "1 1   23.34980    23.34980     0.000000e+00 0.000000e+00\n",
       "2 2   23.34980    23.34980     0.000000e+00 0.000000e+00\n",
       "3 3   37.23816    37.23816    -7.105427e-15 7.105427e-15\n",
       "4 4   37.23816    37.23816    -7.105427e-15 7.105427e-15\n",
       "5 5   37.23816    37.23816    -7.105427e-15 7.105427e-15\n",
       "6 6   23.34980    23.34980     0.000000e+00 0.000000e+00"
      ]
     },
     "metadata": {},
     "output_type": "display_data"
    }
   ],
   "source": [
    "df_merge$Error = df_merge$Estimator_1 - df_merge$Estimator_2\n",
    "df_merge$AbsError = abs(df_merge$Error)\n",
    "head(df_merge)\n"
   ]
  },
  {
   "cell_type": "code",
   "execution_count": 16,
   "metadata": {},
   "outputs": [
    {
     "data": {
      "text/html": [
       "<table>\n",
       "<thead><tr><th scope=col>KEY</th><th scope=col>Estimator_1</th><th scope=col>Estimator_2</th><th scope=col>Error</th><th scope=col>AbsError</th></tr></thead>\n",
       "<tbody>\n",
       "</tbody>\n",
       "</table>\n"
      ],
      "text/latex": [
       "\\begin{tabular}{r|lllll}\n",
       " KEY & Estimator\\_1 & Estimator\\_2 & Error & AbsError\\\\\n",
       "\\hline\n",
       "\\end{tabular}\n"
      ],
      "text/markdown": [
       "\n",
       "KEY | Estimator_1 | Estimator_2 | Error | AbsError | \n",
       "||\n",
       "\n",
       "\n"
      ],
      "text/plain": [
       "     KEY Estimator_1 Estimator_2 Error AbsError"
      ]
     },
     "metadata": {},
     "output_type": "display_data"
    }
   ],
   "source": [
    "df_merge_largest_errors = df_merge[df_merge$AbsError > 0.0001,]\n",
    "df_merge_largest_errors"
   ]
  },
  {
   "cell_type": "code",
   "execution_count": 17,
   "metadata": {},
   "outputs": [],
   "source": [
    "stopifnot(nrow(df_merge_largest_errors) == 0)"
   ]
  },
  {
   "cell_type": "code",
   "execution_count": null,
   "metadata": {},
   "outputs": [],
   "source": []
  },
  {
   "cell_type": "code",
   "execution_count": 18,
   "metadata": {},
   "outputs": [
    {
     "data": {
      "text/plain": [
       "      KEY          Estimator    \n",
       " Min.   :  1.0   Min.   :14.96  \n",
       " 1st Qu.:127.2   1st Qu.:14.96  \n",
       " Median :253.5   Median :23.35  \n",
       " Mean   :253.5   Mean   :22.53  \n",
       " 3rd Qu.:379.8   3rd Qu.:23.35  \n",
       " Max.   :506.0   Max.   :37.24  "
      ]
     },
     "metadata": {},
     "output_type": "display_data"
    }
   ],
   "source": [
    "summary(df_sql_out)"
   ]
  },
  {
   "cell_type": "code",
   "execution_count": 19,
   "metadata": {},
   "outputs": [
    {
     "data": {
      "text/plain": [
       "   Estimator          KEY       \n",
       " Min.   :14.96   Min.   :  1.0  \n",
       " 1st Qu.:14.96   1st Qu.:127.2  \n",
       " Median :23.35   Median :253.5  \n",
       " Mean   :22.53   Mean   :253.5  \n",
       " 3rd Qu.:23.35   3rd Qu.:379.8  \n",
       " Max.   :37.24   Max.   :506.0  "
      ]
     },
     "metadata": {},
     "output_type": "display_data"
    }
   ],
   "source": [
    "summary(df_r_out)"
   ]
  },
  {
   "cell_type": "code",
   "execution_count": 20,
   "metadata": {},
   "outputs": [
    {
     "data": {
      "text/plain": [
       "      KEY         Estimator_1     Estimator_2        Error           \n",
       " Min.   :  1.0   Min.   :14.96   Min.   :14.96   Min.   :-7.105e-15  \n",
       " 1st Qu.:127.2   1st Qu.:14.96   1st Qu.:14.96   1st Qu.:-1.776e-15  \n",
       " Median :253.5   Median :23.35   Median :23.35   Median : 0.000e+00  \n",
       " Mean   :253.5   Mean   :22.53   Mean   :22.53   Mean   :-1.682e-15  \n",
       " 3rd Qu.:379.8   3rd Qu.:23.35   3rd Qu.:23.35   3rd Qu.: 0.000e+00  \n",
       " Max.   :506.0   Max.   :37.24   Max.   :37.24   Max.   : 0.000e+00  \n",
       "    AbsError        \n",
       " Min.   :0.000e+00  \n",
       " 1st Qu.:0.000e+00  \n",
       " Median :0.000e+00  \n",
       " Mean   :1.682e-15  \n",
       " 3rd Qu.:1.776e-15  \n",
       " Max.   :7.105e-15  "
      ]
     },
     "metadata": {},
     "output_type": "display_data"
    }
   ],
   "source": [
    "summary(df_merge)"
   ]
  },
  {
   "cell_type": "code",
   "execution_count": 21,
   "metadata": {},
   "outputs": [
    {
     "data": {
      "text/plain": [
       "n= 506 \n",
       "\n",
       "node), split, n, deviance, yval\n",
       "      * denotes terminal node\n",
       "\n",
       "1) root 506 42716.300 22.53281  \n",
       "  2) rm< 6.941 430 17317.320 19.93372  \n",
       "    4) lstat>=14.4 175  3373.251 14.95600 *\n",
       "    5) lstat< 14.4 255  6632.217 23.34980 *\n",
       "  3) rm>=6.941 76  6059.419 37.23816 *"
      ]
     },
     "metadata": {},
     "output_type": "display_data"
    }
   ],
   "source": [
    "model$finalModel"
   ]
  },
  {
   "cell_type": "code",
   "execution_count": 22,
   "metadata": {},
   "outputs": [],
   "source": [
    "prep = model$preProcess"
   ]
  },
  {
   "cell_type": "code",
   "execution_count": 23,
   "metadata": {},
   "outputs": [
    {
     "data": {
      "text/plain": [
       "CART \n",
       "\n",
       "506 samples\n",
       " 13 predictor\n",
       "\n",
       "Pre-processing: median imputation (13) \n",
       "Resampling: Bootstrapped (25 reps) \n",
       "Summary of sample sizes: 506, 506, 506, 506, 506, 506, ... \n",
       "Resampling results across tuning parameters:\n",
       "\n",
       "  cp          RMSE      Rsquared   MAE     \n",
       "  0.07165784  5.696930  0.6193436  4.071699\n",
       "  0.17117244  6.858945  0.4444407  5.098236\n",
       "  0.45274420  7.704934  0.3871354  5.649512\n",
       "\n",
       "RMSE was used to select the optimal model using the smallest value.\n",
       "The final value used for the model was cp = 0.07165784."
      ]
     },
     "metadata": {},
     "output_type": "display_data"
    }
   ],
   "source": [
    "model"
   ]
  },
  {
   "cell_type": "code",
   "execution_count": 24,
   "metadata": {},
   "outputs": [
    {
     "data": {
      "text/html": [
       "<dl>\n",
       "\t<dt>$medianImpute</dt>\n",
       "\t\t<dd><ol class=list-inline>\n",
       "\t<li>'crim'</li>\n",
       "\t<li>'zn'</li>\n",
       "\t<li>'indus'</li>\n",
       "\t<li>'chas'</li>\n",
       "\t<li>'nox'</li>\n",
       "\t<li>'rm'</li>\n",
       "\t<li>'age'</li>\n",
       "\t<li>'dis'</li>\n",
       "\t<li>'rad'</li>\n",
       "\t<li>'tax'</li>\n",
       "\t<li>'ptratio'</li>\n",
       "\t<li>'b'</li>\n",
       "\t<li>'lstat'</li>\n",
       "</ol>\n",
       "</dd>\n",
       "\t<dt>$ignore</dt>\n",
       "\t\t<dd></dd>\n",
       "</dl>\n"
      ],
      "text/latex": [
       "\\begin{description}\n",
       "\\item[\\$medianImpute] \\begin{enumerate*}\n",
       "\\item 'crim'\n",
       "\\item 'zn'\n",
       "\\item 'indus'\n",
       "\\item 'chas'\n",
       "\\item 'nox'\n",
       "\\item 'rm'\n",
       "\\item 'age'\n",
       "\\item 'dis'\n",
       "\\item 'rad'\n",
       "\\item 'tax'\n",
       "\\item 'ptratio'\n",
       "\\item 'b'\n",
       "\\item 'lstat'\n",
       "\\end{enumerate*}\n",
       "\n",
       "\\item[\\$ignore] \n",
       "\\end{description}\n"
      ],
      "text/markdown": [
       "$medianImpute\n",
       ":   1. 'crim'\n",
       "2. 'zn'\n",
       "3. 'indus'\n",
       "4. 'chas'\n",
       "5. 'nox'\n",
       "6. 'rm'\n",
       "7. 'age'\n",
       "8. 'dis'\n",
       "9. 'rad'\n",
       "10. 'tax'\n",
       "11. 'ptratio'\n",
       "12. 'b'\n",
       "13. 'lstat'\n",
       "\n",
       "\n",
       "\n",
       "$ignore\n",
       ":   \n",
       "\n",
       "\n"
      ],
      "text/plain": [
       "$medianImpute\n",
       " [1] \"crim\"    \"zn\"      \"indus\"   \"chas\"    \"nox\"     \"rm\"      \"age\"    \n",
       " [8] \"dis\"     \"rad\"     \"tax\"     \"ptratio\" \"b\"       \"lstat\"  \n",
       "\n",
       "$ignore\n",
       "character(0)\n"
      ]
     },
     "metadata": {},
     "output_type": "display_data"
    }
   ],
   "source": [
    "prep$method"
   ]
  },
  {
   "cell_type": "code",
   "execution_count": 25,
   "metadata": {},
   "outputs": [
    {
     "data": {
      "text/html": [
       "<dl class=dl-horizontal>\n",
       "\t<dt>crim</dt>\n",
       "\t\t<dd>0.093385</dd>\n",
       "\t<dt>zn</dt>\n",
       "\t\t<dd>0</dd>\n",
       "\t<dt>indus</dt>\n",
       "\t\t<dd>9.69</dd>\n",
       "\t<dt>chas</dt>\n",
       "\t\t<dd>1</dd>\n",
       "\t<dt>nox</dt>\n",
       "\t\t<dd>0.538</dd>\n",
       "\t<dt>rm</dt>\n",
       "\t\t<dd>6.2085</dd>\n",
       "\t<dt>age</dt>\n",
       "\t\t<dd>59.7</dd>\n",
       "\t<dt>dis</dt>\n",
       "\t\t<dd>3.20745</dd>\n",
       "\t<dt>rad</dt>\n",
       "\t\t<dd>5</dd>\n",
       "\t<dt>tax</dt>\n",
       "\t\t<dd>330</dd>\n",
       "\t<dt>ptratio</dt>\n",
       "\t\t<dd>19.05</dd>\n",
       "\t<dt>b</dt>\n",
       "\t\t<dd>391.44</dd>\n",
       "\t<dt>lstat</dt>\n",
       "\t\t<dd>11.36</dd>\n",
       "</dl>\n"
      ],
      "text/latex": [
       "\\begin{description*}\n",
       "\\item[crim] 0.093385\n",
       "\\item[zn] 0\n",
       "\\item[indus] 9.69\n",
       "\\item[chas] 1\n",
       "\\item[nox] 0.538\n",
       "\\item[rm] 6.2085\n",
       "\\item[age] 59.7\n",
       "\\item[dis] 3.20745\n",
       "\\item[rad] 5\n",
       "\\item[tax] 330\n",
       "\\item[ptratio] 19.05\n",
       "\\item[b] 391.44\n",
       "\\item[lstat] 11.36\n",
       "\\end{description*}\n"
      ],
      "text/markdown": [
       "crim\n",
       ":   0.093385zn\n",
       ":   0indus\n",
       ":   9.69chas\n",
       ":   1nox\n",
       ":   0.538rm\n",
       ":   6.2085age\n",
       ":   59.7dis\n",
       ":   3.20745rad\n",
       ":   5tax\n",
       ":   330ptratio\n",
       ":   19.05b\n",
       ":   391.44lstat\n",
       ":   11.36\n",
       "\n"
      ],
      "text/plain": [
       "      crim         zn      indus       chas        nox         rm        age \n",
       "  0.093385   0.000000   9.690000   1.000000   0.538000   6.208500  59.700000 \n",
       "       dis        rad        tax    ptratio          b      lstat \n",
       "  3.207450   5.000000 330.000000  19.050000 391.440000  11.360000 "
      ]
     },
     "metadata": {},
     "output_type": "display_data"
    }
   ],
   "source": [
    "prep$median"
   ]
  },
  {
   "cell_type": "code",
   "execution_count": null,
   "metadata": {},
   "outputs": [],
   "source": []
  }
 ],
 "metadata": {
  "kernelspec": {
   "display_name": "R",
   "language": "R",
   "name": "ir"
  },
  "language_info": {
   "codemirror_mode": "r",
   "file_extension": ".r",
   "mimetype": "text/x-r-source",
   "name": "R",
   "pygments_lexer": "r",
   "version": "3.5.2"
  }
 },
 "nbformat": 4,
 "nbformat_minor": 2
}
