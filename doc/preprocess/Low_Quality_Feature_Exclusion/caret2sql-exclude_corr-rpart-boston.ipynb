{
 "cells": [
  {
   "cell_type": "code",
   "execution_count": 1,
   "metadata": {},
   "outputs": [
    {
     "name": "stderr",
     "output_type": "stream",
     "text": [
      "\n",
      "Attaching package: ‘httr’\n",
      "\n",
      "The following object is masked from ‘package:caret’:\n",
      "\n",
      "    progress\n",
      "\n"
     ]
    }
   ],
   "source": [
    "library(caret, quiet = TRUE)\n",
    "library(base64enc)\n",
    "library(httr, quiet = TRUE)\n",
    "\n",
    "library(mlbench)"
   ]
  },
  {
   "cell_type": "markdown",
   "metadata": {},
   "source": [
    "# Build a Model"
   ]
  },
  {
   "cell_type": "code",
   "execution_count": 2,
   "metadata": {},
   "outputs": [],
   "source": [
    "\n",
    "# a character vector specifying the type of processing. \n",
    "# Possible values are \n",
    "# \"BoxCox\", \"YeoJohnson\", \"expoTrans\", \"center\", \"scale\", \"range\", \n",
    "# \"knnImpute\", \"bagImpute\", \"medianImpute\", \"pca\", \"ica\", \"spatialSign\", \n",
    "# \"corr\", \"zv\", \"nzv\", and \"conditionalX\"\n",
    "\n",
    "data(BostonHousing)\n",
    "BostonHousing$chas = as.numeric(BostonHousing$chas)\n",
    "\n",
    "set.seed(1960)\n",
    "BostonHousing$zn = 1230\n",
    "BostonHousing$b = rnorm(nrow(BostonHousing), mean = 0, sd = 0.000001)\n",
    "BostonHousing$b_corr = BostonHousing$b + 10 \n",
    "BostonHousing$lstat = 5465.1230\n",
    "\n",
    "dataset = BostonHousing[, -14] \n",
    "\n",
    "create_model  =  function() {\n",
    "\n",
    "    model <- train(medv ~ ., data = BostonHousing, method = \"rpart\", preProcess=c(\"zv\", \"nzv\", \"corr\"))    \n",
    "\n",
    "    return(model)\n",
    "}\n"
   ]
  },
  {
   "cell_type": "code",
   "execution_count": 3,
   "metadata": {},
   "outputs": [
    {
     "data": {
      "text/html": [
       "<table>\n",
       "<thead><tr><th scope=col>crim</th><th scope=col>zn</th><th scope=col>indus</th><th scope=col>chas</th><th scope=col>nox</th><th scope=col>rm</th><th scope=col>age</th><th scope=col>dis</th><th scope=col>rad</th><th scope=col>tax</th><th scope=col>ptratio</th><th scope=col>b</th><th scope=col>lstat</th><th scope=col>b_corr</th></tr></thead>\n",
       "<tbody>\n",
       "\t<tr><td>0.00632      </td><td>1230         </td><td>2.31         </td><td>1            </td><td>0.538        </td><td>6.575        </td><td>65.2         </td><td>4.0900       </td><td>1            </td><td>296          </td><td>15.3         </td><td> 1.403801e-07</td><td>5465.123     </td><td>10.000000    </td></tr>\n",
       "\t<tr><td>0.02731      </td><td>1230         </td><td>7.07         </td><td>1            </td><td>0.469        </td><td>6.421        </td><td>78.9         </td><td>4.9671       </td><td>2            </td><td>242          </td><td>17.8         </td><td>-3.703998e-07</td><td>5465.123     </td><td>10.000000    </td></tr>\n",
       "\t<tr><td>0.02729      </td><td>1230         </td><td>7.07         </td><td>1            </td><td>0.469        </td><td>7.185        </td><td>61.1         </td><td>4.9671       </td><td>2            </td><td>242          </td><td>17.8         </td><td>-3.183261e-06</td><td>5465.123     </td><td> 9.999997    </td></tr>\n",
       "\t<tr><td>0.03237      </td><td>1230         </td><td>2.18         </td><td>1            </td><td>0.458        </td><td>6.998        </td><td>45.8         </td><td>6.0622       </td><td>3            </td><td>222          </td><td>18.7         </td><td>-1.134654e-06</td><td>5465.123     </td><td> 9.999999    </td></tr>\n",
       "\t<tr><td>0.06905      </td><td>1230         </td><td>2.18         </td><td>1            </td><td>0.458        </td><td>7.147        </td><td>54.2         </td><td>6.0622       </td><td>3            </td><td>222          </td><td>18.7         </td><td> 5.064509e-07</td><td>5465.123     </td><td>10.000001    </td></tr>\n",
       "\t<tr><td>0.02985      </td><td>1230         </td><td>2.18         </td><td>1            </td><td>0.458        </td><td>6.430        </td><td>58.7         </td><td>6.0622       </td><td>3            </td><td>222          </td><td>18.7         </td><td>-4.918303e-07</td><td>5465.123     </td><td>10.000000    </td></tr>\n",
       "</tbody>\n",
       "</table>\n"
      ],
      "text/latex": [
       "\\begin{tabular}{r|llllllllllllll}\n",
       " crim & zn & indus & chas & nox & rm & age & dis & rad & tax & ptratio & b & lstat & b\\_corr\\\\\n",
       "\\hline\n",
       "\t 0.00632       & 1230          & 2.31          & 1             & 0.538         & 6.575         & 65.2          & 4.0900        & 1             & 296           & 15.3          &  1.403801e-07 & 5465.123      & 10.000000    \\\\\n",
       "\t 0.02731       & 1230          & 7.07          & 1             & 0.469         & 6.421         & 78.9          & 4.9671        & 2             & 242           & 17.8          & -3.703998e-07 & 5465.123      & 10.000000    \\\\\n",
       "\t 0.02729       & 1230          & 7.07          & 1             & 0.469         & 7.185         & 61.1          & 4.9671        & 2             & 242           & 17.8          & -3.183261e-06 & 5465.123      &  9.999997    \\\\\n",
       "\t 0.03237       & 1230          & 2.18          & 1             & 0.458         & 6.998         & 45.8          & 6.0622        & 3             & 222           & 18.7          & -1.134654e-06 & 5465.123      &  9.999999    \\\\\n",
       "\t 0.06905       & 1230          & 2.18          & 1             & 0.458         & 7.147         & 54.2          & 6.0622        & 3             & 222           & 18.7          &  5.064509e-07 & 5465.123      & 10.000001    \\\\\n",
       "\t 0.02985       & 1230          & 2.18          & 1             & 0.458         & 6.430         & 58.7          & 6.0622        & 3             & 222           & 18.7          & -4.918303e-07 & 5465.123      & 10.000000    \\\\\n",
       "\\end{tabular}\n"
      ],
      "text/markdown": [
       "\n",
       "crim | zn | indus | chas | nox | rm | age | dis | rad | tax | ptratio | b | lstat | b_corr | \n",
       "|---|---|---|---|---|---|\n",
       "| 0.00632       | 1230          | 2.31          | 1             | 0.538         | 6.575         | 65.2          | 4.0900        | 1             | 296           | 15.3          |  1.403801e-07 | 5465.123      | 10.000000     | \n",
       "| 0.02731       | 1230          | 7.07          | 1             | 0.469         | 6.421         | 78.9          | 4.9671        | 2             | 242           | 17.8          | -3.703998e-07 | 5465.123      | 10.000000     | \n",
       "| 0.02729       | 1230          | 7.07          | 1             | 0.469         | 7.185         | 61.1          | 4.9671        | 2             | 242           | 17.8          | -3.183261e-06 | 5465.123      |  9.999997     | \n",
       "| 0.03237       | 1230          | 2.18          | 1             | 0.458         | 6.998         | 45.8          | 6.0622        | 3             | 222           | 18.7          | -1.134654e-06 | 5465.123      |  9.999999     | \n",
       "| 0.06905       | 1230          | 2.18          | 1             | 0.458         | 7.147         | 54.2          | 6.0622        | 3             | 222           | 18.7          |  5.064509e-07 | 5465.123      | 10.000001     | \n",
       "| 0.02985       | 1230          | 2.18          | 1             | 0.458         | 6.430         | 58.7          | 6.0622        | 3             | 222           | 18.7          | -4.918303e-07 | 5465.123      | 10.000000     | \n",
       "\n",
       "\n"
      ],
      "text/plain": [
       "  crim    zn   indus chas nox   rm    age  dis    rad tax ptratio b            \n",
       "1 0.00632 1230 2.31  1    0.538 6.575 65.2 4.0900 1   296 15.3     1.403801e-07\n",
       "2 0.02731 1230 7.07  1    0.469 6.421 78.9 4.9671 2   242 17.8    -3.703998e-07\n",
       "3 0.02729 1230 7.07  1    0.469 7.185 61.1 4.9671 2   242 17.8    -3.183261e-06\n",
       "4 0.03237 1230 2.18  1    0.458 6.998 45.8 6.0622 3   222 18.7    -1.134654e-06\n",
       "5 0.06905 1230 2.18  1    0.458 7.147 54.2 6.0622 3   222 18.7     5.064509e-07\n",
       "6 0.02985 1230 2.18  1    0.458 6.430 58.7 6.0622 3   222 18.7    -4.918303e-07\n",
       "  lstat    b_corr   \n",
       "1 5465.123 10.000000\n",
       "2 5465.123 10.000000\n",
       "3 5465.123  9.999997\n",
       "4 5465.123  9.999999\n",
       "5 5465.123 10.000001\n",
       "6 5465.123 10.000000"
      ]
     },
     "metadata": {},
     "output_type": "display_data"
    }
   ],
   "source": [
    "head(dataset)"
   ]
  },
  {
   "cell_type": "code",
   "execution_count": 4,
   "metadata": {},
   "outputs": [
    {
     "name": "stderr",
     "output_type": "stream",
     "text": [
      "Warning message in nominalTrainWorkflow(x = x, y = y, wts = weights, info = trainInfo, :\n",
      "“There were missing values in resampled performance measures.”"
     ]
    }
   ],
   "source": [
    "model = create_model()\n",
    "# cat(model$feature_names)\n",
    "# print(model)"
   ]
  },
  {
   "cell_type": "code",
   "execution_count": 5,
   "metadata": {},
   "outputs": [
    {
     "data": {
      "text/plain": [
       "      medv         Estimator         Error         \n",
       " Min.   : 5.00   Min.   :13.74   Min.   :-28.2619  \n",
       " 1st Qu.:17.02   1st Qu.:21.74   1st Qu.: -2.6616  \n",
       " Median :21.20   Median :21.74   Median :  0.5381  \n",
       " Mean   :22.53   Mean   :22.53   Mean   :  0.0000  \n",
       " 3rd Qu.:25.00   3rd Qu.:21.74   3rd Qu.:  3.3381  \n",
       " Max.   :50.00   Max.   :37.24   Max.   : 26.8382  "
      ]
     },
     "metadata": {},
     "output_type": "display_data"
    },
    {
     "data": {
      "text/html": [
       "0.225608251179813"
      ],
      "text/latex": [
       "0.225608251179813"
      ],
      "text/markdown": [
       "0.225608251179813"
      ],
      "text/plain": [
       "[1] 0.2256083"
      ]
     },
     "metadata": {},
     "output_type": "display_data"
    }
   ],
   "source": [
    "pred_labels <- predict(model, BostonHousing[, -14] , type=\"raw\")\n",
    "df = data.frame(BostonHousing[,14])\n",
    "names(df) = c(\"medv\")\n",
    "df$Estimator = pred_labels\n",
    "df$Error = df$Estimator - df$medv\n",
    "MAPE = mean(abs(df$Error / df$medv))\n",
    "summary(df)\n",
    "MAPE"
   ]
  },
  {
   "cell_type": "markdown",
   "metadata": {},
   "source": [
    "# SQL Code Generation"
   ]
  },
  {
   "cell_type": "code",
   "execution_count": 6,
   "metadata": {},
   "outputs": [],
   "source": [
    "\n",
    "test_ws_sql_gen = function(mod) {\n",
    "    WS_URL = \"https://sklearn2sql.herokuapp.com/model\"\n",
    "    WS_URL = \"http://localhost:1888/model\"\n",
    "    model_serialized <- serialize(mod, NULL)\n",
    "    b64_data = base64encode(model_serialized)\n",
    "    data = list(Name = \"xgboost_test_model\", SerializedModel = b64_data , SQLDialect = \"postgresql\" , Mode=\"caret\")\n",
    "    r = POST(WS_URL, body = data, encode = \"json\")\n",
    "    # print(r)\n",
    "    content = content(r)\n",
    "    # print(content)\n",
    "    lSQL = content$model$SQLGenrationResult[[1]]$SQL # content[\"model\"][\"SQLGenrationResult\"][0][\"SQL\"]\n",
    "    return(lSQL);\n",
    "}"
   ]
  },
  {
   "cell_type": "code",
   "execution_count": 7,
   "metadata": {
    "scrolled": false
   },
   "outputs": [
    {
     "name": "stdout",
     "output_type": "stream",
     "text": [
      "WITH \"ADS_pre_1_OUT\" AS \n",
      "(SELECT \"ADS\".\"KEY\" AS \"KEY\", \"ADS\".\"Feature_0\" AS crim, \"ADS\".\"Feature_2\" AS indus, \"ADS\".\"Feature_3\" AS chas, \"ADS\".\"Feature_4\" AS nox, \"ADS\".\"Feature_5\" AS rm, \"ADS\".\"Feature_6\" AS age, \"ADS\".\"Feature_7\" AS dis, \"ADS\".\"Feature_8\" AS rad, \"ADS\".\"Feature_10\" AS ptratio, \"ADS\".\"Feature_11\" AS b \n",
      "FROM \"INPUT_DATA\" AS \"ADS\"), \n",
      "\"DT_node_lookup\" AS \n",
      "(SELECT \"ADS_pre_1_OUT\".\"KEY\" AS \"KEY\", CASE WHEN (\"ADS_pre_1_OUT\".rm < 6.941) THEN CASE WHEN (\"ADS_pre_1_OUT\".nox >= 0.6695) THEN 4 ELSE 5 END ELSE 3 END AS node_id_2 \n",
      "FROM \"ADS_pre_1_OUT\"), \n",
      "\"DT_node_data\" AS \n",
      "(SELECT \"Values\".nid AS nid, \"Values\".\"E\" AS \"E\" \n",
      "FROM (SELECT 3 AS nid, 37.23815789473685 AS \"E\" UNION ALL SELECT 4 AS nid, 13.73917525773196 AS \"E\" UNION ALL SELECT 5 AS nid, 21.738138138138147 AS \"E\") AS \"Values\"), \n",
      "\"DT_Output\" AS \n",
      "(SELECT \"DT_node_lookup\".\"KEY\" AS \"KEY\", \"DT_node_lookup\".node_id_2 AS node_id_2, \"DT_node_data\".nid AS nid, \"DT_node_data\".\"E\" AS \"E\" \n",
      "FROM \"DT_node_lookup\" LEFT OUTER JOIN \"DT_node_data\" ON \"DT_node_lookup\".node_id_2 = \"DT_node_data\".nid)\n",
      " SELECT \"DT_Output\".\"KEY\" AS \"KEY\", \"DT_Output\".\"E\" AS \"Estimator\" \n",
      "FROM \"DT_Output\""
     ]
    }
   ],
   "source": [
    "lModelSQL = test_ws_sql_gen(model)\n",
    "cat(lModelSQL)\n"
   ]
  },
  {
   "cell_type": "code",
   "execution_count": null,
   "metadata": {},
   "outputs": [],
   "source": []
  },
  {
   "cell_type": "code",
   "execution_count": null,
   "metadata": {},
   "outputs": [],
   "source": []
  },
  {
   "cell_type": "markdown",
   "metadata": {},
   "source": [
    "# Execute the SQL Code"
   ]
  },
  {
   "cell_type": "code",
   "execution_count": 8,
   "metadata": {},
   "outputs": [
    {
     "data": {
      "text/html": [
       "0"
      ],
      "text/latex": [
       "0"
      ],
      "text/markdown": [
       "0"
      ],
      "text/plain": [
       "[1] 0"
      ]
     },
     "metadata": {},
     "output_type": "display_data"
    }
   ],
   "source": [
    "library(RODBC)\n",
    "conn = odbcConnect(\"pgsql\", uid=\"db\", pwd=\"db\", case=\"nochange\")\n",
    "odbcSetAutoCommit(conn , autoCommit = TRUE)"
   ]
  },
  {
   "cell_type": "code",
   "execution_count": 9,
   "metadata": {
    "scrolled": true
   },
   "outputs": [],
   "source": [
    "df_sql = dataset\n",
    "names(df_sql) = sprintf(\"Feature_%d\",0:(ncol(df_sql)-1))\n",
    "df_sql$KEY = seq.int(nrow(dataset))\n",
    "\n",
    "sqlDrop(conn , \"INPUT_DATA\" , errors = FALSE)\n",
    "sqlSave(conn, df_sql, tablename = \"INPUT_DATA\", verbose = FALSE)\n",
    "\n",
    "# df_sql"
   ]
  },
  {
   "cell_type": "code",
   "execution_count": 10,
   "metadata": {},
   "outputs": [
    {
     "data": {
      "text/html": [
       "<ol class=list-inline>\n",
       "\t<li>'Feature_0'</li>\n",
       "\t<li>'Feature_1'</li>\n",
       "\t<li>'Feature_2'</li>\n",
       "\t<li>'Feature_3'</li>\n",
       "\t<li>'Feature_4'</li>\n",
       "\t<li>'Feature_5'</li>\n",
       "\t<li>'Feature_6'</li>\n",
       "\t<li>'Feature_7'</li>\n",
       "\t<li>'Feature_8'</li>\n",
       "\t<li>'Feature_9'</li>\n",
       "\t<li>'Feature_10'</li>\n",
       "\t<li>'Feature_11'</li>\n",
       "\t<li>'Feature_12'</li>\n",
       "\t<li>'Feature_13'</li>\n",
       "\t<li>'KEY'</li>\n",
       "</ol>\n"
      ],
      "text/latex": [
       "\\begin{enumerate*}\n",
       "\\item 'Feature\\_0'\n",
       "\\item 'Feature\\_1'\n",
       "\\item 'Feature\\_2'\n",
       "\\item 'Feature\\_3'\n",
       "\\item 'Feature\\_4'\n",
       "\\item 'Feature\\_5'\n",
       "\\item 'Feature\\_6'\n",
       "\\item 'Feature\\_7'\n",
       "\\item 'Feature\\_8'\n",
       "\\item 'Feature\\_9'\n",
       "\\item 'Feature\\_10'\n",
       "\\item 'Feature\\_11'\n",
       "\\item 'Feature\\_12'\n",
       "\\item 'Feature\\_13'\n",
       "\\item 'KEY'\n",
       "\\end{enumerate*}\n"
      ],
      "text/markdown": [
       "1. 'Feature_0'\n",
       "2. 'Feature_1'\n",
       "3. 'Feature_2'\n",
       "4. 'Feature_3'\n",
       "5. 'Feature_4'\n",
       "6. 'Feature_5'\n",
       "7. 'Feature_6'\n",
       "8. 'Feature_7'\n",
       "9. 'Feature_8'\n",
       "10. 'Feature_9'\n",
       "11. 'Feature_10'\n",
       "12. 'Feature_11'\n",
       "13. 'Feature_12'\n",
       "14. 'Feature_13'\n",
       "15. 'KEY'\n",
       "\n",
       "\n"
      ],
      "text/plain": [
       " [1] \"Feature_0\"  \"Feature_1\"  \"Feature_2\"  \"Feature_3\"  \"Feature_4\" \n",
       " [6] \"Feature_5\"  \"Feature_6\"  \"Feature_7\"  \"Feature_8\"  \"Feature_9\" \n",
       "[11] \"Feature_10\" \"Feature_11\" \"Feature_12\" \"Feature_13\" \"KEY\"       "
      ]
     },
     "metadata": {},
     "output_type": "display_data"
    }
   ],
   "source": [
    "colnames(df_sql)\n",
    "# odbcGetInfo(conn)\n",
    "# sqlTables(conn)"
   ]
  },
  {
   "cell_type": "code",
   "execution_count": 11,
   "metadata": {},
   "outputs": [
    {
     "data": {
      "text/html": [
       "<table>\n",
       "<thead><tr><th scope=col>KEY</th><th scope=col>Estimator</th></tr></thead>\n",
       "<tbody>\n",
       "\t<tr><td>1       </td><td>21.73814</td></tr>\n",
       "\t<tr><td>2       </td><td>21.73814</td></tr>\n",
       "\t<tr><td>3       </td><td>37.23816</td></tr>\n",
       "\t<tr><td>4       </td><td>37.23816</td></tr>\n",
       "\t<tr><td>5       </td><td>37.23816</td></tr>\n",
       "\t<tr><td>6       </td><td>21.73814</td></tr>\n",
       "</tbody>\n",
       "</table>\n"
      ],
      "text/latex": [
       "\\begin{tabular}{r|ll}\n",
       " KEY & Estimator\\\\\n",
       "\\hline\n",
       "\t 1        & 21.73814\\\\\n",
       "\t 2        & 21.73814\\\\\n",
       "\t 3        & 37.23816\\\\\n",
       "\t 4        & 37.23816\\\\\n",
       "\t 5        & 37.23816\\\\\n",
       "\t 6        & 21.73814\\\\\n",
       "\\end{tabular}\n"
      ],
      "text/markdown": [
       "\n",
       "KEY | Estimator | \n",
       "|---|---|---|---|---|---|\n",
       "| 1        | 21.73814 | \n",
       "| 2        | 21.73814 | \n",
       "| 3        | 37.23816 | \n",
       "| 4        | 37.23816 | \n",
       "| 5        | 37.23816 | \n",
       "| 6        | 21.73814 | \n",
       "\n",
       "\n"
      ],
      "text/plain": [
       "  KEY Estimator\n",
       "1 1   21.73814 \n",
       "2 2   21.73814 \n",
       "3 3   37.23816 \n",
       "4 4   37.23816 \n",
       "5 5   37.23816 \n",
       "6 6   21.73814 "
      ]
     },
     "metadata": {},
     "output_type": "display_data"
    }
   ],
   "source": [
    "df_sql_out = sqlQuery(conn, lModelSQL)\n",
    "head(df_sql_out[order(df_sql_out$KEY),])"
   ]
  },
  {
   "cell_type": "code",
   "execution_count": 12,
   "metadata": {},
   "outputs": [
    {
     "data": {
      "text/html": [
       "<table>\n",
       "<thead><tr><th scope=col>KEY</th><th scope=col>Estimator</th></tr></thead>\n",
       "<tbody>\n",
       "\t<tr><td> 1      </td><td>21.73814</td></tr>\n",
       "\t<tr><td> 2      </td><td>21.73814</td></tr>\n",
       "\t<tr><td> 3      </td><td>37.23816</td></tr>\n",
       "\t<tr><td> 4      </td><td>37.23816</td></tr>\n",
       "\t<tr><td> 5      </td><td>37.23816</td></tr>\n",
       "\t<tr><td> 6      </td><td>21.73814</td></tr>\n",
       "\t<tr><td> 7      </td><td>21.73814</td></tr>\n",
       "\t<tr><td> 8      </td><td>21.73814</td></tr>\n",
       "\t<tr><td> 9      </td><td>21.73814</td></tr>\n",
       "\t<tr><td>10      </td><td>21.73814</td></tr>\n",
       "\t<tr><td>11      </td><td>21.73814</td></tr>\n",
       "\t<tr><td>12      </td><td>21.73814</td></tr>\n",
       "\t<tr><td>13      </td><td>21.73814</td></tr>\n",
       "\t<tr><td>14      </td><td>21.73814</td></tr>\n",
       "\t<tr><td>15      </td><td>21.73814</td></tr>\n",
       "\t<tr><td>16      </td><td>21.73814</td></tr>\n",
       "\t<tr><td>17      </td><td>21.73814</td></tr>\n",
       "\t<tr><td>18      </td><td>21.73814</td></tr>\n",
       "\t<tr><td>19      </td><td>21.73814</td></tr>\n",
       "\t<tr><td>20      </td><td>21.73814</td></tr>\n",
       "\t<tr><td>21      </td><td>21.73814</td></tr>\n",
       "\t<tr><td>22      </td><td>21.73814</td></tr>\n",
       "\t<tr><td>23      </td><td>21.73814</td></tr>\n",
       "\t<tr><td>24      </td><td>21.73814</td></tr>\n",
       "\t<tr><td>25      </td><td>21.73814</td></tr>\n",
       "\t<tr><td>26      </td><td>21.73814</td></tr>\n",
       "\t<tr><td>27      </td><td>21.73814</td></tr>\n",
       "\t<tr><td>28      </td><td>21.73814</td></tr>\n",
       "\t<tr><td>29      </td><td>21.73814</td></tr>\n",
       "\t<tr><td>30      </td><td>21.73814</td></tr>\n",
       "\t<tr><td>⋮</td><td>⋮</td></tr>\n",
       "\t<tr><td>477     </td><td>21.73814</td></tr>\n",
       "\t<tr><td>478     </td><td>21.73814</td></tr>\n",
       "\t<tr><td>479     </td><td>21.73814</td></tr>\n",
       "\t<tr><td>480     </td><td>21.73814</td></tr>\n",
       "\t<tr><td>481     </td><td>21.73814</td></tr>\n",
       "\t<tr><td>482     </td><td>21.73814</td></tr>\n",
       "\t<tr><td>483     </td><td>37.23816</td></tr>\n",
       "\t<tr><td>484     </td><td>21.73814</td></tr>\n",
       "\t<tr><td>485     </td><td>21.73814</td></tr>\n",
       "\t<tr><td>486     </td><td>21.73814</td></tr>\n",
       "\t<tr><td>487     </td><td>21.73814</td></tr>\n",
       "\t<tr><td>488     </td><td>21.73814</td></tr>\n",
       "\t<tr><td>489     </td><td>21.73814</td></tr>\n",
       "\t<tr><td>490     </td><td>21.73814</td></tr>\n",
       "\t<tr><td>491     </td><td>21.73814</td></tr>\n",
       "\t<tr><td>492     </td><td>21.73814</td></tr>\n",
       "\t<tr><td>493     </td><td>21.73814</td></tr>\n",
       "\t<tr><td>494     </td><td>21.73814</td></tr>\n",
       "\t<tr><td>495     </td><td>21.73814</td></tr>\n",
       "\t<tr><td>496     </td><td>21.73814</td></tr>\n",
       "\t<tr><td>497     </td><td>21.73814</td></tr>\n",
       "\t<tr><td>498     </td><td>21.73814</td></tr>\n",
       "\t<tr><td>499     </td><td>21.73814</td></tr>\n",
       "\t<tr><td>500     </td><td>21.73814</td></tr>\n",
       "\t<tr><td>501     </td><td>21.73814</td></tr>\n",
       "\t<tr><td>502     </td><td>21.73814</td></tr>\n",
       "\t<tr><td>503     </td><td>21.73814</td></tr>\n",
       "\t<tr><td>504     </td><td>37.23816</td></tr>\n",
       "\t<tr><td>505     </td><td>21.73814</td></tr>\n",
       "\t<tr><td>506     </td><td>21.73814</td></tr>\n",
       "</tbody>\n",
       "</table>\n"
      ],
      "text/latex": [
       "\\begin{tabular}{r|ll}\n",
       " KEY & Estimator\\\\\n",
       "\\hline\n",
       "\t  1       & 21.73814\\\\\n",
       "\t  2       & 21.73814\\\\\n",
       "\t  3       & 37.23816\\\\\n",
       "\t  4       & 37.23816\\\\\n",
       "\t  5       & 37.23816\\\\\n",
       "\t  6       & 21.73814\\\\\n",
       "\t  7       & 21.73814\\\\\n",
       "\t  8       & 21.73814\\\\\n",
       "\t  9       & 21.73814\\\\\n",
       "\t 10       & 21.73814\\\\\n",
       "\t 11       & 21.73814\\\\\n",
       "\t 12       & 21.73814\\\\\n",
       "\t 13       & 21.73814\\\\\n",
       "\t 14       & 21.73814\\\\\n",
       "\t 15       & 21.73814\\\\\n",
       "\t 16       & 21.73814\\\\\n",
       "\t 17       & 21.73814\\\\\n",
       "\t 18       & 21.73814\\\\\n",
       "\t 19       & 21.73814\\\\\n",
       "\t 20       & 21.73814\\\\\n",
       "\t 21       & 21.73814\\\\\n",
       "\t 22       & 21.73814\\\\\n",
       "\t 23       & 21.73814\\\\\n",
       "\t 24       & 21.73814\\\\\n",
       "\t 25       & 21.73814\\\\\n",
       "\t 26       & 21.73814\\\\\n",
       "\t 27       & 21.73814\\\\\n",
       "\t 28       & 21.73814\\\\\n",
       "\t 29       & 21.73814\\\\\n",
       "\t 30       & 21.73814\\\\\n",
       "\t ⋮ & ⋮\\\\\n",
       "\t 477      & 21.73814\\\\\n",
       "\t 478      & 21.73814\\\\\n",
       "\t 479      & 21.73814\\\\\n",
       "\t 480      & 21.73814\\\\\n",
       "\t 481      & 21.73814\\\\\n",
       "\t 482      & 21.73814\\\\\n",
       "\t 483      & 37.23816\\\\\n",
       "\t 484      & 21.73814\\\\\n",
       "\t 485      & 21.73814\\\\\n",
       "\t 486      & 21.73814\\\\\n",
       "\t 487      & 21.73814\\\\\n",
       "\t 488      & 21.73814\\\\\n",
       "\t 489      & 21.73814\\\\\n",
       "\t 490      & 21.73814\\\\\n",
       "\t 491      & 21.73814\\\\\n",
       "\t 492      & 21.73814\\\\\n",
       "\t 493      & 21.73814\\\\\n",
       "\t 494      & 21.73814\\\\\n",
       "\t 495      & 21.73814\\\\\n",
       "\t 496      & 21.73814\\\\\n",
       "\t 497      & 21.73814\\\\\n",
       "\t 498      & 21.73814\\\\\n",
       "\t 499      & 21.73814\\\\\n",
       "\t 500      & 21.73814\\\\\n",
       "\t 501      & 21.73814\\\\\n",
       "\t 502      & 21.73814\\\\\n",
       "\t 503      & 21.73814\\\\\n",
       "\t 504      & 37.23816\\\\\n",
       "\t 505      & 21.73814\\\\\n",
       "\t 506      & 21.73814\\\\\n",
       "\\end{tabular}\n"
      ],
      "text/markdown": [
       "\n",
       "KEY | Estimator | \n",
       "|---|---|---|---|---|---|---|---|---|---|---|---|---|---|---|---|---|---|---|---|---|---|---|---|---|---|---|---|---|---|---|---|---|---|---|---|---|---|---|---|---|---|---|---|---|---|---|---|---|---|---|---|---|---|---|---|---|---|---|---|---|\n",
       "|  1       | 21.73814 | \n",
       "|  2       | 21.73814 | \n",
       "|  3       | 37.23816 | \n",
       "|  4       | 37.23816 | \n",
       "|  5       | 37.23816 | \n",
       "|  6       | 21.73814 | \n",
       "|  7       | 21.73814 | \n",
       "|  8       | 21.73814 | \n",
       "|  9       | 21.73814 | \n",
       "| 10       | 21.73814 | \n",
       "| 11       | 21.73814 | \n",
       "| 12       | 21.73814 | \n",
       "| 13       | 21.73814 | \n",
       "| 14       | 21.73814 | \n",
       "| 15       | 21.73814 | \n",
       "| 16       | 21.73814 | \n",
       "| 17       | 21.73814 | \n",
       "| 18       | 21.73814 | \n",
       "| 19       | 21.73814 | \n",
       "| 20       | 21.73814 | \n",
       "| 21       | 21.73814 | \n",
       "| 22       | 21.73814 | \n",
       "| 23       | 21.73814 | \n",
       "| 24       | 21.73814 | \n",
       "| 25       | 21.73814 | \n",
       "| 26       | 21.73814 | \n",
       "| 27       | 21.73814 | \n",
       "| 28       | 21.73814 | \n",
       "| 29       | 21.73814 | \n",
       "| 30       | 21.73814 | \n",
       "| ⋮ | ⋮ | \n",
       "| 477      | 21.73814 | \n",
       "| 478      | 21.73814 | \n",
       "| 479      | 21.73814 | \n",
       "| 480      | 21.73814 | \n",
       "| 481      | 21.73814 | \n",
       "| 482      | 21.73814 | \n",
       "| 483      | 37.23816 | \n",
       "| 484      | 21.73814 | \n",
       "| 485      | 21.73814 | \n",
       "| 486      | 21.73814 | \n",
       "| 487      | 21.73814 | \n",
       "| 488      | 21.73814 | \n",
       "| 489      | 21.73814 | \n",
       "| 490      | 21.73814 | \n",
       "| 491      | 21.73814 | \n",
       "| 492      | 21.73814 | \n",
       "| 493      | 21.73814 | \n",
       "| 494      | 21.73814 | \n",
       "| 495      | 21.73814 | \n",
       "| 496      | 21.73814 | \n",
       "| 497      | 21.73814 | \n",
       "| 498      | 21.73814 | \n",
       "| 499      | 21.73814 | \n",
       "| 500      | 21.73814 | \n",
       "| 501      | 21.73814 | \n",
       "| 502      | 21.73814 | \n",
       "| 503      | 21.73814 | \n",
       "| 504      | 37.23816 | \n",
       "| 505      | 21.73814 | \n",
       "| 506      | 21.73814 | \n",
       "\n",
       "\n"
      ],
      "text/plain": [
       "    KEY Estimator\n",
       "1    1  21.73814 \n",
       "2    2  21.73814 \n",
       "3    3  37.23816 \n",
       "4    4  37.23816 \n",
       "5    5  37.23816 \n",
       "6    6  21.73814 \n",
       "7    7  21.73814 \n",
       "8    8  21.73814 \n",
       "9    9  21.73814 \n",
       "10  10  21.73814 \n",
       "11  11  21.73814 \n",
       "12  12  21.73814 \n",
       "13  13  21.73814 \n",
       "14  14  21.73814 \n",
       "15  15  21.73814 \n",
       "16  16  21.73814 \n",
       "17  17  21.73814 \n",
       "18  18  21.73814 \n",
       "19  19  21.73814 \n",
       "20  20  21.73814 \n",
       "21  21  21.73814 \n",
       "22  22  21.73814 \n",
       "23  23  21.73814 \n",
       "24  24  21.73814 \n",
       "25  25  21.73814 \n",
       "26  26  21.73814 \n",
       "27  27  21.73814 \n",
       "28  28  21.73814 \n",
       "29  29  21.73814 \n",
       "30  30  21.73814 \n",
       "⋮   ⋮   ⋮        \n",
       "477 477 21.73814 \n",
       "478 478 21.73814 \n",
       "479 479 21.73814 \n",
       "480 480 21.73814 \n",
       "481 481 21.73814 \n",
       "482 482 21.73814 \n",
       "483 483 37.23816 \n",
       "484 484 21.73814 \n",
       "485 485 21.73814 \n",
       "486 486 21.73814 \n",
       "487 487 21.73814 \n",
       "488 488 21.73814 \n",
       "489 489 21.73814 \n",
       "490 490 21.73814 \n",
       "491 491 21.73814 \n",
       "492 492 21.73814 \n",
       "493 493 21.73814 \n",
       "494 494 21.73814 \n",
       "495 495 21.73814 \n",
       "496 496 21.73814 \n",
       "497 497 21.73814 \n",
       "498 498 21.73814 \n",
       "499 499 21.73814 \n",
       "500 500 21.73814 \n",
       "501 501 21.73814 \n",
       "502 502 21.73814 \n",
       "503 503 21.73814 \n",
       "504 504 37.23816 \n",
       "505 505 21.73814 \n",
       "506 506 21.73814 "
      ]
     },
     "metadata": {},
     "output_type": "display_data"
    }
   ],
   "source": [
    "df_sql_out"
   ]
  },
  {
   "cell_type": "markdown",
   "metadata": {},
   "source": [
    "# R RPART Output"
   ]
  },
  {
   "cell_type": "code",
   "execution_count": 13,
   "metadata": {},
   "outputs": [
    {
     "data": {
      "text/html": [
       "<table>\n",
       "<thead><tr><th scope=col>Estimator</th><th scope=col>KEY</th></tr></thead>\n",
       "<tbody>\n",
       "\t<tr><td>21.73814</td><td>1       </td></tr>\n",
       "\t<tr><td>21.73814</td><td>2       </td></tr>\n",
       "\t<tr><td>37.23816</td><td>3       </td></tr>\n",
       "\t<tr><td>37.23816</td><td>4       </td></tr>\n",
       "\t<tr><td>37.23816</td><td>5       </td></tr>\n",
       "\t<tr><td>21.73814</td><td>6       </td></tr>\n",
       "</tbody>\n",
       "</table>\n"
      ],
      "text/latex": [
       "\\begin{tabular}{r|ll}\n",
       " Estimator & KEY\\\\\n",
       "\\hline\n",
       "\t 21.73814 & 1       \\\\\n",
       "\t 21.73814 & 2       \\\\\n",
       "\t 37.23816 & 3       \\\\\n",
       "\t 37.23816 & 4       \\\\\n",
       "\t 37.23816 & 5       \\\\\n",
       "\t 21.73814 & 6       \\\\\n",
       "\\end{tabular}\n"
      ],
      "text/markdown": [
       "\n",
       "Estimator | KEY | \n",
       "|---|---|---|---|---|---|\n",
       "| 21.73814 | 1        | \n",
       "| 21.73814 | 2        | \n",
       "| 37.23816 | 3        | \n",
       "| 37.23816 | 4        | \n",
       "| 37.23816 | 5        | \n",
       "| 21.73814 | 6        | \n",
       "\n",
       "\n"
      ],
      "text/plain": [
       "  Estimator KEY\n",
       "1 21.73814  1  \n",
       "2 21.73814  2  \n",
       "3 37.23816  3  \n",
       "4 37.23816  4  \n",
       "5 37.23816  5  \n",
       "6 21.73814  6  "
      ]
     },
     "metadata": {},
     "output_type": "display_data"
    }
   ],
   "source": [
    "estimator  =  predict(model, dataset, type = \"raw\")\n",
    "df_r_out = data.frame(estimator)\n",
    "names(df_r_out) = c(\"Estimator\")\n",
    "\n",
    "df_r_out$KEY = seq.int(nrow(dataset))\n",
    "head(df_r_out)\n"
   ]
  },
  {
   "cell_type": "markdown",
   "metadata": {},
   "source": [
    "# Compare R and SQL output"
   ]
  },
  {
   "cell_type": "code",
   "execution_count": 14,
   "metadata": {},
   "outputs": [
    {
     "data": {
      "text/html": [
       "<table>\n",
       "<thead><tr><th scope=col>KEY</th><th scope=col>Estimator_1</th><th scope=col>Estimator_2</th></tr></thead>\n",
       "<tbody>\n",
       "\t<tr><td>1       </td><td>21.73814</td><td>21.73814</td></tr>\n",
       "\t<tr><td>2       </td><td>21.73814</td><td>21.73814</td></tr>\n",
       "\t<tr><td>3       </td><td>37.23816</td><td>37.23816</td></tr>\n",
       "\t<tr><td>4       </td><td>37.23816</td><td>37.23816</td></tr>\n",
       "\t<tr><td>5       </td><td>37.23816</td><td>37.23816</td></tr>\n",
       "\t<tr><td>6       </td><td>21.73814</td><td>21.73814</td></tr>\n",
       "</tbody>\n",
       "</table>\n"
      ],
      "text/latex": [
       "\\begin{tabular}{r|lll}\n",
       " KEY & Estimator\\_1 & Estimator\\_2\\\\\n",
       "\\hline\n",
       "\t 1        & 21.73814 & 21.73814\\\\\n",
       "\t 2        & 21.73814 & 21.73814\\\\\n",
       "\t 3        & 37.23816 & 37.23816\\\\\n",
       "\t 4        & 37.23816 & 37.23816\\\\\n",
       "\t 5        & 37.23816 & 37.23816\\\\\n",
       "\t 6        & 21.73814 & 21.73814\\\\\n",
       "\\end{tabular}\n"
      ],
      "text/markdown": [
       "\n",
       "KEY | Estimator_1 | Estimator_2 | \n",
       "|---|---|---|---|---|---|\n",
       "| 1        | 21.73814 | 21.73814 | \n",
       "| 2        | 21.73814 | 21.73814 | \n",
       "| 3        | 37.23816 | 37.23816 | \n",
       "| 4        | 37.23816 | 37.23816 | \n",
       "| 5        | 37.23816 | 37.23816 | \n",
       "| 6        | 21.73814 | 21.73814 | \n",
       "\n",
       "\n"
      ],
      "text/plain": [
       "  KEY Estimator_1 Estimator_2\n",
       "1 1   21.73814    21.73814   \n",
       "2 2   21.73814    21.73814   \n",
       "3 3   37.23816    37.23816   \n",
       "4 4   37.23816    37.23816   \n",
       "5 5   37.23816    37.23816   \n",
       "6 6   21.73814    21.73814   "
      ]
     },
     "metadata": {},
     "output_type": "display_data"
    }
   ],
   "source": [
    "df_merge = merge(x = df_r_out, y = df_sql_out, by = \"KEY\", all = TRUE, , suffixes = c(\"_1\",\"_2\"))\n",
    "head(df_merge)"
   ]
  },
  {
   "cell_type": "code",
   "execution_count": 15,
   "metadata": {},
   "outputs": [
    {
     "data": {
      "text/html": [
       "<table>\n",
       "<thead><tr><th scope=col>KEY</th><th scope=col>Estimator_1</th><th scope=col>Estimator_2</th><th scope=col>Error</th><th scope=col>AbsError</th></tr></thead>\n",
       "<tbody>\n",
       "\t<tr><td>1           </td><td>21.73814    </td><td>21.73814    </td><td>7.105427e-15</td><td>7.105427e-15</td></tr>\n",
       "\t<tr><td>2           </td><td>21.73814    </td><td>21.73814    </td><td>7.105427e-15</td><td>7.105427e-15</td></tr>\n",
       "\t<tr><td>3           </td><td>37.23816    </td><td>37.23816    </td><td>0.000000e+00</td><td>0.000000e+00</td></tr>\n",
       "\t<tr><td>4           </td><td>37.23816    </td><td>37.23816    </td><td>0.000000e+00</td><td>0.000000e+00</td></tr>\n",
       "\t<tr><td>5           </td><td>37.23816    </td><td>37.23816    </td><td>0.000000e+00</td><td>0.000000e+00</td></tr>\n",
       "\t<tr><td>6           </td><td>21.73814    </td><td>21.73814    </td><td>7.105427e-15</td><td>7.105427e-15</td></tr>\n",
       "</tbody>\n",
       "</table>\n"
      ],
      "text/latex": [
       "\\begin{tabular}{r|lllll}\n",
       " KEY & Estimator\\_1 & Estimator\\_2 & Error & AbsError\\\\\n",
       "\\hline\n",
       "\t 1            & 21.73814     & 21.73814     & 7.105427e-15 & 7.105427e-15\\\\\n",
       "\t 2            & 21.73814     & 21.73814     & 7.105427e-15 & 7.105427e-15\\\\\n",
       "\t 3            & 37.23816     & 37.23816     & 0.000000e+00 & 0.000000e+00\\\\\n",
       "\t 4            & 37.23816     & 37.23816     & 0.000000e+00 & 0.000000e+00\\\\\n",
       "\t 5            & 37.23816     & 37.23816     & 0.000000e+00 & 0.000000e+00\\\\\n",
       "\t 6            & 21.73814     & 21.73814     & 7.105427e-15 & 7.105427e-15\\\\\n",
       "\\end{tabular}\n"
      ],
      "text/markdown": [
       "\n",
       "KEY | Estimator_1 | Estimator_2 | Error | AbsError | \n",
       "|---|---|---|---|---|---|\n",
       "| 1            | 21.73814     | 21.73814     | 7.105427e-15 | 7.105427e-15 | \n",
       "| 2            | 21.73814     | 21.73814     | 7.105427e-15 | 7.105427e-15 | \n",
       "| 3            | 37.23816     | 37.23816     | 0.000000e+00 | 0.000000e+00 | \n",
       "| 4            | 37.23816     | 37.23816     | 0.000000e+00 | 0.000000e+00 | \n",
       "| 5            | 37.23816     | 37.23816     | 0.000000e+00 | 0.000000e+00 | \n",
       "| 6            | 21.73814     | 21.73814     | 7.105427e-15 | 7.105427e-15 | \n",
       "\n",
       "\n"
      ],
      "text/plain": [
       "  KEY Estimator_1 Estimator_2 Error        AbsError    \n",
       "1 1   21.73814    21.73814    7.105427e-15 7.105427e-15\n",
       "2 2   21.73814    21.73814    7.105427e-15 7.105427e-15\n",
       "3 3   37.23816    37.23816    0.000000e+00 0.000000e+00\n",
       "4 4   37.23816    37.23816    0.000000e+00 0.000000e+00\n",
       "5 5   37.23816    37.23816    0.000000e+00 0.000000e+00\n",
       "6 6   21.73814    21.73814    7.105427e-15 7.105427e-15"
      ]
     },
     "metadata": {},
     "output_type": "display_data"
    }
   ],
   "source": [
    "df_merge$Error = df_merge$Estimator_1 - df_merge$Estimator_2\n",
    "df_merge$AbsError = abs(df_merge$Error)\n",
    "head(df_merge)\n"
   ]
  },
  {
   "cell_type": "code",
   "execution_count": 16,
   "metadata": {},
   "outputs": [
    {
     "data": {
      "text/html": [
       "<table>\n",
       "<thead><tr><th scope=col>KEY</th><th scope=col>Estimator_1</th><th scope=col>Estimator_2</th><th scope=col>Error</th><th scope=col>AbsError</th></tr></thead>\n",
       "<tbody>\n",
       "</tbody>\n",
       "</table>\n"
      ],
      "text/latex": [
       "\\begin{tabular}{r|lllll}\n",
       " KEY & Estimator\\_1 & Estimator\\_2 & Error & AbsError\\\\\n",
       "\\hline\n",
       "\\end{tabular}\n"
      ],
      "text/markdown": [
       "\n",
       "KEY | Estimator_1 | Estimator_2 | Error | AbsError | \n",
       "||\n",
       "\n",
       "\n"
      ],
      "text/plain": [
       "     KEY Estimator_1 Estimator_2 Error AbsError"
      ]
     },
     "metadata": {},
     "output_type": "display_data"
    }
   ],
   "source": [
    "df_merge_largest_errors = df_merge[df_merge$AbsError > 0.0001,]\n",
    "head(df_merge_largest_errors)"
   ]
  },
  {
   "cell_type": "code",
   "execution_count": 17,
   "metadata": {},
   "outputs": [],
   "source": [
    "stopifnot(nrow(df_merge_largest_errors) == 0)"
   ]
  },
  {
   "cell_type": "code",
   "execution_count": null,
   "metadata": {},
   "outputs": [],
   "source": []
  },
  {
   "cell_type": "code",
   "execution_count": 18,
   "metadata": {},
   "outputs": [
    {
     "data": {
      "text/plain": [
       "      KEY          Estimator    \n",
       " Min.   :  1.0   Min.   :13.74  \n",
       " 1st Qu.:127.2   1st Qu.:21.74  \n",
       " Median :253.5   Median :21.74  \n",
       " Mean   :253.5   Mean   :22.53  \n",
       " 3rd Qu.:379.8   3rd Qu.:21.74  \n",
       " Max.   :506.0   Max.   :37.24  "
      ]
     },
     "metadata": {},
     "output_type": "display_data"
    }
   ],
   "source": [
    "summary(df_sql_out)"
   ]
  },
  {
   "cell_type": "code",
   "execution_count": 19,
   "metadata": {},
   "outputs": [
    {
     "data": {
      "text/plain": [
       "   Estimator          KEY       \n",
       " Min.   :13.74   Min.   :  1.0  \n",
       " 1st Qu.:21.74   1st Qu.:127.2  \n",
       " Median :21.74   Median :253.5  \n",
       " Mean   :22.53   Mean   :253.5  \n",
       " 3rd Qu.:21.74   3rd Qu.:379.8  \n",
       " Max.   :37.24   Max.   :506.0  "
      ]
     },
     "metadata": {},
     "output_type": "display_data"
    }
   ],
   "source": [
    "summary(df_r_out)"
   ]
  },
  {
   "cell_type": "code",
   "execution_count": 20,
   "metadata": {},
   "outputs": [
    {
     "data": {
      "text/plain": [
       "      KEY         Estimator_1     Estimator_2        Error          \n",
       " Min.   :  1.0   Min.   :13.74   Min.   :13.74   Min.   :0.000e+00  \n",
       " 1st Qu.:127.2   1st Qu.:21.74   1st Qu.:21.74   1st Qu.:3.553e-15  \n",
       " Median :253.5   Median :21.74   Median :21.74   Median :7.105e-15  \n",
       " Mean   :253.5   Mean   :22.53   Mean   :22.53   Mean   :5.357e-15  \n",
       " 3rd Qu.:379.8   3rd Qu.:21.74   3rd Qu.:21.74   3rd Qu.:7.105e-15  \n",
       " Max.   :506.0   Max.   :37.24   Max.   :37.24   Max.   :7.105e-15  \n",
       "    AbsError        \n",
       " Min.   :0.000e+00  \n",
       " 1st Qu.:3.553e-15  \n",
       " Median :7.105e-15  \n",
       " Mean   :5.357e-15  \n",
       " 3rd Qu.:7.105e-15  \n",
       " Max.   :7.105e-15  "
      ]
     },
     "metadata": {},
     "output_type": "display_data"
    }
   ],
   "source": [
    "summary(df_merge)"
   ]
  },
  {
   "cell_type": "code",
   "execution_count": 21,
   "metadata": {},
   "outputs": [
    {
     "data": {
      "text/plain": [
       "n= 506 \n",
       "\n",
       "node), split, n, deviance, yval\n",
       "      * denotes terminal node\n",
       "\n",
       "1) root 506 42716.300 22.53281  \n",
       "  2) rm< 6.941 430 17317.320 19.93372  \n",
       "    4) nox>=0.6695 97  2214.391 13.73918 *\n",
       "    5) nox< 0.6695 333 10296.590 21.73814 *\n",
       "  3) rm>=6.941 76  6059.419 37.23816 *"
      ]
     },
     "metadata": {},
     "output_type": "display_data"
    }
   ],
   "source": [
    "model$finalModel"
   ]
  },
  {
   "cell_type": "code",
   "execution_count": 22,
   "metadata": {},
   "outputs": [],
   "source": [
    "prep = model$preProcess"
   ]
  },
  {
   "cell_type": "code",
   "execution_count": 23,
   "metadata": {},
   "outputs": [
    {
     "data": {
      "text/plain": [
       "CART \n",
       "\n",
       "506 samples\n",
       " 14 predictor\n",
       "\n",
       "Pre-processing: remove (4) \n",
       "Resampling: Bootstrapped (25 reps) \n",
       "Summary of sample sizes: 506, 506, 506, 506, 506, 506, ... \n",
       "Resampling results across tuning parameters:\n",
       "\n",
       "  cp          RMSE      Rsquared   MAE     \n",
       "  0.07165784  6.238739  0.5470006  4.330039\n",
       "  0.11251782  6.804286  0.4640030  4.861857\n",
       "  0.45274420  8.103048  0.3823074  5.877665\n",
       "\n",
       "RMSE was used to select the optimal model using the smallest value.\n",
       "The final value used for the model was cp = 0.07165784."
      ]
     },
     "metadata": {},
     "output_type": "display_data"
    }
   ],
   "source": [
    "model"
   ]
  },
  {
   "cell_type": "code",
   "execution_count": 24,
   "metadata": {},
   "outputs": [
    {
     "data": {
      "text/html": [
       "<ol class=list-inline>\n",
       "\t<li>'zn'</li>\n",
       "\t<li>'lstat'</li>\n",
       "\t<li>'tax'</li>\n",
       "\t<li>'b_corr'</li>\n",
       "</ol>\n"
      ],
      "text/latex": [
       "\\begin{enumerate*}\n",
       "\\item 'zn'\n",
       "\\item 'lstat'\n",
       "\\item 'tax'\n",
       "\\item 'b\\_corr'\n",
       "\\end{enumerate*}\n"
      ],
      "text/markdown": [
       "1. 'zn'\n",
       "2. 'lstat'\n",
       "3. 'tax'\n",
       "4. 'b_corr'\n",
       "\n",
       "\n"
      ],
      "text/plain": [
       "[1] \"zn\"     \"lstat\"  \"tax\"    \"b_corr\""
      ]
     },
     "metadata": {},
     "output_type": "display_data"
    }
   ],
   "source": [
    "prep$method$remove"
   ]
  },
  {
   "cell_type": "code",
   "execution_count": 25,
   "metadata": {},
   "outputs": [
    {
     "data": {
      "text/html": [
       "'character'"
      ],
      "text/latex": [
       "'character'"
      ],
      "text/markdown": [
       "'character'"
      ],
      "text/plain": [
       "[1] \"character\""
      ]
     },
     "metadata": {},
     "output_type": "display_data"
    }
   ],
   "source": [
    "class(prep$method$remove)"
   ]
  },
  {
   "cell_type": "code",
   "execution_count": 26,
   "metadata": {},
   "outputs": [
    {
     "data": {
      "text/html": [
       "<ol class=list-inline>\n",
       "\t<li>'ignore'</li>\n",
       "\t<li>'remove'</li>\n",
       "</ol>\n"
      ],
      "text/latex": [
       "\\begin{enumerate*}\n",
       "\\item 'ignore'\n",
       "\\item 'remove'\n",
       "\\end{enumerate*}\n"
      ],
      "text/markdown": [
       "1. 'ignore'\n",
       "2. 'remove'\n",
       "\n",
       "\n"
      ],
      "text/plain": [
       "[1] \"ignore\" \"remove\""
      ]
     },
     "metadata": {},
     "output_type": "display_data"
    }
   ],
   "source": [
    "attributes(prep$method)$names"
   ]
  },
  {
   "cell_type": "code",
   "execution_count": 27,
   "metadata": {},
   "outputs": [
    {
     "data": {
      "text/plain": [
       "Created from 506 samples and 4 variables\n",
       "\n",
       "Pre-processing:\n",
       "  - ignored (0)\n",
       "  - removed (4)\n"
      ]
     },
     "metadata": {},
     "output_type": "display_data"
    }
   ],
   "source": [
    "prep"
   ]
  },
  {
   "cell_type": "code",
   "execution_count": 28,
   "metadata": {},
   "outputs": [
    {
     "data": {
      "text/html": [
       "<dl>\n",
       "\t<dt>$ignore</dt>\n",
       "\t\t<dd></dd>\n",
       "\t<dt>$remove</dt>\n",
       "\t\t<dd><ol class=list-inline>\n",
       "\t<li>'zn'</li>\n",
       "\t<li>'lstat'</li>\n",
       "\t<li>'tax'</li>\n",
       "\t<li>'b_corr'</li>\n",
       "</ol>\n",
       "</dd>\n",
       "</dl>\n"
      ],
      "text/latex": [
       "\\begin{description}\n",
       "\\item[\\$ignore] \n",
       "\\item[\\$remove] \\begin{enumerate*}\n",
       "\\item 'zn'\n",
       "\\item 'lstat'\n",
       "\\item 'tax'\n",
       "\\item 'b\\_corr'\n",
       "\\end{enumerate*}\n",
       "\n",
       "\\end{description}\n"
      ],
      "text/markdown": [
       "$ignore\n",
       ":   \n",
       "$remove\n",
       ":   1. 'zn'\n",
       "2. 'lstat'\n",
       "3. 'tax'\n",
       "4. 'b_corr'\n",
       "\n",
       "\n",
       "\n",
       "\n",
       "\n"
      ],
      "text/plain": [
       "$ignore\n",
       "character(0)\n",
       "\n",
       "$remove\n",
       "[1] \"zn\"     \"lstat\"  \"tax\"    \"b_corr\"\n"
      ]
     },
     "metadata": {},
     "output_type": "display_data"
    }
   ],
   "source": [
    "prep$method"
   ]
  },
  {
   "cell_type": "code",
   "execution_count": null,
   "metadata": {},
   "outputs": [],
   "source": []
  }
 ],
 "metadata": {
  "kernelspec": {
   "display_name": "R",
   "language": "R",
   "name": "ir"
  },
  "language_info": {
   "codemirror_mode": "r",
   "file_extension": ".r",
   "mimetype": "text/x-r-source",
   "name": "R",
   "pygments_lexer": "r",
   "version": "3.5.2"
  }
 },
 "nbformat": 4,
 "nbformat_minor": 2
}
