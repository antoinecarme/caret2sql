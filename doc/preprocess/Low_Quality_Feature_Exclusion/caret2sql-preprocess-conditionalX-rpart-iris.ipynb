{
 "cells": [
  {
   "cell_type": "code",
   "execution_count": 1,
   "metadata": {},
   "outputs": [
    {
     "name": "stderr",
     "output_type": "stream",
     "text": [
      "\n",
      "Attaching package: ‘httr’\n",
      "\n",
      "The following object is masked from ‘package:caret’:\n",
      "\n",
      "    progress\n",
      "\n"
     ]
    }
   ],
   "source": [
    "library(caret, quiet=TRUE);\n",
    "library(base64enc)\n",
    "library(httr, quiet=TRUE)\n"
   ]
  },
  {
   "cell_type": "markdown",
   "metadata": {},
   "source": [
    "# Build a Model"
   ]
  },
  {
   "cell_type": "code",
   "execution_count": 2,
   "metadata": {},
   "outputs": [],
   "source": [
    "set.seed(1960)\n",
    "\n",
    "create_model  =  function() {\n",
    "\n",
    "    model  <- train(Species ~ ., data = iris, method = \"rpart\" , \n",
    "                    preProcess = c(\"zv\", \"nzv\", \"conditionalX\"),  \n",
    "                    trControl=trainControl(method=\"none\"))\n",
    "    \n",
    "    return(model)\n",
    "}"
   ]
  },
  {
   "cell_type": "code",
   "execution_count": 3,
   "metadata": {},
   "outputs": [
    {
     "name": "stderr",
     "output_type": "stream",
     "text": [
      "Warning message in x$.outcome <- y:\n",
      "“Coercing LHS to a list”"
     ]
    },
    {
     "ename": "ERROR",
     "evalue": "Error in x[i, , drop = FALSE]: incorrect number of dimensions\n",
     "output_type": "error",
     "traceback": [
      "Error in x[i, , drop = FALSE]: incorrect number of dimensions\nTraceback:\n",
      "1. create_model()",
      "2. train(Species ~ ., data = iris, method = \"rpart\", preProcess = c(\"zv\", \n .     \"nzv\", \"conditionalX\"), trControl = trainControl(method = \"none\"))   # at line 5-7 of file <text>",
      "3. train.formula(Species ~ ., data = iris, method = \"rpart\", preProcess = c(\"zv\", \n .     \"nzv\", \"conditionalX\"), trControl = trainControl(method = \"none\"))",
      "4. train(x, y, weights = w, ...)",
      "5. train.default(x, y, weights = w, ...)",
      "6. system.time(finalModel <- createModel(x = subset_x(x, indexFinal), \n .     y = y[indexFinal], wts = weights[indexFinal], method = models, \n .     tuneValue = bestTune, obsLevels = classLevels, pp = ppOpt, \n .     last = TRUE, classProbs = trControl$classProbs, sampling = trControl$sampling, \n .     ...))",
      "7. createModel(x = subset_x(x, indexFinal), y = y[indexFinal], wts = weights[indexFinal], \n .     method = models, tuneValue = bestTune, obsLevels = classLevels, \n .     pp = ppOpt, last = TRUE, classProbs = trControl$classProbs, \n .     sampling = trControl$sampling, ...)",
      "8. do.call(\"preProcess\", pp)",
      "9. preProcess(thresh = 0.95, k = 5, freqCut = 19, uniqueCut = 10, \n .     cutoff = 0.9, method = c(\"zv\", \"nzv\", \"conditionalX\"), x = structure(c(5.1, \n .     4.9, 4.7, 4.6, 5, 5.4, 4.6, 5, 4.4, 4.9, 5.4, 4.8, 4.8, 4.3, \n .     5.8, 5.7, 5.4, 5.1, 5.7, 5.1, 5.4, 5.1, 4.6, 5.1, 4.8, 5, \n .     5, 5.2, 5.2, 4.7, 4.8, 5.4, 5.2, 5.5, 4.9, 5, 5.5, 4.9, 4.4, \n .     5.1, 5, 4.5, 4.4, 5, 5.1, 4.8, 5.1, 4.6, 5.3, 5, 7, 6.4, \n .     6.9, 5.5, 6.5, 5.7, 6.3, 4.9, 6.6, 5.2, 5, 5.9, 6, 6.1, 5.6, \n .     6.7, 5.6, 5.8, 6.2, 5.6, 5.9, 6.1, 6.3, 6.1, 6.4, 6.6, 6.8, \n .     6.7, 6, 5.7, 5.5, 5.5, 5.8, 6, 5.4, 6, 6.7, 6.3, 5.6, 5.5, \n .     5.5, 6.1, 5.8, 5, 5.6, 5.7, 5.7, 6.2, 5.1, 5.7, 6.3, 5.8, \n .     7.1, 6.3, 6.5, 7.6, 4.9, 7.3, 6.7, 7.2, 6.5, 6.4, 6.8, 5.7, \n .     5.8, 6.4, 6.5, 7.7, 7.7, 6, 6.9, 5.6, 7.7, 6.3, 6.7, 7.2, \n .     6.2, 6.1, 6.4, 7.2, 7.4, 7.9, 6.4, 6.3, 6.1, 7.7, 6.3, 6.4, \n .     6, 6.9, 6.7, 6.9, 5.8, 6.8, 6.7, 6.7, 6.3, 6.5, 6.2, 5.9, \n .     3.5, 3, 3.2, 3.1, 3.6, 3.9, 3.4, 3.4, 2.9, 3.1, 3.7, 3.4, \n .     3, 3, 4, 4.4, 3.9, 3.5, 3.8, 3.8, 3.4, 3.7, 3.6, 3.3, 3.4, \n .     3, 3.4, 3.5, 3.4, 3.2, 3.1, 3.4, 4.1, 4.2, 3.1, 3.2, 3.5, \n .     3.6, 3, 3.4, 3.5, 2.3, 3.2, 3.5, 3.8, 3, 3.8, 3.2, 3.7, 3.3, \n .     3.2, 3.2, 3.1, 2.3, 2.8, 2.8, 3.3, 2.4, 2.9, 2.7, 2, 3, 2.2, \n .     2.9, 2.9, 3.1, 3, 2.7, 2.2, 2.5, 3.2, 2.8, 2.5, 2.8, 2.9, \n .     3, 2.8, 3, 2.9, 2.6, 2.4, 2.4, 2.7, 2.7, 3, 3.4, 3.1, 2.3, \n .     3, 2.5, 2.6, 3, 2.6, 2.3, 2.7, 3, 2.9, 2.9, 2.5, 2.8, 3.3, \n .     2.7, 3, 2.9, 3, 3, 2.5, 2.9, 2.5, 3.6, 3.2, 2.7, 3, 2.5, \n .     2.8, 3.2, 3, 3.8, 2.6, 2.2, 3.2, 2.8, 2.8, 2.7, 3.3, 3.2, \n .     2.8, 3, 2.8, 3, 2.8, 3.8, 2.8, 2.8, 2.6, 3, 3.4, 3.1, 3, \n .     3.1, 3.1, 3.1, 2.7, 3.2, 3.3, 3, 2.5, 3, 3.4, 3, 1.4, 1.4, \n .     1.3, 1.5, 1.4, 1.7, 1.4, 1.5, 1.4, 1.5, 1.5, 1.6, 1.4, 1.1, \n .     1.2, 1.5, 1.3, 1.4, 1.7, 1.5, 1.7, 1.5, 1, 1.7, 1.9, 1.6, \n .     1.6, 1.5, 1.4, 1.6, 1.6, 1.5, 1.5, 1.4, 1.5, 1.2, 1.3, 1.4, \n .     1.3, 1.5, 1.3, 1.3, 1.3, 1.6, 1.9, 1.4, 1.6, 1.4, 1.5, 1.4, \n .     4.7, 4.5, 4.9, 4, 4.6, 4.5, 4.7, 3.3, 4.6, 3.9, 3.5, 4.2, \n .     4, 4.7, 3.6, 4.4, 4.5, 4.1, 4.5, 3.9, 4.8, 4, 4.9, 4.7, 4.3, \n .     4.4, 4.8, 5, 4.5, 3.5, 3.8, 3.7, 3.9, 5.1, 4.5, 4.5, 4.7, \n .     4.4, 4.1, 4, 4.4, 4.6, 4, 3.3, 4.2, 4.2, 4.2, 4.3, 3, 4.1, \n .     6, 5.1, 5.9, 5.6, 5.8, 6.6, 4.5, 6.3, 5.8, 6.1, 5.1, 5.3, \n .     5.5, 5, 5.1, 5.3, 5.5, 6.7, 6.9, 5, 5.7, 4.9, 6.7, 4.9, 5.7, \n .     6, 4.8, 4.9, 5.6, 5.8, 6.1, 6.4, 5.6, 5.1, 5.6, 6.1, 5.6, \n .     5.5, 4.8, 5.4, 5.6, 5.1, 5.1, 5.9, 5.7, 5.2, 5, 5.2, 5.4, \n .     5.1, 0.2, 0.2, 0.2, 0.2, 0.2, 0.4, 0.3, 0.2, 0.2, 0.1, 0.2, \n .     0.2, 0.1, 0.1, 0.2, 0.4, 0.4, 0.3, 0.3, 0.3, 0.2, 0.4, 0.2, \n .     0.5, 0.2, 0.2, 0.4, 0.2, 0.2, 0.2, 0.2, 0.4, 0.1, 0.2, 0.2, \n .     0.2, 0.2, 0.1, 0.2, 0.2, 0.3, 0.3, 0.2, 0.6, 0.4, 0.3, 0.2, \n .     0.2, 0.2, 0.2, 1.4, 1.5, 1.5, 1.3, 1.5, 1.3, 1.6, 1, 1.3, \n .     1.4, 1, 1.5, 1, 1.4, 1.3, 1.4, 1.5, 1, 1.5, 1.1, 1.8, 1.3, \n .     1.5, 1.2, 1.3, 1.4, 1.4, 1.7, 1.5, 1, 1.1, 1, 1.2, 1.6, 1.5, \n .     1.6, 1.5, 1.3, 1.3, 1.3, 1.2, 1.4, 1.2, 1, 1.3, 1.2, 1.3, \n .     1.3, 1.1, 1.3, 2.5, 1.9, 2.1, 1.8, 2.2, 2.1, 1.7, 1.8, 1.8, \n .     2.5, 2, 1.9, 2.1, 2, 2.4, 2.3, 1.8, 2.2, 2.3, 1.5, 2.3, 2, \n .     2, 1.8, 2.1, 1.8, 1.8, 1.8, 2.1, 1.6, 1.9, 2, 2.2, 1.5, 1.4, \n .     2.3, 2.4, 1.8, 1.8, 2.1, 2.4, 2.3, 1.9, 2.3, 2.5, 2.3, 1.9, \n .     2, 2.3, 1.8), .Dim = c(150L, 4L), .Dimnames = list(c(\"X1\", \n .     \"X2\", \"X3\", \"X4\", \"X5\", \"X6\", \"X7\", \"X8\", \"X9\", \"X10\", \"X11\", \n .     \"X12\", \"X13\", \"X14\", \"X15\", \"X16\", \"X17\", \"X18\", \"X19\", \"X20\", \n .     \"X21\", \"X22\", \"X23\", \"X24\", \"X25\", \"X26\", \"X27\", \"X28\", \"X29\", \n .     \"X30\", \"X31\", \"X32\", \"X33\", \"X34\", \"X35\", \"X36\", \"X37\", \"X38\", \n .     \"X39\", \"X40\", \"X41\", \"X42\", \"X43\", \"X44\", \"X45\", \"X46\", \"X47\", \n .     \"X48\", \"X49\", \"X50\", \"X51\", \"X52\", \"X53\", \"X54\", \"X55\", \"X56\", \n .     \"X57\", \"X58\", \"X59\", \"X60\", \"X61\", \"X62\", \"X63\", \"X64\", \"X65\", \n .     \"X66\", \"X67\", \"X68\", \"X69\", \"X70\", \"X71\", \"X72\", \"X73\", \"X74\", \n .     \"X75\", \"X76\", \"X77\", \"X78\", \"X79\", \"X80\", \"X81\", \"X82\", \"X83\", \n .     \"X84\", \"X85\", \"X86\", \"X87\", \"X88\", \"X89\", \"X90\", \"X91\", \"X92\", \n .     \"X93\", \"X94\", \"X95\", \"X96\", \"X97\", \"X98\", \"X99\", \"X100\", \n .     \"X101\", \"X102\", \"X103\", \"X104\", \"X105\", \"X106\", \"X107\", \"X108\", \n .     \"X109\", \"X110\", \"X111\", \"X112\", \"X113\", \"X114\", \"X115\", \"X116\", \n .     \"X117\", \"X118\", \"X119\", \"X120\", \"X121\", \"X122\", \"X123\", \"X124\", \n .     \"X125\", \"X126\", \"X127\", \"X128\", \"X129\", \"X130\", \"X131\", \"X132\", \n .     \"X133\", \"X134\", \"X135\", \"X136\", \"X137\", \"X138\", \"X139\", \"X140\", \n .     \"X141\", \"X142\", \"X143\", \"X144\", \"X145\", \"X146\", \"X147\", \"X148\", \n .     \"X149\", \"X150\"), c(\"Sepal.Length\", \"Sepal.Width\", \"Petal.Length\", \n .     \"Petal.Width\"))), outcome = structure(c(`1` = 1L, `2` = 1L, \n .     `3` = 1L, `4` = 1L, `5` = 1L, `6` = 1L, `7` = 1L, `8` = 1L, \n .     `9` = 1L, `10` = 1L, `11` = 1L, `12` = 1L, `13` = 1L, `14` = 1L, \n .     `15` = 1L, `16` = 1L, `17` = 1L, `18` = 1L, `19` = 1L, `20` = 1L, \n .     `21` = 1L, `22` = 1L, `23` = 1L, `24` = 1L, `25` = 1L, `26` = 1L, \n .     `27` = 1L, `28` = 1L, `29` = 1L, `30` = 1L, `31` = 1L, `32` = 1L, \n .     `33` = 1L, `34` = 1L, `35` = 1L, `36` = 1L, `37` = 1L, `38` = 1L, \n .     `39` = 1L, `40` = 1L, `41` = 1L, `42` = 1L, `43` = 1L, `44` = 1L, \n .     `45` = 1L, `46` = 1L, `47` = 1L, `48` = 1L, `49` = 1L, `50` = 1L, \n .     `51` = 2L, `52` = 2L, `53` = 2L, `54` = 2L, `55` = 2L, `56` = 2L, \n .     `57` = 2L, `58` = 2L, `59` = 2L, `60` = 2L, `61` = 2L, `62` = 2L, \n .     `63` = 2L, `64` = 2L, `65` = 2L, `66` = 2L, `67` = 2L, `68` = 2L, \n .     `69` = 2L, `70` = 2L, `71` = 2L, `72` = 2L, `73` = 2L, `74` = 2L, \n .     `75` = 2L, `76` = 2L, `77` = 2L, `78` = 2L, `79` = 2L, `80` = 2L, \n .     `81` = 2L, `82` = 2L, `83` = 2L, `84` = 2L, `85` = 2L, `86` = 2L, \n .     `87` = 2L, `88` = 2L, `89` = 2L, `90` = 2L, `91` = 2L, `92` = 2L, \n .     `93` = 2L, `94` = 2L, `95` = 2L, `96` = 2L, `97` = 2L, `98` = 2L, \n .     `99` = 2L, `100` = 2L, `101` = 3L, `102` = 3L, `103` = 3L, \n .     `104` = 3L, `105` = 3L, `106` = 3L, `107` = 3L, `108` = 3L, \n .     `109` = 3L, `110` = 3L, `111` = 3L, `112` = 3L, `113` = 3L, \n .     `114` = 3L, `115` = 3L, `116` = 3L, `117` = 3L, `118` = 3L, \n .     `119` = 3L, `120` = 3L, `121` = 3L, `122` = 3L, `123` = 3L, \n .     `124` = 3L, `125` = 3L, `126` = 3L, `127` = 3L, `128` = 3L, \n .     `129` = 3L, `130` = 3L, `131` = 3L, `132` = 3L, `133` = 3L, \n .     `134` = 3L, `135` = 3L, `136` = 3L, `137` = 3L, `138` = 3L, \n .     `139` = 3L, `140` = 3L, `141` = 3L, `142` = 3L, `143` = 3L, \n .     `144` = 3L, `145` = 3L, `146` = 3L, `147` = 3L, `148` = 3L, \n .     `149` = 3L, `150` = 3L), .Label = c(\"setosa\", \"versicolor\", \n .     \"virginica\"), class = \"factor\"))",
      "10. preProcess.default(thresh = 0.95, k = 5, freqCut = 19, uniqueCut = 10, \n  .     cutoff = 0.9, method = c(\"zv\", \"nzv\", \"conditionalX\"), x = structure(c(5.1, \n  .     4.9, 4.7, 4.6, 5, 5.4, 4.6, 5, 4.4, 4.9, 5.4, 4.8, 4.8, 4.3, \n  .     5.8, 5.7, 5.4, 5.1, 5.7, 5.1, 5.4, 5.1, 4.6, 5.1, 4.8, 5, \n  .     5, 5.2, 5.2, 4.7, 4.8, 5.4, 5.2, 5.5, 4.9, 5, 5.5, 4.9, 4.4, \n  .     5.1, 5, 4.5, 4.4, 5, 5.1, 4.8, 5.1, 4.6, 5.3, 5, 7, 6.4, \n  .     6.9, 5.5, 6.5, 5.7, 6.3, 4.9, 6.6, 5.2, 5, 5.9, 6, 6.1, 5.6, \n  .     6.7, 5.6, 5.8, 6.2, 5.6, 5.9, 6.1, 6.3, 6.1, 6.4, 6.6, 6.8, \n  .     6.7, 6, 5.7, 5.5, 5.5, 5.8, 6, 5.4, 6, 6.7, 6.3, 5.6, 5.5, \n  .     5.5, 6.1, 5.8, 5, 5.6, 5.7, 5.7, 6.2, 5.1, 5.7, 6.3, 5.8, \n  .     7.1, 6.3, 6.5, 7.6, 4.9, 7.3, 6.7, 7.2, 6.5, 6.4, 6.8, 5.7, \n  .     5.8, 6.4, 6.5, 7.7, 7.7, 6, 6.9, 5.6, 7.7, 6.3, 6.7, 7.2, \n  .     6.2, 6.1, 6.4, 7.2, 7.4, 7.9, 6.4, 6.3, 6.1, 7.7, 6.3, 6.4, \n  .     6, 6.9, 6.7, 6.9, 5.8, 6.8, 6.7, 6.7, 6.3, 6.5, 6.2, 5.9, \n  .     3.5, 3, 3.2, 3.1, 3.6, 3.9, 3.4, 3.4, 2.9, 3.1, 3.7, 3.4, \n  .     3, 3, 4, 4.4, 3.9, 3.5, 3.8, 3.8, 3.4, 3.7, 3.6, 3.3, 3.4, \n  .     3, 3.4, 3.5, 3.4, 3.2, 3.1, 3.4, 4.1, 4.2, 3.1, 3.2, 3.5, \n  .     3.6, 3, 3.4, 3.5, 2.3, 3.2, 3.5, 3.8, 3, 3.8, 3.2, 3.7, 3.3, \n  .     3.2, 3.2, 3.1, 2.3, 2.8, 2.8, 3.3, 2.4, 2.9, 2.7, 2, 3, 2.2, \n  .     2.9, 2.9, 3.1, 3, 2.7, 2.2, 2.5, 3.2, 2.8, 2.5, 2.8, 2.9, \n  .     3, 2.8, 3, 2.9, 2.6, 2.4, 2.4, 2.7, 2.7, 3, 3.4, 3.1, 2.3, \n  .     3, 2.5, 2.6, 3, 2.6, 2.3, 2.7, 3, 2.9, 2.9, 2.5, 2.8, 3.3, \n  .     2.7, 3, 2.9, 3, 3, 2.5, 2.9, 2.5, 3.6, 3.2, 2.7, 3, 2.5, \n  .     2.8, 3.2, 3, 3.8, 2.6, 2.2, 3.2, 2.8, 2.8, 2.7, 3.3, 3.2, \n  .     2.8, 3, 2.8, 3, 2.8, 3.8, 2.8, 2.8, 2.6, 3, 3.4, 3.1, 3, \n  .     3.1, 3.1, 3.1, 2.7, 3.2, 3.3, 3, 2.5, 3, 3.4, 3, 1.4, 1.4, \n  .     1.3, 1.5, 1.4, 1.7, 1.4, 1.5, 1.4, 1.5, 1.5, 1.6, 1.4, 1.1, \n  .     1.2, 1.5, 1.3, 1.4, 1.7, 1.5, 1.7, 1.5, 1, 1.7, 1.9, 1.6, \n  .     1.6, 1.5, 1.4, 1.6, 1.6, 1.5, 1.5, 1.4, 1.5, 1.2, 1.3, 1.4, \n  .     1.3, 1.5, 1.3, 1.3, 1.3, 1.6, 1.9, 1.4, 1.6, 1.4, 1.5, 1.4, \n  .     4.7, 4.5, 4.9, 4, 4.6, 4.5, 4.7, 3.3, 4.6, 3.9, 3.5, 4.2, \n  .     4, 4.7, 3.6, 4.4, 4.5, 4.1, 4.5, 3.9, 4.8, 4, 4.9, 4.7, 4.3, \n  .     4.4, 4.8, 5, 4.5, 3.5, 3.8, 3.7, 3.9, 5.1, 4.5, 4.5, 4.7, \n  .     4.4, 4.1, 4, 4.4, 4.6, 4, 3.3, 4.2, 4.2, 4.2, 4.3, 3, 4.1, \n  .     6, 5.1, 5.9, 5.6, 5.8, 6.6, 4.5, 6.3, 5.8, 6.1, 5.1, 5.3, \n  .     5.5, 5, 5.1, 5.3, 5.5, 6.7, 6.9, 5, 5.7, 4.9, 6.7, 4.9, 5.7, \n  .     6, 4.8, 4.9, 5.6, 5.8, 6.1, 6.4, 5.6, 5.1, 5.6, 6.1, 5.6, \n  .     5.5, 4.8, 5.4, 5.6, 5.1, 5.1, 5.9, 5.7, 5.2, 5, 5.2, 5.4, \n  .     5.1, 0.2, 0.2, 0.2, 0.2, 0.2, 0.4, 0.3, 0.2, 0.2, 0.1, 0.2, \n  .     0.2, 0.1, 0.1, 0.2, 0.4, 0.4, 0.3, 0.3, 0.3, 0.2, 0.4, 0.2, \n  .     0.5, 0.2, 0.2, 0.4, 0.2, 0.2, 0.2, 0.2, 0.4, 0.1, 0.2, 0.2, \n  .     0.2, 0.2, 0.1, 0.2, 0.2, 0.3, 0.3, 0.2, 0.6, 0.4, 0.3, 0.2, \n  .     0.2, 0.2, 0.2, 1.4, 1.5, 1.5, 1.3, 1.5, 1.3, 1.6, 1, 1.3, \n  .     1.4, 1, 1.5, 1, 1.4, 1.3, 1.4, 1.5, 1, 1.5, 1.1, 1.8, 1.3, \n  .     1.5, 1.2, 1.3, 1.4, 1.4, 1.7, 1.5, 1, 1.1, 1, 1.2, 1.6, 1.5, \n  .     1.6, 1.5, 1.3, 1.3, 1.3, 1.2, 1.4, 1.2, 1, 1.3, 1.2, 1.3, \n  .     1.3, 1.1, 1.3, 2.5, 1.9, 2.1, 1.8, 2.2, 2.1, 1.7, 1.8, 1.8, \n  .     2.5, 2, 1.9, 2.1, 2, 2.4, 2.3, 1.8, 2.2, 2.3, 1.5, 2.3, 2, \n  .     2, 1.8, 2.1, 1.8, 1.8, 1.8, 2.1, 1.6, 1.9, 2, 2.2, 1.5, 1.4, \n  .     2.3, 2.4, 1.8, 1.8, 2.1, 2.4, 2.3, 1.9, 2.3, 2.5, 2.3, 1.9, \n  .     2, 2.3, 1.8), .Dim = c(150L, 4L), .Dimnames = list(c(\"X1\", \n  .     \"X2\", \"X3\", \"X4\", \"X5\", \"X6\", \"X7\", \"X8\", \"X9\", \"X10\", \"X11\", \n  .     \"X12\", \"X13\", \"X14\", \"X15\", \"X16\", \"X17\", \"X18\", \"X19\", \"X20\", \n  .     \"X21\", \"X22\", \"X23\", \"X24\", \"X25\", \"X26\", \"X27\", \"X28\", \"X29\", \n  .     \"X30\", \"X31\", \"X32\", \"X33\", \"X34\", \"X35\", \"X36\", \"X37\", \"X38\", \n  .     \"X39\", \"X40\", \"X41\", \"X42\", \"X43\", \"X44\", \"X45\", \"X46\", \"X47\", \n  .     \"X48\", \"X49\", \"X50\", \"X51\", \"X52\", \"X53\", \"X54\", \"X55\", \"X56\", \n  .     \"X57\", \"X58\", \"X59\", \"X60\", \"X61\", \"X62\", \"X63\", \"X64\", \"X65\", \n  .     \"X66\", \"X67\", \"X68\", \"X69\", \"X70\", \"X71\", \"X72\", \"X73\", \"X74\", \n  .     \"X75\", \"X76\", \"X77\", \"X78\", \"X79\", \"X80\", \"X81\", \"X82\", \"X83\", \n  .     \"X84\", \"X85\", \"X86\", \"X87\", \"X88\", \"X89\", \"X90\", \"X91\", \"X92\", \n  .     \"X93\", \"X94\", \"X95\", \"X96\", \"X97\", \"X98\", \"X99\", \"X100\", \n  .     \"X101\", \"X102\", \"X103\", \"X104\", \"X105\", \"X106\", \"X107\", \"X108\", \n  .     \"X109\", \"X110\", \"X111\", \"X112\", \"X113\", \"X114\", \"X115\", \"X116\", \n  .     \"X117\", \"X118\", \"X119\", \"X120\", \"X121\", \"X122\", \"X123\", \"X124\", \n  .     \"X125\", \"X126\", \"X127\", \"X128\", \"X129\", \"X130\", \"X131\", \"X132\", \n  .     \"X133\", \"X134\", \"X135\", \"X136\", \"X137\", \"X138\", \"X139\", \"X140\", \n  .     \"X141\", \"X142\", \"X143\", \"X144\", \"X145\", \"X146\", \"X147\", \"X148\", \n  .     \"X149\", \"X150\"), c(\"Sepal.Length\", \"Sepal.Width\", \"Petal.Length\", \n  .     \"Petal.Width\"))), outcome = structure(c(`1` = 1L, `2` = 1L, \n  .     `3` = 1L, `4` = 1L, `5` = 1L, `6` = 1L, `7` = 1L, `8` = 1L, \n  .     `9` = 1L, `10` = 1L, `11` = 1L, `12` = 1L, `13` = 1L, `14` = 1L, \n  .     `15` = 1L, `16` = 1L, `17` = 1L, `18` = 1L, `19` = 1L, `20` = 1L, \n  .     `21` = 1L, `22` = 1L, `23` = 1L, `24` = 1L, `25` = 1L, `26` = 1L, \n  .     `27` = 1L, `28` = 1L, `29` = 1L, `30` = 1L, `31` = 1L, `32` = 1L, \n  .     `33` = 1L, `34` = 1L, `35` = 1L, `36` = 1L, `37` = 1L, `38` = 1L, \n  .     `39` = 1L, `40` = 1L, `41` = 1L, `42` = 1L, `43` = 1L, `44` = 1L, \n  .     `45` = 1L, `46` = 1L, `47` = 1L, `48` = 1L, `49` = 1L, `50` = 1L, \n  .     `51` = 2L, `52` = 2L, `53` = 2L, `54` = 2L, `55` = 2L, `56` = 2L, \n  .     `57` = 2L, `58` = 2L, `59` = 2L, `60` = 2L, `61` = 2L, `62` = 2L, \n  .     `63` = 2L, `64` = 2L, `65` = 2L, `66` = 2L, `67` = 2L, `68` = 2L, \n  .     `69` = 2L, `70` = 2L, `71` = 2L, `72` = 2L, `73` = 2L, `74` = 2L, \n  .     `75` = 2L, `76` = 2L, `77` = 2L, `78` = 2L, `79` = 2L, `80` = 2L, \n  .     `81` = 2L, `82` = 2L, `83` = 2L, `84` = 2L, `85` = 2L, `86` = 2L, \n  .     `87` = 2L, `88` = 2L, `89` = 2L, `90` = 2L, `91` = 2L, `92` = 2L, \n  .     `93` = 2L, `94` = 2L, `95` = 2L, `96` = 2L, `97` = 2L, `98` = 2L, \n  .     `99` = 2L, `100` = 2L, `101` = 3L, `102` = 3L, `103` = 3L, \n  .     `104` = 3L, `105` = 3L, `106` = 3L, `107` = 3L, `108` = 3L, \n  .     `109` = 3L, `110` = 3L, `111` = 3L, `112` = 3L, `113` = 3L, \n  .     `114` = 3L, `115` = 3L, `116` = 3L, `117` = 3L, `118` = 3L, \n  .     `119` = 3L, `120` = 3L, `121` = 3L, `122` = 3L, `123` = 3L, \n  .     `124` = 3L, `125` = 3L, `126` = 3L, `127` = 3L, `128` = 3L, \n  .     `129` = 3L, `130` = 3L, `131` = 3L, `132` = 3L, `133` = 3L, \n  .     `134` = 3L, `135` = 3L, `136` = 3L, `137` = 3L, `138` = 3L, \n  .     `139` = 3L, `140` = 3L, `141` = 3L, `142` = 3L, `143` = 3L, \n  .     `144` = 3L, `145` = 3L, `146` = 3L, `147` = 3L, `148` = 3L, \n  .     `149` = 3L, `150` = 3L), .Label = c(\"setosa\", \"versicolor\", \n  .     \"virginica\"), class = \"factor\"))",
      "11. checkConditionalX(x = x[, !(colnames(x) %in% method$ignore), \n  .     drop = FALSE], y = outcome)",
      "12. unique(unlist(dlply(x, .(.outcome), zeroVar)))",
      "13. unlist(dlply(x, .(.outcome), zeroVar))",
      "14. dlply(x, .(.outcome), zeroVar)",
      "15. llply(.data = pieces, .fun = .fun, ..., .progress = .progress, \n  .     .inform = .inform, .parallel = .parallel, .paropts = .paropts)",
      "16. loop_apply(n, do.ply)",
      "17. (function (i) \n  . {\n  .     piece <- pieces[[i]]\n  .     if (.inform) {\n  .         res <- try(.fun(piece, ...))\n  .         if (inherits(res, \"try-error\")) {\n  .             piece <- paste(utils::capture.output(print(piece)), \n  .                 collapse = \"\\n\")\n  .             stop(\"with piece \", i, \": \\n\", piece, call. = FALSE)\n  .         }\n  .     }\n  .     else {\n  .         res <- .fun(piece, ...)\n  .     }\n  .     progress$step()\n  .     res\n  . })(1L)",
      "18. pieces[[i]]",
      "19. `[[.indexed_df`(pieces, i)",
      "20. extract_rows(x$data, x$index[[i]])"
     ]
    },
    {
     "name": "stderr",
     "output_type": "stream",
     "text": [
      "Timing stopped at: 0.027 0 0.027\n"
     ]
    }
   ],
   "source": [
    "# dataset\n",
    "model = create_model()"
   ]
  },
  {
   "cell_type": "code",
   "execution_count": null,
   "metadata": {},
   "outputs": [],
   "source": [
    "pred <- predict(model, as.matrix(iris[, -5]) , type=\"prob\")\n",
    "pred_labels <- predict(model, as.matrix(iris[, -5]) , type=\"raw\")\n",
    "sum(pred_labels != iris$Species)/length(pred_labels)"
   ]
  },
  {
   "cell_type": "markdown",
   "metadata": {},
   "source": [
    "# SQL Code Generation"
   ]
  },
  {
   "cell_type": "code",
   "execution_count": null,
   "metadata": {},
   "outputs": [],
   "source": [
    "\n",
    "test_ws_sql_gen = function(mod) {\n",
    "    WS_URL = \"https://sklearn2sql.herokuapp.com/model\"\n",
    "    WS_URL = \"http://localhost:1888/model\"\n",
    "    model_serialized <- serialize(mod, NULL)\n",
    "    b64_data = base64encode(model_serialized)\n",
    "    data = list(Name = \"caret_rpart_test_model\", SerializedModel = b64_data , SQLDialect = \"postgresql\" , Mode=\"caret\")\n",
    "    r = POST(WS_URL, body = data, encode = \"json\")\n",
    "    # print(r)\n",
    "    content = content(r)\n",
    "    # print(content)\n",
    "    lSQL = content$model$SQLGenrationResult[[1]]$SQL # content[\"model\"][\"SQLGenrationResult\"][0][\"SQL\"]\n",
    "    return(lSQL);\n",
    "}"
   ]
  },
  {
   "cell_type": "code",
   "execution_count": null,
   "metadata": {},
   "outputs": [],
   "source": [
    "lModelSQL = test_ws_sql_gen(model)"
   ]
  },
  {
   "cell_type": "code",
   "execution_count": null,
   "metadata": {
    "scrolled": false
   },
   "outputs": [],
   "source": [
    "cat(lModelSQL)\n"
   ]
  },
  {
   "cell_type": "markdown",
   "metadata": {},
   "source": [
    "# Execute the SQL Code"
   ]
  },
  {
   "cell_type": "code",
   "execution_count": null,
   "metadata": {},
   "outputs": [],
   "source": [
    "library(RODBC)\n",
    "conn = odbcConnect(\"pgsql\", uid=\"db\", pwd=\"db\", case=\"nochange\")\n",
    "odbcSetAutoCommit(conn , autoCommit = TRUE)"
   ]
  },
  {
   "cell_type": "code",
   "execution_count": null,
   "metadata": {
    "scrolled": true
   },
   "outputs": [],
   "source": [
    "dataset = iris[,-5]\n",
    "\n",
    "df_sql = as.data.frame(dataset)\n",
    "names(df_sql) = sprintf(\"Feature_%d\",0:(ncol(df_sql)-1))\n",
    "df_sql$KEY = seq.int(nrow(dataset))\n",
    "\n",
    "sqlDrop(conn , \"INPUT_DATA\" , errors = FALSE)\n",
    "sqlSave(conn, df_sql, tablename = \"INPUT_DATA\", verbose = FALSE)\n",
    "\n",
    "head(df_sql)"
   ]
  },
  {
   "cell_type": "code",
   "execution_count": null,
   "metadata": {},
   "outputs": [],
   "source": [
    "# colnames(df_sql)\n",
    "# odbcGetInfo(conn)\n",
    "# sqlTables(conn)"
   ]
  },
  {
   "cell_type": "code",
   "execution_count": null,
   "metadata": {},
   "outputs": [],
   "source": [
    "df_sql_out = sqlQuery(conn, lModelSQL)\n",
    "head(df_sql_out)"
   ]
  },
  {
   "cell_type": "markdown",
   "metadata": {},
   "source": [
    "# R Caret Rpart Output"
   ]
  },
  {
   "cell_type": "code",
   "execution_count": null,
   "metadata": {},
   "outputs": [],
   "source": [
    "pred_proba  =  predict(model, as.matrix(iris[,-5]), type = \"prob\")\n",
    "df_r_out = data.frame(pred_proba)\n",
    "names(df_r_out) = sprintf(\"Proba_%s\",model$levels)\n",
    "\n",
    "df_r_out$KEY = seq.int(nrow(dataset))\n",
    "df_r_out$Score_setosa  =  NA\n",
    "df_r_out$Score_versicolor  =  NA\n",
    "df_r_out$Score_virginica  =  NA\n",
    "df_r_out$LogProba_setosa  =  log(df_r_out$Proba_setosa)\n",
    "df_r_out$LogProba_versicolor =  log(df_r_out$Proba_versicolor)\n",
    "df_r_out$LogProba_virginica  =  log(df_r_out$Proba_virginica)\n",
    "df_r_out$Decision =   predict(model, as.matrix(iris[,-5]), type = \"raw\")\n",
    "df_r_out$DecisionProba =  apply(pred_proba, 1, function(x) max(x))\n",
    "head(df_r_out)"
   ]
  },
  {
   "cell_type": "markdown",
   "metadata": {},
   "source": [
    "# Compare R and SQL output"
   ]
  },
  {
   "cell_type": "code",
   "execution_count": null,
   "metadata": {},
   "outputs": [],
   "source": [
    "df_merge = merge(x = df_r_out, y = df_sql_out, by = \"KEY\", all = TRUE, , suffixes = c(\"_R\",\"_SQL\"))\n",
    "head(df_merge)"
   ]
  },
  {
   "cell_type": "code",
   "execution_count": null,
   "metadata": {},
   "outputs": [],
   "source": [
    "diffs_df = df_merge[df_merge$Decision_1 != df_merge$Decision_2,]\n",
    "head(diffs_df)"
   ]
  },
  {
   "cell_type": "code",
   "execution_count": null,
   "metadata": {},
   "outputs": [],
   "source": []
  },
  {
   "cell_type": "code",
   "execution_count": null,
   "metadata": {},
   "outputs": [],
   "source": [
    "stopifnot(nrow(diffs_df) == 0)"
   ]
  },
  {
   "cell_type": "code",
   "execution_count": null,
   "metadata": {},
   "outputs": [],
   "source": []
  },
  {
   "cell_type": "code",
   "execution_count": null,
   "metadata": {},
   "outputs": [],
   "source": [
    "summary(df_sql_out)"
   ]
  },
  {
   "cell_type": "code",
   "execution_count": null,
   "metadata": {},
   "outputs": [],
   "source": [
    "summary(df_r_out)"
   ]
  },
  {
   "cell_type": "code",
   "execution_count": null,
   "metadata": {},
   "outputs": [],
   "source": [
    "prep = model$preProcess"
   ]
  },
  {
   "cell_type": "code",
   "execution_count": null,
   "metadata": {},
   "outputs": [],
   "source": [
    "prep"
   ]
  },
  {
   "cell_type": "code",
   "execution_count": null,
   "metadata": {},
   "outputs": [],
   "source": []
  }
 ],
 "metadata": {
  "kernelspec": {
   "display_name": "R",
   "language": "R",
   "name": "ir"
  },
  "language_info": {
   "codemirror_mode": "r",
   "file_extension": ".r",
   "mimetype": "text/x-r-source",
   "name": "R",
   "pygments_lexer": "r",
   "version": "3.5.2"
  }
 },
 "nbformat": 4,
 "nbformat_minor": 2
}
