{
 "cells": [
  {
   "cell_type": "code",
   "execution_count": 1,
   "metadata": {},
   "outputs": [
    {
     "name": "stderr",
     "output_type": "stream",
     "text": [
      "\n",
      "Attaching package: ‘httr’\n",
      "\n",
      "The following object is masked from ‘package:caret’:\n",
      "\n",
      "    progress\n",
      "\n"
     ]
    }
   ],
   "source": [
    "library(caret, quiet=TRUE);\n",
    "library(base64enc)\n",
    "library(httr)\n"
   ]
  },
  {
   "cell_type": "markdown",
   "metadata": {},
   "source": [
    "# Build a Model"
   ]
  },
  {
   "cell_type": "code",
   "execution_count": 2,
   "metadata": {},
   "outputs": [],
   "source": [
    "set.seed(1960)\n",
    "\n",
    "create_model  =  function() {\n",
    "\n",
    "    model  <- train(Species ~ ., data = iris, method = \"glmnet\")\n",
    "    \n",
    "    return(model)\n",
    "}"
   ]
  },
  {
   "cell_type": "code",
   "execution_count": 3,
   "metadata": {},
   "outputs": [],
   "source": [
    "# dataset\n",
    "model = create_model()"
   ]
  },
  {
   "cell_type": "code",
   "execution_count": 4,
   "metadata": {},
   "outputs": [
    {
     "data": {
      "text/html": [
       "0.0266666666666667"
      ],
      "text/latex": [
       "0.0266666666666667"
      ],
      "text/markdown": [
       "0.0266666666666667"
      ],
      "text/plain": [
       "[1] 0.02666667"
      ]
     },
     "metadata": {},
     "output_type": "display_data"
    }
   ],
   "source": [
    "pred <- predict(model, as.matrix(iris[, -5]) , type=\"prob\")\n",
    "pred_labels <- predict(model, as.matrix(iris[, -5]) , type=\"raw\")\n",
    "sum(pred_labels != iris$Species)/length(pred_labels)\n"
   ]
  },
  {
   "cell_type": "markdown",
   "metadata": {},
   "source": [
    "# SQL Code Generation"
   ]
  },
  {
   "cell_type": "code",
   "execution_count": 5,
   "metadata": {},
   "outputs": [],
   "source": [
    "\n",
    "test_ws_sql_gen = function(mod) {\n",
    "    WS_URL = \"https://sklearn2sql.herokuapp.com/model\"\n",
    "    WS_URL = \"http://localhost:1888/model\"\n",
    "    model_serialized <- serialize(mod, NULL)\n",
    "    b64_data = base64encode(model_serialized)\n",
    "    data = list(Name = \"caret_glmnet_test_model\", SerializedModel = b64_data , SQLDialect = \"postgresql\" , Mode=\"caret\")\n",
    "    r = POST(WS_URL, body = data, encode = \"json\")\n",
    "    # print(r)\n",
    "    content = content(r)\n",
    "    # print(content)\n",
    "    lSQL = content$model$SQLGenrationResult[[1]]$SQL # content[\"model\"][\"SQLGenrationResult\"][0][\"SQL\"]\n",
    "    return(lSQL);\n",
    "}"
   ]
  },
  {
   "cell_type": "code",
   "execution_count": 6,
   "metadata": {
    "scrolled": false
   },
   "outputs": [
    {
     "name": "stdout",
     "output_type": "stream",
     "text": [
      "WITH linear_input AS \n",
      "(SELECT \"ADS\".\"KEY\" AS \"KEY\", CAST(\"ADS\".\"Feature_0\" AS FLOAT) AS \"Feature_0\", CAST(\"ADS\".\"Feature_1\" AS FLOAT) AS \"Feature_1\", CAST(\"ADS\".\"Feature_2\" AS FLOAT) AS \"Feature_2\", CAST(\"ADS\".\"Feature_3\" AS FLOAT) AS \"Feature_3\" \n",
      "FROM \"INPUT_DATA\" AS \"ADS\"), \n",
      "linear_model_cte AS \n",
      "(SELECT linear_input.\"KEY\" AS \"KEY\", -0.9021040991963752 * linear_input.\"Feature_0\" + 2.6454788281043458 * linear_input.\"Feature_1\" + -1.1151551851044692 * linear_input.\"Feature_2\" + -2.2296549826873697 * linear_input.\"Feature_3\" + 5.129773854111001 AS \"Score_setosa\", 0.09303778049189963 * linear_input.\"Feature_0\" + 0.0 * linear_input.\"Feature_1\" + 0.0 * linear_input.\"Feature_2\" + -0.37346148785070893 * linear_input.\"Feature_3\" + 3.246827263663173 AS \"Score_versicolor\", 0.0 * linear_input.\"Feature_0\" + -0.9502576420707765 * linear_input.\"Feature_1\" + 1.4979187408924162 * linear_input.\"Feature_2\" + 4.211954278530643 * linear_input.\"Feature_3\" + -8.376601117774172 AS \"Score_virginica\" \n",
      "FROM linear_input), \n",
      "linear_model_cte_logistic AS \n",
      "(SELECT linear_model_cte.\"KEY\" AS \"KEY\", linear_model_cte.\"Score_setosa\" AS \"Score_setosa\", linear_model_cte.\"Score_versicolor\" AS \"Score_versicolor\", linear_model_cte.\"Score_virginica\" AS \"Score_virginica\" \n",
      "FROM linear_model_cte), \n",
      "orig_cte AS \n",
      "(SELECT linear_model_cte_logistic.\"KEY\" AS \"KEY\", linear_model_cte_logistic.\"Score_setosa\" AS \"Score_setosa\", linear_model_cte_logistic.\"Score_versicolor\" AS \"Score_versicolor\", linear_model_cte_logistic.\"Score_virginica\" AS \"Score_virginica\", CAST(NULL AS FLOAT) AS \"Proba_setosa\", CAST(NULL AS FLOAT) AS \"Proba_versicolor\", CAST(NULL AS FLOAT) AS \"Proba_virginica\", CAST(NULL AS FLOAT) AS \"LogProba_setosa\", CAST(NULL AS FLOAT) AS \"LogProba_versicolor\", CAST(NULL AS FLOAT) AS \"LogProba_virginica\", CAST(NULL AS BIGINT) AS \"Decision\", CAST(NULL AS FLOAT) AS \"DecisionProba\" \n",
      "FROM linear_model_cte_logistic), \n",
      "score_class_union AS \n",
      "(SELECT scu.\"KEY_u\" AS \"KEY_u\", scu.class AS class, scu.\"LogProba\" AS \"LogProba\", scu.\"Proba\" AS \"Proba\", scu.\"Score\" AS \"Score\" \n",
      "FROM (SELECT orig_cte.\"KEY\" AS \"KEY_u\", 'setosa' AS class, orig_cte.\"LogProba_setosa\" AS \"LogProba\", orig_cte.\"Proba_setosa\" AS \"Proba\", orig_cte.\"Score_setosa\" AS \"Score\" \n",
      "FROM orig_cte UNION ALL SELECT orig_cte.\"KEY\" AS \"KEY_u\", 'versicolor' AS class, orig_cte.\"LogProba_versicolor\" AS \"LogProba\", orig_cte.\"Proba_versicolor\" AS \"Proba\", orig_cte.\"Score_versicolor\" AS \"Score\" \n",
      "FROM orig_cte UNION ALL SELECT orig_cte.\"KEY\" AS \"KEY_u\", 'virginica' AS class, orig_cte.\"LogProba_virginica\" AS \"LogProba\", orig_cte.\"Proba_virginica\" AS \"Proba\", orig_cte.\"Score_virginica\" AS \"Score\" \n",
      "FROM orig_cte) AS scu), \n",
      "score_max AS \n",
      "(SELECT orig_cte.\"KEY\" AS \"KEY\", orig_cte.\"Score_setosa\" AS \"Score_setosa\", orig_cte.\"Score_versicolor\" AS \"Score_versicolor\", orig_cte.\"Score_virginica\" AS \"Score_virginica\", orig_cte.\"Proba_setosa\" AS \"Proba_setosa\", orig_cte.\"Proba_versicolor\" AS \"Proba_versicolor\", orig_cte.\"Proba_virginica\" AS \"Proba_virginica\", orig_cte.\"LogProba_setosa\" AS \"LogProba_setosa\", orig_cte.\"LogProba_versicolor\" AS \"LogProba_versicolor\", orig_cte.\"LogProba_virginica\" AS \"LogProba_virginica\", orig_cte.\"Decision\" AS \"Decision\", orig_cte.\"DecisionProba\" AS \"DecisionProba\", max_select.\"KEY_m\" AS \"KEY_m\", max_select.\"max_Score\" AS \"max_Score\" \n",
      "FROM orig_cte LEFT OUTER JOIN (SELECT score_class_union.\"KEY_u\" AS \"KEY_m\", max(score_class_union.\"Score\") AS \"max_Score\" \n",
      "FROM score_class_union GROUP BY score_class_union.\"KEY_u\") AS max_select ON orig_cte.\"KEY\" = max_select.\"KEY_m\"), \n",
      "score_soft_max_deltas AS \n",
      "(SELECT score_max.\"KEY\" AS \"KEY\", score_max.\"Score_setosa\" AS \"Score_setosa\", score_max.\"Score_versicolor\" AS \"Score_versicolor\", score_max.\"Score_virginica\" AS \"Score_virginica\", score_max.\"Proba_setosa\" AS \"Proba_setosa\", score_max.\"Proba_versicolor\" AS \"Proba_versicolor\", score_max.\"Proba_virginica\" AS \"Proba_virginica\", score_max.\"LogProba_setosa\" AS \"LogProba_setosa\", score_max.\"LogProba_versicolor\" AS \"LogProba_versicolor\", score_max.\"LogProba_virginica\" AS \"LogProba_virginica\", score_max.\"Decision\" AS \"Decision\", score_max.\"DecisionProba\" AS \"DecisionProba\", score_max.\"KEY_m\" AS \"KEY_m\", score_max.\"max_Score\" AS \"max_Score\", exp(greatest(-100.0, score_max.\"Score_setosa\" - score_max.\"max_Score\")) AS \"exp_delta_Score_setosa\", exp(greatest(-100.0, score_max.\"Score_versicolor\" - score_max.\"max_Score\")) AS \"exp_delta_Score_versicolor\", exp(greatest(-100.0, score_max.\"Score_virginica\" - score_max.\"max_Score\")) AS \"exp_delta_Score_virginica\" \n",
      "FROM score_max), \n",
      "score_class_union_soft AS \n",
      "(SELECT soft_scu.\"KEY\" AS \"KEY\", soft_scu.class AS class, soft_scu.\"exp_delta_Score\" AS \"exp_delta_Score\" \n",
      "FROM (SELECT score_soft_max_deltas.\"KEY\" AS \"KEY\", 'setosa' AS class, score_soft_max_deltas.\"exp_delta_Score_setosa\" AS \"exp_delta_Score\" \n",
      "FROM score_soft_max_deltas UNION ALL SELECT score_soft_max_deltas.\"KEY\" AS \"KEY\", 'versicolor' AS class, score_soft_max_deltas.\"exp_delta_Score_versicolor\" AS \"exp_delta_Score\" \n",
      "FROM score_soft_max_deltas UNION ALL SELECT score_soft_max_deltas.\"KEY\" AS \"KEY\", 'virginica' AS class, score_soft_max_deltas.\"exp_delta_Score_virginica\" AS \"exp_delta_Score\" \n",
      "FROM score_soft_max_deltas) AS soft_scu), \n",
      "score_soft_max AS \n",
      "(SELECT score_soft_max_deltas.\"KEY\" AS \"KEY\", score_soft_max_deltas.\"Score_setosa\" AS \"Score_setosa\", score_soft_max_deltas.\"Score_versicolor\" AS \"Score_versicolor\", score_soft_max_deltas.\"Score_virginica\" AS \"Score_virginica\", score_soft_max_deltas.\"Proba_setosa\" AS \"Proba_setosa\", score_soft_max_deltas.\"Proba_versicolor\" AS \"Proba_versicolor\", score_soft_max_deltas.\"Proba_virginica\" AS \"Proba_virginica\", score_soft_max_deltas.\"LogProba_setosa\" AS \"LogProba_setosa\", score_soft_max_deltas.\"LogProba_versicolor\" AS \"LogProba_versicolor\", score_soft_max_deltas.\"LogProba_virginica\" AS \"LogProba_virginica\", score_soft_max_deltas.\"Decision\" AS \"Decision\", score_soft_max_deltas.\"DecisionProba\" AS \"DecisionProba\", score_soft_max_deltas.\"KEY_m\" AS \"KEY_m\", score_soft_max_deltas.\"max_Score\" AS \"max_Score\", score_soft_max_deltas.\"exp_delta_Score_setosa\" AS \"exp_delta_Score_setosa\", score_soft_max_deltas.\"exp_delta_Score_versicolor\" AS \"exp_delta_Score_versicolor\", score_soft_max_deltas.\"exp_delta_Score_virginica\" AS \"exp_delta_Score_virginica\", sum_exp_t.\"KEY_sum\" AS \"KEY_sum\", sum_exp_t.\"sum_ExpDeltaScore\" AS \"sum_ExpDeltaScore\" \n",
      "FROM score_soft_max_deltas LEFT OUTER JOIN (SELECT score_class_union_soft.\"KEY\" AS \"KEY_sum\", sum(score_class_union_soft.\"exp_delta_Score\") AS \"sum_ExpDeltaScore\" \n",
      "FROM score_class_union_soft GROUP BY score_class_union_soft.\"KEY\") AS sum_exp_t ON score_soft_max_deltas.\"KEY\" = sum_exp_t.\"KEY_sum\"), \n",
      "union_with_max AS \n",
      "(SELECT score_class_union.\"KEY_u\" AS \"KEY_u\", score_class_union.class AS class, score_class_union.\"LogProba\" AS \"LogProba\", score_class_union.\"Proba\" AS \"Proba\", score_class_union.\"Score\" AS \"Score\", score_soft_max.\"KEY\" AS \"KEY\", score_soft_max.\"Score_setosa\" AS \"Score_setosa\", score_soft_max.\"Score_versicolor\" AS \"Score_versicolor\", score_soft_max.\"Score_virginica\" AS \"Score_virginica\", score_soft_max.\"Proba_setosa\" AS \"Proba_setosa\", score_soft_max.\"Proba_versicolor\" AS \"Proba_versicolor\", score_soft_max.\"Proba_virginica\" AS \"Proba_virginica\", score_soft_max.\"LogProba_setosa\" AS \"LogProba_setosa\", score_soft_max.\"LogProba_versicolor\" AS \"LogProba_versicolor\", score_soft_max.\"LogProba_virginica\" AS \"LogProba_virginica\", score_soft_max.\"Decision\" AS \"Decision\", score_soft_max.\"DecisionProba\" AS \"DecisionProba\", score_soft_max.\"KEY_m\" AS \"KEY_m\", score_soft_max.\"max_Score\" AS \"max_Score\", score_soft_max.\"exp_delta_Score_setosa\" AS \"exp_delta_Score_setosa\", score_soft_max.\"exp_delta_Score_versicolor\" AS \"exp_delta_Score_versicolor\", score_soft_max.\"exp_delta_Score_virginica\" AS \"exp_delta_Score_virginica\", score_soft_max.\"KEY_sum\" AS \"KEY_sum\", score_soft_max.\"sum_ExpDeltaScore\" AS \"sum_ExpDeltaScore\" \n",
      "FROM score_class_union LEFT OUTER JOIN score_soft_max ON score_class_union.\"KEY_u\" = score_soft_max.\"KEY\"), \n",
      "arg_max_cte AS \n",
      "(SELECT score_soft_max.\"KEY\" AS \"KEY\", score_soft_max.\"Score_setosa\" AS \"Score_setosa\", score_soft_max.\"Score_versicolor\" AS \"Score_versicolor\", score_soft_max.\"Score_virginica\" AS \"Score_virginica\", score_soft_max.\"Proba_setosa\" AS \"Proba_setosa\", score_soft_max.\"Proba_versicolor\" AS \"Proba_versicolor\", score_soft_max.\"Proba_virginica\" AS \"Proba_virginica\", score_soft_max.\"LogProba_setosa\" AS \"LogProba_setosa\", score_soft_max.\"LogProba_versicolor\" AS \"LogProba_versicolor\", score_soft_max.\"LogProba_virginica\" AS \"LogProba_virginica\", score_soft_max.\"Decision\" AS \"Decision\", score_soft_max.\"DecisionProba\" AS \"DecisionProba\", score_soft_max.\"KEY_m\" AS \"KEY_m\", score_soft_max.\"max_Score\" AS \"max_Score\", score_soft_max.\"exp_delta_Score_setosa\" AS \"exp_delta_Score_setosa\", score_soft_max.\"exp_delta_Score_versicolor\" AS \"exp_delta_Score_versicolor\", score_soft_max.\"exp_delta_Score_virginica\" AS \"exp_delta_Score_virginica\", score_soft_max.\"KEY_sum\" AS \"KEY_sum\", score_soft_max.\"sum_ExpDeltaScore\" AS \"sum_ExpDeltaScore\", \"arg_max_t_Score\".\"KEY_Score\" AS \"KEY_Score\", \"arg_max_t_Score\".\"arg_max_Score\" AS \"arg_max_Score\", soft_max_comp.\"KEY_softmax\" AS \"KEY_softmax\", soft_max_comp.\"SoftProba_setosa\" AS \"SoftProba_setosa\", soft_max_comp.\"SoftProba_versicolor\" AS \"SoftProba_versicolor\", soft_max_comp.\"SoftProba_virginica\" AS \"SoftProba_virginica\" \n",
      "FROM score_soft_max LEFT OUTER JOIN (SELECT union_with_max.\"KEY\" AS \"KEY_Score\", max(union_with_max.class) AS \"arg_max_Score\" \n",
      "FROM union_with_max \n",
      "WHERE union_with_max.\"max_Score\" <= union_with_max.\"Score\" GROUP BY union_with_max.\"KEY\") AS \"arg_max_t_Score\" ON score_soft_max.\"KEY\" = \"arg_max_t_Score\".\"KEY_Score\" LEFT OUTER JOIN (SELECT score_soft_max.\"KEY\" AS \"KEY_softmax\", score_soft_max.\"exp_delta_Score_setosa\" / score_soft_max.\"sum_ExpDeltaScore\" AS \"SoftProba_setosa\", score_soft_max.\"exp_delta_Score_versicolor\" / score_soft_max.\"sum_ExpDeltaScore\" AS \"SoftProba_versicolor\", score_soft_max.\"exp_delta_Score_virginica\" / score_soft_max.\"sum_ExpDeltaScore\" AS \"SoftProba_virginica\" \n",
      "FROM score_soft_max) AS soft_max_comp ON soft_max_comp.\"KEY_softmax\" = \"arg_max_t_Score\".\"KEY_Score\")\n",
      " SELECT arg_max_cte.\"KEY\" AS \"KEY\", CAST(NULL AS FLOAT) AS \"Score_setosa\", CAST(NULL AS FLOAT) AS \"Score_versicolor\", CAST(NULL AS FLOAT) AS \"Score_virginica\", arg_max_cte.\"SoftProba_setosa\" AS \"Proba_setosa\", arg_max_cte.\"SoftProba_versicolor\" AS \"Proba_versicolor\", arg_max_cte.\"SoftProba_virginica\" AS \"Proba_virginica\", CASE WHEN (arg_max_cte.\"SoftProba_setosa\" IS NULL OR arg_max_cte.\"SoftProba_setosa\" > 0.0) THEN ln(arg_max_cte.\"SoftProba_setosa\") ELSE -1.79769313486231e+308 END AS \"LogProba_setosa\", CASE WHEN (arg_max_cte.\"SoftProba_versicolor\" IS NULL OR arg_max_cte.\"SoftProba_versicolor\" > 0.0) THEN ln(arg_max_cte.\"SoftProba_versicolor\") ELSE -1.79769313486231e+308 END AS \"LogProba_versicolor\", CASE WHEN (arg_max_cte.\"SoftProba_virginica\" IS NULL OR arg_max_cte.\"SoftProba_virginica\" > 0.0) THEN ln(arg_max_cte.\"SoftProba_virginica\") ELSE -1.79769313486231e+308 END AS \"LogProba_virginica\", arg_max_cte.\"arg_max_Score\" AS \"Decision\", greatest(arg_max_cte.\"SoftProba_setosa\", arg_max_cte.\"SoftProba_versicolor\", arg_max_cte.\"SoftProba_virginica\") AS \"DecisionProba\" \n",
      "FROM arg_max_cte"
     ]
    }
   ],
   "source": [
    "lModelSQL = test_ws_sql_gen(model)\n",
    "cat(lModelSQL)"
   ]
  },
  {
   "cell_type": "markdown",
   "metadata": {},
   "source": [
    "# Execute the SQL Code"
   ]
  },
  {
   "cell_type": "code",
   "execution_count": 7,
   "metadata": {},
   "outputs": [
    {
     "data": {
      "text/html": [
       "0"
      ],
      "text/latex": [
       "0"
      ],
      "text/markdown": [
       "0"
      ],
      "text/plain": [
       "[1] 0"
      ]
     },
     "metadata": {},
     "output_type": "display_data"
    }
   ],
   "source": [
    "library(RODBC)\n",
    "conn = odbcConnect(\"pgsql\", uid=\"db\", pwd=\"db\", case=\"nochange\")\n",
    "odbcSetAutoCommit(conn , autoCommit = TRUE)"
   ]
  },
  {
   "cell_type": "code",
   "execution_count": 8,
   "metadata": {
    "scrolled": true
   },
   "outputs": [
    {
     "data": {
      "text/html": [
       "<table>\n",
       "<thead><tr><th scope=col>Feature_0</th><th scope=col>Feature_1</th><th scope=col>Feature_2</th><th scope=col>Feature_3</th><th scope=col>KEY</th></tr></thead>\n",
       "<tbody>\n",
       "\t<tr><td>5.1</td><td>3.5</td><td>1.4</td><td>0.2</td><td>1  </td></tr>\n",
       "\t<tr><td>4.9</td><td>3.0</td><td>1.4</td><td>0.2</td><td>2  </td></tr>\n",
       "\t<tr><td>4.7</td><td>3.2</td><td>1.3</td><td>0.2</td><td>3  </td></tr>\n",
       "\t<tr><td>4.6</td><td>3.1</td><td>1.5</td><td>0.2</td><td>4  </td></tr>\n",
       "\t<tr><td>5.0</td><td>3.6</td><td>1.4</td><td>0.2</td><td>5  </td></tr>\n",
       "\t<tr><td>5.4</td><td>3.9</td><td>1.7</td><td>0.4</td><td>6  </td></tr>\n",
       "</tbody>\n",
       "</table>\n"
      ],
      "text/latex": [
       "\\begin{tabular}{r|lllll}\n",
       " Feature\\_0 & Feature\\_1 & Feature\\_2 & Feature\\_3 & KEY\\\\\n",
       "\\hline\n",
       "\t 5.1 & 3.5 & 1.4 & 0.2 & 1  \\\\\n",
       "\t 4.9 & 3.0 & 1.4 & 0.2 & 2  \\\\\n",
       "\t 4.7 & 3.2 & 1.3 & 0.2 & 3  \\\\\n",
       "\t 4.6 & 3.1 & 1.5 & 0.2 & 4  \\\\\n",
       "\t 5.0 & 3.6 & 1.4 & 0.2 & 5  \\\\\n",
       "\t 5.4 & 3.9 & 1.7 & 0.4 & 6  \\\\\n",
       "\\end{tabular}\n"
      ],
      "text/markdown": [
       "\n",
       "Feature_0 | Feature_1 | Feature_2 | Feature_3 | KEY | \n",
       "|---|---|---|---|---|---|\n",
       "| 5.1 | 3.5 | 1.4 | 0.2 | 1   | \n",
       "| 4.9 | 3.0 | 1.4 | 0.2 | 2   | \n",
       "| 4.7 | 3.2 | 1.3 | 0.2 | 3   | \n",
       "| 4.6 | 3.1 | 1.5 | 0.2 | 4   | \n",
       "| 5.0 | 3.6 | 1.4 | 0.2 | 5   | \n",
       "| 5.4 | 3.9 | 1.7 | 0.4 | 6   | \n",
       "\n",
       "\n"
      ],
      "text/plain": [
       "  Feature_0 Feature_1 Feature_2 Feature_3 KEY\n",
       "1 5.1       3.5       1.4       0.2       1  \n",
       "2 4.9       3.0       1.4       0.2       2  \n",
       "3 4.7       3.2       1.3       0.2       3  \n",
       "4 4.6       3.1       1.5       0.2       4  \n",
       "5 5.0       3.6       1.4       0.2       5  \n",
       "6 5.4       3.9       1.7       0.4       6  "
      ]
     },
     "metadata": {},
     "output_type": "display_data"
    }
   ],
   "source": [
    "dataset = iris[,-5]\n",
    "\n",
    "df_sql = as.data.frame(dataset)\n",
    "names(df_sql) = sprintf(\"Feature_%d\",0:(ncol(df_sql)-1))\n",
    "df_sql$KEY = seq.int(nrow(dataset))\n",
    "\n",
    "sqlDrop(conn , \"INPUT_DATA\" , errors = FALSE)\n",
    "sqlSave(conn, df_sql, tablename = \"INPUT_DATA\", verbose = FALSE)\n",
    "\n",
    "head(df_sql)"
   ]
  },
  {
   "cell_type": "code",
   "execution_count": 9,
   "metadata": {},
   "outputs": [],
   "source": [
    "# colnames(df_sql)\n",
    "# odbcGetInfo(conn)\n",
    "# sqlTables(conn)"
   ]
  },
  {
   "cell_type": "code",
   "execution_count": 10,
   "metadata": {},
   "outputs": [
    {
     "data": {
      "text/html": [
       "<table>\n",
       "<thead><tr><th scope=col>KEY</th><th scope=col>Score_setosa</th><th scope=col>Score_versicolor</th><th scope=col>Score_virginica</th><th scope=col>Proba_setosa</th><th scope=col>Proba_versicolor</th><th scope=col>Proba_virginica</th><th scope=col>LogProba_setosa</th><th scope=col>LogProba_versicolor</th><th scope=col>LogProba_virginica</th><th scope=col>Decision</th><th scope=col>DecisionProba</th></tr></thead>\n",
       "<tbody>\n",
       "\t<tr><td> 87         </td><td>NA          </td><td>NA          </td><td>NA          </td><td>7.724367e-03</td><td>0.77543110  </td><td>0.21684453  </td><td>-4.863375   </td><td>-0.25433615 </td><td>-1.52857462 </td><td>versicolor  </td><td>0.7754311   </td></tr>\n",
       "\t<tr><td>116         </td><td>NA          </td><td>NA          </td><td>NA          </td><td>7.753639e-05</td><td>0.03820586  </td><td>0.96171661  </td><td>-9.464763   </td><td>-3.26476642 </td><td>-0.03903546 </td><td>virginica   </td><td>0.9617166   </td></tr>\n",
       "\t<tr><td> 71         </td><td>NA          </td><td>NA          </td><td>NA          </td><td>6.484588e-03</td><td>0.43973828  </td><td>0.55377713  </td><td>-5.038327   </td><td>-0.82157555 </td><td>-0.59099296 </td><td>virginica   </td><td>0.5537771   </td></tr>\n",
       "\t<tr><td> 68         </td><td>NA          </td><td>NA          </td><td>NA          </td><td>3.944781e-02</td><td>0.94330703  </td><td>0.01724516  </td><td>-3.232777   </td><td>-0.05836346 </td><td>-4.06022400 </td><td>versicolor  </td><td>0.9433070   </td></tr>\n",
       "\t<tr><td> 51         </td><td>NA          </td><td>NA          </td><td>NA          </td><td>9.925479e-03</td><td>0.85621344  </td><td>0.13386108  </td><td>-4.612650   </td><td>-0.15523559 </td><td>-2.01095273 </td><td>versicolor  </td><td>0.8562134   </td></tr>\n",
       "\t<tr><td> 52         </td><td>NA          </td><td>NA          </td><td>NA          </td><td>1.798519e-02</td><td>0.82259683  </td><td>0.15941798  </td><td>-4.018207   </td><td>-0.19528907 </td><td>-1.83622572 </td><td>versicolor  </td><td>0.8225968   </td></tr>\n",
       "</tbody>\n",
       "</table>\n"
      ],
      "text/latex": [
       "\\begin{tabular}{r|llllllllllll}\n",
       " KEY & Score\\_setosa & Score\\_versicolor & Score\\_virginica & Proba\\_setosa & Proba\\_versicolor & Proba\\_virginica & LogProba\\_setosa & LogProba\\_versicolor & LogProba\\_virginica & Decision & DecisionProba\\\\\n",
       "\\hline\n",
       "\t  87          & NA           & NA           & NA           & 7.724367e-03 & 0.77543110   & 0.21684453   & -4.863375    & -0.25433615  & -1.52857462  & versicolor   & 0.7754311   \\\\\n",
       "\t 116          & NA           & NA           & NA           & 7.753639e-05 & 0.03820586   & 0.96171661   & -9.464763    & -3.26476642  & -0.03903546  & virginica    & 0.9617166   \\\\\n",
       "\t  71          & NA           & NA           & NA           & 6.484588e-03 & 0.43973828   & 0.55377713   & -5.038327    & -0.82157555  & -0.59099296  & virginica    & 0.5537771   \\\\\n",
       "\t  68          & NA           & NA           & NA           & 3.944781e-02 & 0.94330703   & 0.01724516   & -3.232777    & -0.05836346  & -4.06022400  & versicolor   & 0.9433070   \\\\\n",
       "\t  51          & NA           & NA           & NA           & 9.925479e-03 & 0.85621344   & 0.13386108   & -4.612650    & -0.15523559  & -2.01095273  & versicolor   & 0.8562134   \\\\\n",
       "\t  52          & NA           & NA           & NA           & 1.798519e-02 & 0.82259683   & 0.15941798   & -4.018207    & -0.19528907  & -1.83622572  & versicolor   & 0.8225968   \\\\\n",
       "\\end{tabular}\n"
      ],
      "text/markdown": [
       "\n",
       "KEY | Score_setosa | Score_versicolor | Score_virginica | Proba_setosa | Proba_versicolor | Proba_virginica | LogProba_setosa | LogProba_versicolor | LogProba_virginica | Decision | DecisionProba | \n",
       "|---|---|---|---|---|---|\n",
       "|  87          | NA           | NA           | NA           | 7.724367e-03 | 0.77543110   | 0.21684453   | -4.863375    | -0.25433615  | -1.52857462  | versicolor   | 0.7754311    | \n",
       "| 116          | NA           | NA           | NA           | 7.753639e-05 | 0.03820586   | 0.96171661   | -9.464763    | -3.26476642  | -0.03903546  | virginica    | 0.9617166    | \n",
       "|  71          | NA           | NA           | NA           | 6.484588e-03 | 0.43973828   | 0.55377713   | -5.038327    | -0.82157555  | -0.59099296  | virginica    | 0.5537771    | \n",
       "|  68          | NA           | NA           | NA           | 3.944781e-02 | 0.94330703   | 0.01724516   | -3.232777    | -0.05836346  | -4.06022400  | versicolor   | 0.9433070    | \n",
       "|  51          | NA           | NA           | NA           | 9.925479e-03 | 0.85621344   | 0.13386108   | -4.612650    | -0.15523559  | -2.01095273  | versicolor   | 0.8562134    | \n",
       "|  52          | NA           | NA           | NA           | 1.798519e-02 | 0.82259683   | 0.15941798   | -4.018207    | -0.19528907  | -1.83622572  | versicolor   | 0.8225968    | \n",
       "\n",
       "\n"
      ],
      "text/plain": [
       "  KEY Score_setosa Score_versicolor Score_virginica Proba_setosa\n",
       "1  87 NA           NA               NA              7.724367e-03\n",
       "2 116 NA           NA               NA              7.753639e-05\n",
       "3  71 NA           NA               NA              6.484588e-03\n",
       "4  68 NA           NA               NA              3.944781e-02\n",
       "5  51 NA           NA               NA              9.925479e-03\n",
       "6  52 NA           NA               NA              1.798519e-02\n",
       "  Proba_versicolor Proba_virginica LogProba_setosa LogProba_versicolor\n",
       "1 0.77543110       0.21684453      -4.863375       -0.25433615        \n",
       "2 0.03820586       0.96171661      -9.464763       -3.26476642        \n",
       "3 0.43973828       0.55377713      -5.038327       -0.82157555        \n",
       "4 0.94330703       0.01724516      -3.232777       -0.05836346        \n",
       "5 0.85621344       0.13386108      -4.612650       -0.15523559        \n",
       "6 0.82259683       0.15941798      -4.018207       -0.19528907        \n",
       "  LogProba_virginica Decision   DecisionProba\n",
       "1 -1.52857462        versicolor 0.7754311    \n",
       "2 -0.03903546        virginica  0.9617166    \n",
       "3 -0.59099296        virginica  0.5537771    \n",
       "4 -4.06022400        versicolor 0.9433070    \n",
       "5 -2.01095273        versicolor 0.8562134    \n",
       "6 -1.83622572        versicolor 0.8225968    "
      ]
     },
     "metadata": {},
     "output_type": "display_data"
    }
   ],
   "source": [
    "df_sql_out = sqlQuery(conn, lModelSQL)\n",
    "head(df_sql_out)"
   ]
  },
  {
   "cell_type": "markdown",
   "metadata": {},
   "source": [
    "# R GLM Output"
   ]
  },
  {
   "cell_type": "code",
   "execution_count": 11,
   "metadata": {},
   "outputs": [
    {
     "data": {
      "text/html": [
       "<table>\n",
       "<thead><tr><th scope=col>Proba_setosa</th><th scope=col>Proba_versicolor</th><th scope=col>Proba_virginica</th><th scope=col>KEY</th><th scope=col>Score_setosa</th><th scope=col>Score_versicolor</th><th scope=col>Score_virginica</th><th scope=col>LogProba_setosa</th><th scope=col>LogProba_versicolor</th><th scope=col>LogProba_virginica</th><th scope=col>Decision</th><th scope=col>DecisionProba</th></tr></thead>\n",
       "<tbody>\n",
       "\t<tr><td>0.9842407   </td><td>0.01575925  </td><td>6.428232e-08</td><td>1           </td><td>NA          </td><td>NA          </td><td>NA          </td><td>-0.01588481 </td><td>-4.150328   </td><td>-16.55998   </td><td>setosa      </td><td>0.9842407   </td></tr>\n",
       "\t<tr><td>0.9530563   </td><td>0.04694337  </td><td>3.137309e-07</td><td>2           </td><td>NA          </td><td>NA          </td><td>NA          </td><td>-0.04808129 </td><td>-3.058813   </td><td>-14.97473   </td><td>setosa      </td><td>0.9530563   </td></tr>\n",
       "\t<tr><td>0.9791711   </td><td>0.02082876  </td><td>1.009568e-07</td><td>3           </td><td>NA          </td><td>NA          </td><td>NA          </td><td>-0.02104884 </td><td>-3.871420   </td><td>-16.10857   </td><td>setosa      </td><td>0.9791711   </td></tr>\n",
       "\t<tr><td>0.9695958   </td><td>0.03040395  </td><td>2.207086e-07</td><td>4           </td><td>NA          </td><td>NA          </td><td>NA          </td><td>-0.03087596 </td><td>-3.493183   </td><td>-15.32642   </td><td>setosa      </td><td>0.9695958   </td></tr>\n",
       "\t<tr><td>0.9889968   </td><td>0.01100320  </td><td>4.119518e-08</td><td>5           </td><td>NA          </td><td>NA          </td><td>NA          </td><td>-0.01106422 </td><td>-4.509569   </td><td>-17.00494   </td><td>setosa      </td><td>0.9889968   </td></tr>\n",
       "\t<tr><td>0.9850546   </td><td>0.01494520  </td><td>1.589663e-07</td><td>6           </td><td>NA          </td><td>NA          </td><td>NA          </td><td>-0.01505817 </td><td>-4.203365   </td><td>-15.65457   </td><td>setosa      </td><td>0.9850546   </td></tr>\n",
       "</tbody>\n",
       "</table>\n"
      ],
      "text/latex": [
       "\\begin{tabular}{r|llllllllllll}\n",
       " Proba\\_setosa & Proba\\_versicolor & Proba\\_virginica & KEY & Score\\_setosa & Score\\_versicolor & Score\\_virginica & LogProba\\_setosa & LogProba\\_versicolor & LogProba\\_virginica & Decision & DecisionProba\\\\\n",
       "\\hline\n",
       "\t 0.9842407    & 0.01575925   & 6.428232e-08 & 1            & NA           & NA           & NA           & -0.01588481  & -4.150328    & -16.55998    & setosa       & 0.9842407   \\\\\n",
       "\t 0.9530563    & 0.04694337   & 3.137309e-07 & 2            & NA           & NA           & NA           & -0.04808129  & -3.058813    & -14.97473    & setosa       & 0.9530563   \\\\\n",
       "\t 0.9791711    & 0.02082876   & 1.009568e-07 & 3            & NA           & NA           & NA           & -0.02104884  & -3.871420    & -16.10857    & setosa       & 0.9791711   \\\\\n",
       "\t 0.9695958    & 0.03040395   & 2.207086e-07 & 4            & NA           & NA           & NA           & -0.03087596  & -3.493183    & -15.32642    & setosa       & 0.9695958   \\\\\n",
       "\t 0.9889968    & 0.01100320   & 4.119518e-08 & 5            & NA           & NA           & NA           & -0.01106422  & -4.509569    & -17.00494    & setosa       & 0.9889968   \\\\\n",
       "\t 0.9850546    & 0.01494520   & 1.589663e-07 & 6            & NA           & NA           & NA           & -0.01505817  & -4.203365    & -15.65457    & setosa       & 0.9850546   \\\\\n",
       "\\end{tabular}\n"
      ],
      "text/markdown": [
       "\n",
       "Proba_setosa | Proba_versicolor | Proba_virginica | KEY | Score_setosa | Score_versicolor | Score_virginica | LogProba_setosa | LogProba_versicolor | LogProba_virginica | Decision | DecisionProba | \n",
       "|---|---|---|---|---|---|\n",
       "| 0.9842407    | 0.01575925   | 6.428232e-08 | 1            | NA           | NA           | NA           | -0.01588481  | -4.150328    | -16.55998    | setosa       | 0.9842407    | \n",
       "| 0.9530563    | 0.04694337   | 3.137309e-07 | 2            | NA           | NA           | NA           | -0.04808129  | -3.058813    | -14.97473    | setosa       | 0.9530563    | \n",
       "| 0.9791711    | 0.02082876   | 1.009568e-07 | 3            | NA           | NA           | NA           | -0.02104884  | -3.871420    | -16.10857    | setosa       | 0.9791711    | \n",
       "| 0.9695958    | 0.03040395   | 2.207086e-07 | 4            | NA           | NA           | NA           | -0.03087596  | -3.493183    | -15.32642    | setosa       | 0.9695958    | \n",
       "| 0.9889968    | 0.01100320   | 4.119518e-08 | 5            | NA           | NA           | NA           | -0.01106422  | -4.509569    | -17.00494    | setosa       | 0.9889968    | \n",
       "| 0.9850546    | 0.01494520   | 1.589663e-07 | 6            | NA           | NA           | NA           | -0.01505817  | -4.203365    | -15.65457    | setosa       | 0.9850546    | \n",
       "\n",
       "\n"
      ],
      "text/plain": [
       "  Proba_setosa Proba_versicolor Proba_virginica KEY Score_setosa\n",
       "1 0.9842407    0.01575925       6.428232e-08    1   NA          \n",
       "2 0.9530563    0.04694337       3.137309e-07    2   NA          \n",
       "3 0.9791711    0.02082876       1.009568e-07    3   NA          \n",
       "4 0.9695958    0.03040395       2.207086e-07    4   NA          \n",
       "5 0.9889968    0.01100320       4.119518e-08    5   NA          \n",
       "6 0.9850546    0.01494520       1.589663e-07    6   NA          \n",
       "  Score_versicolor Score_virginica LogProba_setosa LogProba_versicolor\n",
       "1 NA               NA              -0.01588481     -4.150328          \n",
       "2 NA               NA              -0.04808129     -3.058813          \n",
       "3 NA               NA              -0.02104884     -3.871420          \n",
       "4 NA               NA              -0.03087596     -3.493183          \n",
       "5 NA               NA              -0.01106422     -4.509569          \n",
       "6 NA               NA              -0.01505817     -4.203365          \n",
       "  LogProba_virginica Decision DecisionProba\n",
       "1 -16.55998          setosa   0.9842407    \n",
       "2 -14.97473          setosa   0.9530563    \n",
       "3 -16.10857          setosa   0.9791711    \n",
       "4 -15.32642          setosa   0.9695958    \n",
       "5 -17.00494          setosa   0.9889968    \n",
       "6 -15.65457          setosa   0.9850546    "
      ]
     },
     "metadata": {},
     "output_type": "display_data"
    }
   ],
   "source": [
    "pred_proba  =  predict(model, as.matrix(iris[,-5]), type = \"prob\")\n",
    "df_r_out = data.frame(pred_proba)\n",
    "names(df_r_out) = sprintf(\"Proba_%s\",model$levels)\n",
    "\n",
    "df_r_out$KEY = seq.int(nrow(dataset))\n",
    "df_r_out$Score_setosa  =  NA\n",
    "df_r_out$Score_versicolor  =  NA\n",
    "df_r_out$Score_virginica  =  NA\n",
    "df_r_out$LogProba_setosa  =  log(df_r_out$Proba_setosa)\n",
    "df_r_out$LogProba_versicolor =  log(df_r_out$Proba_versicolor)\n",
    "df_r_out$LogProba_virginica  =  log(df_r_out$Proba_virginica)\n",
    "df_r_out$Decision =   predict(model, as.matrix(iris[,-5]), type = \"raw\")\n",
    "df_r_out$DecisionProba =  apply(pred_proba, 1, function(x) max(x))\n",
    "head(df_r_out)\n",
    "\n"
   ]
  },
  {
   "cell_type": "markdown",
   "metadata": {},
   "source": [
    "# Compare R and SQL output"
   ]
  },
  {
   "cell_type": "code",
   "execution_count": 13,
   "metadata": {},
   "outputs": [
    {
     "data": {
      "text/html": [
       "<table>\n",
       "<thead><tr><th scope=col>KEY</th><th scope=col>Proba_setosa_1</th><th scope=col>Proba_versicolor_1</th><th scope=col>Proba_virginica_1</th><th scope=col>Score_setosa_1</th><th scope=col>Score_versicolor_1</th><th scope=col>Score_virginica_1</th><th scope=col>LogProba_setosa_1</th><th scope=col>LogProba_versicolor_1</th><th scope=col>LogProba_virginica_1</th><th scope=col>⋯</th><th scope=col>Score_versicolor_2</th><th scope=col>Score_virginica_2</th><th scope=col>Proba_setosa_2</th><th scope=col>Proba_versicolor_2</th><th scope=col>Proba_virginica_2</th><th scope=col>LogProba_setosa_2</th><th scope=col>LogProba_versicolor_2</th><th scope=col>LogProba_virginica_2</th><th scope=col>Decision_2</th><th scope=col>DecisionProba_2</th></tr></thead>\n",
       "<tbody>\n",
       "\t<tr><td>1           </td><td>0.9842407   </td><td>0.01575925  </td><td>6.428232e-08</td><td>NA          </td><td>NA          </td><td>NA          </td><td>-0.01588481 </td><td>-4.150328   </td><td>-16.55998   </td><td>⋯           </td><td>NA          </td><td>NA          </td><td>0.9842407   </td><td>0.01575925  </td><td>6.428232e-08</td><td>-0.01588481 </td><td>-4.150328   </td><td>-16.55998   </td><td>setosa      </td><td>0.9842407   </td></tr>\n",
       "\t<tr><td>2           </td><td>0.9530563   </td><td>0.04694337  </td><td>3.137309e-07</td><td>NA          </td><td>NA          </td><td>NA          </td><td>-0.04808129 </td><td>-3.058813   </td><td>-14.97473   </td><td>⋯           </td><td>NA          </td><td>NA          </td><td>0.9530563   </td><td>0.04694337  </td><td>3.137309e-07</td><td>-0.04808129 </td><td>-3.058813   </td><td>-14.97473   </td><td>setosa      </td><td>0.9530563   </td></tr>\n",
       "\t<tr><td>3           </td><td>0.9791711   </td><td>0.02082876  </td><td>1.009568e-07</td><td>NA          </td><td>NA          </td><td>NA          </td><td>-0.02104884 </td><td>-3.871420   </td><td>-16.10857   </td><td>⋯           </td><td>NA          </td><td>NA          </td><td>0.9791711   </td><td>0.02082876  </td><td>1.009568e-07</td><td>-0.02104884 </td><td>-3.871420   </td><td>-16.10857   </td><td>setosa      </td><td>0.9791711   </td></tr>\n",
       "\t<tr><td>4           </td><td>0.9695958   </td><td>0.03040395  </td><td>2.207086e-07</td><td>NA          </td><td>NA          </td><td>NA          </td><td>-0.03087596 </td><td>-3.493183   </td><td>-15.32642   </td><td>⋯           </td><td>NA          </td><td>NA          </td><td>0.9695958   </td><td>0.03040395  </td><td>2.207086e-07</td><td>-0.03087596 </td><td>-3.493183   </td><td>-15.32642   </td><td>setosa      </td><td>0.9695958   </td></tr>\n",
       "\t<tr><td>5           </td><td>0.9889968   </td><td>0.01100320  </td><td>4.119518e-08</td><td>NA          </td><td>NA          </td><td>NA          </td><td>-0.01106422 </td><td>-4.509569   </td><td>-17.00494   </td><td>⋯           </td><td>NA          </td><td>NA          </td><td>0.9889968   </td><td>0.01100320  </td><td>4.119518e-08</td><td>-0.01106422 </td><td>-4.509569   </td><td>-17.00494   </td><td>setosa      </td><td>0.9889968   </td></tr>\n",
       "\t<tr><td>6           </td><td>0.9850546   </td><td>0.01494520  </td><td>1.589663e-07</td><td>NA          </td><td>NA          </td><td>NA          </td><td>-0.01505817 </td><td>-4.203365   </td><td>-15.65457   </td><td>⋯           </td><td>NA          </td><td>NA          </td><td>0.9850546   </td><td>0.01494520  </td><td>1.589663e-07</td><td>-0.01505817 </td><td>-4.203365   </td><td>-15.65457   </td><td>setosa      </td><td>0.9850546   </td></tr>\n",
       "</tbody>\n",
       "</table>\n"
      ],
      "text/latex": [
       "\\begin{tabular}{r|lllllllllllllllllllllll}\n",
       " KEY & Proba\\_setosa\\_1 & Proba\\_versicolor\\_1 & Proba\\_virginica\\_1 & Score\\_setosa\\_1 & Score\\_versicolor\\_1 & Score\\_virginica\\_1 & LogProba\\_setosa\\_1 & LogProba\\_versicolor\\_1 & LogProba\\_virginica\\_1 & ⋯ & Score\\_versicolor\\_2 & Score\\_virginica\\_2 & Proba\\_setosa\\_2 & Proba\\_versicolor\\_2 & Proba\\_virginica\\_2 & LogProba\\_setosa\\_2 & LogProba\\_versicolor\\_2 & LogProba\\_virginica\\_2 & Decision\\_2 & DecisionProba\\_2\\\\\n",
       "\\hline\n",
       "\t 1            & 0.9842407    & 0.01575925   & 6.428232e-08 & NA           & NA           & NA           & -0.01588481  & -4.150328    & -16.55998    & ⋯            & NA           & NA           & 0.9842407    & 0.01575925   & 6.428232e-08 & -0.01588481  & -4.150328    & -16.55998    & setosa       & 0.9842407   \\\\\n",
       "\t 2            & 0.9530563    & 0.04694337   & 3.137309e-07 & NA           & NA           & NA           & -0.04808129  & -3.058813    & -14.97473    & ⋯            & NA           & NA           & 0.9530563    & 0.04694337   & 3.137309e-07 & -0.04808129  & -3.058813    & -14.97473    & setosa       & 0.9530563   \\\\\n",
       "\t 3            & 0.9791711    & 0.02082876   & 1.009568e-07 & NA           & NA           & NA           & -0.02104884  & -3.871420    & -16.10857    & ⋯            & NA           & NA           & 0.9791711    & 0.02082876   & 1.009568e-07 & -0.02104884  & -3.871420    & -16.10857    & setosa       & 0.9791711   \\\\\n",
       "\t 4            & 0.9695958    & 0.03040395   & 2.207086e-07 & NA           & NA           & NA           & -0.03087596  & -3.493183    & -15.32642    & ⋯            & NA           & NA           & 0.9695958    & 0.03040395   & 2.207086e-07 & -0.03087596  & -3.493183    & -15.32642    & setosa       & 0.9695958   \\\\\n",
       "\t 5            & 0.9889968    & 0.01100320   & 4.119518e-08 & NA           & NA           & NA           & -0.01106422  & -4.509569    & -17.00494    & ⋯            & NA           & NA           & 0.9889968    & 0.01100320   & 4.119518e-08 & -0.01106422  & -4.509569    & -17.00494    & setosa       & 0.9889968   \\\\\n",
       "\t 6            & 0.9850546    & 0.01494520   & 1.589663e-07 & NA           & NA           & NA           & -0.01505817  & -4.203365    & -15.65457    & ⋯            & NA           & NA           & 0.9850546    & 0.01494520   & 1.589663e-07 & -0.01505817  & -4.203365    & -15.65457    & setosa       & 0.9850546   \\\\\n",
       "\\end{tabular}\n"
      ],
      "text/markdown": [
       "\n",
       "KEY | Proba_setosa_1 | Proba_versicolor_1 | Proba_virginica_1 | Score_setosa_1 | Score_versicolor_1 | Score_virginica_1 | LogProba_setosa_1 | LogProba_versicolor_1 | LogProba_virginica_1 | ⋯ | Score_versicolor_2 | Score_virginica_2 | Proba_setosa_2 | Proba_versicolor_2 | Proba_virginica_2 | LogProba_setosa_2 | LogProba_versicolor_2 | LogProba_virginica_2 | Decision_2 | DecisionProba_2 | \n",
       "|---|---|---|---|---|---|\n",
       "| 1            | 0.9842407    | 0.01575925   | 6.428232e-08 | NA           | NA           | NA           | -0.01588481  | -4.150328    | -16.55998    | ⋯            | NA           | NA           | 0.9842407    | 0.01575925   | 6.428232e-08 | -0.01588481  | -4.150328    | -16.55998    | setosa       | 0.9842407    | \n",
       "| 2            | 0.9530563    | 0.04694337   | 3.137309e-07 | NA           | NA           | NA           | -0.04808129  | -3.058813    | -14.97473    | ⋯            | NA           | NA           | 0.9530563    | 0.04694337   | 3.137309e-07 | -0.04808129  | -3.058813    | -14.97473    | setosa       | 0.9530563    | \n",
       "| 3            | 0.9791711    | 0.02082876   | 1.009568e-07 | NA           | NA           | NA           | -0.02104884  | -3.871420    | -16.10857    | ⋯            | NA           | NA           | 0.9791711    | 0.02082876   | 1.009568e-07 | -0.02104884  | -3.871420    | -16.10857    | setosa       | 0.9791711    | \n",
       "| 4            | 0.9695958    | 0.03040395   | 2.207086e-07 | NA           | NA           | NA           | -0.03087596  | -3.493183    | -15.32642    | ⋯            | NA           | NA           | 0.9695958    | 0.03040395   | 2.207086e-07 | -0.03087596  | -3.493183    | -15.32642    | setosa       | 0.9695958    | \n",
       "| 5            | 0.9889968    | 0.01100320   | 4.119518e-08 | NA           | NA           | NA           | -0.01106422  | -4.509569    | -17.00494    | ⋯            | NA           | NA           | 0.9889968    | 0.01100320   | 4.119518e-08 | -0.01106422  | -4.509569    | -17.00494    | setosa       | 0.9889968    | \n",
       "| 6            | 0.9850546    | 0.01494520   | 1.589663e-07 | NA           | NA           | NA           | -0.01505817  | -4.203365    | -15.65457    | ⋯            | NA           | NA           | 0.9850546    | 0.01494520   | 1.589663e-07 | -0.01505817  | -4.203365    | -15.65457    | setosa       | 0.9850546    | \n",
       "\n",
       "\n"
      ],
      "text/plain": [
       "  KEY Proba_setosa_1 Proba_versicolor_1 Proba_virginica_1 Score_setosa_1\n",
       "1 1   0.9842407      0.01575925         6.428232e-08      NA            \n",
       "2 2   0.9530563      0.04694337         3.137309e-07      NA            \n",
       "3 3   0.9791711      0.02082876         1.009568e-07      NA            \n",
       "4 4   0.9695958      0.03040395         2.207086e-07      NA            \n",
       "5 5   0.9889968      0.01100320         4.119518e-08      NA            \n",
       "6 6   0.9850546      0.01494520         1.589663e-07      NA            \n",
       "  Score_versicolor_1 Score_virginica_1 LogProba_setosa_1 LogProba_versicolor_1\n",
       "1 NA                 NA                -0.01588481       -4.150328            \n",
       "2 NA                 NA                -0.04808129       -3.058813            \n",
       "3 NA                 NA                -0.02104884       -3.871420            \n",
       "4 NA                 NA                -0.03087596       -3.493183            \n",
       "5 NA                 NA                -0.01106422       -4.509569            \n",
       "6 NA                 NA                -0.01505817       -4.203365            \n",
       "  LogProba_virginica_1 ⋯ Score_versicolor_2 Score_virginica_2 Proba_setosa_2\n",
       "1 -16.55998            ⋯ NA                 NA                0.9842407     \n",
       "2 -14.97473            ⋯ NA                 NA                0.9530563     \n",
       "3 -16.10857            ⋯ NA                 NA                0.9791711     \n",
       "4 -15.32642            ⋯ NA                 NA                0.9695958     \n",
       "5 -17.00494            ⋯ NA                 NA                0.9889968     \n",
       "6 -15.65457            ⋯ NA                 NA                0.9850546     \n",
       "  Proba_versicolor_2 Proba_virginica_2 LogProba_setosa_2 LogProba_versicolor_2\n",
       "1 0.01575925         6.428232e-08      -0.01588481       -4.150328            \n",
       "2 0.04694337         3.137309e-07      -0.04808129       -3.058813            \n",
       "3 0.02082876         1.009568e-07      -0.02104884       -3.871420            \n",
       "4 0.03040395         2.207086e-07      -0.03087596       -3.493183            \n",
       "5 0.01100320         4.119518e-08      -0.01106422       -4.509569            \n",
       "6 0.01494520         1.589663e-07      -0.01505817       -4.203365            \n",
       "  LogProba_virginica_2 Decision_2 DecisionProba_2\n",
       "1 -16.55998            setosa     0.9842407      \n",
       "2 -14.97473            setosa     0.9530563      \n",
       "3 -16.10857            setosa     0.9791711      \n",
       "4 -15.32642            setosa     0.9695958      \n",
       "5 -17.00494            setosa     0.9889968      \n",
       "6 -15.65457            setosa     0.9850546      "
      ]
     },
     "metadata": {},
     "output_type": "display_data"
    }
   ],
   "source": [
    "df_merge = merge(x = df_r_out, y = df_sql_out, by = \"KEY\", all = TRUE, , suffixes = c(\"_1\",\"_2\"))\n",
    "head(df_merge)"
   ]
  },
  {
   "cell_type": "code",
   "execution_count": null,
   "metadata": {},
   "outputs": [],
   "source": []
  },
  {
   "cell_type": "code",
   "execution_count": 14,
   "metadata": {},
   "outputs": [
    {
     "name": "stderr",
     "output_type": "stream",
     "text": [
      "Warning message in cbind(parts$left, ellip_h, parts$right, deparse.level = 0L):\n",
      "“number of rows of result is not a multiple of vector length (arg 2)”Warning message in cbind(parts$left, ellip_h, parts$right, deparse.level = 0L):\n",
      "“number of rows of result is not a multiple of vector length (arg 2)”Warning message in cbind(parts$left, ellip_h, parts$right, deparse.level = 0L):\n",
      "“number of rows of result is not a multiple of vector length (arg 2)”Warning message in cbind(parts$left, ellip_h, parts$right, deparse.level = 0L):\n",
      "“number of rows of result is not a multiple of vector length (arg 2)”"
     ]
    },
    {
     "data": {
      "text/html": [
       "<table>\n",
       "<thead><tr><th scope=col>KEY</th><th scope=col>Proba_setosa_1</th><th scope=col>Proba_versicolor_1</th><th scope=col>Proba_virginica_1</th><th scope=col>Score_setosa_1</th><th scope=col>Score_versicolor_1</th><th scope=col>Score_virginica_1</th><th scope=col>LogProba_setosa_1</th><th scope=col>LogProba_versicolor_1</th><th scope=col>LogProba_virginica_1</th><th scope=col>⋯</th><th scope=col>Score_versicolor_2</th><th scope=col>Score_virginica_2</th><th scope=col>Proba_setosa_2</th><th scope=col>Proba_versicolor_2</th><th scope=col>Proba_virginica_2</th><th scope=col>LogProba_setosa_2</th><th scope=col>LogProba_versicolor_2</th><th scope=col>LogProba_virginica_2</th><th scope=col>Decision_2</th><th scope=col>DecisionProba_2</th></tr></thead>\n",
       "<tbody>\n",
       "</tbody>\n",
       "</table>\n"
      ],
      "text/latex": [
       "\\begin{tabular}{r|lllllllllllllllllllllll}\n",
       " KEY & Proba\\_setosa\\_1 & Proba\\_versicolor\\_1 & Proba\\_virginica\\_1 & Score\\_setosa\\_1 & Score\\_versicolor\\_1 & Score\\_virginica\\_1 & LogProba\\_setosa\\_1 & LogProba\\_versicolor\\_1 & LogProba\\_virginica\\_1 & ⋯ & Score\\_versicolor\\_2 & Score\\_virginica\\_2 & Proba\\_setosa\\_2 & Proba\\_versicolor\\_2 & Proba\\_virginica\\_2 & LogProba\\_setosa\\_2 & LogProba\\_versicolor\\_2 & LogProba\\_virginica\\_2 & Decision\\_2 & DecisionProba\\_2\\\\\n",
       "\\hline\n",
       "\\end{tabular}\n"
      ],
      "text/markdown": [
       "\n",
       "KEY | Proba_setosa_1 | Proba_versicolor_1 | Proba_virginica_1 | Score_setosa_1 | Score_versicolor_1 | Score_virginica_1 | LogProba_setosa_1 | LogProba_versicolor_1 | LogProba_virginica_1 | ⋯ | Score_versicolor_2 | Score_virginica_2 | Proba_setosa_2 | Proba_versicolor_2 | Proba_virginica_2 | LogProba_setosa_2 | LogProba_versicolor_2 | LogProba_virginica_2 | Decision_2 | DecisionProba_2 | \n",
       "||\n",
       "\n",
       "\n"
      ],
      "text/plain": [
       "     KEY Proba_setosa_1 Proba_versicolor_1 Proba_virginica_1 Score_setosa_1\n",
       "     Score_versicolor_1 Score_virginica_1 LogProba_setosa_1\n",
       "     LogProba_versicolor_1 LogProba_virginica_1 ⋯ Score_versicolor_2\n",
       "     Score_virginica_2 Proba_setosa_2 Proba_versicolor_2 Proba_virginica_2\n",
       "     LogProba_setosa_2 LogProba_versicolor_2 LogProba_virginica_2 Decision_2\n",
       "     DecisionProba_2"
      ]
     },
     "metadata": {},
     "output_type": "display_data"
    }
   ],
   "source": [
    "diffs_df = df_merge[df_merge$Decision_1 != df_merge$Decision_2,]\n",
    "head(diffs_df)"
   ]
  },
  {
   "cell_type": "code",
   "execution_count": 15,
   "metadata": {},
   "outputs": [],
   "source": [
    "stopifnot(nrow(diffs_df) == 0)"
   ]
  },
  {
   "cell_type": "code",
   "execution_count": null,
   "metadata": {},
   "outputs": [],
   "source": []
  },
  {
   "cell_type": "code",
   "execution_count": 16,
   "metadata": {},
   "outputs": [
    {
     "data": {
      "text/plain": [
       "      KEY         Score_setosa   Score_versicolor Score_virginica\n",
       " Min.   :  1.00   Mode:logical   Mode:logical     Mode:logical   \n",
       " 1st Qu.: 38.25   NA's:150       NA's:150         NA's:150       \n",
       " Median : 75.50                                                  \n",
       " Mean   : 75.50                                                  \n",
       " 3rd Qu.:112.75                                                  \n",
       " Max.   :150.00                                                  \n",
       "  Proba_setosa       Proba_versicolor   Proba_virginica    \n",
       " Min.   :0.0000000   Min.   :0.002302   Min.   :0.0000000  \n",
       " 1st Qu.:0.0004788   1st Qu.:0.021167   1st Qu.:0.0000003  \n",
       " Median :0.0193688   Median :0.071227   Median :0.0869492  \n",
       " Mean   :0.3333383   Mean   :0.333329   Mean   :0.3333331  \n",
       " 3rd Qu.:0.9656350   3rd Qu.:0.780442   3rd Qu.:0.8182826  \n",
       " Max.   :0.9966529   Max.   :0.966136   Max.   :0.9976978  \n",
       " LogProba_setosa      LogProba_versicolor LogProba_virginica         Decision \n",
       " Min.   :-16.939128   Min.   :-6.07391    Min.   :-18.997534   setosa    :50  \n",
       " 1st Qu.: -7.658981   1st Qu.:-3.85533    1st Qu.:-15.142958   versicolor:48  \n",
       " Median : -3.944091   Median :-2.64358    Median : -2.442773   virginica :52  \n",
       " Mean   : -4.532214   Mean   :-2.27138    Mean   : -6.215091                  \n",
       " 3rd Qu.: -0.034970   3rd Qu.:-0.24790    3rd Qu.: -0.200599                  \n",
       " Max.   : -0.003353   Max.   :-0.03445    Max.   : -0.002305                  \n",
       " DecisionProba   \n",
       " Min.   :0.5176  \n",
       " 1st Qu.:0.8573  \n",
       " Median :0.9426  \n",
       " Mean   :0.8942  \n",
       " 3rd Qu.:0.9788  \n",
       " Max.   :0.9977  "
      ]
     },
     "metadata": {},
     "output_type": "display_data"
    }
   ],
   "source": [
    "summary(df_sql_out)"
   ]
  },
  {
   "cell_type": "code",
   "execution_count": 17,
   "metadata": {},
   "outputs": [
    {
     "data": {
      "text/plain": [
       "  Proba_setosa       Proba_versicolor   Proba_virginica          KEY        \n",
       " Min.   :0.0000000   Min.   :0.002302   Min.   :0.0000000   Min.   :  1.00  \n",
       " 1st Qu.:0.0004788   1st Qu.:0.021167   1st Qu.:0.0000003   1st Qu.: 38.25  \n",
       " Median :0.0193688   Median :0.071227   Median :0.0869492   Median : 75.50  \n",
       " Mean   :0.3333383   Mean   :0.333329   Mean   :0.3333331   Mean   : 75.50  \n",
       " 3rd Qu.:0.9656350   3rd Qu.:0.780442   3rd Qu.:0.8182826   3rd Qu.:112.75  \n",
       " Max.   :0.9966529   Max.   :0.966136   Max.   :0.9976978   Max.   :150.00  \n",
       " Score_setosa   Score_versicolor Score_virginica LogProba_setosa     \n",
       " Mode:logical   Mode:logical     Mode:logical    Min.   :-16.939128  \n",
       " NA's:150       NA's:150         NA's:150        1st Qu.: -7.658981  \n",
       "                                                 Median : -3.944091  \n",
       "                                                 Mean   : -4.532214  \n",
       "                                                 3rd Qu.: -0.034970  \n",
       "                                                 Max.   : -0.003353  \n",
       " LogProba_versicolor LogProba_virginica         Decision  DecisionProba   \n",
       " Min.   :-6.07391    Min.   :-18.997534   setosa    :50   Min.   :0.5176  \n",
       " 1st Qu.:-3.85533    1st Qu.:-15.142958   versicolor:48   1st Qu.:0.8573  \n",
       " Median :-2.64358    Median : -2.442773   virginica :52   Median :0.9426  \n",
       " Mean   :-2.27138    Mean   : -6.215091                   Mean   :0.8942  \n",
       " 3rd Qu.:-0.24790    3rd Qu.: -0.200599                   3rd Qu.:0.9788  \n",
       " Max.   :-0.03445    Max.   : -0.002305                   Max.   :0.9977  "
      ]
     },
     "metadata": {},
     "output_type": "display_data"
    }
   ],
   "source": [
    "summary(df_r_out)"
   ]
  },
  {
   "cell_type": "code",
   "execution_count": null,
   "metadata": {},
   "outputs": [],
   "source": []
  }
 ],
 "metadata": {
  "kernelspec": {
   "display_name": "R",
   "language": "R",
   "name": "ir"
  },
  "language_info": {
   "codemirror_mode": "r",
   "file_extension": ".r",
   "mimetype": "text/x-r-source",
   "name": "R",
   "pygments_lexer": "r",
   "version": "3.5.1"
  }
 },
 "nbformat": 4,
 "nbformat_minor": 2
}
