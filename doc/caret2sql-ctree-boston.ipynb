{
 "cells": [
  {
   "cell_type": "code",
   "execution_count": 1,
   "metadata": {},
   "outputs": [
    {
     "name": "stderr",
     "output_type": "stream",
     "text": [
      "\n",
      "Attaching package: ‘httr’\n",
      "\n",
      "The following object is masked from ‘package:caret’:\n",
      "\n",
      "    progress\n",
      "\n"
     ]
    }
   ],
   "source": [
    "library(caret, quiet = TRUE)\n",
    "library(base64enc)\n",
    "library(httr, quiet = TRUE)\n",
    "\n",
    "library(mlbench)"
   ]
  },
  {
   "cell_type": "markdown",
   "metadata": {},
   "source": [
    "# Build a Model"
   ]
  },
  {
   "cell_type": "code",
   "execution_count": 2,
   "metadata": {},
   "outputs": [],
   "source": [
    "\n",
    "## multiclass classification in iris dataset:\n",
    "\n",
    "data(BostonHousing)\n",
    "BostonHousing$chas = as.numeric(BostonHousing$chas)\n",
    "\n",
    "set.seed(1960)\n",
    "\n",
    "dataset = BostonHousing[, -14] \n",
    "\n",
    "create_model  =  function() {\n",
    "\n",
    "    model <- train(medv ~ ., data = BostonHousing, method = \"ctree\")    \n",
    "\n",
    "    return(model)\n",
    "}\n"
   ]
  },
  {
   "cell_type": "code",
   "execution_count": 3,
   "metadata": {},
   "outputs": [],
   "source": [
    "model = create_model()\n",
    "# cat(model$feature_names)\n",
    "# print(model)"
   ]
  },
  {
   "cell_type": "code",
   "execution_count": 4,
   "metadata": {},
   "outputs": [
    {
     "data": {
      "text/plain": [
       "      medv         Estimator          Error          \n",
       " Min.   : 5.00   Min.   : 8.039   Min.   :-11.28571  \n",
       " 1st Qu.:17.02   1st Qu.:16.700   1st Qu.: -1.58643  \n",
       " Median :21.20   Median :20.816   Median :  0.06795  \n",
       " Mean   :22.53   Mean   :22.533   Mean   :  0.00000  \n",
       " 3rd Qu.:25.00   3rd Qu.:25.118   3rd Qu.:  1.31250  \n",
       " Max.   :50.00   Max.   :48.300   Max.   : 18.97143  "
      ]
     },
     "metadata": {},
     "output_type": "display_data"
    },
    {
     "data": {
      "text/html": [
       "0.102342507699286"
      ],
      "text/latex": [
       "0.102342507699286"
      ],
      "text/markdown": [
       "0.102342507699286"
      ],
      "text/plain": [
       "[1] 0.1023425"
      ]
     },
     "metadata": {},
     "output_type": "display_data"
    }
   ],
   "source": [
    "pred_labels <- predict(model, BostonHousing[, -14] , type=\"raw\")\n",
    "df = data.frame(BostonHousing[,14])\n",
    "names(df) = c(\"medv\")\n",
    "df$Estimator = pred_labels\n",
    "df$Error = df$Estimator - df$medv\n",
    "MAPE = mean(abs(df$Error / df$medv))\n",
    "summary(df)\n",
    "MAPE"
   ]
  },
  {
   "cell_type": "markdown",
   "metadata": {},
   "source": [
    "# SQL Code Generation"
   ]
  },
  {
   "cell_type": "code",
   "execution_count": 5,
   "metadata": {},
   "outputs": [],
   "source": [
    "\n",
    "test_ws_sql_gen = function(mod) {\n",
    "    WS_URL = \"https://sklearn2sql.herokuapp.com/model\"\n",
    "    WS_URL = \"http://localhost:1888/model\"\n",
    "    model_serialized <- serialize(mod, NULL)\n",
    "    b64_data = base64encode(model_serialized)\n",
    "    data = list(Name = \"xgboost_test_model\", SerializedModel = b64_data , SQLDialect = \"postgresql\" , Mode=\"caret\")\n",
    "    r = POST(WS_URL, body = data, encode = \"json\")\n",
    "    # print(r)\n",
    "    content = content(r)\n",
    "    # print(content)\n",
    "    lSQL = content$model$SQLGenrationResult[[1]]$SQL # content[\"model\"][\"SQLGenrationResult\"][0][\"SQL\"]\n",
    "    return(lSQL);\n",
    "}"
   ]
  },
  {
   "cell_type": "code",
   "execution_count": 6,
   "metadata": {
    "scrolled": false
   },
   "outputs": [
    {
     "name": "stdout",
     "output_type": "stream",
     "text": [
      "WITH \"DT_node_lookup\" AS \n",
      "(SELECT \"ADS\".\"KEY\" AS \"KEY\", CASE WHEN (\"ADS\".\"Feature_12\" <= 9.71) THEN CASE WHEN (\"ADS\".\"Feature_5\" <= 7.42) THEN CASE WHEN (\"ADS\".\"Feature_0\" <= 4.55587) THEN CASE WHEN (\"ADS\".\"Feature_5\" <= 6.718) THEN CASE WHEN (\"ADS\".\"Feature_12\" <= 7.6) THEN CASE WHEN (\"ADS\".\"Feature_7\" <= 6.2196) THEN CASE WHEN (\"ADS\".\"Feature_12\" <= 5.68) THEN 8 ELSE CASE WHEN (\"ADS\".\"Feature_8\" <= 4.0) THEN 10 ELSE 11 END END ELSE CASE WHEN (\"ADS\".\"Feature_5\" <= 6.345) THEN 13 ELSE 14 END END ELSE CASE WHEN (\"ADS\".\"Feature_5\" <= 6.12) THEN CASE WHEN (\"ADS\".\"Feature_10\" <= 19.1) THEN 17 ELSE 18 END ELSE CASE WHEN (\"ADS\".\"Feature_9\" <= 293.0) THEN 20 ELSE 21 END END END ELSE CASE WHEN (\"ADS\".\"Feature_5\" <= 6.939) THEN CASE WHEN (\"ADS\".\"Feature_10\" <= 17.6) THEN 24 ELSE 25 END ELSE CASE WHEN (\"ADS\".\"Feature_0\" <= 0.0686) THEN CASE WHEN (\"ADS\".\"Feature_6\" <= 49.3) THEN 28 ELSE 29 END ELSE 30 END END END ELSE 31 END ELSE CASE WHEN (\"ADS\".\"Feature_10\" <= 17.4) THEN CASE WHEN (\"ADS\".\"Feature_10\" <= 14.7) THEN 34 ELSE 35 END ELSE 36 END END ELSE CASE WHEN (\"ADS\".\"Feature_12\" <= 16.03) THEN CASE WHEN (\"ADS\".\"Feature_11\" <= 100.63) THEN 39 ELSE CASE WHEN (\"ADS\".\"Feature_10\" <= 17.8) THEN CASE WHEN (\"ADS\".\"Feature_5\" <= 6.129) THEN CASE WHEN (\"ADS\".\"Feature_9\" <= 311.0) THEN 43 ELSE 44 END ELSE 45 END ELSE CASE WHEN (\"ADS\".\"Feature_12\" <= 14.37) THEN CASE WHEN (\"ADS\".\"Feature_8\" <= 8.0) THEN CASE WHEN (\"ADS\".\"Feature_5\" <= 5.794) THEN 49 ELSE CASE WHEN (\"ADS\".\"Feature_6\" <= 45.1) THEN 51 ELSE CASE WHEN (\"ADS\".\"Feature_5\" <= 6.096) THEN 53 ELSE 54 END END END ELSE CASE WHEN (\"ADS\".\"Feature_12\" <= 12.67) THEN 56 ELSE 57 END END ELSE CASE WHEN (\"ADS\".\"Feature_6\" <= 88.4) THEN 59 ELSE 60 END END END END ELSE CASE WHEN (\"ADS\".\"Feature_9\" <= 437.0) THEN CASE WHEN (\"ADS\".\"Feature_0\" <= 0.55778) THEN CASE WHEN (\"ADS\".\"Feature_6\" <= 92.9) THEN 64 ELSE 65 END ELSE CASE WHEN (\"ADS\".\"Feature_9\" <= 307.0) THEN 67 ELSE 68 END END ELSE CASE WHEN (\"ADS\".\"Feature_12\" <= 19.78) THEN CASE WHEN (\"ADS\".\"Feature_0\" <= 5.66637) THEN 71 ELSE CASE WHEN (\"ADS\".\"Feature_5\" <= 6.471) THEN 73 ELSE 74 END END ELSE CASE WHEN (\"ADS\".\"Feature_4\" <= 0.671) THEN 76 ELSE CASE WHEN (\"ADS\".\"Feature_0\" <= 12.8023) THEN 78 ELSE 79 END END END END END END AS node_id_2 \n",
      "FROM \"INPUT_DATA\" AS \"ADS\"), \n",
      "\"DT_node_data\" AS \n",
      "(SELECT \"Values\".nid AS nid, \"Values\".\"E\" AS \"E\" \n",
      "FROM (SELECT 8 AS nid, 27.7615384615385 AS \"E\" UNION ALL SELECT 10 AS nid, 25.1176470588235 AS \"E\" UNION ALL SELECT 11 AS nid, 24.592307692307703 AS \"E\" UNION ALL SELECT 13 AS nid, 22.43 AS \"E\" UNION ALL SELECT 14 AS nid, 24.145454545454502 AS \"E\" UNION ALL SELECT 17 AS nid, 21.2818181818182 AS \"E\" UNION ALL SELECT 18 AS nid, 19.275 AS \"E\" UNION ALL SELECT 20 AS nid, 25.14 AS \"E\" UNION ALL SELECT 21 AS nid, 22.641666666666698 AS \"E\" UNION ALL SELECT 24 AS nid, 30.9214285714286 AS \"E\" UNION ALL SELECT 25 AS nid, 26.544444444444398 AS \"E\" UNION ALL SELECT 28 AS nid, 33.4692307692308 AS \"E\" UNION ALL SELECT 29 AS nid, 30.6142857142857 AS \"E\" UNION ALL SELECT 30 AS nid, 34.338888888888896 AS \"E\" UNION ALL SELECT 31 AS nid, 42.6714285714286 AS \"E\" UNION ALL SELECT 34 AS nid, 48.3 AS \"E\" UNION ALL SELECT 35 AS nid, 44.9444444444444 AS \"E\" UNION ALL SELECT 36 AS nid, 38.8857142857143 AS \"E\" UNION ALL SELECT 39 AS nid, 14.0142857142857 AS \"E\" UNION ALL SELECT 43 AS nid, 21.966666666666697 AS \"E\" UNION ALL SELECT 44 AS nid, 19.79375 AS \"E\" UNION ALL SELECT 45 AS nid, 24.55 AS \"E\" UNION ALL SELECT 49 AS nid, 18.525 AS \"E\" UNION ALL SELECT 51 AS nid, 22.425 AS \"E\" UNION ALL SELECT 53 AS nid, 19.105882352941197 AS \"E\" UNION ALL SELECT 54 AS nid, 20.815789473684198 AS \"E\" UNION ALL SELECT 56 AS nid, 23.06 AS \"E\" UNION ALL SELECT 57 AS nid, 20.615384615384603 AS \"E\" UNION ALL SELECT 59 AS nid, 19.8909090909091 AS \"E\" UNION ALL SELECT 60 AS nid, 16.7 AS \"E\" UNION ALL SELECT 64 AS nid, 20.1133333333333 AS \"E\" UNION ALL SELECT 65 AS nid, 17.723529411764698 AS \"E\" UNION ALL SELECT 67 AS nid, 14.01 AS \"E\" UNION ALL SELECT 68 AS nid, 14.6166666666667 AS \"E\" UNION ALL SELECT 71 AS nid, 16.5230769230769 AS \"E\" UNION ALL SELECT 73 AS nid, 13.8368421052632 AS \"E\" UNION ALL SELECT 74 AS nid, 16.2142857142857 AS \"E\" UNION ALL SELECT 76 AS nid, 13.466666666666699 AS \"E\" UNION ALL SELECT 78 AS nid, 10.46 AS \"E\" UNION ALL SELECT 79 AS nid, 8.03888888888889 AS \"E\") AS \"Values\"), \n",
      "\"DT_Output\" AS \n",
      "(SELECT \"DT_node_lookup\".\"KEY\" AS \"KEY\", \"DT_node_lookup\".node_id_2 AS node_id_2, \"DT_node_data\".nid AS nid, \"DT_node_data\".\"E\" AS \"E\" \n",
      "FROM \"DT_node_lookup\" LEFT OUTER JOIN \"DT_node_data\" ON \"DT_node_lookup\".node_id_2 = \"DT_node_data\".nid)\n",
      " SELECT \"DT_Output\".\"KEY\" AS \"KEY\", \"DT_Output\".\"E\" AS \"Estimator\" \n",
      "FROM \"DT_Output\""
     ]
    }
   ],
   "source": [
    "lModelSQL = test_ws_sql_gen(model)\n",
    "cat(lModelSQL)\n"
   ]
  },
  {
   "cell_type": "code",
   "execution_count": null,
   "metadata": {},
   "outputs": [],
   "source": []
  },
  {
   "cell_type": "markdown",
   "metadata": {},
   "source": [
    "# Execute the SQL Code"
   ]
  },
  {
   "cell_type": "code",
   "execution_count": 7,
   "metadata": {},
   "outputs": [
    {
     "data": {
      "text/html": [
       "0"
      ],
      "text/latex": [
       "0"
      ],
      "text/markdown": [
       "0"
      ],
      "text/plain": [
       "[1] 0"
      ]
     },
     "metadata": {},
     "output_type": "display_data"
    }
   ],
   "source": [
    "library(RODBC)\n",
    "conn = odbcConnect(\"pgsql\", uid=\"db\", pwd=\"db\", case=\"nochange\")\n",
    "odbcSetAutoCommit(conn , autoCommit = TRUE)"
   ]
  },
  {
   "cell_type": "code",
   "execution_count": 8,
   "metadata": {
    "scrolled": true
   },
   "outputs": [],
   "source": [
    "df_sql = dataset\n",
    "names(df_sql) = sprintf(\"Feature_%d\",0:(ncol(df_sql)-1))\n",
    "df_sql$KEY = seq.int(nrow(dataset))\n",
    "\n",
    "sqlDrop(conn , \"INPUT_DATA\" , errors = FALSE)\n",
    "sqlSave(conn, df_sql, tablename = \"INPUT_DATA\", verbose = FALSE)\n",
    "\n",
    "# df_sql"
   ]
  },
  {
   "cell_type": "code",
   "execution_count": 9,
   "metadata": {},
   "outputs": [
    {
     "data": {
      "text/html": [
       "<ol class=list-inline>\n",
       "\t<li>'Feature_0'</li>\n",
       "\t<li>'Feature_1'</li>\n",
       "\t<li>'Feature_2'</li>\n",
       "\t<li>'Feature_3'</li>\n",
       "\t<li>'Feature_4'</li>\n",
       "\t<li>'Feature_5'</li>\n",
       "\t<li>'Feature_6'</li>\n",
       "\t<li>'Feature_7'</li>\n",
       "\t<li>'Feature_8'</li>\n",
       "\t<li>'Feature_9'</li>\n",
       "\t<li>'Feature_10'</li>\n",
       "\t<li>'Feature_11'</li>\n",
       "\t<li>'Feature_12'</li>\n",
       "\t<li>'KEY'</li>\n",
       "</ol>\n"
      ],
      "text/latex": [
       "\\begin{enumerate*}\n",
       "\\item 'Feature\\_0'\n",
       "\\item 'Feature\\_1'\n",
       "\\item 'Feature\\_2'\n",
       "\\item 'Feature\\_3'\n",
       "\\item 'Feature\\_4'\n",
       "\\item 'Feature\\_5'\n",
       "\\item 'Feature\\_6'\n",
       "\\item 'Feature\\_7'\n",
       "\\item 'Feature\\_8'\n",
       "\\item 'Feature\\_9'\n",
       "\\item 'Feature\\_10'\n",
       "\\item 'Feature\\_11'\n",
       "\\item 'Feature\\_12'\n",
       "\\item 'KEY'\n",
       "\\end{enumerate*}\n"
      ],
      "text/markdown": [
       "1. 'Feature_0'\n",
       "2. 'Feature_1'\n",
       "3. 'Feature_2'\n",
       "4. 'Feature_3'\n",
       "5. 'Feature_4'\n",
       "6. 'Feature_5'\n",
       "7. 'Feature_6'\n",
       "8. 'Feature_7'\n",
       "9. 'Feature_8'\n",
       "10. 'Feature_9'\n",
       "11. 'Feature_10'\n",
       "12. 'Feature_11'\n",
       "13. 'Feature_12'\n",
       "14. 'KEY'\n",
       "\n",
       "\n"
      ],
      "text/plain": [
       " [1] \"Feature_0\"  \"Feature_1\"  \"Feature_2\"  \"Feature_3\"  \"Feature_4\" \n",
       " [6] \"Feature_5\"  \"Feature_6\"  \"Feature_7\"  \"Feature_8\"  \"Feature_9\" \n",
       "[11] \"Feature_10\" \"Feature_11\" \"Feature_12\" \"KEY\"       "
      ]
     },
     "metadata": {},
     "output_type": "display_data"
    }
   ],
   "source": [
    "colnames(df_sql)\n",
    "# odbcGetInfo(conn)\n",
    "# sqlTables(conn)"
   ]
  },
  {
   "cell_type": "code",
   "execution_count": 10,
   "metadata": {},
   "outputs": [
    {
     "data": {
      "text/html": [
       "<table>\n",
       "<thead><tr><th scope=col>KEY</th><th scope=col>Estimator</th></tr></thead>\n",
       "<tbody>\n",
       "\t<tr><td>1       </td><td>27.76154</td></tr>\n",
       "\t<tr><td>2       </td><td>25.14000</td></tr>\n",
       "\t<tr><td>3       </td><td>30.61429</td></tr>\n",
       "\t<tr><td>4       </td><td>33.46923</td></tr>\n",
       "\t<tr><td>5       </td><td>34.33889</td></tr>\n",
       "\t<tr><td>6       </td><td>27.76154</td></tr>\n",
       "</tbody>\n",
       "</table>\n"
      ],
      "text/latex": [
       "\\begin{tabular}{r|ll}\n",
       " KEY & Estimator\\\\\n",
       "\\hline\n",
       "\t 1        & 27.76154\\\\\n",
       "\t 2        & 25.14000\\\\\n",
       "\t 3        & 30.61429\\\\\n",
       "\t 4        & 33.46923\\\\\n",
       "\t 5        & 34.33889\\\\\n",
       "\t 6        & 27.76154\\\\\n",
       "\\end{tabular}\n"
      ],
      "text/markdown": [
       "\n",
       "KEY | Estimator | \n",
       "|---|---|---|---|---|---|\n",
       "| 1        | 27.76154 | \n",
       "| 2        | 25.14000 | \n",
       "| 3        | 30.61429 | \n",
       "| 4        | 33.46923 | \n",
       "| 5        | 34.33889 | \n",
       "| 6        | 27.76154 | \n",
       "\n",
       "\n"
      ],
      "text/plain": [
       "  KEY Estimator\n",
       "1 1   27.76154 \n",
       "2 2   25.14000 \n",
       "3 3   30.61429 \n",
       "4 4   33.46923 \n",
       "5 5   34.33889 \n",
       "6 6   27.76154 "
      ]
     },
     "metadata": {},
     "output_type": "display_data"
    }
   ],
   "source": [
    "df_sql_out = sqlQuery(conn, lModelSQL)\n",
    "head(df_sql_out[order(df_sql_out$KEY),])"
   ]
  },
  {
   "cell_type": "code",
   "execution_count": 11,
   "metadata": {},
   "outputs": [],
   "source": [
    "# df_sql_out"
   ]
  },
  {
   "cell_type": "markdown",
   "metadata": {},
   "source": [
    "# R RPART Output"
   ]
  },
  {
   "cell_type": "code",
   "execution_count": 12,
   "metadata": {},
   "outputs": [
    {
     "data": {
      "text/html": [
       "<table>\n",
       "<thead><tr><th scope=col>Estimator</th><th scope=col>KEY</th></tr></thead>\n",
       "<tbody>\n",
       "\t<tr><td>27.76154</td><td>1       </td></tr>\n",
       "\t<tr><td>25.14000</td><td>2       </td></tr>\n",
       "\t<tr><td>30.61429</td><td>3       </td></tr>\n",
       "\t<tr><td>33.46923</td><td>4       </td></tr>\n",
       "\t<tr><td>34.33889</td><td>5       </td></tr>\n",
       "\t<tr><td>27.76154</td><td>6       </td></tr>\n",
       "</tbody>\n",
       "</table>\n"
      ],
      "text/latex": [
       "\\begin{tabular}{r|ll}\n",
       " Estimator & KEY\\\\\n",
       "\\hline\n",
       "\t 27.76154 & 1       \\\\\n",
       "\t 25.14000 & 2       \\\\\n",
       "\t 30.61429 & 3       \\\\\n",
       "\t 33.46923 & 4       \\\\\n",
       "\t 34.33889 & 5       \\\\\n",
       "\t 27.76154 & 6       \\\\\n",
       "\\end{tabular}\n"
      ],
      "text/markdown": [
       "\n",
       "Estimator | KEY | \n",
       "|---|---|---|---|---|---|\n",
       "| 27.76154 | 1        | \n",
       "| 25.14000 | 2        | \n",
       "| 30.61429 | 3        | \n",
       "| 33.46923 | 4        | \n",
       "| 34.33889 | 5        | \n",
       "| 27.76154 | 6        | \n",
       "\n",
       "\n"
      ],
      "text/plain": [
       "  Estimator KEY\n",
       "1 27.76154  1  \n",
       "2 25.14000  2  \n",
       "3 30.61429  3  \n",
       "4 33.46923  4  \n",
       "5 34.33889  5  \n",
       "6 27.76154  6  "
      ]
     },
     "metadata": {},
     "output_type": "display_data"
    }
   ],
   "source": [
    "estimator  =  predict(model, dataset, type = \"raw\")\n",
    "df_r_out = data.frame(estimator)\n",
    "names(df_r_out) = c(\"Estimator\")\n",
    "\n",
    "df_r_out$KEY = seq.int(nrow(dataset))\n",
    "head(df_r_out)\n"
   ]
  },
  {
   "cell_type": "markdown",
   "metadata": {},
   "source": [
    "# Compare R and SQL output"
   ]
  },
  {
   "cell_type": "code",
   "execution_count": 13,
   "metadata": {},
   "outputs": [
    {
     "data": {
      "text/html": [
       "<table>\n",
       "<thead><tr><th scope=col>KEY</th><th scope=col>Estimator_1</th><th scope=col>Estimator_2</th></tr></thead>\n",
       "<tbody>\n",
       "\t<tr><td>1       </td><td>27.76154</td><td>27.76154</td></tr>\n",
       "\t<tr><td>2       </td><td>25.14000</td><td>25.14000</td></tr>\n",
       "\t<tr><td>3       </td><td>30.61429</td><td>30.61429</td></tr>\n",
       "\t<tr><td>4       </td><td>33.46923</td><td>33.46923</td></tr>\n",
       "\t<tr><td>5       </td><td>34.33889</td><td>34.33889</td></tr>\n",
       "\t<tr><td>6       </td><td>27.76154</td><td>27.76154</td></tr>\n",
       "</tbody>\n",
       "</table>\n"
      ],
      "text/latex": [
       "\\begin{tabular}{r|lll}\n",
       " KEY & Estimator\\_1 & Estimator\\_2\\\\\n",
       "\\hline\n",
       "\t 1        & 27.76154 & 27.76154\\\\\n",
       "\t 2        & 25.14000 & 25.14000\\\\\n",
       "\t 3        & 30.61429 & 30.61429\\\\\n",
       "\t 4        & 33.46923 & 33.46923\\\\\n",
       "\t 5        & 34.33889 & 34.33889\\\\\n",
       "\t 6        & 27.76154 & 27.76154\\\\\n",
       "\\end{tabular}\n"
      ],
      "text/markdown": [
       "\n",
       "KEY | Estimator_1 | Estimator_2 | \n",
       "|---|---|---|---|---|---|\n",
       "| 1        | 27.76154 | 27.76154 | \n",
       "| 2        | 25.14000 | 25.14000 | \n",
       "| 3        | 30.61429 | 30.61429 | \n",
       "| 4        | 33.46923 | 33.46923 | \n",
       "| 5        | 34.33889 | 34.33889 | \n",
       "| 6        | 27.76154 | 27.76154 | \n",
       "\n",
       "\n"
      ],
      "text/plain": [
       "  KEY Estimator_1 Estimator_2\n",
       "1 1   27.76154    27.76154   \n",
       "2 2   25.14000    25.14000   \n",
       "3 3   30.61429    30.61429   \n",
       "4 4   33.46923    33.46923   \n",
       "5 5   34.33889    34.33889   \n",
       "6 6   27.76154    27.76154   "
      ]
     },
     "metadata": {},
     "output_type": "display_data"
    }
   ],
   "source": [
    "df_merge = merge(x = df_r_out, y = df_sql_out, by = \"KEY\", all = TRUE, , suffixes = c(\"_1\",\"_2\"))\n",
    "head(df_merge)"
   ]
  },
  {
   "cell_type": "code",
   "execution_count": 14,
   "metadata": {},
   "outputs": [
    {
     "data": {
      "text/html": [
       "<table>\n",
       "<thead><tr><th scope=col>KEY</th><th scope=col>Estimator_1</th><th scope=col>Estimator_2</th><th scope=col>Error</th><th scope=col>AbsError</th></tr></thead>\n",
       "<tbody>\n",
       "\t<tr><td>1            </td><td>27.76154     </td><td>27.76154     </td><td>-3.552714e-14</td><td>3.552714e-14 </td></tr>\n",
       "\t<tr><td>2            </td><td>25.14000     </td><td>25.14000     </td><td>-3.552714e-15</td><td>3.552714e-15 </td></tr>\n",
       "\t<tr><td>3            </td><td>30.61429     </td><td>30.61429     </td><td> 2.131628e-14</td><td>2.131628e-14 </td></tr>\n",
       "\t<tr><td>4            </td><td>33.46923     </td><td>33.46923     </td><td>-2.842171e-14</td><td>2.842171e-14 </td></tr>\n",
       "\t<tr><td>5            </td><td>34.33889     </td><td>34.33889     </td><td>-7.105427e-15</td><td>7.105427e-15 </td></tr>\n",
       "\t<tr><td>6            </td><td>27.76154     </td><td>27.76154     </td><td>-3.552714e-14</td><td>3.552714e-14 </td></tr>\n",
       "</tbody>\n",
       "</table>\n"
      ],
      "text/latex": [
       "\\begin{tabular}{r|lllll}\n",
       " KEY & Estimator\\_1 & Estimator\\_2 & Error & AbsError\\\\\n",
       "\\hline\n",
       "\t 1             & 27.76154      & 27.76154      & -3.552714e-14 & 3.552714e-14 \\\\\n",
       "\t 2             & 25.14000      & 25.14000      & -3.552714e-15 & 3.552714e-15 \\\\\n",
       "\t 3             & 30.61429      & 30.61429      &  2.131628e-14 & 2.131628e-14 \\\\\n",
       "\t 4             & 33.46923      & 33.46923      & -2.842171e-14 & 2.842171e-14 \\\\\n",
       "\t 5             & 34.33889      & 34.33889      & -7.105427e-15 & 7.105427e-15 \\\\\n",
       "\t 6             & 27.76154      & 27.76154      & -3.552714e-14 & 3.552714e-14 \\\\\n",
       "\\end{tabular}\n"
      ],
      "text/markdown": [
       "\n",
       "KEY | Estimator_1 | Estimator_2 | Error | AbsError | \n",
       "|---|---|---|---|---|---|\n",
       "| 1             | 27.76154      | 27.76154      | -3.552714e-14 | 3.552714e-14  | \n",
       "| 2             | 25.14000      | 25.14000      | -3.552714e-15 | 3.552714e-15  | \n",
       "| 3             | 30.61429      | 30.61429      |  2.131628e-14 | 2.131628e-14  | \n",
       "| 4             | 33.46923      | 33.46923      | -2.842171e-14 | 2.842171e-14  | \n",
       "| 5             | 34.33889      | 34.33889      | -7.105427e-15 | 7.105427e-15  | \n",
       "| 6             | 27.76154      | 27.76154      | -3.552714e-14 | 3.552714e-14  | \n",
       "\n",
       "\n"
      ],
      "text/plain": [
       "  KEY Estimator_1 Estimator_2 Error         AbsError    \n",
       "1 1   27.76154    27.76154    -3.552714e-14 3.552714e-14\n",
       "2 2   25.14000    25.14000    -3.552714e-15 3.552714e-15\n",
       "3 3   30.61429    30.61429     2.131628e-14 2.131628e-14\n",
       "4 4   33.46923    33.46923    -2.842171e-14 2.842171e-14\n",
       "5 5   34.33889    34.33889    -7.105427e-15 7.105427e-15\n",
       "6 6   27.76154    27.76154    -3.552714e-14 3.552714e-14"
      ]
     },
     "metadata": {},
     "output_type": "display_data"
    }
   ],
   "source": [
    "df_merge$Error = df_merge$Estimator_1 - df_merge$Estimator_2\n",
    "df_merge$AbsError = abs(df_merge$Error)\n",
    "head(df_merge)\n"
   ]
  },
  {
   "cell_type": "code",
   "execution_count": 15,
   "metadata": {},
   "outputs": [
    {
     "data": {
      "text/html": [
       "<table>\n",
       "<thead><tr><th scope=col>KEY</th><th scope=col>Estimator_1</th><th scope=col>Estimator_2</th><th scope=col>Error</th><th scope=col>AbsError</th></tr></thead>\n",
       "<tbody>\n",
       "</tbody>\n",
       "</table>\n"
      ],
      "text/latex": [
       "\\begin{tabular}{r|lllll}\n",
       " KEY & Estimator\\_1 & Estimator\\_2 & Error & AbsError\\\\\n",
       "\\hline\n",
       "\\end{tabular}\n"
      ],
      "text/markdown": [
       "\n",
       "KEY | Estimator_1 | Estimator_2 | Error | AbsError | \n",
       "||\n",
       "\n",
       "\n"
      ],
      "text/plain": [
       "     KEY Estimator_1 Estimator_2 Error AbsError"
      ]
     },
     "metadata": {},
     "output_type": "display_data"
    }
   ],
   "source": [
    "df_merge_largest_errors = df_merge[df_merge$AbsError > 0.0001,]\n",
    "df_merge_largest_errors"
   ]
  },
  {
   "cell_type": "code",
   "execution_count": 16,
   "metadata": {},
   "outputs": [
    {
     "data": {
      "text/html": [
       "0"
      ],
      "text/latex": [
       "0"
      ],
      "text/markdown": [
       "0"
      ],
      "text/plain": [
       "[1] 0"
      ]
     },
     "metadata": {},
     "output_type": "display_data"
    }
   ],
   "source": [
    "nrow(df_merge_largest_errors)\n",
    "stopifnot(nrow(df_merge_largest_errors) == 0)\n"
   ]
  },
  {
   "cell_type": "code",
   "execution_count": null,
   "metadata": {},
   "outputs": [],
   "source": []
  },
  {
   "cell_type": "code",
   "execution_count": 17,
   "metadata": {},
   "outputs": [
    {
     "data": {
      "text/plain": [
       "      KEY          Estimator     \n",
       " Min.   :  1.0   Min.   : 8.039  \n",
       " 1st Qu.:127.2   1st Qu.:16.700  \n",
       " Median :253.5   Median :20.816  \n",
       " Mean   :253.5   Mean   :22.533  \n",
       " 3rd Qu.:379.8   3rd Qu.:25.118  \n",
       " Max.   :506.0   Max.   :48.300  "
      ]
     },
     "metadata": {},
     "output_type": "display_data"
    }
   ],
   "source": [
    "summary(df_sql_out)"
   ]
  },
  {
   "cell_type": "code",
   "execution_count": 18,
   "metadata": {},
   "outputs": [
    {
     "data": {
      "text/plain": [
       "   Estimator           KEY       \n",
       " Min.   : 8.039   Min.   :  1.0  \n",
       " 1st Qu.:16.700   1st Qu.:127.2  \n",
       " Median :20.816   Median :253.5  \n",
       " Mean   :22.533   Mean   :253.5  \n",
       " 3rd Qu.:25.118   3rd Qu.:379.8  \n",
       " Max.   :48.300   Max.   :506.0  "
      ]
     },
     "metadata": {},
     "output_type": "display_data"
    }
   ],
   "source": [
    "summary(df_r_out)"
   ]
  },
  {
   "cell_type": "code",
   "execution_count": 19,
   "metadata": {},
   "outputs": [
    {
     "data": {
      "text/plain": [
       "      KEY         Estimator_1      Estimator_2         Error           \n",
       " Min.   :  1.0   Min.   : 8.039   Min.   : 8.039   Min.   :-4.263e-14  \n",
       " 1st Qu.:127.2   1st Qu.:16.700   1st Qu.:16.700   1st Qu.:-2.132e-14  \n",
       " Median :253.5   Median :20.816   Median :20.816   Median :-3.553e-15  \n",
       " Mean   :253.5   Mean   :22.533   Mean   :22.533   Mean   :-2.422e-15  \n",
       " 3rd Qu.:379.8   3rd Qu.:25.118   3rd Qu.:25.118   3rd Qu.: 1.243e-14  \n",
       " Max.   :506.0   Max.   :48.300   Max.   :48.300   Max.   : 4.619e-14  \n",
       "    AbsError        \n",
       " Min.   :0.000e+00  \n",
       " 1st Qu.:3.553e-15  \n",
       " Median :1.421e-14  \n",
       " Mean   :1.743e-14  \n",
       " 3rd Qu.:2.842e-14  \n",
       " Max.   :4.619e-14  "
      ]
     },
     "metadata": {},
     "output_type": "display_data"
    }
   ],
   "source": [
    "summary(df_merge)"
   ]
  },
  {
   "cell_type": "code",
   "execution_count": 20,
   "metadata": {
    "scrolled": false
   },
   "outputs": [
    {
     "data": {
      "text/plain": [
       "\n",
       "\t Conditional inference tree with 40 terminal nodes\n",
       "\n",
       "Response:  .outcome \n",
       "Inputs:  crim, zn, indus, chas, nox, rm, age, dis, rad, tax, ptratio, b, lstat \n",
       "Number of observations:  506 \n",
       "\n",
       "1) lstat <= 9.71; criterion = 1, statistic = 274.794\n",
       "  2) rm <= 7.42; criterion = 1, statistic = 104.692\n",
       "    3) crim <= 4.55587; criterion = 1, statistic = 39.897\n",
       "      4) rm <= 6.718; criterion = 1, statistic = 84.26\n",
       "        5) lstat <= 7.6; criterion = 0.998, statistic = 14.073\n",
       "          6) dis <= 6.2196; criterion = 0.984, statistic = 10.39\n",
       "            7) lstat <= 5.68; criterion = 0.939, statistic = 7.939\n",
       "              8)*  weights = 13 \n",
       "            7) lstat > 5.68\n",
       "              9) rad <= 4; criterion = 0.027, statistic = 1.366\n",
       "                10)*  weights = 17 \n",
       "              9) rad > 4\n",
       "                11)*  weights = 13 \n",
       "          6) dis > 6.2196\n",
       "            12) rm <= 6.345; criterion = 0.956, statistic = 8.564\n",
       "              13)*  weights = 10 \n",
       "            12) rm > 6.345\n",
       "              14)*  weights = 11 \n",
       "        5) lstat > 7.6\n",
       "          15) rm <= 6.12; criterion = 0.983, statistic = 10.282\n",
       "            16) ptratio <= 19.1; criterion = 0.565, statistic = 4.096\n",
       "              17)*  weights = 11 \n",
       "            16) ptratio > 19.1\n",
       "              18)*  weights = 12 \n",
       "          15) rm > 6.12\n",
       "            19) tax <= 293; criterion = 0.306, statistic = 2.929\n",
       "              20)*  weights = 15 \n",
       "            19) tax > 293\n",
       "              21)*  weights = 12 \n",
       "      4) rm > 6.718\n",
       "        22) rm <= 6.939; criterion = 0.997, statistic = 13.433\n",
       "          23) ptratio <= 17.6; criterion = 0.917, statistic = 7.362\n",
       "            24)*  weights = 14 \n",
       "          23) ptratio > 17.6\n",
       "            25)*  weights = 9 \n",
       "        22) rm > 6.939\n",
       "          26) crim <= 0.0686; criterion = 0.198, statistic = 2.456\n",
       "            27) age <= 49.3; criterion = 0.72, statistic = 5.024\n",
       "              28)*  weights = 13 \n",
       "            27) age > 49.3\n",
       "              29)*  weights = 7 \n",
       "          26) crim > 0.0686\n",
       "            30)*  weights = 18 \n",
       "    3) crim > 4.55587\n",
       "      31)*  weights = 7 \n",
       "  2) rm > 7.42\n",
       "    32) ptratio <= 17.4; criterion = 0.989, statistic = 11.141\n",
       "      33) ptratio <= 14.7; criterion = 0.224, statistic = 2.571\n",
       "        34)*  weights = 14 \n",
       "      33) ptratio > 14.7\n",
       "        35)*  weights = 9 \n",
       "    32) ptratio > 17.4\n",
       "      36)*  weights = 7 \n",
       "1) lstat > 9.71\n",
       "  37) lstat <= 16.03; criterion = 1, statistic = 127.792\n",
       "    38) b <= 100.63; criterion = 1, statistic = 19.678\n",
       "      39)*  weights = 7 \n",
       "    38) b > 100.63\n",
       "      40) ptratio <= 17.8; criterion = 0.997, statistic = 13.693\n",
       "        41) rm <= 6.129; criterion = 0.999, statistic = 15.109\n",
       "          42) tax <= 311; criterion = 0.872, statistic = 6.545\n",
       "            43)*  weights = 15 \n",
       "          42) tax > 311\n",
       "            44)*  weights = 16 \n",
       "        41) rm > 6.129\n",
       "          45)*  weights = 12 \n",
       "      40) ptratio > 17.8\n",
       "        46) lstat <= 14.37; criterion = 0.952, statistic = 8.382\n",
       "          47) rad <= 8; criterion = 0.905, statistic = 7.123\n",
       "            48) rm <= 5.794; criterion = 0.879, statistic = 6.661\n",
       "              49)*  weights = 12 \n",
       "            48) rm > 5.794\n",
       "              50) age <= 45.1; criterion = 0.942, statistic = 8.027\n",
       "                51)*  weights = 8 \n",
       "              50) age > 45.1\n",
       "                52) rm <= 6.096; criterion = 0.308, statistic = 2.935\n",
       "                  53)*  weights = 17 \n",
       "                52) rm > 6.096\n",
       "                  54)*  weights = 19 \n",
       "          47) rad > 8\n",
       "            55) lstat <= 12.67; criterion = 0.01, statistic = 1.086\n",
       "              56)*  weights = 10 \n",
       "            55) lstat > 12.67\n",
       "              57)*  weights = 13 \n",
       "        46) lstat > 14.37\n",
       "          58) age <= 88.4; criterion = 0.939, statistic = 7.942\n",
       "            59)*  weights = 11 \n",
       "          58) age > 88.4\n",
       "            60)*  weights = 10 \n",
       "  37) lstat > 16.03\n",
       "    61) tax <= 437; criterion = 1, statistic = 36.614\n",
       "      62) crim <= 0.55778; criterion = 0.999, statistic = 15.63\n",
       "        63) age <= 92.9; criterion = 0.838, statistic = 6.106\n",
       "          64)*  weights = 15 \n",
       "        63) age > 92.9\n",
       "          65)*  weights = 17 \n",
       "      62) crim > 0.55778\n",
       "        66) tax <= 307; criterion = 0.016, statistic = 1.202\n",
       "          67)*  weights = 10 \n",
       "        66) tax > 307\n",
       "          68)*  weights = 12 \n",
       "    61) tax > 437\n",
       "      69) lstat <= 19.78; criterion = 1, statistic = 20.69\n",
       "        70) crim <= 5.66637; criterion = 0.261, statistic = 2.736\n",
       "          71)*  weights = 13 \n",
       "        70) crim > 5.66637\n",
       "          72) rm <= 6.471; criterion = 0.231, statistic = 2.603\n",
       "            73)*  weights = 19 \n",
       "          72) rm > 6.471\n",
       "            74)*  weights = 7 \n",
       "      69) lstat > 19.78\n",
       "        75) nox <= 0.671; criterion = 0.995, statistic = 12.776\n",
       "          76)*  weights = 18 \n",
       "        75) nox > 0.671\n",
       "          77) crim <= 12.8023; criterion = 0.906, statistic = 7.14\n",
       "            78)*  weights = 15 \n",
       "          77) crim > 12.8023\n",
       "            79)*  weights = 18 "
      ]
     },
     "metadata": {},
     "output_type": "display_data"
    }
   ],
   "source": [
    "model$finalModel"
   ]
  },
  {
   "cell_type": "code",
   "execution_count": null,
   "metadata": {},
   "outputs": [],
   "source": []
  }
 ],
 "metadata": {
  "kernelspec": {
   "display_name": "R",
   "language": "R",
   "name": "ir"
  },
  "language_info": {
   "codemirror_mode": "r",
   "file_extension": ".r",
   "mimetype": "text/x-r-source",
   "name": "R",
   "pygments_lexer": "r",
   "version": "3.5.1"
  }
 },
 "nbformat": 4,
 "nbformat_minor": 2
}
