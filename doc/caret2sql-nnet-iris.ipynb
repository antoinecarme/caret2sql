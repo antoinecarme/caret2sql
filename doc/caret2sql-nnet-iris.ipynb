{
 "cells": [
  {
   "cell_type": "code",
   "execution_count": 1,
   "metadata": {},
   "outputs": [
    {
     "name": "stderr",
     "output_type": "stream",
     "text": [
      "\n",
      "Attaching package: ‘httr’\n",
      "\n",
      "The following object is masked from ‘package:caret’:\n",
      "\n",
      "    progress\n",
      "\n"
     ]
    }
   ],
   "source": [
    "library(caret, quiet=TRUE);\n",
    "library(base64enc)\n",
    "library(httr, quiet=TRUE)\n"
   ]
  },
  {
   "cell_type": "markdown",
   "metadata": {},
   "source": [
    "# Build a Model"
   ]
  },
  {
   "cell_type": "code",
   "execution_count": 2,
   "metadata": {},
   "outputs": [],
   "source": [
    "set.seed(1960)\n",
    "\n",
    "create_model  =  function() {\n",
    "\n",
    "    model  <- train(Species ~ ., data = iris, method = \"nnet\", trace = FALSE)\n",
    "    \n",
    "    return(model)\n",
    "}"
   ]
  },
  {
   "cell_type": "code",
   "execution_count": 3,
   "metadata": {},
   "outputs": [],
   "source": [
    "# dataset\n",
    "model = create_model()"
   ]
  },
  {
   "cell_type": "code",
   "execution_count": 4,
   "metadata": {},
   "outputs": [
    {
     "data": {
      "text/html": [
       "0.0266666666666667"
      ],
      "text/latex": [
       "0.0266666666666667"
      ],
      "text/markdown": [
       "0.0266666666666667"
      ],
      "text/plain": [
       "[1] 0.02666667"
      ]
     },
     "metadata": {},
     "output_type": "display_data"
    }
   ],
   "source": [
    "pred <- predict(model, as.matrix(iris[, -5]) , type=\"prob\")\n",
    "pred_labels <- predict(model, as.matrix(iris[, -5]) , type=\"raw\")\n",
    "sum(pred_labels != iris$Species)/length(pred_labels)\n"
   ]
  },
  {
   "cell_type": "code",
   "execution_count": null,
   "metadata": {},
   "outputs": [],
   "source": []
  },
  {
   "cell_type": "markdown",
   "metadata": {},
   "source": [
    "# SQL Code Generation"
   ]
  },
  {
   "cell_type": "code",
   "execution_count": 5,
   "metadata": {},
   "outputs": [],
   "source": [
    "\n",
    "test_ws_sql_gen = function(mod) {\n",
    "    WS_URL = \"https://sklearn2sql.herokuapp.com/model\"\n",
    "    WS_URL = \"http://localhost:1888/model\"\n",
    "    model_serialized <- serialize(mod, NULL)\n",
    "    b64_data = base64encode(model_serialized)\n",
    "    data = list(Name = \"caret_nnet_test_model\", SerializedModel = b64_data , SQLDialect = \"postgresql\" , Mode=\"caret\")\n",
    "    r = POST(WS_URL, body = data, encode = \"json\")\n",
    "    # print(r)\n",
    "    content = content(r)\n",
    "    # print(content)\n",
    "    lSQL = content$model$SQLGenrationResult[[1]]$SQL # content[\"model\"][\"SQLGenrationResult\"][0][\"SQL\"]\n",
    "    return(lSQL);\n",
    "}"
   ]
  },
  {
   "cell_type": "code",
   "execution_count": 6,
   "metadata": {
    "scrolled": false
   },
   "outputs": [
    {
     "name": "stdout",
     "output_type": "stream",
     "text": [
      "WITH \"IL\" AS \n",
      "(SELECT \"ADS\".\"KEY\" AS \"KEY\", CAST(\"ADS\".\"Feature_0\" AS FLOAT) AS \"Feature_0\", CAST(\"ADS\".\"Feature_1\" AS FLOAT) AS \"Feature_1\", CAST(\"ADS\".\"Feature_2\" AS FLOAT) AS \"Feature_2\", CAST(\"ADS\".\"Feature_3\" AS FLOAT) AS \"Feature_3\" \n",
      "FROM \"INPUT_DATA\" AS \"ADS\"), \n",
      "\"HL_BA_1\" AS \n",
      "(SELECT \"IL\".\"KEY\" AS \"KEY\", 1.576477 * \"IL\".\"Feature_0\" + 1.740795 * \"IL\".\"Feature_1\" + -2.555659 * \"IL\".\"Feature_2\" + -3.257832 * \"IL\".\"Feature_3\" + 2.94493 AS \"NEUR_1_1\", 0.3633052 * \"IL\".\"Feature_0\" + 1.213003 * \"IL\".\"Feature_1\" + -1.974031 * \"IL\".\"Feature_2\" + -0.8775904 * \"IL\".\"Feature_3\" + 0.2182532 AS \"NEUR_1_2\", -0.3089975 * \"IL\".\"Feature_0\" + -0.9833805 * \"IL\".\"Feature_1\" + 1.421223 * \"IL\".\"Feature_2\" + 0.729276 * \"IL\".\"Feature_3\" + -0.2177701 AS \"NEUR_1_3\" \n",
      "FROM \"IL\"), \n",
      "\"HL_1_logistic\" AS \n",
      "(SELECT \"HL_BA_1\".\"KEY\" AS \"KEY\", 1.0 / (1.0 + exp(least(greatest(-100.0, -\"HL_BA_1\".\"NEUR_1_1\"), 100.0))) AS \"NEUR_1_1\", 1.0 / (1.0 + exp(least(greatest(-100.0, -\"HL_BA_1\".\"NEUR_1_2\"), 100.0))) AS \"NEUR_1_2\", 1.0 / (1.0 + exp(least(greatest(-100.0, -\"HL_BA_1\".\"NEUR_1_3\"), 100.0))) AS \"NEUR_1_3\" \n",
      "FROM \"HL_BA_1\"), \n",
      "\"HL_1_logistic_1\" AS \n",
      "(SELECT \"HL_1_logistic\".\"KEY\" AS \"KEY\", \"HL_1_logistic\".\"NEUR_1_1\" AS \"NEUR_1_1\", \"HL_1_logistic\".\"NEUR_1_2\" AS \"NEUR_1_2\", \"HL_1_logistic\".\"NEUR_1_3\" AS \"NEUR_1_3\" \n",
      "FROM \"HL_1_logistic\"), \n",
      "\"OL_BA\" AS \n",
      "(SELECT \"HL_1_logistic_1\".\"KEY\" AS \"KEY\", 1.068935 * \"HL_1_logistic_1\".\"NEUR_1_1\" + 3.30009 * \"HL_1_logistic_1\".\"NEUR_1_2\" + -3.064384 * \"HL_1_logistic_1\".\"NEUR_1_3\" + -0.04866174 AS \"NEUR_2_1\", 3.964598 * \"HL_1_logistic_1\".\"NEUR_1_1\" + -3.047269 * \"HL_1_logistic_1\".\"NEUR_1_2\" + 0.9332374 * \"HL_1_logistic_1\".\"NEUR_1_3\" + -1.437843 AS \"NEUR_2_2\", -5.033561 * \"HL_1_logistic_1\".\"NEUR_1_1\" + -0.2527961 * \"HL_1_logistic_1\".\"NEUR_1_2\" + 2.131158 * \"HL_1_logistic_1\".\"NEUR_1_3\" + 1.486506 AS \"NEUR_2_3\" \n",
      "FROM \"HL_1_logistic_1\"), \n",
      "\"OL_softmax\" AS \n",
      "(SELECT \"OL_BA\".\"KEY\" AS \"KEY\", \"OL_BA\".\"NEUR_2_1\" AS \"NEUR_2_1\", \"OL_BA\".\"NEUR_2_2\" AS \"NEUR_2_2\", \"OL_BA\".\"NEUR_2_3\" AS \"NEUR_2_3\" \n",
      "FROM \"OL_BA\"), \n",
      "\"OL_softmax_1\" AS \n",
      "(SELECT \"OL_softmax\".\"KEY\" AS \"KEY\", \"OL_softmax\".\"NEUR_2_1\" AS \"NEUR_2_1\", \"OL_softmax\".\"NEUR_2_2\" AS \"NEUR_2_2\", \"OL_softmax\".\"NEUR_2_3\" AS \"NEUR_2_3\" \n",
      "FROM \"OL_softmax\"), \n",
      "orig_cte AS \n",
      "(SELECT \"OL_softmax_1\".\"KEY\" AS \"KEY\", \"OL_softmax_1\".\"NEUR_2_1\" AS \"Score_setosa\", \"OL_softmax_1\".\"NEUR_2_2\" AS \"Score_versicolor\", \"OL_softmax_1\".\"NEUR_2_3\" AS \"Score_virginica\", CAST(NULL AS FLOAT) AS \"Proba_setosa\", CAST(NULL AS FLOAT) AS \"Proba_versicolor\", CAST(NULL AS FLOAT) AS \"Proba_virginica\", CAST(NULL AS FLOAT) AS \"LogProba_setosa\", CAST(NULL AS FLOAT) AS \"LogProba_versicolor\", CAST(NULL AS FLOAT) AS \"LogProba_virginica\", CAST(NULL AS BIGINT) AS \"Decision\", CAST(NULL AS FLOAT) AS \"DecisionProba\" \n",
      "FROM \"OL_softmax_1\"), \n",
      "score_class_union AS \n",
      "(SELECT scu.\"KEY_u\" AS \"KEY_u\", scu.class AS class, scu.\"LogProba\" AS \"LogProba\", scu.\"Proba\" AS \"Proba\", scu.\"Score\" AS \"Score\" \n",
      "FROM (SELECT orig_cte.\"KEY\" AS \"KEY_u\", 'setosa' AS class, orig_cte.\"LogProba_setosa\" AS \"LogProba\", orig_cte.\"Proba_setosa\" AS \"Proba\", orig_cte.\"Score_setosa\" AS \"Score\" \n",
      "FROM orig_cte UNION ALL SELECT orig_cte.\"KEY\" AS \"KEY_u\", 'versicolor' AS class, orig_cte.\"LogProba_versicolor\" AS \"LogProba\", orig_cte.\"Proba_versicolor\" AS \"Proba\", orig_cte.\"Score_versicolor\" AS \"Score\" \n",
      "FROM orig_cte UNION ALL SELECT orig_cte.\"KEY\" AS \"KEY_u\", 'virginica' AS class, orig_cte.\"LogProba_virginica\" AS \"LogProba\", orig_cte.\"Proba_virginica\" AS \"Proba\", orig_cte.\"Score_virginica\" AS \"Score\" \n",
      "FROM orig_cte) AS scu), \n",
      "score_max AS \n",
      "(SELECT orig_cte.\"KEY\" AS \"KEY\", orig_cte.\"Score_setosa\" AS \"Score_setosa\", orig_cte.\"Score_versicolor\" AS \"Score_versicolor\", orig_cte.\"Score_virginica\" AS \"Score_virginica\", orig_cte.\"Proba_setosa\" AS \"Proba_setosa\", orig_cte.\"Proba_versicolor\" AS \"Proba_versicolor\", orig_cte.\"Proba_virginica\" AS \"Proba_virginica\", orig_cte.\"LogProba_setosa\" AS \"LogProba_setosa\", orig_cte.\"LogProba_versicolor\" AS \"LogProba_versicolor\", orig_cte.\"LogProba_virginica\" AS \"LogProba_virginica\", orig_cte.\"Decision\" AS \"Decision\", orig_cte.\"DecisionProba\" AS \"DecisionProba\", max_select.\"KEY_m\" AS \"KEY_m\", max_select.\"max_Score\" AS \"max_Score\" \n",
      "FROM orig_cte LEFT OUTER JOIN (SELECT score_class_union.\"KEY_u\" AS \"KEY_m\", max(score_class_union.\"Score\") AS \"max_Score\" \n",
      "FROM score_class_union GROUP BY score_class_union.\"KEY_u\") AS max_select ON orig_cte.\"KEY\" = max_select.\"KEY_m\"), \n",
      "score_soft_max_deltas AS \n",
      "(SELECT score_max.\"KEY\" AS \"KEY\", score_max.\"Score_setosa\" AS \"Score_setosa\", score_max.\"Score_versicolor\" AS \"Score_versicolor\", score_max.\"Score_virginica\" AS \"Score_virginica\", score_max.\"Proba_setosa\" AS \"Proba_setosa\", score_max.\"Proba_versicolor\" AS \"Proba_versicolor\", score_max.\"Proba_virginica\" AS \"Proba_virginica\", score_max.\"LogProba_setosa\" AS \"LogProba_setosa\", score_max.\"LogProba_versicolor\" AS \"LogProba_versicolor\", score_max.\"LogProba_virginica\" AS \"LogProba_virginica\", score_max.\"Decision\" AS \"Decision\", score_max.\"DecisionProba\" AS \"DecisionProba\", score_max.\"KEY_m\" AS \"KEY_m\", score_max.\"max_Score\" AS \"max_Score\", exp(greatest(-100.0, score_max.\"Score_setosa\" - score_max.\"max_Score\")) AS \"exp_delta_Score_setosa\", exp(greatest(-100.0, score_max.\"Score_versicolor\" - score_max.\"max_Score\")) AS \"exp_delta_Score_versicolor\", exp(greatest(-100.0, score_max.\"Score_virginica\" - score_max.\"max_Score\")) AS \"exp_delta_Score_virginica\" \n",
      "FROM score_max), \n",
      "score_class_union_soft AS \n",
      "(SELECT soft_scu.\"KEY\" AS \"KEY\", soft_scu.class AS class, soft_scu.\"exp_delta_Score\" AS \"exp_delta_Score\" \n",
      "FROM (SELECT score_soft_max_deltas.\"KEY\" AS \"KEY\", 'setosa' AS class, score_soft_max_deltas.\"exp_delta_Score_setosa\" AS \"exp_delta_Score\" \n",
      "FROM score_soft_max_deltas UNION ALL SELECT score_soft_max_deltas.\"KEY\" AS \"KEY\", 'versicolor' AS class, score_soft_max_deltas.\"exp_delta_Score_versicolor\" AS \"exp_delta_Score\" \n",
      "FROM score_soft_max_deltas UNION ALL SELECT score_soft_max_deltas.\"KEY\" AS \"KEY\", 'virginica' AS class, score_soft_max_deltas.\"exp_delta_Score_virginica\" AS \"exp_delta_Score\" \n",
      "FROM score_soft_max_deltas) AS soft_scu), \n",
      "score_soft_max AS \n",
      "(SELECT score_soft_max_deltas.\"KEY\" AS \"KEY\", score_soft_max_deltas.\"Score_setosa\" AS \"Score_setosa\", score_soft_max_deltas.\"Score_versicolor\" AS \"Score_versicolor\", score_soft_max_deltas.\"Score_virginica\" AS \"Score_virginica\", score_soft_max_deltas.\"Proba_setosa\" AS \"Proba_setosa\", score_soft_max_deltas.\"Proba_versicolor\" AS \"Proba_versicolor\", score_soft_max_deltas.\"Proba_virginica\" AS \"Proba_virginica\", score_soft_max_deltas.\"LogProba_setosa\" AS \"LogProba_setosa\", score_soft_max_deltas.\"LogProba_versicolor\" AS \"LogProba_versicolor\", score_soft_max_deltas.\"LogProba_virginica\" AS \"LogProba_virginica\", score_soft_max_deltas.\"Decision\" AS \"Decision\", score_soft_max_deltas.\"DecisionProba\" AS \"DecisionProba\", score_soft_max_deltas.\"KEY_m\" AS \"KEY_m\", score_soft_max_deltas.\"max_Score\" AS \"max_Score\", score_soft_max_deltas.\"exp_delta_Score_setosa\" AS \"exp_delta_Score_setosa\", score_soft_max_deltas.\"exp_delta_Score_versicolor\" AS \"exp_delta_Score_versicolor\", score_soft_max_deltas.\"exp_delta_Score_virginica\" AS \"exp_delta_Score_virginica\", sum_exp_t.\"KEY_sum\" AS \"KEY_sum\", sum_exp_t.\"sum_ExpDeltaScore\" AS \"sum_ExpDeltaScore\" \n",
      "FROM score_soft_max_deltas LEFT OUTER JOIN (SELECT score_class_union_soft.\"KEY\" AS \"KEY_sum\", sum(score_class_union_soft.\"exp_delta_Score\") AS \"sum_ExpDeltaScore\" \n",
      "FROM score_class_union_soft GROUP BY score_class_union_soft.\"KEY\") AS sum_exp_t ON score_soft_max_deltas.\"KEY\" = sum_exp_t.\"KEY_sum\"), \n",
      "union_with_max AS \n",
      "(SELECT score_class_union.\"KEY_u\" AS \"KEY_u\", score_class_union.class AS class, score_class_union.\"LogProba\" AS \"LogProba\", score_class_union.\"Proba\" AS \"Proba\", score_class_union.\"Score\" AS \"Score\", score_soft_max.\"KEY\" AS \"KEY\", score_soft_max.\"Score_setosa\" AS \"Score_setosa\", score_soft_max.\"Score_versicolor\" AS \"Score_versicolor\", score_soft_max.\"Score_virginica\" AS \"Score_virginica\", score_soft_max.\"Proba_setosa\" AS \"Proba_setosa\", score_soft_max.\"Proba_versicolor\" AS \"Proba_versicolor\", score_soft_max.\"Proba_virginica\" AS \"Proba_virginica\", score_soft_max.\"LogProba_setosa\" AS \"LogProba_setosa\", score_soft_max.\"LogProba_versicolor\" AS \"LogProba_versicolor\", score_soft_max.\"LogProba_virginica\" AS \"LogProba_virginica\", score_soft_max.\"Decision\" AS \"Decision\", score_soft_max.\"DecisionProba\" AS \"DecisionProba\", score_soft_max.\"KEY_m\" AS \"KEY_m\", score_soft_max.\"max_Score\" AS \"max_Score\", score_soft_max.\"exp_delta_Score_setosa\" AS \"exp_delta_Score_setosa\", score_soft_max.\"exp_delta_Score_versicolor\" AS \"exp_delta_Score_versicolor\", score_soft_max.\"exp_delta_Score_virginica\" AS \"exp_delta_Score_virginica\", score_soft_max.\"KEY_sum\" AS \"KEY_sum\", score_soft_max.\"sum_ExpDeltaScore\" AS \"sum_ExpDeltaScore\" \n",
      "FROM score_class_union LEFT OUTER JOIN score_soft_max ON score_class_union.\"KEY_u\" = score_soft_max.\"KEY\"), \n",
      "arg_max_cte AS \n",
      "(SELECT score_soft_max.\"KEY\" AS \"KEY\", score_soft_max.\"Score_setosa\" AS \"Score_setosa\", score_soft_max.\"Score_versicolor\" AS \"Score_versicolor\", score_soft_max.\"Score_virginica\" AS \"Score_virginica\", score_soft_max.\"Proba_setosa\" AS \"Proba_setosa\", score_soft_max.\"Proba_versicolor\" AS \"Proba_versicolor\", score_soft_max.\"Proba_virginica\" AS \"Proba_virginica\", score_soft_max.\"LogProba_setosa\" AS \"LogProba_setosa\", score_soft_max.\"LogProba_versicolor\" AS \"LogProba_versicolor\", score_soft_max.\"LogProba_virginica\" AS \"LogProba_virginica\", score_soft_max.\"Decision\" AS \"Decision\", score_soft_max.\"DecisionProba\" AS \"DecisionProba\", score_soft_max.\"KEY_m\" AS \"KEY_m\", score_soft_max.\"max_Score\" AS \"max_Score\", score_soft_max.\"exp_delta_Score_setosa\" AS \"exp_delta_Score_setosa\", score_soft_max.\"exp_delta_Score_versicolor\" AS \"exp_delta_Score_versicolor\", score_soft_max.\"exp_delta_Score_virginica\" AS \"exp_delta_Score_virginica\", score_soft_max.\"KEY_sum\" AS \"KEY_sum\", score_soft_max.\"sum_ExpDeltaScore\" AS \"sum_ExpDeltaScore\", \"arg_max_t_Score\".\"KEY_Score\" AS \"KEY_Score\", \"arg_max_t_Score\".\"arg_max_Score\" AS \"arg_max_Score\", soft_max_comp.\"KEY_softmax\" AS \"KEY_softmax\", soft_max_comp.\"SoftProba_setosa\" AS \"SoftProba_setosa\", soft_max_comp.\"SoftProba_versicolor\" AS \"SoftProba_versicolor\", soft_max_comp.\"SoftProba_virginica\" AS \"SoftProba_virginica\" \n",
      "FROM score_soft_max LEFT OUTER JOIN (SELECT union_with_max.\"KEY\" AS \"KEY_Score\", max(union_with_max.class) AS \"arg_max_Score\" \n",
      "FROM union_with_max \n",
      "WHERE union_with_max.\"max_Score\" <= union_with_max.\"Score\" GROUP BY union_with_max.\"KEY\") AS \"arg_max_t_Score\" ON score_soft_max.\"KEY\" = \"arg_max_t_Score\".\"KEY_Score\" LEFT OUTER JOIN (SELECT score_soft_max.\"KEY\" AS \"KEY_softmax\", score_soft_max.\"exp_delta_Score_setosa\" / score_soft_max.\"sum_ExpDeltaScore\" AS \"SoftProba_setosa\", score_soft_max.\"exp_delta_Score_versicolor\" / score_soft_max.\"sum_ExpDeltaScore\" AS \"SoftProba_versicolor\", score_soft_max.\"exp_delta_Score_virginica\" / score_soft_max.\"sum_ExpDeltaScore\" AS \"SoftProba_virginica\" \n",
      "FROM score_soft_max) AS soft_max_comp ON soft_max_comp.\"KEY_softmax\" = \"arg_max_t_Score\".\"KEY_Score\")\n",
      " SELECT arg_max_cte.\"KEY\" AS \"KEY\", CAST(NULL AS FLOAT) AS \"Score_setosa\", CAST(NULL AS FLOAT) AS \"Score_versicolor\", CAST(NULL AS FLOAT) AS \"Score_virginica\", arg_max_cte.\"SoftProba_setosa\" AS \"Proba_setosa\", arg_max_cte.\"SoftProba_versicolor\" AS \"Proba_versicolor\", arg_max_cte.\"SoftProba_virginica\" AS \"Proba_virginica\", CASE WHEN (arg_max_cte.\"SoftProba_setosa\" IS NULL OR arg_max_cte.\"SoftProba_setosa\" > 0.0) THEN ln(arg_max_cte.\"SoftProba_setosa\") ELSE -1.79769313486231e+308 END AS \"LogProba_setosa\", CASE WHEN (arg_max_cte.\"SoftProba_versicolor\" IS NULL OR arg_max_cte.\"SoftProba_versicolor\" > 0.0) THEN ln(arg_max_cte.\"SoftProba_versicolor\") ELSE -1.79769313486231e+308 END AS \"LogProba_versicolor\", CASE WHEN (arg_max_cte.\"SoftProba_virginica\" IS NULL OR arg_max_cte.\"SoftProba_virginica\" > 0.0) THEN ln(arg_max_cte.\"SoftProba_virginica\") ELSE -1.79769313486231e+308 END AS \"LogProba_virginica\", arg_max_cte.\"arg_max_Score\" AS \"Decision\", greatest(arg_max_cte.\"SoftProba_setosa\", arg_max_cte.\"SoftProba_versicolor\", arg_max_cte.\"SoftProba_virginica\") AS \"DecisionProba\" \n",
      "FROM arg_max_cte"
     ]
    }
   ],
   "source": [
    "lModelSQL = test_ws_sql_gen(model)\n",
    "cat(lModelSQL)"
   ]
  },
  {
   "cell_type": "markdown",
   "metadata": {},
   "source": [
    "# Execute the SQL Code"
   ]
  },
  {
   "cell_type": "code",
   "execution_count": 7,
   "metadata": {},
   "outputs": [
    {
     "data": {
      "text/html": [
       "0"
      ],
      "text/latex": [
       "0"
      ],
      "text/markdown": [
       "0"
      ],
      "text/plain": [
       "[1] 0"
      ]
     },
     "metadata": {},
     "output_type": "display_data"
    }
   ],
   "source": [
    "library(RODBC)\n",
    "conn = odbcConnect(\"pgsql\", uid=\"db\", pwd=\"db\", case=\"nochange\")\n",
    "odbcSetAutoCommit(conn , autoCommit = TRUE)"
   ]
  },
  {
   "cell_type": "code",
   "execution_count": 8,
   "metadata": {
    "scrolled": true
   },
   "outputs": [
    {
     "data": {
      "text/html": [
       "<table>\n",
       "<thead><tr><th scope=col>Feature_0</th><th scope=col>Feature_1</th><th scope=col>Feature_2</th><th scope=col>Feature_3</th><th scope=col>KEY</th></tr></thead>\n",
       "<tbody>\n",
       "\t<tr><td>5.1</td><td>3.5</td><td>1.4</td><td>0.2</td><td>1  </td></tr>\n",
       "\t<tr><td>4.9</td><td>3.0</td><td>1.4</td><td>0.2</td><td>2  </td></tr>\n",
       "\t<tr><td>4.7</td><td>3.2</td><td>1.3</td><td>0.2</td><td>3  </td></tr>\n",
       "\t<tr><td>4.6</td><td>3.1</td><td>1.5</td><td>0.2</td><td>4  </td></tr>\n",
       "\t<tr><td>5.0</td><td>3.6</td><td>1.4</td><td>0.2</td><td>5  </td></tr>\n",
       "\t<tr><td>5.4</td><td>3.9</td><td>1.7</td><td>0.4</td><td>6  </td></tr>\n",
       "</tbody>\n",
       "</table>\n"
      ],
      "text/latex": [
       "\\begin{tabular}{r|lllll}\n",
       " Feature\\_0 & Feature\\_1 & Feature\\_2 & Feature\\_3 & KEY\\\\\n",
       "\\hline\n",
       "\t 5.1 & 3.5 & 1.4 & 0.2 & 1  \\\\\n",
       "\t 4.9 & 3.0 & 1.4 & 0.2 & 2  \\\\\n",
       "\t 4.7 & 3.2 & 1.3 & 0.2 & 3  \\\\\n",
       "\t 4.6 & 3.1 & 1.5 & 0.2 & 4  \\\\\n",
       "\t 5.0 & 3.6 & 1.4 & 0.2 & 5  \\\\\n",
       "\t 5.4 & 3.9 & 1.7 & 0.4 & 6  \\\\\n",
       "\\end{tabular}\n"
      ],
      "text/markdown": [
       "\n",
       "Feature_0 | Feature_1 | Feature_2 | Feature_3 | KEY | \n",
       "|---|---|---|---|---|---|\n",
       "| 5.1 | 3.5 | 1.4 | 0.2 | 1   | \n",
       "| 4.9 | 3.0 | 1.4 | 0.2 | 2   | \n",
       "| 4.7 | 3.2 | 1.3 | 0.2 | 3   | \n",
       "| 4.6 | 3.1 | 1.5 | 0.2 | 4   | \n",
       "| 5.0 | 3.6 | 1.4 | 0.2 | 5   | \n",
       "| 5.4 | 3.9 | 1.7 | 0.4 | 6   | \n",
       "\n",
       "\n"
      ],
      "text/plain": [
       "  Feature_0 Feature_1 Feature_2 Feature_3 KEY\n",
       "1 5.1       3.5       1.4       0.2       1  \n",
       "2 4.9       3.0       1.4       0.2       2  \n",
       "3 4.7       3.2       1.3       0.2       3  \n",
       "4 4.6       3.1       1.5       0.2       4  \n",
       "5 5.0       3.6       1.4       0.2       5  \n",
       "6 5.4       3.9       1.7       0.4       6  "
      ]
     },
     "metadata": {},
     "output_type": "display_data"
    }
   ],
   "source": [
    "dataset = iris[,-5]\n",
    "\n",
    "df_sql = as.data.frame(dataset)\n",
    "names(df_sql) = sprintf(\"Feature_%d\",0:(ncol(df_sql)-1))\n",
    "df_sql$KEY = seq.int(nrow(dataset))\n",
    "\n",
    "sqlDrop(conn , \"INPUT_DATA\" , errors = FALSE)\n",
    "sqlSave(conn, df_sql, tablename = \"INPUT_DATA\", verbose = FALSE)\n",
    "\n",
    "head(df_sql)"
   ]
  },
  {
   "cell_type": "code",
   "execution_count": 9,
   "metadata": {},
   "outputs": [],
   "source": [
    "# colnames(df_sql)\n",
    "# odbcGetInfo(conn)\n",
    "# sqlTables(conn)"
   ]
  },
  {
   "cell_type": "code",
   "execution_count": 10,
   "metadata": {},
   "outputs": [
    {
     "data": {
      "text/html": [
       "<table>\n",
       "<thead><tr><th scope=col>KEY</th><th scope=col>Score_setosa</th><th scope=col>Score_versicolor</th><th scope=col>Score_virginica</th><th scope=col>Proba_setosa</th><th scope=col>Proba_versicolor</th><th scope=col>Proba_virginica</th><th scope=col>LogProba_setosa</th><th scope=col>LogProba_versicolor</th><th scope=col>LogProba_virginica</th><th scope=col>Decision</th><th scope=col>DecisionProba</th></tr></thead>\n",
       "<tbody>\n",
       "\t<tr><td> 87        </td><td>NA         </td><td>NA         </td><td>NA         </td><td>0.008454715</td><td>0.97113989 </td><td>0.02040540 </td><td>-4.773031  </td><td>-0.02928476</td><td>-3.89195581</td><td>versicolor </td><td>0.9711399  </td></tr>\n",
       "\t<tr><td>116        </td><td>NA         </td><td>NA         </td><td>NA         </td><td>0.002113786</td><td>0.03291219 </td><td>0.96497403 </td><td>-6.159275  </td><td>-3.41391232</td><td>-0.03565409</td><td>virginica  </td><td>0.9649740  </td></tr>\n",
       "\t<tr><td> 71        </td><td>NA         </td><td>NA         </td><td>NA         </td><td>0.011807202</td><td>0.42347135 </td><td>0.56472145 </td><td>-4.439046  </td><td>-0.85926943</td><td>-0.57142268</td><td>virginica  </td><td>0.5647215  </td></tr>\n",
       "\t<tr><td> 68        </td><td>NA         </td><td>NA         </td><td>NA         </td><td>0.009479021</td><td>0.98000051 </td><td>0.01052047 </td><td>-4.658674  </td><td>-0.02020219</td><td>-4.55443232</td><td>versicolor </td><td>0.9800005  </td></tr>\n",
       "\t<tr><td> 51        </td><td>NA         </td><td>NA         </td><td>NA         </td><td>0.007877158</td><td>0.98127802 </td><td>0.01084482 </td><td>-4.843788  </td><td>-0.01889945</td><td>-4.52406799</td><td>versicolor </td><td>0.9812780  </td></tr>\n",
       "\t<tr><td> 52        </td><td>NA         </td><td>NA         </td><td>NA         </td><td>0.009225486</td><td>0.97389379 </td><td>0.01688073 </td><td>-4.685785  </td><td>-0.02645303</td><td>-4.08158279</td><td>versicolor </td><td>0.9738938  </td></tr>\n",
       "</tbody>\n",
       "</table>\n"
      ],
      "text/latex": [
       "\\begin{tabular}{r|llllllllllll}\n",
       " KEY & Score\\_setosa & Score\\_versicolor & Score\\_virginica & Proba\\_setosa & Proba\\_versicolor & Proba\\_virginica & LogProba\\_setosa & LogProba\\_versicolor & LogProba\\_virginica & Decision & DecisionProba\\\\\n",
       "\\hline\n",
       "\t  87         & NA          & NA          & NA          & 0.008454715 & 0.97113989  & 0.02040540  & -4.773031   & -0.02928476 & -3.89195581 & versicolor  & 0.9711399  \\\\\n",
       "\t 116         & NA          & NA          & NA          & 0.002113786 & 0.03291219  & 0.96497403  & -6.159275   & -3.41391232 & -0.03565409 & virginica   & 0.9649740  \\\\\n",
       "\t  71         & NA          & NA          & NA          & 0.011807202 & 0.42347135  & 0.56472145  & -4.439046   & -0.85926943 & -0.57142268 & virginica   & 0.5647215  \\\\\n",
       "\t  68         & NA          & NA          & NA          & 0.009479021 & 0.98000051  & 0.01052047  & -4.658674   & -0.02020219 & -4.55443232 & versicolor  & 0.9800005  \\\\\n",
       "\t  51         & NA          & NA          & NA          & 0.007877158 & 0.98127802  & 0.01084482  & -4.843788   & -0.01889945 & -4.52406799 & versicolor  & 0.9812780  \\\\\n",
       "\t  52         & NA          & NA          & NA          & 0.009225486 & 0.97389379  & 0.01688073  & -4.685785   & -0.02645303 & -4.08158279 & versicolor  & 0.9738938  \\\\\n",
       "\\end{tabular}\n"
      ],
      "text/markdown": [
       "\n",
       "KEY | Score_setosa | Score_versicolor | Score_virginica | Proba_setosa | Proba_versicolor | Proba_virginica | LogProba_setosa | LogProba_versicolor | LogProba_virginica | Decision | DecisionProba | \n",
       "|---|---|---|---|---|---|\n",
       "|  87         | NA          | NA          | NA          | 0.008454715 | 0.97113989  | 0.02040540  | -4.773031   | -0.02928476 | -3.89195581 | versicolor  | 0.9711399   | \n",
       "| 116         | NA          | NA          | NA          | 0.002113786 | 0.03291219  | 0.96497403  | -6.159275   | -3.41391232 | -0.03565409 | virginica   | 0.9649740   | \n",
       "|  71         | NA          | NA          | NA          | 0.011807202 | 0.42347135  | 0.56472145  | -4.439046   | -0.85926943 | -0.57142268 | virginica   | 0.5647215   | \n",
       "|  68         | NA          | NA          | NA          | 0.009479021 | 0.98000051  | 0.01052047  | -4.658674   | -0.02020219 | -4.55443232 | versicolor  | 0.9800005   | \n",
       "|  51         | NA          | NA          | NA          | 0.007877158 | 0.98127802  | 0.01084482  | -4.843788   | -0.01889945 | -4.52406799 | versicolor  | 0.9812780   | \n",
       "|  52         | NA          | NA          | NA          | 0.009225486 | 0.97389379  | 0.01688073  | -4.685785   | -0.02645303 | -4.08158279 | versicolor  | 0.9738938   | \n",
       "\n",
       "\n"
      ],
      "text/plain": [
       "  KEY Score_setosa Score_versicolor Score_virginica Proba_setosa\n",
       "1  87 NA           NA               NA              0.008454715 \n",
       "2 116 NA           NA               NA              0.002113786 \n",
       "3  71 NA           NA               NA              0.011807202 \n",
       "4  68 NA           NA               NA              0.009479021 \n",
       "5  51 NA           NA               NA              0.007877158 \n",
       "6  52 NA           NA               NA              0.009225486 \n",
       "  Proba_versicolor Proba_virginica LogProba_setosa LogProba_versicolor\n",
       "1 0.97113989       0.02040540      -4.773031       -0.02928476        \n",
       "2 0.03291219       0.96497403      -6.159275       -3.41391232        \n",
       "3 0.42347135       0.56472145      -4.439046       -0.85926943        \n",
       "4 0.98000051       0.01052047      -4.658674       -0.02020219        \n",
       "5 0.98127802       0.01084482      -4.843788       -0.01889945        \n",
       "6 0.97389379       0.01688073      -4.685785       -0.02645303        \n",
       "  LogProba_virginica Decision   DecisionProba\n",
       "1 -3.89195581        versicolor 0.9711399    \n",
       "2 -0.03565409        virginica  0.9649740    \n",
       "3 -0.57142268        virginica  0.5647215    \n",
       "4 -4.55443232        versicolor 0.9800005    \n",
       "5 -4.52406799        versicolor 0.9812780    \n",
       "6 -4.08158279        versicolor 0.9738938    "
      ]
     },
     "metadata": {},
     "output_type": "display_data"
    }
   ],
   "source": [
    "df_sql_out = sqlQuery(conn, lModelSQL)\n",
    "head(df_sql_out)"
   ]
  },
  {
   "cell_type": "markdown",
   "metadata": {},
   "source": [
    "# R Caret Rpart Output"
   ]
  },
  {
   "cell_type": "code",
   "execution_count": 11,
   "metadata": {},
   "outputs": [
    {
     "data": {
      "text/html": [
       "<table>\n",
       "<thead><tr><th scope=col>Proba_setosa</th><th scope=col>Proba_versicolor</th><th scope=col>Proba_virginica</th><th scope=col>KEY</th><th scope=col>Score_setosa</th><th scope=col>Score_versicolor</th><th scope=col>Score_virginica</th><th scope=col>LogProba_setosa</th><th scope=col>LogProba_versicolor</th><th scope=col>LogProba_virginica</th><th scope=col>Decision</th><th scope=col>DecisionProba</th></tr></thead>\n",
       "<tbody>\n",
       "\t<tr><td>0.9881501   </td><td>0.01143637  </td><td>0.0004134949</td><td>1           </td><td>NA          </td><td>NA          </td><td>NA          </td><td>-0.01192064 </td><td>-4.470956   </td><td>-7.790865   </td><td>setosa      </td><td>0.9881501   </td></tr>\n",
       "\t<tr><td>0.9839552   </td><td>0.01551062  </td><td>0.0005342213</td><td>2           </td><td>NA          </td><td>NA          </td><td>NA          </td><td>-0.01617495 </td><td>-4.166231   </td><td>-7.534700   </td><td>setosa      </td><td>0.9839552   </td></tr>\n",
       "\t<tr><td>0.9866005   </td><td>0.01293939  </td><td>0.0004600961</td><td>3           </td><td>NA          </td><td>NA          </td><td>NA          </td><td>-0.01349007 </td><td>-4.347479   </td><td>-7.684075   </td><td>setosa      </td><td>0.9866005   </td></tr>\n",
       "\t<tr><td>0.9820602   </td><td>0.01735468  </td><td>0.0005850706</td><td>4           </td><td>NA          </td><td>NA          </td><td>NA          </td><td>-0.01810262 </td><td>-4.053893   </td><td>-7.443778   </td><td>setosa      </td><td>0.9820602   </td></tr>\n",
       "\t<tr><td>0.9884643   </td><td>0.01113156  </td><td>0.0004041086</td><td>5           </td><td>NA          </td><td>NA          </td><td>NA          </td><td>-0.01160272 </td><td>-4.497971   </td><td>-7.813827   </td><td>setosa      </td><td>0.9884643   </td></tr>\n",
       "\t<tr><td>0.9875193   </td><td>0.01205037  </td><td>0.0004303420</td><td>6           </td><td>NA          </td><td>NA          </td><td>NA          </td><td>-0.01255925 </td><td>-4.418660   </td><td>-7.750930   </td><td>setosa      </td><td>0.9875193   </td></tr>\n",
       "</tbody>\n",
       "</table>\n"
      ],
      "text/latex": [
       "\\begin{tabular}{r|llllllllllll}\n",
       " Proba\\_setosa & Proba\\_versicolor & Proba\\_virginica & KEY & Score\\_setosa & Score\\_versicolor & Score\\_virginica & LogProba\\_setosa & LogProba\\_versicolor & LogProba\\_virginica & Decision & DecisionProba\\\\\n",
       "\\hline\n",
       "\t 0.9881501    & 0.01143637   & 0.0004134949 & 1            & NA           & NA           & NA           & -0.01192064  & -4.470956    & -7.790865    & setosa       & 0.9881501   \\\\\n",
       "\t 0.9839552    & 0.01551062   & 0.0005342213 & 2            & NA           & NA           & NA           & -0.01617495  & -4.166231    & -7.534700    & setosa       & 0.9839552   \\\\\n",
       "\t 0.9866005    & 0.01293939   & 0.0004600961 & 3            & NA           & NA           & NA           & -0.01349007  & -4.347479    & -7.684075    & setosa       & 0.9866005   \\\\\n",
       "\t 0.9820602    & 0.01735468   & 0.0005850706 & 4            & NA           & NA           & NA           & -0.01810262  & -4.053893    & -7.443778    & setosa       & 0.9820602   \\\\\n",
       "\t 0.9884643    & 0.01113156   & 0.0004041086 & 5            & NA           & NA           & NA           & -0.01160272  & -4.497971    & -7.813827    & setosa       & 0.9884643   \\\\\n",
       "\t 0.9875193    & 0.01205037   & 0.0004303420 & 6            & NA           & NA           & NA           & -0.01255925  & -4.418660    & -7.750930    & setosa       & 0.9875193   \\\\\n",
       "\\end{tabular}\n"
      ],
      "text/markdown": [
       "\n",
       "Proba_setosa | Proba_versicolor | Proba_virginica | KEY | Score_setosa | Score_versicolor | Score_virginica | LogProba_setosa | LogProba_versicolor | LogProba_virginica | Decision | DecisionProba | \n",
       "|---|---|---|---|---|---|\n",
       "| 0.9881501    | 0.01143637   | 0.0004134949 | 1            | NA           | NA           | NA           | -0.01192064  | -4.470956    | -7.790865    | setosa       | 0.9881501    | \n",
       "| 0.9839552    | 0.01551062   | 0.0005342213 | 2            | NA           | NA           | NA           | -0.01617495  | -4.166231    | -7.534700    | setosa       | 0.9839552    | \n",
       "| 0.9866005    | 0.01293939   | 0.0004600961 | 3            | NA           | NA           | NA           | -0.01349007  | -4.347479    | -7.684075    | setosa       | 0.9866005    | \n",
       "| 0.9820602    | 0.01735468   | 0.0005850706 | 4            | NA           | NA           | NA           | -0.01810262  | -4.053893    | -7.443778    | setosa       | 0.9820602    | \n",
       "| 0.9884643    | 0.01113156   | 0.0004041086 | 5            | NA           | NA           | NA           | -0.01160272  | -4.497971    | -7.813827    | setosa       | 0.9884643    | \n",
       "| 0.9875193    | 0.01205037   | 0.0004303420 | 6            | NA           | NA           | NA           | -0.01255925  | -4.418660    | -7.750930    | setosa       | 0.9875193    | \n",
       "\n",
       "\n"
      ],
      "text/plain": [
       "  Proba_setosa Proba_versicolor Proba_virginica KEY Score_setosa\n",
       "1 0.9881501    0.01143637       0.0004134949    1   NA          \n",
       "2 0.9839552    0.01551062       0.0005342213    2   NA          \n",
       "3 0.9866005    0.01293939       0.0004600961    3   NA          \n",
       "4 0.9820602    0.01735468       0.0005850706    4   NA          \n",
       "5 0.9884643    0.01113156       0.0004041086    5   NA          \n",
       "6 0.9875193    0.01205037       0.0004303420    6   NA          \n",
       "  Score_versicolor Score_virginica LogProba_setosa LogProba_versicolor\n",
       "1 NA               NA              -0.01192064     -4.470956          \n",
       "2 NA               NA              -0.01617495     -4.166231          \n",
       "3 NA               NA              -0.01349007     -4.347479          \n",
       "4 NA               NA              -0.01810262     -4.053893          \n",
       "5 NA               NA              -0.01160272     -4.497971          \n",
       "6 NA               NA              -0.01255925     -4.418660          \n",
       "  LogProba_virginica Decision DecisionProba\n",
       "1 -7.790865          setosa   0.9881501    \n",
       "2 -7.534700          setosa   0.9839552    \n",
       "3 -7.684075          setosa   0.9866005    \n",
       "4 -7.443778          setosa   0.9820602    \n",
       "5 -7.813827          setosa   0.9884643    \n",
       "6 -7.750930          setosa   0.9875193    "
      ]
     },
     "metadata": {},
     "output_type": "display_data"
    }
   ],
   "source": [
    "pred_proba  =  predict(model, as.matrix(iris[,-5]), type = \"prob\")\n",
    "df_r_out = data.frame(pred_proba)\n",
    "names(df_r_out) = sprintf(\"Proba_%s\",model$levels)\n",
    "\n",
    "df_r_out$KEY = seq.int(nrow(dataset))\n",
    "df_r_out$Score_setosa  =  NA\n",
    "df_r_out$Score_versicolor  =  NA\n",
    "df_r_out$Score_virginica  =  NA\n",
    "df_r_out$LogProba_setosa  =  log(df_r_out$Proba_setosa)\n",
    "df_r_out$LogProba_versicolor =  log(df_r_out$Proba_versicolor)\n",
    "df_r_out$LogProba_virginica  =  log(df_r_out$Proba_virginica)\n",
    "df_r_out$Decision =   predict(model, as.matrix(iris[,-5]), type = \"raw\")\n",
    "df_r_out$DecisionProba =  apply(pred_proba, 1, function(x) max(x))\n",
    "head(df_r_out)\n",
    "\n"
   ]
  },
  {
   "cell_type": "markdown",
   "metadata": {},
   "source": [
    "# Compare R and SQL output"
   ]
  },
  {
   "cell_type": "code",
   "execution_count": 12,
   "metadata": {},
   "outputs": [
    {
     "data": {
      "text/html": [
       "<table>\n",
       "<thead><tr><th scope=col>KEY</th><th scope=col>Proba_setosa_1</th><th scope=col>Proba_versicolor_1</th><th scope=col>Proba_virginica_1</th><th scope=col>Score_setosa_1</th><th scope=col>Score_versicolor_1</th><th scope=col>Score_virginica_1</th><th scope=col>LogProba_setosa_1</th><th scope=col>LogProba_versicolor_1</th><th scope=col>LogProba_virginica_1</th><th scope=col>⋯</th><th scope=col>Score_versicolor_2</th><th scope=col>Score_virginica_2</th><th scope=col>Proba_setosa_2</th><th scope=col>Proba_versicolor_2</th><th scope=col>Proba_virginica_2</th><th scope=col>LogProba_setosa_2</th><th scope=col>LogProba_versicolor_2</th><th scope=col>LogProba_virginica_2</th><th scope=col>Decision_2</th><th scope=col>DecisionProba_2</th></tr></thead>\n",
       "<tbody>\n",
       "\t<tr><td>1           </td><td>0.9881501   </td><td>0.01143637  </td><td>0.0004134949</td><td>NA          </td><td>NA          </td><td>NA          </td><td>-0.01192064 </td><td>-4.470956   </td><td>-7.790865   </td><td>⋯           </td><td>NA          </td><td>NA          </td><td>0.9881501   </td><td>0.01143637  </td><td>0.0004134950</td><td>-0.01192064 </td><td>-4.470956   </td><td>-7.790865   </td><td>setosa      </td><td>0.9881501   </td></tr>\n",
       "\t<tr><td>2           </td><td>0.9839552   </td><td>0.01551062  </td><td>0.0005342213</td><td>NA          </td><td>NA          </td><td>NA          </td><td>-0.01617495 </td><td>-4.166231   </td><td>-7.534700   </td><td>⋯           </td><td>NA          </td><td>NA          </td><td>0.9839552   </td><td>0.01551062  </td><td>0.0005342215</td><td>-0.01617495 </td><td>-4.166231   </td><td>-7.534700   </td><td>setosa      </td><td>0.9839552   </td></tr>\n",
       "\t<tr><td>3           </td><td>0.9866005   </td><td>0.01293939  </td><td>0.0004600961</td><td>NA          </td><td>NA          </td><td>NA          </td><td>-0.01349007 </td><td>-4.347479   </td><td>-7.684075   </td><td>⋯           </td><td>NA          </td><td>NA          </td><td>0.9866005   </td><td>0.01293939  </td><td>0.0004600963</td><td>-0.01349007 </td><td>-4.347479   </td><td>-7.684075   </td><td>setosa      </td><td>0.9866005   </td></tr>\n",
       "\t<tr><td>4           </td><td>0.9820602   </td><td>0.01735468  </td><td>0.0005850706</td><td>NA          </td><td>NA          </td><td>NA          </td><td>-0.01810262 </td><td>-4.053893   </td><td>-7.443778   </td><td>⋯           </td><td>NA          </td><td>NA          </td><td>0.9820602   </td><td>0.01735468  </td><td>0.0005850708</td><td>-0.01810262 </td><td>-4.053893   </td><td>-7.443778   </td><td>setosa      </td><td>0.9820602   </td></tr>\n",
       "\t<tr><td>5           </td><td>0.9884643   </td><td>0.01113156  </td><td>0.0004041086</td><td>NA          </td><td>NA          </td><td>NA          </td><td>-0.01160272 </td><td>-4.497971   </td><td>-7.813827   </td><td>⋯           </td><td>NA          </td><td>NA          </td><td>0.9884643   </td><td>0.01113156  </td><td>0.0004041088</td><td>-0.01160272 </td><td>-4.497971   </td><td>-7.813827   </td><td>setosa      </td><td>0.9884643   </td></tr>\n",
       "\t<tr><td>6           </td><td>0.9875193   </td><td>0.01205037  </td><td>0.0004303420</td><td>NA          </td><td>NA          </td><td>NA          </td><td>-0.01255925 </td><td>-4.418660   </td><td>-7.750930   </td><td>⋯           </td><td>NA          </td><td>NA          </td><td>0.9875193   </td><td>0.01205036  </td><td>0.0004303422</td><td>-0.01255925 </td><td>-4.418660   </td><td>-7.750930   </td><td>setosa      </td><td>0.9875193   </td></tr>\n",
       "</tbody>\n",
       "</table>\n"
      ],
      "text/latex": [
       "\\begin{tabular}{r|lllllllllllllllllllllll}\n",
       " KEY & Proba\\_setosa\\_1 & Proba\\_versicolor\\_1 & Proba\\_virginica\\_1 & Score\\_setosa\\_1 & Score\\_versicolor\\_1 & Score\\_virginica\\_1 & LogProba\\_setosa\\_1 & LogProba\\_versicolor\\_1 & LogProba\\_virginica\\_1 & ⋯ & Score\\_versicolor\\_2 & Score\\_virginica\\_2 & Proba\\_setosa\\_2 & Proba\\_versicolor\\_2 & Proba\\_virginica\\_2 & LogProba\\_setosa\\_2 & LogProba\\_versicolor\\_2 & LogProba\\_virginica\\_2 & Decision\\_2 & DecisionProba\\_2\\\\\n",
       "\\hline\n",
       "\t 1            & 0.9881501    & 0.01143637   & 0.0004134949 & NA           & NA           & NA           & -0.01192064  & -4.470956    & -7.790865    & ⋯            & NA           & NA           & 0.9881501    & 0.01143637   & 0.0004134950 & -0.01192064  & -4.470956    & -7.790865    & setosa       & 0.9881501   \\\\\n",
       "\t 2            & 0.9839552    & 0.01551062   & 0.0005342213 & NA           & NA           & NA           & -0.01617495  & -4.166231    & -7.534700    & ⋯            & NA           & NA           & 0.9839552    & 0.01551062   & 0.0005342215 & -0.01617495  & -4.166231    & -7.534700    & setosa       & 0.9839552   \\\\\n",
       "\t 3            & 0.9866005    & 0.01293939   & 0.0004600961 & NA           & NA           & NA           & -0.01349007  & -4.347479    & -7.684075    & ⋯            & NA           & NA           & 0.9866005    & 0.01293939   & 0.0004600963 & -0.01349007  & -4.347479    & -7.684075    & setosa       & 0.9866005   \\\\\n",
       "\t 4            & 0.9820602    & 0.01735468   & 0.0005850706 & NA           & NA           & NA           & -0.01810262  & -4.053893    & -7.443778    & ⋯            & NA           & NA           & 0.9820602    & 0.01735468   & 0.0005850708 & -0.01810262  & -4.053893    & -7.443778    & setosa       & 0.9820602   \\\\\n",
       "\t 5            & 0.9884643    & 0.01113156   & 0.0004041086 & NA           & NA           & NA           & -0.01160272  & -4.497971    & -7.813827    & ⋯            & NA           & NA           & 0.9884643    & 0.01113156   & 0.0004041088 & -0.01160272  & -4.497971    & -7.813827    & setosa       & 0.9884643   \\\\\n",
       "\t 6            & 0.9875193    & 0.01205037   & 0.0004303420 & NA           & NA           & NA           & -0.01255925  & -4.418660    & -7.750930    & ⋯            & NA           & NA           & 0.9875193    & 0.01205036   & 0.0004303422 & -0.01255925  & -4.418660    & -7.750930    & setosa       & 0.9875193   \\\\\n",
       "\\end{tabular}\n"
      ],
      "text/markdown": [
       "\n",
       "KEY | Proba_setosa_1 | Proba_versicolor_1 | Proba_virginica_1 | Score_setosa_1 | Score_versicolor_1 | Score_virginica_1 | LogProba_setosa_1 | LogProba_versicolor_1 | LogProba_virginica_1 | ⋯ | Score_versicolor_2 | Score_virginica_2 | Proba_setosa_2 | Proba_versicolor_2 | Proba_virginica_2 | LogProba_setosa_2 | LogProba_versicolor_2 | LogProba_virginica_2 | Decision_2 | DecisionProba_2 | \n",
       "|---|---|---|---|---|---|\n",
       "| 1            | 0.9881501    | 0.01143637   | 0.0004134949 | NA           | NA           | NA           | -0.01192064  | -4.470956    | -7.790865    | ⋯            | NA           | NA           | 0.9881501    | 0.01143637   | 0.0004134950 | -0.01192064  | -4.470956    | -7.790865    | setosa       | 0.9881501    | \n",
       "| 2            | 0.9839552    | 0.01551062   | 0.0005342213 | NA           | NA           | NA           | -0.01617495  | -4.166231    | -7.534700    | ⋯            | NA           | NA           | 0.9839552    | 0.01551062   | 0.0005342215 | -0.01617495  | -4.166231    | -7.534700    | setosa       | 0.9839552    | \n",
       "| 3            | 0.9866005    | 0.01293939   | 0.0004600961 | NA           | NA           | NA           | -0.01349007  | -4.347479    | -7.684075    | ⋯            | NA           | NA           | 0.9866005    | 0.01293939   | 0.0004600963 | -0.01349007  | -4.347479    | -7.684075    | setosa       | 0.9866005    | \n",
       "| 4            | 0.9820602    | 0.01735468   | 0.0005850706 | NA           | NA           | NA           | -0.01810262  | -4.053893    | -7.443778    | ⋯            | NA           | NA           | 0.9820602    | 0.01735468   | 0.0005850708 | -0.01810262  | -4.053893    | -7.443778    | setosa       | 0.9820602    | \n",
       "| 5            | 0.9884643    | 0.01113156   | 0.0004041086 | NA           | NA           | NA           | -0.01160272  | -4.497971    | -7.813827    | ⋯            | NA           | NA           | 0.9884643    | 0.01113156   | 0.0004041088 | -0.01160272  | -4.497971    | -7.813827    | setosa       | 0.9884643    | \n",
       "| 6            | 0.9875193    | 0.01205037   | 0.0004303420 | NA           | NA           | NA           | -0.01255925  | -4.418660    | -7.750930    | ⋯            | NA           | NA           | 0.9875193    | 0.01205036   | 0.0004303422 | -0.01255925  | -4.418660    | -7.750930    | setosa       | 0.9875193    | \n",
       "\n",
       "\n"
      ],
      "text/plain": [
       "  KEY Proba_setosa_1 Proba_versicolor_1 Proba_virginica_1 Score_setosa_1\n",
       "1 1   0.9881501      0.01143637         0.0004134949      NA            \n",
       "2 2   0.9839552      0.01551062         0.0005342213      NA            \n",
       "3 3   0.9866005      0.01293939         0.0004600961      NA            \n",
       "4 4   0.9820602      0.01735468         0.0005850706      NA            \n",
       "5 5   0.9884643      0.01113156         0.0004041086      NA            \n",
       "6 6   0.9875193      0.01205037         0.0004303420      NA            \n",
       "  Score_versicolor_1 Score_virginica_1 LogProba_setosa_1 LogProba_versicolor_1\n",
       "1 NA                 NA                -0.01192064       -4.470956            \n",
       "2 NA                 NA                -0.01617495       -4.166231            \n",
       "3 NA                 NA                -0.01349007       -4.347479            \n",
       "4 NA                 NA                -0.01810262       -4.053893            \n",
       "5 NA                 NA                -0.01160272       -4.497971            \n",
       "6 NA                 NA                -0.01255925       -4.418660            \n",
       "  LogProba_virginica_1 ⋯ Score_versicolor_2 Score_virginica_2 Proba_setosa_2\n",
       "1 -7.790865            ⋯ NA                 NA                0.9881501     \n",
       "2 -7.534700            ⋯ NA                 NA                0.9839552     \n",
       "3 -7.684075            ⋯ NA                 NA                0.9866005     \n",
       "4 -7.443778            ⋯ NA                 NA                0.9820602     \n",
       "5 -7.813827            ⋯ NA                 NA                0.9884643     \n",
       "6 -7.750930            ⋯ NA                 NA                0.9875193     \n",
       "  Proba_versicolor_2 Proba_virginica_2 LogProba_setosa_2 LogProba_versicolor_2\n",
       "1 0.01143637         0.0004134950      -0.01192064       -4.470956            \n",
       "2 0.01551062         0.0005342215      -0.01617495       -4.166231            \n",
       "3 0.01293939         0.0004600963      -0.01349007       -4.347479            \n",
       "4 0.01735468         0.0005850708      -0.01810262       -4.053893            \n",
       "5 0.01113156         0.0004041088      -0.01160272       -4.497971            \n",
       "6 0.01205036         0.0004303422      -0.01255925       -4.418660            \n",
       "  LogProba_virginica_2 Decision_2 DecisionProba_2\n",
       "1 -7.790865            setosa     0.9881501      \n",
       "2 -7.534700            setosa     0.9839552      \n",
       "3 -7.684075            setosa     0.9866005      \n",
       "4 -7.443778            setosa     0.9820602      \n",
       "5 -7.813827            setosa     0.9884643      \n",
       "6 -7.750930            setosa     0.9875193      "
      ]
     },
     "metadata": {},
     "output_type": "display_data"
    }
   ],
   "source": [
    "df_merge = merge(x = df_r_out, y = df_sql_out, by = \"KEY\", all = TRUE, , suffixes = c(\"_1\",\"_2\"))\n",
    "head(df_merge)"
   ]
  },
  {
   "cell_type": "code",
   "execution_count": null,
   "metadata": {},
   "outputs": [],
   "source": []
  },
  {
   "cell_type": "code",
   "execution_count": 13,
   "metadata": {},
   "outputs": [
    {
     "name": "stderr",
     "output_type": "stream",
     "text": [
      "Warning message in cbind(parts$left, ellip_h, parts$right, deparse.level = 0L):\n",
      "“number of rows of result is not a multiple of vector length (arg 2)”Warning message in cbind(parts$left, ellip_h, parts$right, deparse.level = 0L):\n",
      "“number of rows of result is not a multiple of vector length (arg 2)”Warning message in cbind(parts$left, ellip_h, parts$right, deparse.level = 0L):\n",
      "“number of rows of result is not a multiple of vector length (arg 2)”Warning message in cbind(parts$left, ellip_h, parts$right, deparse.level = 0L):\n",
      "“number of rows of result is not a multiple of vector length (arg 2)”"
     ]
    },
    {
     "data": {
      "text/html": [
       "<table>\n",
       "<thead><tr><th scope=col>KEY</th><th scope=col>Proba_setosa_1</th><th scope=col>Proba_versicolor_1</th><th scope=col>Proba_virginica_1</th><th scope=col>Score_setosa_1</th><th scope=col>Score_versicolor_1</th><th scope=col>Score_virginica_1</th><th scope=col>LogProba_setosa_1</th><th scope=col>LogProba_versicolor_1</th><th scope=col>LogProba_virginica_1</th><th scope=col>⋯</th><th scope=col>Score_versicolor_2</th><th scope=col>Score_virginica_2</th><th scope=col>Proba_setosa_2</th><th scope=col>Proba_versicolor_2</th><th scope=col>Proba_virginica_2</th><th scope=col>LogProba_setosa_2</th><th scope=col>LogProba_versicolor_2</th><th scope=col>LogProba_virginica_2</th><th scope=col>Decision_2</th><th scope=col>DecisionProba_2</th></tr></thead>\n",
       "<tbody>\n",
       "</tbody>\n",
       "</table>\n"
      ],
      "text/latex": [
       "\\begin{tabular}{r|lllllllllllllllllllllll}\n",
       " KEY & Proba\\_setosa\\_1 & Proba\\_versicolor\\_1 & Proba\\_virginica\\_1 & Score\\_setosa\\_1 & Score\\_versicolor\\_1 & Score\\_virginica\\_1 & LogProba\\_setosa\\_1 & LogProba\\_versicolor\\_1 & LogProba\\_virginica\\_1 & ⋯ & Score\\_versicolor\\_2 & Score\\_virginica\\_2 & Proba\\_setosa\\_2 & Proba\\_versicolor\\_2 & Proba\\_virginica\\_2 & LogProba\\_setosa\\_2 & LogProba\\_versicolor\\_2 & LogProba\\_virginica\\_2 & Decision\\_2 & DecisionProba\\_2\\\\\n",
       "\\hline\n",
       "\\end{tabular}\n"
      ],
      "text/markdown": [
       "\n",
       "KEY | Proba_setosa_1 | Proba_versicolor_1 | Proba_virginica_1 | Score_setosa_1 | Score_versicolor_1 | Score_virginica_1 | LogProba_setosa_1 | LogProba_versicolor_1 | LogProba_virginica_1 | ⋯ | Score_versicolor_2 | Score_virginica_2 | Proba_setosa_2 | Proba_versicolor_2 | Proba_virginica_2 | LogProba_setosa_2 | LogProba_versicolor_2 | LogProba_virginica_2 | Decision_2 | DecisionProba_2 | \n",
       "||\n",
       "\n",
       "\n"
      ],
      "text/plain": [
       "     KEY Proba_setosa_1 Proba_versicolor_1 Proba_virginica_1 Score_setosa_1\n",
       "     Score_versicolor_1 Score_virginica_1 LogProba_setosa_1\n",
       "     LogProba_versicolor_1 LogProba_virginica_1 ⋯ Score_versicolor_2\n",
       "     Score_virginica_2 Proba_setosa_2 Proba_versicolor_2 Proba_virginica_2\n",
       "     LogProba_setosa_2 LogProba_versicolor_2 LogProba_virginica_2 Decision_2\n",
       "     DecisionProba_2"
      ]
     },
     "metadata": {},
     "output_type": "display_data"
    }
   ],
   "source": [
    "diffs_df = df_merge[df_merge$Decision_1 != df_merge$Decision_2,]\n",
    "head(diffs_df)"
   ]
  },
  {
   "cell_type": "code",
   "execution_count": 17,
   "metadata": {},
   "outputs": [],
   "source": [
    "stopifnot(nrow(diffs_df) == 0)"
   ]
  },
  {
   "cell_type": "code",
   "execution_count": null,
   "metadata": {},
   "outputs": [],
   "source": []
  },
  {
   "cell_type": "code",
   "execution_count": 15,
   "metadata": {},
   "outputs": [
    {
     "data": {
      "text/plain": [
       "      KEY         Score_setosa   Score_versicolor Score_virginica\n",
       " Min.   :  1.00   Mode:logical   Mode:logical     Mode:logical   \n",
       " 1st Qu.: 38.25   NA's:150       NA's:150         NA's:150       \n",
       " Median : 75.50                                                  \n",
       " Mean   : 75.50                                                  \n",
       " 3rd Qu.:112.75                                                  \n",
       " Max.   :150.00                                                  \n",
       "  Proba_setosa      Proba_versicolor   Proba_virginica     LogProba_setosa   \n",
       " Min.   :0.001213   Min.   :0.008885   Min.   :0.0003322   Min.   :-6.71468  \n",
       " 1st Qu.:0.004039   1st Qu.:0.015907   1st Qu.:0.0005430   1st Qu.:-5.51188  \n",
       " Median :0.010727   Median :0.034865   Median :0.0202886   Median :-4.53497  \n",
       " Mean   :0.333398   Mean   :0.335251   Mean   :0.3313515   Mean   :-3.48702  \n",
       " 3rd Qu.:0.983550   3rd Qu.:0.938495   3rd Qu.:0.9099537   3rd Qu.:-0.01659  \n",
       " Max.   :0.990782   Max.   :0.981278   Max.   :0.9822518   Max.   :-0.00926  \n",
       " LogProba_versicolor LogProba_virginica       Decision  DecisionProba   \n",
       " Min.   :-4.72333    Min.   :-8.00990   setosa    :50   Min.   :0.4951  \n",
       " 1st Qu.:-4.14106    1st Qu.:-7.51843   versicolor:48   1st Qu.:0.9530  \n",
       " Median :-3.35668    Median :-3.89771   virginica :52   Median :0.9759  \n",
       " Mean   :-2.48036    Mean   :-3.75110                   Mean   :0.9427  \n",
       " 3rd Qu.:-0.06349    3rd Qu.:-0.09436                   3rd Qu.:0.9835  \n",
       " Max.   :-0.01890    Max.   :-0.01791                   Max.   :0.9908  "
      ]
     },
     "metadata": {},
     "output_type": "display_data"
    }
   ],
   "source": [
    "summary(df_sql_out)"
   ]
  },
  {
   "cell_type": "code",
   "execution_count": 16,
   "metadata": {},
   "outputs": [
    {
     "data": {
      "text/plain": [
       "  Proba_setosa      Proba_versicolor   Proba_virginica          KEY        \n",
       " Min.   :0.001213   Min.   :0.008885   Min.   :0.0003322   Min.   :  1.00  \n",
       " 1st Qu.:0.004039   1st Qu.:0.015907   1st Qu.:0.0005430   1st Qu.: 38.25  \n",
       " Median :0.010727   Median :0.034865   Median :0.0202887   Median : 75.50  \n",
       " Mean   :0.333398   Mean   :0.335250   Mean   :0.3313516   Mean   : 75.50  \n",
       " 3rd Qu.:0.983550   3rd Qu.:0.938495   3rd Qu.:0.9099539   3rd Qu.:112.75  \n",
       " Max.   :0.990782   Max.   :0.981278   Max.   :0.9822518   Max.   :150.00  \n",
       " Score_setosa   Score_versicolor Score_virginica LogProba_setosa   \n",
       " Mode:logical   Mode:logical     Mode:logical    Min.   :-6.71468  \n",
       " NA's:150       NA's:150         NA's:150        1st Qu.:-5.51188  \n",
       "                                                 Median :-4.53497  \n",
       "                                                 Mean   :-3.48702  \n",
       "                                                 3rd Qu.:-0.01659  \n",
       "                                                 Max.   :-0.00926  \n",
       " LogProba_versicolor LogProba_virginica       Decision  DecisionProba   \n",
       " Min.   :-4.72333    Min.   :-8.00990   setosa    :50   Min.   :0.4951  \n",
       " 1st Qu.:-4.14106    1st Qu.:-7.51843   versicolor:48   1st Qu.:0.9530  \n",
       " Median :-3.35668    Median :-3.89771   virginica :52   Median :0.9759  \n",
       " Mean   :-2.48036    Mean   :-3.75110                   Mean   :0.9427  \n",
       " 3rd Qu.:-0.06349    3rd Qu.:-0.09436                   3rd Qu.:0.9835  \n",
       " Max.   :-0.01890    Max.   :-0.01791                   Max.   :0.9908  "
      ]
     },
     "metadata": {},
     "output_type": "display_data"
    }
   ],
   "source": [
    "summary(df_r_out)"
   ]
  }
 ],
 "metadata": {
  "kernelspec": {
   "display_name": "R",
   "language": "R",
   "name": "ir"
  },
  "language_info": {
   "codemirror_mode": "r",
   "file_extension": ".r",
   "mimetype": "text/x-r-source",
   "name": "R",
   "pygments_lexer": "r",
   "version": "3.5.1"
  }
 },
 "nbformat": 4,
 "nbformat_minor": 2
}
