{
 "cells": [
  {
   "cell_type": "code",
   "execution_count": 1,
   "metadata": {},
   "outputs": [
    {
     "name": "stderr",
     "output_type": "stream",
     "text": [
      "\n",
      "Attaching package: ‘httr’\n",
      "\n",
      "The following object is masked from ‘package:caret’:\n",
      "\n",
      "    progress\n",
      "\n"
     ]
    }
   ],
   "source": [
    "library(caret, quiet=TRUE);\n",
    "library(base64enc)\n",
    "library(httr)\n"
   ]
  },
  {
   "cell_type": "markdown",
   "metadata": {},
   "source": [
    "# Build a Model"
   ]
  },
  {
   "cell_type": "code",
   "execution_count": 2,
   "metadata": {},
   "outputs": [],
   "source": [
    "set.seed(1960)\n",
    "\n",
    "create_model  =  function() {\n",
    "\n",
    "    model  <- train(Species ~ ., data = iris, method = \"naive_bayes\")\n",
    "    \n",
    "    return(model)\n",
    "}"
   ]
  },
  {
   "cell_type": "code",
   "execution_count": 3,
   "metadata": {},
   "outputs": [],
   "source": [
    "# dataset\n",
    "model = create_model()"
   ]
  },
  {
   "cell_type": "code",
   "execution_count": 4,
   "metadata": {},
   "outputs": [
    {
     "data": {
      "text/html": [
       "0.04"
      ],
      "text/latex": [
       "0.04"
      ],
      "text/markdown": [
       "0.04"
      ],
      "text/plain": [
       "[1] 0.04"
      ]
     },
     "metadata": {},
     "output_type": "display_data"
    }
   ],
   "source": [
    "pred <- predict(model, as.matrix(iris[, -5]) , type=\"prob\")\n",
    "pred_labels <- predict(model, as.matrix(iris[, -5]) , type=\"raw\")\n",
    "sum(pred_labels != iris$Species)/length(pred_labels)\n"
   ]
  },
  {
   "cell_type": "markdown",
   "metadata": {},
   "source": [
    "# SQL Code Generation"
   ]
  },
  {
   "cell_type": "code",
   "execution_count": 5,
   "metadata": {},
   "outputs": [],
   "source": [
    "\n",
    "test_ws_sql_gen = function(mod) {\n",
    "    WS_URL = \"https://sklearn2sql.herokuapp.com/model\"\n",
    "    WS_URL = \"http://localhost:1888/model\"\n",
    "    model_serialized <- serialize(mod, NULL)\n",
    "    b64_data = base64encode(model_serialized)\n",
    "    data = list(Name = \"caret_naive_bayes_test_model\", SerializedModel = b64_data , SQLDialect = \"postgresql\" , Mode=\"caret\")\n",
    "    r = POST(WS_URL, body = data, encode = \"json\")\n",
    "    # print(r)\n",
    "    content = content(r)\n",
    "    # print(content)\n",
    "    lSQL = content$model$SQLGenrationResult[[1]]$SQL # content[\"model\"][\"SQLGenrationResult\"][0][\"SQL\"]\n",
    "    return(lSQL);\n",
    "}"
   ]
  },
  {
   "cell_type": "code",
   "execution_count": 6,
   "metadata": {
    "scrolled": false
   },
   "outputs": [
    {
     "name": "stdout",
     "output_type": "stream",
     "text": [
      "WITH centered_data AS \n",
      "(SELECT \"ADS\".\"KEY\" AS \"KEY\", CAST(\"ADS\".\"Feature_0\" AS FLOAT) - 5.006 AS \"Feature_0_setosa\", CAST(\"ADS\".\"Feature_1\" AS FLOAT) - 3.428 AS \"Feature_1_setosa\", CAST(\"ADS\".\"Feature_2\" AS FLOAT) - 1.462 AS \"Feature_2_setosa\", CAST(\"ADS\".\"Feature_3\" AS FLOAT) - 0.24600000000000002 AS \"Feature_3_setosa\", CAST(\"ADS\".\"Feature_0\" AS FLOAT) - 5.936 AS \"Feature_0_versicolor\", CAST(\"ADS\".\"Feature_1\" AS FLOAT) - 2.77 AS \"Feature_1_versicolor\", CAST(\"ADS\".\"Feature_2\" AS FLOAT) - 4.26 AS \"Feature_2_versicolor\", CAST(\"ADS\".\"Feature_3\" AS FLOAT) - 1.3259999999999998 AS \"Feature_3_versicolor\", CAST(\"ADS\".\"Feature_0\" AS FLOAT) - 6.587999999999999 AS \"Feature_0_virginica\", CAST(\"ADS\".\"Feature_1\" AS FLOAT) - 2.9739999999999998 AS \"Feature_1_virginica\", CAST(\"ADS\".\"Feature_2\" AS FLOAT) - 5.5520000000000005 AS \"Feature_2_virginica\", CAST(\"ADS\".\"Feature_3\" AS FLOAT) - 2.026 AS \"Feature_3_virginica\" \n",
      "FROM \"INPUT_DATA\" AS \"ADS\"), \n",
      "\"NaiveBayes_data\" AS \n",
      "(SELECT \"Values\".\"KEY\" AS \"KEY\", \"Values\".\"Feature\" AS \"Feature\", \"Values\".log_proba_setosa AS log_proba_setosa, \"Values\".log_proba_versicolor AS log_proba_versicolor, \"Values\".log_proba_virginica AS log_proba_virginica \n",
      "FROM (SELECT centered_data.\"KEY\" AS \"KEY\", 0 AS \"Feature\", -0.5 * -0.24759076017032786 - (0.5 * centered_data.\"Feature_0_setosa\" * centered_data.\"Feature_0_setosa\") / 0.1242489795918365 AS log_proba_setosa, -0.5 * 0.5152432901333052 - (0.5 * centered_data.\"Feature_0_versicolor\" * centered_data.\"Feature_0_versicolor\") / 0.2664326530612241 AS log_proba_versicolor, -0.5 * 0.9323849617774158 - (0.5 * centered_data.\"Feature_0_virginica\" * centered_data.\"Feature_0_virginica\") / 0.40434285714285706 AS log_proba_virginica \n",
      "FROM centered_data UNION ALL SELECT centered_data.\"KEY\" AS \"KEY\", 1 AS \"Feature\", -0.5 * -0.10222143162381436 - (0.5 * centered_data.\"Feature_1_setosa\" * centered_data.\"Feature_1_setosa\") / 0.1436897959183676 AS log_proba_setosa, -0.5 * -0.4801324969103342 - (0.5 * centered_data.\"Feature_1_versicolor\" * centered_data.\"Feature_1_versicolor\") / 0.0984693877551018 AS log_proba_versicolor, -0.5 * -0.42544806773372684 - (0.5 * centered_data.\"Feature_1_virginica\" * centered_data.\"Feature_1_virginica\") / 0.10400408163265272 AS log_proba_virginica \n",
      "FROM centered_data UNION ALL SELECT centered_data.\"KEY\" AS \"KEY\", 2 AS \"Feature\", -0.5 * -1.6633887363288724 - (0.5 * centered_data.\"Feature_2_setosa\" * centered_data.\"Feature_2_setosa\") / 0.03015918367346935 AS log_proba_setosa, -0.5 * 0.3274530417170544 - (0.5 * centered_data.\"Feature_2_versicolor\" * centered_data.\"Feature_2_versicolor\") / 0.22081632653061228 AS log_proba_versicolor, -0.5 * 0.6490810271525895 - (0.5 * centered_data.\"Feature_2_virginica\" * centered_data.\"Feature_2_virginica\") / 0.3045877551020404 AS log_proba_virginica \n",
      "FROM centered_data UNION ALL SELECT centered_data.\"KEY\" AS \"KEY\", 3 AS \"Feature\", -0.5 * -2.662381684334266 - (0.5 * centered_data.\"Feature_3_setosa\" * centered_data.\"Feature_3_setosa\") / 0.011106122448979664 AS log_proba_setosa, -0.5 * -1.403599173466646 - (0.5 * centered_data.\"Feature_3_versicolor\" * centered_data.\"Feature_3_versicolor\") / 0.03910612244897956 AS log_proba_versicolor, -0.5 * -0.7466379668317652 - (0.5 * centered_data.\"Feature_3_virginica\" * centered_data.\"Feature_3_virginica\") / 0.07543265306122428 AS log_proba_virginica \n",
      "FROM centered_data) AS \"Values\"), \n",
      "\"NaiveBayes_Scores\" AS \n",
      "(SELECT nb_sums.\"KEY\" AS \"KEY\", nb_sums.\"Score_setosa\" AS \"Score_setosa\", nb_sums.\"Score_versicolor\" AS \"Score_versicolor\", nb_sums.\"Score_virginica\" AS \"Score_virginica\" \n",
      "FROM (SELECT \"NaiveBayes_data\".\"KEY\" AS \"KEY\", -1.0986122886681098 + sum(\"NaiveBayes_data\".log_proba_setosa) AS \"Score_setosa\", -1.0986122886681098 + sum(\"NaiveBayes_data\".log_proba_versicolor) AS \"Score_versicolor\", -1.0986122886681098 + sum(\"NaiveBayes_data\".log_proba_virginica) AS \"Score_virginica\" \n",
      "FROM \"NaiveBayes_data\" GROUP BY \"NaiveBayes_data\".\"KEY\") AS nb_sums), \n",
      "orig_cte AS \n",
      "(SELECT \"NaiveBayes_Scores\".\"KEY\" AS \"KEY\", \"NaiveBayes_Scores\".\"Score_setosa\" AS \"Score_setosa\", \"NaiveBayes_Scores\".\"Score_versicolor\" AS \"Score_versicolor\", \"NaiveBayes_Scores\".\"Score_virginica\" AS \"Score_virginica\", CAST(NULL AS FLOAT) AS \"Proba_setosa\", CAST(NULL AS FLOAT) AS \"Proba_versicolor\", CAST(NULL AS FLOAT) AS \"Proba_virginica\", CAST(NULL AS FLOAT) AS \"LogProba_setosa\", CAST(NULL AS FLOAT) AS \"LogProba_versicolor\", CAST(NULL AS FLOAT) AS \"LogProba_virginica\", CAST(NULL AS BIGINT) AS \"Decision\", CAST(NULL AS FLOAT) AS \"DecisionProba\" \n",
      "FROM \"NaiveBayes_Scores\"), \n",
      "score_class_union AS \n",
      "(SELECT scu.\"KEY_u\" AS \"KEY_u\", scu.class AS class, scu.\"LogProba\" AS \"LogProba\", scu.\"Proba\" AS \"Proba\", scu.\"Score\" AS \"Score\" \n",
      "FROM (SELECT orig_cte.\"KEY\" AS \"KEY_u\", 'setosa' AS class, orig_cte.\"LogProba_setosa\" AS \"LogProba\", orig_cte.\"Proba_setosa\" AS \"Proba\", orig_cte.\"Score_setosa\" AS \"Score\" \n",
      "FROM orig_cte UNION ALL SELECT orig_cte.\"KEY\" AS \"KEY_u\", 'versicolor' AS class, orig_cte.\"LogProba_versicolor\" AS \"LogProba\", orig_cte.\"Proba_versicolor\" AS \"Proba\", orig_cte.\"Score_versicolor\" AS \"Score\" \n",
      "FROM orig_cte UNION ALL SELECT orig_cte.\"KEY\" AS \"KEY_u\", 'virginica' AS class, orig_cte.\"LogProba_virginica\" AS \"LogProba\", orig_cte.\"Proba_virginica\" AS \"Proba\", orig_cte.\"Score_virginica\" AS \"Score\" \n",
      "FROM orig_cte) AS scu), \n",
      "score_max AS \n",
      "(SELECT orig_cte.\"KEY\" AS \"KEY\", orig_cte.\"Score_setosa\" AS \"Score_setosa\", orig_cte.\"Score_versicolor\" AS \"Score_versicolor\", orig_cte.\"Score_virginica\" AS \"Score_virginica\", orig_cte.\"Proba_setosa\" AS \"Proba_setosa\", orig_cte.\"Proba_versicolor\" AS \"Proba_versicolor\", orig_cte.\"Proba_virginica\" AS \"Proba_virginica\", orig_cte.\"LogProba_setosa\" AS \"LogProba_setosa\", orig_cte.\"LogProba_versicolor\" AS \"LogProba_versicolor\", orig_cte.\"LogProba_virginica\" AS \"LogProba_virginica\", orig_cte.\"Decision\" AS \"Decision\", orig_cte.\"DecisionProba\" AS \"DecisionProba\", max_select.\"KEY_m\" AS \"KEY_m\", max_select.\"max_Score\" AS \"max_Score\" \n",
      "FROM orig_cte LEFT OUTER JOIN (SELECT score_class_union.\"KEY_u\" AS \"KEY_m\", max(score_class_union.\"Score\") AS \"max_Score\" \n",
      "FROM score_class_union GROUP BY score_class_union.\"KEY_u\") AS max_select ON orig_cte.\"KEY\" = max_select.\"KEY_m\"), \n",
      "score_soft_max_deltas AS \n",
      "(SELECT score_max.\"KEY\" AS \"KEY\", score_max.\"Score_setosa\" AS \"Score_setosa\", score_max.\"Score_versicolor\" AS \"Score_versicolor\", score_max.\"Score_virginica\" AS \"Score_virginica\", score_max.\"Proba_setosa\" AS \"Proba_setosa\", score_max.\"Proba_versicolor\" AS \"Proba_versicolor\", score_max.\"Proba_virginica\" AS \"Proba_virginica\", score_max.\"LogProba_setosa\" AS \"LogProba_setosa\", score_max.\"LogProba_versicolor\" AS \"LogProba_versicolor\", score_max.\"LogProba_virginica\" AS \"LogProba_virginica\", score_max.\"Decision\" AS \"Decision\", score_max.\"DecisionProba\" AS \"DecisionProba\", score_max.\"KEY_m\" AS \"KEY_m\", score_max.\"max_Score\" AS \"max_Score\", exp(greatest(-100.0, score_max.\"Score_setosa\" - score_max.\"max_Score\")) AS \"exp_delta_Score_setosa\", exp(greatest(-100.0, score_max.\"Score_versicolor\" - score_max.\"max_Score\")) AS \"exp_delta_Score_versicolor\", exp(greatest(-100.0, score_max.\"Score_virginica\" - score_max.\"max_Score\")) AS \"exp_delta_Score_virginica\" \n",
      "FROM score_max), \n",
      "score_class_union_soft AS \n",
      "(SELECT soft_scu.\"KEY\" AS \"KEY\", soft_scu.class AS class, soft_scu.\"exp_delta_Score\" AS \"exp_delta_Score\" \n",
      "FROM (SELECT score_soft_max_deltas.\"KEY\" AS \"KEY\", 'setosa' AS class, score_soft_max_deltas.\"exp_delta_Score_setosa\" AS \"exp_delta_Score\" \n",
      "FROM score_soft_max_deltas UNION ALL SELECT score_soft_max_deltas.\"KEY\" AS \"KEY\", 'versicolor' AS class, score_soft_max_deltas.\"exp_delta_Score_versicolor\" AS \"exp_delta_Score\" \n",
      "FROM score_soft_max_deltas UNION ALL SELECT score_soft_max_deltas.\"KEY\" AS \"KEY\", 'virginica' AS class, score_soft_max_deltas.\"exp_delta_Score_virginica\" AS \"exp_delta_Score\" \n",
      "FROM score_soft_max_deltas) AS soft_scu), \n",
      "score_soft_max AS \n",
      "(SELECT score_soft_max_deltas.\"KEY\" AS \"KEY\", score_soft_max_deltas.\"Score_setosa\" AS \"Score_setosa\", score_soft_max_deltas.\"Score_versicolor\" AS \"Score_versicolor\", score_soft_max_deltas.\"Score_virginica\" AS \"Score_virginica\", score_soft_max_deltas.\"Proba_setosa\" AS \"Proba_setosa\", score_soft_max_deltas.\"Proba_versicolor\" AS \"Proba_versicolor\", score_soft_max_deltas.\"Proba_virginica\" AS \"Proba_virginica\", score_soft_max_deltas.\"LogProba_setosa\" AS \"LogProba_setosa\", score_soft_max_deltas.\"LogProba_versicolor\" AS \"LogProba_versicolor\", score_soft_max_deltas.\"LogProba_virginica\" AS \"LogProba_virginica\", score_soft_max_deltas.\"Decision\" AS \"Decision\", score_soft_max_deltas.\"DecisionProba\" AS \"DecisionProba\", score_soft_max_deltas.\"KEY_m\" AS \"KEY_m\", score_soft_max_deltas.\"max_Score\" AS \"max_Score\", score_soft_max_deltas.\"exp_delta_Score_setosa\" AS \"exp_delta_Score_setosa\", score_soft_max_deltas.\"exp_delta_Score_versicolor\" AS \"exp_delta_Score_versicolor\", score_soft_max_deltas.\"exp_delta_Score_virginica\" AS \"exp_delta_Score_virginica\", sum_exp_t.\"KEY_sum\" AS \"KEY_sum\", sum_exp_t.\"sum_ExpDeltaScore\" AS \"sum_ExpDeltaScore\" \n",
      "FROM score_soft_max_deltas LEFT OUTER JOIN (SELECT score_class_union_soft.\"KEY\" AS \"KEY_sum\", sum(score_class_union_soft.\"exp_delta_Score\") AS \"sum_ExpDeltaScore\" \n",
      "FROM score_class_union_soft GROUP BY score_class_union_soft.\"KEY\") AS sum_exp_t ON score_soft_max_deltas.\"KEY\" = sum_exp_t.\"KEY_sum\"), \n",
      "union_with_max AS \n",
      "(SELECT score_class_union.\"KEY_u\" AS \"KEY_u\", score_class_union.class AS class, score_class_union.\"LogProba\" AS \"LogProba\", score_class_union.\"Proba\" AS \"Proba\", score_class_union.\"Score\" AS \"Score\", score_soft_max.\"KEY\" AS \"KEY\", score_soft_max.\"Score_setosa\" AS \"Score_setosa\", score_soft_max.\"Score_versicolor\" AS \"Score_versicolor\", score_soft_max.\"Score_virginica\" AS \"Score_virginica\", score_soft_max.\"Proba_setosa\" AS \"Proba_setosa\", score_soft_max.\"Proba_versicolor\" AS \"Proba_versicolor\", score_soft_max.\"Proba_virginica\" AS \"Proba_virginica\", score_soft_max.\"LogProba_setosa\" AS \"LogProba_setosa\", score_soft_max.\"LogProba_versicolor\" AS \"LogProba_versicolor\", score_soft_max.\"LogProba_virginica\" AS \"LogProba_virginica\", score_soft_max.\"Decision\" AS \"Decision\", score_soft_max.\"DecisionProba\" AS \"DecisionProba\", score_soft_max.\"KEY_m\" AS \"KEY_m\", score_soft_max.\"max_Score\" AS \"max_Score\", score_soft_max.\"exp_delta_Score_setosa\" AS \"exp_delta_Score_setosa\", score_soft_max.\"exp_delta_Score_versicolor\" AS \"exp_delta_Score_versicolor\", score_soft_max.\"exp_delta_Score_virginica\" AS \"exp_delta_Score_virginica\", score_soft_max.\"KEY_sum\" AS \"KEY_sum\", score_soft_max.\"sum_ExpDeltaScore\" AS \"sum_ExpDeltaScore\" \n",
      "FROM score_class_union LEFT OUTER JOIN score_soft_max ON score_class_union.\"KEY_u\" = score_soft_max.\"KEY\"), \n",
      "arg_max_cte AS \n",
      "(SELECT score_soft_max.\"KEY\" AS \"KEY\", score_soft_max.\"Score_setosa\" AS \"Score_setosa\", score_soft_max.\"Score_versicolor\" AS \"Score_versicolor\", score_soft_max.\"Score_virginica\" AS \"Score_virginica\", score_soft_max.\"Proba_setosa\" AS \"Proba_setosa\", score_soft_max.\"Proba_versicolor\" AS \"Proba_versicolor\", score_soft_max.\"Proba_virginica\" AS \"Proba_virginica\", score_soft_max.\"LogProba_setosa\" AS \"LogProba_setosa\", score_soft_max.\"LogProba_versicolor\" AS \"LogProba_versicolor\", score_soft_max.\"LogProba_virginica\" AS \"LogProba_virginica\", score_soft_max.\"Decision\" AS \"Decision\", score_soft_max.\"DecisionProba\" AS \"DecisionProba\", score_soft_max.\"KEY_m\" AS \"KEY_m\", score_soft_max.\"max_Score\" AS \"max_Score\", score_soft_max.\"exp_delta_Score_setosa\" AS \"exp_delta_Score_setosa\", score_soft_max.\"exp_delta_Score_versicolor\" AS \"exp_delta_Score_versicolor\", score_soft_max.\"exp_delta_Score_virginica\" AS \"exp_delta_Score_virginica\", score_soft_max.\"KEY_sum\" AS \"KEY_sum\", score_soft_max.\"sum_ExpDeltaScore\" AS \"sum_ExpDeltaScore\", \"arg_max_t_Score\".\"KEY_Score\" AS \"KEY_Score\", \"arg_max_t_Score\".\"arg_max_Score\" AS \"arg_max_Score\", soft_max_comp.\"KEY_softmax\" AS \"KEY_softmax\", soft_max_comp.\"SoftProba_setosa\" AS \"SoftProba_setosa\", soft_max_comp.\"SoftProba_versicolor\" AS \"SoftProba_versicolor\", soft_max_comp.\"SoftProba_virginica\" AS \"SoftProba_virginica\" \n",
      "FROM score_soft_max LEFT OUTER JOIN (SELECT union_with_max.\"KEY\" AS \"KEY_Score\", max(union_with_max.class) AS \"arg_max_Score\" \n",
      "FROM union_with_max \n",
      "WHERE union_with_max.\"max_Score\" <= union_with_max.\"Score\" GROUP BY union_with_max.\"KEY\") AS \"arg_max_t_Score\" ON score_soft_max.\"KEY\" = \"arg_max_t_Score\".\"KEY_Score\" LEFT OUTER JOIN (SELECT score_soft_max.\"KEY\" AS \"KEY_softmax\", score_soft_max.\"exp_delta_Score_setosa\" / score_soft_max.\"sum_ExpDeltaScore\" AS \"SoftProba_setosa\", score_soft_max.\"exp_delta_Score_versicolor\" / score_soft_max.\"sum_ExpDeltaScore\" AS \"SoftProba_versicolor\", score_soft_max.\"exp_delta_Score_virginica\" / score_soft_max.\"sum_ExpDeltaScore\" AS \"SoftProba_virginica\" \n",
      "FROM score_soft_max) AS soft_max_comp ON soft_max_comp.\"KEY_softmax\" = \"arg_max_t_Score\".\"KEY_Score\")\n",
      " SELECT arg_max_cte.\"KEY\" AS \"KEY\", CAST(NULL AS FLOAT) AS \"Score_setosa\", CAST(NULL AS FLOAT) AS \"Score_versicolor\", CAST(NULL AS FLOAT) AS \"Score_virginica\", arg_max_cte.\"SoftProba_setosa\" AS \"Proba_setosa\", arg_max_cte.\"SoftProba_versicolor\" AS \"Proba_versicolor\", arg_max_cte.\"SoftProba_virginica\" AS \"Proba_virginica\", CASE WHEN (arg_max_cte.\"SoftProba_setosa\" IS NULL OR arg_max_cte.\"SoftProba_setosa\" > 0.0) THEN ln(arg_max_cte.\"SoftProba_setosa\") ELSE -1.79769313486231e+308 END AS \"LogProba_setosa\", CASE WHEN (arg_max_cte.\"SoftProba_versicolor\" IS NULL OR arg_max_cte.\"SoftProba_versicolor\" > 0.0) THEN ln(arg_max_cte.\"SoftProba_versicolor\") ELSE -1.79769313486231e+308 END AS \"LogProba_versicolor\", CASE WHEN (arg_max_cte.\"SoftProba_virginica\" IS NULL OR arg_max_cte.\"SoftProba_virginica\" > 0.0) THEN ln(arg_max_cte.\"SoftProba_virginica\") ELSE -1.79769313486231e+308 END AS \"LogProba_virginica\", arg_max_cte.\"arg_max_Score\" AS \"Decision\", greatest(arg_max_cte.\"SoftProba_setosa\", arg_max_cte.\"SoftProba_versicolor\", arg_max_cte.\"SoftProba_virginica\") AS \"DecisionProba\" \n",
      "FROM arg_max_cte"
     ]
    }
   ],
   "source": [
    "lModelSQL = test_ws_sql_gen(model)\n",
    "cat(lModelSQL)"
   ]
  },
  {
   "cell_type": "markdown",
   "metadata": {},
   "source": [
    "# Execute the SQL Code"
   ]
  },
  {
   "cell_type": "code",
   "execution_count": 7,
   "metadata": {},
   "outputs": [
    {
     "data": {
      "text/html": [
       "0"
      ],
      "text/latex": [
       "0"
      ],
      "text/markdown": [
       "0"
      ],
      "text/plain": [
       "[1] 0"
      ]
     },
     "metadata": {},
     "output_type": "display_data"
    }
   ],
   "source": [
    "library(RODBC)\n",
    "conn = odbcConnect(\"pgsql\", uid=\"db\", pwd=\"db\", case=\"nochange\")\n",
    "odbcSetAutoCommit(conn , autoCommit = TRUE)"
   ]
  },
  {
   "cell_type": "code",
   "execution_count": 8,
   "metadata": {
    "scrolled": true
   },
   "outputs": [
    {
     "data": {
      "text/html": [
       "<table>\n",
       "<thead><tr><th scope=col>Feature_0</th><th scope=col>Feature_1</th><th scope=col>Feature_2</th><th scope=col>Feature_3</th><th scope=col>KEY</th></tr></thead>\n",
       "<tbody>\n",
       "\t<tr><td>5.1</td><td>3.5</td><td>1.4</td><td>0.2</td><td>1  </td></tr>\n",
       "\t<tr><td>4.9</td><td>3.0</td><td>1.4</td><td>0.2</td><td>2  </td></tr>\n",
       "\t<tr><td>4.7</td><td>3.2</td><td>1.3</td><td>0.2</td><td>3  </td></tr>\n",
       "\t<tr><td>4.6</td><td>3.1</td><td>1.5</td><td>0.2</td><td>4  </td></tr>\n",
       "\t<tr><td>5.0</td><td>3.6</td><td>1.4</td><td>0.2</td><td>5  </td></tr>\n",
       "\t<tr><td>5.4</td><td>3.9</td><td>1.7</td><td>0.4</td><td>6  </td></tr>\n",
       "</tbody>\n",
       "</table>\n"
      ],
      "text/latex": [
       "\\begin{tabular}{r|lllll}\n",
       " Feature\\_0 & Feature\\_1 & Feature\\_2 & Feature\\_3 & KEY\\\\\n",
       "\\hline\n",
       "\t 5.1 & 3.5 & 1.4 & 0.2 & 1  \\\\\n",
       "\t 4.9 & 3.0 & 1.4 & 0.2 & 2  \\\\\n",
       "\t 4.7 & 3.2 & 1.3 & 0.2 & 3  \\\\\n",
       "\t 4.6 & 3.1 & 1.5 & 0.2 & 4  \\\\\n",
       "\t 5.0 & 3.6 & 1.4 & 0.2 & 5  \\\\\n",
       "\t 5.4 & 3.9 & 1.7 & 0.4 & 6  \\\\\n",
       "\\end{tabular}\n"
      ],
      "text/markdown": [
       "\n",
       "Feature_0 | Feature_1 | Feature_2 | Feature_3 | KEY | \n",
       "|---|---|---|---|---|---|\n",
       "| 5.1 | 3.5 | 1.4 | 0.2 | 1   | \n",
       "| 4.9 | 3.0 | 1.4 | 0.2 | 2   | \n",
       "| 4.7 | 3.2 | 1.3 | 0.2 | 3   | \n",
       "| 4.6 | 3.1 | 1.5 | 0.2 | 4   | \n",
       "| 5.0 | 3.6 | 1.4 | 0.2 | 5   | \n",
       "| 5.4 | 3.9 | 1.7 | 0.4 | 6   | \n",
       "\n",
       "\n"
      ],
      "text/plain": [
       "  Feature_0 Feature_1 Feature_2 Feature_3 KEY\n",
       "1 5.1       3.5       1.4       0.2       1  \n",
       "2 4.9       3.0       1.4       0.2       2  \n",
       "3 4.7       3.2       1.3       0.2       3  \n",
       "4 4.6       3.1       1.5       0.2       4  \n",
       "5 5.0       3.6       1.4       0.2       5  \n",
       "6 5.4       3.9       1.7       0.4       6  "
      ]
     },
     "metadata": {},
     "output_type": "display_data"
    }
   ],
   "source": [
    "dataset = iris[,-5]\n",
    "\n",
    "df_sql = as.data.frame(dataset)\n",
    "names(df_sql) = sprintf(\"Feature_%d\",0:(ncol(df_sql)-1))\n",
    "df_sql$KEY = seq.int(nrow(dataset))\n",
    "\n",
    "sqlDrop(conn , \"INPUT_DATA\" , errors = FALSE)\n",
    "sqlSave(conn, df_sql, tablename = \"INPUT_DATA\", verbose = FALSE)\n",
    "\n",
    "head(df_sql)"
   ]
  },
  {
   "cell_type": "code",
   "execution_count": 9,
   "metadata": {},
   "outputs": [],
   "source": [
    "# colnames(df_sql)\n",
    "# odbcGetInfo(conn)\n",
    "# sqlTables(conn)"
   ]
  },
  {
   "cell_type": "code",
   "execution_count": 10,
   "metadata": {},
   "outputs": [
    {
     "data": {
      "text/html": [
       "<table>\n",
       "<thead><tr><th scope=col>KEY</th><th scope=col>Score_setosa</th><th scope=col>Score_versicolor</th><th scope=col>Score_virginica</th><th scope=col>Proba_setosa</th><th scope=col>Proba_versicolor</th><th scope=col>Proba_virginica</th><th scope=col>LogProba_setosa</th><th scope=col>LogProba_versicolor</th><th scope=col>LogProba_virginica</th><th scope=col>Decision</th><th scope=col>DecisionProba</th></tr></thead>\n",
       "<tbody>\n",
       "\t<tr><td>116          </td><td>NA           </td><td>NA           </td><td>NA           </td><td>3.720074e-44 </td><td>6.128385e-07 </td><td>9.999994e-01 </td><td>-100.0000    </td><td>-1.430516e+01</td><td>-6.128387e-07</td><td>virginica    </td><td>0.9999994    </td></tr>\n",
       "\t<tr><td> 87          </td><td>NA           </td><td>NA           </td><td>NA           </td><td>2.965568e-44 </td><td>7.971795e-01 </td><td>2.028205e-01 </td><td>-100.2267    </td><td>-2.266754e-01</td><td>-1.595434e+00</td><td>versicolor   </td><td>0.7971795    </td></tr>\n",
       "\t<tr><td> 71          </td><td>NA           </td><td>NA           </td><td>NA           </td><td>3.121382e-44 </td><td>1.609361e-01 </td><td>8.390639e-01 </td><td>-100.1755    </td><td>-1.826748e+00</td><td>-1.754684e-01</td><td>virginica    </td><td>0.8390639    </td></tr>\n",
       "\t<tr><td> 68          </td><td>NA           </td><td>NA           </td><td>NA           </td><td>3.720001e-44 </td><td>9.999799e-01 </td><td>2.007314e-05 </td><td>-100.0000    </td><td>-2.007334e-05</td><td>-1.081613e+01</td><td>versicolor   </td><td>0.9999799    </td></tr>\n",
       "\t<tr><td> 51          </td><td>NA           </td><td>NA           </td><td>NA           </td><td>2.983000e-44 </td><td>8.018653e-01 </td><td>1.981347e-01 </td><td>-100.2208    </td><td>-2.208147e-01</td><td>-1.618808e+00</td><td>versicolor   </td><td>0.8018653    </td></tr>\n",
       "\t<tr><td>146          </td><td>NA           </td><td>NA           </td><td>NA           </td><td>3.720073e-44 </td><td>7.915543e-07 </td><td>9.999992e-01 </td><td>-100.0000    </td><td>-1.404927e+01</td><td>-7.915546e-07</td><td>virginica    </td><td>0.9999992    </td></tr>\n",
       "</tbody>\n",
       "</table>\n"
      ],
      "text/latex": [
       "\\begin{tabular}{r|llllllllllll}\n",
       " KEY & Score\\_setosa & Score\\_versicolor & Score\\_virginica & Proba\\_setosa & Proba\\_versicolor & Proba\\_virginica & LogProba\\_setosa & LogProba\\_versicolor & LogProba\\_virginica & Decision & DecisionProba\\\\\n",
       "\\hline\n",
       "\t 116           & NA            & NA            & NA            & 3.720074e-44  & 6.128385e-07  & 9.999994e-01  & -100.0000     & -1.430516e+01 & -6.128387e-07 & virginica     & 0.9999994    \\\\\n",
       "\t  87           & NA            & NA            & NA            & 2.965568e-44  & 7.971795e-01  & 2.028205e-01  & -100.2267     & -2.266754e-01 & -1.595434e+00 & versicolor    & 0.7971795    \\\\\n",
       "\t  71           & NA            & NA            & NA            & 3.121382e-44  & 1.609361e-01  & 8.390639e-01  & -100.1755     & -1.826748e+00 & -1.754684e-01 & virginica     & 0.8390639    \\\\\n",
       "\t  68           & NA            & NA            & NA            & 3.720001e-44  & 9.999799e-01  & 2.007314e-05  & -100.0000     & -2.007334e-05 & -1.081613e+01 & versicolor    & 0.9999799    \\\\\n",
       "\t  51           & NA            & NA            & NA            & 2.983000e-44  & 8.018653e-01  & 1.981347e-01  & -100.2208     & -2.208147e-01 & -1.618808e+00 & versicolor    & 0.8018653    \\\\\n",
       "\t 146           & NA            & NA            & NA            & 3.720073e-44  & 7.915543e-07  & 9.999992e-01  & -100.0000     & -1.404927e+01 & -7.915546e-07 & virginica     & 0.9999992    \\\\\n",
       "\\end{tabular}\n"
      ],
      "text/markdown": [
       "\n",
       "KEY | Score_setosa | Score_versicolor | Score_virginica | Proba_setosa | Proba_versicolor | Proba_virginica | LogProba_setosa | LogProba_versicolor | LogProba_virginica | Decision | DecisionProba | \n",
       "|---|---|---|---|---|---|\n",
       "| 116           | NA            | NA            | NA            | 3.720074e-44  | 6.128385e-07  | 9.999994e-01  | -100.0000     | -1.430516e+01 | -6.128387e-07 | virginica     | 0.9999994     | \n",
       "|  87           | NA            | NA            | NA            | 2.965568e-44  | 7.971795e-01  | 2.028205e-01  | -100.2267     | -2.266754e-01 | -1.595434e+00 | versicolor    | 0.7971795     | \n",
       "|  71           | NA            | NA            | NA            | 3.121382e-44  | 1.609361e-01  | 8.390639e-01  | -100.1755     | -1.826748e+00 | -1.754684e-01 | virginica     | 0.8390639     | \n",
       "|  68           | NA            | NA            | NA            | 3.720001e-44  | 9.999799e-01  | 2.007314e-05  | -100.0000     | -2.007334e-05 | -1.081613e+01 | versicolor    | 0.9999799     | \n",
       "|  51           | NA            | NA            | NA            | 2.983000e-44  | 8.018653e-01  | 1.981347e-01  | -100.2208     | -2.208147e-01 | -1.618808e+00 | versicolor    | 0.8018653     | \n",
       "| 146           | NA            | NA            | NA            | 3.720073e-44  | 7.915543e-07  | 9.999992e-01  | -100.0000     | -1.404927e+01 | -7.915546e-07 | virginica     | 0.9999992     | \n",
       "\n",
       "\n"
      ],
      "text/plain": [
       "  KEY Score_setosa Score_versicolor Score_virginica Proba_setosa\n",
       "1 116 NA           NA               NA              3.720074e-44\n",
       "2  87 NA           NA               NA              2.965568e-44\n",
       "3  71 NA           NA               NA              3.121382e-44\n",
       "4  68 NA           NA               NA              3.720001e-44\n",
       "5  51 NA           NA               NA              2.983000e-44\n",
       "6 146 NA           NA               NA              3.720073e-44\n",
       "  Proba_versicolor Proba_virginica LogProba_setosa LogProba_versicolor\n",
       "1 6.128385e-07     9.999994e-01    -100.0000       -1.430516e+01      \n",
       "2 7.971795e-01     2.028205e-01    -100.2267       -2.266754e-01      \n",
       "3 1.609361e-01     8.390639e-01    -100.1755       -1.826748e+00      \n",
       "4 9.999799e-01     2.007314e-05    -100.0000       -2.007334e-05      \n",
       "5 8.018653e-01     1.981347e-01    -100.2208       -2.208147e-01      \n",
       "6 7.915543e-07     9.999992e-01    -100.0000       -1.404927e+01      \n",
       "  LogProba_virginica Decision   DecisionProba\n",
       "1 -6.128387e-07      virginica  0.9999994    \n",
       "2 -1.595434e+00      versicolor 0.7971795    \n",
       "3 -1.754684e-01      virginica  0.8390639    \n",
       "4 -1.081613e+01      versicolor 0.9999799    \n",
       "5 -1.618808e+00      versicolor 0.8018653    \n",
       "6 -7.915546e-07      virginica  0.9999992    "
      ]
     },
     "metadata": {},
     "output_type": "display_data"
    }
   ],
   "source": [
    "df_sql_out = sqlQuery(conn, lModelSQL)\n",
    "head(df_sql_out)"
   ]
  },
  {
   "cell_type": "markdown",
   "metadata": {},
   "source": [
    "# R Caret Rpart Output"
   ]
  },
  {
   "cell_type": "code",
   "execution_count": 11,
   "metadata": {},
   "outputs": [
    {
     "data": {
      "text/html": [
       "<table>\n",
       "<thead><tr><th scope=col>Proba_setosa</th><th scope=col>Proba_versicolor</th><th scope=col>Proba_virginica</th><th scope=col>KEY</th><th scope=col>Score_setosa</th><th scope=col>Score_versicolor</th><th scope=col>Score_virginica</th><th scope=col>LogProba_setosa</th><th scope=col>LogProba_versicolor</th><th scope=col>LogProba_virginica</th><th scope=col>Decision</th><th scope=col>DecisionProba</th></tr></thead>\n",
       "<tbody>\n",
       "\t<tr><td>1            </td><td>2.981309e-18 </td><td>2.152373e-25 </td><td>1            </td><td>NA           </td><td>NA           </td><td>NA           </td><td> 0.000000e+00</td><td>-40.35417    </td><td>-56.79806    </td><td>setosa       </td><td>1            </td></tr>\n",
       "\t<tr><td>1            </td><td>3.169312e-17 </td><td>6.938030e-25 </td><td>2            </td><td>NA           </td><td>NA           </td><td>NA           </td><td> 0.000000e+00</td><td>-37.99043    </td><td>-55.62761    </td><td>setosa       </td><td>1            </td></tr>\n",
       "\t<tr><td>1            </td><td>2.367113e-18 </td><td>7.240956e-26 </td><td>3            </td><td>NA           </td><td>NA           </td><td>NA           </td><td> 0.000000e+00</td><td>-40.58486    </td><td>-57.88746    </td><td>setosa       </td><td>1            </td></tr>\n",
       "\t<tr><td>1            </td><td>3.069606e-17 </td><td>8.690636e-25 </td><td>4            </td><td>NA           </td><td>NA           </td><td>NA           </td><td> 0.000000e+00</td><td>-38.02240    </td><td>-55.40238    </td><td>setosa       </td><td>1            </td></tr>\n",
       "\t<tr><td>1            </td><td>1.017337e-18 </td><td>8.885794e-26 </td><td>5            </td><td>NA           </td><td>NA           </td><td>NA           </td><td> 0.000000e+00</td><td>-41.42934    </td><td>-57.68276    </td><td>setosa       </td><td>1            </td></tr>\n",
       "\t<tr><td>1            </td><td>2.717732e-14 </td><td>4.344285e-21 </td><td>6            </td><td>NA           </td><td>NA           </td><td>NA           </td><td>-2.720046e-14</td><td>-31.23639    </td><td>-46.88543    </td><td>setosa       </td><td>1            </td></tr>\n",
       "</tbody>\n",
       "</table>\n"
      ],
      "text/latex": [
       "\\begin{tabular}{r|llllllllllll}\n",
       " Proba\\_setosa & Proba\\_versicolor & Proba\\_virginica & KEY & Score\\_setosa & Score\\_versicolor & Score\\_virginica & LogProba\\_setosa & LogProba\\_versicolor & LogProba\\_virginica & Decision & DecisionProba\\\\\n",
       "\\hline\n",
       "\t 1             & 2.981309e-18  & 2.152373e-25  & 1             & NA            & NA            & NA            &  0.000000e+00 & -40.35417     & -56.79806     & setosa        & 1            \\\\\n",
       "\t 1             & 3.169312e-17  & 6.938030e-25  & 2             & NA            & NA            & NA            &  0.000000e+00 & -37.99043     & -55.62761     & setosa        & 1            \\\\\n",
       "\t 1             & 2.367113e-18  & 7.240956e-26  & 3             & NA            & NA            & NA            &  0.000000e+00 & -40.58486     & -57.88746     & setosa        & 1            \\\\\n",
       "\t 1             & 3.069606e-17  & 8.690636e-25  & 4             & NA            & NA            & NA            &  0.000000e+00 & -38.02240     & -55.40238     & setosa        & 1            \\\\\n",
       "\t 1             & 1.017337e-18  & 8.885794e-26  & 5             & NA            & NA            & NA            &  0.000000e+00 & -41.42934     & -57.68276     & setosa        & 1            \\\\\n",
       "\t 1             & 2.717732e-14  & 4.344285e-21  & 6             & NA            & NA            & NA            & -2.720046e-14 & -31.23639     & -46.88543     & setosa        & 1            \\\\\n",
       "\\end{tabular}\n"
      ],
      "text/markdown": [
       "\n",
       "Proba_setosa | Proba_versicolor | Proba_virginica | KEY | Score_setosa | Score_versicolor | Score_virginica | LogProba_setosa | LogProba_versicolor | LogProba_virginica | Decision | DecisionProba | \n",
       "|---|---|---|---|---|---|\n",
       "| 1             | 2.981309e-18  | 2.152373e-25  | 1             | NA            | NA            | NA            |  0.000000e+00 | -40.35417     | -56.79806     | setosa        | 1             | \n",
       "| 1             | 3.169312e-17  | 6.938030e-25  | 2             | NA            | NA            | NA            |  0.000000e+00 | -37.99043     | -55.62761     | setosa        | 1             | \n",
       "| 1             | 2.367113e-18  | 7.240956e-26  | 3             | NA            | NA            | NA            |  0.000000e+00 | -40.58486     | -57.88746     | setosa        | 1             | \n",
       "| 1             | 3.069606e-17  | 8.690636e-25  | 4             | NA            | NA            | NA            |  0.000000e+00 | -38.02240     | -55.40238     | setosa        | 1             | \n",
       "| 1             | 1.017337e-18  | 8.885794e-26  | 5             | NA            | NA            | NA            |  0.000000e+00 | -41.42934     | -57.68276     | setosa        | 1             | \n",
       "| 1             | 2.717732e-14  | 4.344285e-21  | 6             | NA            | NA            | NA            | -2.720046e-14 | -31.23639     | -46.88543     | setosa        | 1             | \n",
       "\n",
       "\n"
      ],
      "text/plain": [
       "  Proba_setosa Proba_versicolor Proba_virginica KEY Score_setosa\n",
       "1 1            2.981309e-18     2.152373e-25    1   NA          \n",
       "2 1            3.169312e-17     6.938030e-25    2   NA          \n",
       "3 1            2.367113e-18     7.240956e-26    3   NA          \n",
       "4 1            3.069606e-17     8.690636e-25    4   NA          \n",
       "5 1            1.017337e-18     8.885794e-26    5   NA          \n",
       "6 1            2.717732e-14     4.344285e-21    6   NA          \n",
       "  Score_versicolor Score_virginica LogProba_setosa LogProba_versicolor\n",
       "1 NA               NA               0.000000e+00   -40.35417          \n",
       "2 NA               NA               0.000000e+00   -37.99043          \n",
       "3 NA               NA               0.000000e+00   -40.58486          \n",
       "4 NA               NA               0.000000e+00   -38.02240          \n",
       "5 NA               NA               0.000000e+00   -41.42934          \n",
       "6 NA               NA              -2.720046e-14   -31.23639          \n",
       "  LogProba_virginica Decision DecisionProba\n",
       "1 -56.79806          setosa   1            \n",
       "2 -55.62761          setosa   1            \n",
       "3 -57.88746          setosa   1            \n",
       "4 -55.40238          setosa   1            \n",
       "5 -57.68276          setosa   1            \n",
       "6 -46.88543          setosa   1            "
      ]
     },
     "metadata": {},
     "output_type": "display_data"
    }
   ],
   "source": [
    "pred_proba  =  predict(model, as.matrix(iris[,-5]), type = \"prob\")\n",
    "df_r_out = data.frame(pred_proba)\n",
    "names(df_r_out) = sprintf(\"Proba_%s\",model$levels)\n",
    "\n",
    "df_r_out$KEY = seq.int(nrow(dataset))\n",
    "df_r_out$Score_setosa  =  NA\n",
    "df_r_out$Score_versicolor  =  NA\n",
    "df_r_out$Score_virginica  =  NA\n",
    "df_r_out$LogProba_setosa  =  log(df_r_out$Proba_setosa)\n",
    "df_r_out$LogProba_versicolor =  log(df_r_out$Proba_versicolor)\n",
    "df_r_out$LogProba_virginica  =  log(df_r_out$Proba_virginica)\n",
    "df_r_out$Decision =   predict(model, as.matrix(iris[,-5]), type = \"raw\")\n",
    "df_r_out$DecisionProba =  apply(pred_proba, 1, function(x) max(x))\n",
    "head(df_r_out)\n",
    "\n"
   ]
  },
  {
   "cell_type": "markdown",
   "metadata": {},
   "source": [
    "# Compare R and SQL output"
   ]
  },
  {
   "cell_type": "code",
   "execution_count": 12,
   "metadata": {},
   "outputs": [
    {
     "data": {
      "text/html": [
       "<table>\n",
       "<thead><tr><th scope=col>KEY</th><th scope=col>Proba_setosa_1</th><th scope=col>Proba_versicolor_1</th><th scope=col>Proba_virginica_1</th><th scope=col>Score_setosa_1</th><th scope=col>Score_versicolor_1</th><th scope=col>Score_virginica_1</th><th scope=col>LogProba_setosa_1</th><th scope=col>LogProba_versicolor_1</th><th scope=col>LogProba_virginica_1</th><th scope=col>⋯</th><th scope=col>Score_versicolor_2</th><th scope=col>Score_virginica_2</th><th scope=col>Proba_setosa_2</th><th scope=col>Proba_versicolor_2</th><th scope=col>Proba_virginica_2</th><th scope=col>LogProba_setosa_2</th><th scope=col>LogProba_versicolor_2</th><th scope=col>LogProba_virginica_2</th><th scope=col>Decision_2</th><th scope=col>DecisionProba_2</th></tr></thead>\n",
       "<tbody>\n",
       "\t<tr><td>1            </td><td>1            </td><td>2.981309e-18 </td><td>2.152373e-25 </td><td>NA           </td><td>NA           </td><td>NA           </td><td> 0.000000e+00</td><td>-40.35417    </td><td>-56.79806    </td><td>⋯            </td><td>NA           </td><td>NA           </td><td>1            </td><td>2.981309e-18 </td><td>2.152373e-25 </td><td> 0.000000e+00</td><td>-40.35417    </td><td>-56.79806    </td><td>setosa       </td><td>1            </td></tr>\n",
       "\t<tr><td>2            </td><td>1            </td><td>3.169312e-17 </td><td>6.938030e-25 </td><td>NA           </td><td>NA           </td><td>NA           </td><td> 0.000000e+00</td><td>-37.99043    </td><td>-55.62761    </td><td>⋯            </td><td>NA           </td><td>NA           </td><td>1            </td><td>3.169312e-17 </td><td>6.938030e-25 </td><td> 0.000000e+00</td><td>-37.99043    </td><td>-55.62761    </td><td>setosa       </td><td>1            </td></tr>\n",
       "\t<tr><td>3            </td><td>1            </td><td>2.367113e-18 </td><td>7.240956e-26 </td><td>NA           </td><td>NA           </td><td>NA           </td><td> 0.000000e+00</td><td>-40.58486    </td><td>-57.88746    </td><td>⋯            </td><td>NA           </td><td>NA           </td><td>1            </td><td>2.367113e-18 </td><td>7.240956e-26 </td><td> 0.000000e+00</td><td>-40.58486    </td><td>-57.88746    </td><td>setosa       </td><td>1            </td></tr>\n",
       "\t<tr><td>4            </td><td>1            </td><td>3.069606e-17 </td><td>8.690636e-25 </td><td>NA           </td><td>NA           </td><td>NA           </td><td> 0.000000e+00</td><td>-38.02240    </td><td>-55.40238    </td><td>⋯            </td><td>NA           </td><td>NA           </td><td>1            </td><td>3.069606e-17 </td><td>8.690636e-25 </td><td> 0.000000e+00</td><td>-38.02240    </td><td>-55.40238    </td><td>setosa       </td><td>1            </td></tr>\n",
       "\t<tr><td>5            </td><td>1            </td><td>1.017337e-18 </td><td>8.885794e-26 </td><td>NA           </td><td>NA           </td><td>NA           </td><td> 0.000000e+00</td><td>-41.42934    </td><td>-57.68276    </td><td>⋯            </td><td>NA           </td><td>NA           </td><td>1            </td><td>1.017337e-18 </td><td>8.885794e-26 </td><td> 0.000000e+00</td><td>-41.42934    </td><td>-57.68276    </td><td>setosa       </td><td>1            </td></tr>\n",
       "\t<tr><td>6            </td><td>1            </td><td>2.717732e-14 </td><td>4.344285e-21 </td><td>NA           </td><td>NA           </td><td>NA           </td><td>-2.720046e-14</td><td>-31.23639    </td><td>-46.88543    </td><td>⋯            </td><td>NA           </td><td>NA           </td><td>1            </td><td>2.717732e-14 </td><td>4.344285e-21 </td><td>-2.708944e-14</td><td>-31.23639    </td><td>-46.88543    </td><td>setosa       </td><td>1            </td></tr>\n",
       "</tbody>\n",
       "</table>\n"
      ],
      "text/latex": [
       "\\begin{tabular}{r|lllllllllllllllllllllll}\n",
       " KEY & Proba\\_setosa\\_1 & Proba\\_versicolor\\_1 & Proba\\_virginica\\_1 & Score\\_setosa\\_1 & Score\\_versicolor\\_1 & Score\\_virginica\\_1 & LogProba\\_setosa\\_1 & LogProba\\_versicolor\\_1 & LogProba\\_virginica\\_1 & ⋯ & Score\\_versicolor\\_2 & Score\\_virginica\\_2 & Proba\\_setosa\\_2 & Proba\\_versicolor\\_2 & Proba\\_virginica\\_2 & LogProba\\_setosa\\_2 & LogProba\\_versicolor\\_2 & LogProba\\_virginica\\_2 & Decision\\_2 & DecisionProba\\_2\\\\\n",
       "\\hline\n",
       "\t 1             & 1             & 2.981309e-18  & 2.152373e-25  & NA            & NA            & NA            &  0.000000e+00 & -40.35417     & -56.79806     & ⋯             & NA            & NA            & 1             & 2.981309e-18  & 2.152373e-25  &  0.000000e+00 & -40.35417     & -56.79806     & setosa        & 1            \\\\\n",
       "\t 2             & 1             & 3.169312e-17  & 6.938030e-25  & NA            & NA            & NA            &  0.000000e+00 & -37.99043     & -55.62761     & ⋯             & NA            & NA            & 1             & 3.169312e-17  & 6.938030e-25  &  0.000000e+00 & -37.99043     & -55.62761     & setosa        & 1            \\\\\n",
       "\t 3             & 1             & 2.367113e-18  & 7.240956e-26  & NA            & NA            & NA            &  0.000000e+00 & -40.58486     & -57.88746     & ⋯             & NA            & NA            & 1             & 2.367113e-18  & 7.240956e-26  &  0.000000e+00 & -40.58486     & -57.88746     & setosa        & 1            \\\\\n",
       "\t 4             & 1             & 3.069606e-17  & 8.690636e-25  & NA            & NA            & NA            &  0.000000e+00 & -38.02240     & -55.40238     & ⋯             & NA            & NA            & 1             & 3.069606e-17  & 8.690636e-25  &  0.000000e+00 & -38.02240     & -55.40238     & setosa        & 1            \\\\\n",
       "\t 5             & 1             & 1.017337e-18  & 8.885794e-26  & NA            & NA            & NA            &  0.000000e+00 & -41.42934     & -57.68276     & ⋯             & NA            & NA            & 1             & 1.017337e-18  & 8.885794e-26  &  0.000000e+00 & -41.42934     & -57.68276     & setosa        & 1            \\\\\n",
       "\t 6             & 1             & 2.717732e-14  & 4.344285e-21  & NA            & NA            & NA            & -2.720046e-14 & -31.23639     & -46.88543     & ⋯             & NA            & NA            & 1             & 2.717732e-14  & 4.344285e-21  & -2.708944e-14 & -31.23639     & -46.88543     & setosa        & 1            \\\\\n",
       "\\end{tabular}\n"
      ],
      "text/markdown": [
       "\n",
       "KEY | Proba_setosa_1 | Proba_versicolor_1 | Proba_virginica_1 | Score_setosa_1 | Score_versicolor_1 | Score_virginica_1 | LogProba_setosa_1 | LogProba_versicolor_1 | LogProba_virginica_1 | ⋯ | Score_versicolor_2 | Score_virginica_2 | Proba_setosa_2 | Proba_versicolor_2 | Proba_virginica_2 | LogProba_setosa_2 | LogProba_versicolor_2 | LogProba_virginica_2 | Decision_2 | DecisionProba_2 | \n",
       "|---|---|---|---|---|---|\n",
       "| 1             | 1             | 2.981309e-18  | 2.152373e-25  | NA            | NA            | NA            |  0.000000e+00 | -40.35417     | -56.79806     | ⋯             | NA            | NA            | 1             | 2.981309e-18  | 2.152373e-25  |  0.000000e+00 | -40.35417     | -56.79806     | setosa        | 1             | \n",
       "| 2             | 1             | 3.169312e-17  | 6.938030e-25  | NA            | NA            | NA            |  0.000000e+00 | -37.99043     | -55.62761     | ⋯             | NA            | NA            | 1             | 3.169312e-17  | 6.938030e-25  |  0.000000e+00 | -37.99043     | -55.62761     | setosa        | 1             | \n",
       "| 3             | 1             | 2.367113e-18  | 7.240956e-26  | NA            | NA            | NA            |  0.000000e+00 | -40.58486     | -57.88746     | ⋯             | NA            | NA            | 1             | 2.367113e-18  | 7.240956e-26  |  0.000000e+00 | -40.58486     | -57.88746     | setosa        | 1             | \n",
       "| 4             | 1             | 3.069606e-17  | 8.690636e-25  | NA            | NA            | NA            |  0.000000e+00 | -38.02240     | -55.40238     | ⋯             | NA            | NA            | 1             | 3.069606e-17  | 8.690636e-25  |  0.000000e+00 | -38.02240     | -55.40238     | setosa        | 1             | \n",
       "| 5             | 1             | 1.017337e-18  | 8.885794e-26  | NA            | NA            | NA            |  0.000000e+00 | -41.42934     | -57.68276     | ⋯             | NA            | NA            | 1             | 1.017337e-18  | 8.885794e-26  |  0.000000e+00 | -41.42934     | -57.68276     | setosa        | 1             | \n",
       "| 6             | 1             | 2.717732e-14  | 4.344285e-21  | NA            | NA            | NA            | -2.720046e-14 | -31.23639     | -46.88543     | ⋯             | NA            | NA            | 1             | 2.717732e-14  | 4.344285e-21  | -2.708944e-14 | -31.23639     | -46.88543     | setosa        | 1             | \n",
       "\n",
       "\n"
      ],
      "text/plain": [
       "  KEY Proba_setosa_1 Proba_versicolor_1 Proba_virginica_1 Score_setosa_1\n",
       "1 1   1              2.981309e-18       2.152373e-25      NA            \n",
       "2 2   1              3.169312e-17       6.938030e-25      NA            \n",
       "3 3   1              2.367113e-18       7.240956e-26      NA            \n",
       "4 4   1              3.069606e-17       8.690636e-25      NA            \n",
       "5 5   1              1.017337e-18       8.885794e-26      NA            \n",
       "6 6   1              2.717732e-14       4.344285e-21      NA            \n",
       "  Score_versicolor_1 Score_virginica_1 LogProba_setosa_1 LogProba_versicolor_1\n",
       "1 NA                 NA                 0.000000e+00     -40.35417            \n",
       "2 NA                 NA                 0.000000e+00     -37.99043            \n",
       "3 NA                 NA                 0.000000e+00     -40.58486            \n",
       "4 NA                 NA                 0.000000e+00     -38.02240            \n",
       "5 NA                 NA                 0.000000e+00     -41.42934            \n",
       "6 NA                 NA                -2.720046e-14     -31.23639            \n",
       "  LogProba_virginica_1 ⋯ Score_versicolor_2 Score_virginica_2 Proba_setosa_2\n",
       "1 -56.79806            ⋯ NA                 NA                1             \n",
       "2 -55.62761            ⋯ NA                 NA                1             \n",
       "3 -57.88746            ⋯ NA                 NA                1             \n",
       "4 -55.40238            ⋯ NA                 NA                1             \n",
       "5 -57.68276            ⋯ NA                 NA                1             \n",
       "6 -46.88543            ⋯ NA                 NA                1             \n",
       "  Proba_versicolor_2 Proba_virginica_2 LogProba_setosa_2 LogProba_versicolor_2\n",
       "1 2.981309e-18       2.152373e-25       0.000000e+00     -40.35417            \n",
       "2 3.169312e-17       6.938030e-25       0.000000e+00     -37.99043            \n",
       "3 2.367113e-18       7.240956e-26       0.000000e+00     -40.58486            \n",
       "4 3.069606e-17       8.690636e-25       0.000000e+00     -38.02240            \n",
       "5 1.017337e-18       8.885794e-26       0.000000e+00     -41.42934            \n",
       "6 2.717732e-14       4.344285e-21      -2.708944e-14     -31.23639            \n",
       "  LogProba_virginica_2 Decision_2 DecisionProba_2\n",
       "1 -56.79806            setosa     1              \n",
       "2 -55.62761            setosa     1              \n",
       "3 -57.88746            setosa     1              \n",
       "4 -55.40238            setosa     1              \n",
       "5 -57.68276            setosa     1              \n",
       "6 -46.88543            setosa     1              "
      ]
     },
     "metadata": {},
     "output_type": "display_data"
    }
   ],
   "source": [
    "df_merge = merge(x = df_r_out, y = df_sql_out, by = \"KEY\", all = TRUE, , suffixes = c(\"_1\",\"_2\"))\n",
    "head(df_merge)"
   ]
  },
  {
   "cell_type": "code",
   "execution_count": null,
   "metadata": {},
   "outputs": [],
   "source": []
  },
  {
   "cell_type": "code",
   "execution_count": 13,
   "metadata": {},
   "outputs": [
    {
     "name": "stderr",
     "output_type": "stream",
     "text": [
      "Warning message in cbind(parts$left, ellip_h, parts$right, deparse.level = 0L):\n",
      "“number of rows of result is not a multiple of vector length (arg 2)”Warning message in cbind(parts$left, ellip_h, parts$right, deparse.level = 0L):\n",
      "“number of rows of result is not a multiple of vector length (arg 2)”Warning message in cbind(parts$left, ellip_h, parts$right, deparse.level = 0L):\n",
      "“number of rows of result is not a multiple of vector length (arg 2)”Warning message in cbind(parts$left, ellip_h, parts$right, deparse.level = 0L):\n",
      "“number of rows of result is not a multiple of vector length (arg 2)”"
     ]
    },
    {
     "data": {
      "text/html": [
       "<table>\n",
       "<thead><tr><th scope=col>KEY</th><th scope=col>Proba_setosa_1</th><th scope=col>Proba_versicolor_1</th><th scope=col>Proba_virginica_1</th><th scope=col>Score_setosa_1</th><th scope=col>Score_versicolor_1</th><th scope=col>Score_virginica_1</th><th scope=col>LogProba_setosa_1</th><th scope=col>LogProba_versicolor_1</th><th scope=col>LogProba_virginica_1</th><th scope=col>⋯</th><th scope=col>Score_versicolor_2</th><th scope=col>Score_virginica_2</th><th scope=col>Proba_setosa_2</th><th scope=col>Proba_versicolor_2</th><th scope=col>Proba_virginica_2</th><th scope=col>LogProba_setosa_2</th><th scope=col>LogProba_versicolor_2</th><th scope=col>LogProba_virginica_2</th><th scope=col>Decision_2</th><th scope=col>DecisionProba_2</th></tr></thead>\n",
       "<tbody>\n",
       "</tbody>\n",
       "</table>\n"
      ],
      "text/latex": [
       "\\begin{tabular}{r|lllllllllllllllllllllll}\n",
       " KEY & Proba\\_setosa\\_1 & Proba\\_versicolor\\_1 & Proba\\_virginica\\_1 & Score\\_setosa\\_1 & Score\\_versicolor\\_1 & Score\\_virginica\\_1 & LogProba\\_setosa\\_1 & LogProba\\_versicolor\\_1 & LogProba\\_virginica\\_1 & ⋯ & Score\\_versicolor\\_2 & Score\\_virginica\\_2 & Proba\\_setosa\\_2 & Proba\\_versicolor\\_2 & Proba\\_virginica\\_2 & LogProba\\_setosa\\_2 & LogProba\\_versicolor\\_2 & LogProba\\_virginica\\_2 & Decision\\_2 & DecisionProba\\_2\\\\\n",
       "\\hline\n",
       "\\end{tabular}\n"
      ],
      "text/markdown": [
       "\n",
       "KEY | Proba_setosa_1 | Proba_versicolor_1 | Proba_virginica_1 | Score_setosa_1 | Score_versicolor_1 | Score_virginica_1 | LogProba_setosa_1 | LogProba_versicolor_1 | LogProba_virginica_1 | ⋯ | Score_versicolor_2 | Score_virginica_2 | Proba_setosa_2 | Proba_versicolor_2 | Proba_virginica_2 | LogProba_setosa_2 | LogProba_versicolor_2 | LogProba_virginica_2 | Decision_2 | DecisionProba_2 | \n",
       "||\n",
       "\n",
       "\n"
      ],
      "text/plain": [
       "     KEY Proba_setosa_1 Proba_versicolor_1 Proba_virginica_1 Score_setosa_1\n",
       "     Score_versicolor_1 Score_virginica_1 LogProba_setosa_1\n",
       "     LogProba_versicolor_1 LogProba_virginica_1 ⋯ Score_versicolor_2\n",
       "     Score_virginica_2 Proba_setosa_2 Proba_versicolor_2 Proba_virginica_2\n",
       "     LogProba_setosa_2 LogProba_versicolor_2 LogProba_virginica_2 Decision_2\n",
       "     DecisionProba_2"
      ]
     },
     "metadata": {},
     "output_type": "display_data"
    }
   ],
   "source": [
    "diffs_df = df_merge[df_merge$Decision_1 != df_merge$Decision_2,]\n",
    "head(diffs_df)"
   ]
  },
  {
   "cell_type": "code",
   "execution_count": 14,
   "metadata": {},
   "outputs": [],
   "source": [
    "stopifnot(nrow(diffs_df) == 0)"
   ]
  },
  {
   "cell_type": "code",
   "execution_count": null,
   "metadata": {},
   "outputs": [],
   "source": []
  },
  {
   "cell_type": "code",
   "execution_count": 15,
   "metadata": {},
   "outputs": [
    {
     "data": {
      "text/plain": [
       "      KEY         Score_setosa   Score_versicolor Score_virginica\n",
       " Min.   :  1.00   Mode:logical   Mode:logical     Mode:logical   \n",
       " 1st Qu.: 38.25   NA's:150       NA's:150         NA's:150       \n",
       " Median : 75.50                                                  \n",
       " Mean   : 75.50                                                  \n",
       " 3rd Qu.:112.75                                                  \n",
       " Max.   :150.00                                                  \n",
       "  Proba_setosa    Proba_versicolor    Proba_virginica    LogProba_setosa  \n",
       " Min.   :0.0000   Min.   :0.0000000   Min.   :0.000000   Min.   :-100.67  \n",
       " 1st Qu.:0.0000   1st Qu.:0.0000000   1st Qu.:0.000000   1st Qu.:-100.00  \n",
       " Median :0.0000   Median :0.0000065   Median :0.001069   Median :-100.00  \n",
       " Mean   :0.3333   Mean   :0.3334777   Mean   :0.333189   Mean   : -66.09  \n",
       " 3rd Qu.:1.0000   3rd Qu.:0.9770662   3rd Qu.:0.981799   3rd Qu.:   0.00  \n",
       " Max.   :1.0000   Max.   :0.9999997   Max.   :1.000000   Max.   :   0.00  \n",
       " LogProba_versicolor LogProba_virginica        Decision  DecisionProba   \n",
       " Min.   :-45.57603   Min.   :-61.02874   setosa    :50   Min.   :0.5099  \n",
       " 1st Qu.:-35.34214   1st Qu.:-52.62177   versicolor:50   1st Qu.:0.9977  \n",
       " Median :-11.94457   Median : -6.84295   virginica :50   Median :1.0000  \n",
       " Mean   :-16.35020   Mean   :-20.42810                   Mean   :0.9731  \n",
       " 3rd Qu.: -0.02321   3rd Qu.: -0.01838                   3rd Qu.:1.0000  \n",
       " Max.   :  0.00000   Max.   :  0.00000                   Max.   :1.0000  "
      ]
     },
     "metadata": {},
     "output_type": "display_data"
    }
   ],
   "source": [
    "summary(df_sql_out)"
   ]
  },
  {
   "cell_type": "code",
   "execution_count": 16,
   "metadata": {},
   "outputs": [
    {
     "data": {
      "text/plain": [
       "  Proba_setosa    Proba_versicolor    Proba_virginica         KEY        \n",
       " Min.   :0.0000   Min.   :0.0000000   Min.   :0.000000   Min.   :  1.00  \n",
       " 1st Qu.:0.0000   1st Qu.:0.0000000   1st Qu.:0.000000   1st Qu.: 38.25  \n",
       " Median :0.0000   Median :0.0000065   Median :0.001069   Median : 75.50  \n",
       " Mean   :0.3333   Mean   :0.3334777   Mean   :0.333189   Mean   : 75.50  \n",
       " 3rd Qu.:1.0000   3rd Qu.:0.9770662   3rd Qu.:0.981799   3rd Qu.:112.75  \n",
       " Max.   :1.0000   Max.   :0.9999997   Max.   :1.000000   Max.   :150.00  \n",
       " Score_setosa   Score_versicolor Score_virginica LogProba_setosa \n",
       " Mode:logical   Mode:logical     Mode:logical    Min.   :-703.6  \n",
       " NA's:150       NA's:150         NA's:150        1st Qu.:-344.9  \n",
       "                                                 Median :-193.2  \n",
       "                                                 Mean   :-209.0  \n",
       "                                                 3rd Qu.:   0.0  \n",
       "                                                 Max.   :   0.0  \n",
       " LogProba_versicolor LogProba_virginica        Decision  DecisionProba   \n",
       " Min.   :-45.57603   Min.   :-61.02874   setosa    :50   Min.   :0.5099  \n",
       " 1st Qu.:-35.34214   1st Qu.:-52.62177   versicolor:50   1st Qu.:0.9977  \n",
       " Median :-11.94457   Median : -6.84295   virginica :50   Median :1.0000  \n",
       " Mean   :-16.35020   Mean   :-20.42810                   Mean   :0.9731  \n",
       " 3rd Qu.: -0.02321   3rd Qu.: -0.01838                   3rd Qu.:1.0000  \n",
       " Max.   :  0.00000   Max.   :  0.00000                   Max.   :1.0000  "
      ]
     },
     "metadata": {},
     "output_type": "display_data"
    }
   ],
   "source": [
    "summary(df_r_out)"
   ]
  },
  {
   "cell_type": "code",
   "execution_count": null,
   "metadata": {},
   "outputs": [],
   "source": []
  }
 ],
 "metadata": {
  "kernelspec": {
   "display_name": "R",
   "language": "R",
   "name": "ir"
  },
  "language_info": {
   "codemirror_mode": "r",
   "file_extension": ".r",
   "mimetype": "text/x-r-source",
   "name": "R",
   "pygments_lexer": "r",
   "version": "3.5.1"
  }
 },
 "nbformat": 4,
 "nbformat_minor": 2
}
