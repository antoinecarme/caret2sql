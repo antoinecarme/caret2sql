{
 "cells": [
  {
   "cell_type": "code",
   "execution_count": 1,
   "metadata": {},
   "outputs": [
    {
     "name": "stderr",
     "output_type": "stream",
     "text": [
      "Loading required package: plotmo\n",
      "Loading required package: plotrix\n",
      "Loading required package: TeachingDemos\n",
      "\n",
      "Attaching package: ‘httr’\n",
      "\n",
      "The following object is masked from ‘package:caret’:\n",
      "\n",
      "    progress\n",
      "\n"
     ]
    }
   ],
   "source": [
    "library(caret, quiet=TRUE);\n",
    "library(base64enc)\n",
    "library(earth)\n",
    "library(httr)\n"
   ]
  },
  {
   "cell_type": "markdown",
   "metadata": {},
   "source": [
    "# Build a Model"
   ]
  },
  {
   "cell_type": "code",
   "execution_count": 2,
   "metadata": {},
   "outputs": [],
   "source": [
    "set.seed(1960)\n",
    "\n",
    "create_model  =  function() {\n",
    "\n",
    "    model  <- train(Species ~ ., data = iris, method = \"earth\")\n",
    "    \n",
    "    return(model)\n",
    "}"
   ]
  },
  {
   "cell_type": "code",
   "execution_count": 3,
   "metadata": {},
   "outputs": [
    {
     "name": "stderr",
     "output_type": "stream",
     "text": [
      "Warning message:\n",
      "“glm.fit: algorithm did not converge”Warning message:\n",
      "“glm.fit: fitted probabilities numerically 0 or 1 occurred”"
     ]
    },
    {
     "name": "stdout",
     "output_type": "stream",
     "text": [
      "earth glm setosa: did not converge after 25 iterations\n"
     ]
    },
    {
     "name": "stderr",
     "output_type": "stream",
     "text": [
      "Warning message:\n",
      "“glm.fit: algorithm did not converge”Warning message:\n",
      "“glm.fit: fitted probabilities numerically 0 or 1 occurred”"
     ]
    },
    {
     "name": "stdout",
     "output_type": "stream",
     "text": [
      "earth glm setosa: did not converge after 25 iterations\n"
     ]
    },
    {
     "name": "stderr",
     "output_type": "stream",
     "text": [
      "Warning message:\n",
      "“glm.fit: algorithm did not converge”Warning message:\n",
      "“glm.fit: fitted probabilities numerically 0 or 1 occurred”"
     ]
    },
    {
     "name": "stdout",
     "output_type": "stream",
     "text": [
      "earth glm setosa: did not converge after 25 iterations\n"
     ]
    },
    {
     "name": "stderr",
     "output_type": "stream",
     "text": [
      "Warning message:\n",
      "“glm.fit: algorithm did not converge”Warning message:\n",
      "“glm.fit: fitted probabilities numerically 0 or 1 occurred”"
     ]
    },
    {
     "name": "stdout",
     "output_type": "stream",
     "text": [
      "earth glm setosa: did not converge after 25 iterations\n"
     ]
    },
    {
     "name": "stderr",
     "output_type": "stream",
     "text": [
      "Warning message:\n",
      "“glm.fit: fitted probabilities numerically 0 or 1 occurred”Warning message:\n",
      "“glm.fit: algorithm did not converge”Warning message:\n",
      "“glm.fit: fitted probabilities numerically 0 or 1 occurred”"
     ]
    },
    {
     "name": "stdout",
     "output_type": "stream",
     "text": [
      "earth glm setosa: did not converge after 25 iterations\n"
     ]
    },
    {
     "name": "stderr",
     "output_type": "stream",
     "text": [
      "Warning message:\n",
      "“glm.fit: algorithm did not converge”Warning message:\n",
      "“glm.fit: fitted probabilities numerically 0 or 1 occurred”"
     ]
    },
    {
     "name": "stdout",
     "output_type": "stream",
     "text": [
      "earth glm setosa: did not converge after 25 iterations\n"
     ]
    },
    {
     "name": "stderr",
     "output_type": "stream",
     "text": [
      "Warning message:\n",
      "“glm.fit: algorithm did not converge”Warning message:\n",
      "“glm.fit: fitted probabilities numerically 0 or 1 occurred”"
     ]
    },
    {
     "name": "stdout",
     "output_type": "stream",
     "text": [
      "earth glm setosa: did not converge after 25 iterations\n"
     ]
    },
    {
     "name": "stderr",
     "output_type": "stream",
     "text": [
      "Warning message:\n",
      "“glm.fit: algorithm did not converge”Warning message:\n",
      "“glm.fit: fitted probabilities numerically 0 or 1 occurred”"
     ]
    },
    {
     "name": "stdout",
     "output_type": "stream",
     "text": [
      "earth glm setosa: did not converge after 25 iterations\n"
     ]
    },
    {
     "name": "stderr",
     "output_type": "stream",
     "text": [
      "Warning message:\n",
      "“glm.fit: fitted probabilities numerically 0 or 1 occurred”Warning message:\n",
      "“glm.fit: fitted probabilities numerically 0 or 1 occurred”Warning message:\n",
      "“glm.fit: algorithm did not converge”Warning message:\n",
      "“glm.fit: fitted probabilities numerically 0 or 1 occurred”"
     ]
    },
    {
     "name": "stdout",
     "output_type": "stream",
     "text": [
      "earth glm setosa: did not converge after 25 iterations\n"
     ]
    },
    {
     "name": "stderr",
     "output_type": "stream",
     "text": [
      "Warning message:\n",
      "“glm.fit: algorithm did not converge”Warning message:\n",
      "“glm.fit: fitted probabilities numerically 0 or 1 occurred”"
     ]
    },
    {
     "name": "stdout",
     "output_type": "stream",
     "text": [
      "earth glm setosa: did not converge after 25 iterations\n"
     ]
    },
    {
     "name": "stderr",
     "output_type": "stream",
     "text": [
      "Warning message:\n",
      "“glm.fit: fitted probabilities numerically 0 or 1 occurred”Warning message:\n",
      "“glm.fit: fitted probabilities numerically 0 or 1 occurred”Warning message:\n",
      "“glm.fit: algorithm did not converge”Warning message:\n",
      "“glm.fit: fitted probabilities numerically 0 or 1 occurred”"
     ]
    },
    {
     "name": "stdout",
     "output_type": "stream",
     "text": [
      "earth glm setosa: did not converge after 25 iterations\n"
     ]
    },
    {
     "name": "stderr",
     "output_type": "stream",
     "text": [
      "Warning message:\n",
      "“glm.fit: algorithm did not converge”Warning message:\n",
      "“glm.fit: fitted probabilities numerically 0 or 1 occurred”"
     ]
    },
    {
     "name": "stdout",
     "output_type": "stream",
     "text": [
      "earth glm setosa: did not converge after 25 iterations\n"
     ]
    },
    {
     "name": "stderr",
     "output_type": "stream",
     "text": [
      "Warning message:\n",
      "“glm.fit: algorithm did not converge”Warning message:\n",
      "“glm.fit: fitted probabilities numerically 0 or 1 occurred”"
     ]
    },
    {
     "name": "stdout",
     "output_type": "stream",
     "text": [
      "earth glm setosa: did not converge after 25 iterations\n"
     ]
    },
    {
     "name": "stderr",
     "output_type": "stream",
     "text": [
      "Warning message:\n",
      "“glm.fit: algorithm did not converge”Warning message:\n",
      "“glm.fit: fitted probabilities numerically 0 or 1 occurred”"
     ]
    },
    {
     "name": "stdout",
     "output_type": "stream",
     "text": [
      "earth glm setosa: did not converge after 25 iterations\n"
     ]
    },
    {
     "name": "stderr",
     "output_type": "stream",
     "text": [
      "Warning message:\n",
      "“glm.fit: algorithm did not converge”Warning message:\n",
      "“glm.fit: fitted probabilities numerically 0 or 1 occurred”"
     ]
    },
    {
     "name": "stdout",
     "output_type": "stream",
     "text": [
      "earth glm setosa: did not converge after 25 iterations\n"
     ]
    },
    {
     "name": "stderr",
     "output_type": "stream",
     "text": [
      "Warning message:\n",
      "“glm.fit: algorithm did not converge”Warning message:\n",
      "“glm.fit: fitted probabilities numerically 0 or 1 occurred”"
     ]
    },
    {
     "name": "stdout",
     "output_type": "stream",
     "text": [
      "earth glm setosa: did not converge after 25 iterations\n"
     ]
    },
    {
     "name": "stderr",
     "output_type": "stream",
     "text": [
      "Warning message:\n",
      "“glm.fit: algorithm did not converge”Warning message:\n",
      "“glm.fit: fitted probabilities numerically 0 or 1 occurred”"
     ]
    },
    {
     "name": "stdout",
     "output_type": "stream",
     "text": [
      "earth glm setosa: did not converge after 25 iterations\n"
     ]
    },
    {
     "name": "stderr",
     "output_type": "stream",
     "text": [
      "Warning message:\n",
      "“glm.fit: algorithm did not converge”Warning message:\n",
      "“glm.fit: fitted probabilities numerically 0 or 1 occurred”"
     ]
    },
    {
     "name": "stdout",
     "output_type": "stream",
     "text": [
      "earth glm setosa: did not converge after 25 iterations\n"
     ]
    },
    {
     "name": "stderr",
     "output_type": "stream",
     "text": [
      "Warning message:\n",
      "“glm.fit: algorithm did not converge”Warning message:\n",
      "“glm.fit: fitted probabilities numerically 0 or 1 occurred”"
     ]
    },
    {
     "name": "stdout",
     "output_type": "stream",
     "text": [
      "earth glm setosa: did not converge after 25 iterations\n"
     ]
    },
    {
     "name": "stderr",
     "output_type": "stream",
     "text": [
      "Warning message:\n",
      "“glm.fit: algorithm did not converge”Warning message:\n",
      "“glm.fit: fitted probabilities numerically 0 or 1 occurred”"
     ]
    },
    {
     "name": "stdout",
     "output_type": "stream",
     "text": [
      "earth glm setosa: did not converge after 25 iterations\n"
     ]
    },
    {
     "name": "stderr",
     "output_type": "stream",
     "text": [
      "Warning message:\n",
      "“glm.fit: algorithm did not converge”Warning message:\n",
      "“glm.fit: fitted probabilities numerically 0 or 1 occurred”"
     ]
    },
    {
     "name": "stdout",
     "output_type": "stream",
     "text": [
      "earth glm setosa: did not converge after 25 iterations\n"
     ]
    },
    {
     "name": "stderr",
     "output_type": "stream",
     "text": [
      "Warning message:\n",
      "“glm.fit: algorithm did not converge”Warning message:\n",
      "“glm.fit: fitted probabilities numerically 0 or 1 occurred”"
     ]
    },
    {
     "name": "stdout",
     "output_type": "stream",
     "text": [
      "earth glm setosa: did not converge after 25 iterations\n"
     ]
    },
    {
     "name": "stderr",
     "output_type": "stream",
     "text": [
      "Warning message:\n",
      "“glm.fit: fitted probabilities numerically 0 or 1 occurred”Warning message:\n",
      "“glm.fit: fitted probabilities numerically 0 or 1 occurred”Warning message:\n",
      "“glm.fit: algorithm did not converge”Warning message:\n",
      "“glm.fit: fitted probabilities numerically 0 or 1 occurred”"
     ]
    },
    {
     "name": "stdout",
     "output_type": "stream",
     "text": [
      "earth glm setosa: did not converge after 25 iterations\n"
     ]
    },
    {
     "name": "stderr",
     "output_type": "stream",
     "text": [
      "Warning message:\n",
      "“glm.fit: algorithm did not converge”Warning message:\n",
      "“glm.fit: fitted probabilities numerically 0 or 1 occurred”"
     ]
    },
    {
     "name": "stdout",
     "output_type": "stream",
     "text": [
      "earth glm setosa: did not converge after 25 iterations\n"
     ]
    },
    {
     "name": "stderr",
     "output_type": "stream",
     "text": [
      "Warning message:\n",
      "“glm.fit: algorithm did not converge”Warning message:\n",
      "“glm.fit: fitted probabilities numerically 0 or 1 occurred”"
     ]
    },
    {
     "name": "stdout",
     "output_type": "stream",
     "text": [
      "earth glm setosa: did not converge after 25 iterations\n"
     ]
    },
    {
     "name": "stderr",
     "output_type": "stream",
     "text": [
      "Warning message:\n",
      "“glm.fit: algorithm did not converge”Warning message:\n",
      "“glm.fit: fitted probabilities numerically 0 or 1 occurred”"
     ]
    },
    {
     "name": "stdout",
     "output_type": "stream",
     "text": [
      "earth glm setosa: did not converge after 25 iterations\n"
     ]
    },
    {
     "name": "stderr",
     "output_type": "stream",
     "text": [
      "Warning message:\n",
      "“glm.fit: algorithm did not converge”Warning message:\n",
      "“glm.fit: fitted probabilities numerically 0 or 1 occurred”"
     ]
    },
    {
     "name": "stdout",
     "output_type": "stream",
     "text": [
      "earth glm setosa: did not converge after 25 iterations\n"
     ]
    },
    {
     "name": "stderr",
     "output_type": "stream",
     "text": [
      "Warning message:\n",
      "“glm.fit: algorithm did not converge”Warning message:\n",
      "“glm.fit: fitted probabilities numerically 0 or 1 occurred”"
     ]
    },
    {
     "name": "stdout",
     "output_type": "stream",
     "text": [
      "earth glm setosa: did not converge after 25 iterations\n"
     ]
    },
    {
     "name": "stderr",
     "output_type": "stream",
     "text": [
      "Warning message:\n",
      "“glm.fit: algorithm did not converge”Warning message:\n",
      "“glm.fit: fitted probabilities numerically 0 or 1 occurred”"
     ]
    },
    {
     "name": "stdout",
     "output_type": "stream",
     "text": [
      "earth glm setosa: did not converge after 25 iterations\n"
     ]
    },
    {
     "name": "stderr",
     "output_type": "stream",
     "text": [
      "Warning message:\n",
      "“glm.fit: algorithm did not converge”"
     ]
    },
    {
     "name": "stdout",
     "output_type": "stream",
     "text": [
      "earth glm setosa: did not converge after 25 iterations\n"
     ]
    },
    {
     "name": "stderr",
     "output_type": "stream",
     "text": [
      "Warning message:\n",
      "“glm.fit: fitted probabilities numerically 0 or 1 occurred”Warning message:\n",
      "“glm.fit: fitted probabilities numerically 0 or 1 occurred”Warning message:\n",
      "“glm.fit: algorithm did not converge”Warning message:\n",
      "“glm.fit: fitted probabilities numerically 0 or 1 occurred”"
     ]
    },
    {
     "name": "stdout",
     "output_type": "stream",
     "text": [
      "earth glm setosa: did not converge after 25 iterations\n"
     ]
    },
    {
     "name": "stderr",
     "output_type": "stream",
     "text": [
      "Warning message:\n",
      "“glm.fit: algorithm did not converge”"
     ]
    },
    {
     "name": "stdout",
     "output_type": "stream",
     "text": [
      "earth glm setosa: did not converge after 25 iterations\n"
     ]
    },
    {
     "name": "stderr",
     "output_type": "stream",
     "text": [
      "Warning message:\n",
      "“glm.fit: fitted probabilities numerically 0 or 1 occurred”Warning message:\n",
      "“glm.fit: fitted probabilities numerically 0 or 1 occurred”Warning message:\n",
      "“glm.fit: algorithm did not converge”Warning message:\n",
      "“glm.fit: fitted probabilities numerically 0 or 1 occurred”"
     ]
    },
    {
     "name": "stdout",
     "output_type": "stream",
     "text": [
      "earth glm setosa: did not converge after 25 iterations\n"
     ]
    },
    {
     "name": "stderr",
     "output_type": "stream",
     "text": [
      "Warning message:\n",
      "“glm.fit: algorithm did not converge”Warning message:\n",
      "“glm.fit: fitted probabilities numerically 0 or 1 occurred”"
     ]
    },
    {
     "name": "stdout",
     "output_type": "stream",
     "text": [
      "earth glm setosa: did not converge after 25 iterations\n"
     ]
    },
    {
     "name": "stderr",
     "output_type": "stream",
     "text": [
      "Warning message:\n",
      "“glm.fit: algorithm did not converge”Warning message:\n",
      "“glm.fit: fitted probabilities numerically 0 or 1 occurred”"
     ]
    },
    {
     "name": "stdout",
     "output_type": "stream",
     "text": [
      "earth glm setosa: did not converge after 25 iterations\n"
     ]
    },
    {
     "name": "stderr",
     "output_type": "stream",
     "text": [
      "Warning message:\n",
      "“glm.fit: algorithm did not converge”Warning message:\n",
      "“glm.fit: fitted probabilities numerically 0 or 1 occurred”"
     ]
    },
    {
     "name": "stdout",
     "output_type": "stream",
     "text": [
      "earth glm setosa: did not converge after 25 iterations\n"
     ]
    },
    {
     "name": "stderr",
     "output_type": "stream",
     "text": [
      "Warning message:\n",
      "“glm.fit: algorithm did not converge”Warning message:\n",
      "“glm.fit: fitted probabilities numerically 0 or 1 occurred”"
     ]
    },
    {
     "name": "stdout",
     "output_type": "stream",
     "text": [
      "earth glm setosa: did not converge after 25 iterations\n"
     ]
    },
    {
     "name": "stderr",
     "output_type": "stream",
     "text": [
      "Warning message:\n",
      "“glm.fit: fitted probabilities numerically 0 or 1 occurred”Warning message:\n",
      "“glm.fit: fitted probabilities numerically 0 or 1 occurred”Warning message:\n",
      "“glm.fit: algorithm did not converge”Warning message:\n",
      "“glm.fit: fitted probabilities numerically 0 or 1 occurred”"
     ]
    },
    {
     "name": "stdout",
     "output_type": "stream",
     "text": [
      "earth glm setosa: did not converge after 25 iterations\n"
     ]
    },
    {
     "name": "stderr",
     "output_type": "stream",
     "text": [
      "Warning message:\n",
      "“glm.fit: algorithm did not converge”Warning message:\n",
      "“glm.fit: fitted probabilities numerically 0 or 1 occurred”"
     ]
    },
    {
     "name": "stdout",
     "output_type": "stream",
     "text": [
      "earth glm setosa: did not converge after 25 iterations\n"
     ]
    },
    {
     "name": "stderr",
     "output_type": "stream",
     "text": [
      "Warning message:\n",
      "“glm.fit: algorithm did not converge”Warning message:\n",
      "“glm.fit: fitted probabilities numerically 0 or 1 occurred”"
     ]
    },
    {
     "name": "stdout",
     "output_type": "stream",
     "text": [
      "earth glm setosa: did not converge after 25 iterations\n"
     ]
    },
    {
     "name": "stderr",
     "output_type": "stream",
     "text": [
      "Warning message:\n",
      "“glm.fit: algorithm did not converge”Warning message:\n",
      "“glm.fit: fitted probabilities numerically 0 or 1 occurred”"
     ]
    },
    {
     "name": "stdout",
     "output_type": "stream",
     "text": [
      "earth glm setosa: did not converge after 25 iterations\n"
     ]
    },
    {
     "name": "stderr",
     "output_type": "stream",
     "text": [
      "Warning message:\n",
      "“glm.fit: fitted probabilities numerically 0 or 1 occurred”Warning message:\n",
      "“glm.fit: algorithm did not converge”Warning message:\n",
      "“glm.fit: fitted probabilities numerically 0 or 1 occurred”"
     ]
    },
    {
     "name": "stdout",
     "output_type": "stream",
     "text": [
      "earth glm setosa: did not converge after 25 iterations\n"
     ]
    },
    {
     "name": "stderr",
     "output_type": "stream",
     "text": [
      "Warning message:\n",
      "“glm.fit: algorithm did not converge”Warning message:\n",
      "“glm.fit: fitted probabilities numerically 0 or 1 occurred”"
     ]
    },
    {
     "name": "stdout",
     "output_type": "stream",
     "text": [
      "earth glm setosa: did not converge after 25 iterations\n"
     ]
    },
    {
     "name": "stderr",
     "output_type": "stream",
     "text": [
      "Warning message:\n",
      "“glm.fit: algorithm did not converge”Warning message:\n",
      "“glm.fit: fitted probabilities numerically 0 or 1 occurred”"
     ]
    },
    {
     "name": "stdout",
     "output_type": "stream",
     "text": [
      "earth glm setosa: did not converge after 25 iterations\n"
     ]
    },
    {
     "name": "stderr",
     "output_type": "stream",
     "text": [
      "Warning message:\n",
      "“glm.fit: algorithm did not converge”Warning message:\n",
      "“glm.fit: fitted probabilities numerically 0 or 1 occurred”"
     ]
    },
    {
     "name": "stdout",
     "output_type": "stream",
     "text": [
      "earth glm setosa: did not converge after 25 iterations\n"
     ]
    },
    {
     "name": "stderr",
     "output_type": "stream",
     "text": [
      "Warning message:\n",
      "“glm.fit: fitted probabilities numerically 0 or 1 occurred”Warning message:\n",
      "“glm.fit: fitted probabilities numerically 0 or 1 occurred”Warning message:\n",
      "“glm.fit: algorithm did not converge”Warning message:\n",
      "“glm.fit: fitted probabilities numerically 0 or 1 occurred”"
     ]
    },
    {
     "name": "stdout",
     "output_type": "stream",
     "text": [
      "earth glm setosa: did not converge after 25 iterations\n"
     ]
    },
    {
     "name": "stderr",
     "output_type": "stream",
     "text": [
      "Warning message:\n",
      "“glm.fit: algorithm did not converge”Warning message:\n",
      "“glm.fit: fitted probabilities numerically 0 or 1 occurred”"
     ]
    },
    {
     "name": "stdout",
     "output_type": "stream",
     "text": [
      "earth glm setosa: did not converge after 25 iterations\n"
     ]
    },
    {
     "name": "stderr",
     "output_type": "stream",
     "text": [
      "Warning message:\n",
      "“glm.fit: fitted probabilities numerically 0 or 1 occurred”Warning message:\n",
      "“glm.fit: fitted probabilities numerically 0 or 1 occurred”Warning message:\n",
      "“glm.fit: algorithm did not converge”Warning message:\n",
      "“glm.fit: fitted probabilities numerically 0 or 1 occurred”"
     ]
    },
    {
     "name": "stdout",
     "output_type": "stream",
     "text": [
      "earth glm setosa: did not converge after 25 iterations\n"
     ]
    },
    {
     "name": "stderr",
     "output_type": "stream",
     "text": [
      "Warning message:\n",
      "“glm.fit: algorithm did not converge”Warning message:\n",
      "“glm.fit: fitted probabilities numerically 0 or 1 occurred”"
     ]
    },
    {
     "name": "stdout",
     "output_type": "stream",
     "text": [
      "earth glm setosa: did not converge after 25 iterations\n"
     ]
    },
    {
     "name": "stderr",
     "output_type": "stream",
     "text": [
      "Warning message:\n",
      "“glm.fit: algorithm did not converge”Warning message:\n",
      "“glm.fit: fitted probabilities numerically 0 or 1 occurred”"
     ]
    },
    {
     "name": "stdout",
     "output_type": "stream",
     "text": [
      "earth glm setosa: did not converge after 25 iterations\n"
     ]
    },
    {
     "name": "stderr",
     "output_type": "stream",
     "text": [
      "Warning message:\n",
      "“glm.fit: algorithm did not converge”Warning message:\n",
      "“glm.fit: fitted probabilities numerically 0 or 1 occurred”"
     ]
    },
    {
     "name": "stdout",
     "output_type": "stream",
     "text": [
      "earth glm setosa: did not converge after 25 iterations\n"
     ]
    },
    {
     "name": "stderr",
     "output_type": "stream",
     "text": [
      "Warning message:\n",
      "“glm.fit: algorithm did not converge”Warning message:\n",
      "“glm.fit: fitted probabilities numerically 0 or 1 occurred”"
     ]
    },
    {
     "name": "stdout",
     "output_type": "stream",
     "text": [
      "earth glm setosa: did not converge after 25 iterations\n"
     ]
    },
    {
     "name": "stderr",
     "output_type": "stream",
     "text": [
      "Warning message:\n",
      "“glm.fit: algorithm did not converge”Warning message:\n",
      "“glm.fit: fitted probabilities numerically 0 or 1 occurred”"
     ]
    },
    {
     "name": "stdout",
     "output_type": "stream",
     "text": [
      "earth glm setosa: did not converge after 25 iterations\n"
     ]
    },
    {
     "name": "stderr",
     "output_type": "stream",
     "text": [
      "Warning message:\n",
      "“glm.fit: algorithm did not converge”Warning message:\n",
      "“glm.fit: fitted probabilities numerically 0 or 1 occurred”"
     ]
    },
    {
     "name": "stdout",
     "output_type": "stream",
     "text": [
      "earth glm setosa: did not converge after 25 iterations\n"
     ]
    },
    {
     "name": "stderr",
     "output_type": "stream",
     "text": [
      "Warning message:\n",
      "“glm.fit: algorithm did not converge”"
     ]
    },
    {
     "name": "stdout",
     "output_type": "stream",
     "text": [
      "earth glm setosa: did not converge after 25 iterations\n"
     ]
    },
    {
     "name": "stderr",
     "output_type": "stream",
     "text": [
      "Warning message:\n",
      "“glm.fit: algorithm did not converge”Warning message:\n",
      "“glm.fit: fitted probabilities numerically 0 or 1 occurred”"
     ]
    },
    {
     "name": "stdout",
     "output_type": "stream",
     "text": [
      "earth glm setosa: did not converge after 25 iterations\n"
     ]
    },
    {
     "name": "stderr",
     "output_type": "stream",
     "text": [
      "Warning message:\n",
      "“glm.fit: algorithm did not converge”Warning message:\n",
      "“glm.fit: fitted probabilities numerically 0 or 1 occurred”"
     ]
    },
    {
     "name": "stdout",
     "output_type": "stream",
     "text": [
      "earth glm setosa: did not converge after 25 iterations\n"
     ]
    },
    {
     "name": "stderr",
     "output_type": "stream",
     "text": [
      "Warning message:\n",
      "“glm.fit: algorithm did not converge”Warning message:\n",
      "“glm.fit: fitted probabilities numerically 0 or 1 occurred”"
     ]
    },
    {
     "name": "stdout",
     "output_type": "stream",
     "text": [
      "earth glm setosa: did not converge after 25 iterations\n"
     ]
    },
    {
     "name": "stderr",
     "output_type": "stream",
     "text": [
      "Warning message:\n",
      "“glm.fit: fitted probabilities numerically 0 or 1 occurred”Warning message:\n",
      "“glm.fit: algorithm did not converge”"
     ]
    },
    {
     "name": "stdout",
     "output_type": "stream",
     "text": [
      "earth glm setosa: did not converge after 25 iterations\n"
     ]
    },
    {
     "name": "stderr",
     "output_type": "stream",
     "text": [
      "Warning message:\n",
      "“glm.fit: fitted probabilities numerically 0 or 1 occurred”Warning message:\n",
      "“glm.fit: fitted probabilities numerically 0 or 1 occurred”Warning message:\n",
      "“glm.fit: algorithm did not converge”Warning message:\n",
      "“glm.fit: fitted probabilities numerically 0 or 1 occurred”"
     ]
    },
    {
     "name": "stdout",
     "output_type": "stream",
     "text": [
      "earth glm setosa: did not converge after 25 iterations\n"
     ]
    },
    {
     "name": "stderr",
     "output_type": "stream",
     "text": [
      "Warning message:\n",
      "“glm.fit: fitted probabilities numerically 0 or 1 occurred”Warning message:\n",
      "“glm.fit: fitted probabilities numerically 0 or 1 occurred”Warning message:\n",
      "“glm.fit: algorithm did not converge”Warning message:\n",
      "“glm.fit: fitted probabilities numerically 0 or 1 occurred”"
     ]
    },
    {
     "name": "stdout",
     "output_type": "stream",
     "text": [
      "earth glm setosa: did not converge after 25 iterations\n"
     ]
    },
    {
     "name": "stderr",
     "output_type": "stream",
     "text": [
      "Warning message:\n",
      "“glm.fit: algorithm did not converge”Warning message:\n",
      "“glm.fit: fitted probabilities numerically 0 or 1 occurred”"
     ]
    },
    {
     "name": "stdout",
     "output_type": "stream",
     "text": [
      "earth glm setosa: did not converge after 25 iterations\n"
     ]
    },
    {
     "name": "stderr",
     "output_type": "stream",
     "text": [
      "Warning message:\n",
      "“glm.fit: fitted probabilities numerically 0 or 1 occurred”Warning message:\n",
      "“glm.fit: fitted probabilities numerically 0 or 1 occurred”Warning message:\n",
      "“glm.fit: algorithm did not converge”Warning message:\n",
      "“glm.fit: fitted probabilities numerically 0 or 1 occurred”"
     ]
    },
    {
     "name": "stdout",
     "output_type": "stream",
     "text": [
      "earth glm setosa: did not converge after 25 iterations\n"
     ]
    },
    {
     "name": "stderr",
     "output_type": "stream",
     "text": [
      "Warning message:\n",
      "“glm.fit: fitted probabilities numerically 0 or 1 occurred”Warning message:\n",
      "“glm.fit: fitted probabilities numerically 0 or 1 occurred”Warning message:\n",
      "“glm.fit: algorithm did not converge”Warning message:\n",
      "“glm.fit: fitted probabilities numerically 0 or 1 occurred”"
     ]
    },
    {
     "name": "stdout",
     "output_type": "stream",
     "text": [
      "earth glm setosa: did not converge after 25 iterations\n"
     ]
    },
    {
     "name": "stderr",
     "output_type": "stream",
     "text": [
      "Warning message:\n",
      "“glm.fit: algorithm did not converge”Warning message:\n",
      "“glm.fit: fitted probabilities numerically 0 or 1 occurred”"
     ]
    },
    {
     "name": "stdout",
     "output_type": "stream",
     "text": [
      "earth glm setosa: did not converge after 25 iterations\n"
     ]
    },
    {
     "name": "stderr",
     "output_type": "stream",
     "text": [
      "Warning message:\n",
      "“glm.fit: fitted probabilities numerically 0 or 1 occurred”Warning message:\n",
      "“glm.fit: fitted probabilities numerically 0 or 1 occurred”Warning message:\n",
      "“glm.fit: algorithm did not converge”Warning message:\n",
      "“glm.fit: fitted probabilities numerically 0 or 1 occurred”"
     ]
    },
    {
     "name": "stdout",
     "output_type": "stream",
     "text": [
      "earth glm setosa: did not converge after 25 iterations\n"
     ]
    },
    {
     "name": "stderr",
     "output_type": "stream",
     "text": [
      "Warning message:\n",
      "“glm.fit: fitted probabilities numerically 0 or 1 occurred”Warning message:\n",
      "“glm.fit: fitted probabilities numerically 0 or 1 occurred”Warning message:\n",
      "“glm.fit: algorithm did not converge”Warning message:\n",
      "“glm.fit: fitted probabilities numerically 0 or 1 occurred”"
     ]
    },
    {
     "name": "stdout",
     "output_type": "stream",
     "text": [
      "earth glm setosa: did not converge after 25 iterations\n"
     ]
    },
    {
     "name": "stderr",
     "output_type": "stream",
     "text": [
      "Warning message:\n",
      "“glm.fit: algorithm did not converge”Warning message:\n",
      "“glm.fit: fitted probabilities numerically 0 or 1 occurred”"
     ]
    },
    {
     "name": "stdout",
     "output_type": "stream",
     "text": [
      "earth glm setosa: did not converge after 25 iterations\n"
     ]
    },
    {
     "name": "stderr",
     "output_type": "stream",
     "text": [
      "Warning message:\n",
      "“glm.fit: fitted probabilities numerically 0 or 1 occurred”Warning message:\n",
      "“glm.fit: fitted probabilities numerically 0 or 1 occurred”Warning message:\n",
      "“glm.fit: algorithm did not converge”"
     ]
    },
    {
     "name": "stdout",
     "output_type": "stream",
     "text": [
      "earth glm setosa: did not converge after 25 iterations\n"
     ]
    },
    {
     "name": "stderr",
     "output_type": "stream",
     "text": [
      "Warning message:\n",
      "“glm.fit: algorithm did not converge”Warning message:\n",
      "“glm.fit: fitted probabilities numerically 0 or 1 occurred”"
     ]
    },
    {
     "name": "stdout",
     "output_type": "stream",
     "text": [
      "earth glm setosa: did not converge after 25 iterations\n"
     ]
    },
    {
     "name": "stderr",
     "output_type": "stream",
     "text": [
      "Warning message:\n",
      "“glm.fit: algorithm did not converge”Warning message:\n",
      "“glm.fit: fitted probabilities numerically 0 or 1 occurred”"
     ]
    },
    {
     "name": "stdout",
     "output_type": "stream",
     "text": [
      "earth glm setosa: did not converge after 25 iterations\n"
     ]
    },
    {
     "name": "stderr",
     "output_type": "stream",
     "text": [
      "Warning message:\n",
      "“glm.fit: algorithm did not converge”Warning message:\n",
      "“glm.fit: fitted probabilities numerically 0 or 1 occurred”"
     ]
    },
    {
     "name": "stdout",
     "output_type": "stream",
     "text": [
      "earth glm setosa: did not converge after 25 iterations\n"
     ]
    },
    {
     "name": "stderr",
     "output_type": "stream",
     "text": [
      "Warning message:\n",
      "“glm.fit: algorithm did not converge”"
     ]
    },
    {
     "name": "stdout",
     "output_type": "stream",
     "text": [
      "earth glm setosa: did not converge after 25 iterations\n"
     ]
    },
    {
     "name": "stderr",
     "output_type": "stream",
     "text": [
      "Warning message:\n",
      "“glm.fit: fitted probabilities numerically 0 or 1 occurred”Warning message:\n",
      "“glm.fit: fitted probabilities numerically 0 or 1 occurred”Warning message:\n",
      "“glm.fit: algorithm did not converge”Warning message:\n",
      "“glm.fit: fitted probabilities numerically 0 or 1 occurred”"
     ]
    },
    {
     "name": "stdout",
     "output_type": "stream",
     "text": [
      "earth glm setosa: did not converge after 25 iterations\n"
     ]
    },
    {
     "name": "stderr",
     "output_type": "stream",
     "text": [
      "Warning message:\n",
      "“glm.fit: algorithm did not converge”Warning message:\n",
      "“glm.fit: fitted probabilities numerically 0 or 1 occurred”"
     ]
    },
    {
     "name": "stdout",
     "output_type": "stream",
     "text": [
      "earth glm setosa: did not converge after 25 iterations\n"
     ]
    },
    {
     "name": "stderr",
     "output_type": "stream",
     "text": [
      "Warning message:\n",
      "“glm.fit: algorithm did not converge”Warning message:\n",
      "“glm.fit: fitted probabilities numerically 0 or 1 occurred”"
     ]
    },
    {
     "name": "stdout",
     "output_type": "stream",
     "text": [
      "earth glm setosa: did not converge after 25 iterations\n"
     ]
    },
    {
     "name": "stderr",
     "output_type": "stream",
     "text": [
      "Warning message:\n",
      "“glm.fit: algorithm did not converge”Warning message:\n",
      "“glm.fit: fitted probabilities numerically 0 or 1 occurred”"
     ]
    },
    {
     "name": "stdout",
     "output_type": "stream",
     "text": [
      "earth glm setosa: did not converge after 25 iterations\n"
     ]
    },
    {
     "name": "stderr",
     "output_type": "stream",
     "text": [
      "Warning message:\n",
      "“glm.fit: algorithm did not converge”Warning message:\n",
      "“glm.fit: fitted probabilities numerically 0 or 1 occurred”"
     ]
    },
    {
     "name": "stdout",
     "output_type": "stream",
     "text": [
      "earth glm setosa: did not converge after 25 iterations\n"
     ]
    },
    {
     "name": "stderr",
     "output_type": "stream",
     "text": [
      "Warning message:\n",
      "“glm.fit: fitted probabilities numerically 0 or 1 occurred”Warning message:\n",
      "“glm.fit: fitted probabilities numerically 0 or 1 occurred”Warning message:\n",
      "“glm.fit: algorithm did not converge”Warning message:\n",
      "“glm.fit: fitted probabilities numerically 0 or 1 occurred”"
     ]
    },
    {
     "name": "stdout",
     "output_type": "stream",
     "text": [
      "earth glm setosa: did not converge after 25 iterations\n"
     ]
    },
    {
     "name": "stderr",
     "output_type": "stream",
     "text": [
      "Warning message:\n",
      "“glm.fit: algorithm did not converge”Warning message:\n",
      "“glm.fit: fitted probabilities numerically 0 or 1 occurred”"
     ]
    },
    {
     "name": "stdout",
     "output_type": "stream",
     "text": [
      "earth glm setosa: did not converge after 25 iterations\n"
     ]
    },
    {
     "name": "stderr",
     "output_type": "stream",
     "text": [
      "Warning message:\n",
      "“glm.fit: algorithm did not converge”Warning message:\n",
      "“glm.fit: fitted probabilities numerically 0 or 1 occurred”"
     ]
    },
    {
     "name": "stdout",
     "output_type": "stream",
     "text": [
      "earth glm setosa: did not converge after 25 iterations\n"
     ]
    },
    {
     "name": "stderr",
     "output_type": "stream",
     "text": [
      "Warning message:\n",
      "“glm.fit: algorithm did not converge”Warning message:\n",
      "“glm.fit: fitted probabilities numerically 0 or 1 occurred”"
     ]
    },
    {
     "name": "stdout",
     "output_type": "stream",
     "text": [
      "earth glm setosa: did not converge after 25 iterations\n"
     ]
    },
    {
     "name": "stderr",
     "output_type": "stream",
     "text": [
      "Warning message:\n",
      "“glm.fit: fitted probabilities numerically 0 or 1 occurred”Warning message:\n",
      "“glm.fit: algorithm did not converge”Warning message:\n",
      "“glm.fit: fitted probabilities numerically 0 or 1 occurred”"
     ]
    },
    {
     "name": "stdout",
     "output_type": "stream",
     "text": [
      "earth glm setosa: did not converge after 25 iterations\n"
     ]
    },
    {
     "name": "stderr",
     "output_type": "stream",
     "text": [
      "Warning message:\n",
      "“glm.fit: algorithm did not converge”Warning message:\n",
      "“glm.fit: fitted probabilities numerically 0 or 1 occurred”"
     ]
    },
    {
     "name": "stdout",
     "output_type": "stream",
     "text": [
      "earth glm setosa: did not converge after 25 iterations\n"
     ]
    },
    {
     "name": "stderr",
     "output_type": "stream",
     "text": [
      "Warning message:\n",
      "“glm.fit: algorithm did not converge”Warning message:\n",
      "“glm.fit: fitted probabilities numerically 0 or 1 occurred”"
     ]
    },
    {
     "name": "stdout",
     "output_type": "stream",
     "text": [
      "earth glm setosa: did not converge after 25 iterations\n"
     ]
    },
    {
     "name": "stderr",
     "output_type": "stream",
     "text": [
      "Warning message:\n",
      "“glm.fit: algorithm did not converge”Warning message:\n",
      "“glm.fit: fitted probabilities numerically 0 or 1 occurred”"
     ]
    },
    {
     "name": "stdout",
     "output_type": "stream",
     "text": [
      "earth glm setosa: did not converge after 25 iterations\n"
     ]
    },
    {
     "name": "stderr",
     "output_type": "stream",
     "text": [
      "Warning message:\n",
      "“glm.fit: algorithm did not converge”Warning message:\n",
      "“glm.fit: fitted probabilities numerically 0 or 1 occurred”"
     ]
    },
    {
     "name": "stdout",
     "output_type": "stream",
     "text": [
      "earth glm setosa: did not converge after 25 iterations\n"
     ]
    },
    {
     "name": "stderr",
     "output_type": "stream",
     "text": [
      "Warning message:\n",
      "“glm.fit: algorithm did not converge”Warning message:\n",
      "“glm.fit: fitted probabilities numerically 0 or 1 occurred”"
     ]
    },
    {
     "name": "stdout",
     "output_type": "stream",
     "text": [
      "earth glm setosa: did not converge after 25 iterations\n"
     ]
    },
    {
     "name": "stderr",
     "output_type": "stream",
     "text": [
      "Warning message:\n",
      "“glm.fit: algorithm did not converge”Warning message:\n",
      "“glm.fit: fitted probabilities numerically 0 or 1 occurred”"
     ]
    },
    {
     "name": "stdout",
     "output_type": "stream",
     "text": [
      "earth glm setosa: did not converge after 25 iterations\n"
     ]
    },
    {
     "name": "stderr",
     "output_type": "stream",
     "text": [
      "Warning message:\n",
      "“glm.fit: algorithm did not converge”Warning message:\n",
      "“glm.fit: fitted probabilities numerically 0 or 1 occurred”"
     ]
    },
    {
     "name": "stdout",
     "output_type": "stream",
     "text": [
      "earth glm setosa: did not converge after 25 iterations\n"
     ]
    },
    {
     "name": "stderr",
     "output_type": "stream",
     "text": [
      "Warning message:\n",
      "“glm.fit: algorithm did not converge”Warning message:\n",
      "“glm.fit: fitted probabilities numerically 0 or 1 occurred”"
     ]
    },
    {
     "name": "stdout",
     "output_type": "stream",
     "text": [
      "earth glm setosa: did not converge after 25 iterations\n"
     ]
    },
    {
     "name": "stderr",
     "output_type": "stream",
     "text": [
      "Warning message:\n",
      "“glm.fit: algorithm did not converge”Warning message:\n",
      "“glm.fit: fitted probabilities numerically 0 or 1 occurred”"
     ]
    },
    {
     "name": "stdout",
     "output_type": "stream",
     "text": [
      "earth glm setosa: did not converge after 25 iterations\n"
     ]
    },
    {
     "name": "stderr",
     "output_type": "stream",
     "text": [
      "Warning message:\n",
      "“glm.fit: algorithm did not converge”Warning message:\n",
      "“glm.fit: fitted probabilities numerically 0 or 1 occurred”"
     ]
    },
    {
     "name": "stdout",
     "output_type": "stream",
     "text": [
      "earth glm setosa: did not converge after 25 iterations\n"
     ]
    },
    {
     "name": "stderr",
     "output_type": "stream",
     "text": [
      "Warning message:\n",
      "“glm.fit: fitted probabilities numerically 0 or 1 occurred”Warning message:\n",
      "“glm.fit: fitted probabilities numerically 0 or 1 occurred”Warning message:\n",
      "“glm.fit: algorithm did not converge”Warning message:\n",
      "“glm.fit: fitted probabilities numerically 0 or 1 occurred”"
     ]
    },
    {
     "name": "stdout",
     "output_type": "stream",
     "text": [
      "earth glm setosa: did not converge after 25 iterations\n"
     ]
    },
    {
     "name": "stderr",
     "output_type": "stream",
     "text": [
      "Warning message:\n",
      "“glm.fit: algorithm did not converge”Warning message:\n",
      "“glm.fit: fitted probabilities numerically 0 or 1 occurred”"
     ]
    },
    {
     "name": "stdout",
     "output_type": "stream",
     "text": [
      "earth glm setosa: did not converge after 25 iterations\n"
     ]
    },
    {
     "name": "stderr",
     "output_type": "stream",
     "text": [
      "Warning message:\n",
      "“glm.fit: fitted probabilities numerically 0 or 1 occurred”Warning message:\n",
      "“glm.fit: fitted probabilities numerically 0 or 1 occurred”Warning message:\n",
      "“glm.fit: algorithm did not converge”Warning message:\n",
      "“glm.fit: fitted probabilities numerically 0 or 1 occurred”"
     ]
    },
    {
     "name": "stdout",
     "output_type": "stream",
     "text": [
      "earth glm setosa: did not converge after 25 iterations\n"
     ]
    },
    {
     "name": "stderr",
     "output_type": "stream",
     "text": [
      "Warning message:\n",
      "“glm.fit: algorithm did not converge”Warning message:\n",
      "“glm.fit: fitted probabilities numerically 0 or 1 occurred”"
     ]
    },
    {
     "name": "stdout",
     "output_type": "stream",
     "text": [
      "earth glm setosa: did not converge after 25 iterations\n"
     ]
    },
    {
     "name": "stderr",
     "output_type": "stream",
     "text": [
      "Warning message:\n",
      "“glm.fit: algorithm did not converge”Warning message:\n",
      "“glm.fit: fitted probabilities numerically 0 or 1 occurred”"
     ]
    },
    {
     "name": "stdout",
     "output_type": "stream",
     "text": [
      "earth glm setosa: did not converge after 25 iterations\n"
     ]
    },
    {
     "name": "stderr",
     "output_type": "stream",
     "text": [
      "Warning message:\n",
      "“glm.fit: algorithm did not converge”Warning message:\n",
      "“glm.fit: fitted probabilities numerically 0 or 1 occurred”"
     ]
    },
    {
     "name": "stdout",
     "output_type": "stream",
     "text": [
      "earth glm setosa: did not converge after 25 iterations\n"
     ]
    },
    {
     "name": "stderr",
     "output_type": "stream",
     "text": [
      "Warning message:\n",
      "“glm.fit: fitted probabilities numerically 0 or 1 occurred”Warning message:\n",
      "“glm.fit: algorithm did not converge”Warning message:\n",
      "“glm.fit: fitted probabilities numerically 0 or 1 occurred”"
     ]
    },
    {
     "name": "stdout",
     "output_type": "stream",
     "text": [
      "earth glm setosa: did not converge after 25 iterations\n"
     ]
    },
    {
     "name": "stderr",
     "output_type": "stream",
     "text": [
      "Warning message:\n",
      "“glm.fit: algorithm did not converge”Warning message:\n",
      "“glm.fit: fitted probabilities numerically 0 or 1 occurred”"
     ]
    },
    {
     "name": "stdout",
     "output_type": "stream",
     "text": [
      "earth glm setosa: did not converge after 25 iterations\n"
     ]
    },
    {
     "name": "stderr",
     "output_type": "stream",
     "text": [
      "Warning message:\n",
      "“glm.fit: algorithm did not converge”Warning message:\n",
      "“glm.fit: fitted probabilities numerically 0 or 1 occurred”"
     ]
    },
    {
     "name": "stdout",
     "output_type": "stream",
     "text": [
      "earth glm setosa: did not converge after 25 iterations\n"
     ]
    },
    {
     "name": "stderr",
     "output_type": "stream",
     "text": [
      "Warning message:\n",
      "“glm.fit: algorithm did not converge”"
     ]
    },
    {
     "name": "stdout",
     "output_type": "stream",
     "text": [
      "earth glm setosa: did not converge after 25 iterations\n"
     ]
    },
    {
     "name": "stderr",
     "output_type": "stream",
     "text": [
      "Warning message:\n",
      "“glm.fit: fitted probabilities numerically 0 or 1 occurred”Warning message:\n",
      "“glm.fit: fitted probabilities numerically 0 or 1 occurred”Warning message:\n",
      "“glm.fit: algorithm did not converge”Warning message:\n",
      "“glm.fit: fitted probabilities numerically 0 or 1 occurred”"
     ]
    },
    {
     "name": "stdout",
     "output_type": "stream",
     "text": [
      "earth glm setosa: did not converge after 25 iterations\n"
     ]
    },
    {
     "name": "stderr",
     "output_type": "stream",
     "text": [
      "Warning message:\n",
      "“glm.fit: algorithm did not converge”"
     ]
    },
    {
     "name": "stdout",
     "output_type": "stream",
     "text": [
      "earth glm setosa: did not converge after 25 iterations\n"
     ]
    },
    {
     "name": "stderr",
     "output_type": "stream",
     "text": [
      "Warning message:\n",
      "“glm.fit: fitted probabilities numerically 0 or 1 occurred”Warning message:\n",
      "“glm.fit: fitted probabilities numerically 0 or 1 occurred”Warning message:\n",
      "“glm.fit: algorithm did not converge”Warning message:\n",
      "“glm.fit: fitted probabilities numerically 0 or 1 occurred”"
     ]
    },
    {
     "name": "stdout",
     "output_type": "stream",
     "text": [
      "earth glm setosa: did not converge after 25 iterations\n"
     ]
    },
    {
     "name": "stderr",
     "output_type": "stream",
     "text": [
      "Warning message:\n",
      "“glm.fit: fitted probabilities numerically 0 or 1 occurred”Warning message:\n",
      "“glm.fit: fitted probabilities numerically 0 or 1 occurred”Warning message:\n",
      "“glm.fit: algorithm did not converge”Warning message:\n",
      "“glm.fit: fitted probabilities numerically 0 or 1 occurred”"
     ]
    },
    {
     "name": "stdout",
     "output_type": "stream",
     "text": [
      "earth glm setosa: did not converge after 25 iterations\n"
     ]
    },
    {
     "name": "stderr",
     "output_type": "stream",
     "text": [
      "Warning message:\n",
      "“glm.fit: algorithm did not converge”Warning message:\n",
      "“glm.fit: fitted probabilities numerically 0 or 1 occurred”"
     ]
    },
    {
     "name": "stdout",
     "output_type": "stream",
     "text": [
      "earth glm setosa: did not converge after 25 iterations\n"
     ]
    },
    {
     "name": "stderr",
     "output_type": "stream",
     "text": [
      "Warning message:\n",
      "“glm.fit: fitted probabilities numerically 0 or 1 occurred”Warning message:\n",
      "“glm.fit: fitted probabilities numerically 0 or 1 occurred”Warning message:\n",
      "“glm.fit: algorithm did not converge”"
     ]
    },
    {
     "name": "stdout",
     "output_type": "stream",
     "text": [
      "earth glm setosa: did not converge after 25 iterations\n"
     ]
    },
    {
     "name": "stderr",
     "output_type": "stream",
     "text": [
      "Warning message:\n",
      "“glm.fit: fitted probabilities numerically 0 or 1 occurred”Warning message:\n",
      "“glm.fit: fitted probabilities numerically 0 or 1 occurred”Warning message:\n",
      "“glm.fit: algorithm did not converge”Warning message:\n",
      "“glm.fit: fitted probabilities numerically 0 or 1 occurred”"
     ]
    },
    {
     "name": "stdout",
     "output_type": "stream",
     "text": [
      "earth glm setosa: did not converge after 25 iterations\n"
     ]
    },
    {
     "name": "stderr",
     "output_type": "stream",
     "text": [
      "Warning message:\n",
      "“glm.fit: algorithm did not converge”Warning message:\n",
      "“glm.fit: fitted probabilities numerically 0 or 1 occurred”"
     ]
    },
    {
     "name": "stdout",
     "output_type": "stream",
     "text": [
      "earth glm setosa: did not converge after 25 iterations\n"
     ]
    },
    {
     "name": "stderr",
     "output_type": "stream",
     "text": [
      "Warning message:\n",
      "“glm.fit: fitted probabilities numerically 0 or 1 occurred”Warning message:\n",
      "“glm.fit: fitted probabilities numerically 0 or 1 occurred”Warning message:\n",
      "“glm.fit: algorithm did not converge”"
     ]
    },
    {
     "name": "stdout",
     "output_type": "stream",
     "text": [
      "earth glm setosa: did not converge after 25 iterations\n"
     ]
    },
    {
     "name": "stderr",
     "output_type": "stream",
     "text": [
      "Warning message:\n",
      "“glm.fit: fitted probabilities numerically 0 or 1 occurred”Warning message:\n",
      "“glm.fit: fitted probabilities numerically 0 or 1 occurred”Warning message:\n",
      "“glm.fit: algorithm did not converge”Warning message:\n",
      "“glm.fit: fitted probabilities numerically 0 or 1 occurred”"
     ]
    },
    {
     "name": "stdout",
     "output_type": "stream",
     "text": [
      "earth glm setosa: did not converge after 25 iterations\n"
     ]
    },
    {
     "name": "stderr",
     "output_type": "stream",
     "text": [
      "Warning message:\n",
      "“glm.fit: algorithm did not converge”"
     ]
    },
    {
     "name": "stdout",
     "output_type": "stream",
     "text": [
      "earth glm setosa: did not converge after 25 iterations\n"
     ]
    },
    {
     "name": "stderr",
     "output_type": "stream",
     "text": [
      "Warning message:\n",
      "“glm.fit: fitted probabilities numerically 0 or 1 occurred”Warning message:\n",
      "“glm.fit: fitted probabilities numerically 0 or 1 occurred”Warning message:\n",
      "“glm.fit: algorithm did not converge”Warning message:\n",
      "“glm.fit: fitted probabilities numerically 0 or 1 occurred”"
     ]
    },
    {
     "name": "stdout",
     "output_type": "stream",
     "text": [
      "earth glm setosa: did not converge after 25 iterations\n"
     ]
    },
    {
     "name": "stderr",
     "output_type": "stream",
     "text": [
      "Warning message:\n",
      "“glm.fit: algorithm did not converge”Warning message:\n",
      "“glm.fit: fitted probabilities numerically 0 or 1 occurred”"
     ]
    },
    {
     "name": "stdout",
     "output_type": "stream",
     "text": [
      "earth glm setosa: did not converge after 25 iterations\n"
     ]
    },
    {
     "name": "stderr",
     "output_type": "stream",
     "text": [
      "Warning message:\n",
      "“glm.fit: algorithm did not converge”Warning message:\n",
      "“glm.fit: fitted probabilities numerically 0 or 1 occurred”"
     ]
    },
    {
     "name": "stdout",
     "output_type": "stream",
     "text": [
      "earth glm setosa: did not converge after 25 iterations\n"
     ]
    },
    {
     "name": "stderr",
     "output_type": "stream",
     "text": [
      "Warning message:\n",
      "“glm.fit: algorithm did not converge”Warning message:\n",
      "“glm.fit: fitted probabilities numerically 0 or 1 occurred”"
     ]
    },
    {
     "name": "stdout",
     "output_type": "stream",
     "text": [
      "earth glm setosa: did not converge after 25 iterations\n"
     ]
    },
    {
     "name": "stderr",
     "output_type": "stream",
     "text": [
      "Warning message:\n",
      "“glm.fit: fitted probabilities numerically 0 or 1 occurred”Warning message:\n",
      "“glm.fit: algorithm did not converge”Warning message:\n",
      "“glm.fit: fitted probabilities numerically 0 or 1 occurred”"
     ]
    },
    {
     "name": "stdout",
     "output_type": "stream",
     "text": [
      "earth glm setosa: did not converge after 25 iterations\n"
     ]
    },
    {
     "name": "stderr",
     "output_type": "stream",
     "text": [
      "Warning message:\n",
      "“glm.fit: algorithm did not converge”Warning message:\n",
      "“glm.fit: fitted probabilities numerically 0 or 1 occurred”"
     ]
    },
    {
     "name": "stdout",
     "output_type": "stream",
     "text": [
      "earth glm setosa: did not converge after 25 iterations\n"
     ]
    },
    {
     "name": "stderr",
     "output_type": "stream",
     "text": [
      "Warning message:\n",
      "“glm.fit: algorithm did not converge”Warning message:\n",
      "“glm.fit: fitted probabilities numerically 0 or 1 occurred”"
     ]
    },
    {
     "name": "stdout",
     "output_type": "stream",
     "text": [
      "earth glm setosa: did not converge after 25 iterations\n"
     ]
    },
    {
     "name": "stderr",
     "output_type": "stream",
     "text": [
      "Warning message:\n",
      "“glm.fit: algorithm did not converge”Warning message:\n",
      "“glm.fit: fitted probabilities numerically 0 or 1 occurred”"
     ]
    },
    {
     "name": "stdout",
     "output_type": "stream",
     "text": [
      "earth glm setosa: did not converge after 25 iterations\n"
     ]
    },
    {
     "name": "stderr",
     "output_type": "stream",
     "text": [
      "Warning message:\n",
      "“glm.fit: fitted probabilities numerically 0 or 1 occurred”Warning message:\n",
      "“glm.fit: fitted probabilities numerically 0 or 1 occurred”"
     ]
    }
   ],
   "source": [
    "# dataset\n",
    "model = create_model()"
   ]
  },
  {
   "cell_type": "code",
   "execution_count": 4,
   "metadata": {},
   "outputs": [
    {
     "data": {
      "text/html": [
       "0.04"
      ],
      "text/latex": [
       "0.04"
      ],
      "text/markdown": [
       "0.04"
      ],
      "text/plain": [
       "[1] 0.04"
      ]
     },
     "metadata": {},
     "output_type": "display_data"
    }
   ],
   "source": [
    "pred <- predict(model, as.matrix(iris[, -5]) , type=\"prob\")\n",
    "pred_labels <- predict(model, as.matrix(iris[, -5]) , type=\"raw\")\n",
    "sum(pred_labels != iris$Species)/length(pred_labels)\n"
   ]
  },
  {
   "cell_type": "markdown",
   "metadata": {},
   "source": [
    "# SQL Code Generation"
   ]
  },
  {
   "cell_type": "code",
   "execution_count": 5,
   "metadata": {},
   "outputs": [],
   "source": [
    "\n",
    "test_ws_sql_gen = function(mod) {\n",
    "    WS_URL = \"https://sklearn2sql.herokuapp.com/model\"\n",
    "    WS_URL = \"http://localhost:1888/model\"\n",
    "    model_serialized <- serialize(mod, NULL)\n",
    "    b64_data = base64encode(model_serialized)\n",
    "    data = list(Name = \"caret_glmnet_test_model\", SerializedModel = b64_data , SQLDialect = \"postgresql\" , Mode=\"caret\")\n",
    "    r = POST(WS_URL, body = data, encode = \"json\")\n",
    "    # print(r)\n",
    "    content = content(r)\n",
    "    # print(content)\n",
    "    lSQL = content$model$SQLGenrationResult[[1]]$SQL # content[\"model\"][\"SQLGenrationResult\"][0][\"SQL\"]\n",
    "    return(lSQL);\n",
    "}"
   ]
  },
  {
   "cell_type": "code",
   "execution_count": 6,
   "metadata": {
    "scrolled": false
   },
   "outputs": [
    {
     "name": "stdout",
     "output_type": "stream",
     "text": [
      "WITH earth_input AS \n",
      "(SELECT \"ADS\".\"KEY\" AS \"KEY\", CAST(\"ADS\".\"Feature_0\" AS FLOAT) AS \"Feature_0\", CAST(\"ADS\".\"Feature_1\" AS FLOAT) AS \"Feature_1\", CAST(\"ADS\".\"Feature_2\" AS FLOAT) AS \"Feature_2\", CAST(\"ADS\".\"Feature_3\" AS FLOAT) AS \"Feature_3\" \n",
      "FROM \"INPUT_DATA\" AS \"ADS\"), \n",
      "earth_model_cte AS \n",
      "(SELECT earth_input.\"KEY\" AS \"KEY\", -21.131577721093432 * greatest(earth_input.\"Feature_2\" - 4.5, 0) + 1.3322613471083191 * greatest(earth_input.\"Feature_2\" - 5.3, 0) + 65.20743839728699 * greatest(earth_input.\"Feature_2\" - 3.5, 0) + -0.638036193459006 * greatest(earth_input.\"Feature_3\" - 1.5, 0) + -45.181553467690975 * greatest(earth_input.\"Feature_2\" - 1.9, 0) + 1.027662135238036 * greatest(earth_input.\"Feature_3\" - 1.8, 0) + 26.43659953585224 AS \"Score_setosa\", 160.0555945662694 * greatest(earth_input.\"Feature_2\" - 4.5, 0) + -77.71437581212527 * greatest(earth_input.\"Feature_2\" - 5.3, 0) + -284.88355763245283 * greatest(earth_input.\"Feature_2\" - 3.5, 0) + -10.845094637499349 * greatest(earth_input.\"Feature_3\" - 1.5, 0) + 120.39323587473648 * greatest(earth_input.\"Feature_2\" - 1.9, 0) + -165.6767539636739 * greatest(earth_input.\"Feature_3\" - 1.8, 0) + -24.622920961366948 AS \"Score_versicolor\", -160.6304573398269 * greatest(earth_input.\"Feature_2\" - 4.5, 0) + 77.67757816866055 * greatest(earth_input.\"Feature_2\" - 5.3, 0) + 255.08503525528218 * greatest(earth_input.\"Feature_2\" - 3.5, 0) + 10.845094637502749 * greatest(earth_input.\"Feature_3\" - 1.5, 0) + -90.01985072400741 * greatest(earth_input.\"Feature_2\" - 1.9, 0) + 165.62176459522954 * greatest(earth_input.\"Feature_3\" - 1.8, 0) + -24.549358053358787 AS \"Score_virginica\" \n",
      "FROM earth_input), \n",
      "earth_model_cte_logistic AS \n",
      "(SELECT earth_model_cte.\"KEY\" AS \"KEY\", earth_model_cte.\"Score_setosa\" AS \"Score_setosa\", 1.0 / (1.0 + exp(least(100.0, greatest(-100.0, -earth_model_cte.\"Score_setosa\")))) AS \"Logistic_setosa\", earth_model_cte.\"Score_versicolor\" AS \"Score_versicolor\", 1.0 / (1.0 + exp(least(100.0, greatest(-100.0, -earth_model_cte.\"Score_versicolor\")))) AS \"Logistic_versicolor\", earth_model_cte.\"Score_virginica\" AS \"Score_virginica\", 1.0 / (1.0 + exp(least(100.0, greatest(-100.0, -earth_model_cte.\"Score_virginica\")))) AS \"Logistic_virginica\" \n",
      "FROM earth_model_cte), \n",
      "orig_cte AS \n",
      "(SELECT earth_model_cte_logistic.\"KEY\" AS \"KEY\", earth_model_cte_logistic.\"Score_setosa\" AS \"Score_setosa\", earth_model_cte_logistic.\"Score_versicolor\" AS \"Score_versicolor\", earth_model_cte_logistic.\"Score_virginica\" AS \"Score_virginica\", earth_model_cte_logistic.\"Logistic_setosa\" / (earth_model_cte_logistic.\"Logistic_setosa\" + earth_model_cte_logistic.\"Logistic_versicolor\" + earth_model_cte_logistic.\"Logistic_virginica\") AS \"Proba_setosa\", earth_model_cte_logistic.\"Logistic_versicolor\" / (earth_model_cte_logistic.\"Logistic_setosa\" + earth_model_cte_logistic.\"Logistic_versicolor\" + earth_model_cte_logistic.\"Logistic_virginica\") AS \"Proba_versicolor\", earth_model_cte_logistic.\"Logistic_virginica\" / (earth_model_cte_logistic.\"Logistic_setosa\" + earth_model_cte_logistic.\"Logistic_versicolor\" + earth_model_cte_logistic.\"Logistic_virginica\") AS \"Proba_virginica\", CAST(NULL AS FLOAT) AS \"LogProba_setosa\", CAST(NULL AS FLOAT) AS \"LogProba_versicolor\", CAST(NULL AS FLOAT) AS \"LogProba_virginica\", CAST(NULL AS BIGINT) AS \"Decision\", CAST(NULL AS FLOAT) AS \"DecisionProba\" \n",
      "FROM earth_model_cte_logistic), \n",
      "score_class_union AS \n",
      "(SELECT scu.\"KEY_u\" AS \"KEY_u\", scu.class AS class, scu.\"LogProba\" AS \"LogProba\", scu.\"Proba\" AS \"Proba\", scu.\"Score\" AS \"Score\" \n",
      "FROM (SELECT orig_cte.\"KEY\" AS \"KEY_u\", 'setosa' AS class, orig_cte.\"LogProba_setosa\" AS \"LogProba\", orig_cte.\"Proba_setosa\" AS \"Proba\", orig_cte.\"Score_setosa\" AS \"Score\" \n",
      "FROM orig_cte UNION ALL SELECT orig_cte.\"KEY\" AS \"KEY_u\", 'versicolor' AS class, orig_cte.\"LogProba_versicolor\" AS \"LogProba\", orig_cte.\"Proba_versicolor\" AS \"Proba\", orig_cte.\"Score_versicolor\" AS \"Score\" \n",
      "FROM orig_cte UNION ALL SELECT orig_cte.\"KEY\" AS \"KEY_u\", 'virginica' AS class, orig_cte.\"LogProba_virginica\" AS \"LogProba\", orig_cte.\"Proba_virginica\" AS \"Proba\", orig_cte.\"Score_virginica\" AS \"Score\" \n",
      "FROM orig_cte) AS scu), \n",
      "score_max AS \n",
      "(SELECT orig_cte.\"KEY\" AS \"KEY\", orig_cte.\"Score_setosa\" AS \"Score_setosa\", orig_cte.\"Score_versicolor\" AS \"Score_versicolor\", orig_cte.\"Score_virginica\" AS \"Score_virginica\", orig_cte.\"Proba_setosa\" AS \"Proba_setosa\", orig_cte.\"Proba_versicolor\" AS \"Proba_versicolor\", orig_cte.\"Proba_virginica\" AS \"Proba_virginica\", orig_cte.\"LogProba_setosa\" AS \"LogProba_setosa\", orig_cte.\"LogProba_versicolor\" AS \"LogProba_versicolor\", orig_cte.\"LogProba_virginica\" AS \"LogProba_virginica\", orig_cte.\"Decision\" AS \"Decision\", orig_cte.\"DecisionProba\" AS \"DecisionProba\", max_select.\"KEY_m\" AS \"KEY_m\", max_select.\"max_Proba\" AS \"max_Proba\" \n",
      "FROM orig_cte LEFT OUTER JOIN (SELECT score_class_union.\"KEY_u\" AS \"KEY_m\", max(score_class_union.\"Proba\") AS \"max_Proba\" \n",
      "FROM score_class_union GROUP BY score_class_union.\"KEY_u\") AS max_select ON orig_cte.\"KEY\" = max_select.\"KEY_m\"), \n",
      "union_with_max AS \n",
      "(SELECT score_class_union.\"KEY_u\" AS \"KEY_u\", score_class_union.class AS class, score_class_union.\"LogProba\" AS \"LogProba\", score_class_union.\"Proba\" AS \"Proba\", score_class_union.\"Score\" AS \"Score\", score_max.\"KEY\" AS \"KEY\", score_max.\"Score_setosa\" AS \"Score_setosa\", score_max.\"Score_versicolor\" AS \"Score_versicolor\", score_max.\"Score_virginica\" AS \"Score_virginica\", score_max.\"Proba_setosa\" AS \"Proba_setosa\", score_max.\"Proba_versicolor\" AS \"Proba_versicolor\", score_max.\"Proba_virginica\" AS \"Proba_virginica\", score_max.\"LogProba_setosa\" AS \"LogProba_setosa\", score_max.\"LogProba_versicolor\" AS \"LogProba_versicolor\", score_max.\"LogProba_virginica\" AS \"LogProba_virginica\", score_max.\"Decision\" AS \"Decision\", score_max.\"DecisionProba\" AS \"DecisionProba\", score_max.\"KEY_m\" AS \"KEY_m\", score_max.\"max_Proba\" AS \"max_Proba\" \n",
      "FROM score_class_union LEFT OUTER JOIN score_max ON score_class_union.\"KEY_u\" = score_max.\"KEY\"), \n",
      "arg_max_cte AS \n",
      "(SELECT score_max.\"KEY\" AS \"KEY\", score_max.\"Score_setosa\" AS \"Score_setosa\", score_max.\"Score_versicolor\" AS \"Score_versicolor\", score_max.\"Score_virginica\" AS \"Score_virginica\", score_max.\"Proba_setosa\" AS \"Proba_setosa\", score_max.\"Proba_versicolor\" AS \"Proba_versicolor\", score_max.\"Proba_virginica\" AS \"Proba_virginica\", score_max.\"LogProba_setosa\" AS \"LogProba_setosa\", score_max.\"LogProba_versicolor\" AS \"LogProba_versicolor\", score_max.\"LogProba_virginica\" AS \"LogProba_virginica\", score_max.\"Decision\" AS \"Decision\", score_max.\"DecisionProba\" AS \"DecisionProba\", score_max.\"KEY_m\" AS \"KEY_m\", score_max.\"max_Proba\" AS \"max_Proba\", \"arg_max_t_Proba\".\"KEY_Proba\" AS \"KEY_Proba\", \"arg_max_t_Proba\".\"arg_max_Proba\" AS \"arg_max_Proba\" \n",
      "FROM score_max LEFT OUTER JOIN (SELECT union_with_max.\"KEY\" AS \"KEY_Proba\", max(union_with_max.class) AS \"arg_max_Proba\" \n",
      "FROM union_with_max \n",
      "WHERE union_with_max.\"max_Proba\" <= union_with_max.\"Proba\" GROUP BY union_with_max.\"KEY\") AS \"arg_max_t_Proba\" ON score_max.\"KEY\" = \"arg_max_t_Proba\".\"KEY_Proba\")\n",
      " SELECT arg_max_cte.\"KEY\" AS \"KEY\", CAST(NULL AS FLOAT) AS \"Score_setosa\", CAST(NULL AS FLOAT) AS \"Score_versicolor\", CAST(NULL AS FLOAT) AS \"Score_virginica\", arg_max_cte.\"Proba_setosa\" AS \"Proba_setosa\", arg_max_cte.\"Proba_versicolor\" AS \"Proba_versicolor\", arg_max_cte.\"Proba_virginica\" AS \"Proba_virginica\", CASE WHEN (arg_max_cte.\"Proba_setosa\" IS NULL OR arg_max_cte.\"Proba_setosa\" > 0.0) THEN ln(arg_max_cte.\"Proba_setosa\") ELSE -1.79769313486231e+308 END AS \"LogProba_setosa\", CASE WHEN (arg_max_cte.\"Proba_versicolor\" IS NULL OR arg_max_cte.\"Proba_versicolor\" > 0.0) THEN ln(arg_max_cte.\"Proba_versicolor\") ELSE -1.79769313486231e+308 END AS \"LogProba_versicolor\", CASE WHEN (arg_max_cte.\"Proba_virginica\" IS NULL OR arg_max_cte.\"Proba_virginica\" > 0.0) THEN ln(arg_max_cte.\"Proba_virginica\") ELSE -1.79769313486231e+308 END AS \"LogProba_virginica\", arg_max_cte.\"arg_max_Proba\" AS \"Decision\", arg_max_cte.\"max_Proba\" AS \"DecisionProba\" \n",
      "FROM arg_max_cte"
     ]
    }
   ],
   "source": [
    "lModelSQL = test_ws_sql_gen(model)\n",
    "cat(lModelSQL)"
   ]
  },
  {
   "cell_type": "markdown",
   "metadata": {},
   "source": [
    "# Execute the SQL Code"
   ]
  },
  {
   "cell_type": "code",
   "execution_count": 7,
   "metadata": {},
   "outputs": [
    {
     "data": {
      "text/html": [
       "0"
      ],
      "text/latex": [
       "0"
      ],
      "text/markdown": [
       "0"
      ],
      "text/plain": [
       "[1] 0"
      ]
     },
     "metadata": {},
     "output_type": "display_data"
    }
   ],
   "source": [
    "library(RODBC)\n",
    "conn = odbcConnect(\"pgsql\", uid=\"db\", pwd=\"db\", case=\"nochange\")\n",
    "odbcSetAutoCommit(conn , autoCommit = TRUE)"
   ]
  },
  {
   "cell_type": "code",
   "execution_count": 8,
   "metadata": {
    "scrolled": true
   },
   "outputs": [
    {
     "data": {
      "text/html": [
       "<table>\n",
       "<thead><tr><th scope=col>Feature_0</th><th scope=col>Feature_1</th><th scope=col>Feature_2</th><th scope=col>Feature_3</th><th scope=col>KEY</th></tr></thead>\n",
       "<tbody>\n",
       "\t<tr><td>5.1</td><td>3.5</td><td>1.4</td><td>0.2</td><td>1  </td></tr>\n",
       "\t<tr><td>4.9</td><td>3.0</td><td>1.4</td><td>0.2</td><td>2  </td></tr>\n",
       "\t<tr><td>4.7</td><td>3.2</td><td>1.3</td><td>0.2</td><td>3  </td></tr>\n",
       "\t<tr><td>4.6</td><td>3.1</td><td>1.5</td><td>0.2</td><td>4  </td></tr>\n",
       "\t<tr><td>5.0</td><td>3.6</td><td>1.4</td><td>0.2</td><td>5  </td></tr>\n",
       "\t<tr><td>5.4</td><td>3.9</td><td>1.7</td><td>0.4</td><td>6  </td></tr>\n",
       "</tbody>\n",
       "</table>\n"
      ],
      "text/latex": [
       "\\begin{tabular}{r|lllll}\n",
       " Feature\\_0 & Feature\\_1 & Feature\\_2 & Feature\\_3 & KEY\\\\\n",
       "\\hline\n",
       "\t 5.1 & 3.5 & 1.4 & 0.2 & 1  \\\\\n",
       "\t 4.9 & 3.0 & 1.4 & 0.2 & 2  \\\\\n",
       "\t 4.7 & 3.2 & 1.3 & 0.2 & 3  \\\\\n",
       "\t 4.6 & 3.1 & 1.5 & 0.2 & 4  \\\\\n",
       "\t 5.0 & 3.6 & 1.4 & 0.2 & 5  \\\\\n",
       "\t 5.4 & 3.9 & 1.7 & 0.4 & 6  \\\\\n",
       "\\end{tabular}\n"
      ],
      "text/markdown": [
       "\n",
       "Feature_0 | Feature_1 | Feature_2 | Feature_3 | KEY | \n",
       "|---|---|---|---|---|---|\n",
       "| 5.1 | 3.5 | 1.4 | 0.2 | 1   | \n",
       "| 4.9 | 3.0 | 1.4 | 0.2 | 2   | \n",
       "| 4.7 | 3.2 | 1.3 | 0.2 | 3   | \n",
       "| 4.6 | 3.1 | 1.5 | 0.2 | 4   | \n",
       "| 5.0 | 3.6 | 1.4 | 0.2 | 5   | \n",
       "| 5.4 | 3.9 | 1.7 | 0.4 | 6   | \n",
       "\n",
       "\n"
      ],
      "text/plain": [
       "  Feature_0 Feature_1 Feature_2 Feature_3 KEY\n",
       "1 5.1       3.5       1.4       0.2       1  \n",
       "2 4.9       3.0       1.4       0.2       2  \n",
       "3 4.7       3.2       1.3       0.2       3  \n",
       "4 4.6       3.1       1.5       0.2       4  \n",
       "5 5.0       3.6       1.4       0.2       5  \n",
       "6 5.4       3.9       1.7       0.4       6  "
      ]
     },
     "metadata": {},
     "output_type": "display_data"
    }
   ],
   "source": [
    "dataset = iris[,-5]\n",
    "\n",
    "df_sql = as.data.frame(dataset)\n",
    "names(df_sql) = sprintf(\"Feature_%d\",0:(ncol(df_sql)-1))\n",
    "df_sql$KEY = seq.int(nrow(dataset))\n",
    "\n",
    "sqlDrop(conn , \"INPUT_DATA\" , errors = FALSE)\n",
    "sqlSave(conn, df_sql, tablename = \"INPUT_DATA\", verbose = FALSE)\n",
    "\n",
    "head(df_sql)"
   ]
  },
  {
   "cell_type": "code",
   "execution_count": 9,
   "metadata": {},
   "outputs": [],
   "source": [
    "# colnames(df_sql)\n",
    "# odbcGetInfo(conn)\n",
    "# sqlTables(conn)"
   ]
  },
  {
   "cell_type": "code",
   "execution_count": 10,
   "metadata": {},
   "outputs": [
    {
     "data": {
      "text/html": [
       "<table>\n",
       "<thead><tr><th scope=col>KEY</th><th scope=col>Score_setosa</th><th scope=col>Score_versicolor</th><th scope=col>Score_virginica</th><th scope=col>Proba_setosa</th><th scope=col>Proba_versicolor</th><th scope=col>Proba_virginica</th><th scope=col>LogProba_setosa</th><th scope=col>LogProba_versicolor</th><th scope=col>LogProba_virginica</th><th scope=col>Decision</th><th scope=col>DecisionProba</th></tr></thead>\n",
       "<tbody>\n",
       "\t<tr><td>1            </td><td>NA           </td><td>NA           </td><td>NA           </td><td>1            </td><td>2.024889e-11 </td><td>2.179462e-11 </td><td>-4.204348e-11</td><td>-24.62292    </td><td>-24.54936    </td><td>setosa       </td><td>1            </td></tr>\n",
       "\t<tr><td>2            </td><td>NA           </td><td>NA           </td><td>NA           </td><td>1            </td><td>2.024889e-11 </td><td>2.179462e-11 </td><td>-4.204348e-11</td><td>-24.62292    </td><td>-24.54936    </td><td>setosa       </td><td>1            </td></tr>\n",
       "\t<tr><td>3            </td><td>NA           </td><td>NA           </td><td>NA           </td><td>1            </td><td>2.024889e-11 </td><td>2.179462e-11 </td><td>-4.204348e-11</td><td>-24.62292    </td><td>-24.54936    </td><td>setosa       </td><td>1            </td></tr>\n",
       "\t<tr><td>4            </td><td>NA           </td><td>NA           </td><td>NA           </td><td>1            </td><td>2.024889e-11 </td><td>2.179462e-11 </td><td>-4.204348e-11</td><td>-24.62292    </td><td>-24.54936    </td><td>setosa       </td><td>1            </td></tr>\n",
       "\t<tr><td>5            </td><td>NA           </td><td>NA           </td><td>NA           </td><td>1            </td><td>2.024889e-11 </td><td>2.179462e-11 </td><td>-4.204348e-11</td><td>-24.62292    </td><td>-24.54936    </td><td>setosa       </td><td>1            </td></tr>\n",
       "\t<tr><td>6            </td><td>NA           </td><td>NA           </td><td>NA           </td><td>1            </td><td>2.024889e-11 </td><td>2.179462e-11 </td><td>-4.204348e-11</td><td>-24.62292    </td><td>-24.54936    </td><td>setosa       </td><td>1            </td></tr>\n",
       "</tbody>\n",
       "</table>\n"
      ],
      "text/latex": [
       "\\begin{tabular}{r|llllllllllll}\n",
       " KEY & Score\\_setosa & Score\\_versicolor & Score\\_virginica & Proba\\_setosa & Proba\\_versicolor & Proba\\_virginica & LogProba\\_setosa & LogProba\\_versicolor & LogProba\\_virginica & Decision & DecisionProba\\\\\n",
       "\\hline\n",
       "\t 1             & NA            & NA            & NA            & 1             & 2.024889e-11  & 2.179462e-11  & -4.204348e-11 & -24.62292     & -24.54936     & setosa        & 1            \\\\\n",
       "\t 2             & NA            & NA            & NA            & 1             & 2.024889e-11  & 2.179462e-11  & -4.204348e-11 & -24.62292     & -24.54936     & setosa        & 1            \\\\\n",
       "\t 3             & NA            & NA            & NA            & 1             & 2.024889e-11  & 2.179462e-11  & -4.204348e-11 & -24.62292     & -24.54936     & setosa        & 1            \\\\\n",
       "\t 4             & NA            & NA            & NA            & 1             & 2.024889e-11  & 2.179462e-11  & -4.204348e-11 & -24.62292     & -24.54936     & setosa        & 1            \\\\\n",
       "\t 5             & NA            & NA            & NA            & 1             & 2.024889e-11  & 2.179462e-11  & -4.204348e-11 & -24.62292     & -24.54936     & setosa        & 1            \\\\\n",
       "\t 6             & NA            & NA            & NA            & 1             & 2.024889e-11  & 2.179462e-11  & -4.204348e-11 & -24.62292     & -24.54936     & setosa        & 1            \\\\\n",
       "\\end{tabular}\n"
      ],
      "text/markdown": [
       "\n",
       "KEY | Score_setosa | Score_versicolor | Score_virginica | Proba_setosa | Proba_versicolor | Proba_virginica | LogProba_setosa | LogProba_versicolor | LogProba_virginica | Decision | DecisionProba | \n",
       "|---|---|---|---|---|---|\n",
       "| 1             | NA            | NA            | NA            | 1             | 2.024889e-11  | 2.179462e-11  | -4.204348e-11 | -24.62292     | -24.54936     | setosa        | 1             | \n",
       "| 2             | NA            | NA            | NA            | 1             | 2.024889e-11  | 2.179462e-11  | -4.204348e-11 | -24.62292     | -24.54936     | setosa        | 1             | \n",
       "| 3             | NA            | NA            | NA            | 1             | 2.024889e-11  | 2.179462e-11  | -4.204348e-11 | -24.62292     | -24.54936     | setosa        | 1             | \n",
       "| 4             | NA            | NA            | NA            | 1             | 2.024889e-11  | 2.179462e-11  | -4.204348e-11 | -24.62292     | -24.54936     | setosa        | 1             | \n",
       "| 5             | NA            | NA            | NA            | 1             | 2.024889e-11  | 2.179462e-11  | -4.204348e-11 | -24.62292     | -24.54936     | setosa        | 1             | \n",
       "| 6             | NA            | NA            | NA            | 1             | 2.024889e-11  | 2.179462e-11  | -4.204348e-11 | -24.62292     | -24.54936     | setosa        | 1             | \n",
       "\n",
       "\n"
      ],
      "text/plain": [
       "  KEY Score_setosa Score_versicolor Score_virginica Proba_setosa\n",
       "1 1   NA           NA               NA              1           \n",
       "2 2   NA           NA               NA              1           \n",
       "3 3   NA           NA               NA              1           \n",
       "4 4   NA           NA               NA              1           \n",
       "5 5   NA           NA               NA              1           \n",
       "6 6   NA           NA               NA              1           \n",
       "  Proba_versicolor Proba_virginica LogProba_setosa LogProba_versicolor\n",
       "1 2.024889e-11     2.179462e-11    -4.204348e-11   -24.62292          \n",
       "2 2.024889e-11     2.179462e-11    -4.204348e-11   -24.62292          \n",
       "3 2.024889e-11     2.179462e-11    -4.204348e-11   -24.62292          \n",
       "4 2.024889e-11     2.179462e-11    -4.204348e-11   -24.62292          \n",
       "5 2.024889e-11     2.179462e-11    -4.204348e-11   -24.62292          \n",
       "6 2.024889e-11     2.179462e-11    -4.204348e-11   -24.62292          \n",
       "  LogProba_virginica Decision DecisionProba\n",
       "1 -24.54936          setosa   1            \n",
       "2 -24.54936          setosa   1            \n",
       "3 -24.54936          setosa   1            \n",
       "4 -24.54936          setosa   1            \n",
       "5 -24.54936          setosa   1            \n",
       "6 -24.54936          setosa   1            "
      ]
     },
     "metadata": {},
     "output_type": "display_data"
    }
   ],
   "source": [
    "df_sql_out = sqlQuery(conn, lModelSQL)\n",
    "head(df_sql_out)"
   ]
  },
  {
   "cell_type": "markdown",
   "metadata": {},
   "source": [
    "# R GLM Output"
   ]
  },
  {
   "cell_type": "code",
   "execution_count": 11,
   "metadata": {},
   "outputs": [
    {
     "data": {
      "text/html": [
       "<table>\n",
       "<thead><tr><th scope=col>Proba_setosa</th><th scope=col>Proba_versicolor</th><th scope=col>Proba_virginica</th><th scope=col>KEY</th><th scope=col>Score_setosa</th><th scope=col>Score_versicolor</th><th scope=col>Score_virginica</th><th scope=col>LogProba_setosa</th><th scope=col>LogProba_versicolor</th><th scope=col>LogProba_virginica</th><th scope=col>Decision</th><th scope=col>DecisionProba</th></tr></thead>\n",
       "<tbody>\n",
       "\t<tr><td>1            </td><td>2.024889e-11 </td><td>2.179462e-11 </td><td>1            </td><td>NA           </td><td>NA           </td><td>NA           </td><td>-4.204359e-11</td><td>-24.62292    </td><td>-24.54936    </td><td>setosa       </td><td>1            </td></tr>\n",
       "\t<tr><td>1            </td><td>2.024889e-11 </td><td>2.179462e-11 </td><td>2            </td><td>NA           </td><td>NA           </td><td>NA           </td><td>-4.204359e-11</td><td>-24.62292    </td><td>-24.54936    </td><td>setosa       </td><td>1            </td></tr>\n",
       "\t<tr><td>1            </td><td>2.024889e-11 </td><td>2.179462e-11 </td><td>3            </td><td>NA           </td><td>NA           </td><td>NA           </td><td>-4.204359e-11</td><td>-24.62292    </td><td>-24.54936    </td><td>setosa       </td><td>1            </td></tr>\n",
       "\t<tr><td>1            </td><td>2.024889e-11 </td><td>2.179462e-11 </td><td>4            </td><td>NA           </td><td>NA           </td><td>NA           </td><td>-4.204359e-11</td><td>-24.62292    </td><td>-24.54936    </td><td>setosa       </td><td>1            </td></tr>\n",
       "\t<tr><td>1            </td><td>2.024889e-11 </td><td>2.179462e-11 </td><td>5            </td><td>NA           </td><td>NA           </td><td>NA           </td><td>-4.204359e-11</td><td>-24.62292    </td><td>-24.54936    </td><td>setosa       </td><td>1            </td></tr>\n",
       "\t<tr><td>1            </td><td>2.024889e-11 </td><td>2.179462e-11 </td><td>6            </td><td>NA           </td><td>NA           </td><td>NA           </td><td>-4.204359e-11</td><td>-24.62292    </td><td>-24.54936    </td><td>setosa       </td><td>1            </td></tr>\n",
       "</tbody>\n",
       "</table>\n"
      ],
      "text/latex": [
       "\\begin{tabular}{r|llllllllllll}\n",
       " Proba\\_setosa & Proba\\_versicolor & Proba\\_virginica & KEY & Score\\_setosa & Score\\_versicolor & Score\\_virginica & LogProba\\_setosa & LogProba\\_versicolor & LogProba\\_virginica & Decision & DecisionProba\\\\\n",
       "\\hline\n",
       "\t 1             & 2.024889e-11  & 2.179462e-11  & 1             & NA            & NA            & NA            & -4.204359e-11 & -24.62292     & -24.54936     & setosa        & 1            \\\\\n",
       "\t 1             & 2.024889e-11  & 2.179462e-11  & 2             & NA            & NA            & NA            & -4.204359e-11 & -24.62292     & -24.54936     & setosa        & 1            \\\\\n",
       "\t 1             & 2.024889e-11  & 2.179462e-11  & 3             & NA            & NA            & NA            & -4.204359e-11 & -24.62292     & -24.54936     & setosa        & 1            \\\\\n",
       "\t 1             & 2.024889e-11  & 2.179462e-11  & 4             & NA            & NA            & NA            & -4.204359e-11 & -24.62292     & -24.54936     & setosa        & 1            \\\\\n",
       "\t 1             & 2.024889e-11  & 2.179462e-11  & 5             & NA            & NA            & NA            & -4.204359e-11 & -24.62292     & -24.54936     & setosa        & 1            \\\\\n",
       "\t 1             & 2.024889e-11  & 2.179462e-11  & 6             & NA            & NA            & NA            & -4.204359e-11 & -24.62292     & -24.54936     & setosa        & 1            \\\\\n",
       "\\end{tabular}\n"
      ],
      "text/markdown": [
       "\n",
       "Proba_setosa | Proba_versicolor | Proba_virginica | KEY | Score_setosa | Score_versicolor | Score_virginica | LogProba_setosa | LogProba_versicolor | LogProba_virginica | Decision | DecisionProba | \n",
       "|---|---|---|---|---|---|\n",
       "| 1             | 2.024889e-11  | 2.179462e-11  | 1             | NA            | NA            | NA            | -4.204359e-11 | -24.62292     | -24.54936     | setosa        | 1             | \n",
       "| 1             | 2.024889e-11  | 2.179462e-11  | 2             | NA            | NA            | NA            | -4.204359e-11 | -24.62292     | -24.54936     | setosa        | 1             | \n",
       "| 1             | 2.024889e-11  | 2.179462e-11  | 3             | NA            | NA            | NA            | -4.204359e-11 | -24.62292     | -24.54936     | setosa        | 1             | \n",
       "| 1             | 2.024889e-11  | 2.179462e-11  | 4             | NA            | NA            | NA            | -4.204359e-11 | -24.62292     | -24.54936     | setosa        | 1             | \n",
       "| 1             | 2.024889e-11  | 2.179462e-11  | 5             | NA            | NA            | NA            | -4.204359e-11 | -24.62292     | -24.54936     | setosa        | 1             | \n",
       "| 1             | 2.024889e-11  | 2.179462e-11  | 6             | NA            | NA            | NA            | -4.204359e-11 | -24.62292     | -24.54936     | setosa        | 1             | \n",
       "\n",
       "\n"
      ],
      "text/plain": [
       "  Proba_setosa Proba_versicolor Proba_virginica KEY Score_setosa\n",
       "1 1            2.024889e-11     2.179462e-11    1   NA          \n",
       "2 1            2.024889e-11     2.179462e-11    2   NA          \n",
       "3 1            2.024889e-11     2.179462e-11    3   NA          \n",
       "4 1            2.024889e-11     2.179462e-11    4   NA          \n",
       "5 1            2.024889e-11     2.179462e-11    5   NA          \n",
       "6 1            2.024889e-11     2.179462e-11    6   NA          \n",
       "  Score_versicolor Score_virginica LogProba_setosa LogProba_versicolor\n",
       "1 NA               NA              -4.204359e-11   -24.62292          \n",
       "2 NA               NA              -4.204359e-11   -24.62292          \n",
       "3 NA               NA              -4.204359e-11   -24.62292          \n",
       "4 NA               NA              -4.204359e-11   -24.62292          \n",
       "5 NA               NA              -4.204359e-11   -24.62292          \n",
       "6 NA               NA              -4.204359e-11   -24.62292          \n",
       "  LogProba_virginica Decision DecisionProba\n",
       "1 -24.54936          setosa   1            \n",
       "2 -24.54936          setosa   1            \n",
       "3 -24.54936          setosa   1            \n",
       "4 -24.54936          setosa   1            \n",
       "5 -24.54936          setosa   1            \n",
       "6 -24.54936          setosa   1            "
      ]
     },
     "metadata": {},
     "output_type": "display_data"
    }
   ],
   "source": [
    "pred_proba  =  predict(model, as.matrix(iris[,-5]), type = \"prob\")\n",
    "df_r_out = data.frame(pred_proba)\n",
    "names(df_r_out) = sprintf(\"Proba_%s\",model$levels)\n",
    "\n",
    "df_r_out$KEY = seq.int(nrow(dataset))\n",
    "df_r_out$Score_setosa  =  NA\n",
    "df_r_out$Score_versicolor  =  NA\n",
    "df_r_out$Score_virginica  =  NA\n",
    "df_r_out$LogProba_setosa  =  log(df_r_out$Proba_setosa)\n",
    "df_r_out$LogProba_versicolor =  log(df_r_out$Proba_versicolor)\n",
    "df_r_out$LogProba_virginica  =  log(df_r_out$Proba_virginica)\n",
    "df_r_out$Decision =   predict(model, as.matrix(iris[,-5]), type = \"raw\")\n",
    "df_r_out$DecisionProba =  apply(pred_proba, 1, function(x) max(x))\n",
    "head(df_r_out)\n",
    "\n"
   ]
  },
  {
   "cell_type": "markdown",
   "metadata": {},
   "source": [
    "# Compare R and SQL output"
   ]
  },
  {
   "cell_type": "code",
   "execution_count": 12,
   "metadata": {},
   "outputs": [
    {
     "data": {
      "text/html": [
       "<table>\n",
       "<thead><tr><th scope=col>KEY</th><th scope=col>Proba_setosa_1</th><th scope=col>Proba_versicolor_1</th><th scope=col>Proba_virginica_1</th><th scope=col>Score_setosa_1</th><th scope=col>Score_versicolor_1</th><th scope=col>Score_virginica_1</th><th scope=col>LogProba_setosa_1</th><th scope=col>LogProba_versicolor_1</th><th scope=col>LogProba_virginica_1</th><th scope=col>⋯</th><th scope=col>Score_versicolor_2</th><th scope=col>Score_virginica_2</th><th scope=col>Proba_setosa_2</th><th scope=col>Proba_versicolor_2</th><th scope=col>Proba_virginica_2</th><th scope=col>LogProba_setosa_2</th><th scope=col>LogProba_versicolor_2</th><th scope=col>LogProba_virginica_2</th><th scope=col>Decision_2</th><th scope=col>DecisionProba_2</th></tr></thead>\n",
       "<tbody>\n",
       "\t<tr><td>1            </td><td>1            </td><td>2.024889e-11 </td><td>2.179462e-11 </td><td>NA           </td><td>NA           </td><td>NA           </td><td>-4.204359e-11</td><td>-24.62292    </td><td>-24.54936    </td><td>⋯            </td><td>NA           </td><td>NA           </td><td>1            </td><td>2.024889e-11 </td><td>2.179462e-11 </td><td>-4.204348e-11</td><td>-24.62292    </td><td>-24.54936    </td><td>setosa       </td><td>1            </td></tr>\n",
       "\t<tr><td>2            </td><td>1            </td><td>2.024889e-11 </td><td>2.179462e-11 </td><td>NA           </td><td>NA           </td><td>NA           </td><td>-4.204359e-11</td><td>-24.62292    </td><td>-24.54936    </td><td>⋯            </td><td>NA           </td><td>NA           </td><td>1            </td><td>2.024889e-11 </td><td>2.179462e-11 </td><td>-4.204348e-11</td><td>-24.62292    </td><td>-24.54936    </td><td>setosa       </td><td>1            </td></tr>\n",
       "\t<tr><td>3            </td><td>1            </td><td>2.024889e-11 </td><td>2.179462e-11 </td><td>NA           </td><td>NA           </td><td>NA           </td><td>-4.204359e-11</td><td>-24.62292    </td><td>-24.54936    </td><td>⋯            </td><td>NA           </td><td>NA           </td><td>1            </td><td>2.024889e-11 </td><td>2.179462e-11 </td><td>-4.204348e-11</td><td>-24.62292    </td><td>-24.54936    </td><td>setosa       </td><td>1            </td></tr>\n",
       "\t<tr><td>4            </td><td>1            </td><td>2.024889e-11 </td><td>2.179462e-11 </td><td>NA           </td><td>NA           </td><td>NA           </td><td>-4.204359e-11</td><td>-24.62292    </td><td>-24.54936    </td><td>⋯            </td><td>NA           </td><td>NA           </td><td>1            </td><td>2.024889e-11 </td><td>2.179462e-11 </td><td>-4.204348e-11</td><td>-24.62292    </td><td>-24.54936    </td><td>setosa       </td><td>1            </td></tr>\n",
       "\t<tr><td>5            </td><td>1            </td><td>2.024889e-11 </td><td>2.179462e-11 </td><td>NA           </td><td>NA           </td><td>NA           </td><td>-4.204359e-11</td><td>-24.62292    </td><td>-24.54936    </td><td>⋯            </td><td>NA           </td><td>NA           </td><td>1            </td><td>2.024889e-11 </td><td>2.179462e-11 </td><td>-4.204348e-11</td><td>-24.62292    </td><td>-24.54936    </td><td>setosa       </td><td>1            </td></tr>\n",
       "\t<tr><td>6            </td><td>1            </td><td>2.024889e-11 </td><td>2.179462e-11 </td><td>NA           </td><td>NA           </td><td>NA           </td><td>-4.204359e-11</td><td>-24.62292    </td><td>-24.54936    </td><td>⋯            </td><td>NA           </td><td>NA           </td><td>1            </td><td>2.024889e-11 </td><td>2.179462e-11 </td><td>-4.204348e-11</td><td>-24.62292    </td><td>-24.54936    </td><td>setosa       </td><td>1            </td></tr>\n",
       "</tbody>\n",
       "</table>\n"
      ],
      "text/latex": [
       "\\begin{tabular}{r|lllllllllllllllllllllll}\n",
       " KEY & Proba\\_setosa\\_1 & Proba\\_versicolor\\_1 & Proba\\_virginica\\_1 & Score\\_setosa\\_1 & Score\\_versicolor\\_1 & Score\\_virginica\\_1 & LogProba\\_setosa\\_1 & LogProba\\_versicolor\\_1 & LogProba\\_virginica\\_1 & ⋯ & Score\\_versicolor\\_2 & Score\\_virginica\\_2 & Proba\\_setosa\\_2 & Proba\\_versicolor\\_2 & Proba\\_virginica\\_2 & LogProba\\_setosa\\_2 & LogProba\\_versicolor\\_2 & LogProba\\_virginica\\_2 & Decision\\_2 & DecisionProba\\_2\\\\\n",
       "\\hline\n",
       "\t 1             & 1             & 2.024889e-11  & 2.179462e-11  & NA            & NA            & NA            & -4.204359e-11 & -24.62292     & -24.54936     & ⋯             & NA            & NA            & 1             & 2.024889e-11  & 2.179462e-11  & -4.204348e-11 & -24.62292     & -24.54936     & setosa        & 1            \\\\\n",
       "\t 2             & 1             & 2.024889e-11  & 2.179462e-11  & NA            & NA            & NA            & -4.204359e-11 & -24.62292     & -24.54936     & ⋯             & NA            & NA            & 1             & 2.024889e-11  & 2.179462e-11  & -4.204348e-11 & -24.62292     & -24.54936     & setosa        & 1            \\\\\n",
       "\t 3             & 1             & 2.024889e-11  & 2.179462e-11  & NA            & NA            & NA            & -4.204359e-11 & -24.62292     & -24.54936     & ⋯             & NA            & NA            & 1             & 2.024889e-11  & 2.179462e-11  & -4.204348e-11 & -24.62292     & -24.54936     & setosa        & 1            \\\\\n",
       "\t 4             & 1             & 2.024889e-11  & 2.179462e-11  & NA            & NA            & NA            & -4.204359e-11 & -24.62292     & -24.54936     & ⋯             & NA            & NA            & 1             & 2.024889e-11  & 2.179462e-11  & -4.204348e-11 & -24.62292     & -24.54936     & setosa        & 1            \\\\\n",
       "\t 5             & 1             & 2.024889e-11  & 2.179462e-11  & NA            & NA            & NA            & -4.204359e-11 & -24.62292     & -24.54936     & ⋯             & NA            & NA            & 1             & 2.024889e-11  & 2.179462e-11  & -4.204348e-11 & -24.62292     & -24.54936     & setosa        & 1            \\\\\n",
       "\t 6             & 1             & 2.024889e-11  & 2.179462e-11  & NA            & NA            & NA            & -4.204359e-11 & -24.62292     & -24.54936     & ⋯             & NA            & NA            & 1             & 2.024889e-11  & 2.179462e-11  & -4.204348e-11 & -24.62292     & -24.54936     & setosa        & 1            \\\\\n",
       "\\end{tabular}\n"
      ],
      "text/markdown": [
       "\n",
       "KEY | Proba_setosa_1 | Proba_versicolor_1 | Proba_virginica_1 | Score_setosa_1 | Score_versicolor_1 | Score_virginica_1 | LogProba_setosa_1 | LogProba_versicolor_1 | LogProba_virginica_1 | ⋯ | Score_versicolor_2 | Score_virginica_2 | Proba_setosa_2 | Proba_versicolor_2 | Proba_virginica_2 | LogProba_setosa_2 | LogProba_versicolor_2 | LogProba_virginica_2 | Decision_2 | DecisionProba_2 | \n",
       "|---|---|---|---|---|---|\n",
       "| 1             | 1             | 2.024889e-11  | 2.179462e-11  | NA            | NA            | NA            | -4.204359e-11 | -24.62292     | -24.54936     | ⋯             | NA            | NA            | 1             | 2.024889e-11  | 2.179462e-11  | -4.204348e-11 | -24.62292     | -24.54936     | setosa        | 1             | \n",
       "| 2             | 1             | 2.024889e-11  | 2.179462e-11  | NA            | NA            | NA            | -4.204359e-11 | -24.62292     | -24.54936     | ⋯             | NA            | NA            | 1             | 2.024889e-11  | 2.179462e-11  | -4.204348e-11 | -24.62292     | -24.54936     | setosa        | 1             | \n",
       "| 3             | 1             | 2.024889e-11  | 2.179462e-11  | NA            | NA            | NA            | -4.204359e-11 | -24.62292     | -24.54936     | ⋯             | NA            | NA            | 1             | 2.024889e-11  | 2.179462e-11  | -4.204348e-11 | -24.62292     | -24.54936     | setosa        | 1             | \n",
       "| 4             | 1             | 2.024889e-11  | 2.179462e-11  | NA            | NA            | NA            | -4.204359e-11 | -24.62292     | -24.54936     | ⋯             | NA            | NA            | 1             | 2.024889e-11  | 2.179462e-11  | -4.204348e-11 | -24.62292     | -24.54936     | setosa        | 1             | \n",
       "| 5             | 1             | 2.024889e-11  | 2.179462e-11  | NA            | NA            | NA            | -4.204359e-11 | -24.62292     | -24.54936     | ⋯             | NA            | NA            | 1             | 2.024889e-11  | 2.179462e-11  | -4.204348e-11 | -24.62292     | -24.54936     | setosa        | 1             | \n",
       "| 6             | 1             | 2.024889e-11  | 2.179462e-11  | NA            | NA            | NA            | -4.204359e-11 | -24.62292     | -24.54936     | ⋯             | NA            | NA            | 1             | 2.024889e-11  | 2.179462e-11  | -4.204348e-11 | -24.62292     | -24.54936     | setosa        | 1             | \n",
       "\n",
       "\n"
      ],
      "text/plain": [
       "  KEY Proba_setosa_1 Proba_versicolor_1 Proba_virginica_1 Score_setosa_1\n",
       "1 1   1              2.024889e-11       2.179462e-11      NA            \n",
       "2 2   1              2.024889e-11       2.179462e-11      NA            \n",
       "3 3   1              2.024889e-11       2.179462e-11      NA            \n",
       "4 4   1              2.024889e-11       2.179462e-11      NA            \n",
       "5 5   1              2.024889e-11       2.179462e-11      NA            \n",
       "6 6   1              2.024889e-11       2.179462e-11      NA            \n",
       "  Score_versicolor_1 Score_virginica_1 LogProba_setosa_1 LogProba_versicolor_1\n",
       "1 NA                 NA                -4.204359e-11     -24.62292            \n",
       "2 NA                 NA                -4.204359e-11     -24.62292            \n",
       "3 NA                 NA                -4.204359e-11     -24.62292            \n",
       "4 NA                 NA                -4.204359e-11     -24.62292            \n",
       "5 NA                 NA                -4.204359e-11     -24.62292            \n",
       "6 NA                 NA                -4.204359e-11     -24.62292            \n",
       "  LogProba_virginica_1 ⋯ Score_versicolor_2 Score_virginica_2 Proba_setosa_2\n",
       "1 -24.54936            ⋯ NA                 NA                1             \n",
       "2 -24.54936            ⋯ NA                 NA                1             \n",
       "3 -24.54936            ⋯ NA                 NA                1             \n",
       "4 -24.54936            ⋯ NA                 NA                1             \n",
       "5 -24.54936            ⋯ NA                 NA                1             \n",
       "6 -24.54936            ⋯ NA                 NA                1             \n",
       "  Proba_versicolor_2 Proba_virginica_2 LogProba_setosa_2 LogProba_versicolor_2\n",
       "1 2.024889e-11       2.179462e-11      -4.204348e-11     -24.62292            \n",
       "2 2.024889e-11       2.179462e-11      -4.204348e-11     -24.62292            \n",
       "3 2.024889e-11       2.179462e-11      -4.204348e-11     -24.62292            \n",
       "4 2.024889e-11       2.179462e-11      -4.204348e-11     -24.62292            \n",
       "5 2.024889e-11       2.179462e-11      -4.204348e-11     -24.62292            \n",
       "6 2.024889e-11       2.179462e-11      -4.204348e-11     -24.62292            \n",
       "  LogProba_virginica_2 Decision_2 DecisionProba_2\n",
       "1 -24.54936            setosa     1              \n",
       "2 -24.54936            setosa     1              \n",
       "3 -24.54936            setosa     1              \n",
       "4 -24.54936            setosa     1              \n",
       "5 -24.54936            setosa     1              \n",
       "6 -24.54936            setosa     1              "
      ]
     },
     "metadata": {},
     "output_type": "display_data"
    }
   ],
   "source": [
    "df_merge = merge(x = df_r_out, y = df_sql_out, by = \"KEY\", all = TRUE, , suffixes = c(\"_1\",\"_2\"))\n",
    "head(df_merge)"
   ]
  },
  {
   "cell_type": "code",
   "execution_count": null,
   "metadata": {},
   "outputs": [],
   "source": []
  },
  {
   "cell_type": "code",
   "execution_count": 13,
   "metadata": {},
   "outputs": [
    {
     "name": "stderr",
     "output_type": "stream",
     "text": [
      "Warning message in cbind(parts$left, ellip_h, parts$right, deparse.level = 0L):\n",
      "“number of rows of result is not a multiple of vector length (arg 2)”Warning message in cbind(parts$left, ellip_h, parts$right, deparse.level = 0L):\n",
      "“number of rows of result is not a multiple of vector length (arg 2)”Warning message in cbind(parts$left, ellip_h, parts$right, deparse.level = 0L):\n",
      "“number of rows of result is not a multiple of vector length (arg 2)”Warning message in cbind(parts$left, ellip_h, parts$right, deparse.level = 0L):\n",
      "“number of rows of result is not a multiple of vector length (arg 2)”"
     ]
    },
    {
     "data": {
      "text/html": [
       "<table>\n",
       "<thead><tr><th scope=col>KEY</th><th scope=col>Proba_setosa_1</th><th scope=col>Proba_versicolor_1</th><th scope=col>Proba_virginica_1</th><th scope=col>Score_setosa_1</th><th scope=col>Score_versicolor_1</th><th scope=col>Score_virginica_1</th><th scope=col>LogProba_setosa_1</th><th scope=col>LogProba_versicolor_1</th><th scope=col>LogProba_virginica_1</th><th scope=col>⋯</th><th scope=col>Score_versicolor_2</th><th scope=col>Score_virginica_2</th><th scope=col>Proba_setosa_2</th><th scope=col>Proba_versicolor_2</th><th scope=col>Proba_virginica_2</th><th scope=col>LogProba_setosa_2</th><th scope=col>LogProba_versicolor_2</th><th scope=col>LogProba_virginica_2</th><th scope=col>Decision_2</th><th scope=col>DecisionProba_2</th></tr></thead>\n",
       "<tbody>\n",
       "</tbody>\n",
       "</table>\n"
      ],
      "text/latex": [
       "\\begin{tabular}{r|lllllllllllllllllllllll}\n",
       " KEY & Proba\\_setosa\\_1 & Proba\\_versicolor\\_1 & Proba\\_virginica\\_1 & Score\\_setosa\\_1 & Score\\_versicolor\\_1 & Score\\_virginica\\_1 & LogProba\\_setosa\\_1 & LogProba\\_versicolor\\_1 & LogProba\\_virginica\\_1 & ⋯ & Score\\_versicolor\\_2 & Score\\_virginica\\_2 & Proba\\_setosa\\_2 & Proba\\_versicolor\\_2 & Proba\\_virginica\\_2 & LogProba\\_setosa\\_2 & LogProba\\_versicolor\\_2 & LogProba\\_virginica\\_2 & Decision\\_2 & DecisionProba\\_2\\\\\n",
       "\\hline\n",
       "\\end{tabular}\n"
      ],
      "text/markdown": [
       "\n",
       "KEY | Proba_setosa_1 | Proba_versicolor_1 | Proba_virginica_1 | Score_setosa_1 | Score_versicolor_1 | Score_virginica_1 | LogProba_setosa_1 | LogProba_versicolor_1 | LogProba_virginica_1 | ⋯ | Score_versicolor_2 | Score_virginica_2 | Proba_setosa_2 | Proba_versicolor_2 | Proba_virginica_2 | LogProba_setosa_2 | LogProba_versicolor_2 | LogProba_virginica_2 | Decision_2 | DecisionProba_2 | \n",
       "||\n",
       "\n",
       "\n"
      ],
      "text/plain": [
       "     KEY Proba_setosa_1 Proba_versicolor_1 Proba_virginica_1 Score_setosa_1\n",
       "     Score_versicolor_1 Score_virginica_1 LogProba_setosa_1\n",
       "     LogProba_versicolor_1 LogProba_virginica_1 ⋯ Score_versicolor_2\n",
       "     Score_virginica_2 Proba_setosa_2 Proba_versicolor_2 Proba_virginica_2\n",
       "     LogProba_setosa_2 LogProba_versicolor_2 LogProba_virginica_2 Decision_2\n",
       "     DecisionProba_2"
      ]
     },
     "metadata": {},
     "output_type": "display_data"
    }
   ],
   "source": [
    "diffs_df = df_merge[df_merge$Decision_1 != df_merge$Decision_2,]\n",
    "head(diffs_df)"
   ]
  },
  {
   "cell_type": "code",
   "execution_count": 14,
   "metadata": {},
   "outputs": [],
   "source": [
    "stopifnot(nrow(diffs_df) == 0)"
   ]
  },
  {
   "cell_type": "code",
   "execution_count": null,
   "metadata": {},
   "outputs": [],
   "source": []
  },
  {
   "cell_type": "code",
   "execution_count": 15,
   "metadata": {},
   "outputs": [
    {
     "data": {
      "text/plain": [
       "      KEY         Score_setosa   Score_versicolor Score_virginica\n",
       " Min.   :  1.00   Mode:logical   Mode:logical     Mode:logical   \n",
       " 1st Qu.: 38.25   NA's:150       NA's:150         NA's:150       \n",
       " Median : 75.50                                                  \n",
       " Mean   : 75.50                                                  \n",
       " 3rd Qu.:112.75                                                  \n",
       " Max.   :150.00                                                  \n",
       "  Proba_setosa    Proba_versicolor Proba_virginica  LogProba_setosa \n",
       " Min.   :0.0000   Min.   :0.0000   Min.   :0.0000   Min.   :-45.85  \n",
       " 1st Qu.:0.0000   1st Qu.:0.0000   1st Qu.:0.0000   1st Qu.:-26.71  \n",
       " Median :0.0000   Median :0.0000   Median :0.0000   Median :-26.38  \n",
       " Mean   :0.3333   Mean   :0.3333   Mean   :0.3333   Mean   :-19.22  \n",
       " 3rd Qu.:1.0000   3rd Qu.:0.9500   3rd Qu.:1.0000   3rd Qu.:  0.00  \n",
       " Max.   :1.0000   Max.   :1.0000   Max.   :1.0000   Max.   :  0.00  \n",
       " LogProba_versicolor  LogProba_virginica       Decision  DecisionProba   \n",
       " Min.   :-100.00000   Min.   :-100.00    setosa    :50   Min.   :0.5571  \n",
       " 1st Qu.: -24.62292   1st Qu.: -24.55    versicolor:50   1st Qu.:1.0000  \n",
       " Median : -24.62292   Median : -22.29    virginica :50   Median :1.0000  \n",
       " Mean   : -28.44044   Mean   : -22.60                    Mean   :0.9740  \n",
       " 3rd Qu.:  -0.05137   3rd Qu.:   0.00                    3rd Qu.:1.0000  \n",
       " Max.   :   0.00000   Max.   :   0.00                    Max.   :1.0000  "
      ]
     },
     "metadata": {},
     "output_type": "display_data"
    }
   ],
   "source": [
    "summary(df_sql_out)"
   ]
  },
  {
   "cell_type": "code",
   "execution_count": 16,
   "metadata": {},
   "outputs": [
    {
     "data": {
      "text/plain": [
       "  Proba_setosa    Proba_versicolor Proba_virginica       KEY        \n",
       " Min.   :0.0000   Min.   :0.0000   Min.   :0.0000   Min.   :  1.00  \n",
       " 1st Qu.:0.0000   1st Qu.:0.0000   1st Qu.:0.0000   1st Qu.: 38.25  \n",
       " Median :0.0000   Median :0.0000   Median :0.0000   Median : 75.50  \n",
       " Mean   :0.3333   Mean   :0.3333   Mean   :0.3333   Mean   : 75.50  \n",
       " 3rd Qu.:1.0000   3rd Qu.:0.9500   3rd Qu.:1.0000   3rd Qu.:112.75  \n",
       " Max.   :1.0000   Max.   :1.0000   Max.   :1.0000   Max.   :150.00  \n",
       " Score_setosa   Score_versicolor Score_virginica LogProba_setosa \n",
       " Mode:logical   Mode:logical     Mode:logical    Min.   :-36.04  \n",
       " NA's:150       NA's:150         NA's:150        1st Qu.:-26.71  \n",
       "                                                 Median :-26.38  \n",
       "                                                 Mean   :-19.09  \n",
       "                                                 3rd Qu.:  0.00  \n",
       "                                                 Max.   :  0.00  \n",
       " LogProba_versicolor LogProba_virginica       Decision  DecisionProba   \n",
       " Min.   :-36.04365   Min.   :-36.04     setosa    :50   Min.   :0.5571  \n",
       " 1st Qu.:-24.62292   1st Qu.:-24.55     versicolor:50   1st Qu.:1.0000  \n",
       " Median :-24.62292   Median :-22.29     virginica :50   Median :1.0000  \n",
       " Mean   :-17.62313   Mean   :-15.11                     Mean   :0.9740  \n",
       " 3rd Qu.: -0.05137   3rd Qu.:  0.00                     3rd Qu.:1.0000  \n",
       " Max.   :  0.00000   Max.   :  0.00                     Max.   :1.0000  "
      ]
     },
     "metadata": {},
     "output_type": "display_data"
    }
   ],
   "source": [
    "summary(df_r_out)"
   ]
  },
  {
   "cell_type": "code",
   "execution_count": 17,
   "metadata": {},
   "outputs": [],
   "source": [
    "earth1 = model$finalModel"
   ]
  },
  {
   "cell_type": "code",
   "execution_count": 18,
   "metadata": {},
   "outputs": [
    {
     "data": {
      "text/html": [
       "<table>\n",
       "<thead><tr><th></th><th scope=col>Sepal.Length</th><th scope=col>Sepal.Width</th><th scope=col>Petal.Length</th><th scope=col>Petal.Width</th></tr></thead>\n",
       "<tbody>\n",
       "\t<tr><th scope=row>(Intercept)</th><td>0.0</td><td>0.0</td><td>0.0</td><td>0.0</td></tr>\n",
       "\t<tr><th scope=row>h(Petal.Width-1.2)</th><td>0.0</td><td>0.0</td><td>0.0</td><td>1.2</td></tr>\n",
       "\t<tr><th scope=row>h(1.2-Petal.Width)</th><td>0.0</td><td>0.0</td><td>0.0</td><td>1.2</td></tr>\n",
       "\t<tr><th scope=row>h(Petal.Width-1.9)</th><td>0.0</td><td>0.0</td><td>0.0</td><td>1.9</td></tr>\n",
       "\t<tr><th scope=row>h(Petal.Length-4.5)</th><td>0.0</td><td>0.0</td><td>4.5</td><td>0.0</td></tr>\n",
       "\t<tr><th scope=row>h(4.5-Petal.Length)</th><td>0.0</td><td>0.0</td><td>4.5</td><td>0.0</td></tr>\n",
       "\t<tr><th scope=row>h(Petal.Length-5.3)</th><td>0.0</td><td>0.0</td><td>5.3</td><td>0.0</td></tr>\n",
       "\t<tr><th scope=row>h(Sepal.Length-5.4)</th><td>5.4</td><td>0.0</td><td>0.0</td><td>0.0</td></tr>\n",
       "\t<tr><th scope=row>h(5.4-Sepal.Length)</th><td>5.4</td><td>0.0</td><td>0.0</td><td>0.0</td></tr>\n",
       "\t<tr><th scope=row>h(Petal.Length-3.5)</th><td>0.0</td><td>0.0</td><td>3.5</td><td>0.0</td></tr>\n",
       "\t<tr><th scope=row>h(Petal.Width-1.5)</th><td>0.0</td><td>0.0</td><td>0.0</td><td>1.5</td></tr>\n",
       "\t<tr><th scope=row>h(Petal.Length-1.9)</th><td>0.0</td><td>0.0</td><td>1.9</td><td>0.0</td></tr>\n",
       "\t<tr><th scope=row>h(Sepal.Width-3.3)</th><td>0.0</td><td>3.3</td><td>0.0</td><td>0.0</td></tr>\n",
       "\t<tr><th scope=row>h(3.3-Sepal.Width)</th><td>0.0</td><td>3.3</td><td>0.0</td><td>0.0</td></tr>\n",
       "\t<tr><th scope=row>h(Petal.Width-1.8)</th><td>0.0</td><td>0.0</td><td>0.0</td><td>1.8</td></tr>\n",
       "</tbody>\n",
       "</table>\n"
      ],
      "text/latex": [
       "\\begin{tabular}{r|llll}\n",
       "  & Sepal.Length & Sepal.Width & Petal.Length & Petal.Width\\\\\n",
       "\\hline\n",
       "\t(Intercept) & 0.0 & 0.0 & 0.0 & 0.0\\\\\n",
       "\th(Petal.Width-1.2) & 0.0 & 0.0 & 0.0 & 1.2\\\\\n",
       "\th(1.2-Petal.Width) & 0.0 & 0.0 & 0.0 & 1.2\\\\\n",
       "\th(Petal.Width-1.9) & 0.0 & 0.0 & 0.0 & 1.9\\\\\n",
       "\th(Petal.Length-4.5) & 0.0 & 0.0 & 4.5 & 0.0\\\\\n",
       "\th(4.5-Petal.Length) & 0.0 & 0.0 & 4.5 & 0.0\\\\\n",
       "\th(Petal.Length-5.3) & 0.0 & 0.0 & 5.3 & 0.0\\\\\n",
       "\th(Sepal.Length-5.4) & 5.4 & 0.0 & 0.0 & 0.0\\\\\n",
       "\th(5.4-Sepal.Length) & 5.4 & 0.0 & 0.0 & 0.0\\\\\n",
       "\th(Petal.Length-3.5) & 0.0 & 0.0 & 3.5 & 0.0\\\\\n",
       "\th(Petal.Width-1.5) & 0.0 & 0.0 & 0.0 & 1.5\\\\\n",
       "\th(Petal.Length-1.9) & 0.0 & 0.0 & 1.9 & 0.0\\\\\n",
       "\th(Sepal.Width-3.3) & 0.0 & 3.3 & 0.0 & 0.0\\\\\n",
       "\th(3.3-Sepal.Width) & 0.0 & 3.3 & 0.0 & 0.0\\\\\n",
       "\th(Petal.Width-1.8) & 0.0 & 0.0 & 0.0 & 1.8\\\\\n",
       "\\end{tabular}\n"
      ],
      "text/markdown": [
       "\n",
       "| <!--/--> | Sepal.Length | Sepal.Width | Petal.Length | Petal.Width | \n",
       "|---|---|---|---|---|---|---|---|---|---|---|---|---|---|---|\n",
       "| (Intercept) | 0.0 | 0.0 | 0.0 | 0.0 | \n",
       "| h(Petal.Width-1.2) | 0.0 | 0.0 | 0.0 | 1.2 | \n",
       "| h(1.2-Petal.Width) | 0.0 | 0.0 | 0.0 | 1.2 | \n",
       "| h(Petal.Width-1.9) | 0.0 | 0.0 | 0.0 | 1.9 | \n",
       "| h(Petal.Length-4.5) | 0.0 | 0.0 | 4.5 | 0.0 | \n",
       "| h(4.5-Petal.Length) | 0.0 | 0.0 | 4.5 | 0.0 | \n",
       "| h(Petal.Length-5.3) | 0.0 | 0.0 | 5.3 | 0.0 | \n",
       "| h(Sepal.Length-5.4) | 5.4 | 0.0 | 0.0 | 0.0 | \n",
       "| h(5.4-Sepal.Length) | 5.4 | 0.0 | 0.0 | 0.0 | \n",
       "| h(Petal.Length-3.5) | 0.0 | 0.0 | 3.5 | 0.0 | \n",
       "| h(Petal.Width-1.5) | 0.0 | 0.0 | 0.0 | 1.5 | \n",
       "| h(Petal.Length-1.9) | 0.0 | 0.0 | 1.9 | 0.0 | \n",
       "| h(Sepal.Width-3.3) | 0.0 | 3.3 | 0.0 | 0.0 | \n",
       "| h(3.3-Sepal.Width) | 0.0 | 3.3 | 0.0 | 0.0 | \n",
       "| h(Petal.Width-1.8) | 0.0 | 0.0 | 0.0 | 1.8 | \n",
       "\n",
       "\n"
      ],
      "text/plain": [
       "                    Sepal.Length Sepal.Width Petal.Length Petal.Width\n",
       "(Intercept)         0.0          0.0         0.0          0.0        \n",
       "h(Petal.Width-1.2)  0.0          0.0         0.0          1.2        \n",
       "h(1.2-Petal.Width)  0.0          0.0         0.0          1.2        \n",
       "h(Petal.Width-1.9)  0.0          0.0         0.0          1.9        \n",
       "h(Petal.Length-4.5) 0.0          0.0         4.5          0.0        \n",
       "h(4.5-Petal.Length) 0.0          0.0         4.5          0.0        \n",
       "h(Petal.Length-5.3) 0.0          0.0         5.3          0.0        \n",
       "h(Sepal.Length-5.4) 5.4          0.0         0.0          0.0        \n",
       "h(5.4-Sepal.Length) 5.4          0.0         0.0          0.0        \n",
       "h(Petal.Length-3.5) 0.0          0.0         3.5          0.0        \n",
       "h(Petal.Width-1.5)  0.0          0.0         0.0          1.5        \n",
       "h(Petal.Length-1.9) 0.0          0.0         1.9          0.0        \n",
       "h(Sepal.Width-3.3)  0.0          3.3         0.0          0.0        \n",
       "h(3.3-Sepal.Width)  0.0          3.3         0.0          0.0        \n",
       "h(Petal.Width-1.8)  0.0          0.0         0.0          1.8        "
      ]
     },
     "metadata": {},
     "output_type": "display_data"
    }
   ],
   "source": [
    "earth1$cuts"
   ]
  },
  {
   "cell_type": "code",
   "execution_count": 19,
   "metadata": {},
   "outputs": [
    {
     "data": {
      "text/html": [
       "<table>\n",
       "<thead><tr><th></th><th scope=col>setosa</th><th scope=col>versicolor</th><th scope=col>virginica</th></tr></thead>\n",
       "<tbody>\n",
       "\t<tr><th scope=row>(Intercept)</th><td> 26.4365995</td><td> -24.62292 </td><td> -24.54936 </td></tr>\n",
       "\t<tr><th scope=row>h(Petal.Length-4.5)</th><td>-21.1315777</td><td> 160.05559 </td><td>-160.63046 </td></tr>\n",
       "\t<tr><th scope=row>h(Petal.Length-5.3)</th><td>  1.3322613</td><td> -77.71438 </td><td>  77.67758 </td></tr>\n",
       "\t<tr><th scope=row>h(Petal.Length-3.5)</th><td> 65.2074384</td><td>-284.88356 </td><td> 255.08504 </td></tr>\n",
       "\t<tr><th scope=row>h(Petal.Width-1.5)</th><td> -0.6380362</td><td> -10.84509 </td><td>  10.84509 </td></tr>\n",
       "\t<tr><th scope=row>h(Petal.Length-1.9)</th><td>-45.1815535</td><td> 120.39324 </td><td> -90.01985 </td></tr>\n",
       "\t<tr><th scope=row>h(Petal.Width-1.8)</th><td>  1.0276621</td><td>-165.67675 </td><td> 165.62176 </td></tr>\n",
       "</tbody>\n",
       "</table>\n"
      ],
      "text/latex": [
       "\\begin{tabular}{r|lll}\n",
       "  & setosa & versicolor & virginica\\\\\n",
       "\\hline\n",
       "\t(Intercept) &  26.4365995 &  -24.62292  &  -24.54936 \\\\\n",
       "\th(Petal.Length-4.5) & -21.1315777 &  160.05559  & -160.63046 \\\\\n",
       "\th(Petal.Length-5.3) &   1.3322613 &  -77.71438  &   77.67758 \\\\\n",
       "\th(Petal.Length-3.5) &  65.2074384 & -284.88356  &  255.08504 \\\\\n",
       "\th(Petal.Width-1.5) &  -0.6380362 &  -10.84509  &   10.84509 \\\\\n",
       "\th(Petal.Length-1.9) & -45.1815535 &  120.39324  &  -90.01985 \\\\\n",
       "\th(Petal.Width-1.8) &   1.0276621 & -165.67675  &  165.62176 \\\\\n",
       "\\end{tabular}\n"
      ],
      "text/markdown": [
       "\n",
       "| <!--/--> | setosa | versicolor | virginica | \n",
       "|---|---|---|---|---|---|---|\n",
       "| (Intercept) |  26.4365995 |  -24.62292  |  -24.54936  | \n",
       "| h(Petal.Length-4.5) | -21.1315777 |  160.05559  | -160.63046  | \n",
       "| h(Petal.Length-5.3) |   1.3322613 |  -77.71438  |   77.67758  | \n",
       "| h(Petal.Length-3.5) |  65.2074384 | -284.88356  |  255.08504  | \n",
       "| h(Petal.Width-1.5) |  -0.6380362 |  -10.84509  |   10.84509  | \n",
       "| h(Petal.Length-1.9) | -45.1815535 |  120.39324  |  -90.01985  | \n",
       "| h(Petal.Width-1.8) |   1.0276621 | -165.67675  |  165.62176  | \n",
       "\n",
       "\n"
      ],
      "text/plain": [
       "                    setosa      versicolor virginica \n",
       "(Intercept)          26.4365995  -24.62292  -24.54936\n",
       "h(Petal.Length-4.5) -21.1315777  160.05559 -160.63046\n",
       "h(Petal.Length-5.3)   1.3322613  -77.71438   77.67758\n",
       "h(Petal.Length-3.5)  65.2074384 -284.88356  255.08504\n",
       "h(Petal.Width-1.5)   -0.6380362  -10.84509   10.84509\n",
       "h(Petal.Length-1.9) -45.1815535  120.39324  -90.01985\n",
       "h(Petal.Width-1.8)    1.0276621 -165.67675  165.62176"
      ]
     },
     "metadata": {},
     "output_type": "display_data"
    }
   ],
   "source": [
    "earth1$glm.coefficients"
   ]
  },
  {
   "cell_type": "code",
   "execution_count": null,
   "metadata": {},
   "outputs": [],
   "source": []
  }
 ],
 "metadata": {
  "kernelspec": {
   "display_name": "R",
   "language": "R",
   "name": "ir"
  },
  "language_info": {
   "codemirror_mode": "r",
   "file_extension": ".r",
   "mimetype": "text/x-r-source",
   "name": "R",
   "pygments_lexer": "r",
   "version": "3.5.1"
  }
 },
 "nbformat": 4,
 "nbformat_minor": 2
}
