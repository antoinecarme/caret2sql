{
 "cells": [
  {
   "cell_type": "code",
   "execution_count": 1,
   "metadata": {},
   "outputs": [
    {
     "name": "stderr",
     "output_type": "stream",
     "text": [
      "\n",
      "Attaching package: ‘httr’\n",
      "\n",
      "The following object is masked from ‘package:caret’:\n",
      "\n",
      "    progress\n",
      "\n"
     ]
    }
   ],
   "source": [
    "\n",
    "library(caret, quiet=TRUE);\n",
    "library(base64enc)\n",
    "library(httr)\n"
   ]
  },
  {
   "cell_type": "markdown",
   "metadata": {},
   "source": [
    "# Build a Model"
   ]
  },
  {
   "cell_type": "code",
   "execution_count": 2,
   "metadata": {},
   "outputs": [],
   "source": [
    "\n",
    "## binary classification in iris dataset:\n",
    "    \n",
    "num_class <- 3\n",
    "lb <- as.numeric(iris$Species) - 1\n",
    "\n",
    "iris$Species2 = as.factor(sapply(iris$Species , function(x) if( x == 'setosa') 'yes' else 'no'))\n",
    "dataset = as.matrix(iris[, 1:4])\n",
    "    \n",
    "create_model  =  function() {\n",
    "\n",
    "    set.seed(1960)\n",
    "    formula <- as.formula(Species2 ~ Sepal.Length + Sepal.Width + Petal.Length + Petal.Width)\n",
    "    model <- train(formula, iris, method = \"earth\", trace=FALSE)\n",
    "    return(model)\n",
    "}"
   ]
  },
  {
   "cell_type": "code",
   "execution_count": 3,
   "metadata": {},
   "outputs": [
    {
     "data": {
      "text/html": [
       "<table>\n",
       "<thead><tr><th scope=col>Sepal.Length</th><th scope=col>Sepal.Width</th><th scope=col>Petal.Length</th><th scope=col>Petal.Width</th><th scope=col>Species</th><th scope=col>Species2</th></tr></thead>\n",
       "<tbody>\n",
       "\t<tr><td>5.1   </td><td>3.5   </td><td>1.4   </td><td>0.2   </td><td>setosa</td><td>yes   </td></tr>\n",
       "\t<tr><td>4.9   </td><td>3.0   </td><td>1.4   </td><td>0.2   </td><td>setosa</td><td>yes   </td></tr>\n",
       "\t<tr><td>4.7   </td><td>3.2   </td><td>1.3   </td><td>0.2   </td><td>setosa</td><td>yes   </td></tr>\n",
       "\t<tr><td>4.6   </td><td>3.1   </td><td>1.5   </td><td>0.2   </td><td>setosa</td><td>yes   </td></tr>\n",
       "\t<tr><td>5.0   </td><td>3.6   </td><td>1.4   </td><td>0.2   </td><td>setosa</td><td>yes   </td></tr>\n",
       "\t<tr><td>5.4   </td><td>3.9   </td><td>1.7   </td><td>0.4   </td><td>setosa</td><td>yes   </td></tr>\n",
       "</tbody>\n",
       "</table>\n"
      ],
      "text/latex": [
       "\\begin{tabular}{r|llllll}\n",
       " Sepal.Length & Sepal.Width & Petal.Length & Petal.Width & Species & Species2\\\\\n",
       "\\hline\n",
       "\t 5.1    & 3.5    & 1.4    & 0.2    & setosa & yes   \\\\\n",
       "\t 4.9    & 3.0    & 1.4    & 0.2    & setosa & yes   \\\\\n",
       "\t 4.7    & 3.2    & 1.3    & 0.2    & setosa & yes   \\\\\n",
       "\t 4.6    & 3.1    & 1.5    & 0.2    & setosa & yes   \\\\\n",
       "\t 5.0    & 3.6    & 1.4    & 0.2    & setosa & yes   \\\\\n",
       "\t 5.4    & 3.9    & 1.7    & 0.4    & setosa & yes   \\\\\n",
       "\\end{tabular}\n"
      ],
      "text/markdown": [
       "\n",
       "Sepal.Length | Sepal.Width | Petal.Length | Petal.Width | Species | Species2 | \n",
       "|---|---|---|---|---|---|\n",
       "| 5.1    | 3.5    | 1.4    | 0.2    | setosa | yes    | \n",
       "| 4.9    | 3.0    | 1.4    | 0.2    | setosa | yes    | \n",
       "| 4.7    | 3.2    | 1.3    | 0.2    | setosa | yes    | \n",
       "| 4.6    | 3.1    | 1.5    | 0.2    | setosa | yes    | \n",
       "| 5.0    | 3.6    | 1.4    | 0.2    | setosa | yes    | \n",
       "| 5.4    | 3.9    | 1.7    | 0.4    | setosa | yes    | \n",
       "\n",
       "\n"
      ],
      "text/plain": [
       "  Sepal.Length Sepal.Width Petal.Length Petal.Width Species Species2\n",
       "1 5.1          3.5         1.4          0.2         setosa  yes     \n",
       "2 4.9          3.0         1.4          0.2         setosa  yes     \n",
       "3 4.7          3.2         1.3          0.2         setosa  yes     \n",
       "4 4.6          3.1         1.5          0.2         setosa  yes     \n",
       "5 5.0          3.6         1.4          0.2         setosa  yes     \n",
       "6 5.4          3.9         1.7          0.4         setosa  yes     "
      ]
     },
     "metadata": {},
     "output_type": "display_data"
    }
   ],
   "source": [
    "head(iris)"
   ]
  },
  {
   "cell_type": "code",
   "execution_count": 4,
   "metadata": {},
   "outputs": [
    {
     "name": "stderr",
     "output_type": "stream",
     "text": [
      "Loading required package: earth\n",
      "Loading required package: plotmo\n",
      "Loading required package: plotrix\n",
      "Loading required package: TeachingDemos\n",
      "Warning message:\n",
      "“glm.fit: algorithm did not converge”Warning message:\n",
      "“glm.fit: fitted probabilities numerically 0 or 1 occurred”"
     ]
    },
    {
     "name": "stdout",
     "output_type": "stream",
     "text": [
      "earth glm yes: did not converge after 25 iterations\n"
     ]
    },
    {
     "name": "stderr",
     "output_type": "stream",
     "text": [
      "Warning message:\n",
      "“glm.fit: algorithm did not converge”Warning message:\n",
      "“glm.fit: fitted probabilities numerically 0 or 1 occurred”"
     ]
    },
    {
     "name": "stdout",
     "output_type": "stream",
     "text": [
      "earth glm yes: did not converge after 25 iterations\n"
     ]
    },
    {
     "name": "stderr",
     "output_type": "stream",
     "text": [
      "Warning message:\n",
      "“glm.fit: algorithm did not converge”Warning message:\n",
      "“glm.fit: fitted probabilities numerically 0 or 1 occurred”"
     ]
    },
    {
     "name": "stdout",
     "output_type": "stream",
     "text": [
      "earth glm yes: did not converge after 25 iterations\n"
     ]
    },
    {
     "name": "stderr",
     "output_type": "stream",
     "text": [
      "Warning message:\n",
      "“glm.fit: algorithm did not converge”Warning message:\n",
      "“glm.fit: fitted probabilities numerically 0 or 1 occurred”"
     ]
    },
    {
     "name": "stdout",
     "output_type": "stream",
     "text": [
      "earth glm yes: did not converge after 25 iterations\n"
     ]
    },
    {
     "name": "stderr",
     "output_type": "stream",
     "text": [
      "Warning message:\n",
      "“glm.fit: algorithm did not converge”Warning message:\n",
      "“glm.fit: fitted probabilities numerically 0 or 1 occurred”"
     ]
    },
    {
     "name": "stdout",
     "output_type": "stream",
     "text": [
      "earth glm yes: did not converge after 25 iterations\n"
     ]
    },
    {
     "name": "stderr",
     "output_type": "stream",
     "text": [
      "Warning message:\n",
      "“glm.fit: algorithm did not converge”Warning message:\n",
      "“glm.fit: fitted probabilities numerically 0 or 1 occurred”"
     ]
    },
    {
     "name": "stdout",
     "output_type": "stream",
     "text": [
      "earth glm yes: did not converge after 25 iterations\n"
     ]
    },
    {
     "name": "stderr",
     "output_type": "stream",
     "text": [
      "Warning message:\n",
      "“glm.fit: algorithm did not converge”Warning message:\n",
      "“glm.fit: fitted probabilities numerically 0 or 1 occurred”"
     ]
    },
    {
     "name": "stdout",
     "output_type": "stream",
     "text": [
      "earth glm yes: did not converge after 25 iterations\n"
     ]
    },
    {
     "name": "stderr",
     "output_type": "stream",
     "text": [
      "Warning message:\n",
      "“glm.fit: algorithm did not converge”Warning message:\n",
      "“glm.fit: fitted probabilities numerically 0 or 1 occurred”"
     ]
    },
    {
     "name": "stdout",
     "output_type": "stream",
     "text": [
      "earth glm yes: did not converge after 25 iterations\n"
     ]
    },
    {
     "name": "stderr",
     "output_type": "stream",
     "text": [
      "Warning message:\n",
      "“glm.fit: algorithm did not converge”Warning message:\n",
      "“glm.fit: fitted probabilities numerically 0 or 1 occurred”"
     ]
    },
    {
     "name": "stdout",
     "output_type": "stream",
     "text": [
      "earth glm yes: did not converge after 25 iterations\n"
     ]
    },
    {
     "name": "stderr",
     "output_type": "stream",
     "text": [
      "Warning message:\n",
      "“glm.fit: algorithm did not converge”Warning message:\n",
      "“glm.fit: fitted probabilities numerically 0 or 1 occurred”"
     ]
    },
    {
     "name": "stdout",
     "output_type": "stream",
     "text": [
      "earth glm yes: did not converge after 25 iterations\n"
     ]
    },
    {
     "name": "stderr",
     "output_type": "stream",
     "text": [
      "Warning message:\n",
      "“glm.fit: algorithm did not converge”Warning message:\n",
      "“glm.fit: fitted probabilities numerically 0 or 1 occurred”"
     ]
    },
    {
     "name": "stdout",
     "output_type": "stream",
     "text": [
      "earth glm yes: did not converge after 25 iterations\n"
     ]
    },
    {
     "name": "stderr",
     "output_type": "stream",
     "text": [
      "Warning message:\n",
      "“glm.fit: algorithm did not converge”Warning message:\n",
      "“glm.fit: fitted probabilities numerically 0 or 1 occurred”"
     ]
    },
    {
     "name": "stdout",
     "output_type": "stream",
     "text": [
      "earth glm yes: did not converge after 25 iterations\n"
     ]
    },
    {
     "name": "stderr",
     "output_type": "stream",
     "text": [
      "Warning message:\n",
      "“glm.fit: algorithm did not converge”Warning message:\n",
      "“glm.fit: fitted probabilities numerically 0 or 1 occurred”"
     ]
    },
    {
     "name": "stdout",
     "output_type": "stream",
     "text": [
      "earth glm yes: did not converge after 25 iterations\n"
     ]
    },
    {
     "name": "stderr",
     "output_type": "stream",
     "text": [
      "Warning message:\n",
      "“glm.fit: algorithm did not converge”Warning message:\n",
      "“glm.fit: fitted probabilities numerically 0 or 1 occurred”"
     ]
    },
    {
     "name": "stdout",
     "output_type": "stream",
     "text": [
      "earth glm yes: did not converge after 25 iterations\n"
     ]
    },
    {
     "name": "stderr",
     "output_type": "stream",
     "text": [
      "Warning message:\n",
      "“glm.fit: algorithm did not converge”Warning message:\n",
      "“glm.fit: fitted probabilities numerically 0 or 1 occurred”"
     ]
    },
    {
     "name": "stdout",
     "output_type": "stream",
     "text": [
      "earth glm yes: did not converge after 25 iterations\n"
     ]
    },
    {
     "name": "stderr",
     "output_type": "stream",
     "text": [
      "Warning message:\n",
      "“glm.fit: algorithm did not converge”Warning message:\n",
      "“glm.fit: fitted probabilities numerically 0 or 1 occurred”"
     ]
    },
    {
     "name": "stdout",
     "output_type": "stream",
     "text": [
      "earth glm yes: did not converge after 25 iterations\n"
     ]
    },
    {
     "name": "stderr",
     "output_type": "stream",
     "text": [
      "Warning message:\n",
      "“glm.fit: algorithm did not converge”Warning message:\n",
      "“glm.fit: fitted probabilities numerically 0 or 1 occurred”"
     ]
    },
    {
     "name": "stdout",
     "output_type": "stream",
     "text": [
      "earth glm yes: did not converge after 25 iterations\n"
     ]
    },
    {
     "name": "stderr",
     "output_type": "stream",
     "text": [
      "Warning message:\n",
      "“glm.fit: algorithm did not converge”Warning message:\n",
      "“glm.fit: fitted probabilities numerically 0 or 1 occurred”"
     ]
    },
    {
     "name": "stdout",
     "output_type": "stream",
     "text": [
      "earth glm yes: did not converge after 25 iterations\n"
     ]
    },
    {
     "name": "stderr",
     "output_type": "stream",
     "text": [
      "Warning message:\n",
      "“glm.fit: algorithm did not converge”Warning message:\n",
      "“glm.fit: fitted probabilities numerically 0 or 1 occurred”"
     ]
    },
    {
     "name": "stdout",
     "output_type": "stream",
     "text": [
      "earth glm yes: did not converge after 25 iterations\n"
     ]
    },
    {
     "name": "stderr",
     "output_type": "stream",
     "text": [
      "Warning message:\n",
      "“glm.fit: algorithm did not converge”Warning message:\n",
      "“glm.fit: fitted probabilities numerically 0 or 1 occurred”"
     ]
    },
    {
     "name": "stdout",
     "output_type": "stream",
     "text": [
      "earth glm yes: did not converge after 25 iterations\n"
     ]
    },
    {
     "name": "stderr",
     "output_type": "stream",
     "text": [
      "Warning message:\n",
      "“glm.fit: algorithm did not converge”Warning message:\n",
      "“glm.fit: fitted probabilities numerically 0 or 1 occurred”"
     ]
    },
    {
     "name": "stdout",
     "output_type": "stream",
     "text": [
      "earth glm yes: did not converge after 25 iterations\n"
     ]
    },
    {
     "name": "stderr",
     "output_type": "stream",
     "text": [
      "Warning message:\n",
      "“glm.fit: algorithm did not converge”Warning message:\n",
      "“glm.fit: fitted probabilities numerically 0 or 1 occurred”"
     ]
    },
    {
     "name": "stdout",
     "output_type": "stream",
     "text": [
      "earth glm yes: did not converge after 25 iterations\n"
     ]
    },
    {
     "name": "stderr",
     "output_type": "stream",
     "text": [
      "Warning message:\n",
      "“glm.fit: algorithm did not converge”Warning message:\n",
      "“glm.fit: fitted probabilities numerically 0 or 1 occurred”"
     ]
    },
    {
     "name": "stdout",
     "output_type": "stream",
     "text": [
      "earth glm yes: did not converge after 25 iterations\n"
     ]
    },
    {
     "name": "stderr",
     "output_type": "stream",
     "text": [
      "Warning message:\n",
      "“glm.fit: algorithm did not converge”Warning message:\n",
      "“glm.fit: fitted probabilities numerically 0 or 1 occurred”"
     ]
    },
    {
     "name": "stdout",
     "output_type": "stream",
     "text": [
      "earth glm yes: did not converge after 25 iterations\n"
     ]
    },
    {
     "name": "stderr",
     "output_type": "stream",
     "text": [
      "Warning message:\n",
      "“glm.fit: algorithm did not converge”Warning message:\n",
      "“glm.fit: fitted probabilities numerically 0 or 1 occurred”"
     ]
    },
    {
     "name": "stdout",
     "output_type": "stream",
     "text": [
      "earth glm yes: did not converge after 25 iterations\n"
     ]
    },
    {
     "name": "stderr",
     "output_type": "stream",
     "text": [
      "Warning message:\n",
      "“glm.fit: algorithm did not converge”Warning message:\n",
      "“glm.fit: fitted probabilities numerically 0 or 1 occurred”"
     ]
    },
    {
     "name": "stdout",
     "output_type": "stream",
     "text": [
      "earth glm yes: did not converge after 25 iterations\n"
     ]
    },
    {
     "name": "stderr",
     "output_type": "stream",
     "text": [
      "Warning message:\n",
      "“glm.fit: algorithm did not converge”Warning message:\n",
      "“glm.fit: fitted probabilities numerically 0 or 1 occurred”"
     ]
    },
    {
     "name": "stdout",
     "output_type": "stream",
     "text": [
      "earth glm yes: did not converge after 25 iterations\n"
     ]
    },
    {
     "name": "stderr",
     "output_type": "stream",
     "text": [
      "Warning message:\n",
      "“glm.fit: algorithm did not converge”Warning message:\n",
      "“glm.fit: fitted probabilities numerically 0 or 1 occurred”"
     ]
    },
    {
     "name": "stdout",
     "output_type": "stream",
     "text": [
      "earth glm yes: did not converge after 25 iterations\n"
     ]
    },
    {
     "name": "stderr",
     "output_type": "stream",
     "text": [
      "Warning message:\n",
      "“glm.fit: algorithm did not converge”Warning message:\n",
      "“glm.fit: fitted probabilities numerically 0 or 1 occurred”"
     ]
    },
    {
     "name": "stdout",
     "output_type": "stream",
     "text": [
      "earth glm yes: did not converge after 25 iterations\n"
     ]
    },
    {
     "name": "stderr",
     "output_type": "stream",
     "text": [
      "Warning message:\n",
      "“glm.fit: algorithm did not converge”Warning message:\n",
      "“glm.fit: fitted probabilities numerically 0 or 1 occurred”"
     ]
    },
    {
     "name": "stdout",
     "output_type": "stream",
     "text": [
      "earth glm yes: did not converge after 25 iterations\n"
     ]
    },
    {
     "name": "stderr",
     "output_type": "stream",
     "text": [
      "Warning message:\n",
      "“glm.fit: algorithm did not converge”Warning message:\n",
      "“glm.fit: fitted probabilities numerically 0 or 1 occurred”"
     ]
    },
    {
     "name": "stdout",
     "output_type": "stream",
     "text": [
      "earth glm yes: did not converge after 25 iterations\n"
     ]
    },
    {
     "name": "stderr",
     "output_type": "stream",
     "text": [
      "Warning message:\n",
      "“glm.fit: algorithm did not converge”Warning message:\n",
      "“glm.fit: fitted probabilities numerically 0 or 1 occurred”"
     ]
    },
    {
     "name": "stdout",
     "output_type": "stream",
     "text": [
      "earth glm yes: did not converge after 25 iterations\n"
     ]
    },
    {
     "name": "stderr",
     "output_type": "stream",
     "text": [
      "Warning message:\n",
      "“glm.fit: algorithm did not converge”Warning message:\n",
      "“glm.fit: fitted probabilities numerically 0 or 1 occurred”"
     ]
    },
    {
     "name": "stdout",
     "output_type": "stream",
     "text": [
      "earth glm yes: did not converge after 25 iterations\n"
     ]
    },
    {
     "name": "stderr",
     "output_type": "stream",
     "text": [
      "Warning message:\n",
      "“glm.fit: algorithm did not converge”Warning message:\n",
      "“glm.fit: fitted probabilities numerically 0 or 1 occurred”"
     ]
    },
    {
     "name": "stdout",
     "output_type": "stream",
     "text": [
      "earth glm yes: did not converge after 25 iterations\n"
     ]
    },
    {
     "name": "stderr",
     "output_type": "stream",
     "text": [
      "Warning message:\n",
      "“glm.fit: algorithm did not converge”Warning message:\n",
      "“glm.fit: fitted probabilities numerically 0 or 1 occurred”"
     ]
    },
    {
     "name": "stdout",
     "output_type": "stream",
     "text": [
      "earth glm yes: did not converge after 25 iterations\n"
     ]
    },
    {
     "name": "stderr",
     "output_type": "stream",
     "text": [
      "Warning message:\n",
      "“glm.fit: algorithm did not converge”Warning message:\n",
      "“glm.fit: fitted probabilities numerically 0 or 1 occurred”"
     ]
    },
    {
     "name": "stdout",
     "output_type": "stream",
     "text": [
      "earth glm yes: did not converge after 25 iterations\n"
     ]
    },
    {
     "name": "stderr",
     "output_type": "stream",
     "text": [
      "Warning message:\n",
      "“glm.fit: algorithm did not converge”Warning message:\n",
      "“glm.fit: fitted probabilities numerically 0 or 1 occurred”"
     ]
    },
    {
     "name": "stdout",
     "output_type": "stream",
     "text": [
      "earth glm yes: did not converge after 25 iterations\n"
     ]
    },
    {
     "name": "stderr",
     "output_type": "stream",
     "text": [
      "Warning message:\n",
      "“glm.fit: algorithm did not converge”Warning message:\n",
      "“glm.fit: fitted probabilities numerically 0 or 1 occurred”"
     ]
    },
    {
     "name": "stdout",
     "output_type": "stream",
     "text": [
      "earth glm yes: did not converge after 25 iterations\n"
     ]
    },
    {
     "name": "stderr",
     "output_type": "stream",
     "text": [
      "Warning message:\n",
      "“glm.fit: algorithm did not converge”Warning message:\n",
      "“glm.fit: fitted probabilities numerically 0 or 1 occurred”"
     ]
    },
    {
     "name": "stdout",
     "output_type": "stream",
     "text": [
      "earth glm yes: did not converge after 25 iterations\n"
     ]
    },
    {
     "name": "stderr",
     "output_type": "stream",
     "text": [
      "Warning message:\n",
      "“glm.fit: algorithm did not converge”Warning message:\n",
      "“glm.fit: fitted probabilities numerically 0 or 1 occurred”"
     ]
    },
    {
     "name": "stdout",
     "output_type": "stream",
     "text": [
      "earth glm yes: did not converge after 25 iterations\n"
     ]
    },
    {
     "name": "stderr",
     "output_type": "stream",
     "text": [
      "Warning message:\n",
      "“glm.fit: algorithm did not converge”Warning message:\n",
      "“glm.fit: fitted probabilities numerically 0 or 1 occurred”"
     ]
    },
    {
     "name": "stdout",
     "output_type": "stream",
     "text": [
      "earth glm yes: did not converge after 25 iterations\n"
     ]
    },
    {
     "name": "stderr",
     "output_type": "stream",
     "text": [
      "Warning message:\n",
      "“glm.fit: algorithm did not converge”Warning message:\n",
      "“glm.fit: fitted probabilities numerically 0 or 1 occurred”"
     ]
    },
    {
     "name": "stdout",
     "output_type": "stream",
     "text": [
      "earth glm yes: did not converge after 25 iterations\n"
     ]
    },
    {
     "name": "stderr",
     "output_type": "stream",
     "text": [
      "Warning message:\n",
      "“glm.fit: algorithm did not converge”Warning message:\n",
      "“glm.fit: fitted probabilities numerically 0 or 1 occurred”"
     ]
    },
    {
     "name": "stdout",
     "output_type": "stream",
     "text": [
      "earth glm yes: did not converge after 25 iterations\n"
     ]
    },
    {
     "name": "stderr",
     "output_type": "stream",
     "text": [
      "Warning message:\n",
      "“glm.fit: algorithm did not converge”Warning message:\n",
      "“glm.fit: fitted probabilities numerically 0 or 1 occurred”"
     ]
    },
    {
     "name": "stdout",
     "output_type": "stream",
     "text": [
      "earth glm yes: did not converge after 25 iterations\n"
     ]
    },
    {
     "name": "stderr",
     "output_type": "stream",
     "text": [
      "Warning message:\n",
      "“glm.fit: algorithm did not converge”Warning message:\n",
      "“glm.fit: fitted probabilities numerically 0 or 1 occurred”"
     ]
    },
    {
     "name": "stdout",
     "output_type": "stream",
     "text": [
      "earth glm yes: did not converge after 25 iterations\n"
     ]
    },
    {
     "name": "stderr",
     "output_type": "stream",
     "text": [
      "Warning message:\n",
      "“glm.fit: algorithm did not converge”Warning message:\n",
      "“glm.fit: fitted probabilities numerically 0 or 1 occurred”"
     ]
    },
    {
     "name": "stdout",
     "output_type": "stream",
     "text": [
      "earth glm yes: did not converge after 25 iterations\n"
     ]
    },
    {
     "name": "stderr",
     "output_type": "stream",
     "text": [
      "Warning message:\n",
      "“glm.fit: algorithm did not converge”Warning message:\n",
      "“glm.fit: fitted probabilities numerically 0 or 1 occurred”"
     ]
    },
    {
     "name": "stdout",
     "output_type": "stream",
     "text": [
      "earth glm yes: did not converge after 25 iterations\n"
     ]
    },
    {
     "name": "stderr",
     "output_type": "stream",
     "text": [
      "Warning message:\n",
      "“glm.fit: algorithm did not converge”Warning message:\n",
      "“glm.fit: fitted probabilities numerically 0 or 1 occurred”"
     ]
    },
    {
     "name": "stdout",
     "output_type": "stream",
     "text": [
      "earth glm yes: did not converge after 25 iterations\n"
     ]
    },
    {
     "name": "stderr",
     "output_type": "stream",
     "text": [
      "Warning message:\n",
      "“glm.fit: algorithm did not converge”Warning message:\n",
      "“glm.fit: fitted probabilities numerically 0 or 1 occurred”"
     ]
    },
    {
     "name": "stdout",
     "output_type": "stream",
     "text": [
      "earth glm yes: did not converge after 25 iterations\n"
     ]
    },
    {
     "name": "stderr",
     "output_type": "stream",
     "text": [
      "Warning message:\n",
      "“glm.fit: algorithm did not converge”Warning message:\n",
      "“glm.fit: fitted probabilities numerically 0 or 1 occurred”"
     ]
    },
    {
     "name": "stdout",
     "output_type": "stream",
     "text": [
      "earth glm yes: did not converge after 25 iterations\n"
     ]
    },
    {
     "name": "stderr",
     "output_type": "stream",
     "text": [
      "Warning message:\n",
      "“glm.fit: algorithm did not converge”Warning message:\n",
      "“glm.fit: fitted probabilities numerically 0 or 1 occurred”"
     ]
    },
    {
     "name": "stdout",
     "output_type": "stream",
     "text": [
      "earth glm yes: did not converge after 25 iterations\n"
     ]
    },
    {
     "name": "stderr",
     "output_type": "stream",
     "text": [
      "Warning message:\n",
      "“glm.fit: algorithm did not converge”Warning message:\n",
      "“glm.fit: fitted probabilities numerically 0 or 1 occurred”"
     ]
    },
    {
     "name": "stdout",
     "output_type": "stream",
     "text": [
      "earth glm yes: did not converge after 25 iterations\n"
     ]
    },
    {
     "name": "stderr",
     "output_type": "stream",
     "text": [
      "Warning message:\n",
      "“glm.fit: algorithm did not converge”Warning message:\n",
      "“glm.fit: fitted probabilities numerically 0 or 1 occurred”"
     ]
    },
    {
     "name": "stdout",
     "output_type": "stream",
     "text": [
      "earth glm yes: did not converge after 25 iterations\n"
     ]
    },
    {
     "name": "stderr",
     "output_type": "stream",
     "text": [
      "Warning message:\n",
      "“glm.fit: algorithm did not converge”Warning message:\n",
      "“glm.fit: fitted probabilities numerically 0 or 1 occurred”"
     ]
    },
    {
     "name": "stdout",
     "output_type": "stream",
     "text": [
      "earth glm yes: did not converge after 25 iterations\n"
     ]
    },
    {
     "name": "stderr",
     "output_type": "stream",
     "text": [
      "Warning message:\n",
      "“glm.fit: algorithm did not converge”Warning message:\n",
      "“glm.fit: fitted probabilities numerically 0 or 1 occurred”"
     ]
    },
    {
     "name": "stdout",
     "output_type": "stream",
     "text": [
      "earth glm yes: did not converge after 25 iterations\n"
     ]
    },
    {
     "name": "stderr",
     "output_type": "stream",
     "text": [
      "Warning message:\n",
      "“glm.fit: algorithm did not converge”Warning message:\n",
      "“glm.fit: fitted probabilities numerically 0 or 1 occurred”"
     ]
    },
    {
     "name": "stdout",
     "output_type": "stream",
     "text": [
      "earth glm yes: did not converge after 25 iterations\n"
     ]
    },
    {
     "name": "stderr",
     "output_type": "stream",
     "text": [
      "Warning message:\n",
      "“glm.fit: algorithm did not converge”Warning message:\n",
      "“glm.fit: fitted probabilities numerically 0 or 1 occurred”"
     ]
    },
    {
     "name": "stdout",
     "output_type": "stream",
     "text": [
      "earth glm yes: did not converge after 25 iterations\n"
     ]
    },
    {
     "name": "stderr",
     "output_type": "stream",
     "text": [
      "Warning message:\n",
      "“glm.fit: algorithm did not converge”Warning message:\n",
      "“glm.fit: fitted probabilities numerically 0 or 1 occurred”"
     ]
    },
    {
     "name": "stdout",
     "output_type": "stream",
     "text": [
      "earth glm yes: did not converge after 25 iterations\n"
     ]
    },
    {
     "name": "stderr",
     "output_type": "stream",
     "text": [
      "Warning message:\n",
      "“glm.fit: algorithm did not converge”Warning message:\n",
      "“glm.fit: fitted probabilities numerically 0 or 1 occurred”"
     ]
    },
    {
     "name": "stdout",
     "output_type": "stream",
     "text": [
      "earth glm yes: did not converge after 25 iterations\n"
     ]
    },
    {
     "name": "stderr",
     "output_type": "stream",
     "text": [
      "Warning message:\n",
      "“glm.fit: algorithm did not converge”Warning message:\n",
      "“glm.fit: fitted probabilities numerically 0 or 1 occurred”"
     ]
    },
    {
     "name": "stdout",
     "output_type": "stream",
     "text": [
      "earth glm yes: did not converge after 25 iterations\n"
     ]
    },
    {
     "name": "stderr",
     "output_type": "stream",
     "text": [
      "Warning message:\n",
      "“glm.fit: algorithm did not converge”Warning message:\n",
      "“glm.fit: fitted probabilities numerically 0 or 1 occurred”"
     ]
    },
    {
     "name": "stdout",
     "output_type": "stream",
     "text": [
      "earth glm yes: did not converge after 25 iterations\n"
     ]
    },
    {
     "name": "stderr",
     "output_type": "stream",
     "text": [
      "Warning message:\n",
      "“glm.fit: algorithm did not converge”Warning message:\n",
      "“glm.fit: fitted probabilities numerically 0 or 1 occurred”"
     ]
    },
    {
     "name": "stdout",
     "output_type": "stream",
     "text": [
      "earth glm yes: did not converge after 25 iterations\n"
     ]
    },
    {
     "name": "stderr",
     "output_type": "stream",
     "text": [
      "Warning message:\n",
      "“glm.fit: algorithm did not converge”Warning message:\n",
      "“glm.fit: fitted probabilities numerically 0 or 1 occurred”"
     ]
    },
    {
     "name": "stdout",
     "output_type": "stream",
     "text": [
      "earth glm yes: did not converge after 25 iterations\n"
     ]
    },
    {
     "name": "stderr",
     "output_type": "stream",
     "text": [
      "Warning message:\n",
      "“glm.fit: algorithm did not converge”Warning message:\n",
      "“glm.fit: fitted probabilities numerically 0 or 1 occurred”"
     ]
    },
    {
     "name": "stdout",
     "output_type": "stream",
     "text": [
      "earth glm yes: did not converge after 25 iterations\n"
     ]
    },
    {
     "name": "stderr",
     "output_type": "stream",
     "text": [
      "Warning message:\n",
      "“glm.fit: algorithm did not converge”Warning message:\n",
      "“glm.fit: fitted probabilities numerically 0 or 1 occurred”"
     ]
    },
    {
     "name": "stdout",
     "output_type": "stream",
     "text": [
      "earth glm yes: did not converge after 25 iterations\n"
     ]
    },
    {
     "name": "stderr",
     "output_type": "stream",
     "text": [
      "Warning message:\n",
      "“glm.fit: algorithm did not converge”Warning message:\n",
      "“glm.fit: fitted probabilities numerically 0 or 1 occurred”"
     ]
    },
    {
     "name": "stdout",
     "output_type": "stream",
     "text": [
      "earth glm yes: did not converge after 25 iterations\n"
     ]
    },
    {
     "name": "stderr",
     "output_type": "stream",
     "text": [
      "Warning message:\n",
      "“glm.fit: algorithm did not converge”Warning message:\n",
      "“glm.fit: fitted probabilities numerically 0 or 1 occurred”"
     ]
    },
    {
     "name": "stdout",
     "output_type": "stream",
     "text": [
      "earth glm yes: did not converge after 25 iterations\n"
     ]
    },
    {
     "name": "stderr",
     "output_type": "stream",
     "text": [
      "Warning message:\n",
      "“glm.fit: algorithm did not converge”Warning message:\n",
      "“glm.fit: fitted probabilities numerically 0 or 1 occurred”"
     ]
    },
    {
     "name": "stdout",
     "output_type": "stream",
     "text": [
      "earth glm yes: did not converge after 25 iterations\n"
     ]
    },
    {
     "name": "stderr",
     "output_type": "stream",
     "text": [
      "Warning message:\n",
      "“glm.fit: algorithm did not converge”Warning message:\n",
      "“glm.fit: fitted probabilities numerically 0 or 1 occurred”"
     ]
    },
    {
     "name": "stdout",
     "output_type": "stream",
     "text": [
      "earth glm yes: did not converge after 25 iterations\n"
     ]
    },
    {
     "name": "stderr",
     "output_type": "stream",
     "text": [
      "Warning message:\n",
      "“glm.fit: algorithm did not converge”Warning message:\n",
      "“glm.fit: fitted probabilities numerically 0 or 1 occurred”"
     ]
    },
    {
     "name": "stdout",
     "output_type": "stream",
     "text": [
      "earth glm yes: did not converge after 25 iterations\n"
     ]
    },
    {
     "name": "stderr",
     "output_type": "stream",
     "text": [
      "Warning message:\n",
      "“glm.fit: algorithm did not converge”Warning message:\n",
      "“glm.fit: fitted probabilities numerically 0 or 1 occurred”"
     ]
    },
    {
     "name": "stdout",
     "output_type": "stream",
     "text": [
      "earth glm yes: did not converge after 25 iterations\n"
     ]
    },
    {
     "name": "stderr",
     "output_type": "stream",
     "text": [
      "Warning message:\n",
      "“glm.fit: algorithm did not converge”Warning message:\n",
      "“glm.fit: fitted probabilities numerically 0 or 1 occurred”"
     ]
    },
    {
     "name": "stdout",
     "output_type": "stream",
     "text": [
      "earth glm yes: did not converge after 25 iterations\n"
     ]
    },
    {
     "name": "stderr",
     "output_type": "stream",
     "text": [
      "Warning message:\n",
      "“glm.fit: algorithm did not converge”Warning message:\n",
      "“glm.fit: fitted probabilities numerically 0 or 1 occurred”"
     ]
    },
    {
     "name": "stdout",
     "output_type": "stream",
     "text": [
      "earth glm yes: did not converge after 25 iterations\n"
     ]
    },
    {
     "name": "stderr",
     "output_type": "stream",
     "text": [
      "Warning message:\n",
      "“glm.fit: algorithm did not converge”Warning message:\n",
      "“glm.fit: fitted probabilities numerically 0 or 1 occurred”"
     ]
    },
    {
     "name": "stdout",
     "output_type": "stream",
     "text": [
      "earth glm yes: did not converge after 25 iterations\n"
     ]
    },
    {
     "name": "stderr",
     "output_type": "stream",
     "text": [
      "Warning message:\n",
      "“glm.fit: algorithm did not converge”Warning message:\n",
      "“glm.fit: fitted probabilities numerically 0 or 1 occurred”"
     ]
    },
    {
     "name": "stdout",
     "output_type": "stream",
     "text": [
      "earth glm yes: did not converge after 25 iterations\n"
     ]
    },
    {
     "name": "stderr",
     "output_type": "stream",
     "text": [
      "Warning message:\n",
      "“glm.fit: algorithm did not converge”Warning message:\n",
      "“glm.fit: fitted probabilities numerically 0 or 1 occurred”"
     ]
    },
    {
     "name": "stdout",
     "output_type": "stream",
     "text": [
      "earth glm yes: did not converge after 25 iterations\n"
     ]
    }
   ],
   "source": [
    "# dataset\n",
    "model = create_model()\n",
    "# cat(model$feature_names)\n",
    "# plot(model)\n"
   ]
  },
  {
   "cell_type": "code",
   "execution_count": 5,
   "metadata": {},
   "outputs": [
    {
     "data": {
      "text/html": [
       "0"
      ],
      "text/latex": [
       "0"
      ],
      "text/markdown": [
       "0"
      ],
      "text/plain": [
       "[1] 0"
      ]
     },
     "metadata": {},
     "output_type": "display_data"
    }
   ],
   "source": [
    "pred <- predict(model, dataset , type=\"prob\")\n",
    "pred_labels <- predict(model, dataset , type=\"raw\")\n",
    "error_rate = sum(pred_labels != iris$Species2)/length(pred_labels)\n",
    "error_rate"
   ]
  },
  {
   "cell_type": "markdown",
   "metadata": {},
   "source": [
    "# SQL Code Generation"
   ]
  },
  {
   "cell_type": "code",
   "execution_count": 6,
   "metadata": {},
   "outputs": [],
   "source": [
    "\n",
    "test_ws_sql_gen = function(mod) {\n",
    "    WS_URL = \"https://sklearn2sql.herokuapp.com/model\"\n",
    "    WS_URL = \"http://localhost:1888/model\"\n",
    "    model_serialized <- serialize(mod, NULL)\n",
    "    b64_data = base64encode(model_serialized)\n",
    "    data = list(Name = \"xgboost_test_model\", SerializedModel = b64_data , SQLDialect = \"postgresql\" , Mode=\"xgboost+r\")\n",
    "    r = POST(WS_URL, body = data, encode = \"json\", verbose())\n",
    "    # print(r)\n",
    "    content = content(r)\n",
    "    # print(content)\n",
    "    lSQL = content$model$SQLGenrationResult[[1]]$SQL # content[\"model\"][\"SQLGenrationResult\"][0][\"SQL\"]\n",
    "    return(lSQL);\n",
    "}"
   ]
  },
  {
   "cell_type": "code",
   "execution_count": 7,
   "metadata": {},
   "outputs": [],
   "source": [
    "# labels(model$finalModel)"
   ]
  },
  {
   "cell_type": "code",
   "execution_count": 8,
   "metadata": {
    "scrolled": false
   },
   "outputs": [
    {
     "name": "stdout",
     "output_type": "stream",
     "text": [
      "\n",
      "\n",
      "\n",
      "\n",
      "\n",
      "\n",
      "\n",
      "\n",
      "\n",
      "\n",
      "\n",
      "\n",
      "\n",
      "\n",
      "\n",
      "\n",
      "\n",
      "\n",
      "\n",
      "\n",
      "\n",
      "\n",
      "\n",
      "\n",
      "\n",
      "\n",
      "\n",
      "\n",
      "\n",
      "\n",
      "\n",
      "\n",
      "\n",
      "\n",
      "\n",
      "\n",
      "\n",
      "\n",
      "\n",
      "\n",
      "\n",
      "\n",
      "\n",
      "\n",
      "\n",
      "\n",
      "WITH earth_input AS \n",
      "(SELECT \"ADS\".\"KEY\" AS \"KEY\", CAST(\"ADS\".\"Feature_0\" AS FLOAT) AS \"Feature_0\", CAST(\"ADS\".\"Feature_1\" AS FLOAT) AS \"Feature_1\", CAST(\"ADS\".\"Feature_2\" AS FLOAT) AS \"Feature_2\", CAST(\"ADS\".\"Feature_3\" AS FLOAT) AS \"Feature_3\" \n",
      "FROM \"INPUT_DATA\" AS \"ADS\"), \n",
      "earth_cte AS \n",
      "(SELECT earth_input.\"KEY\" AS \"KEY\", 39.398943429716994 * greatest(3.5 - earth_input.\"Feature_2\", 0) + -40.82675054692784 AS earth \n",
      "FROM earth_input), \n",
      "dot_prod_logistic AS \n",
      "(SELECT earth_cte.\"KEY\" AS \"KEY\", earth_cte.earth AS dot_prod, 1.0 / (1.0 + exp(least(100.0, greatest(-100.0, -earth_cte.earth)))) AS logistic \n",
      "FROM earth_cte)\n",
      " SELECT dot_prod_logistic.\"KEY\" AS \"KEY\", CAST(NULL AS FLOAT) AS \"Score_no\", CAST(NULL AS FLOAT) AS \"Score_yes\", 1.0 - dot_prod_logistic.logistic AS \"Proba_no\", dot_prod_logistic.logistic AS \"Proba_yes\", CASE WHEN (1.0 - dot_prod_logistic.logistic IS NULL OR 1.0 - dot_prod_logistic.logistic > 0.0) THEN ln(1.0 - dot_prod_logistic.logistic) ELSE -1.79769313486231e+308 END AS \"LogProba_no\", CASE WHEN (dot_prod_logistic.logistic IS NULL OR dot_prod_logistic.logistic > 0.0) THEN ln(dot_prod_logistic.logistic) ELSE -1.79769313486231e+308 END AS \"LogProba_yes\", CASE WHEN (dot_prod_logistic.dot_prod > 0.0) THEN 'yes' ELSE 'no' END AS \"Decision\", greatest(1.0 - dot_prod_logistic.logistic, dot_prod_logistic.logistic) AS \"DecisionProba\" \n",
      "FROM dot_prod_logistic"
     ]
    }
   ],
   "source": [
    "lModelSQL = test_ws_sql_gen(model)\n",
    "cat(lModelSQL)"
   ]
  },
  {
   "cell_type": "markdown",
   "metadata": {},
   "source": [
    "# Execute the SQL Code"
   ]
  },
  {
   "cell_type": "code",
   "execution_count": 9,
   "metadata": {},
   "outputs": [
    {
     "data": {
      "text/html": [
       "0"
      ],
      "text/latex": [
       "0"
      ],
      "text/markdown": [
       "0"
      ],
      "text/plain": [
       "[1] 0"
      ]
     },
     "metadata": {},
     "output_type": "display_data"
    }
   ],
   "source": [
    "library(RODBC)\n",
    "conn = odbcConnect(\"pgsql\", uid=\"db\", pwd=\"db\", case=\"nochange\")\n",
    "odbcSetAutoCommit(conn , autoCommit = TRUE)"
   ]
  },
  {
   "cell_type": "code",
   "execution_count": 10,
   "metadata": {
    "scrolled": true
   },
   "outputs": [
    {
     "data": {
      "text/html": [
       "<table>\n",
       "<thead><tr><th scope=col>Feature_0</th><th scope=col>Feature_1</th><th scope=col>Feature_2</th><th scope=col>Feature_3</th><th scope=col>KEY</th></tr></thead>\n",
       "<tbody>\n",
       "\t<tr><td>5.1</td><td>3.5</td><td>1.4</td><td>0.2</td><td>1  </td></tr>\n",
       "\t<tr><td>4.9</td><td>3.0</td><td>1.4</td><td>0.2</td><td>2  </td></tr>\n",
       "\t<tr><td>4.7</td><td>3.2</td><td>1.3</td><td>0.2</td><td>3  </td></tr>\n",
       "\t<tr><td>4.6</td><td>3.1</td><td>1.5</td><td>0.2</td><td>4  </td></tr>\n",
       "\t<tr><td>5.0</td><td>3.6</td><td>1.4</td><td>0.2</td><td>5  </td></tr>\n",
       "\t<tr><td>5.4</td><td>3.9</td><td>1.7</td><td>0.4</td><td>6  </td></tr>\n",
       "</tbody>\n",
       "</table>\n"
      ],
      "text/latex": [
       "\\begin{tabular}{r|lllll}\n",
       " Feature\\_0 & Feature\\_1 & Feature\\_2 & Feature\\_3 & KEY\\\\\n",
       "\\hline\n",
       "\t 5.1 & 3.5 & 1.4 & 0.2 & 1  \\\\\n",
       "\t 4.9 & 3.0 & 1.4 & 0.2 & 2  \\\\\n",
       "\t 4.7 & 3.2 & 1.3 & 0.2 & 3  \\\\\n",
       "\t 4.6 & 3.1 & 1.5 & 0.2 & 4  \\\\\n",
       "\t 5.0 & 3.6 & 1.4 & 0.2 & 5  \\\\\n",
       "\t 5.4 & 3.9 & 1.7 & 0.4 & 6  \\\\\n",
       "\\end{tabular}\n"
      ],
      "text/markdown": [
       "\n",
       "Feature_0 | Feature_1 | Feature_2 | Feature_3 | KEY | \n",
       "|---|---|---|---|---|---|\n",
       "| 5.1 | 3.5 | 1.4 | 0.2 | 1   | \n",
       "| 4.9 | 3.0 | 1.4 | 0.2 | 2   | \n",
       "| 4.7 | 3.2 | 1.3 | 0.2 | 3   | \n",
       "| 4.6 | 3.1 | 1.5 | 0.2 | 4   | \n",
       "| 5.0 | 3.6 | 1.4 | 0.2 | 5   | \n",
       "| 5.4 | 3.9 | 1.7 | 0.4 | 6   | \n",
       "\n",
       "\n"
      ],
      "text/plain": [
       "  Feature_0 Feature_1 Feature_2 Feature_3 KEY\n",
       "1 5.1       3.5       1.4       0.2       1  \n",
       "2 4.9       3.0       1.4       0.2       2  \n",
       "3 4.7       3.2       1.3       0.2       3  \n",
       "4 4.6       3.1       1.5       0.2       4  \n",
       "5 5.0       3.6       1.4       0.2       5  \n",
       "6 5.4       3.9       1.7       0.4       6  "
      ]
     },
     "metadata": {},
     "output_type": "display_data"
    }
   ],
   "source": [
    "df_sql = as.data.frame(dataset)\n",
    "names(df_sql) = sprintf(\"Feature_%d\",0:(ncol(df_sql)-1))\n",
    "df_sql$KEY = seq.int(nrow(dataset))\n",
    "\n",
    "sqlDrop(conn , \"INPUT_DATA\" , errors = FALSE)\n",
    "sqlSave(conn, df_sql, tablename = \"INPUT_DATA\", verbose = FALSE)\n",
    "\n",
    "head(df_sql)"
   ]
  },
  {
   "cell_type": "code",
   "execution_count": 11,
   "metadata": {},
   "outputs": [],
   "source": [
    "# colnames(df_sql)\n",
    "# odbcGetInfo(conn)\n",
    "# sqlTables(conn)"
   ]
  },
  {
   "cell_type": "code",
   "execution_count": 12,
   "metadata": {},
   "outputs": [
    {
     "data": {
      "text/html": [
       "<table>\n",
       "<thead><tr><th scope=col>KEY</th><th scope=col>Score_no</th><th scope=col>Score_yes</th><th scope=col>Proba_no</th><th scope=col>Proba_yes</th><th scope=col>LogProba_no</th><th scope=col>LogProba_yes</th><th scope=col>Decision</th><th scope=col>DecisionProba</th></tr></thead>\n",
       "<tbody>\n",
       "\t<tr><td>1             </td><td>NA            </td><td>NA            </td><td>0.000000e+00  </td><td>1             </td><td>-1.797693e+308</td><td> 0.000000e+00 </td><td>yes           </td><td>1             </td></tr>\n",
       "\t<tr><td>2             </td><td>NA            </td><td>NA            </td><td>0.000000e+00  </td><td>1             </td><td>-1.797693e+308</td><td> 0.000000e+00 </td><td>yes           </td><td>1             </td></tr>\n",
       "\t<tr><td>3             </td><td>NA            </td><td>NA            </td><td>0.000000e+00  </td><td>1             </td><td>-1.797693e+308</td><td> 0.000000e+00 </td><td>yes           </td><td>1             </td></tr>\n",
       "\t<tr><td>4             </td><td>NA            </td><td>NA            </td><td>0.000000e+00  </td><td>1             </td><td>-1.797693e+308</td><td> 0.000000e+00 </td><td>yes           </td><td>1             </td></tr>\n",
       "\t<tr><td>5             </td><td>NA            </td><td>NA            </td><td>0.000000e+00  </td><td>1             </td><td>-1.797693e+308</td><td> 0.000000e+00 </td><td>yes           </td><td>1             </td></tr>\n",
       "\t<tr><td>6             </td><td>NA            </td><td>NA            </td><td>8.548717e-14  </td><td>1             </td><td> -3.009041e+01</td><td>-8.548717e-14 </td><td>yes           </td><td>1             </td></tr>\n",
       "</tbody>\n",
       "</table>\n"
      ],
      "text/latex": [
       "\\begin{tabular}{r|lllllllll}\n",
       " KEY & Score\\_no & Score\\_yes & Proba\\_no & Proba\\_yes & LogProba\\_no & LogProba\\_yes & Decision & DecisionProba\\\\\n",
       "\\hline\n",
       "\t 1              & NA             & NA             & 0.000000e+00   & 1              & -1.797693e+308 &  0.000000e+00  & yes            & 1             \\\\\n",
       "\t 2              & NA             & NA             & 0.000000e+00   & 1              & -1.797693e+308 &  0.000000e+00  & yes            & 1             \\\\\n",
       "\t 3              & NA             & NA             & 0.000000e+00   & 1              & -1.797693e+308 &  0.000000e+00  & yes            & 1             \\\\\n",
       "\t 4              & NA             & NA             & 0.000000e+00   & 1              & -1.797693e+308 &  0.000000e+00  & yes            & 1             \\\\\n",
       "\t 5              & NA             & NA             & 0.000000e+00   & 1              & -1.797693e+308 &  0.000000e+00  & yes            & 1             \\\\\n",
       "\t 6              & NA             & NA             & 8.548717e-14   & 1              &  -3.009041e+01 & -8.548717e-14  & yes            & 1             \\\\\n",
       "\\end{tabular}\n"
      ],
      "text/markdown": [
       "\n",
       "KEY | Score_no | Score_yes | Proba_no | Proba_yes | LogProba_no | LogProba_yes | Decision | DecisionProba | \n",
       "|---|---|---|---|---|---|\n",
       "| 1              | NA             | NA             | 0.000000e+00   | 1              | -1.797693e+308 |  0.000000e+00  | yes            | 1              | \n",
       "| 2              | NA             | NA             | 0.000000e+00   | 1              | -1.797693e+308 |  0.000000e+00  | yes            | 1              | \n",
       "| 3              | NA             | NA             | 0.000000e+00   | 1              | -1.797693e+308 |  0.000000e+00  | yes            | 1              | \n",
       "| 4              | NA             | NA             | 0.000000e+00   | 1              | -1.797693e+308 |  0.000000e+00  | yes            | 1              | \n",
       "| 5              | NA             | NA             | 0.000000e+00   | 1              | -1.797693e+308 |  0.000000e+00  | yes            | 1              | \n",
       "| 6              | NA             | NA             | 8.548717e-14   | 1              |  -3.009041e+01 | -8.548717e-14  | yes            | 1              | \n",
       "\n",
       "\n"
      ],
      "text/plain": [
       "  KEY Score_no Score_yes Proba_no     Proba_yes LogProba_no    LogProba_yes \n",
       "1 1   NA       NA        0.000000e+00 1         -1.797693e+308  0.000000e+00\n",
       "2 2   NA       NA        0.000000e+00 1         -1.797693e+308  0.000000e+00\n",
       "3 3   NA       NA        0.000000e+00 1         -1.797693e+308  0.000000e+00\n",
       "4 4   NA       NA        0.000000e+00 1         -1.797693e+308  0.000000e+00\n",
       "5 5   NA       NA        0.000000e+00 1         -1.797693e+308  0.000000e+00\n",
       "6 6   NA       NA        8.548717e-14 1          -3.009041e+01 -8.548717e-14\n",
       "  Decision DecisionProba\n",
       "1 yes      1            \n",
       "2 yes      1            \n",
       "3 yes      1            \n",
       "4 yes      1            \n",
       "5 yes      1            \n",
       "6 yes      1            "
      ]
     },
     "metadata": {},
     "output_type": "display_data"
    }
   ],
   "source": [
    "df_sql_out = sqlQuery(conn, lModelSQL)\n",
    "head(df_sql_out)"
   ]
  },
  {
   "cell_type": "code",
   "execution_count": 13,
   "metadata": {},
   "outputs": [],
   "source": [
    "# colnames(df1)"
   ]
  },
  {
   "cell_type": "markdown",
   "metadata": {},
   "source": [
    "# R XGBoost Output"
   ]
  },
  {
   "cell_type": "code",
   "execution_count": 14,
   "metadata": {},
   "outputs": [
    {
     "data": {
      "text/html": [
       "<table>\n",
       "<thead><tr><th scope=col>Proba_no</th><th scope=col>Proba_yes</th><th scope=col>KEY</th><th scope=col>Score_no</th><th scope=col>Score_yes</th><th scope=col>LogProba_no</th><th scope=col>LogProba_yes</th><th scope=col>Decision</th><th scope=col>DecisionProba</th></tr></thead>\n",
       "<tbody>\n",
       "\t<tr><td>2.220446e-16 </td><td>1            </td><td>1            </td><td>NA           </td><td>NA           </td><td>-36.04365    </td><td>-2.220446e-16</td><td>yes          </td><td>1            </td></tr>\n",
       "\t<tr><td>2.220446e-16 </td><td>1            </td><td>2            </td><td>NA           </td><td>NA           </td><td>-36.04365    </td><td>-2.220446e-16</td><td>yes          </td><td>1            </td></tr>\n",
       "\t<tr><td>2.220446e-16 </td><td>1            </td><td>3            </td><td>NA           </td><td>NA           </td><td>-36.04365    </td><td>-2.220446e-16</td><td>yes          </td><td>1            </td></tr>\n",
       "\t<tr><td>2.220446e-16 </td><td>1            </td><td>4            </td><td>NA           </td><td>NA           </td><td>-36.04365    </td><td>-2.220446e-16</td><td>yes          </td><td>1            </td></tr>\n",
       "\t<tr><td>2.220446e-16 </td><td>1            </td><td>5            </td><td>NA           </td><td>NA           </td><td>-36.04365    </td><td>-2.220446e-16</td><td>yes          </td><td>1            </td></tr>\n",
       "\t<tr><td>2.220446e-16 </td><td>1            </td><td>6            </td><td>NA           </td><td>NA           </td><td>-36.04365    </td><td>-2.220446e-16</td><td>yes          </td><td>1            </td></tr>\n",
       "</tbody>\n",
       "</table>\n"
      ],
      "text/latex": [
       "\\begin{tabular}{r|lllllllll}\n",
       " Proba\\_no & Proba\\_yes & KEY & Score\\_no & Score\\_yes & LogProba\\_no & LogProba\\_yes & Decision & DecisionProba\\\\\n",
       "\\hline\n",
       "\t 2.220446e-16  & 1             & 1             & NA            & NA            & -36.04365     & -2.220446e-16 & yes           & 1            \\\\\n",
       "\t 2.220446e-16  & 1             & 2             & NA            & NA            & -36.04365     & -2.220446e-16 & yes           & 1            \\\\\n",
       "\t 2.220446e-16  & 1             & 3             & NA            & NA            & -36.04365     & -2.220446e-16 & yes           & 1            \\\\\n",
       "\t 2.220446e-16  & 1             & 4             & NA            & NA            & -36.04365     & -2.220446e-16 & yes           & 1            \\\\\n",
       "\t 2.220446e-16  & 1             & 5             & NA            & NA            & -36.04365     & -2.220446e-16 & yes           & 1            \\\\\n",
       "\t 2.220446e-16  & 1             & 6             & NA            & NA            & -36.04365     & -2.220446e-16 & yes           & 1            \\\\\n",
       "\\end{tabular}\n"
      ],
      "text/markdown": [
       "\n",
       "Proba_no | Proba_yes | KEY | Score_no | Score_yes | LogProba_no | LogProba_yes | Decision | DecisionProba | \n",
       "|---|---|---|---|---|---|\n",
       "| 2.220446e-16  | 1             | 1             | NA            | NA            | -36.04365     | -2.220446e-16 | yes           | 1             | \n",
       "| 2.220446e-16  | 1             | 2             | NA            | NA            | -36.04365     | -2.220446e-16 | yes           | 1             | \n",
       "| 2.220446e-16  | 1             | 3             | NA            | NA            | -36.04365     | -2.220446e-16 | yes           | 1             | \n",
       "| 2.220446e-16  | 1             | 4             | NA            | NA            | -36.04365     | -2.220446e-16 | yes           | 1             | \n",
       "| 2.220446e-16  | 1             | 5             | NA            | NA            | -36.04365     | -2.220446e-16 | yes           | 1             | \n",
       "| 2.220446e-16  | 1             | 6             | NA            | NA            | -36.04365     | -2.220446e-16 | yes           | 1             | \n",
       "\n",
       "\n"
      ],
      "text/plain": [
       "  Proba_no     Proba_yes KEY Score_no Score_yes LogProba_no LogProba_yes \n",
       "1 2.220446e-16 1         1   NA       NA        -36.04365   -2.220446e-16\n",
       "2 2.220446e-16 1         2   NA       NA        -36.04365   -2.220446e-16\n",
       "3 2.220446e-16 1         3   NA       NA        -36.04365   -2.220446e-16\n",
       "4 2.220446e-16 1         4   NA       NA        -36.04365   -2.220446e-16\n",
       "5 2.220446e-16 1         5   NA       NA        -36.04365   -2.220446e-16\n",
       "6 2.220446e-16 1         6   NA       NA        -36.04365   -2.220446e-16\n",
       "  Decision DecisionProba\n",
       "1 yes      1            \n",
       "2 yes      1            \n",
       "3 yes      1            \n",
       "4 yes      1            \n",
       "5 yes      1            \n",
       "6 yes      1            "
      ]
     },
     "metadata": {},
     "output_type": "display_data"
    }
   ],
   "source": [
    "pred  =  predict(model, as.matrix(dataset), type = \"prob\")\n",
    "# pred <- matrix(pred , ncol=3, byrow=TRUE)\n",
    "# p0 = 1 - pred\n",
    "df_r_out = data.frame(pred)\n",
    "names(df_r_out) = sprintf(\"Proba_%s\",model$levels)\n",
    "\n",
    "df_r_out$KEY = seq.int(nrow(dataset))\n",
    "df_r_out$Score_no  =  NA\n",
    "df_r_out$Score_yes  =  NA\n",
    "df_r_out$LogProba_no  =  log(df_r_out$Proba_no)\n",
    "df_r_out$LogProba_yes  =  log(df_r_out$Proba_yes)\n",
    "df_r_out$Decision =   predict(model, as.matrix(dataset), type = \"raw\")\n",
    "df_r_out$DecisionProba =  apply(pred, 1, function(x) max(x))\n",
    "head(df_r_out)\n"
   ]
  },
  {
   "cell_type": "code",
   "execution_count": 15,
   "metadata": {},
   "outputs": [],
   "source": [
    "# df_r_out"
   ]
  },
  {
   "cell_type": "markdown",
   "metadata": {},
   "source": [
    "# Compare R and SQL output"
   ]
  },
  {
   "cell_type": "code",
   "execution_count": 16,
   "metadata": {},
   "outputs": [
    {
     "data": {
      "text/html": [
       "<table>\n",
       "<thead><tr><th scope=col>KEY</th><th scope=col>Proba_no_1</th><th scope=col>Proba_yes_1</th><th scope=col>Score_no_1</th><th scope=col>Score_yes_1</th><th scope=col>LogProba_no_1</th><th scope=col>LogProba_yes_1</th><th scope=col>Decision_1</th><th scope=col>DecisionProba_1</th><th scope=col>Score_no_2</th><th scope=col>Score_yes_2</th><th scope=col>Proba_no_2</th><th scope=col>Proba_yes_2</th><th scope=col>LogProba_no_2</th><th scope=col>LogProba_yes_2</th><th scope=col>Decision_2</th><th scope=col>DecisionProba_2</th></tr></thead>\n",
       "<tbody>\n",
       "\t<tr><td>1             </td><td>2.220446e-16  </td><td>1             </td><td>NA            </td><td>NA            </td><td>-36.04365     </td><td>-2.220446e-16 </td><td>yes           </td><td>1             </td><td>NA            </td><td>NA            </td><td>0.000000e+00  </td><td>1             </td><td>-1.797693e+308</td><td> 0.000000e+00 </td><td>yes           </td><td>1             </td></tr>\n",
       "\t<tr><td>2             </td><td>2.220446e-16  </td><td>1             </td><td>NA            </td><td>NA            </td><td>-36.04365     </td><td>-2.220446e-16 </td><td>yes           </td><td>1             </td><td>NA            </td><td>NA            </td><td>0.000000e+00  </td><td>1             </td><td>-1.797693e+308</td><td> 0.000000e+00 </td><td>yes           </td><td>1             </td></tr>\n",
       "\t<tr><td>3             </td><td>2.220446e-16  </td><td>1             </td><td>NA            </td><td>NA            </td><td>-36.04365     </td><td>-2.220446e-16 </td><td>yes           </td><td>1             </td><td>NA            </td><td>NA            </td><td>0.000000e+00  </td><td>1             </td><td>-1.797693e+308</td><td> 0.000000e+00 </td><td>yes           </td><td>1             </td></tr>\n",
       "\t<tr><td>4             </td><td>2.220446e-16  </td><td>1             </td><td>NA            </td><td>NA            </td><td>-36.04365     </td><td>-2.220446e-16 </td><td>yes           </td><td>1             </td><td>NA            </td><td>NA            </td><td>0.000000e+00  </td><td>1             </td><td>-1.797693e+308</td><td> 0.000000e+00 </td><td>yes           </td><td>1             </td></tr>\n",
       "\t<tr><td>5             </td><td>2.220446e-16  </td><td>1             </td><td>NA            </td><td>NA            </td><td>-36.04365     </td><td>-2.220446e-16 </td><td>yes           </td><td>1             </td><td>NA            </td><td>NA            </td><td>0.000000e+00  </td><td>1             </td><td>-1.797693e+308</td><td> 0.000000e+00 </td><td>yes           </td><td>1             </td></tr>\n",
       "\t<tr><td>6             </td><td>2.220446e-16  </td><td>1             </td><td>NA            </td><td>NA            </td><td>-36.04365     </td><td>-2.220446e-16 </td><td>yes           </td><td>1             </td><td>NA            </td><td>NA            </td><td>8.548717e-14  </td><td>1             </td><td> -3.009041e+01</td><td>-8.548717e-14 </td><td>yes           </td><td>1             </td></tr>\n",
       "</tbody>\n",
       "</table>\n"
      ],
      "text/latex": [
       "\\begin{tabular}{r|lllllllllllllllll}\n",
       " KEY & Proba\\_no\\_1 & Proba\\_yes\\_1 & Score\\_no\\_1 & Score\\_yes\\_1 & LogProba\\_no\\_1 & LogProba\\_yes\\_1 & Decision\\_1 & DecisionProba\\_1 & Score\\_no\\_2 & Score\\_yes\\_2 & Proba\\_no\\_2 & Proba\\_yes\\_2 & LogProba\\_no\\_2 & LogProba\\_yes\\_2 & Decision\\_2 & DecisionProba\\_2\\\\\n",
       "\\hline\n",
       "\t 1              & 2.220446e-16   & 1              & NA             & NA             & -36.04365      & -2.220446e-16  & yes            & 1              & NA             & NA             & 0.000000e+00   & 1              & -1.797693e+308 &  0.000000e+00  & yes            & 1             \\\\\n",
       "\t 2              & 2.220446e-16   & 1              & NA             & NA             & -36.04365      & -2.220446e-16  & yes            & 1              & NA             & NA             & 0.000000e+00   & 1              & -1.797693e+308 &  0.000000e+00  & yes            & 1             \\\\\n",
       "\t 3              & 2.220446e-16   & 1              & NA             & NA             & -36.04365      & -2.220446e-16  & yes            & 1              & NA             & NA             & 0.000000e+00   & 1              & -1.797693e+308 &  0.000000e+00  & yes            & 1             \\\\\n",
       "\t 4              & 2.220446e-16   & 1              & NA             & NA             & -36.04365      & -2.220446e-16  & yes            & 1              & NA             & NA             & 0.000000e+00   & 1              & -1.797693e+308 &  0.000000e+00  & yes            & 1             \\\\\n",
       "\t 5              & 2.220446e-16   & 1              & NA             & NA             & -36.04365      & -2.220446e-16  & yes            & 1              & NA             & NA             & 0.000000e+00   & 1              & -1.797693e+308 &  0.000000e+00  & yes            & 1             \\\\\n",
       "\t 6              & 2.220446e-16   & 1              & NA             & NA             & -36.04365      & -2.220446e-16  & yes            & 1              & NA             & NA             & 8.548717e-14   & 1              &  -3.009041e+01 & -8.548717e-14  & yes            & 1             \\\\\n",
       "\\end{tabular}\n"
      ],
      "text/markdown": [
       "\n",
       "KEY | Proba_no_1 | Proba_yes_1 | Score_no_1 | Score_yes_1 | LogProba_no_1 | LogProba_yes_1 | Decision_1 | DecisionProba_1 | Score_no_2 | Score_yes_2 | Proba_no_2 | Proba_yes_2 | LogProba_no_2 | LogProba_yes_2 | Decision_2 | DecisionProba_2 | \n",
       "|---|---|---|---|---|---|\n",
       "| 1              | 2.220446e-16   | 1              | NA             | NA             | -36.04365      | -2.220446e-16  | yes            | 1              | NA             | NA             | 0.000000e+00   | 1              | -1.797693e+308 |  0.000000e+00  | yes            | 1              | \n",
       "| 2              | 2.220446e-16   | 1              | NA             | NA             | -36.04365      | -2.220446e-16  | yes            | 1              | NA             | NA             | 0.000000e+00   | 1              | -1.797693e+308 |  0.000000e+00  | yes            | 1              | \n",
       "| 3              | 2.220446e-16   | 1              | NA             | NA             | -36.04365      | -2.220446e-16  | yes            | 1              | NA             | NA             | 0.000000e+00   | 1              | -1.797693e+308 |  0.000000e+00  | yes            | 1              | \n",
       "| 4              | 2.220446e-16   | 1              | NA             | NA             | -36.04365      | -2.220446e-16  | yes            | 1              | NA             | NA             | 0.000000e+00   | 1              | -1.797693e+308 |  0.000000e+00  | yes            | 1              | \n",
       "| 5              | 2.220446e-16   | 1              | NA             | NA             | -36.04365      | -2.220446e-16  | yes            | 1              | NA             | NA             | 0.000000e+00   | 1              | -1.797693e+308 |  0.000000e+00  | yes            | 1              | \n",
       "| 6              | 2.220446e-16   | 1              | NA             | NA             | -36.04365      | -2.220446e-16  | yes            | 1              | NA             | NA             | 8.548717e-14   | 1              |  -3.009041e+01 | -8.548717e-14  | yes            | 1              | \n",
       "\n",
       "\n"
      ],
      "text/plain": [
       "  KEY Proba_no_1   Proba_yes_1 Score_no_1 Score_yes_1 LogProba_no_1\n",
       "1 1   2.220446e-16 1           NA         NA          -36.04365    \n",
       "2 2   2.220446e-16 1           NA         NA          -36.04365    \n",
       "3 3   2.220446e-16 1           NA         NA          -36.04365    \n",
       "4 4   2.220446e-16 1           NA         NA          -36.04365    \n",
       "5 5   2.220446e-16 1           NA         NA          -36.04365    \n",
       "6 6   2.220446e-16 1           NA         NA          -36.04365    \n",
       "  LogProba_yes_1 Decision_1 DecisionProba_1 Score_no_2 Score_yes_2 Proba_no_2  \n",
       "1 -2.220446e-16  yes        1               NA         NA          0.000000e+00\n",
       "2 -2.220446e-16  yes        1               NA         NA          0.000000e+00\n",
       "3 -2.220446e-16  yes        1               NA         NA          0.000000e+00\n",
       "4 -2.220446e-16  yes        1               NA         NA          0.000000e+00\n",
       "5 -2.220446e-16  yes        1               NA         NA          0.000000e+00\n",
       "6 -2.220446e-16  yes        1               NA         NA          8.548717e-14\n",
       "  Proba_yes_2 LogProba_no_2  LogProba_yes_2 Decision_2 DecisionProba_2\n",
       "1 1           -1.797693e+308  0.000000e+00  yes        1              \n",
       "2 1           -1.797693e+308  0.000000e+00  yes        1              \n",
       "3 1           -1.797693e+308  0.000000e+00  yes        1              \n",
       "4 1           -1.797693e+308  0.000000e+00  yes        1              \n",
       "5 1           -1.797693e+308  0.000000e+00  yes        1              \n",
       "6 1            -3.009041e+01 -8.548717e-14  yes        1              "
      ]
     },
     "metadata": {},
     "output_type": "display_data"
    }
   ],
   "source": [
    "df_merge = merge(x = df_r_out, y = df_sql_out, by = \"KEY\", all = TRUE, , suffixes = c(\"_1\",\"_2\"))\n",
    "head(df_merge)"
   ]
  },
  {
   "cell_type": "code",
   "execution_count": null,
   "metadata": {},
   "outputs": [],
   "source": []
  },
  {
   "cell_type": "code",
   "execution_count": 17,
   "metadata": {},
   "outputs": [
    {
     "data": {
      "text/html": [
       "<table>\n",
       "<thead><tr><th scope=col>KEY</th><th scope=col>Proba_no_1</th><th scope=col>Proba_yes_1</th><th scope=col>Score_no_1</th><th scope=col>Score_yes_1</th><th scope=col>LogProba_no_1</th><th scope=col>LogProba_yes_1</th><th scope=col>Decision_1</th><th scope=col>DecisionProba_1</th><th scope=col>Score_no_2</th><th scope=col>Score_yes_2</th><th scope=col>Proba_no_2</th><th scope=col>Proba_yes_2</th><th scope=col>LogProba_no_2</th><th scope=col>LogProba_yes_2</th><th scope=col>Decision_2</th><th scope=col>DecisionProba_2</th></tr></thead>\n",
       "<tbody>\n",
       "</tbody>\n",
       "</table>\n"
      ],
      "text/latex": [
       "\\begin{tabular}{r|lllllllllllllllll}\n",
       " KEY & Proba\\_no\\_1 & Proba\\_yes\\_1 & Score\\_no\\_1 & Score\\_yes\\_1 & LogProba\\_no\\_1 & LogProba\\_yes\\_1 & Decision\\_1 & DecisionProba\\_1 & Score\\_no\\_2 & Score\\_yes\\_2 & Proba\\_no\\_2 & Proba\\_yes\\_2 & LogProba\\_no\\_2 & LogProba\\_yes\\_2 & Decision\\_2 & DecisionProba\\_2\\\\\n",
       "\\hline\n",
       "\\end{tabular}\n"
      ],
      "text/markdown": [
       "\n",
       "KEY | Proba_no_1 | Proba_yes_1 | Score_no_1 | Score_yes_1 | LogProba_no_1 | LogProba_yes_1 | Decision_1 | DecisionProba_1 | Score_no_2 | Score_yes_2 | Proba_no_2 | Proba_yes_2 | LogProba_no_2 | LogProba_yes_2 | Decision_2 | DecisionProba_2 | \n",
       "||\n",
       "\n",
       "\n"
      ],
      "text/plain": [
       "     KEY Proba_no_1 Proba_yes_1 Score_no_1 Score_yes_1 LogProba_no_1\n",
       "     LogProba_yes_1 Decision_1 DecisionProba_1 Score_no_2 Score_yes_2\n",
       "     Proba_no_2 Proba_yes_2 LogProba_no_2 LogProba_yes_2 Decision_2\n",
       "     DecisionProba_2"
      ]
     },
     "metadata": {},
     "output_type": "display_data"
    }
   ],
   "source": [
    "diffs_df = df_merge[df_merge$Decision_1 != df_merge$Decision_2,]\n",
    "head(diffs_df)"
   ]
  },
  {
   "cell_type": "code",
   "execution_count": 18,
   "metadata": {},
   "outputs": [],
   "source": [
    "stopifnot(nrow(diffs_df) == 0)"
   ]
  },
  {
   "cell_type": "code",
   "execution_count": null,
   "metadata": {},
   "outputs": [],
   "source": []
  },
  {
   "cell_type": "code",
   "execution_count": 19,
   "metadata": {},
   "outputs": [
    {
     "data": {
      "text/plain": [
       "      KEY         Score_no       Score_yes         Proba_no     \n",
       " Min.   :  1.00   Mode:logical   Mode:logical   Min.   :0.0000  \n",
       " 1st Qu.: 38.25   NA's:150       NA's:150       1st Qu.:0.0000  \n",
       " Median : 75.50                                 Median :1.0000  \n",
       " Mean   : 75.50                                 Mean   :0.6667  \n",
       " 3rd Qu.:112.75                                 3rd Qu.:1.0000  \n",
       " Max.   :150.00                                 Max.   :1.0000  \n",
       "   Proba_yes       LogProba_no           LogProba_yes    Decision \n",
       " Min.   :0.0000   Min.   :-1.798e+308   Min.   :-40.83   no :100  \n",
       " 1st Qu.:0.0000   1st Qu.: -3.400e+01   1st Qu.:-40.83   yes: 50  \n",
       " Median :0.0000   Median :  0.000e+00   Median :-40.83            \n",
       " Mean   :0.3333   Mean   :-4.434e+307   Mean   :-26.98            \n",
       " 3rd Qu.:1.0000   3rd Qu.:  0.000e+00   3rd Qu.:  0.00            \n",
       " Max.   :1.0000   Max.   :  0.000e+00   Max.   :  0.00            \n",
       " DecisionProba\n",
       " Min.   :1    \n",
       " 1st Qu.:1    \n",
       " Median :1    \n",
       " Mean   :1    \n",
       " 3rd Qu.:1    \n",
       " Max.   :1    "
      ]
     },
     "metadata": {},
     "output_type": "display_data"
    }
   ],
   "source": [
    "summary(df_sql_out)"
   ]
  },
  {
   "cell_type": "code",
   "execution_count": 20,
   "metadata": {},
   "outputs": [
    {
     "data": {
      "text/plain": [
       "    Proba_no        Proba_yes           KEY         Score_no      \n",
       " Min.   :0.0000   Min.   :0.0000   Min.   :  1.00   Mode:logical  \n",
       " 1st Qu.:0.0000   1st Qu.:0.0000   1st Qu.: 38.25   NA's:150      \n",
       " Median :1.0000   Median :0.0000   Median : 75.50                 \n",
       " Mean   :0.6667   Mean   :0.3333   Mean   : 75.50                 \n",
       " 3rd Qu.:1.0000   3rd Qu.:1.0000   3rd Qu.:112.75                 \n",
       " Max.   :1.0000   Max.   :1.0000   Max.   :150.00                 \n",
       " Score_yes       LogProba_no      LogProba_yes    Decision  DecisionProba\n",
       " Mode:logical   Min.   :-36.04   Min.   :-36.04   no :100   Min.   :1    \n",
       " NA's:150       1st Qu.:-36.04   1st Qu.:-36.04   yes: 50   1st Qu.:1    \n",
       "                Median :  0.00   Median :-36.04             Median :1    \n",
       "                Mean   :-11.83   Mean   :-23.93             Mean   :1    \n",
       "                3rd Qu.:  0.00   3rd Qu.:  0.00             3rd Qu.:1    \n",
       "                Max.   :  0.00   Max.   :  0.00             Max.   :1    "
      ]
     },
     "metadata": {},
     "output_type": "display_data"
    }
   ],
   "source": [
    "summary(df_r_out)"
   ]
  },
  {
   "cell_type": "code",
   "execution_count": 21,
   "metadata": {},
   "outputs": [],
   "source": [
    "earth1 = model$finalModel"
   ]
  },
  {
   "cell_type": "code",
   "execution_count": 22,
   "metadata": {},
   "outputs": [
    {
     "data": {
      "text/html": [
       "<table>\n",
       "<thead><tr><th></th><th scope=col>yes</th></tr></thead>\n",
       "<tbody>\n",
       "\t<tr><th scope=row>(Intercept)</th><td>-6.329672e-05</td></tr>\n",
       "\t<tr><th scope=row>h(3.5-Petal.Length)</th><td> 4.864737e-01</td></tr>\n",
       "</tbody>\n",
       "</table>\n"
      ],
      "text/latex": [
       "\\begin{tabular}{r|l}\n",
       "  & yes\\\\\n",
       "\\hline\n",
       "\t(Intercept) & -6.329672e-05\\\\\n",
       "\th(3.5-Petal.Length) &  4.864737e-01\\\\\n",
       "\\end{tabular}\n"
      ],
      "text/markdown": [
       "\n",
       "| <!--/--> | yes | \n",
       "|---|---|\n",
       "| (Intercept) | -6.329672e-05 | \n",
       "| h(3.5-Petal.Length) |  4.864737e-01 | \n",
       "\n",
       "\n"
      ],
      "text/plain": [
       "                    yes          \n",
       "(Intercept)         -6.329672e-05\n",
       "h(3.5-Petal.Length)  4.864737e-01"
      ]
     },
     "metadata": {},
     "output_type": "display_data"
    }
   ],
   "source": [
    "earth1$coefficients"
   ]
  },
  {
   "cell_type": "code",
   "execution_count": 23,
   "metadata": {},
   "outputs": [
    {
     "data": {
      "text/html": [
       "<table>\n",
       "<thead><tr><th></th><th scope=col>yes</th></tr></thead>\n",
       "<tbody>\n",
       "\t<tr><th scope=row>(Intercept)</th><td>-40.82675</td></tr>\n",
       "\t<tr><th scope=row>h(3.5-Petal.Length)</th><td> 39.39894</td></tr>\n",
       "</tbody>\n",
       "</table>\n"
      ],
      "text/latex": [
       "\\begin{tabular}{r|l}\n",
       "  & yes\\\\\n",
       "\\hline\n",
       "\t(Intercept) & -40.82675\\\\\n",
       "\th(3.5-Petal.Length) &  39.39894\\\\\n",
       "\\end{tabular}\n"
      ],
      "text/markdown": [
       "\n",
       "| <!--/--> | yes | \n",
       "|---|---|\n",
       "| (Intercept) | -40.82675 | \n",
       "| h(3.5-Petal.Length) |  39.39894 | \n",
       "\n",
       "\n"
      ],
      "text/plain": [
       "                    yes      \n",
       "(Intercept)         -40.82675\n",
       "h(3.5-Petal.Length)  39.39894"
      ]
     },
     "metadata": {},
     "output_type": "display_data"
    }
   ],
   "source": [
    "earth1$glm.coefficients"
   ]
  },
  {
   "cell_type": "code",
   "execution_count": null,
   "metadata": {},
   "outputs": [],
   "source": []
  }
 ],
 "metadata": {
  "kernelspec": {
   "display_name": "R",
   "language": "R",
   "name": "ir"
  },
  "language_info": {
   "codemirror_mode": "r",
   "file_extension": ".r",
   "mimetype": "text/x-r-source",
   "name": "R",
   "pygments_lexer": "r",
   "version": "3.5.1"
  }
 },
 "nbformat": 4,
 "nbformat_minor": 2
}
