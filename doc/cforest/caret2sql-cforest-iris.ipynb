{
 "cells": [
  {
   "cell_type": "code",
   "execution_count": 1,
   "metadata": {},
   "outputs": [
    {
     "name": "stderr",
     "output_type": "stream",
     "text": [
      "Loading required package: grid\n",
      "Loading required package: mvtnorm\n",
      "Loading required package: modeltools\n",
      "Loading required package: stats4\n",
      "Loading required package: strucchange\n",
      "Loading required package: zoo\n",
      "\n",
      "Attaching package: ‘zoo’\n",
      "\n",
      "The following objects are masked from ‘package:base’:\n",
      "\n",
      "    as.Date, as.Date.numeric\n",
      "\n",
      "Loading required package: sandwich\n",
      "\n",
      "Attaching package: ‘httr’\n",
      "\n",
      "The following object is masked from ‘package:caret’:\n",
      "\n",
      "    progress\n",
      "\n"
     ]
    }
   ],
   "source": [
    "library(caret, quiet=TRUE);\n",
    "library(base64enc)\n",
    "library(party)\n",
    "library(httr)\n"
   ]
  },
  {
   "cell_type": "markdown",
   "metadata": {},
   "source": [
    "# Build a Model"
   ]
  },
  {
   "cell_type": "code",
   "execution_count": 2,
   "metadata": {},
   "outputs": [],
   "source": [
    "set.seed(1960)\n",
    "\n",
    "create_model  =  function() {\n",
    "\n",
    "    model  <- train(Species ~ ., data = iris, method = \"cforest\",\n",
    "                     controls=cforest_control(maxdepth=3, ntree=512, mtry=3))\n",
    "    \n",
    "    return(model)\n",
    "}"
   ]
  },
  {
   "cell_type": "code",
   "execution_count": 3,
   "metadata": {},
   "outputs": [],
   "source": [
    "# dataset\n",
    "model = create_model()"
   ]
  },
  {
   "cell_type": "code",
   "execution_count": 4,
   "metadata": {},
   "outputs": [
    {
     "data": {
      "text/html": [
       "0.0466666666666667"
      ],
      "text/latex": [
       "0.0466666666666667"
      ],
      "text/markdown": [
       "0.0466666666666667"
      ],
      "text/plain": [
       "[1] 0.04666667"
      ]
     },
     "metadata": {},
     "output_type": "display_data"
    }
   ],
   "source": [
    "pred <- predict(model, as.matrix(iris[, -5]) , type=\"prob\")\n",
    "pred_labels <- predict(model, as.matrix(iris[, -5]) , type=\"raw\")\n",
    "sum(pred_labels != iris$Species)/length(pred_labels)\n"
   ]
  },
  {
   "cell_type": "markdown",
   "metadata": {},
   "source": [
    "# SQL Code Generation"
   ]
  },
  {
   "cell_type": "code",
   "execution_count": 5,
   "metadata": {},
   "outputs": [],
   "source": [
    "\n",
    "test_ws_sql_gen = function(mod) {\n",
    "    WS_URL = \"https://sklearn2sql.herokuapp.com/model\"\n",
    "    WS_URL = \"http://localhost:1888/model\"\n",
    "    model_serialized <- serialize(mod, NULL)\n",
    "    b64_data = base64encode(model_serialized)\n",
    "    data = list(Name = \"caret_test_model\", SerializedModel = b64_data , SQLDialect = \"postgresql\" , Mode=\"caret\")\n",
    "    r = POST(WS_URL, body = data, encode = \"json\")\n",
    "    # print(r)\n",
    "    content = content(r)\n",
    "    # print(content)\n",
    "    lSQL = content$model$SQLGenrationResult[[1]]$SQL # content[\"model\"][\"SQLGenrationResult\"][0][\"SQL\"]\n",
    "    return(lSQL);\n",
    "}"
   ]
  },
  {
   "cell_type": "code",
   "execution_count": 6,
   "metadata": {
    "scrolled": false
   },
   "outputs": [
    {
     "name": "stdout",
     "output_type": "stream",
     "text": [
      "WITH \"RF_0\" AS \n",
      "(WITH \"DT_node_lookup\" AS \n",
      "(SELECT \"ADS\".\"KEY\" AS \"KEY\", CASE WHEN (\"ADS\".\"Feature_2\" <= 1.9) THEN 2 ELSE CASE WHEN (\"ADS\".\"Feature_3\" <= 1.6) THEN CASE WHEN (\"ADS\".\"Feature_2\" <= 4.6) THEN 5 ELSE 6 END ELSE CASE WHEN (\"ADS\".\"Feature_3\" <= 1.8) THEN 8 ELSE 9 END END END AS node_id_2 \n",
      "FROM \"INPUT_DATA\" AS \"ADS\"), \n",
      "\"DT_node_data\" AS \n",
      "(SELECT \"Values\".nid AS nid, \"Values\".\"P_0\" AS \"P_0\", \"Values\".\"P_1\" AS \"P_1\", \"Values\".\"P_2\" AS \"P_2\", \"Values\".\"D\" AS \"D\", \"Values\".\"DP\" AS \"DP\" \n",
      "FROM (SELECT 2 AS nid, 1.0 AS \"P_0\", 0.0 AS \"P_1\", 0.0 AS \"P_2\", 0 AS \"D\", 1.0 AS \"DP\" UNION ALL SELECT 5 AS nid, 0.0 AS \"P_0\", 1.0 AS \"P_1\", 0.0 AS \"P_2\", 1 AS \"D\", 1.0 AS \"DP\" UNION ALL SELECT 6 AS nid, 0.0 AS \"P_0\", 0.692307692307692 AS \"P_1\", 0.307692307692308 AS \"P_2\", 1 AS \"D\", 0.692307692307692 AS \"DP\" UNION ALL SELECT 8 AS nid, 0.0 AS \"P_0\", 0.2 AS \"P_1\", 0.8 AS \"P_2\", 2 AS \"D\", 0.8 AS \"DP\" UNION ALL SELECT 9 AS nid, 0.0 AS \"P_0\", 0.0 AS \"P_1\", 1.0 AS \"P_2\", 2 AS \"D\", 1.0 AS \"DP\") AS \"Values\"), \n",
      "\"DT_Output\" AS \n",
      "(SELECT \"DT_node_lookup\".\"KEY\" AS \"KEY\", \"DT_node_lookup\".node_id_2 AS node_id_2, \"DT_node_data\".nid AS nid, \"DT_node_data\".\"P_0\" AS \"P_0\", \"DT_node_data\".\"P_1\" AS \"P_1\", \"DT_node_data\".\"P_2\" AS \"P_2\", \"DT_node_data\".\"D\" AS \"D\", \"DT_node_data\".\"DP\" AS \"DP\" \n",
      "FROM \"DT_node_lookup\" LEFT OUTER JOIN \"DT_node_data\" ON \"DT_node_lookup\".node_id_2 = \"DT_node_data\".nid), \n",
      "\"RF_Model_0\" AS \n",
      "(SELECT \"DT_Output\".\"KEY\" AS \"KEY\", CAST(NULL AS FLOAT) AS \"Score_setosa\", \"DT_Output\".\"P_0\" AS \"Proba_setosa\", CASE WHEN (\"DT_Output\".\"P_0\" IS NULL OR \"DT_Output\".\"P_0\" > 0.0) THEN ln(\"DT_Output\".\"P_0\") ELSE -1.79769313486231e+308 END AS \"LogProba_setosa\", CAST(NULL AS FLOAT) AS \"Score_versicolor\", \"DT_Output\".\"P_1\" AS \"Proba_versicolor\", CASE WHEN (\"DT_Output\".\"P_1\" IS NULL OR \"DT_Output\".\"P_1\" > 0.0) THEN ln(\"DT_Output\".\"P_1\") ELSE -1.79769313486231e+308 END AS \"LogProba_versicolor\", CAST(NULL AS FLOAT) AS \"Score_virginica\", \"DT_Output\".\"P_2\" AS \"Proba_virginica\", CASE WHEN (\"DT_Output \n",
      " ... \n",
      " (SELECT \"DT_Output_263\".\"KEY\" AS \"KEY\", CAST(NULL AS FLOAT) AS \"Score_setosa\", \"DT_Output_263\".\"P_0\" AS \"Proba_setosa\", CASE WHEN (\"DT_Output_263\".\"P_0\" IS NULL OR \"DT_Output_263\".\"P_0\" > 0.0) THEN ln(\"DT_Output_263\".\"P_0\") ELSE -1.79769313486231e+308 END AS \"LogProba_setosa\", CAST(NULL AS FLOAT) AS \"Score_versicolor\", \"DT_Output_263\".\"P_1\" AS \"Proba_versicolor\", CASE WHEN (\"DT_Output_263\".\"P_1\" IS NULL OR \"DT_Output_263\".\"P_1\" > 0.0) THEN ln(\"DT_Output_263\".\"P_1\") ELSE -1.79769313486231e+308 END AS \"LogProba_versicolor\", CAST(NULL AS FLOAT) AS \"Score_virginica\", \"DT_Output_263\".\"P_2\" AS \"Proba_virginica\", CASE WHEN (\"DT_Output_263\".\"P_2\" IS NULL OR \"DT_Output_263\".\"P_2\" > 0.0) THEN ln(\"DT_Output_263\".\"P_2\") ELSE -1.79769313486231e+308 END AS \"LogProba_virginica\" \n",
      "FROM \"DT_Output_263\"), \n",
      "\"DT_node_lookup_264\" AS \n",
      "(SELECT \"ADS\".\"KEY\" AS \"KEY\", CASE WHEN (\"ADS\".\"Feature_2\" <= 1.9) THEN 2 ELSE CASE WHEN (\"ADS\".\"Feature_3\" <= 1.5) THEN CASE WHEN (\"ADS\".\"Feature_2\" <= 4.6) THEN 5 ELSE 6 END ELSE CASE WHEN (\"ADS\".\"Feature_2\" <= 5.0) THEN 8 ELSE 9 END END END AS node_id_2 \n",
      "FROM \"INPUT_DATA\" AS \"ADS\"), \n",
      "\"DT_node_data_264\" AS \n",
      "(SELECT \"Values\".nid AS nid, \"Values\".\"P_0\" AS \"P_0\", \"Values\".\"P_1\" AS \"P_1\", \"Values\".\"P_2\" AS \"P_2\", \"Values\".\"D\" AS \"D\", \"Values\".\"DP\" AS \"DP\" \n",
      "FROM (SELECT 2 AS nid, 1.0 AS \"P_0\", 0.0 AS \"P_1\", 0.0 AS \"P_2\", 0 AS \"D\", 1.0 AS \"DP\" UNION ALL SELECT 5 AS nid, 0.0 AS \"P_0\", 1.0 AS \"P_1\", 0.0 AS \"P_2\", 1 AS \"D\", 1.0 AS \"DP\" UNION ALL SELECT 6 AS nid, 0.0 AS \"P_0\", 0.666666666666667 AS \"P_1\", 0.333333333333333 AS \"P_2\", 1 AS \"D\", 0.666666666666667 AS \"DP\" UNION ALL SELECT 8 AS nid, 0.0 AS \"P_0\", 0.272727272727273 AS \"P_1\", 0.727272727272727 AS \"P_2\", 2 AS \"D\", 0.727272727272727 AS \"DP\" UNION ALL SELECT 9 AS nid, 0.0 AS \"P_0\", 0.0 AS \"P_1\", 1.0 AS \"P_2\", 2 AS \"D\", 1.0 AS \"DP\") AS \"Values\"), \n",
      "\"DT_Output_264\" AS \n",
      "(SELECT \"DT_node_lookup_264\".\"KEY\" AS \"KEY\", \"DT_node_lookup_264\".node_id_2 AS node_id_2, \"DT_node_data_264\".nid AS nid, \"DT_node_data_264\".\"P_0\" A \n",
      " ... \n",
      " core_max.\"Score_setosa\" AS \"Score_setosa\", score_max.\"Score_versicolor\" AS \"Score_versicolor\", score_max.\"Score_virginica\" AS \"Score_virginica\", score_max.\"Proba_setosa\" AS \"Proba_setosa\", score_max.\"Proba_versicolor\" AS \"Proba_versicolor\", score_max.\"Proba_virginica\" AS \"Proba_virginica\", score_max.\"LogProba_setosa\" AS \"LogProba_setosa\", score_max.\"LogProba_versicolor\" AS \"LogProba_versicolor\", score_max.\"LogProba_virginica\" AS \"LogProba_virginica\", score_max.\"Decision\" AS \"Decision\", score_max.\"DecisionProba\" AS \"DecisionProba\", score_max.\"KEY_m\" AS \"KEY_m\", score_max.\"max_Proba\" AS \"max_Proba\", \"arg_max_t_Proba\".\"KEY_Proba\" AS \"KEY_Proba\", \"arg_max_t_Proba\".\"arg_max_Proba\" AS \"arg_max_Proba\" \n",
      "FROM score_max LEFT OUTER JOIN (SELECT union_with_max.\"KEY\" AS \"KEY_Proba\", max(union_with_max.class) AS \"arg_max_Proba\" \n",
      "FROM union_with_max \n",
      "WHERE union_with_max.\"max_Proba\" <= union_with_max.\"Proba\" GROUP BY union_with_max.\"KEY\") AS \"arg_max_t_Proba\" ON score_max.\"KEY\" = \"arg_max_t_Proba\".\"KEY_Proba\")\n",
      " SELECT arg_max_cte.\"KEY\" AS \"KEY\", arg_max_cte.\"Score_setosa\" AS \"Score_setosa\", arg_max_cte.\"Score_versicolor\" AS \"Score_versicolor\", arg_max_cte.\"Score_virginica\" AS \"Score_virginica\", arg_max_cte.\"Proba_setosa\" AS \"Proba_setosa\", arg_max_cte.\"Proba_versicolor\" AS \"Proba_versicolor\", arg_max_cte.\"Proba_virginica\" AS \"Proba_virginica\", CASE WHEN (arg_max_cte.\"Proba_setosa\" IS NULL OR arg_max_cte.\"Proba_setosa\" > 0.0) THEN ln(arg_max_cte.\"Proba_setosa\") ELSE -1.79769313486231e+308 END AS \"LogProba_setosa\", CASE WHEN (arg_max_cte.\"Proba_versicolor\" IS NULL OR arg_max_cte.\"Proba_versicolor\" > 0.0) THEN ln(arg_max_cte.\"Proba_versicolor\") ELSE -1.79769313486231e+308 END AS \"LogProba_versicolor\", CASE WHEN (arg_max_cte.\"Proba_virginica\" IS NULL OR arg_max_cte.\"Proba_virginica\" > 0.0) THEN ln(arg_max_cte.\"Proba_virginica\") ELSE -1.79769313486231e+308 END AS \"LogProba_virginica\", arg_max_cte.\"arg_max_Proba\" AS \"Decision\", arg_max_cte.\"max_Proba\" AS \"DecisionProba\" \n",
      "FROM arg_max_cte \n"
     ]
    }
   ],
   "source": [
    "lModelSQL = test_ws_sql_gen(model)\n",
    "N = nchar(lModelSQL)\n",
    "L = 2000\n",
    "cat(substr(lModelSQL, 0, L) , \"\\n ... \\n\" , \n",
    "    substr(lModelSQL, N/2 - L/2, N/2 + L/2) , \"\\n ... \\n\" , \n",
    "    substr(lModelSQL, N-L, N), \"\\n\")\n"
   ]
  },
  {
   "cell_type": "markdown",
   "metadata": {},
   "source": [
    "# Execute the SQL Code"
   ]
  },
  {
   "cell_type": "code",
   "execution_count": 7,
   "metadata": {},
   "outputs": [
    {
     "data": {
      "text/html": [
       "0"
      ],
      "text/latex": [
       "0"
      ],
      "text/markdown": [
       "0"
      ],
      "text/plain": [
       "[1] 0"
      ]
     },
     "metadata": {},
     "output_type": "display_data"
    }
   ],
   "source": [
    "library(RODBC)\n",
    "conn = odbcConnect(\"pgsql\", uid=\"db\", pwd=\"db\", case=\"nochange\")\n",
    "odbcSetAutoCommit(conn , autoCommit = TRUE)"
   ]
  },
  {
   "cell_type": "code",
   "execution_count": 8,
   "metadata": {
    "scrolled": true
   },
   "outputs": [
    {
     "data": {
      "text/html": [
       "<table>\n",
       "<thead><tr><th scope=col>Feature_0</th><th scope=col>Feature_1</th><th scope=col>Feature_2</th><th scope=col>Feature_3</th><th scope=col>KEY</th></tr></thead>\n",
       "<tbody>\n",
       "\t<tr><td>5.1</td><td>3.5</td><td>1.4</td><td>0.2</td><td>1  </td></tr>\n",
       "\t<tr><td>4.9</td><td>3.0</td><td>1.4</td><td>0.2</td><td>2  </td></tr>\n",
       "\t<tr><td>4.7</td><td>3.2</td><td>1.3</td><td>0.2</td><td>3  </td></tr>\n",
       "\t<tr><td>4.6</td><td>3.1</td><td>1.5</td><td>0.2</td><td>4  </td></tr>\n",
       "\t<tr><td>5.0</td><td>3.6</td><td>1.4</td><td>0.2</td><td>5  </td></tr>\n",
       "\t<tr><td>5.4</td><td>3.9</td><td>1.7</td><td>0.4</td><td>6  </td></tr>\n",
       "</tbody>\n",
       "</table>\n"
      ],
      "text/latex": [
       "\\begin{tabular}{r|lllll}\n",
       " Feature\\_0 & Feature\\_1 & Feature\\_2 & Feature\\_3 & KEY\\\\\n",
       "\\hline\n",
       "\t 5.1 & 3.5 & 1.4 & 0.2 & 1  \\\\\n",
       "\t 4.9 & 3.0 & 1.4 & 0.2 & 2  \\\\\n",
       "\t 4.7 & 3.2 & 1.3 & 0.2 & 3  \\\\\n",
       "\t 4.6 & 3.1 & 1.5 & 0.2 & 4  \\\\\n",
       "\t 5.0 & 3.6 & 1.4 & 0.2 & 5  \\\\\n",
       "\t 5.4 & 3.9 & 1.7 & 0.4 & 6  \\\\\n",
       "\\end{tabular}\n"
      ],
      "text/markdown": [
       "\n",
       "Feature_0 | Feature_1 | Feature_2 | Feature_3 | KEY | \n",
       "|---|---|---|---|---|---|\n",
       "| 5.1 | 3.5 | 1.4 | 0.2 | 1   | \n",
       "| 4.9 | 3.0 | 1.4 | 0.2 | 2   | \n",
       "| 4.7 | 3.2 | 1.3 | 0.2 | 3   | \n",
       "| 4.6 | 3.1 | 1.5 | 0.2 | 4   | \n",
       "| 5.0 | 3.6 | 1.4 | 0.2 | 5   | \n",
       "| 5.4 | 3.9 | 1.7 | 0.4 | 6   | \n",
       "\n",
       "\n"
      ],
      "text/plain": [
       "  Feature_0 Feature_1 Feature_2 Feature_3 KEY\n",
       "1 5.1       3.5       1.4       0.2       1  \n",
       "2 4.9       3.0       1.4       0.2       2  \n",
       "3 4.7       3.2       1.3       0.2       3  \n",
       "4 4.6       3.1       1.5       0.2       4  \n",
       "5 5.0       3.6       1.4       0.2       5  \n",
       "6 5.4       3.9       1.7       0.4       6  "
      ]
     },
     "metadata": {},
     "output_type": "display_data"
    }
   ],
   "source": [
    "dataset = iris[,-5]\n",
    "\n",
    "df_sql = as.data.frame(dataset)\n",
    "names(df_sql) = sprintf(\"Feature_%d\",0:(ncol(df_sql)-1))\n",
    "df_sql$KEY = seq.int(nrow(dataset))\n",
    "\n",
    "sqlDrop(conn , \"INPUT_DATA\" , errors = FALSE)\n",
    "sqlSave(conn, df_sql, tablename = \"INPUT_DATA\", verbose = FALSE)\n",
    "\n",
    "head(df_sql)"
   ]
  },
  {
   "cell_type": "code",
   "execution_count": 9,
   "metadata": {},
   "outputs": [],
   "source": [
    "# colnames(df_sql)\n",
    "# odbcGetInfo(conn)\n",
    "# sqlTables(conn)"
   ]
  },
  {
   "cell_type": "code",
   "execution_count": 23,
   "metadata": {},
   "outputs": [
    {
     "data": {
      "text/html": [
       "<table>\n",
       "<thead><tr><th></th><th scope=col>KEY</th><th scope=col>Score_setosa</th><th scope=col>Score_versicolor</th><th scope=col>Score_virginica</th><th scope=col>Proba_setosa</th><th scope=col>Proba_versicolor</th><th scope=col>Proba_virginica</th><th scope=col>LogProba_setosa</th><th scope=col>LogProba_versicolor</th><th scope=col>LogProba_virginica</th><th scope=col>Decision</th><th scope=col>DecisionProba</th></tr></thead>\n",
       "<tbody>\n",
       "\t<tr><th scope=row>84</th><td>84            </td><td>NA            </td><td>NA            </td><td>NA            </td><td>0             </td><td>0.4889994     </td><td>0.511000612   </td><td>-1.797693e+308</td><td> -7.153940e-01</td><td> -6.713845e-01</td><td>virginica     </td><td>0.5110006     </td></tr>\n",
       "\t<tr><th scope=row>83</th><td>83            </td><td>NA            </td><td>NA            </td><td>NA            </td><td>0             </td><td>0.9941722     </td><td>0.005827845   </td><td>-1.797693e+308</td><td> -5.844893e-03</td><td> -5.145108e+00</td><td>versicolor    </td><td>0.9941722     </td></tr>\n",
       "\t<tr><th scope=row>53</th><td>53            </td><td>NA            </td><td>NA            </td><td>NA            </td><td>0             </td><td>0.7195683     </td><td>0.280431725   </td><td>-1.797693e+308</td><td> -3.291039e-01</td><td> -1.271425e+00</td><td>versicolor    </td><td>0.7195683     </td></tr>\n",
       "\t<tr><th scope=row>30</th><td>30            </td><td>NA            </td><td>NA            </td><td>NA            </td><td>1             </td><td>0.0000000     </td><td>0.000000000   </td><td>  0.000000e+00</td><td>-1.797693e+308</td><td>-1.797693e+308</td><td>setosa        </td><td>1.0000000     </td></tr>\n",
       "\t<tr><th scope=row>1</th><td> 1            </td><td>NA            </td><td>NA            </td><td>NA            </td><td>1             </td><td>0.0000000     </td><td>0.000000000   </td><td>  0.000000e+00</td><td>-1.797693e+308</td><td>-1.797693e+308</td><td>setosa        </td><td>1.0000000     </td></tr>\n",
       "</tbody>\n",
       "</table>\n"
      ],
      "text/latex": [
       "\\begin{tabular}{r|llllllllllll}\n",
       "  & KEY & Score\\_setosa & Score\\_versicolor & Score\\_virginica & Proba\\_setosa & Proba\\_versicolor & Proba\\_virginica & LogProba\\_setosa & LogProba\\_versicolor & LogProba\\_virginica & Decision & DecisionProba\\\\\n",
       "\\hline\n",
       "\t84 & 84             & NA             & NA             & NA             & 0              & 0.4889994      & 0.511000612    & -1.797693e+308 &  -7.153940e-01 &  -6.713845e-01 & virginica      & 0.5110006     \\\\\n",
       "\t83 & 83             & NA             & NA             & NA             & 0              & 0.9941722      & 0.005827845    & -1.797693e+308 &  -5.844893e-03 &  -5.145108e+00 & versicolor     & 0.9941722     \\\\\n",
       "\t53 & 53             & NA             & NA             & NA             & 0              & 0.7195683      & 0.280431725    & -1.797693e+308 &  -3.291039e-01 &  -1.271425e+00 & versicolor     & 0.7195683     \\\\\n",
       "\t30 & 30             & NA             & NA             & NA             & 1              & 0.0000000      & 0.000000000    &   0.000000e+00 & -1.797693e+308 & -1.797693e+308 & setosa         & 1.0000000     \\\\\n",
       "\t1 &  1             & NA             & NA             & NA             & 1              & 0.0000000      & 0.000000000    &   0.000000e+00 & -1.797693e+308 & -1.797693e+308 & setosa         & 1.0000000     \\\\\n",
       "\\end{tabular}\n"
      ],
      "text/markdown": [
       "\n",
       "| <!--/--> | KEY | Score_setosa | Score_versicolor | Score_virginica | Proba_setosa | Proba_versicolor | Proba_virginica | LogProba_setosa | LogProba_versicolor | LogProba_virginica | Decision | DecisionProba | \n",
       "|---|---|---|---|---|\n",
       "| 84 | 84             | NA             | NA             | NA             | 0              | 0.4889994      | 0.511000612    | -1.797693e+308 |  -7.153940e-01 |  -6.713845e-01 | virginica      | 0.5110006      | \n",
       "| 83 | 83             | NA             | NA             | NA             | 0              | 0.9941722      | 0.005827845    | -1.797693e+308 |  -5.844893e-03 |  -5.145108e+00 | versicolor     | 0.9941722      | \n",
       "| 53 | 53             | NA             | NA             | NA             | 0              | 0.7195683      | 0.280431725    | -1.797693e+308 |  -3.291039e-01 |  -1.271425e+00 | versicolor     | 0.7195683      | \n",
       "| 30 | 30             | NA             | NA             | NA             | 1              | 0.0000000      | 0.000000000    |   0.000000e+00 | -1.797693e+308 | -1.797693e+308 | setosa         | 1.0000000      | \n",
       "| 1 |  1             | NA             | NA             | NA             | 1              | 0.0000000      | 0.000000000    |   0.000000e+00 | -1.797693e+308 | -1.797693e+308 | setosa         | 1.0000000      | \n",
       "\n",
       "\n"
      ],
      "text/plain": [
       "   KEY Score_setosa Score_versicolor Score_virginica Proba_setosa\n",
       "84 84  NA           NA               NA              0           \n",
       "83 83  NA           NA               NA              0           \n",
       "53 53  NA           NA               NA              0           \n",
       "30 30  NA           NA               NA              1           \n",
       "1   1  NA           NA               NA              1           \n",
       "   Proba_versicolor Proba_virginica LogProba_setosa LogProba_versicolor\n",
       "84 0.4889994        0.511000612     -1.797693e+308   -7.153940e-01     \n",
       "83 0.9941722        0.005827845     -1.797693e+308   -5.844893e-03     \n",
       "53 0.7195683        0.280431725     -1.797693e+308   -3.291039e-01     \n",
       "30 0.0000000        0.000000000       0.000000e+00  -1.797693e+308     \n",
       "1  0.0000000        0.000000000       0.000000e+00  -1.797693e+308     \n",
       "   LogProba_virginica Decision   DecisionProba\n",
       "84  -6.713845e-01     virginica  0.5110006    \n",
       "83  -5.145108e+00     versicolor 0.9941722    \n",
       "53  -1.271425e+00     versicolor 0.7195683    \n",
       "30 -1.797693e+308     setosa     1.0000000    \n",
       "1  -1.797693e+308     setosa     1.0000000    "
      ]
     },
     "metadata": {},
     "output_type": "display_data"
    }
   ],
   "source": [
    "df_sql_out = sqlQuery(conn, lModelSQL)\n",
    "df_sql_out = df_sql_out[order(df_sql_out$KEY),]\n",
    "rownames(df_sql_out) <- NULL\n",
    "set.seed(1960)\n",
    "df_sql_out[sample(nrow(df_sql_out), 5), ]"
   ]
  },
  {
   "cell_type": "markdown",
   "metadata": {},
   "source": [
    "# R CFOREST Output"
   ]
  },
  {
   "cell_type": "code",
   "execution_count": 18,
   "metadata": {},
   "outputs": [
    {
     "data": {
      "text/html": [
       "<table>\n",
       "<thead><tr><th></th><th scope=col>Proba_setosa</th><th scope=col>Proba_versicolor</th><th scope=col>Proba_virginica</th><th scope=col>KEY</th><th scope=col>Score_setosa</th><th scope=col>Score_versicolor</th><th scope=col>Score_virginica</th><th scope=col>LogProba_setosa</th><th scope=col>LogProba_versicolor</th><th scope=col>LogProba_virginica</th><th scope=col>Decision</th><th scope=col>DecisionProba</th></tr></thead>\n",
       "<tbody>\n",
       "\t<tr><th scope=row>84</th><td>0           </td><td>0.4889994   </td><td>0.511000612 </td><td>84          </td><td>NA          </td><td>NA          </td><td>NA          </td><td>-Inf        </td><td>-0.715394041</td><td>-0.6713845  </td><td>virginica   </td><td>0.5110006   </td></tr>\n",
       "\t<tr><th scope=row>83</th><td>0           </td><td>0.9941722   </td><td>0.005827845 </td><td>83          </td><td>NA          </td><td>NA          </td><td>NA          </td><td>-Inf        </td><td>-0.005844893</td><td>-5.1451080  </td><td>versicolor  </td><td>0.9941722   </td></tr>\n",
       "\t<tr><th scope=row>53</th><td>0           </td><td>0.7195683   </td><td>0.280431725 </td><td>53          </td><td>NA          </td><td>NA          </td><td>NA          </td><td>-Inf        </td><td>-0.329103865</td><td>-1.2714250  </td><td>versicolor  </td><td>0.7195683   </td></tr>\n",
       "\t<tr><th scope=row>30</th><td>1           </td><td>0.0000000   </td><td>0.000000000 </td><td>30          </td><td>NA          </td><td>NA          </td><td>NA          </td><td>   0        </td><td>        -Inf</td><td>      -Inf  </td><td>setosa      </td><td>1.0000000   </td></tr>\n",
       "\t<tr><th scope=row>1</th><td>1           </td><td>0.0000000   </td><td>0.000000000 </td><td> 1          </td><td>NA          </td><td>NA          </td><td>NA          </td><td>   0        </td><td>        -Inf</td><td>      -Inf  </td><td>setosa      </td><td>1.0000000   </td></tr>\n",
       "</tbody>\n",
       "</table>\n"
      ],
      "text/latex": [
       "\\begin{tabular}{r|llllllllllll}\n",
       "  & Proba\\_setosa & Proba\\_versicolor & Proba\\_virginica & KEY & Score\\_setosa & Score\\_versicolor & Score\\_virginica & LogProba\\_setosa & LogProba\\_versicolor & LogProba\\_virginica & Decision & DecisionProba\\\\\n",
       "\\hline\n",
       "\t84 & 0            & 0.4889994    & 0.511000612  & 84           & NA           & NA           & NA           & -Inf         & -0.715394041 & -0.6713845   & virginica    & 0.5110006   \\\\\n",
       "\t83 & 0            & 0.9941722    & 0.005827845  & 83           & NA           & NA           & NA           & -Inf         & -0.005844893 & -5.1451080   & versicolor   & 0.9941722   \\\\\n",
       "\t53 & 0            & 0.7195683    & 0.280431725  & 53           & NA           & NA           & NA           & -Inf         & -0.329103865 & -1.2714250   & versicolor   & 0.7195683   \\\\\n",
       "\t30 & 1            & 0.0000000    & 0.000000000  & 30           & NA           & NA           & NA           &    0         &         -Inf &       -Inf   & setosa       & 1.0000000   \\\\\n",
       "\t1 & 1            & 0.0000000    & 0.000000000  &  1           & NA           & NA           & NA           &    0         &         -Inf &       -Inf   & setosa       & 1.0000000   \\\\\n",
       "\\end{tabular}\n"
      ],
      "text/markdown": [
       "\n",
       "| <!--/--> | Proba_setosa | Proba_versicolor | Proba_virginica | KEY | Score_setosa | Score_versicolor | Score_virginica | LogProba_setosa | LogProba_versicolor | LogProba_virginica | Decision | DecisionProba | \n",
       "|---|---|---|---|---|\n",
       "| 84 | 0            | 0.4889994    | 0.511000612  | 84           | NA           | NA           | NA           | -Inf         | -0.715394041 | -0.6713845   | virginica    | 0.5110006    | \n",
       "| 83 | 0            | 0.9941722    | 0.005827845  | 83           | NA           | NA           | NA           | -Inf         | -0.005844893 | -5.1451080   | versicolor   | 0.9941722    | \n",
       "| 53 | 0            | 0.7195683    | 0.280431725  | 53           | NA           | NA           | NA           | -Inf         | -0.329103865 | -1.2714250   | versicolor   | 0.7195683    | \n",
       "| 30 | 1            | 0.0000000    | 0.000000000  | 30           | NA           | NA           | NA           |    0         |         -Inf |       -Inf   | setosa       | 1.0000000    | \n",
       "| 1 | 1            | 0.0000000    | 0.000000000  |  1           | NA           | NA           | NA           |    0         |         -Inf |       -Inf   | setosa       | 1.0000000    | \n",
       "\n",
       "\n"
      ],
      "text/plain": [
       "   Proba_setosa Proba_versicolor Proba_virginica KEY Score_setosa\n",
       "84 0            0.4889994        0.511000612     84  NA          \n",
       "83 0            0.9941722        0.005827845     83  NA          \n",
       "53 0            0.7195683        0.280431725     53  NA          \n",
       "30 1            0.0000000        0.000000000     30  NA          \n",
       "1  1            0.0000000        0.000000000      1  NA          \n",
       "   Score_versicolor Score_virginica LogProba_setosa LogProba_versicolor\n",
       "84 NA               NA              -Inf            -0.715394041       \n",
       "83 NA               NA              -Inf            -0.005844893       \n",
       "53 NA               NA              -Inf            -0.329103865       \n",
       "30 NA               NA                 0                    -Inf       \n",
       "1  NA               NA                 0                    -Inf       \n",
       "   LogProba_virginica Decision   DecisionProba\n",
       "84 -0.6713845         virginica  0.5110006    \n",
       "83 -5.1451080         versicolor 0.9941722    \n",
       "53 -1.2714250         versicolor 0.7195683    \n",
       "30       -Inf         setosa     1.0000000    \n",
       "1        -Inf         setosa     1.0000000    "
      ]
     },
     "metadata": {},
     "output_type": "display_data"
    }
   ],
   "source": [
    "pred_proba  =  predict(model, as.matrix(iris[,-5]), type = \"prob\")\n",
    "df_r_out = data.frame(pred_proba)\n",
    "names(df_r_out) = sprintf(\"Proba_%s\",model$levels)\n",
    "\n",
    "df_r_out$KEY = seq.int(nrow(dataset))\n",
    "df_r_out$Score_setosa  =  NA\n",
    "df_r_out$Score_versicolor  =  NA\n",
    "df_r_out$Score_virginica  =  NA\n",
    "df_r_out$LogProba_setosa  =  log(df_r_out$Proba_setosa)\n",
    "df_r_out$LogProba_versicolor =  log(df_r_out$Proba_versicolor)\n",
    "df_r_out$LogProba_virginica  =  log(df_r_out$Proba_virginica)\n",
    "df_r_out$Decision =   predict(model, as.matrix(iris[,-5]), type = \"raw\")\n",
    "df_r_out$DecisionProba =  apply(pred_proba, 1, function(x) max(x))\n",
    "set.seed(1960)\n",
    "df_r_out[sample(nrow(df_r_out), 5), ]\n",
    "# head(df_r_out)\n",
    "\n"
   ]
  },
  {
   "cell_type": "markdown",
   "metadata": {},
   "source": [
    "# Compare R and SQL output"
   ]
  },
  {
   "cell_type": "code",
   "execution_count": 12,
   "metadata": {},
   "outputs": [
    {
     "data": {
      "text/html": [
       "<table>\n",
       "<thead><tr><th scope=col>KEY</th><th scope=col>Proba_setosa_1</th><th scope=col>Proba_versicolor_1</th><th scope=col>Proba_virginica_1</th><th scope=col>Score_setosa_1</th><th scope=col>Score_versicolor_1</th><th scope=col>Score_virginica_1</th><th scope=col>LogProba_setosa_1</th><th scope=col>LogProba_versicolor_1</th><th scope=col>LogProba_virginica_1</th><th scope=col>⋯</th><th scope=col>Score_versicolor_2</th><th scope=col>Score_virginica_2</th><th scope=col>Proba_setosa_2</th><th scope=col>Proba_versicolor_2</th><th scope=col>Proba_virginica_2</th><th scope=col>LogProba_setosa_2</th><th scope=col>LogProba_versicolor_2</th><th scope=col>LogProba_virginica_2</th><th scope=col>Decision_2</th><th scope=col>DecisionProba_2</th></tr></thead>\n",
       "<tbody>\n",
       "\t<tr><td>1             </td><td>1             </td><td>0             </td><td>0             </td><td>NA            </td><td>NA            </td><td>NA            </td><td>0             </td><td>-Inf          </td><td>-Inf          </td><td>⋯             </td><td>NA            </td><td>NA            </td><td>1             </td><td>0             </td><td>0             </td><td>0             </td><td>-1.797693e+308</td><td>-1.797693e+308</td><td>setosa        </td><td>1             </td></tr>\n",
       "\t<tr><td>2             </td><td>1             </td><td>0             </td><td>0             </td><td>NA            </td><td>NA            </td><td>NA            </td><td>0             </td><td>-Inf          </td><td>-Inf          </td><td>⋯             </td><td>NA            </td><td>NA            </td><td>1             </td><td>0             </td><td>0             </td><td>0             </td><td>-1.797693e+308</td><td>-1.797693e+308</td><td>setosa        </td><td>1             </td></tr>\n",
       "\t<tr><td>3             </td><td>1             </td><td>0             </td><td>0             </td><td>NA            </td><td>NA            </td><td>NA            </td><td>0             </td><td>-Inf          </td><td>-Inf          </td><td>⋯             </td><td>NA            </td><td>NA            </td><td>1             </td><td>0             </td><td>0             </td><td>0             </td><td>-1.797693e+308</td><td>-1.797693e+308</td><td>setosa        </td><td>1             </td></tr>\n",
       "\t<tr><td>4             </td><td>1             </td><td>0             </td><td>0             </td><td>NA            </td><td>NA            </td><td>NA            </td><td>0             </td><td>-Inf          </td><td>-Inf          </td><td>⋯             </td><td>NA            </td><td>NA            </td><td>1             </td><td>0             </td><td>0             </td><td>0             </td><td>-1.797693e+308</td><td>-1.797693e+308</td><td>setosa        </td><td>1             </td></tr>\n",
       "\t<tr><td>5             </td><td>1             </td><td>0             </td><td>0             </td><td>NA            </td><td>NA            </td><td>NA            </td><td>0             </td><td>-Inf          </td><td>-Inf          </td><td>⋯             </td><td>NA            </td><td>NA            </td><td>1             </td><td>0             </td><td>0             </td><td>0             </td><td>-1.797693e+308</td><td>-1.797693e+308</td><td>setosa        </td><td>1             </td></tr>\n",
       "\t<tr><td>6             </td><td>1             </td><td>0             </td><td>0             </td><td>NA            </td><td>NA            </td><td>NA            </td><td>0             </td><td>-Inf          </td><td>-Inf          </td><td>⋯             </td><td>NA            </td><td>NA            </td><td>1             </td><td>0             </td><td>0             </td><td>0             </td><td>-1.797693e+308</td><td>-1.797693e+308</td><td>setosa        </td><td>1             </td></tr>\n",
       "</tbody>\n",
       "</table>\n"
      ],
      "text/latex": [
       "\\begin{tabular}{r|lllllllllllllllllllllll}\n",
       " KEY & Proba\\_setosa\\_1 & Proba\\_versicolor\\_1 & Proba\\_virginica\\_1 & Score\\_setosa\\_1 & Score\\_versicolor\\_1 & Score\\_virginica\\_1 & LogProba\\_setosa\\_1 & LogProba\\_versicolor\\_1 & LogProba\\_virginica\\_1 & ⋯ & Score\\_versicolor\\_2 & Score\\_virginica\\_2 & Proba\\_setosa\\_2 & Proba\\_versicolor\\_2 & Proba\\_virginica\\_2 & LogProba\\_setosa\\_2 & LogProba\\_versicolor\\_2 & LogProba\\_virginica\\_2 & Decision\\_2 & DecisionProba\\_2\\\\\n",
       "\\hline\n",
       "\t 1              & 1              & 0              & 0              & NA             & NA             & NA             & 0              & -Inf           & -Inf           & ⋯              & NA             & NA             & 1              & 0              & 0              & 0              & -1.797693e+308 & -1.797693e+308 & setosa         & 1             \\\\\n",
       "\t 2              & 1              & 0              & 0              & NA             & NA             & NA             & 0              & -Inf           & -Inf           & ⋯              & NA             & NA             & 1              & 0              & 0              & 0              & -1.797693e+308 & -1.797693e+308 & setosa         & 1             \\\\\n",
       "\t 3              & 1              & 0              & 0              & NA             & NA             & NA             & 0              & -Inf           & -Inf           & ⋯              & NA             & NA             & 1              & 0              & 0              & 0              & -1.797693e+308 & -1.797693e+308 & setosa         & 1             \\\\\n",
       "\t 4              & 1              & 0              & 0              & NA             & NA             & NA             & 0              & -Inf           & -Inf           & ⋯              & NA             & NA             & 1              & 0              & 0              & 0              & -1.797693e+308 & -1.797693e+308 & setosa         & 1             \\\\\n",
       "\t 5              & 1              & 0              & 0              & NA             & NA             & NA             & 0              & -Inf           & -Inf           & ⋯              & NA             & NA             & 1              & 0              & 0              & 0              & -1.797693e+308 & -1.797693e+308 & setosa         & 1             \\\\\n",
       "\t 6              & 1              & 0              & 0              & NA             & NA             & NA             & 0              & -Inf           & -Inf           & ⋯              & NA             & NA             & 1              & 0              & 0              & 0              & -1.797693e+308 & -1.797693e+308 & setosa         & 1             \\\\\n",
       "\\end{tabular}\n"
      ],
      "text/markdown": [
       "\n",
       "KEY | Proba_setosa_1 | Proba_versicolor_1 | Proba_virginica_1 | Score_setosa_1 | Score_versicolor_1 | Score_virginica_1 | LogProba_setosa_1 | LogProba_versicolor_1 | LogProba_virginica_1 | ⋯ | Score_versicolor_2 | Score_virginica_2 | Proba_setosa_2 | Proba_versicolor_2 | Proba_virginica_2 | LogProba_setosa_2 | LogProba_versicolor_2 | LogProba_virginica_2 | Decision_2 | DecisionProba_2 | \n",
       "|---|---|---|---|---|---|\n",
       "| 1              | 1              | 0              | 0              | NA             | NA             | NA             | 0              | -Inf           | -Inf           | ⋯              | NA             | NA             | 1              | 0              | 0              | 0              | -1.797693e+308 | -1.797693e+308 | setosa         | 1              | \n",
       "| 2              | 1              | 0              | 0              | NA             | NA             | NA             | 0              | -Inf           | -Inf           | ⋯              | NA             | NA             | 1              | 0              | 0              | 0              | -1.797693e+308 | -1.797693e+308 | setosa         | 1              | \n",
       "| 3              | 1              | 0              | 0              | NA             | NA             | NA             | 0              | -Inf           | -Inf           | ⋯              | NA             | NA             | 1              | 0              | 0              | 0              | -1.797693e+308 | -1.797693e+308 | setosa         | 1              | \n",
       "| 4              | 1              | 0              | 0              | NA             | NA             | NA             | 0              | -Inf           | -Inf           | ⋯              | NA             | NA             | 1              | 0              | 0              | 0              | -1.797693e+308 | -1.797693e+308 | setosa         | 1              | \n",
       "| 5              | 1              | 0              | 0              | NA             | NA             | NA             | 0              | -Inf           | -Inf           | ⋯              | NA             | NA             | 1              | 0              | 0              | 0              | -1.797693e+308 | -1.797693e+308 | setosa         | 1              | \n",
       "| 6              | 1              | 0              | 0              | NA             | NA             | NA             | 0              | -Inf           | -Inf           | ⋯              | NA             | NA             | 1              | 0              | 0              | 0              | -1.797693e+308 | -1.797693e+308 | setosa         | 1              | \n",
       "\n",
       "\n"
      ],
      "text/plain": [
       "  KEY Proba_setosa_1 Proba_versicolor_1 Proba_virginica_1 Score_setosa_1\n",
       "1 1   1              0                  0                 NA            \n",
       "2 2   1              0                  0                 NA            \n",
       "3 3   1              0                  0                 NA            \n",
       "4 4   1              0                  0                 NA            \n",
       "5 5   1              0                  0                 NA            \n",
       "6 6   1              0                  0                 NA            \n",
       "  Score_versicolor_1 Score_virginica_1 LogProba_setosa_1 LogProba_versicolor_1\n",
       "1 NA                 NA                0                 -Inf                 \n",
       "2 NA                 NA                0                 -Inf                 \n",
       "3 NA                 NA                0                 -Inf                 \n",
       "4 NA                 NA                0                 -Inf                 \n",
       "5 NA                 NA                0                 -Inf                 \n",
       "6 NA                 NA                0                 -Inf                 \n",
       "  LogProba_virginica_1 ⋯ Score_versicolor_2 Score_virginica_2 Proba_setosa_2\n",
       "1 -Inf                 ⋯ NA                 NA                1             \n",
       "2 -Inf                 ⋯ NA                 NA                1             \n",
       "3 -Inf                 ⋯ NA                 NA                1             \n",
       "4 -Inf                 ⋯ NA                 NA                1             \n",
       "5 -Inf                 ⋯ NA                 NA                1             \n",
       "6 -Inf                 ⋯ NA                 NA                1             \n",
       "  Proba_versicolor_2 Proba_virginica_2 LogProba_setosa_2 LogProba_versicolor_2\n",
       "1 0                  0                 0                 -1.797693e+308       \n",
       "2 0                  0                 0                 -1.797693e+308       \n",
       "3 0                  0                 0                 -1.797693e+308       \n",
       "4 0                  0                 0                 -1.797693e+308       \n",
       "5 0                  0                 0                 -1.797693e+308       \n",
       "6 0                  0                 0                 -1.797693e+308       \n",
       "  LogProba_virginica_2 Decision_2 DecisionProba_2\n",
       "1 -1.797693e+308       setosa     1              \n",
       "2 -1.797693e+308       setosa     1              \n",
       "3 -1.797693e+308       setosa     1              \n",
       "4 -1.797693e+308       setosa     1              \n",
       "5 -1.797693e+308       setosa     1              \n",
       "6 -1.797693e+308       setosa     1              "
      ]
     },
     "metadata": {},
     "output_type": "display_data"
    }
   ],
   "source": [
    "df_merge = merge(x = df_r_out, y = df_sql_out, by = \"KEY\", all = TRUE, , suffixes = c(\"_1\",\"_2\"))\n",
    "head(df_merge)"
   ]
  },
  {
   "cell_type": "code",
   "execution_count": null,
   "metadata": {},
   "outputs": [],
   "source": []
  },
  {
   "cell_type": "code",
   "execution_count": 13,
   "metadata": {},
   "outputs": [
    {
     "name": "stderr",
     "output_type": "stream",
     "text": [
      "Warning message in cbind(parts$left, ellip_h, parts$right, deparse.level = 0L):\n",
      "“number of rows of result is not a multiple of vector length (arg 2)”Warning message in cbind(parts$left, ellip_h, parts$right, deparse.level = 0L):\n",
      "“number of rows of result is not a multiple of vector length (arg 2)”Warning message in cbind(parts$left, ellip_h, parts$right, deparse.level = 0L):\n",
      "“number of rows of result is not a multiple of vector length (arg 2)”Warning message in cbind(parts$left, ellip_h, parts$right, deparse.level = 0L):\n",
      "“number of rows of result is not a multiple of vector length (arg 2)”"
     ]
    },
    {
     "data": {
      "text/html": [
       "<table>\n",
       "<thead><tr><th scope=col>KEY</th><th scope=col>Proba_setosa_1</th><th scope=col>Proba_versicolor_1</th><th scope=col>Proba_virginica_1</th><th scope=col>Score_setosa_1</th><th scope=col>Score_versicolor_1</th><th scope=col>Score_virginica_1</th><th scope=col>LogProba_setosa_1</th><th scope=col>LogProba_versicolor_1</th><th scope=col>LogProba_virginica_1</th><th scope=col>⋯</th><th scope=col>Score_versicolor_2</th><th scope=col>Score_virginica_2</th><th scope=col>Proba_setosa_2</th><th scope=col>Proba_versicolor_2</th><th scope=col>Proba_virginica_2</th><th scope=col>LogProba_setosa_2</th><th scope=col>LogProba_versicolor_2</th><th scope=col>LogProba_virginica_2</th><th scope=col>Decision_2</th><th scope=col>DecisionProba_2</th></tr></thead>\n",
       "<tbody>\n",
       "</tbody>\n",
       "</table>\n"
      ],
      "text/latex": [
       "\\begin{tabular}{r|lllllllllllllllllllllll}\n",
       " KEY & Proba\\_setosa\\_1 & Proba\\_versicolor\\_1 & Proba\\_virginica\\_1 & Score\\_setosa\\_1 & Score\\_versicolor\\_1 & Score\\_virginica\\_1 & LogProba\\_setosa\\_1 & LogProba\\_versicolor\\_1 & LogProba\\_virginica\\_1 & ⋯ & Score\\_versicolor\\_2 & Score\\_virginica\\_2 & Proba\\_setosa\\_2 & Proba\\_versicolor\\_2 & Proba\\_virginica\\_2 & LogProba\\_setosa\\_2 & LogProba\\_versicolor\\_2 & LogProba\\_virginica\\_2 & Decision\\_2 & DecisionProba\\_2\\\\\n",
       "\\hline\n",
       "\\end{tabular}\n"
      ],
      "text/markdown": [
       "\n",
       "KEY | Proba_setosa_1 | Proba_versicolor_1 | Proba_virginica_1 | Score_setosa_1 | Score_versicolor_1 | Score_virginica_1 | LogProba_setosa_1 | LogProba_versicolor_1 | LogProba_virginica_1 | ⋯ | Score_versicolor_2 | Score_virginica_2 | Proba_setosa_2 | Proba_versicolor_2 | Proba_virginica_2 | LogProba_setosa_2 | LogProba_versicolor_2 | LogProba_virginica_2 | Decision_2 | DecisionProba_2 | \n",
       "||\n",
       "\n",
       "\n"
      ],
      "text/plain": [
       "     KEY Proba_setosa_1 Proba_versicolor_1 Proba_virginica_1 Score_setosa_1\n",
       "     Score_versicolor_1 Score_virginica_1 LogProba_setosa_1\n",
       "     LogProba_versicolor_1 LogProba_virginica_1 ⋯ Score_versicolor_2\n",
       "     Score_virginica_2 Proba_setosa_2 Proba_versicolor_2 Proba_virginica_2\n",
       "     LogProba_setosa_2 LogProba_versicolor_2 LogProba_virginica_2 Decision_2\n",
       "     DecisionProba_2"
      ]
     },
     "metadata": {},
     "output_type": "display_data"
    }
   ],
   "source": [
    "diffs_df = df_merge[df_merge$Decision_1 != df_merge$Decision_2,]\n",
    "head(diffs_df)"
   ]
  },
  {
   "cell_type": "code",
   "execution_count": 14,
   "metadata": {},
   "outputs": [],
   "source": [
    "stopifnot(nrow(diffs_df) == 0)"
   ]
  },
  {
   "cell_type": "code",
   "execution_count": null,
   "metadata": {},
   "outputs": [],
   "source": []
  },
  {
   "cell_type": "code",
   "execution_count": 15,
   "metadata": {},
   "outputs": [
    {
     "data": {
      "text/plain": [
       "      KEY         Score_setosa   Score_versicolor Score_virginica\n",
       " Min.   :  1.00   Mode:logical   Mode:logical     Mode:logical   \n",
       " 1st Qu.: 38.25   NA's:150       NA's:150         NA's:150       \n",
       " Median : 75.50                                                  \n",
       " Mean   : 75.50                                                  \n",
       " 3rd Qu.:112.75                                                  \n",
       " Max.   :150.00                                                  \n",
       "  Proba_setosa    Proba_versicolor  Proba_virginica   LogProba_setosa      \n",
       " Min.   :0.0000   Min.   :0.00000   Min.   :0.00000   Min.   :-1.798e+308  \n",
       " 1st Qu.:0.0000   1st Qu.:0.00000   1st Qu.:0.00000   1st Qu.:-1.798e+308  \n",
       " Median :0.0000   Median :0.01338   Median :0.00937   Median :-1.798e+308  \n",
       " Mean   :0.3317   Mean   :0.33635   Mean   :0.33199   Mean   :-1.198e+308  \n",
       " 3rd Qu.:1.0000   3rd Qu.:0.97372   3rd Qu.:0.95672   3rd Qu.:  0.000e+00  \n",
       " Max.   :1.0000   Max.   :0.99417   Max.   :0.99869   Max.   :  0.000e+00  \n",
       " LogProba_versicolor   LogProba_virginica          Decision  DecisionProba   \n",
       " Min.   :-1.798e+308   Min.   :-1.798e+308   setosa    :50   Min.   :0.5110  \n",
       " 1st Qu.:-1.798e+308   1st Qu.:-1.798e+308   versicolor:51   1st Qu.:0.9853  \n",
       " Median : -4.000e+00   Median : -5.000e+00   virginica :49   Median :0.9942  \n",
       " Mean   :-5.753e+307   Mean   :-5.753e+307                   Mean   :0.9598  \n",
       " 3rd Qu.:  0.000e+00   3rd Qu.:  0.000e+00                   3rd Qu.:1.0000  \n",
       " Max.   :  0.000e+00   Max.   :  0.000e+00                   Max.   :1.0000  "
      ]
     },
     "metadata": {},
     "output_type": "display_data"
    }
   ],
   "source": [
    "summary(df_sql_out)"
   ]
  },
  {
   "cell_type": "code",
   "execution_count": 16,
   "metadata": {},
   "outputs": [
    {
     "data": {
      "text/plain": [
       "  Proba_setosa    Proba_versicolor  Proba_virginica        KEY        \n",
       " Min.   :0.0000   Min.   :0.00000   Min.   :0.00000   Min.   :  1.00  \n",
       " 1st Qu.:0.0000   1st Qu.:0.00000   1st Qu.:0.00000   1st Qu.: 38.25  \n",
       " Median :0.0000   Median :0.01338   Median :0.00937   Median : 75.50  \n",
       " Mean   :0.3317   Mean   :0.33635   Mean   :0.33199   Mean   : 75.50  \n",
       " 3rd Qu.:1.0000   3rd Qu.:0.97372   3rd Qu.:0.95672   3rd Qu.:112.75  \n",
       " Max.   :1.0000   Max.   :0.99417   Max.   :0.99869   Max.   :150.00  \n",
       " Score_setosa   Score_versicolor Score_virginica LogProba_setosa\n",
       " Mode:logical   Mode:logical     Mode:logical    Min.   :-Inf   \n",
       " NA's:150       NA's:150         NA's:150        1st Qu.:-Inf   \n",
       "                                                 Median :-Inf   \n",
       "                                                 Mean   :-Inf   \n",
       "                                                 3rd Qu.:   0   \n",
       "                                                 Max.   :   0   \n",
       " LogProba_versicolor LogProba_virginica        Decision  DecisionProba   \n",
       " Min.   :     -Inf   Min.   :     -Inf   setosa    :50   Min.   :0.5110  \n",
       " 1st Qu.:     -Inf   1st Qu.:     -Inf   versicolor:51   1st Qu.:0.9853  \n",
       " Median :-4.315319   Median :-4.670690   virginica :49   Median :0.9942  \n",
       " Mean   :     -Inf   Mean   :     -Inf                   Mean   :0.9598  \n",
       " 3rd Qu.:-0.026773   3rd Qu.:-0.044246                   3rd Qu.:1.0000  \n",
       " Max.   :-0.005845   Max.   :-0.001312                   Max.   :1.0000  "
      ]
     },
     "metadata": {},
     "output_type": "display_data"
    }
   ],
   "source": [
    "summary(df_r_out)"
   ]
  },
  {
   "cell_type": "code",
   "execution_count": null,
   "metadata": {},
   "outputs": [],
   "source": []
  }
 ],
 "metadata": {
  "kernelspec": {
   "display_name": "R",
   "language": "R",
   "name": "ir"
  },
  "language_info": {
   "codemirror_mode": "r",
   "file_extension": ".r",
   "mimetype": "text/x-r-source",
   "name": "R",
   "pygments_lexer": "r",
   "version": "3.5.2"
  }
 },
 "nbformat": 4,
 "nbformat_minor": 2
}
