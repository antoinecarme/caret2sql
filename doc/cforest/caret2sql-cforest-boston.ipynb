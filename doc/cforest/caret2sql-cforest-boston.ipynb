{
 "cells": [
  {
   "cell_type": "code",
   "execution_count": 1,
   "metadata": {},
   "outputs": [
    {
     "name": "stderr",
     "output_type": "stream",
     "text": [
      "\n",
      "Attaching package: ‘httr’\n",
      "\n",
      "The following object is masked from ‘package:caret’:\n",
      "\n",
      "    progress\n",
      "\n",
      "\n",
      "Attaching package: ‘zoo’\n",
      "\n",
      "The following objects are masked from ‘package:base’:\n",
      "\n",
      "    as.Date, as.Date.numeric\n",
      "\n"
     ]
    }
   ],
   "source": [
    "library(caret, quiet = TRUE)\n",
    "library(base64enc)\n",
    "library(httr, quiet = TRUE)\n",
    "\n",
    "library(mlbench)\n",
    "library(party, quietly = TRUE);\n"
   ]
  },
  {
   "cell_type": "markdown",
   "metadata": {},
   "source": [
    "# Build a Model"
   ]
  },
  {
   "cell_type": "code",
   "execution_count": 2,
   "metadata": {},
   "outputs": [],
   "source": [
    "\n",
    "\n",
    "data(BostonHousing)\n",
    "BostonHousing$chas = as.numeric(BostonHousing$chas)\n",
    "\n",
    "set.seed(1960)\n",
    "\n",
    "dataset = BostonHousing[, -14] \n",
    "\n",
    "create_model  =  function() {\n",
    "\n",
    "    model <- train(medv ~ ., data = BostonHousing, method = \"cforest\", \n",
    "                   controls=cforest_control(maxdepth=3, ntree=512, mtry=3)\n",
    "                   )\n",
    "\n",
    "    return(model)\n",
    "}\n"
   ]
  },
  {
   "cell_type": "code",
   "execution_count": 3,
   "metadata": {},
   "outputs": [],
   "source": [
    "model = create_model()\n",
    "# cat(model$feature_names)\n",
    "# print(model)"
   ]
  },
  {
   "cell_type": "code",
   "execution_count": 4,
   "metadata": {},
   "outputs": [
    {
     "data": {
      "text/plain": [
       "      medv         Estimator         Error          \n",
       " Min.   : 5.00   Min.   :11.95   Min.   :-25.63816  \n",
       " 1st Qu.:17.02   1st Qu.:17.75   1st Qu.: -1.71140  \n",
       " Median :21.20   Median :21.12   Median :  0.40157  \n",
       " Mean   :22.53   Mean   :22.49   Mean   : -0.03809  \n",
       " 3rd Qu.:25.00   3rd Qu.:25.13   3rd Qu.:  2.03438  \n",
       " Max.   :50.00   Max.   :45.17   Max.   : 11.83786  "
      ]
     },
     "metadata": {},
     "output_type": "display_data"
    },
    {
     "data": {
      "text/html": [
       "0.134986379238712"
      ],
      "text/latex": [
       "0.134986379238712"
      ],
      "text/markdown": [
       "0.134986379238712"
      ],
      "text/plain": [
       "[1] 0.1349864"
      ]
     },
     "metadata": {},
     "output_type": "display_data"
    }
   ],
   "source": [
    "pred_labels <- predict(model, BostonHousing[, -14] , type=\"raw\")\n",
    "df = data.frame(BostonHousing[,14])\n",
    "names(df) = c(\"medv\")\n",
    "df$Estimator = pred_labels\n",
    "df$Error = df$Estimator - df$medv\n",
    "MAPE = mean(abs(df$Error / df$medv))\n",
    "summary(df)\n",
    "MAPE"
   ]
  },
  {
   "cell_type": "markdown",
   "metadata": {},
   "source": [
    "# SQL Code Generation"
   ]
  },
  {
   "cell_type": "code",
   "execution_count": 5,
   "metadata": {},
   "outputs": [],
   "source": [
    "\n",
    "test_ws_sql_gen = function(mod) {\n",
    "    WS_URL = \"https://sklearn2sql.herokuapp.com/model\"\n",
    "    WS_URL = \"http://localhost:1888/model\"\n",
    "    model_serialized <- serialize(mod, NULL)\n",
    "    b64_data = base64encode(model_serialized)\n",
    "    data = list(Name = \"caret_test_model\", SerializedModel = b64_data , SQLDialect = \"postgresql\" , Mode=\"caret\")\n",
    "    r = POST(WS_URL, body = data, encode = \"json\")\n",
    "    # print(r)\n",
    "    content = content(r)\n",
    "    # print(content)\n",
    "    lSQL = content$model$SQLGenrationResult[[1]]$SQL # content[\"model\"][\"SQLGenrationResult\"][0][\"SQL\"]\n",
    "    return(lSQL);\n",
    "}"
   ]
  },
  {
   "cell_type": "code",
   "execution_count": 6,
   "metadata": {
    "scrolled": false
   },
   "outputs": [
    {
     "name": "stdout",
     "output_type": "stream",
     "text": [
      "WITH \"RF_0\" AS \n",
      "(WITH \"DT_node_lookup\" AS \n",
      "(SELECT \"ADS\".\"KEY\" AS \"KEY\", CASE WHEN (\"ADS\".\"Feature_5\" <= 6.897) THEN CASE WHEN (\"ADS\".\"Feature_6\" <= 73.90000000000002) THEN CASE WHEN (\"ADS\".\"Feature_5\" <= 6.59) THEN 4 ELSE 5 END ELSE CASE WHEN (\"ADS\".\"Feature_12\" <= 14.36) THEN 7 ELSE 8 END END ELSE CASE WHEN (\"ADS\".\"Feature_5\" <= 7.42) THEN CASE WHEN (\"ADS\".\"Feature_10\" <= 19.1) THEN 11 ELSE 12 END ELSE CASE WHEN (\"ADS\".\"Feature_0\" <= 0.5341199999999999) THEN 14 ELSE 15 END END END AS node_id_2 \n",
      "FROM \"INPUT_DATA\" AS \"ADS\"), \n",
      "\"DT_node_data\" AS \n",
      "(SELECT \"Values\".nid AS nid, \"Values\".\"E\" AS \"E\" \n",
      "FROM (SELECT 4 AS nid, 22.127388535031802 AS \"E\" UNION ALL SELECT 5 AS nid, 28.861111111111104 AS \"E\" UNION ALL SELECT 7 AS nid, 23.058241758241802 AS \"E\" UNION ALL SELECT 8 AS nid, 14.2073170731707 AS \"E\" UNION ALL SELECT 11 AS nid, 33.5444444444445 AS \"E\" UNION ALL SELECT 12 AS nid, 25.0285714285714 AS \"E\" UNION ALL SELECT 14 AS nid, 46.5375 AS \"E\" UNION ALL SELECT 15 AS nid, 48.375 AS \"E\") AS \"Values\"), \n",
      "\"DT_Output\" AS \n",
      "(SELECT \"DT_node_lookup\".\"KEY\" AS \"KEY\", \"DT_node_lookup\".node_id_2 AS node_id_2, \"DT_node_data\".nid AS nid, \"DT_node_data\".\"E\" AS \"E\" \n",
      "FROM \"DT_node_lookup\" LEFT OUTER JOIN \"DT_node_data\" ON \"DT_node_lookup\".node_id_2 = \"DT_node_data\".nid), \n",
      "\"RF_Model_0\" AS \n",
      "(SELECT \"DT_Output\".\"KEY\" AS \"KEY\", \"DT_Output\".\"E\" AS \"Estimator\" \n",
      "FROM \"DT_Output\"), \n",
      "\"DT_node_lookup_1\" AS \n",
      "(SELECT \"ADS\".\"KEY\" AS \"KEY\", CASE WHEN (\"ADS\".\"Feature_12\" <= 9.62) THEN CASE WHEN (\"ADS\".\"Feature_5\" <= 7.416) THEN CASE WHEN (\"ADS\".\"Feature_0\" <= 4.55587) THEN 4 ELSE 5 END ELSE CASE WHEN (\"ADS\".\"Feature_9\" <= 264.0) THEN 7 ELSE 8 END END ELSE CASE WHEN (\"ADS\".\"Feature_12\" <= 17.1) THEN CASE WHEN (\"ADS\".\"Feature_12\" <= 14.37) THEN 11 ELSE 12 END ELSE CASE WHEN (\"ADS\".\"Feature_7\" <= 2.0635) THEN 14 ELSE 15 END END END AS node_id_2 \n",
      "FROM \"INPUT_DATA\" AS \"ADS\"), \n",
      "\"DT_node_data_1\" AS \n",
      "(SELECT \"Values\".nid AS nid, \"Values\".\"E\" AS \"E\" \n",
      "FROM (SELECT 4 AS nid, 26.786335403726696 AS \"E\" UNION ALL SE \n",
      " ... \n",
      "  nid, 32.272413793103496 AS \"E\" UNION ALL SELECT 5 AS nid, 46.113636363636395 AS \"E\" UNION ALL SELECT 7 AS nid, 23.023021582733804 AS \"E\" UNION ALL SELECT 8 AS nid, 37.4176470588235 AS \"E\" UNION ALL SELECT 11 AS nid, 25.5095890410959 AS \"E\" UNION ALL SELECT 12 AS nid, 20.275280898876396 AS \"E\" UNION ALL SELECT 14 AS nid, 16.9426666666667 AS \"E\" UNION ALL SELECT 15 AS nid, 11.9790322580645 AS \"E\") AS \"Values\"), \n",
      "\"DT_Output_259\" AS \n",
      "(SELECT \"DT_node_lookup_259\".\"KEY\" AS \"KEY\", \"DT_node_lookup_259\".node_id_2 AS node_id_2, \"DT_node_data_259\".nid AS nid, \"DT_node_data_259\".\"E\" AS \"E\" \n",
      "FROM \"DT_node_lookup_259\" LEFT OUTER JOIN \"DT_node_data_259\" ON \"DT_node_lookup_259\".node_id_2 = \"DT_node_data_259\".nid), \n",
      "\"RF_Model_259\" AS \n",
      "(SELECT \"DT_Output_259\".\"KEY\" AS \"KEY\", \"DT_Output_259\".\"E\" AS \"Estimator\" \n",
      "FROM \"DT_Output_259\")\n",
      " SELECT \"RF_esu_25\".\"KEY\", \"RF_esu_25\".\"Estimator\" \n",
      "FROM (SELECT \"RF_Model_250\".\"KEY\" AS \"KEY\", CAST(\"RF_Model_250\".\"Estimator\" AS FLOAT) AS \"Estimator\" \n",
      "FROM \"RF_Model_250\" UNION ALL SELECT \"RF_Model_251\".\"KEY\" AS \"KEY\", CAST(\"RF_Model_251\".\"Estimator\" AS FLOAT) AS \"Estimator\" \n",
      "FROM \"RF_Model_251\" UNION ALL SELECT \"RF_Model_252\".\"KEY\" AS \"KEY\", CAST(\"RF_Model_252\".\"Estimator\" AS FLOAT) AS \"Estimator\" \n",
      "FROM \"RF_Model_252\" UNION ALL SELECT \"RF_Model_253\".\"KEY\" AS \"KEY\", CAST(\"RF_Model_253\".\"Estimator\" AS FLOAT) AS \"Estimator\" \n",
      "FROM \"RF_Model_253\" UNION ALL SELECT \"RF_Model_254\".\"KEY\" AS \"KEY\", CAST(\"RF_Model_254\".\"Estimator\" AS FLOAT) AS \"Estimator\" \n",
      "FROM \"RF_Model_254\" UNION ALL SELECT \"RF_Model_255\".\"KEY\" AS \"KEY\", CAST(\"RF_Model_255\".\"Estimator\" AS FLOAT) AS \"Estimator\" \n",
      "FROM \"RF_Model_255\" UNION ALL SELECT \"RF_Model_256\".\"KEY\" AS \"KEY\", CAST(\"RF_Model_256\".\"Estimator\" AS FLOAT) AS \"Estimator\" \n",
      "FROM \"RF_Model_256\" UNION ALL SELECT \"RF_Model_257\".\"KEY\" AS \"KEY\", CAST(\"RF_Model_257\".\"Estimator\" AS FLOAT) AS \"Estimator\" \n",
      "FROM \"RF_Model_257\" UNION ALL SELECT \"RF_Model_258\".\"KEY\" AS \"KEY\", CAST(\"RF_Model_258\".\"Estimator\" AS FLOAT) AS \"Estimator\" \n",
      "FROM \"RF_Mod \n",
      " ... \n",
      " _35\" UNION ALL SELECT \"RF_36\".\"KEY\" AS \"KEY\", CAST(\"RF_36\".\"Estimator\" AS FLOAT) AS \"Estimator\" \n",
      "FROM \"RF_36\" UNION ALL SELECT \"RF_37\".\"KEY\" AS \"KEY\", CAST(\"RF_37\".\"Estimator\" AS FLOAT) AS \"Estimator\" \n",
      "FROM \"RF_37\" UNION ALL SELECT \"RF_38\".\"KEY\" AS \"KEY\", CAST(\"RF_38\".\"Estimator\" AS FLOAT) AS \"Estimator\" \n",
      "FROM \"RF_38\" UNION ALL SELECT \"RF_39\".\"KEY\" AS \"KEY\", CAST(\"RF_39\".\"Estimator\" AS FLOAT) AS \"Estimator\" \n",
      "FROM \"RF_39\" UNION ALL SELECT \"RF_40\".\"KEY\" AS \"KEY\", CAST(\"RF_40\".\"Estimator\" AS FLOAT) AS \"Estimator\" \n",
      "FROM \"RF_40\" UNION ALL SELECT \"RF_41\".\"KEY\" AS \"KEY\", CAST(\"RF_41\".\"Estimator\" AS FLOAT) AS \"Estimator\" \n",
      "FROM \"RF_41\" UNION ALL SELECT \"RF_42\".\"KEY\" AS \"KEY\", CAST(\"RF_42\".\"Estimator\" AS FLOAT) AS \"Estimator\" \n",
      "FROM \"RF_42\" UNION ALL SELECT \"RF_43\".\"KEY\" AS \"KEY\", CAST(\"RF_43\".\"Estimator\" AS FLOAT) AS \"Estimator\" \n",
      "FROM \"RF_43\" UNION ALL SELECT \"RF_44\".\"KEY\" AS \"KEY\", CAST(\"RF_44\".\"Estimator\" AS FLOAT) AS \"Estimator\" \n",
      "FROM \"RF_44\" UNION ALL SELECT \"RF_45\".\"KEY\" AS \"KEY\", CAST(\"RF_45\".\"Estimator\" AS FLOAT) AS \"Estimator\" \n",
      "FROM \"RF_45\" UNION ALL SELECT \"RF_46\".\"KEY\" AS \"KEY\", CAST(\"RF_46\".\"Estimator\" AS FLOAT) AS \"Estimator\" \n",
      "FROM \"RF_46\" UNION ALL SELECT \"RF_47\".\"KEY\" AS \"KEY\", CAST(\"RF_47\".\"Estimator\" AS FLOAT) AS \"Estimator\" \n",
      "FROM \"RF_47\" UNION ALL SELECT \"RF_48\".\"KEY\" AS \"KEY\", CAST(\"RF_48\".\"Estimator\" AS FLOAT) AS \"Estimator\" \n",
      "FROM \"RF_48\" UNION ALL SELECT \"RF_49\".\"KEY\" AS \"KEY\", CAST(\"RF_49\".\"Estimator\" AS FLOAT) AS \"Estimator\" \n",
      "FROM \"RF_49\" UNION ALL SELECT \"RF_50\".\"KEY\" AS \"KEY\", CAST(\"RF_50\".\"Estimator\" AS FLOAT) AS \"Estimator\" \n",
      "FROM \"RF_50\" UNION ALL SELECT \"RF_51\".\"KEY\" AS \"KEY\", CAST(\"RF_51\".\"Estimator\" AS FLOAT) AS \"Estimator\" \n",
      "FROM \"RF_51\") AS \"RFbig_esu\"), \n",
      "\"RF_avg\" AS \n",
      "(SELECT \"T\".\"KEY\" AS \"KEY\", CAST(\"T\".\"Estimator\" AS FLOAT) AS \"Estimator\" \n",
      "FROM (SELECT \"RF\".\"KEY\" AS \"KEY\", avg(CAST(\"RF\".\"Estimator\" AS FLOAT)) AS \"Estimator\" \n",
      "FROM \"RF\" GROUP BY \"RF\".\"KEY\") AS \"T\")\n",
      " SELECT \"RF_avg\".\"KEY\" AS \"KEY\", \"RF_avg\".\"Estimator\" AS \"Estimator\" \n",
      "FROM \"RF_avg\" \n"
     ]
    }
   ],
   "source": [
    "lModelSQL = test_ws_sql_gen(model)\n",
    "N = nchar(lModelSQL)\n",
    "L = 2000\n",
    "cat(substr(lModelSQL, 0, L) , \"\\n ... \\n\" , \n",
    "    substr(lModelSQL, N/2 - L/2, N/2 + L/2) , \"\\n ... \\n\" , \n",
    "    substr(lModelSQL, N-L, N), \"\\n\")\n"
   ]
  },
  {
   "cell_type": "markdown",
   "metadata": {},
   "source": [
    "# Execute the SQL Code"
   ]
  },
  {
   "cell_type": "code",
   "execution_count": 8,
   "metadata": {},
   "outputs": [
    {
     "data": {
      "text/html": [
       "0"
      ],
      "text/latex": [
       "0"
      ],
      "text/markdown": [
       "0"
      ],
      "text/plain": [
       "[1] 0"
      ]
     },
     "metadata": {},
     "output_type": "display_data"
    }
   ],
   "source": [
    "library(RODBC)\n",
    "conn = odbcConnect(\"pgsql\", uid=\"db\", pwd=\"db\", case=\"nochange\")\n",
    "odbcSetAutoCommit(conn , autoCommit = TRUE)"
   ]
  },
  {
   "cell_type": "code",
   "execution_count": 9,
   "metadata": {
    "scrolled": true
   },
   "outputs": [],
   "source": [
    "df_sql = dataset\n",
    "names(df_sql) = sprintf(\"Feature_%d\",0:(ncol(df_sql)-1))\n",
    "df_sql$KEY = seq.int(nrow(dataset))\n",
    "\n",
    "sqlDrop(conn , \"INPUT_DATA\" , errors = FALSE)\n",
    "sqlSave(conn, df_sql, tablename = \"INPUT_DATA\", verbose = FALSE)\n",
    "\n",
    "# df_sql"
   ]
  },
  {
   "cell_type": "code",
   "execution_count": 10,
   "metadata": {},
   "outputs": [
    {
     "data": {
      "text/html": [
       "<ol class=list-inline>\n",
       "\t<li>'Feature_0'</li>\n",
       "\t<li>'Feature_1'</li>\n",
       "\t<li>'Feature_2'</li>\n",
       "\t<li>'Feature_3'</li>\n",
       "\t<li>'Feature_4'</li>\n",
       "\t<li>'Feature_5'</li>\n",
       "\t<li>'Feature_6'</li>\n",
       "\t<li>'Feature_7'</li>\n",
       "\t<li>'Feature_8'</li>\n",
       "\t<li>'Feature_9'</li>\n",
       "\t<li>'Feature_10'</li>\n",
       "\t<li>'Feature_11'</li>\n",
       "\t<li>'Feature_12'</li>\n",
       "\t<li>'KEY'</li>\n",
       "</ol>\n"
      ],
      "text/latex": [
       "\\begin{enumerate*}\n",
       "\\item 'Feature\\_0'\n",
       "\\item 'Feature\\_1'\n",
       "\\item 'Feature\\_2'\n",
       "\\item 'Feature\\_3'\n",
       "\\item 'Feature\\_4'\n",
       "\\item 'Feature\\_5'\n",
       "\\item 'Feature\\_6'\n",
       "\\item 'Feature\\_7'\n",
       "\\item 'Feature\\_8'\n",
       "\\item 'Feature\\_9'\n",
       "\\item 'Feature\\_10'\n",
       "\\item 'Feature\\_11'\n",
       "\\item 'Feature\\_12'\n",
       "\\item 'KEY'\n",
       "\\end{enumerate*}\n"
      ],
      "text/markdown": [
       "1. 'Feature_0'\n",
       "2. 'Feature_1'\n",
       "3. 'Feature_2'\n",
       "4. 'Feature_3'\n",
       "5. 'Feature_4'\n",
       "6. 'Feature_5'\n",
       "7. 'Feature_6'\n",
       "8. 'Feature_7'\n",
       "9. 'Feature_8'\n",
       "10. 'Feature_9'\n",
       "11. 'Feature_10'\n",
       "12. 'Feature_11'\n",
       "13. 'Feature_12'\n",
       "14. 'KEY'\n",
       "\n",
       "\n"
      ],
      "text/plain": [
       " [1] \"Feature_0\"  \"Feature_1\"  \"Feature_2\"  \"Feature_3\"  \"Feature_4\" \n",
       " [6] \"Feature_5\"  \"Feature_6\"  \"Feature_7\"  \"Feature_8\"  \"Feature_9\" \n",
       "[11] \"Feature_10\" \"Feature_11\" \"Feature_12\" \"KEY\"       "
      ]
     },
     "metadata": {},
     "output_type": "display_data"
    }
   ],
   "source": [
    "colnames(df_sql)\n",
    "# odbcGetInfo(conn)\n",
    "# sqlTables(conn)"
   ]
  },
  {
   "cell_type": "code",
   "execution_count": 11,
   "metadata": {},
   "outputs": [
    {
     "data": {
      "text/html": [
       "<table>\n",
       "<thead><tr><th></th><th scope=col>KEY</th><th scope=col>Estimator</th></tr></thead>\n",
       "<tbody>\n",
       "\t<tr><th scope=row>374</th><td>1       </td><td>27.55196</td></tr>\n",
       "\t<tr><th scope=row>84</th><td>2       </td><td>23.18350</td></tr>\n",
       "\t<tr><th scope=row>168</th><td>3       </td><td>35.12198</td></tr>\n",
       "\t<tr><th scope=row>56</th><td>4       </td><td>34.20214</td></tr>\n",
       "\t<tr><th scope=row>320</th><td>5       </td><td>32.16675</td></tr>\n",
       "\t<tr><th scope=row>64</th><td>6       </td><td>25.70074</td></tr>\n",
       "</tbody>\n",
       "</table>\n"
      ],
      "text/latex": [
       "\\begin{tabular}{r|ll}\n",
       "  & KEY & Estimator\\\\\n",
       "\\hline\n",
       "\t374 & 1        & 27.55196\\\\\n",
       "\t84 & 2        & 23.18350\\\\\n",
       "\t168 & 3        & 35.12198\\\\\n",
       "\t56 & 4        & 34.20214\\\\\n",
       "\t320 & 5        & 32.16675\\\\\n",
       "\t64 & 6        & 25.70074\\\\\n",
       "\\end{tabular}\n"
      ],
      "text/markdown": [
       "\n",
       "| <!--/--> | KEY | Estimator | \n",
       "|---|---|---|---|---|---|\n",
       "| 374 | 1        | 27.55196 | \n",
       "| 84 | 2        | 23.18350 | \n",
       "| 168 | 3        | 35.12198 | \n",
       "| 56 | 4        | 34.20214 | \n",
       "| 320 | 5        | 32.16675 | \n",
       "| 64 | 6        | 25.70074 | \n",
       "\n",
       "\n"
      ],
      "text/plain": [
       "    KEY Estimator\n",
       "374 1   27.55196 \n",
       "84  2   23.18350 \n",
       "168 3   35.12198 \n",
       "56  4   34.20214 \n",
       "320 5   32.16675 \n",
       "64  6   25.70074 "
      ]
     },
     "metadata": {},
     "output_type": "display_data"
    }
   ],
   "source": [
    "df_sql_out = sqlQuery(conn, lModelSQL)\n",
    "head(df_sql_out[order(df_sql_out$KEY),])"
   ]
  },
  {
   "cell_type": "code",
   "execution_count": 12,
   "metadata": {},
   "outputs": [],
   "source": [
    "# df_sql_out"
   ]
  },
  {
   "cell_type": "markdown",
   "metadata": {},
   "source": [
    "# R CFOREST Output"
   ]
  },
  {
   "cell_type": "code",
   "execution_count": 13,
   "metadata": {},
   "outputs": [
    {
     "data": {
      "text/html": [
       "<table>\n",
       "<thead><tr><th scope=col>Estimator</th><th scope=col>KEY</th></tr></thead>\n",
       "<tbody>\n",
       "\t<tr><td>27.46501</td><td>1       </td></tr>\n",
       "\t<tr><td>23.18350</td><td>2       </td></tr>\n",
       "\t<tr><td>35.12198</td><td>3       </td></tr>\n",
       "\t<tr><td>34.07547</td><td>4       </td></tr>\n",
       "\t<tr><td>32.16675</td><td>5       </td></tr>\n",
       "\t<tr><td>25.70074</td><td>6       </td></tr>\n",
       "</tbody>\n",
       "</table>\n"
      ],
      "text/latex": [
       "\\begin{tabular}{r|ll}\n",
       " Estimator & KEY\\\\\n",
       "\\hline\n",
       "\t 27.46501 & 1       \\\\\n",
       "\t 23.18350 & 2       \\\\\n",
       "\t 35.12198 & 3       \\\\\n",
       "\t 34.07547 & 4       \\\\\n",
       "\t 32.16675 & 5       \\\\\n",
       "\t 25.70074 & 6       \\\\\n",
       "\\end{tabular}\n"
      ],
      "text/markdown": [
       "\n",
       "Estimator | KEY | \n",
       "|---|---|---|---|---|---|\n",
       "| 27.46501 | 1        | \n",
       "| 23.18350 | 2        | \n",
       "| 35.12198 | 3        | \n",
       "| 34.07547 | 4        | \n",
       "| 32.16675 | 5        | \n",
       "| 25.70074 | 6        | \n",
       "\n",
       "\n"
      ],
      "text/plain": [
       "  Estimator KEY\n",
       "1 27.46501  1  \n",
       "2 23.18350  2  \n",
       "3 35.12198  3  \n",
       "4 34.07547  4  \n",
       "5 32.16675  5  \n",
       "6 25.70074  6  "
      ]
     },
     "metadata": {},
     "output_type": "display_data"
    }
   ],
   "source": [
    "estimator  =  predict(model, dataset, type = \"raw\")\n",
    "df_r_out = data.frame(estimator)\n",
    "names(df_r_out) = c(\"Estimator\")\n",
    "\n",
    "df_r_out$KEY = seq.int(nrow(dataset))\n",
    "head(df_r_out)\n"
   ]
  },
  {
   "cell_type": "markdown",
   "metadata": {},
   "source": [
    "# Compare R and SQL output"
   ]
  },
  {
   "cell_type": "code",
   "execution_count": 14,
   "metadata": {},
   "outputs": [
    {
     "data": {
      "text/html": [
       "<table>\n",
       "<thead><tr><th scope=col>KEY</th><th scope=col>Estimator_1</th><th scope=col>Estimator_2</th></tr></thead>\n",
       "<tbody>\n",
       "\t<tr><td>1       </td><td>27.46501</td><td>27.55196</td></tr>\n",
       "\t<tr><td>2       </td><td>23.18350</td><td>23.18350</td></tr>\n",
       "\t<tr><td>3       </td><td>35.12198</td><td>35.12198</td></tr>\n",
       "\t<tr><td>4       </td><td>34.07547</td><td>34.20214</td></tr>\n",
       "\t<tr><td>5       </td><td>32.16675</td><td>32.16675</td></tr>\n",
       "\t<tr><td>6       </td><td>25.70074</td><td>25.70074</td></tr>\n",
       "</tbody>\n",
       "</table>\n"
      ],
      "text/latex": [
       "\\begin{tabular}{r|lll}\n",
       " KEY & Estimator\\_1 & Estimator\\_2\\\\\n",
       "\\hline\n",
       "\t 1        & 27.46501 & 27.55196\\\\\n",
       "\t 2        & 23.18350 & 23.18350\\\\\n",
       "\t 3        & 35.12198 & 35.12198\\\\\n",
       "\t 4        & 34.07547 & 34.20214\\\\\n",
       "\t 5        & 32.16675 & 32.16675\\\\\n",
       "\t 6        & 25.70074 & 25.70074\\\\\n",
       "\\end{tabular}\n"
      ],
      "text/markdown": [
       "\n",
       "KEY | Estimator_1 | Estimator_2 | \n",
       "|---|---|---|---|---|---|\n",
       "| 1        | 27.46501 | 27.55196 | \n",
       "| 2        | 23.18350 | 23.18350 | \n",
       "| 3        | 35.12198 | 35.12198 | \n",
       "| 4        | 34.07547 | 34.20214 | \n",
       "| 5        | 32.16675 | 32.16675 | \n",
       "| 6        | 25.70074 | 25.70074 | \n",
       "\n",
       "\n"
      ],
      "text/plain": [
       "  KEY Estimator_1 Estimator_2\n",
       "1 1   27.46501    27.55196   \n",
       "2 2   23.18350    23.18350   \n",
       "3 3   35.12198    35.12198   \n",
       "4 4   34.07547    34.20214   \n",
       "5 5   32.16675    32.16675   \n",
       "6 6   25.70074    25.70074   "
      ]
     },
     "metadata": {},
     "output_type": "display_data"
    }
   ],
   "source": [
    "df_merge = merge(x = df_r_out, y = df_sql_out, by = \"KEY\", all = TRUE, , suffixes = c(\"_1\",\"_2\"))\n",
    "head(df_merge)"
   ]
  },
  {
   "cell_type": "code",
   "execution_count": 15,
   "metadata": {},
   "outputs": [
    {
     "data": {
      "text/html": [
       "<table>\n",
       "<thead><tr><th scope=col>KEY</th><th scope=col>Estimator_1</th><th scope=col>Estimator_2</th><th scope=col>Error</th><th scope=col>AbsError</th></tr></thead>\n",
       "<tbody>\n",
       "\t<tr><td>1            </td><td>27.46501     </td><td>27.55196     </td><td>-8.695169e-02</td><td>8.695169e-02 </td></tr>\n",
       "\t<tr><td>2            </td><td>23.18350     </td><td>23.18350     </td><td>-3.552714e-15</td><td>3.552714e-15 </td></tr>\n",
       "\t<tr><td>3            </td><td>35.12198     </td><td>35.12198     </td><td> 2.131628e-14</td><td>2.131628e-14 </td></tr>\n",
       "\t<tr><td>4            </td><td>34.07547     </td><td>34.20214     </td><td>-1.266736e-01</td><td>1.266736e-01 </td></tr>\n",
       "\t<tr><td>5            </td><td>32.16675     </td><td>32.16675     </td><td> 7.105427e-15</td><td>7.105427e-15 </td></tr>\n",
       "\t<tr><td>6            </td><td>25.70074     </td><td>25.70074     </td><td> 0.000000e+00</td><td>0.000000e+00 </td></tr>\n",
       "</tbody>\n",
       "</table>\n"
      ],
      "text/latex": [
       "\\begin{tabular}{r|lllll}\n",
       " KEY & Estimator\\_1 & Estimator\\_2 & Error & AbsError\\\\\n",
       "\\hline\n",
       "\t 1             & 27.46501      & 27.55196      & -8.695169e-02 & 8.695169e-02 \\\\\n",
       "\t 2             & 23.18350      & 23.18350      & -3.552714e-15 & 3.552714e-15 \\\\\n",
       "\t 3             & 35.12198      & 35.12198      &  2.131628e-14 & 2.131628e-14 \\\\\n",
       "\t 4             & 34.07547      & 34.20214      & -1.266736e-01 & 1.266736e-01 \\\\\n",
       "\t 5             & 32.16675      & 32.16675      &  7.105427e-15 & 7.105427e-15 \\\\\n",
       "\t 6             & 25.70074      & 25.70074      &  0.000000e+00 & 0.000000e+00 \\\\\n",
       "\\end{tabular}\n"
      ],
      "text/markdown": [
       "\n",
       "KEY | Estimator_1 | Estimator_2 | Error | AbsError | \n",
       "|---|---|---|---|---|---|\n",
       "| 1             | 27.46501      | 27.55196      | -8.695169e-02 | 8.695169e-02  | \n",
       "| 2             | 23.18350      | 23.18350      | -3.552714e-15 | 3.552714e-15  | \n",
       "| 3             | 35.12198      | 35.12198      |  2.131628e-14 | 2.131628e-14  | \n",
       "| 4             | 34.07547      | 34.20214      | -1.266736e-01 | 1.266736e-01  | \n",
       "| 5             | 32.16675      | 32.16675      |  7.105427e-15 | 7.105427e-15  | \n",
       "| 6             | 25.70074      | 25.70074      |  0.000000e+00 | 0.000000e+00  | \n",
       "\n",
       "\n"
      ],
      "text/plain": [
       "  KEY Estimator_1 Estimator_2 Error         AbsError    \n",
       "1 1   27.46501    27.55196    -8.695169e-02 8.695169e-02\n",
       "2 2   23.18350    23.18350    -3.552714e-15 3.552714e-15\n",
       "3 3   35.12198    35.12198     2.131628e-14 2.131628e-14\n",
       "4 4   34.07547    34.20214    -1.266736e-01 1.266736e-01\n",
       "5 5   32.16675    32.16675     7.105427e-15 7.105427e-15\n",
       "6 6   25.70074    25.70074     0.000000e+00 0.000000e+00"
      ]
     },
     "metadata": {},
     "output_type": "display_data"
    }
   ],
   "source": [
    "df_merge$Error = df_merge$Estimator_1 - df_merge$Estimator_2\n",
    "df_merge$AbsError = abs(df_merge$Error)\n",
    "head(df_merge)\n"
   ]
  },
  {
   "cell_type": "code",
   "execution_count": 16,
   "metadata": {},
   "outputs": [
    {
     "data": {
      "text/html": [
       "<table>\n",
       "<thead><tr><th></th><th scope=col>KEY</th><th scope=col>Estimator_1</th><th scope=col>Estimator_2</th><th scope=col>Error</th><th scope=col>AbsError</th></tr></thead>\n",
       "<tbody>\n",
       "\t<tr><th scope=row>1</th><td>  1         </td><td>27.46501    </td><td>27.55196    </td><td>-0.086951687</td><td>0.086951687 </td></tr>\n",
       "\t<tr><th scope=row>4</th><td>  4         </td><td>34.07547    </td><td>34.20214    </td><td>-0.126673632</td><td>0.126673632 </td></tr>\n",
       "\t<tr><th scope=row>30</th><td> 30         </td><td>21.66017    </td><td>21.76722    </td><td>-0.107049298</td><td>0.107049298 </td></tr>\n",
       "\t<tr><th scope=row>98</th><td> 98         </td><td>41.33864    </td><td>41.37183    </td><td>-0.033191436</td><td>0.033191436 </td></tr>\n",
       "\t<tr><th scope=row>112</th><td>112         </td><td>22.35970    </td><td>22.34841    </td><td> 0.011292529</td><td>0.011292529 </td></tr>\n",
       "\t<tr><th scope=row>119</th><td>119         </td><td>18.95775    </td><td>18.95037    </td><td> 0.007379908</td><td>0.007379908 </td></tr>\n",
       "\t<tr><th scope=row>131</th><td>131         </td><td>20.24134    </td><td>20.27752    </td><td>-0.036177605</td><td>0.036177605 </td></tr>\n",
       "\t<tr><th scope=row>168</th><td>168         </td><td>20.74487    </td><td>20.73102    </td><td> 0.013853038</td><td>0.013853038 </td></tr>\n",
       "\t<tr><th scope=row>203</th><td>203         </td><td>42.78615    </td><td>42.78925    </td><td>-0.003096977</td><td>0.003096977 </td></tr>\n",
       "\t<tr><th scope=row>212</th><td>212         </td><td>18.06877    </td><td>18.05750    </td><td> 0.011263186</td><td>0.011263186 </td></tr>\n",
       "\t<tr><th scope=row>218</th><td>218         </td><td>23.76436    </td><td>23.75673    </td><td> 0.007632865</td><td>0.007632865 </td></tr>\n",
       "\t<tr><th scope=row>228</th><td>228         </td><td>31.62388    </td><td>31.65164    </td><td>-0.027761643</td><td>0.027761643 </td></tr>\n",
       "\t<tr><th scope=row>238</th><td>238         </td><td>33.80566    </td><td>33.85399    </td><td>-0.048331064</td><td>0.048331064 </td></tr>\n",
       "\t<tr><th scope=row>259</th><td>259         </td><td>32.92333    </td><td>33.21263    </td><td>-0.289298761</td><td>0.289298761 </td></tr>\n",
       "\t<tr><th scope=row>262</th><td>262         </td><td>39.01930    </td><td>39.02288    </td><td>-0.003588867</td><td>0.003588867 </td></tr>\n",
       "\t<tr><th scope=row>271</th><td>271         </td><td>21.01793    </td><td>21.01022    </td><td> 0.007701678</td><td>0.007701678 </td></tr>\n",
       "\t<tr><th scope=row>273</th><td>273         </td><td>24.18358    </td><td>24.22124    </td><td>-0.037661550</td><td>0.037661550 </td></tr>\n",
       "\t<tr><th scope=row>286</th><td>286         </td><td>23.64522    </td><td>23.65754    </td><td>-0.012317950</td><td>0.012317950 </td></tr>\n",
       "\t<tr><th scope=row>297</th><td>297         </td><td>24.93939    </td><td>24.95234    </td><td>-0.012949881</td><td>0.012949881 </td></tr>\n",
       "\t<tr><th scope=row>327</th><td>327         </td><td>24.10217    </td><td>24.12117    </td><td>-0.018999628</td><td>0.018999628 </td></tr>\n",
       "\t<tr><th scope=row>361</th><td>361         </td><td>24.19871    </td><td>24.43275    </td><td>-0.234044407</td><td>0.234044407 </td></tr>\n",
       "\t<tr><th scope=row>373</th><td>373         </td><td>25.21414    </td><td>24.93632    </td><td> 0.277819500</td><td>0.277819500 </td></tr>\n",
       "\t<tr><th scope=row>374</th><td>374         </td><td>12.59043    </td><td>12.26914    </td><td> 0.321287950</td><td>0.321287950 </td></tr>\n",
       "\t<tr><th scope=row>375</th><td>375         </td><td>12.40829    </td><td>12.08700    </td><td> 0.321287950</td><td>0.321287950 </td></tr>\n",
       "\t<tr><th scope=row>422</th><td>422         </td><td>15.09019    </td><td>15.01153    </td><td> 0.078660678</td><td>0.078660678 </td></tr>\n",
       "\t<tr><th scope=row>424</th><td>424         </td><td>14.22565    </td><td>14.23245    </td><td>-0.006806741</td><td>0.006806741 </td></tr>\n",
       "\t<tr><th scope=row>432</th><td>432         </td><td>15.25646    </td><td>15.56102    </td><td>-0.304562162</td><td>0.304562162 </td></tr>\n",
       "\t<tr><th scope=row>434</th><td>434         </td><td>15.76125    </td><td>15.75184    </td><td> 0.009411129</td><td>0.009411129 </td></tr>\n",
       "\t<tr><th scope=row>447</th><td>447         </td><td>15.02779    </td><td>14.96994    </td><td> 0.057842720</td><td>0.057842720 </td></tr>\n",
       "\t<tr><th scope=row>479</th><td>479         </td><td>14.61066    </td><td>14.59013    </td><td> 0.020527289</td><td>0.020527289 </td></tr>\n",
       "\t<tr><th scope=row>481</th><td>481         </td><td>20.71537    </td><td>20.64248    </td><td> 0.072884203</td><td>0.072884203 </td></tr>\n",
       "</tbody>\n",
       "</table>\n"
      ],
      "text/latex": [
       "\\begin{tabular}{r|lllll}\n",
       "  & KEY & Estimator\\_1 & Estimator\\_2 & Error & AbsError\\\\\n",
       "\\hline\n",
       "\t1 &   1          & 27.46501     & 27.55196     & -0.086951687 & 0.086951687 \\\\\n",
       "\t4 &   4          & 34.07547     & 34.20214     & -0.126673632 & 0.126673632 \\\\\n",
       "\t30 &  30          & 21.66017     & 21.76722     & -0.107049298 & 0.107049298 \\\\\n",
       "\t98 &  98          & 41.33864     & 41.37183     & -0.033191436 & 0.033191436 \\\\\n",
       "\t112 & 112          & 22.35970     & 22.34841     &  0.011292529 & 0.011292529 \\\\\n",
       "\t119 & 119          & 18.95775     & 18.95037     &  0.007379908 & 0.007379908 \\\\\n",
       "\t131 & 131          & 20.24134     & 20.27752     & -0.036177605 & 0.036177605 \\\\\n",
       "\t168 & 168          & 20.74487     & 20.73102     &  0.013853038 & 0.013853038 \\\\\n",
       "\t203 & 203          & 42.78615     & 42.78925     & -0.003096977 & 0.003096977 \\\\\n",
       "\t212 & 212          & 18.06877     & 18.05750     &  0.011263186 & 0.011263186 \\\\\n",
       "\t218 & 218          & 23.76436     & 23.75673     &  0.007632865 & 0.007632865 \\\\\n",
       "\t228 & 228          & 31.62388     & 31.65164     & -0.027761643 & 0.027761643 \\\\\n",
       "\t238 & 238          & 33.80566     & 33.85399     & -0.048331064 & 0.048331064 \\\\\n",
       "\t259 & 259          & 32.92333     & 33.21263     & -0.289298761 & 0.289298761 \\\\\n",
       "\t262 & 262          & 39.01930     & 39.02288     & -0.003588867 & 0.003588867 \\\\\n",
       "\t271 & 271          & 21.01793     & 21.01022     &  0.007701678 & 0.007701678 \\\\\n",
       "\t273 & 273          & 24.18358     & 24.22124     & -0.037661550 & 0.037661550 \\\\\n",
       "\t286 & 286          & 23.64522     & 23.65754     & -0.012317950 & 0.012317950 \\\\\n",
       "\t297 & 297          & 24.93939     & 24.95234     & -0.012949881 & 0.012949881 \\\\\n",
       "\t327 & 327          & 24.10217     & 24.12117     & -0.018999628 & 0.018999628 \\\\\n",
       "\t361 & 361          & 24.19871     & 24.43275     & -0.234044407 & 0.234044407 \\\\\n",
       "\t373 & 373          & 25.21414     & 24.93632     &  0.277819500 & 0.277819500 \\\\\n",
       "\t374 & 374          & 12.59043     & 12.26914     &  0.321287950 & 0.321287950 \\\\\n",
       "\t375 & 375          & 12.40829     & 12.08700     &  0.321287950 & 0.321287950 \\\\\n",
       "\t422 & 422          & 15.09019     & 15.01153     &  0.078660678 & 0.078660678 \\\\\n",
       "\t424 & 424          & 14.22565     & 14.23245     & -0.006806741 & 0.006806741 \\\\\n",
       "\t432 & 432          & 15.25646     & 15.56102     & -0.304562162 & 0.304562162 \\\\\n",
       "\t434 & 434          & 15.76125     & 15.75184     &  0.009411129 & 0.009411129 \\\\\n",
       "\t447 & 447          & 15.02779     & 14.96994     &  0.057842720 & 0.057842720 \\\\\n",
       "\t479 & 479          & 14.61066     & 14.59013     &  0.020527289 & 0.020527289 \\\\\n",
       "\t481 & 481          & 20.71537     & 20.64248     &  0.072884203 & 0.072884203 \\\\\n",
       "\\end{tabular}\n"
      ],
      "text/markdown": [
       "\n",
       "| <!--/--> | KEY | Estimator_1 | Estimator_2 | Error | AbsError | \n",
       "|---|---|---|---|---|---|---|---|---|---|---|---|---|---|---|---|---|---|---|---|---|---|---|---|---|---|---|---|---|---|---|\n",
       "| 1 |   1          | 27.46501     | 27.55196     | -0.086951687 | 0.086951687  | \n",
       "| 4 |   4          | 34.07547     | 34.20214     | -0.126673632 | 0.126673632  | \n",
       "| 30 |  30          | 21.66017     | 21.76722     | -0.107049298 | 0.107049298  | \n",
       "| 98 |  98          | 41.33864     | 41.37183     | -0.033191436 | 0.033191436  | \n",
       "| 112 | 112          | 22.35970     | 22.34841     |  0.011292529 | 0.011292529  | \n",
       "| 119 | 119          | 18.95775     | 18.95037     |  0.007379908 | 0.007379908  | \n",
       "| 131 | 131          | 20.24134     | 20.27752     | -0.036177605 | 0.036177605  | \n",
       "| 168 | 168          | 20.74487     | 20.73102     |  0.013853038 | 0.013853038  | \n",
       "| 203 | 203          | 42.78615     | 42.78925     | -0.003096977 | 0.003096977  | \n",
       "| 212 | 212          | 18.06877     | 18.05750     |  0.011263186 | 0.011263186  | \n",
       "| 218 | 218          | 23.76436     | 23.75673     |  0.007632865 | 0.007632865  | \n",
       "| 228 | 228          | 31.62388     | 31.65164     | -0.027761643 | 0.027761643  | \n",
       "| 238 | 238          | 33.80566     | 33.85399     | -0.048331064 | 0.048331064  | \n",
       "| 259 | 259          | 32.92333     | 33.21263     | -0.289298761 | 0.289298761  | \n",
       "| 262 | 262          | 39.01930     | 39.02288     | -0.003588867 | 0.003588867  | \n",
       "| 271 | 271          | 21.01793     | 21.01022     |  0.007701678 | 0.007701678  | \n",
       "| 273 | 273          | 24.18358     | 24.22124     | -0.037661550 | 0.037661550  | \n",
       "| 286 | 286          | 23.64522     | 23.65754     | -0.012317950 | 0.012317950  | \n",
       "| 297 | 297          | 24.93939     | 24.95234     | -0.012949881 | 0.012949881  | \n",
       "| 327 | 327          | 24.10217     | 24.12117     | -0.018999628 | 0.018999628  | \n",
       "| 361 | 361          | 24.19871     | 24.43275     | -0.234044407 | 0.234044407  | \n",
       "| 373 | 373          | 25.21414     | 24.93632     |  0.277819500 | 0.277819500  | \n",
       "| 374 | 374          | 12.59043     | 12.26914     |  0.321287950 | 0.321287950  | \n",
       "| 375 | 375          | 12.40829     | 12.08700     |  0.321287950 | 0.321287950  | \n",
       "| 422 | 422          | 15.09019     | 15.01153     |  0.078660678 | 0.078660678  | \n",
       "| 424 | 424          | 14.22565     | 14.23245     | -0.006806741 | 0.006806741  | \n",
       "| 432 | 432          | 15.25646     | 15.56102     | -0.304562162 | 0.304562162  | \n",
       "| 434 | 434          | 15.76125     | 15.75184     |  0.009411129 | 0.009411129  | \n",
       "| 447 | 447          | 15.02779     | 14.96994     |  0.057842720 | 0.057842720  | \n",
       "| 479 | 479          | 14.61066     | 14.59013     |  0.020527289 | 0.020527289  | \n",
       "| 481 | 481          | 20.71537     | 20.64248     |  0.072884203 | 0.072884203  | \n",
       "\n",
       "\n"
      ],
      "text/plain": [
       "    KEY Estimator_1 Estimator_2 Error        AbsError   \n",
       "1     1 27.46501    27.55196    -0.086951687 0.086951687\n",
       "4     4 34.07547    34.20214    -0.126673632 0.126673632\n",
       "30   30 21.66017    21.76722    -0.107049298 0.107049298\n",
       "98   98 41.33864    41.37183    -0.033191436 0.033191436\n",
       "112 112 22.35970    22.34841     0.011292529 0.011292529\n",
       "119 119 18.95775    18.95037     0.007379908 0.007379908\n",
       "131 131 20.24134    20.27752    -0.036177605 0.036177605\n",
       "168 168 20.74487    20.73102     0.013853038 0.013853038\n",
       "203 203 42.78615    42.78925    -0.003096977 0.003096977\n",
       "212 212 18.06877    18.05750     0.011263186 0.011263186\n",
       "218 218 23.76436    23.75673     0.007632865 0.007632865\n",
       "228 228 31.62388    31.65164    -0.027761643 0.027761643\n",
       "238 238 33.80566    33.85399    -0.048331064 0.048331064\n",
       "259 259 32.92333    33.21263    -0.289298761 0.289298761\n",
       "262 262 39.01930    39.02288    -0.003588867 0.003588867\n",
       "271 271 21.01793    21.01022     0.007701678 0.007701678\n",
       "273 273 24.18358    24.22124    -0.037661550 0.037661550\n",
       "286 286 23.64522    23.65754    -0.012317950 0.012317950\n",
       "297 297 24.93939    24.95234    -0.012949881 0.012949881\n",
       "327 327 24.10217    24.12117    -0.018999628 0.018999628\n",
       "361 361 24.19871    24.43275    -0.234044407 0.234044407\n",
       "373 373 25.21414    24.93632     0.277819500 0.277819500\n",
       "374 374 12.59043    12.26914     0.321287950 0.321287950\n",
       "375 375 12.40829    12.08700     0.321287950 0.321287950\n",
       "422 422 15.09019    15.01153     0.078660678 0.078660678\n",
       "424 424 14.22565    14.23245    -0.006806741 0.006806741\n",
       "432 432 15.25646    15.56102    -0.304562162 0.304562162\n",
       "434 434 15.76125    15.75184     0.009411129 0.009411129\n",
       "447 447 15.02779    14.96994     0.057842720 0.057842720\n",
       "479 479 14.61066    14.59013     0.020527289 0.020527289\n",
       "481 481 20.71537    20.64248     0.072884203 0.072884203"
      ]
     },
     "metadata": {},
     "output_type": "display_data"
    }
   ],
   "source": [
    "df_merge_largest_errors = df_merge[df_merge$AbsError > 0.0001,]\n",
    "df_merge_largest_errors"
   ]
  },
  {
   "cell_type": "code",
   "execution_count": 18,
   "metadata": {},
   "outputs": [
    {
     "data": {
      "text/html": [
       "506"
      ],
      "text/latex": [
       "506"
      ],
      "text/markdown": [
       "506"
      ],
      "text/plain": [
       "[1] 506"
      ]
     },
     "metadata": {},
     "output_type": "display_data"
    },
    {
     "data": {
      "text/html": [
       "31"
      ],
      "text/latex": [
       "31"
      ],
      "text/markdown": [
       "31"
      ],
      "text/plain": [
       "[1] 31"
      ]
     },
     "metadata": {},
     "output_type": "display_data"
    }
   ],
   "source": [
    "nrow(df)\n",
    "nrow(df_merge_largest_errors)\n",
    "# stopifnot(nrow(df_merge_largest_errors) <= 10)\n"
   ]
  },
  {
   "cell_type": "code",
   "execution_count": null,
   "metadata": {},
   "outputs": [],
   "source": []
  },
  {
   "cell_type": "code",
   "execution_count": 19,
   "metadata": {},
   "outputs": [
    {
     "data": {
      "text/plain": [
       "      KEY          Estimator    \n",
       " Min.   :  1.0   Min.   :11.95  \n",
       " 1st Qu.:127.2   1st Qu.:17.75  \n",
       " Median :253.5   Median :21.12  \n",
       " Mean   :253.5   Mean   :22.50  \n",
       " 3rd Qu.:379.8   3rd Qu.:25.08  \n",
       " Max.   :506.0   Max.   :45.17  "
      ]
     },
     "metadata": {},
     "output_type": "display_data"
    }
   ],
   "source": [
    "summary(df_sql_out)"
   ]
  },
  {
   "cell_type": "code",
   "execution_count": 20,
   "metadata": {},
   "outputs": [
    {
     "data": {
      "text/plain": [
       "   Estimator          KEY       \n",
       " Min.   :11.95   Min.   :  1.0  \n",
       " 1st Qu.:17.75   1st Qu.:127.2  \n",
       " Median :21.12   Median :253.5  \n",
       " Mean   :22.49   Mean   :253.5  \n",
       " 3rd Qu.:25.13   3rd Qu.:379.8  \n",
       " Max.   :45.17   Max.   :506.0  "
      ]
     },
     "metadata": {},
     "output_type": "display_data"
    }
   ],
   "source": [
    "summary(df_r_out)"
   ]
  },
  {
   "cell_type": "code",
   "execution_count": 21,
   "metadata": {},
   "outputs": [
    {
     "data": {
      "text/plain": [
       "      KEY         Estimator_1     Estimator_2        Error           \n",
       " Min.   :  1.0   Min.   :11.95   Min.   :11.95   Min.   :-0.3045622  \n",
       " 1st Qu.:127.2   1st Qu.:17.75   1st Qu.:17.75   1st Qu.: 0.0000000  \n",
       " Median :253.5   Median :21.12   Median :21.12   Median : 0.0000000  \n",
       " Mean   :253.5   Mean   :22.49   Mean   :22.50   Mean   :-0.0003372  \n",
       " 3rd Qu.:379.8   3rd Qu.:25.13   3rd Qu.:25.08   3rd Qu.: 0.0000000  \n",
       " Max.   :506.0   Max.   :45.17   Max.   :45.17   Max.   : 0.3212879  \n",
       "    AbsError       \n",
       " Min.   :0.000000  \n",
       " 1st Qu.:0.000000  \n",
       " Median :0.000000  \n",
       " Mean   :0.005155  \n",
       " 3rd Qu.:0.000000  \n",
       " Max.   :0.321288  "
      ]
     },
     "metadata": {},
     "output_type": "display_data"
    }
   ],
   "source": [
    "summary(df_merge)"
   ]
  },
  {
   "cell_type": "code",
   "execution_count": null,
   "metadata": {},
   "outputs": [],
   "source": []
  },
  {
   "cell_type": "code",
   "execution_count": null,
   "metadata": {},
   "outputs": [],
   "source": []
  }
 ],
 "metadata": {
  "kernelspec": {
   "display_name": "R",
   "language": "R",
   "name": "ir"
  },
  "language_info": {
   "codemirror_mode": "r",
   "file_extension": ".r",
   "mimetype": "text/x-r-source",
   "name": "R",
   "pygments_lexer": "r",
   "version": "3.5.1"
  }
 },
 "nbformat": 4,
 "nbformat_minor": 2
}
