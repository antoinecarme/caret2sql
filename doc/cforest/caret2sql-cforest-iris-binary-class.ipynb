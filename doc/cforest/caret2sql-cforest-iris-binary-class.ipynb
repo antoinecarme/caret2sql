{
 "cells": [
  {
   "cell_type": "code",
   "execution_count": 1,
   "metadata": {},
   "outputs": [
    {
     "name": "stderr",
     "output_type": "stream",
     "text": [
      "\n",
      "Attaching package: ‘httr’\n",
      "\n",
      "The following object is masked from ‘package:caret’:\n",
      "\n",
      "    progress\n",
      "\n",
      "Loading required package: grid\n",
      "Loading required package: mvtnorm\n",
      "Loading required package: modeltools\n",
      "Loading required package: stats4\n",
      "Loading required package: strucchange\n",
      "Loading required package: zoo\n",
      "\n",
      "Attaching package: ‘zoo’\n",
      "\n",
      "The following objects are masked from ‘package:base’:\n",
      "\n",
      "    as.Date, as.Date.numeric\n",
      "\n",
      "Loading required package: sandwich\n"
     ]
    }
   ],
   "source": [
    "\n",
    "library(caret, quiet=TRUE);\n",
    "library(base64enc)\n",
    "library(httr)\n",
    "library(party)"
   ]
  },
  {
   "cell_type": "markdown",
   "metadata": {},
   "source": [
    "# Build a Model"
   ]
  },
  {
   "cell_type": "code",
   "execution_count": 2,
   "metadata": {},
   "outputs": [],
   "source": [
    "\n",
    "## binary classification in iris dataset:\n",
    "    \n",
    "num_class <- 3\n",
    "lb <- as.numeric(iris$Species) - 1\n",
    "\n",
    "iris$Species2 = as.factor(sapply(iris$Species , function(x) if( x == 'setosa') 'yes' else 'no'))\n",
    "dataset = as.matrix(iris[, 1:4])\n",
    "    \n",
    "create_model  =  function() {\n",
    "\n",
    "    set.seed(1960)\n",
    "    formula <- as.formula(Species2 ~ Sepal.Length + Sepal.Width + Petal.Length + Petal.Width)\n",
    "    model <- train(formula, iris, method = \"cforest\", \n",
    "                   controls=cforest_control(maxdepth=3, ntree=512, mtry=3))\n",
    "    return(model)\n",
    "}"
   ]
  },
  {
   "cell_type": "code",
   "execution_count": 3,
   "metadata": {},
   "outputs": [
    {
     "data": {
      "text/html": [
       "<table>\n",
       "<thead><tr><th scope=col>Sepal.Length</th><th scope=col>Sepal.Width</th><th scope=col>Petal.Length</th><th scope=col>Petal.Width</th><th scope=col>Species</th><th scope=col>Species2</th></tr></thead>\n",
       "<tbody>\n",
       "\t<tr><td>5.1   </td><td>3.5   </td><td>1.4   </td><td>0.2   </td><td>setosa</td><td>yes   </td></tr>\n",
       "\t<tr><td>4.9   </td><td>3.0   </td><td>1.4   </td><td>0.2   </td><td>setosa</td><td>yes   </td></tr>\n",
       "\t<tr><td>4.7   </td><td>3.2   </td><td>1.3   </td><td>0.2   </td><td>setosa</td><td>yes   </td></tr>\n",
       "\t<tr><td>4.6   </td><td>3.1   </td><td>1.5   </td><td>0.2   </td><td>setosa</td><td>yes   </td></tr>\n",
       "\t<tr><td>5.0   </td><td>3.6   </td><td>1.4   </td><td>0.2   </td><td>setosa</td><td>yes   </td></tr>\n",
       "\t<tr><td>5.4   </td><td>3.9   </td><td>1.7   </td><td>0.4   </td><td>setosa</td><td>yes   </td></tr>\n",
       "</tbody>\n",
       "</table>\n"
      ],
      "text/latex": [
       "\\begin{tabular}{r|llllll}\n",
       " Sepal.Length & Sepal.Width & Petal.Length & Petal.Width & Species & Species2\\\\\n",
       "\\hline\n",
       "\t 5.1    & 3.5    & 1.4    & 0.2    & setosa & yes   \\\\\n",
       "\t 4.9    & 3.0    & 1.4    & 0.2    & setosa & yes   \\\\\n",
       "\t 4.7    & 3.2    & 1.3    & 0.2    & setosa & yes   \\\\\n",
       "\t 4.6    & 3.1    & 1.5    & 0.2    & setosa & yes   \\\\\n",
       "\t 5.0    & 3.6    & 1.4    & 0.2    & setosa & yes   \\\\\n",
       "\t 5.4    & 3.9    & 1.7    & 0.4    & setosa & yes   \\\\\n",
       "\\end{tabular}\n"
      ],
      "text/markdown": [
       "\n",
       "Sepal.Length | Sepal.Width | Petal.Length | Petal.Width | Species | Species2 | \n",
       "|---|---|---|---|---|---|\n",
       "| 5.1    | 3.5    | 1.4    | 0.2    | setosa | yes    | \n",
       "| 4.9    | 3.0    | 1.4    | 0.2    | setosa | yes    | \n",
       "| 4.7    | 3.2    | 1.3    | 0.2    | setosa | yes    | \n",
       "| 4.6    | 3.1    | 1.5    | 0.2    | setosa | yes    | \n",
       "| 5.0    | 3.6    | 1.4    | 0.2    | setosa | yes    | \n",
       "| 5.4    | 3.9    | 1.7    | 0.4    | setosa | yes    | \n",
       "\n",
       "\n"
      ],
      "text/plain": [
       "  Sepal.Length Sepal.Width Petal.Length Petal.Width Species Species2\n",
       "1 5.1          3.5         1.4          0.2         setosa  yes     \n",
       "2 4.9          3.0         1.4          0.2         setosa  yes     \n",
       "3 4.7          3.2         1.3          0.2         setosa  yes     \n",
       "4 4.6          3.1         1.5          0.2         setosa  yes     \n",
       "5 5.0          3.6         1.4          0.2         setosa  yes     \n",
       "6 5.4          3.9         1.7          0.4         setosa  yes     "
      ]
     },
     "metadata": {},
     "output_type": "display_data"
    }
   ],
   "source": [
    "head(iris)"
   ]
  },
  {
   "cell_type": "code",
   "execution_count": 4,
   "metadata": {},
   "outputs": [],
   "source": [
    "# dataset\n",
    "model = create_model()\n",
    "# cat(model$feature_names)\n",
    "# plot(model)\n"
   ]
  },
  {
   "cell_type": "code",
   "execution_count": 5,
   "metadata": {},
   "outputs": [
    {
     "data": {
      "text/html": [
       "0"
      ],
      "text/latex": [
       "0"
      ],
      "text/markdown": [
       "0"
      ],
      "text/plain": [
       "[1] 0"
      ]
     },
     "metadata": {},
     "output_type": "display_data"
    }
   ],
   "source": [
    "pred <- predict(model, dataset , type=\"prob\")\n",
    "pred_labels <- predict(model, dataset , type=\"raw\")\n",
    "error_rate = sum(pred_labels != iris$Species2)/length(pred_labels)\n",
    "error_rate"
   ]
  },
  {
   "cell_type": "markdown",
   "metadata": {},
   "source": [
    "# SQL Code Generation"
   ]
  },
  {
   "cell_type": "code",
   "execution_count": 6,
   "metadata": {},
   "outputs": [],
   "source": [
    "\n",
    "test_ws_sql_gen = function(mod) {\n",
    "    WS_URL = \"https://sklearn2sql.herokuapp.com/model\"\n",
    "    WS_URL = \"http://localhost:1888/model\"\n",
    "    model_serialized <- serialize(mod, NULL)\n",
    "    b64_data = base64encode(model_serialized)\n",
    "    data = list(Name = \"caret_test_model\", SerializedModel = b64_data , \n",
    "                SQLDialect = \"postgresql\" , Mode=\"caret\")\n",
    "    r = POST(WS_URL, body = data, encode = \"json\", verbose())\n",
    "    # print(r)\n",
    "    content = content(r)\n",
    "    # print(content)\n",
    "    lSQL = content$model$SQLGenrationResult[[1]]$SQL # content[\"model\"][\"SQLGenrationResult\"][0][\"SQL\"]\n",
    "    return(lSQL);\n",
    "}"
   ]
  },
  {
   "cell_type": "code",
   "execution_count": 7,
   "metadata": {},
   "outputs": [],
   "source": [
    "# labels(model$finalModel)"
   ]
  },
  {
   "cell_type": "code",
   "execution_count": 8,
   "metadata": {
    "scrolled": false
   },
   "outputs": [
    {
     "name": "stdout",
     "output_type": "stream",
     "text": [
      "\n",
      "\n",
      "\n",
      "\n",
      "\n",
      "\n",
      "\n",
      "\n",
      "\n",
      "\n",
      "\n",
      "\n",
      "\n",
      "\n",
      "\n",
      "\n",
      "\n",
      "\n",
      "\n",
      "\n",
      "\n",
      "\n",
      "\n",
      "\n",
      "\n",
      "\n",
      "\n",
      "\n",
      "\n",
      "\n",
      "\n",
      "\n",
      "\n",
      "\n",
      "\n",
      "\n",
      "\n",
      "\n",
      "\n",
      "\n",
      "\n",
      "\n",
      "\n",
      "\n",
      "\n",
      "\n",
      "\n",
      "\n",
      "\n",
      "\n",
      "\n",
      "\n",
      "\n",
      "\n",
      "\n",
      "\n",
      "\n",
      "\n",
      "\n",
      "\n",
      "\n",
      "\n",
      "\n",
      "\n",
      "\n",
      "\n",
      "\n",
      "\n",
      "\n",
      "\n",
      "\n",
      "\n",
      "\n",
      "\n",
      "\n",
      "\n",
      "\n",
      "\n",
      "\n",
      "\n",
      "\n",
      "\n",
      "\n",
      "\n",
      "\n",
      "\n",
      "\n",
      "\n",
      "\n",
      "\n",
      "\n",
      "\n",
      "\n",
      "\n",
      "\n",
      "\n",
      "\n",
      "\n",
      "\n",
      "\n",
      "\n",
      "\n",
      "\n",
      "\n",
      "\n",
      "\n",
      "\n",
      "\n",
      "\n",
      "\n",
      "\n",
      "\n",
      "\n",
      "\n",
      "\n",
      "\n",
      "\n",
      "\n",
      "\n",
      "\n",
      "\n",
      "\n",
      "\n",
      "\n",
      "\n",
      "\n",
      "\n",
      "\n",
      "\n",
      "\n",
      "\n",
      "\n",
      "\n",
      "\n",
      "\n",
      "\n",
      "\n",
      "\n",
      "\n",
      "\n",
      "\n",
      "\n",
      "\n",
      "\n",
      "\n",
      "\n",
      "\n",
      "\n",
      "\n",
      "\n",
      "\n",
      "\n",
      "\n",
      "\n",
      "\n",
      "\n",
      "\n",
      "\n",
      "\n",
      "\n",
      "\n",
      "\n",
      "\n",
      "\n",
      "\n",
      "\n",
      "\n",
      "\n",
      "\n",
      "\n",
      "\n",
      "\n",
      "\n",
      "\n",
      "\n",
      "\n",
      "\n",
      "\n",
      "\n",
      "\n",
      "\n",
      "\n",
      "\n",
      "\n",
      "\n",
      "\n",
      "\n",
      "\n",
      "\n",
      "\n",
      "\n",
      "\n",
      "\n",
      "\n",
      "\n",
      "\n",
      "\n",
      "\n",
      "\n",
      "\n",
      "\n",
      "\n",
      "\n",
      "\n",
      "\n",
      "\n",
      "\n",
      "\n",
      "\n",
      "\n",
      "\n",
      "\n",
      "\n",
      "\n",
      "\n",
      "\n",
      "\n",
      "\n",
      "\n",
      "\n",
      "\n",
      "\n",
      "\n",
      "\n",
      "\n",
      "\n",
      "\n",
      "\n",
      "\n",
      "\n",
      "\n",
      "\n",
      "\n",
      "\n",
      "WITH \"RF_0\" AS \n",
      "(WITH \"DT_node_lookup\" AS \n",
      "(SELECT \"ADS\".\"KEY\" AS \"KEY\", CASE WHEN (\"ADS\".\"Feature_2\" <= 1.9) THEN 2 ELSE 3 END AS node_id_2 \n",
      "FROM \"INPUT_DATA\" AS \"ADS\"), \n",
      "\"DT_node_data\" AS \n",
      "(SELECT \"Values\".nid AS nid, \"Values\".\"P_0\" AS \"P_0\", \"Values\".\"P_1\" AS \"P_1\", \"Values\".\"D\" AS \"D\", \"Values\".\"DP\" AS \"DP\" \n",
      "FROM (SELECT 2 AS nid, 0.0 AS \"P_0\", 1.0 AS \"P_1\", 1 AS \"D\", 1.0 AS \"DP\" UNION ALL SELECT 3 AS nid, 1.0 AS \"P_0\", 0.0 AS \"P_1\", 0 AS \"D\", 1.0 AS \"DP\") AS \"Values\"), \n",
      "\"DT_Output\" AS \n",
      "(SELECT \"DT_node_lookup\".\"KEY\" AS \"KEY\", \"DT_node_lookup\".node_id_2 AS node_id_2, \"DT_node_data\".nid AS nid, \"DT_node_data\".\"P_0\" AS \"P_0\", \"DT_node_data\".\"P_1\" AS \"P_1\", \"DT_node_data\".\"D\" AS \"D\", \"DT_node_data\".\"DP\" AS \"DP\" \n",
      "FROM \"DT_node_lookup\" LEFT OUTER JOIN \"DT_node_data\" ON \"DT_node_lookup\".node_id_2 = \"DT_node_data\".nid), \n",
      "\"RF_Model_0\" AS \n",
      "(SELECT \"DT_Output\".\"KEY\" AS \"KEY\", CAST(NULL AS FLOAT) AS \"Score_no\", \"DT_Output\".\"P_0\" AS \"Proba_no\", CASE WHEN (\"DT_Output\".\"P_0\" IS NULL OR \"DT_Output\".\"P_0\" > 0.0) THEN ln(\"DT_Output\".\"P_0\") ELSE -1.79769313486231e+308 END AS \"LogProba_no\", CAST(NULL AS FLOAT) AS \"Score_yes\", \"DT_Output\".\"P_1\" AS \"Proba_yes\", CASE WHEN (\"DT_Output\".\"P_1\" IS NULL OR \"DT_Output\".\"P_1\" > 0.0) THEN ln(\"DT_Output\".\"P_1\") ELSE -1.79769313486231e+308 END AS \"LogProba_yes\" \n",
      "FROM \"DT_Output\"), \n",
      "\"DT_node_lookup_1\" AS \n",
      "(SELECT \"ADS\".\"KEY\" AS \"KEY\", CASE WHEN (\"ADS\".\"Feature_2\" <= 1.7) THEN 2 ELSE 3 END AS node_id_2 \n",
      "FROM \"INPUT_DATA\" AS \"ADS\"), \n",
      "\"DT_node_data_1\" AS \n",
      "(SELECT \"Values\".nid AS nid, \"Values\".\"P_0\" AS \"P_0\", \"Values\".\"P_1\" AS \"P_1\", \"Values\".\"D\" AS \"D\", \"Values\".\"DP\" AS \"DP\" \n",
      "FROM (SELECT 2 AS nid, 0.0 AS \"P_0\", 1.0 AS \"P_1\", 1 AS \"D\", 1.0 AS \"DP\" UNION ALL SELECT 3 AS nid, 1.0 AS \"P_0\", 0.0 AS \"P_1\", 0 AS \"D\", 1.0 AS \"DP\") AS \"Values\"), \n",
      "\"DT_Output_1\" AS \n",
      "(SELECT \"DT_node_lookup_1\".\"KEY\" AS \"KEY\", \"DT_node_lookup_1\".node_id_2 AS node_id_2, \"DT_node_data_1\".nid AS nid, \"DT_node_data_1\".\"P_0\" AS \"P_0\", \"DT_node_data_1\".\"P_1\" AS \"P_1\", \"DT_node_data \n",
      " ... \n",
      " 263\".\"P_1\" AS \"Proba_yes\", CASE WHEN (\"DT_Output_263\".\"P_1\" IS NULL OR \"DT_Output_263\".\"P_1\" > 0.0) THEN ln(\"DT_Output_263\".\"P_1\") ELSE -1.79769313486231e+308 END AS \"LogProba_yes\" \n",
      "FROM \"DT_Output_263\"), \n",
      "\"DT_node_lookup_264\" AS \n",
      "(SELECT \"ADS\".\"KEY\" AS \"KEY\", CASE WHEN (\"ADS\".\"Feature_2\" <= 1.9) THEN 2 ELSE 3 END AS node_id_2 \n",
      "FROM \"INPUT_DATA\" AS \"ADS\"), \n",
      "\"DT_node_data_264\" AS \n",
      "(SELECT \"Values\".nid AS nid, \"Values\".\"P_0\" AS \"P_0\", \"Values\".\"P_1\" AS \"P_1\", \"Values\".\"D\" AS \"D\", \"Values\".\"DP\" AS \"DP\" \n",
      "FROM (SELECT 2 AS nid, 0.0 AS \"P_0\", 1.0 AS \"P_1\", 1 AS \"D\", 1.0 AS \"DP\" UNION ALL SELECT 3 AS nid, 1.0 AS \"P_0\", 0.0 AS \"P_1\", 0 AS \"D\", 1.0 AS \"DP\") AS \"Values\"), \n",
      "\"DT_Output_264\" AS \n",
      "(SELECT \"DT_node_lookup_264\".\"KEY\" AS \"KEY\", \"DT_node_lookup_264\".node_id_2 AS node_id_2, \"DT_node_data_264\".nid AS nid, \"DT_node_data_264\".\"P_0\" AS \"P_0\", \"DT_node_data_264\".\"P_1\" AS \"P_1\", \"DT_node_data_264\".\"D\" AS \"D\", \"DT_node_data_264\".\"DP\" AS \"DP\" \n",
      "FROM \"DT_node_lookup_264\" LEFT OUTER JOIN \"DT_node_data_264\" ON \"DT_node_lookup_264\".node_id_2 = \"DT_node_data_264\".nid), \n",
      "\"RF_Model_264\" AS \n",
      "(SELECT \"DT_Output_264\".\"KEY\" AS \"KEY\", CAST(NULL AS FLOAT) AS \"Score_no\", \"DT_Output_264\".\"P_0\" AS \"Proba_no\", CASE WHEN (\"DT_Output_264\".\"P_0\" IS NULL OR \"DT_Output_264\".\"P_0\" > 0.0) THEN ln(\"DT_Output_264\".\"P_0\") ELSE -1.79769313486231e+308 END AS \"LogProba_no\", CAST(NULL AS FLOAT) AS \"Score_yes\", \"DT_Output_264\".\"P_1\" AS \"Proba_yes\", CASE WHEN (\"DT_Output_264\".\"P_1\" IS NULL OR \"DT_Output_264\".\"P_1\" > 0.0) THEN ln(\"DT_Output_264\".\"P_1\") ELSE -1.79769313486231e+308 END AS \"LogProba_yes\" \n",
      "FROM \"DT_Output_264\"), \n",
      "\"DT_node_lookup_265\" AS \n",
      "(SELECT \"ADS\".\"KEY\" AS \"KEY\", CASE WHEN (\"ADS\".\"Feature_3\" <= 0.6) THEN 2 ELSE 3 END AS node_id_2 \n",
      "FROM \"INPUT_DATA\" AS \"ADS\"), \n",
      "\"DT_node_data_265\" AS \n",
      "(SELECT \"Values\".nid AS nid, \"Values\".\"P_0\" AS \"P_0\", \"Values\".\"P_1\" AS \"P_1\", \"Values\".\"D\" AS \"D\", \"Values\".\"DP\" AS \"DP\" \n",
      "FROM (SELECT 2 AS nid, 0.0 AS \"P_0\", 1.0 AS \"P_1\", 1 AS \"D\", 1.0 AS \"DP\" UNION ALL SELECT 3 A \n",
      " ... \n",
      "  score_class_union.\"Score\" AS \"Score\", score_max.\"KEY\" AS \"KEY\", score_max.\"Score_no\" AS \"Score_no\", score_max.\"Score_yes\" AS \"Score_yes\", score_max.\"Proba_no\" AS \"Proba_no\", score_max.\"Proba_yes\" AS \"Proba_yes\", score_max.\"LogProba_no\" AS \"LogProba_no\", score_max.\"LogProba_yes\" AS \"LogProba_yes\", score_max.\"Decision\" AS \"Decision\", score_max.\"DecisionProba\" AS \"DecisionProba\", score_max.\"KEY_m\" AS \"KEY_m\", score_max.\"max_Proba\" AS \"max_Proba\" \n",
      "FROM score_class_union LEFT OUTER JOIN score_max ON score_class_union.\"KEY_u\" = score_max.\"KEY\"), \n",
      "arg_max_cte AS \n",
      "(SELECT score_max.\"KEY\" AS \"KEY\", score_max.\"Score_no\" AS \"Score_no\", score_max.\"Score_yes\" AS \"Score_yes\", score_max.\"Proba_no\" AS \"Proba_no\", score_max.\"Proba_yes\" AS \"Proba_yes\", score_max.\"LogProba_no\" AS \"LogProba_no\", score_max.\"LogProba_yes\" AS \"LogProba_yes\", score_max.\"Decision\" AS \"Decision\", score_max.\"DecisionProba\" AS \"DecisionProba\", score_max.\"KEY_m\" AS \"KEY_m\", score_max.\"max_Proba\" AS \"max_Proba\", \"arg_max_t_Proba\".\"KEY_Proba\" AS \"KEY_Proba\", \"arg_max_t_Proba\".\"arg_max_Proba\" AS \"arg_max_Proba\" \n",
      "FROM score_max LEFT OUTER JOIN (SELECT union_with_max.\"KEY\" AS \"KEY_Proba\", max(union_with_max.class) AS \"arg_max_Proba\" \n",
      "FROM union_with_max \n",
      "WHERE union_with_max.\"max_Proba\" <= union_with_max.\"Proba\" GROUP BY union_with_max.\"KEY\") AS \"arg_max_t_Proba\" ON score_max.\"KEY\" = \"arg_max_t_Proba\".\"KEY_Proba\")\n",
      " SELECT arg_max_cte.\"KEY\" AS \"KEY\", arg_max_cte.\"Score_no\" AS \"Score_no\", arg_max_cte.\"Score_yes\" AS \"Score_yes\", arg_max_cte.\"Proba_no\" AS \"Proba_no\", arg_max_cte.\"Proba_yes\" AS \"Proba_yes\", CASE WHEN (arg_max_cte.\"Proba_no\" IS NULL OR arg_max_cte.\"Proba_no\" > 0.0) THEN ln(arg_max_cte.\"Proba_no\") ELSE -1.79769313486231e+308 END AS \"LogProba_no\", CASE WHEN (arg_max_cte.\"Proba_yes\" IS NULL OR arg_max_cte.\"Proba_yes\" > 0.0) THEN ln(arg_max_cte.\"Proba_yes\") ELSE -1.79769313486231e+308 END AS \"LogProba_yes\", arg_max_cte.\"arg_max_Proba\" AS \"Decision\", arg_max_cte.\"max_Proba\" AS \"DecisionProba\" \n",
      "FROM arg_max_cte \n"
     ]
    }
   ],
   "source": [
    "lModelSQL = test_ws_sql_gen(model)\n",
    "N = nchar(lModelSQL)\n",
    "L = 2000\n",
    "cat(substr(lModelSQL, 0, L) , \"\\n ... \\n\" , \n",
    "    substr(lModelSQL, N/2 - L/2, N/2 + L/2) , \"\\n ... \\n\" , \n",
    "    substr(lModelSQL, N-L, N), \"\\n\")\n"
   ]
  },
  {
   "cell_type": "markdown",
   "metadata": {},
   "source": [
    "# Execute the SQL Code"
   ]
  },
  {
   "cell_type": "code",
   "execution_count": 9,
   "metadata": {},
   "outputs": [
    {
     "data": {
      "text/html": [
       "0"
      ],
      "text/latex": [
       "0"
      ],
      "text/markdown": [
       "0"
      ],
      "text/plain": [
       "[1] 0"
      ]
     },
     "metadata": {},
     "output_type": "display_data"
    }
   ],
   "source": [
    "library(RODBC)\n",
    "conn = odbcConnect(\"pgsql\", uid=\"db\", pwd=\"db\", case=\"nochange\")\n",
    "odbcSetAutoCommit(conn , autoCommit = TRUE)"
   ]
  },
  {
   "cell_type": "code",
   "execution_count": 10,
   "metadata": {
    "scrolled": true
   },
   "outputs": [
    {
     "data": {
      "text/html": [
       "<table>\n",
       "<thead><tr><th scope=col>Feature_0</th><th scope=col>Feature_1</th><th scope=col>Feature_2</th><th scope=col>Feature_3</th><th scope=col>KEY</th></tr></thead>\n",
       "<tbody>\n",
       "\t<tr><td>5.1</td><td>3.5</td><td>1.4</td><td>0.2</td><td>1  </td></tr>\n",
       "\t<tr><td>4.9</td><td>3.0</td><td>1.4</td><td>0.2</td><td>2  </td></tr>\n",
       "\t<tr><td>4.7</td><td>3.2</td><td>1.3</td><td>0.2</td><td>3  </td></tr>\n",
       "\t<tr><td>4.6</td><td>3.1</td><td>1.5</td><td>0.2</td><td>4  </td></tr>\n",
       "\t<tr><td>5.0</td><td>3.6</td><td>1.4</td><td>0.2</td><td>5  </td></tr>\n",
       "\t<tr><td>5.4</td><td>3.9</td><td>1.7</td><td>0.4</td><td>6  </td></tr>\n",
       "</tbody>\n",
       "</table>\n"
      ],
      "text/latex": [
       "\\begin{tabular}{r|lllll}\n",
       " Feature\\_0 & Feature\\_1 & Feature\\_2 & Feature\\_3 & KEY\\\\\n",
       "\\hline\n",
       "\t 5.1 & 3.5 & 1.4 & 0.2 & 1  \\\\\n",
       "\t 4.9 & 3.0 & 1.4 & 0.2 & 2  \\\\\n",
       "\t 4.7 & 3.2 & 1.3 & 0.2 & 3  \\\\\n",
       "\t 4.6 & 3.1 & 1.5 & 0.2 & 4  \\\\\n",
       "\t 5.0 & 3.6 & 1.4 & 0.2 & 5  \\\\\n",
       "\t 5.4 & 3.9 & 1.7 & 0.4 & 6  \\\\\n",
       "\\end{tabular}\n"
      ],
      "text/markdown": [
       "\n",
       "Feature_0 | Feature_1 | Feature_2 | Feature_3 | KEY | \n",
       "|---|---|---|---|---|---|\n",
       "| 5.1 | 3.5 | 1.4 | 0.2 | 1   | \n",
       "| 4.9 | 3.0 | 1.4 | 0.2 | 2   | \n",
       "| 4.7 | 3.2 | 1.3 | 0.2 | 3   | \n",
       "| 4.6 | 3.1 | 1.5 | 0.2 | 4   | \n",
       "| 5.0 | 3.6 | 1.4 | 0.2 | 5   | \n",
       "| 5.4 | 3.9 | 1.7 | 0.4 | 6   | \n",
       "\n",
       "\n"
      ],
      "text/plain": [
       "  Feature_0 Feature_1 Feature_2 Feature_3 KEY\n",
       "1 5.1       3.5       1.4       0.2       1  \n",
       "2 4.9       3.0       1.4       0.2       2  \n",
       "3 4.7       3.2       1.3       0.2       3  \n",
       "4 4.6       3.1       1.5       0.2       4  \n",
       "5 5.0       3.6       1.4       0.2       5  \n",
       "6 5.4       3.9       1.7       0.4       6  "
      ]
     },
     "metadata": {},
     "output_type": "display_data"
    }
   ],
   "source": [
    "df_sql = as.data.frame(dataset)\n",
    "names(df_sql) = sprintf(\"Feature_%d\",0:(ncol(df_sql)-1))\n",
    "df_sql$KEY = seq.int(nrow(dataset))\n",
    "\n",
    "sqlDrop(conn , \"INPUT_DATA\" , errors = FALSE)\n",
    "sqlSave(conn, df_sql, tablename = \"INPUT_DATA\", verbose = FALSE)\n",
    "\n",
    "head(df_sql)"
   ]
  },
  {
   "cell_type": "code",
   "execution_count": 11,
   "metadata": {},
   "outputs": [],
   "source": [
    "# colnames(df_sql)\n",
    "# odbcGetInfo(conn)\n",
    "# sqlTables(conn)"
   ]
  },
  {
   "cell_type": "code",
   "execution_count": 12,
   "metadata": {},
   "outputs": [
    {
     "data": {
      "text/html": [
       "<table>\n",
       "<thead><tr><th scope=col>KEY</th><th scope=col>Score_no</th><th scope=col>Score_yes</th><th scope=col>Proba_no</th><th scope=col>Proba_yes</th><th scope=col>LogProba_no</th><th scope=col>LogProba_yes</th><th scope=col>Decision</th><th scope=col>DecisionProba</th></tr></thead>\n",
       "<tbody>\n",
       "\t<tr><td>116           </td><td>NA            </td><td>NA            </td><td>1             </td><td>0             </td><td>0             </td><td>-1.797693e+308</td><td>no            </td><td>1             </td></tr>\n",
       "\t<tr><td> 87           </td><td>NA            </td><td>NA            </td><td>1             </td><td>0             </td><td>0             </td><td>-1.797693e+308</td><td>no            </td><td>1             </td></tr>\n",
       "\t<tr><td> 71           </td><td>NA            </td><td>NA            </td><td>1             </td><td>0             </td><td>0             </td><td>-1.797693e+308</td><td>no            </td><td>1             </td></tr>\n",
       "\t<tr><td> 68           </td><td>NA            </td><td>NA            </td><td>1             </td><td>0             </td><td>0             </td><td>-1.797693e+308</td><td>no            </td><td>1             </td></tr>\n",
       "\t<tr><td> 51           </td><td>NA            </td><td>NA            </td><td>1             </td><td>0             </td><td>0             </td><td>-1.797693e+308</td><td>no            </td><td>1             </td></tr>\n",
       "\t<tr><td>146           </td><td>NA            </td><td>NA            </td><td>1             </td><td>0             </td><td>0             </td><td>-1.797693e+308</td><td>no            </td><td>1             </td></tr>\n",
       "</tbody>\n",
       "</table>\n"
      ],
      "text/latex": [
       "\\begin{tabular}{r|lllllllll}\n",
       " KEY & Score\\_no & Score\\_yes & Proba\\_no & Proba\\_yes & LogProba\\_no & LogProba\\_yes & Decision & DecisionProba\\\\\n",
       "\\hline\n",
       "\t 116            & NA             & NA             & 1              & 0              & 0              & -1.797693e+308 & no             & 1             \\\\\n",
       "\t  87            & NA             & NA             & 1              & 0              & 0              & -1.797693e+308 & no             & 1             \\\\\n",
       "\t  71            & NA             & NA             & 1              & 0              & 0              & -1.797693e+308 & no             & 1             \\\\\n",
       "\t  68            & NA             & NA             & 1              & 0              & 0              & -1.797693e+308 & no             & 1             \\\\\n",
       "\t  51            & NA             & NA             & 1              & 0              & 0              & -1.797693e+308 & no             & 1             \\\\\n",
       "\t 146            & NA             & NA             & 1              & 0              & 0              & -1.797693e+308 & no             & 1             \\\\\n",
       "\\end{tabular}\n"
      ],
      "text/markdown": [
       "\n",
       "KEY | Score_no | Score_yes | Proba_no | Proba_yes | LogProba_no | LogProba_yes | Decision | DecisionProba | \n",
       "|---|---|---|---|---|---|\n",
       "| 116            | NA             | NA             | 1              | 0              | 0              | -1.797693e+308 | no             | 1              | \n",
       "|  87            | NA             | NA             | 1              | 0              | 0              | -1.797693e+308 | no             | 1              | \n",
       "|  71            | NA             | NA             | 1              | 0              | 0              | -1.797693e+308 | no             | 1              | \n",
       "|  68            | NA             | NA             | 1              | 0              | 0              | -1.797693e+308 | no             | 1              | \n",
       "|  51            | NA             | NA             | 1              | 0              | 0              | -1.797693e+308 | no             | 1              | \n",
       "| 146            | NA             | NA             | 1              | 0              | 0              | -1.797693e+308 | no             | 1              | \n",
       "\n",
       "\n"
      ],
      "text/plain": [
       "  KEY Score_no Score_yes Proba_no Proba_yes LogProba_no LogProba_yes   Decision\n",
       "1 116 NA       NA        1        0         0           -1.797693e+308 no      \n",
       "2  87 NA       NA        1        0         0           -1.797693e+308 no      \n",
       "3  71 NA       NA        1        0         0           -1.797693e+308 no      \n",
       "4  68 NA       NA        1        0         0           -1.797693e+308 no      \n",
       "5  51 NA       NA        1        0         0           -1.797693e+308 no      \n",
       "6 146 NA       NA        1        0         0           -1.797693e+308 no      \n",
       "  DecisionProba\n",
       "1 1            \n",
       "2 1            \n",
       "3 1            \n",
       "4 1            \n",
       "5 1            \n",
       "6 1            "
      ]
     },
     "metadata": {},
     "output_type": "display_data"
    }
   ],
   "source": [
    "df_sql_out = sqlQuery(conn, lModelSQL)\n",
    "head(df_sql_out)"
   ]
  },
  {
   "cell_type": "code",
   "execution_count": 13,
   "metadata": {},
   "outputs": [],
   "source": [
    "# colnames(df1)"
   ]
  },
  {
   "cell_type": "markdown",
   "metadata": {},
   "source": [
    "# R CFOREST Output"
   ]
  },
  {
   "cell_type": "code",
   "execution_count": 14,
   "metadata": {},
   "outputs": [
    {
     "data": {
      "text/html": [
       "<table>\n",
       "<thead><tr><th scope=col>Proba_no</th><th scope=col>Proba_yes</th><th scope=col>KEY</th><th scope=col>Score_no</th><th scope=col>Score_yes</th><th scope=col>LogProba_no</th><th scope=col>LogProba_yes</th><th scope=col>Decision</th><th scope=col>DecisionProba</th></tr></thead>\n",
       "<tbody>\n",
       "\t<tr><td>0           </td><td>1           </td><td>1           </td><td>NA          </td><td>NA          </td><td>-Inf        </td><td>2.220446e-16</td><td>yes         </td><td>1           </td></tr>\n",
       "\t<tr><td>0           </td><td>1           </td><td>2           </td><td>NA          </td><td>NA          </td><td>-Inf        </td><td>2.220446e-16</td><td>yes         </td><td>1           </td></tr>\n",
       "\t<tr><td>0           </td><td>1           </td><td>3           </td><td>NA          </td><td>NA          </td><td>-Inf        </td><td>2.220446e-16</td><td>yes         </td><td>1           </td></tr>\n",
       "\t<tr><td>0           </td><td>1           </td><td>4           </td><td>NA          </td><td>NA          </td><td>-Inf        </td><td>2.220446e-16</td><td>yes         </td><td>1           </td></tr>\n",
       "\t<tr><td>0           </td><td>1           </td><td>5           </td><td>NA          </td><td>NA          </td><td>-Inf        </td><td>2.220446e-16</td><td>yes         </td><td>1           </td></tr>\n",
       "\t<tr><td>0           </td><td>1           </td><td>6           </td><td>NA          </td><td>NA          </td><td>-Inf        </td><td>2.220446e-16</td><td>yes         </td><td>1           </td></tr>\n",
       "</tbody>\n",
       "</table>\n"
      ],
      "text/latex": [
       "\\begin{tabular}{r|lllllllll}\n",
       " Proba\\_no & Proba\\_yes & KEY & Score\\_no & Score\\_yes & LogProba\\_no & LogProba\\_yes & Decision & DecisionProba\\\\\n",
       "\\hline\n",
       "\t 0            & 1            & 1            & NA           & NA           & -Inf         & 2.220446e-16 & yes          & 1           \\\\\n",
       "\t 0            & 1            & 2            & NA           & NA           & -Inf         & 2.220446e-16 & yes          & 1           \\\\\n",
       "\t 0            & 1            & 3            & NA           & NA           & -Inf         & 2.220446e-16 & yes          & 1           \\\\\n",
       "\t 0            & 1            & 4            & NA           & NA           & -Inf         & 2.220446e-16 & yes          & 1           \\\\\n",
       "\t 0            & 1            & 5            & NA           & NA           & -Inf         & 2.220446e-16 & yes          & 1           \\\\\n",
       "\t 0            & 1            & 6            & NA           & NA           & -Inf         & 2.220446e-16 & yes          & 1           \\\\\n",
       "\\end{tabular}\n"
      ],
      "text/markdown": [
       "\n",
       "Proba_no | Proba_yes | KEY | Score_no | Score_yes | LogProba_no | LogProba_yes | Decision | DecisionProba | \n",
       "|---|---|---|---|---|---|\n",
       "| 0            | 1            | 1            | NA           | NA           | -Inf         | 2.220446e-16 | yes          | 1            | \n",
       "| 0            | 1            | 2            | NA           | NA           | -Inf         | 2.220446e-16 | yes          | 1            | \n",
       "| 0            | 1            | 3            | NA           | NA           | -Inf         | 2.220446e-16 | yes          | 1            | \n",
       "| 0            | 1            | 4            | NA           | NA           | -Inf         | 2.220446e-16 | yes          | 1            | \n",
       "| 0            | 1            | 5            | NA           | NA           | -Inf         | 2.220446e-16 | yes          | 1            | \n",
       "| 0            | 1            | 6            | NA           | NA           | -Inf         | 2.220446e-16 | yes          | 1            | \n",
       "\n",
       "\n"
      ],
      "text/plain": [
       "  Proba_no Proba_yes KEY Score_no Score_yes LogProba_no LogProba_yes Decision\n",
       "1 0        1         1   NA       NA        -Inf        2.220446e-16 yes     \n",
       "2 0        1         2   NA       NA        -Inf        2.220446e-16 yes     \n",
       "3 0        1         3   NA       NA        -Inf        2.220446e-16 yes     \n",
       "4 0        1         4   NA       NA        -Inf        2.220446e-16 yes     \n",
       "5 0        1         5   NA       NA        -Inf        2.220446e-16 yes     \n",
       "6 0        1         6   NA       NA        -Inf        2.220446e-16 yes     \n",
       "  DecisionProba\n",
       "1 1            \n",
       "2 1            \n",
       "3 1            \n",
       "4 1            \n",
       "5 1            \n",
       "6 1            "
      ]
     },
     "metadata": {},
     "output_type": "display_data"
    }
   ],
   "source": [
    "pred  =  predict(model, as.matrix(dataset), type = \"prob\")\n",
    "# pred <- matrix(pred , ncol=3, byrow=TRUE)\n",
    "# p0 = 1 - pred\n",
    "df_r_out = data.frame(pred)\n",
    "names(df_r_out) = sprintf(\"Proba_%s\",model$levels)\n",
    "\n",
    "df_r_out$KEY = seq.int(nrow(dataset))\n",
    "df_r_out$Score_no  =  NA\n",
    "df_r_out$Score_yes  =  NA\n",
    "df_r_out$LogProba_no  =  log(df_r_out$Proba_no)\n",
    "df_r_out$LogProba_yes  =  log(df_r_out$Proba_yes)\n",
    "df_r_out$Decision =   predict(model, as.matrix(dataset), type = \"raw\")\n",
    "df_r_out$DecisionProba =  apply(pred, 1, function(x) max(x))\n",
    "head(df_r_out)\n"
   ]
  },
  {
   "cell_type": "code",
   "execution_count": 15,
   "metadata": {},
   "outputs": [],
   "source": [
    "# df_r_out"
   ]
  },
  {
   "cell_type": "markdown",
   "metadata": {},
   "source": [
    "# Compare R and SQL output"
   ]
  },
  {
   "cell_type": "code",
   "execution_count": 16,
   "metadata": {},
   "outputs": [
    {
     "data": {
      "text/html": [
       "<table>\n",
       "<thead><tr><th scope=col>KEY</th><th scope=col>Proba_no_1</th><th scope=col>Proba_yes_1</th><th scope=col>Score_no_1</th><th scope=col>Score_yes_1</th><th scope=col>LogProba_no_1</th><th scope=col>LogProba_yes_1</th><th scope=col>Decision_1</th><th scope=col>DecisionProba_1</th><th scope=col>Score_no_2</th><th scope=col>Score_yes_2</th><th scope=col>Proba_no_2</th><th scope=col>Proba_yes_2</th><th scope=col>LogProba_no_2</th><th scope=col>LogProba_yes_2</th><th scope=col>Decision_2</th><th scope=col>DecisionProba_2</th></tr></thead>\n",
       "<tbody>\n",
       "\t<tr><td>1             </td><td>0             </td><td>1             </td><td>NA            </td><td>NA            </td><td>-Inf          </td><td>2.220446e-16  </td><td>yes           </td><td>1             </td><td>NA            </td><td>NA            </td><td>0             </td><td>1             </td><td>-1.797693e+308</td><td>0             </td><td>yes           </td><td>1             </td></tr>\n",
       "\t<tr><td>2             </td><td>0             </td><td>1             </td><td>NA            </td><td>NA            </td><td>-Inf          </td><td>2.220446e-16  </td><td>yes           </td><td>1             </td><td>NA            </td><td>NA            </td><td>0             </td><td>1             </td><td>-1.797693e+308</td><td>0             </td><td>yes           </td><td>1             </td></tr>\n",
       "\t<tr><td>3             </td><td>0             </td><td>1             </td><td>NA            </td><td>NA            </td><td>-Inf          </td><td>2.220446e-16  </td><td>yes           </td><td>1             </td><td>NA            </td><td>NA            </td><td>0             </td><td>1             </td><td>-1.797693e+308</td><td>0             </td><td>yes           </td><td>1             </td></tr>\n",
       "\t<tr><td>4             </td><td>0             </td><td>1             </td><td>NA            </td><td>NA            </td><td>-Inf          </td><td>2.220446e-16  </td><td>yes           </td><td>1             </td><td>NA            </td><td>NA            </td><td>0             </td><td>1             </td><td>-1.797693e+308</td><td>0             </td><td>yes           </td><td>1             </td></tr>\n",
       "\t<tr><td>5             </td><td>0             </td><td>1             </td><td>NA            </td><td>NA            </td><td>-Inf          </td><td>2.220446e-16  </td><td>yes           </td><td>1             </td><td>NA            </td><td>NA            </td><td>0             </td><td>1             </td><td>-1.797693e+308</td><td>0             </td><td>yes           </td><td>1             </td></tr>\n",
       "\t<tr><td>6             </td><td>0             </td><td>1             </td><td>NA            </td><td>NA            </td><td>-Inf          </td><td>2.220446e-16  </td><td>yes           </td><td>1             </td><td>NA            </td><td>NA            </td><td>0             </td><td>1             </td><td>-1.797693e+308</td><td>0             </td><td>yes           </td><td>1             </td></tr>\n",
       "</tbody>\n",
       "</table>\n"
      ],
      "text/latex": [
       "\\begin{tabular}{r|lllllllllllllllll}\n",
       " KEY & Proba\\_no\\_1 & Proba\\_yes\\_1 & Score\\_no\\_1 & Score\\_yes\\_1 & LogProba\\_no\\_1 & LogProba\\_yes\\_1 & Decision\\_1 & DecisionProba\\_1 & Score\\_no\\_2 & Score\\_yes\\_2 & Proba\\_no\\_2 & Proba\\_yes\\_2 & LogProba\\_no\\_2 & LogProba\\_yes\\_2 & Decision\\_2 & DecisionProba\\_2\\\\\n",
       "\\hline\n",
       "\t 1              & 0              & 1              & NA             & NA             & -Inf           & 2.220446e-16   & yes            & 1              & NA             & NA             & 0              & 1              & -1.797693e+308 & 0              & yes            & 1             \\\\\n",
       "\t 2              & 0              & 1              & NA             & NA             & -Inf           & 2.220446e-16   & yes            & 1              & NA             & NA             & 0              & 1              & -1.797693e+308 & 0              & yes            & 1             \\\\\n",
       "\t 3              & 0              & 1              & NA             & NA             & -Inf           & 2.220446e-16   & yes            & 1              & NA             & NA             & 0              & 1              & -1.797693e+308 & 0              & yes            & 1             \\\\\n",
       "\t 4              & 0              & 1              & NA             & NA             & -Inf           & 2.220446e-16   & yes            & 1              & NA             & NA             & 0              & 1              & -1.797693e+308 & 0              & yes            & 1             \\\\\n",
       "\t 5              & 0              & 1              & NA             & NA             & -Inf           & 2.220446e-16   & yes            & 1              & NA             & NA             & 0              & 1              & -1.797693e+308 & 0              & yes            & 1             \\\\\n",
       "\t 6              & 0              & 1              & NA             & NA             & -Inf           & 2.220446e-16   & yes            & 1              & NA             & NA             & 0              & 1              & -1.797693e+308 & 0              & yes            & 1             \\\\\n",
       "\\end{tabular}\n"
      ],
      "text/markdown": [
       "\n",
       "KEY | Proba_no_1 | Proba_yes_1 | Score_no_1 | Score_yes_1 | LogProba_no_1 | LogProba_yes_1 | Decision_1 | DecisionProba_1 | Score_no_2 | Score_yes_2 | Proba_no_2 | Proba_yes_2 | LogProba_no_2 | LogProba_yes_2 | Decision_2 | DecisionProba_2 | \n",
       "|---|---|---|---|---|---|\n",
       "| 1              | 0              | 1              | NA             | NA             | -Inf           | 2.220446e-16   | yes            | 1              | NA             | NA             | 0              | 1              | -1.797693e+308 | 0              | yes            | 1              | \n",
       "| 2              | 0              | 1              | NA             | NA             | -Inf           | 2.220446e-16   | yes            | 1              | NA             | NA             | 0              | 1              | -1.797693e+308 | 0              | yes            | 1              | \n",
       "| 3              | 0              | 1              | NA             | NA             | -Inf           | 2.220446e-16   | yes            | 1              | NA             | NA             | 0              | 1              | -1.797693e+308 | 0              | yes            | 1              | \n",
       "| 4              | 0              | 1              | NA             | NA             | -Inf           | 2.220446e-16   | yes            | 1              | NA             | NA             | 0              | 1              | -1.797693e+308 | 0              | yes            | 1              | \n",
       "| 5              | 0              | 1              | NA             | NA             | -Inf           | 2.220446e-16   | yes            | 1              | NA             | NA             | 0              | 1              | -1.797693e+308 | 0              | yes            | 1              | \n",
       "| 6              | 0              | 1              | NA             | NA             | -Inf           | 2.220446e-16   | yes            | 1              | NA             | NA             | 0              | 1              | -1.797693e+308 | 0              | yes            | 1              | \n",
       "\n",
       "\n"
      ],
      "text/plain": [
       "  KEY Proba_no_1 Proba_yes_1 Score_no_1 Score_yes_1 LogProba_no_1\n",
       "1 1   0          1           NA         NA          -Inf         \n",
       "2 2   0          1           NA         NA          -Inf         \n",
       "3 3   0          1           NA         NA          -Inf         \n",
       "4 4   0          1           NA         NA          -Inf         \n",
       "5 5   0          1           NA         NA          -Inf         \n",
       "6 6   0          1           NA         NA          -Inf         \n",
       "  LogProba_yes_1 Decision_1 DecisionProba_1 Score_no_2 Score_yes_2 Proba_no_2\n",
       "1 2.220446e-16   yes        1               NA         NA          0         \n",
       "2 2.220446e-16   yes        1               NA         NA          0         \n",
       "3 2.220446e-16   yes        1               NA         NA          0         \n",
       "4 2.220446e-16   yes        1               NA         NA          0         \n",
       "5 2.220446e-16   yes        1               NA         NA          0         \n",
       "6 2.220446e-16   yes        1               NA         NA          0         \n",
       "  Proba_yes_2 LogProba_no_2  LogProba_yes_2 Decision_2 DecisionProba_2\n",
       "1 1           -1.797693e+308 0              yes        1              \n",
       "2 1           -1.797693e+308 0              yes        1              \n",
       "3 1           -1.797693e+308 0              yes        1              \n",
       "4 1           -1.797693e+308 0              yes        1              \n",
       "5 1           -1.797693e+308 0              yes        1              \n",
       "6 1           -1.797693e+308 0              yes        1              "
      ]
     },
     "metadata": {},
     "output_type": "display_data"
    }
   ],
   "source": [
    "df_merge = merge(x = df_r_out, y = df_sql_out, by = \"KEY\", all = TRUE, , suffixes = c(\"_1\",\"_2\"))\n",
    "head(df_merge)"
   ]
  },
  {
   "cell_type": "code",
   "execution_count": null,
   "metadata": {},
   "outputs": [],
   "source": []
  },
  {
   "cell_type": "code",
   "execution_count": 17,
   "metadata": {},
   "outputs": [
    {
     "data": {
      "text/html": [
       "<table>\n",
       "<thead><tr><th scope=col>KEY</th><th scope=col>Proba_no_1</th><th scope=col>Proba_yes_1</th><th scope=col>Score_no_1</th><th scope=col>Score_yes_1</th><th scope=col>LogProba_no_1</th><th scope=col>LogProba_yes_1</th><th scope=col>Decision_1</th><th scope=col>DecisionProba_1</th><th scope=col>Score_no_2</th><th scope=col>Score_yes_2</th><th scope=col>Proba_no_2</th><th scope=col>Proba_yes_2</th><th scope=col>LogProba_no_2</th><th scope=col>LogProba_yes_2</th><th scope=col>Decision_2</th><th scope=col>DecisionProba_2</th></tr></thead>\n",
       "<tbody>\n",
       "</tbody>\n",
       "</table>\n"
      ],
      "text/latex": [
       "\\begin{tabular}{r|lllllllllllllllll}\n",
       " KEY & Proba\\_no\\_1 & Proba\\_yes\\_1 & Score\\_no\\_1 & Score\\_yes\\_1 & LogProba\\_no\\_1 & LogProba\\_yes\\_1 & Decision\\_1 & DecisionProba\\_1 & Score\\_no\\_2 & Score\\_yes\\_2 & Proba\\_no\\_2 & Proba\\_yes\\_2 & LogProba\\_no\\_2 & LogProba\\_yes\\_2 & Decision\\_2 & DecisionProba\\_2\\\\\n",
       "\\hline\n",
       "\\end{tabular}\n"
      ],
      "text/markdown": [
       "\n",
       "KEY | Proba_no_1 | Proba_yes_1 | Score_no_1 | Score_yes_1 | LogProba_no_1 | LogProba_yes_1 | Decision_1 | DecisionProba_1 | Score_no_2 | Score_yes_2 | Proba_no_2 | Proba_yes_2 | LogProba_no_2 | LogProba_yes_2 | Decision_2 | DecisionProba_2 | \n",
       "||\n",
       "\n",
       "\n"
      ],
      "text/plain": [
       "     KEY Proba_no_1 Proba_yes_1 Score_no_1 Score_yes_1 LogProba_no_1\n",
       "     LogProba_yes_1 Decision_1 DecisionProba_1 Score_no_2 Score_yes_2\n",
       "     Proba_no_2 Proba_yes_2 LogProba_no_2 LogProba_yes_2 Decision_2\n",
       "     DecisionProba_2"
      ]
     },
     "metadata": {},
     "output_type": "display_data"
    }
   ],
   "source": [
    "diffs_df = df_merge[df_merge$Decision_1 != df_merge$Decision_2,]\n",
    "head(diffs_df)"
   ]
  },
  {
   "cell_type": "code",
   "execution_count": 18,
   "metadata": {},
   "outputs": [],
   "source": [
    "stopifnot(nrow(diffs_df) == 0)"
   ]
  },
  {
   "cell_type": "code",
   "execution_count": null,
   "metadata": {},
   "outputs": [],
   "source": []
  },
  {
   "cell_type": "code",
   "execution_count": 19,
   "metadata": {},
   "outputs": [
    {
     "data": {
      "text/plain": [
       "      KEY         Score_no       Score_yes         Proba_no     \n",
       " Min.   :  1.00   Mode:logical   Mode:logical   Min.   :0.0000  \n",
       " 1st Qu.: 38.25   NA's:150       NA's:150       1st Qu.:0.0000  \n",
       " Median : 75.50                                 Median :1.0000  \n",
       " Mean   : 75.50                                 Mean   :0.6684  \n",
       " 3rd Qu.:112.75                                 3rd Qu.:1.0000  \n",
       " Max.   :150.00                                 Max.   :1.0000  \n",
       "   Proba_yes       LogProba_no           LogProba_yes         Decision \n",
       " Min.   :0.0000   Min.   :-1.798e+308   Min.   :-1.798e+308   no :100  \n",
       " 1st Qu.:0.0000   1st Qu.:-1.798e+308   1st Qu.:-1.798e+308   yes: 50  \n",
       " Median :0.0000   Median :  0.000e+00   Median :-1.798e+308            \n",
       " Mean   :0.3316   Mean   :-5.513e+307   Mean   :-1.198e+308            \n",
       " 3rd Qu.:1.0000   3rd Qu.:  0.000e+00   3rd Qu.:  0.000e+00            \n",
       " Max.   :1.0000   Max.   :  0.000e+00   Max.   :  0.000e+00            \n",
       " DecisionProba   \n",
       " Min.   :0.9121  \n",
       " 1st Qu.:1.0000  \n",
       " Median :1.0000  \n",
       " Mean   :0.9982  \n",
       " 3rd Qu.:1.0000  \n",
       " Max.   :1.0000  "
      ]
     },
     "metadata": {},
     "output_type": "display_data"
    }
   ],
   "source": [
    "summary(df_sql_out)"
   ]
  },
  {
   "cell_type": "code",
   "execution_count": 20,
   "metadata": {},
   "outputs": [
    {
     "data": {
      "text/plain": [
       "    Proba_no        Proba_yes           KEY         Score_no      \n",
       " Min.   :0.0000   Min.   :0.0000   Min.   :  1.00   Mode:logical  \n",
       " 1st Qu.:0.0000   1st Qu.:0.0000   1st Qu.: 38.25   NA's:150      \n",
       " Median :1.0000   Median :0.0000   Median : 75.50                 \n",
       " Mean   :0.6684   Mean   :0.3316   Mean   : 75.50                 \n",
       " 3rd Qu.:1.0000   3rd Qu.:1.0000   3rd Qu.:112.75                 \n",
       " Max.   :1.0000   Max.   :1.0000   Max.   :150.00                 \n",
       " Score_yes       LogProba_no        LogProba_yes      Decision \n",
       " Mode:logical   Min.   :    -Inf   Min.   :    -Inf   no :100  \n",
       " NA's:150       1st Qu.:    -Inf   1st Qu.:    -Inf   yes: 50  \n",
       "                Median :2.22e-16   Median :    -Inf            \n",
       "                Mean   :    -Inf   Mean   :    -Inf            \n",
       "                3rd Qu.:2.22e-16   3rd Qu.:2.22e-16            \n",
       "                Max.   :2.22e-16   Max.   :2.22e-16            \n",
       " DecisionProba   \n",
       " Min.   :0.9121  \n",
       " 1st Qu.:1.0000  \n",
       " Median :1.0000  \n",
       " Mean   :0.9982  \n",
       " 3rd Qu.:1.0000  \n",
       " Max.   :1.0000  "
      ]
     },
     "metadata": {},
     "output_type": "display_data"
    }
   ],
   "source": [
    "summary(df_r_out)"
   ]
  },
  {
   "cell_type": "code",
   "execution_count": null,
   "metadata": {},
   "outputs": [],
   "source": []
  }
 ],
 "metadata": {
  "kernelspec": {
   "display_name": "R",
   "language": "R",
   "name": "ir"
  },
  "language_info": {
   "codemirror_mode": "r",
   "file_extension": ".r",
   "mimetype": "text/x-r-source",
   "name": "R",
   "pygments_lexer": "r",
   "version": "3.5.1"
  }
 },
 "nbformat": 4,
 "nbformat_minor": 2
}
